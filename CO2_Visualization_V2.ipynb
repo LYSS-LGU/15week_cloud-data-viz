{
 "cells": [
  {
   "cell_type": "markdown",
   "metadata": {},
   "source": [
    "# 🌱 CO2 배출량 데이터 시각화\n",
    "## 환경 친화적 차량 분석 (간단 버전)\n",
    "작성일: 2025년 8월 19일"
   ]
  },
  {
   "cell_type": "code",
   "execution_count": 1,
   "metadata": {},
   "outputs": [
    {
     "name": "stdout",
     "output_type": "stream",
     "text": [
      "📦 라이브러리 로드 완료!\n"
     ]
    }
   ],
   "source": [
    "# 라이브러리 임포트\n",
    "import pandas as pd\n",
    "import plotly.express as px\n",
    "import plotly.graph_objects as go\n",
    "import numpy as np\n",
    "\n",
    "print(\"📦 라이브러리 로드 완료!\")"
   ]
  },
  {
   "cell_type": "code",
   "execution_count": 2,
   "metadata": {},
   "outputs": [
    {
     "name": "stdout",
     "output_type": "stream",
     "text": [
      "🌱 CO2 배출량 데이터 정보\n",
      "총 차량 수: 7,385대\n",
      "제조사 수: 42개\n",
      "평균 CO2 배출량: 250.6 g/km\n"
     ]
    },
    {
     "data": {
      "application/vnd.microsoft.datawrangler.viewer.v0+json": {
       "columns": [
        {
         "name": "index",
         "rawType": "int64",
         "type": "integer"
        },
        {
         "name": "Make",
         "rawType": "object",
         "type": "string"
        },
        {
         "name": "Model",
         "rawType": "object",
         "type": "string"
        },
        {
         "name": "Vehicle Class",
         "rawType": "object",
         "type": "string"
        },
        {
         "name": "Engine Size(L)",
         "rawType": "float64",
         "type": "float"
        },
        {
         "name": "Cylinders",
         "rawType": "int64",
         "type": "integer"
        },
        {
         "name": "Transmission",
         "rawType": "object",
         "type": "string"
        },
        {
         "name": "Fuel Type",
         "rawType": "object",
         "type": "string"
        },
        {
         "name": "Fuel Consumption City (L/100 km)",
         "rawType": "float64",
         "type": "float"
        },
        {
         "name": "Fuel Consumption Hwy (L/100 km)",
         "rawType": "float64",
         "type": "float"
        },
        {
         "name": "Fuel Consumption Comb (L/100 km)",
         "rawType": "float64",
         "type": "float"
        },
        {
         "name": "Fuel Consumption Comb (mpg)",
         "rawType": "int64",
         "type": "integer"
        },
        {
         "name": "CO2 Emissions(g/km)",
         "rawType": "int64",
         "type": "integer"
        }
       ],
       "ref": "693db7bb-c344-4e97-915c-041679de3e99",
       "rows": [
        [
         "0",
         "ACURA",
         "ILX",
         "COMPACT",
         "2.0",
         "4",
         "AS5",
         "Z",
         "9.9",
         "6.7",
         "8.5",
         "33",
         "196"
        ],
        [
         "1",
         "ACURA",
         "ILX",
         "COMPACT",
         "2.4",
         "4",
         "M6",
         "Z",
         "11.2",
         "7.7",
         "9.6",
         "29",
         "221"
        ],
        [
         "2",
         "ACURA",
         "ILX HYBRID",
         "COMPACT",
         "1.5",
         "4",
         "AV7",
         "Z",
         "6.0",
         "5.8",
         "5.9",
         "48",
         "136"
        ],
        [
         "3",
         "ACURA",
         "MDX 4WD",
         "SUV - SMALL",
         "3.5",
         "6",
         "AS6",
         "Z",
         "12.7",
         "9.1",
         "11.1",
         "25",
         "255"
        ],
        [
         "4",
         "ACURA",
         "RDX AWD",
         "SUV - SMALL",
         "3.5",
         "6",
         "AS6",
         "Z",
         "12.1",
         "8.7",
         "10.6",
         "27",
         "244"
        ]
       ],
       "shape": {
        "columns": 12,
        "rows": 5
       }
      },
      "text/html": [
       "<div>\n",
       "<style scoped>\n",
       "    .dataframe tbody tr th:only-of-type {\n",
       "        vertical-align: middle;\n",
       "    }\n",
       "\n",
       "    .dataframe tbody tr th {\n",
       "        vertical-align: top;\n",
       "    }\n",
       "\n",
       "    .dataframe thead th {\n",
       "        text-align: right;\n",
       "    }\n",
       "</style>\n",
       "<table border=\"1\" class=\"dataframe\">\n",
       "  <thead>\n",
       "    <tr style=\"text-align: right;\">\n",
       "      <th></th>\n",
       "      <th>Make</th>\n",
       "      <th>Model</th>\n",
       "      <th>Vehicle Class</th>\n",
       "      <th>Engine Size(L)</th>\n",
       "      <th>Cylinders</th>\n",
       "      <th>Transmission</th>\n",
       "      <th>Fuel Type</th>\n",
       "      <th>Fuel Consumption City (L/100 km)</th>\n",
       "      <th>Fuel Consumption Hwy (L/100 km)</th>\n",
       "      <th>Fuel Consumption Comb (L/100 km)</th>\n",
       "      <th>Fuel Consumption Comb (mpg)</th>\n",
       "      <th>CO2 Emissions(g/km)</th>\n",
       "    </tr>\n",
       "  </thead>\n",
       "  <tbody>\n",
       "    <tr>\n",
       "      <th>0</th>\n",
       "      <td>ACURA</td>\n",
       "      <td>ILX</td>\n",
       "      <td>COMPACT</td>\n",
       "      <td>2.0</td>\n",
       "      <td>4</td>\n",
       "      <td>AS5</td>\n",
       "      <td>Z</td>\n",
       "      <td>9.9</td>\n",
       "      <td>6.7</td>\n",
       "      <td>8.5</td>\n",
       "      <td>33</td>\n",
       "      <td>196</td>\n",
       "    </tr>\n",
       "    <tr>\n",
       "      <th>1</th>\n",
       "      <td>ACURA</td>\n",
       "      <td>ILX</td>\n",
       "      <td>COMPACT</td>\n",
       "      <td>2.4</td>\n",
       "      <td>4</td>\n",
       "      <td>M6</td>\n",
       "      <td>Z</td>\n",
       "      <td>11.2</td>\n",
       "      <td>7.7</td>\n",
       "      <td>9.6</td>\n",
       "      <td>29</td>\n",
       "      <td>221</td>\n",
       "    </tr>\n",
       "    <tr>\n",
       "      <th>2</th>\n",
       "      <td>ACURA</td>\n",
       "      <td>ILX HYBRID</td>\n",
       "      <td>COMPACT</td>\n",
       "      <td>1.5</td>\n",
       "      <td>4</td>\n",
       "      <td>AV7</td>\n",
       "      <td>Z</td>\n",
       "      <td>6.0</td>\n",
       "      <td>5.8</td>\n",
       "      <td>5.9</td>\n",
       "      <td>48</td>\n",
       "      <td>136</td>\n",
       "    </tr>\n",
       "    <tr>\n",
       "      <th>3</th>\n",
       "      <td>ACURA</td>\n",
       "      <td>MDX 4WD</td>\n",
       "      <td>SUV - SMALL</td>\n",
       "      <td>3.5</td>\n",
       "      <td>6</td>\n",
       "      <td>AS6</td>\n",
       "      <td>Z</td>\n",
       "      <td>12.7</td>\n",
       "      <td>9.1</td>\n",
       "      <td>11.1</td>\n",
       "      <td>25</td>\n",
       "      <td>255</td>\n",
       "    </tr>\n",
       "    <tr>\n",
       "      <th>4</th>\n",
       "      <td>ACURA</td>\n",
       "      <td>RDX AWD</td>\n",
       "      <td>SUV - SMALL</td>\n",
       "      <td>3.5</td>\n",
       "      <td>6</td>\n",
       "      <td>AS6</td>\n",
       "      <td>Z</td>\n",
       "      <td>12.1</td>\n",
       "      <td>8.7</td>\n",
       "      <td>10.6</td>\n",
       "      <td>27</td>\n",
       "      <td>244</td>\n",
       "    </tr>\n",
       "  </tbody>\n",
       "</table>\n",
       "</div>"
      ],
      "text/plain": [
       "    Make       Model Vehicle Class  Engine Size(L)  Cylinders Transmission  \\\n",
       "0  ACURA         ILX       COMPACT             2.0          4          AS5   \n",
       "1  ACURA         ILX       COMPACT             2.4          4           M6   \n",
       "2  ACURA  ILX HYBRID       COMPACT             1.5          4          AV7   \n",
       "3  ACURA     MDX 4WD   SUV - SMALL             3.5          6          AS6   \n",
       "4  ACURA     RDX AWD   SUV - SMALL             3.5          6          AS6   \n",
       "\n",
       "  Fuel Type  Fuel Consumption City (L/100 km)  \\\n",
       "0         Z                               9.9   \n",
       "1         Z                              11.2   \n",
       "2         Z                               6.0   \n",
       "3         Z                              12.7   \n",
       "4         Z                              12.1   \n",
       "\n",
       "   Fuel Consumption Hwy (L/100 km)  Fuel Consumption Comb (L/100 km)  \\\n",
       "0                              6.7                               8.5   \n",
       "1                              7.7                               9.6   \n",
       "2                              5.8                               5.9   \n",
       "3                              9.1                              11.1   \n",
       "4                              8.7                              10.6   \n",
       "\n",
       "   Fuel Consumption Comb (mpg)  CO2 Emissions(g/km)  \n",
       "0                           33                  196  \n",
       "1                           29                  221  \n",
       "2                           48                  136  \n",
       "3                           25                  255  \n",
       "4                           27                  244  "
      ]
     },
     "execution_count": 2,
     "metadata": {},
     "output_type": "execute_result"
    }
   ],
   "source": [
    "# 데이터 로드\n",
    "co2_data = pd.read_csv(\"dataset/CO2_Emissions.csv\")\n",
    "\n",
    "print(\"🌱 CO2 배출량 데이터 정보\")\n",
    "print(f\"총 차량 수: {len(co2_data):,}대\")\n",
    "print(f\"제조사 수: {co2_data['Make'].nunique()}개\")\n",
    "print(f\"평균 CO2 배출량: {co2_data['CO2 Emissions(g/km)'].mean():.1f} g/km\")\n",
    "\n",
    "co2_data.head()"
   ]
  },
  {
   "cell_type": "markdown",
   "metadata": {},
   "source": [
    "## 🌟 시각화 1: 버블 차트 - 엔진 크기 vs CO2 배출량"
   ]
  },
  {
   "cell_type": "code",
   "execution_count": 3,
   "metadata": {},
   "outputs": [
    {
     "data": {
      "application/vnd.plotly.v1+json": {
       "config": {
        "plotlyServerURL": "https://plot.ly"
       },
       "data": [
        {
         "customdata": [
          [
           "A4",
           "COMPACT"
          ],
          [
           "A4 QUATTRO",
           "COMPACT"
          ],
          [
           "A4 QUATTRO",
           "COMPACT"
          ],
          [
           "A5 CABRIOLET QUATTRO",
           "SUBCOMPACT"
          ],
          [
           "A5 QUATTRO",
           "SUBCOMPACT"
          ],
          [
           "A5 QUATTRO",
           "SUBCOMPACT"
          ],
          [
           "A6 QUATTRO",
           "MID-SIZE"
          ],
          [
           "A6 QUATTRO",
           "MID-SIZE"
          ],
          [
           "A6 QUATTRO TDI (modified)",
           "MID-SIZE"
          ],
          [
           "A7 QUATTRO",
           "MID-SIZE"
          ],
          [
           "A7 QUATTRO TDI (modified)",
           "MID-SIZE"
          ],
          [
           "A8",
           "MID-SIZE"
          ],
          [
           "A8",
           "MID-SIZE"
          ],
          [
           "A8 TDI (modified)",
           "MID-SIZE"
          ],
          [
           "A8L",
           "FULL-SIZE"
          ],
          [
           "A8L",
           "FULL-SIZE"
          ],
          [
           "A8L",
           "FULL-SIZE"
          ],
          [
           "A8L TDI (modified)",
           "FULL-SIZE"
          ],
          [
           "ALLROAD QUATTRO",
           "STATION WAGON - SMALL"
          ],
          [
           "Q5",
           "SUV - SMALL"
          ],
          [
           "Q5",
           "SUV - SMALL"
          ],
          [
           "Q5 TDI (modified)",
           "SUV - SMALL"
          ],
          [
           "Q5 HYBRID",
           "SUV - SMALL"
          ],
          [
           "Q7",
           "SUV - STANDARD"
          ],
          [
           "Q7 TDI (modified)",
           "SUV - STANDARD"
          ],
          [
           "R8",
           "TWO-SEATER"
          ],
          [
           "R8",
           "TWO-SEATER"
          ],
          [
           "R8",
           "TWO-SEATER"
          ],
          [
           "R8",
           "TWO-SEATER"
          ],
          [
           "R8 SPYDER",
           "TWO-SEATER"
          ],
          [
           "R8 SPYDER",
           "TWO-SEATER"
          ],
          [
           "R8 SPYDER",
           "TWO-SEATER"
          ],
          [
           "R8 SPYDER",
           "TWO-SEATER"
          ],
          [
           "RS 5",
           "SUBCOMPACT"
          ],
          [
           "RS 5 CABRIOLET",
           "SUBCOMPACT"
          ],
          [
           "RS 7",
           "MID-SIZE"
          ],
          [
           "S4",
           "COMPACT"
          ],
          [
           "S4",
           "COMPACT"
          ],
          [
           "S5",
           "SUBCOMPACT"
          ],
          [
           "S5",
           "SUBCOMPACT"
          ],
          [
           "S5 CABRIOLET",
           "SUBCOMPACT"
          ],
          [
           "S6",
           "MID-SIZE"
          ],
          [
           "S7",
           "MID-SIZE"
          ],
          [
           "S8",
           "MID-SIZE"
          ],
          [
           "SQ5",
           "SUV - SMALL"
          ],
          [
           "TT COUPE QUATTRO",
           "SUBCOMPACT"
          ],
          [
           "TT ROADSTER QUATTRO",
           "TWO-SEATER"
          ],
          [
           "TTS COUPE QUATTRO",
           "SUBCOMPACT"
          ],
          [
           "TTS ROADSTER QUATTRO",
           "TWO-SEATER"
          ],
          [
           "A3",
           "SUBCOMPACT"
          ],
          [
           "A3 TDI (modified)",
           "SUBCOMPACT"
          ],
          [
           "A3 QUATTRO",
           "SUBCOMPACT"
          ],
          [
           "A3 CABRIOLET QUATTRO",
           "SUBCOMPACT"
          ],
          [
           "A4",
           "COMPACT"
          ],
          [
           "A4 QUATTRO",
           "COMPACT"
          ],
          [
           "A4 QUATTRO",
           "COMPACT"
          ],
          [
           "A4 ALLROAD QUATTRO",
           "STATION WAGON - SMALL"
          ],
          [
           "A5 QUATTRO",
           "SUBCOMPACT"
          ],
          [
           "A5 QUATTRO",
           "SUBCOMPACT"
          ],
          [
           "A5 CABRIOLET QUATTRO",
           "SUBCOMPACT"
          ],
          [
           "A6 QUATTRO",
           "MID-SIZE"
          ],
          [
           "A6 QUATTRO",
           "MID-SIZE"
          ],
          [
           "A6 QUATTRO TDI (modified)",
           "MID-SIZE"
          ],
          [
           "A7 QUATTRO",
           "MID-SIZE"
          ],
          [
           "A7 QUATTRO TDI (modified)",
           "MID-SIZE"
          ],
          [
           "A8",
           "MID-SIZE"
          ],
          [
           "A8",
           "MID-SIZE"
          ],
          [
           "A8 TDI (modified)",
           "MID-SIZE"
          ],
          [
           "A8L",
           "FULL-SIZE"
          ],
          [
           "A8L",
           "FULL-SIZE"
          ],
          [
           "A8L",
           "FULL-SIZE"
          ],
          [
           "A8L TDI (modified)",
           "FULL-SIZE"
          ],
          [
           "Q3",
           "COMPACT"
          ],
          [
           "Q3 QUATTRO",
           "COMPACT"
          ],
          [
           "Q5",
           "SUV - SMALL"
          ],
          [
           "Q5",
           "SUV - SMALL"
          ],
          [
           "Q5 TDI (modified)",
           "SUV - SMALL"
          ],
          [
           "Q5 HYBRID",
           "SUV - SMALL"
          ],
          [
           "Q7",
           "SUV - STANDARD"
          ],
          [
           "Q7 TDI (modified)",
           "SUV - STANDARD"
          ],
          [
           "R8",
           "TWO-SEATER"
          ],
          [
           "R8",
           "TWO-SEATER"
          ],
          [
           "R8",
           "TWO-SEATER"
          ],
          [
           "R8",
           "TWO-SEATER"
          ],
          [
           "R8 SPYDER",
           "TWO-SEATER"
          ],
          [
           "R8 SPYDER",
           "TWO-SEATER"
          ],
          [
           "R8 SPYDER",
           "TWO-SEATER"
          ],
          [
           "R8 SPYDER",
           "TWO-SEATER"
          ],
          [
           "RS 5",
           "SUBCOMPACT"
          ],
          [
           "RS 5 CABRIOLET",
           "SUBCOMPACT"
          ],
          [
           "RS 7",
           "MID-SIZE"
          ],
          [
           "S3",
           "SUBCOMPACT"
          ],
          [
           "S4",
           "COMPACT"
          ],
          [
           "S4",
           "COMPACT"
          ],
          [
           "S5",
           "SUBCOMPACT"
          ],
          [
           "S5",
           "SUBCOMPACT"
          ],
          [
           "S5 CABRIOLET",
           "SUBCOMPACT"
          ],
          [
           "S6",
           "MID-SIZE"
          ],
          [
           "S7",
           "MID-SIZE"
          ],
          [
           "S8",
           "MID-SIZE"
          ],
          [
           "SQ5",
           "SUV - SMALL"
          ],
          [
           "TT COUPE QUATTRO",
           "SUBCOMPACT"
          ],
          [
           "TT ROADSTER QUATTRO",
           "TWO-SEATER"
          ],
          [
           "TTS COUPE QUATTRO",
           "SUBCOMPACT"
          ],
          [
           "TTS ROADSTER QUATTRO",
           "TWO-SEATER"
          ],
          [
           "A3",
           "SUBCOMPACT"
          ],
          [
           "A3 QUATTRO",
           "SUBCOMPACT"
          ],
          [
           "A3 CABRIOLET QUATTRO",
           "SUBCOMPACT"
          ],
          [
           "A4",
           "COMPACT"
          ],
          [
           "A4 QUATTRO",
           "COMPACT"
          ],
          [
           "A4 QUATTRO",
           "COMPACT"
          ],
          [
           "A4 ALLROAD QUATTRO",
           "STATION WAGON - SMALL"
          ],
          [
           "A5 QUATTRO",
           "SUBCOMPACT"
          ],
          [
           "A5 QUATTRO",
           "SUBCOMPACT"
          ],
          [
           "A5 CABRIOLET QUATTRO",
           "SUBCOMPACT"
          ],
          [
           "A6 QUATTRO",
           "MID-SIZE"
          ],
          [
           "A6 QUATTRO",
           "MID-SIZE"
          ],
          [
           "A6 QUATTRO TDI (modified)",
           "MID-SIZE"
          ],
          [
           "A7 QUATTRO",
           "MID-SIZE"
          ],
          [
           "A7 QUATTRO TDI (modified)",
           "MID-SIZE"
          ],
          [
           "A8 QUATTRO",
           "MID-SIZE"
          ],
          [
           "A8 QUATTRO",
           "MID-SIZE"
          ],
          [
           "A8 QUATTRO TDI (modified)",
           "MID-SIZE"
          ],
          [
           "A8L QUATTRO",
           "FULL-SIZE"
          ],
          [
           "A8L QUATTRO",
           "FULL-SIZE"
          ],
          [
           "Q3",
           "COMPACT"
          ],
          [
           "Q3 QUATTRO",
           "COMPACT"
          ],
          [
           "Q5 QUATTRO",
           "SUV - SMALL"
          ],
          [
           "Q5 QUATTRO",
           "SUV - SMALL"
          ],
          [
           "Q5 QUATTRO TDI (modified)",
           "SUV - SMALL"
          ],
          [
           "Q5 HYBRID QUATTRO",
           "SUV - SMALL"
          ],
          [
           "RS 7 QUATTRO",
           "MID-SIZE"
          ],
          [
           "S3 QUATTRO",
           "SUBCOMPACT"
          ],
          [
           "S4 QUATTRO",
           "COMPACT"
          ],
          [
           "S4 QUATTRO",
           "COMPACT"
          ],
          [
           "S5 QUATTRO",
           "SUBCOMPACT"
          ],
          [
           "S5 QUATTRO",
           "SUBCOMPACT"
          ],
          [
           "S5 CABRIOLET QUATTRO",
           "SUBCOMPACT"
          ],
          [
           "S6 QUATTRO",
           "MID-SIZE"
          ],
          [
           "S7 QUATTRO",
           "MID-SIZE"
          ],
          [
           "S8 QUATTRO",
           "MID-SIZE"
          ],
          [
           "SQ5 QUATTRO",
           "SUV - SMALL"
          ],
          [
           "TT COUPE QUATTRO",
           "SUBCOMPACT"
          ],
          [
           "TT ROADSTER QUATTRO",
           "TWO-SEATER"
          ],
          [
           "TTS COUPE QUATTRO",
           "SUBCOMPACT"
          ],
          [
           "A3",
           "SUBCOMPACT"
          ],
          [
           "A3 QUATTRO",
           "SUBCOMPACT"
          ],
          [
           "A3 CABRIOLET QUATTRO",
           "SUBCOMPACT"
          ],
          [
           "A4 ULTRA",
           "COMPACT"
          ],
          [
           "A4 QUATTRO",
           "COMPACT"
          ],
          [
           "A4 QUATTRO",
           "COMPACT"
          ],
          [
           "A4 ALLROAD QUATTRO",
           "STATION WAGON - SMALL"
          ],
          [
           "A5 QUATTRO",
           "SUBCOMPACT"
          ],
          [
           "A5 QUATTRO",
           "SUBCOMPACT"
          ],
          [
           "A5 CABRIOLET QUATTRO",
           "SUBCOMPACT"
          ],
          [
           "A6 QUATTRO",
           "MID-SIZE"
          ],
          [
           "A6 QUATTRO",
           "MID-SIZE"
          ],
          [
           "A7 QUATTRO",
           "MID-SIZE"
          ],
          [
           "A8",
           "MID-SIZE"
          ],
          [
           "A8",
           "MID-SIZE"
          ],
          [
           "A8L",
           "FULL-SIZE"
          ],
          [
           "Q3",
           "COMPACT"
          ],
          [
           "Q3 QUATTRO",
           "COMPACT"
          ],
          [
           "Q5",
           "SUV - SMALL"
          ],
          [
           "Q5",
           "SUV - SMALL"
          ],
          [
           "Q7",
           "SUV - STANDARD"
          ],
          [
           "Q7",
           "SUV - STANDARD"
          ],
          [
           "R8",
           "TWO-SEATER"
          ],
          [
           "R8 SPYDER",
           "TWO-SEATER"
          ],
          [
           "RS 7",
           "MID-SIZE"
          ],
          [
           "S3",
           "SUBCOMPACT"
          ],
          [
           "S5",
           "SUBCOMPACT"
          ],
          [
           "S5",
           "SUBCOMPACT"
          ],
          [
           "S5 CABRIOLET",
           "SUBCOMPACT"
          ],
          [
           "S6",
           "MID-SIZE"
          ],
          [
           "S7",
           "MID-SIZE"
          ],
          [
           "S8",
           "MID-SIZE"
          ],
          [
           "SQ5",
           "SUV - SMALL"
          ],
          [
           "TT COUPE QUATTRO",
           "SUBCOMPACT"
          ],
          [
           "TT ROADSTER QUATTRO",
           "TWO-SEATER"
          ],
          [
           "TTS COUPE QUATTRO",
           "SUBCOMPACT"
          ],
          [
           "A3",
           "SUBCOMPACT"
          ],
          [
           "A3 QUATTRO",
           "SUBCOMPACT"
          ],
          [
           "A3 CABRIOLET QUATTRO",
           "SUBCOMPACT"
          ],
          [
           "A4",
           "COMPACT"
          ],
          [
           "A4 QUATTRO",
           "COMPACT"
          ],
          [
           "A4 QUATTRO",
           "COMPACT"
          ],
          [
           "A4 ALLROAD QUATTRO",
           "STATION WAGON - SMALL"
          ],
          [
           "A5 QUATTRO",
           "SUBCOMPACT"
          ],
          [
           "A5 QUATTRO",
           "SUBCOMPACT"
          ],
          [
           "A5 CABRIOLET QUATTRO",
           "SUBCOMPACT"
          ],
          [
           "A5 SPORTBACK QUATTRO",
           "MID-SIZE"
          ],
          [
           "A6 QUATTRO",
           "MID-SIZE"
          ],
          [
           "A6 QUATTRO",
           "MID-SIZE"
          ],
          [
           "A7 QUATTRO",
           "MID-SIZE"
          ],
          [
           "A8",
           "FULL-SIZE"
          ],
          [
           "A8",
           "FULL-SIZE"
          ],
          [
           "A8L",
           "FULL-SIZE"
          ],
          [
           "Q3",
           "COMPACT"
          ],
          [
           "Q3 QUATTRO",
           "COMPACT"
          ],
          [
           "Q5",
           "SUV - SMALL"
          ],
          [
           "Q7",
           "SUV - STANDARD"
          ],
          [
           "Q7",
           "SUV - STANDARD"
          ],
          [
           "R8",
           "TWO-SEATER"
          ],
          [
           "R8 QUATTRO",
           "TWO-SEATER"
          ],
          [
           "R8 SPYDER",
           "TWO-SEATER"
          ],
          [
           "RS 3",
           "SUBCOMPACT"
          ],
          [
           "RS 5",
           "SUBCOMPACT"
          ],
          [
           "RS 7",
           "MID-SIZE"
          ],
          [
           "S3",
           "SUBCOMPACT"
          ],
          [
           "S4",
           "COMPACT"
          ],
          [
           "S5",
           "SUBCOMPACT"
          ],
          [
           "S5 CABRIOLET",
           "SUBCOMPACT"
          ],
          [
           "S5 SPORTBACK",
           "MID-SIZE"
          ],
          [
           "S6",
           "MID-SIZE"
          ],
          [
           "S7",
           "MID-SIZE"
          ],
          [
           "S8",
           "MID-SIZE"
          ],
          [
           "SQ5",
           "SUV - SMALL"
          ],
          [
           "TT COUPE QUATTRO",
           "SUBCOMPACT"
          ],
          [
           "TT ROADSTER QUATTRO",
           "TWO-SEATER"
          ],
          [
           "TT RS",
           "SUBCOMPACT"
          ],
          [
           "TTS COUPE",
           "SUBCOMPACT"
          ],
          [
           "A3",
           "SUBCOMPACT"
          ],
          [
           "A3 quattro",
           "SUBCOMPACT"
          ],
          [
           "A3 Cabriolet quattro",
           "SUBCOMPACT"
          ],
          [
           "A4",
           "COMPACT"
          ],
          [
           "A4 quattro",
           "COMPACT"
          ],
          [
           "A4 allroad quattro",
           "STATION WAGON - SMALL"
          ],
          [
           "A5 quattro",
           "SUBCOMPACT"
          ],
          [
           "A5 Cabriolet quattro",
           "SUBCOMPACT"
          ],
          [
           "A5 Sportback quattro",
           "MID-SIZE"
          ],
          [
           "A6 quattro",
           "MID-SIZE"
          ],
          [
           "A7 quattro",
           "MID-SIZE"
          ],
          [
           "A8L",
           "FULL-SIZE"
          ],
          [
           "Q3 quattro",
           "SUV - SMALL"
          ],
          [
           "Q5",
           "SUV - SMALL"
          ],
          [
           "Q7",
           "SUV - STANDARD"
          ],
          [
           "Q7",
           "SUV - STANDARD"
          ],
          [
           "Q8",
           "SUV - STANDARD"
          ],
          [
           "RS 3",
           "SUBCOMPACT"
          ],
          [
           "RS 5 Coupe",
           "SUBCOMPACT"
          ],
          [
           "RS 5 Sportback",
           "MID-SIZE"
          ],
          [
           "S3",
           "SUBCOMPACT"
          ],
          [
           "S4",
           "COMPACT"
          ],
          [
           "S5",
           "SUBCOMPACT"
          ],
          [
           "S5 Cabriolet",
           "SUBCOMPACT"
          ],
          [
           "S5 Sportback",
           "MID-SIZE"
          ],
          [
           "SQ5",
           "SUV - SMALL"
          ],
          [
           "TT Coupe quattro",
           "SUBCOMPACT"
          ],
          [
           "TT Roadster quattro",
           "TWO-SEATER"
          ],
          [
           "TT RS Coupe",
           "SUBCOMPACT"
          ],
          [
           "TTS Coupe",
           "SUBCOMPACT"
          ],
          [
           "A3",
           "SUBCOMPACT"
          ],
          [
           "A3 quattro",
           "SUBCOMPACT"
          ],
          [
           "A3 Cabriolet quattro",
           "SUBCOMPACT"
          ],
          [
           "A4 quattro",
           "COMPACT"
          ],
          [
           "A4 allroad quattro",
           "STATION WAGON - SMALL"
          ],
          [
           "A5 quattro",
           "SUBCOMPACT"
          ],
          [
           "A5 Cabriolet quattro",
           "SUBCOMPACT"
          ],
          [
           "A5 Sportback quattro",
           "MID-SIZE"
          ],
          [
           "A6 quattro",
           "MID-SIZE"
          ],
          [
           "A6 quattro",
           "MID-SIZE"
          ],
          [
           "A6 allroad",
           "MID-SIZE"
          ],
          [
           "A7 quattro",
           "MID-SIZE"
          ],
          [
           "A8L",
           "FULL-SIZE"
          ],
          [
           "A8L",
           "FULL-SIZE"
          ],
          [
           "Q3 quattro",
           "SUV - SMALL"
          ],
          [
           "Q5",
           "SUV - SMALL"
          ],
          [
           "Q7",
           "SUV - STANDARD"
          ],
          [
           "Q8",
           "SUV - STANDARD"
          ],
          [
           "R8 Coupe",
           "TWO-SEATER"
          ],
          [
           "R8 Spyder",
           "TWO-SEATER"
          ],
          [
           "RS 3",
           "SUBCOMPACT"
          ],
          [
           "S3",
           "SUBCOMPACT"
          ],
          [
           "S4",
           "COMPACT"
          ],
          [
           "S5",
           "SUBCOMPACT"
          ],
          [
           "S5 Cabriolet",
           "SUBCOMPACT"
          ],
          [
           "S5 Sportback",
           "MID-SIZE"
          ],
          [
           "S6",
           "MID-SIZE"
          ],
          [
           "S7",
           "MID-SIZE"
          ],
          [
           "S8",
           "FULL-SIZE"
          ],
          [
           "SQ5",
           "SUV - SMALL"
          ],
          [
           "TT Coupe quattro",
           "SUBCOMPACT"
          ],
          [
           "TT Roadster quattro",
           "TWO-SEATER"
          ],
          [
           "TT RS",
           "SUBCOMPACT"
          ],
          [
           "TTS Coupe",
           "SUBCOMPACT"
          ]
         ],
         "hovertemplate": "Make=AUDI<br>Engine Size(L)=%{x}<br>CO2 Emissions(g/km)=%{y}<br>Fuel Consumption Comb (mpg)=%{marker.size}<br>Model=%{customdata[0]}<br>Vehicle Class=%{customdata[1]}<extra></extra>",
         "legendgroup": "AUDI",
         "marker": {
          "color": "#636efa",
          "size": {
           "bdata": "IBweHBweHBojGSMZGSIZFxIiGxsZHx8VGhMQExATEBMQFRUXGRcZFxgXFxYWHx8bGyArISAgHR8cHR8dGxojGiMbGiIbGhMiGxsbGR8gFRoUERMRFBETERYWFR8aGBoYGRgYGBcfHxwcICEgIB0fHR0fHR8dJB0kGxoiGhMbGxsZHyAVHxoYGhgZGRkWFx8fHiMgHiUgIR4dHx0eHBwbGhobGxsZGhkUFBYdGhgZGRkVFx8fHiMgHiUgIB4gICAgHxwcGxcXHBsdGhkWExMbGRUdHR0cHRYWFRkfHxseIx0eJCAeICAgHR0aGx0aGRcbGRkeHR0dHRkfHxseJB4eICAgICAgHRsdGRUbHRYWExMbHhsbGhsaGhMYHx8bHg==",
           "dtype": "i1"
          },
          "sizemode": "area",
          "sizeref": 0.28444444444444444,
          "symbol": "circle"
         },
         "mode": "markers",
         "name": "AUDI",
         "showlegend": true,
         "type": "scattergl",
         "x": {
          "bdata": "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",
          "dtype": "f8"
         },
         "xaxis": "x",
         "y": {
          "bdata": "ygDmANYA5gDmANYA6wD7ANkABgHZAAIBCQHgAAIBIAFrAeAA8gDvAAIB9ADUADABIgFQAZcBWwGZAVABlwFbAZkBMgE0ASUBBgEdAQYBHQELARkBGQEsASQB0QDRAO0A7QDIALEAxgDNAM0A3QDRAOQA3QDRAOEA7QD7ANkA/QDZAPIA9gDgAPIAAgFYAeAA7QDtAO8ABgH0AM0AMgEiAUcBfgFbAXkBRwF+AVsBeQEmASkBOQHPAP0ADQH9AA0BBgENAQ0BGQEZAdEA1ADrAOsAzADJANAA1ADgANYA6ADgANYA5gDTAOgA1QDoANUA9wD5AOAA/wBYAfIA8AD0AAsB9ADRADkB0wABAREBAQERAQoBBwEJASwBHQHRANEA3gC8AM0A3wCxAM0AzADZAOIA0gDnANwA7gDuAPYA+QD/APMA8QD2AAsB/QAEAUoBSgE1AegAAwERAQoBBwEJATgBHQHRANEA3gC8AM0A3wCxAMsAzADZAMsAzADLAMsA2ADrAOsA9wAiASIB7ADwAOIAAgEEATABUgFSAfgABAE+Ad8A6ADoAO8A6AAqASoBOQEOAdEA0QD1AN4AvADhAN0AtgDMAN0AzADMAMwA4ADgAPwA+ADmAAIBBAEmAfcABgEMAd4A5gDmAOoA5gAOAdUA1QDxANwAtgDgAOAAzQDOAM0AzgDNAM0A4gD3AOIACwE0AfgA4gAoASgBWwFbAfMA3gD1APUA/AD1AP8A/wBTARQB1QDVAPEA3AA=",
          "dtype": "i2"
         },
         "yaxis": "y"
        },
        {
         "customdata": [
          [
           "320i",
           "COMPACT"
          ],
          [
           "320i",
           "COMPACT"
          ],
          [
           "320i xDRIVE",
           "COMPACT"
          ],
          [
           "328d xDRIVE",
           "COMPACT"
          ],
          [
           "328d xDRIVE TOURING",
           "STATION WAGON - SMALL"
          ],
          [
           "328i",
           "COMPACT"
          ],
          [
           "328i",
           "COMPACT"
          ],
          [
           "328i xDRIVE",
           "COMPACT"
          ],
          [
           "328i xDRIVE GRAN TURISMO",
           "FULL-SIZE"
          ],
          [
           "328i xDRIVE TOURING",
           "STATION WAGON - SMALL"
          ],
          [
           "335i",
           "COMPACT"
          ],
          [
           "335i",
           "COMPACT"
          ],
          [
           "335i xDRIVE",
           "COMPACT"
          ],
          [
           "335i xDRIVE",
           "COMPACT"
          ],
          [
           "335i xDRIVE GRAN TURISMO",
           "FULL-SIZE"
          ],
          [
           "428i COUPE",
           "COMPACT"
          ],
          [
           "428i COUPE",
           "COMPACT"
          ],
          [
           "428i xDRIVE COUPE",
           "COMPACT"
          ],
          [
           "435i COUPE",
           "COMPACT"
          ],
          [
           "435i COUPE",
           "COMPACT"
          ],
          [
           "435i xDRIVE COUPE",
           "COMPACT"
          ],
          [
           "435i xDRIVE COUPE",
           "COMPACT"
          ],
          [
           "528i",
           "MID-SIZE"
          ],
          [
           "528i xDRIVE",
           "MID-SIZE"
          ],
          [
           "535d xDRIVE",
           "MID-SIZE"
          ],
          [
           "535i xDRIVE",
           "MID-SIZE"
          ],
          [
           "535i xDRIVE GRAN TURISMO",
           "FULL-SIZE"
          ],
          [
           "550i xDRIVE",
           "MID-SIZE"
          ],
          [
           "550i xDRIVE GRAN TURISMO",
           "FULL-SIZE"
          ],
          [
           "640i xDRIVE GRAN COUPE",
           "COMPACT"
          ],
          [
           "650i xDRIVE CABRIOLET",
           "SUBCOMPACT"
          ],
          [
           "650i xDRIVE COUPE",
           "COMPACT"
          ],
          [
           "650i xDRIVE GRAN COUPE",
           "COMPACT"
          ],
          [
           "740Li xDRIVE",
           "FULL-SIZE"
          ],
          [
           "750i xDRIVE",
           "FULL-SIZE"
          ],
          [
           "750Li xDRIVE",
           "FULL-SIZE"
          ],
          [
           "760Li",
           "FULL-SIZE"
          ],
          [
           "ACTIVEHYBRID 3",
           "COMPACT"
          ],
          [
           "ACTIVEHYBRID 5",
           "MID-SIZE"
          ],
          [
           "ACTIVEHYBRID 7L",
           "FULL-SIZE"
          ],
          [
           "ALPINA B7 xDRIVE LWB",
           "FULL-SIZE"
          ],
          [
           "ALPINA B7 xDRIVE SWB",
           "FULL-SIZE"
          ],
          [
           "M5",
           "MID-SIZE"
          ],
          [
           "M5",
           "MID-SIZE"
          ],
          [
           "M6",
           "COMPACT"
          ],
          [
           "M6",
           "COMPACT"
          ],
          [
           "M6 CABRIOLET",
           "SUBCOMPACT"
          ],
          [
           "M6 CABRIOLET",
           "SUBCOMPACT"
          ],
          [
           "M6 GRAN COUPE",
           "COMPACT"
          ],
          [
           "M6 GRAN COUPE",
           "COMPACT"
          ],
          [
           "X1 xDRIVE28i",
           "SUV - SMALL"
          ],
          [
           "X1 xDRIVE35i",
           "SUV - SMALL"
          ],
          [
           "X3 xDRIVE28i",
           "SUV - SMALL"
          ],
          [
           "X3 xDRIVE35i",
           "SUV - SMALL"
          ],
          [
           "X5 xDRIVE35i",
           "SUV - STANDARD"
          ],
          [
           "X5 xDRIVE50i",
           "SUV - STANDARD"
          ],
          [
           "X6 M",
           "SUV - STANDARD"
          ],
          [
           "X6 xDRIVE35i",
           "SUV - STANDARD"
          ],
          [
           "X6 xDRIVE50i",
           "SUV - STANDARD"
          ],
          [
           "Z4 sDRIVE28i",
           "TWO-SEATER"
          ],
          [
           "Z4 sDRIVE28i",
           "TWO-SEATER"
          ],
          [
           "Z4 sDRIVE35i",
           "TWO-SEATER"
          ],
          [
           "Z4 sDRIVE35i",
           "TWO-SEATER"
          ],
          [
           "Z4 sDRIVE35is",
           "TWO-SEATER"
          ],
          [
           "228i CABRIOLET",
           "SUBCOMPACT"
          ],
          [
           "228i COUPE",
           "SUBCOMPACT"
          ],
          [
           "228i COUPE",
           "SUBCOMPACT"
          ],
          [
           "228i xDRIVE CABRIOLET",
           "SUBCOMPACT"
          ],
          [
           "228i xDRIVE COUPE",
           "SUBCOMPACT"
          ],
          [
           "320i SEDAN",
           "COMPACT"
          ],
          [
           "320i SEDAN",
           "COMPACT"
          ],
          [
           "320i xDRIVE SEDAN",
           "COMPACT"
          ],
          [
           "328d xDRIVE SEDAN",
           "COMPACT"
          ],
          [
           "328d xDRIVE TOURING",
           "STATION WAGON - SMALL"
          ],
          [
           "328i SEDAN",
           "COMPACT"
          ],
          [
           "328i SEDAN",
           "COMPACT"
          ],
          [
           "328i xDRIVE SEDAN",
           "COMPACT"
          ],
          [
           "328i xDRIVE GRAN TURISMO",
           "FULL-SIZE"
          ],
          [
           "328i xDRIVE TOURING",
           "STATION WAGON - SMALL"
          ],
          [
           "335i SEDAN",
           "COMPACT"
          ],
          [
           "335i SEDAN",
           "COMPACT"
          ],
          [
           "335i xDRIVE SEDAN",
           "COMPACT"
          ],
          [
           "335i xDRIVE SEDAN",
           "COMPACT"
          ],
          [
           "335i xDRIVE GRAN TURISMO",
           "FULL-SIZE"
          ],
          [
           "428i CABRIOLET",
           "SUBCOMPACT"
          ],
          [
           "428i COUPE",
           "COMPACT"
          ],
          [
           "428i COUPE",
           "COMPACT"
          ],
          [
           "428i GRAN COUPE",
           "COMPACT"
          ],
          [
           "428i GRAN COUPE",
           "COMPACT"
          ],
          [
           "428i xDRIVE CABRIOLET",
           "SUBCOMPACT"
          ],
          [
           "428i xDRIVE COUPE",
           "COMPACT"
          ],
          [
           "428i xDRIVE GRAN COUPE",
           "COMPACT"
          ],
          [
           "435i CABRIOLET",
           "SUBCOMPACT"
          ],
          [
           "435i COUPE",
           "COMPACT"
          ],
          [
           "435i COUPE",
           "COMPACT"
          ],
          [
           "435i GRAN COUPE",
           "COMPACT"
          ],
          [
           "435i xDRIVE CABRIOLET",
           "SUBCOMPACT"
          ],
          [
           "435i xDRIVE COUPE",
           "COMPACT"
          ],
          [
           "435i xDRIVE COUPE",
           "COMPACT"
          ],
          [
           "435i xDRIVE GRAN COUPE",
           "COMPACT"
          ],
          [
           "528i SEDAN",
           "MID-SIZE"
          ],
          [
           "528i xDRIVE SEDAN",
           "MID-SIZE"
          ],
          [
           "535d xDRIVE SEDAN",
           "MID-SIZE"
          ],
          [
           "535i xDRIVE SEDAN",
           "MID-SIZE"
          ],
          [
           "535i xDRIVE GRAN TURISMO",
           "FULL-SIZE"
          ],
          [
           "550i xDRIVE SEDAN",
           "MID-SIZE"
          ],
          [
           "550i xDRIVE GRAN TURISMO",
           "FULL-SIZE"
          ],
          [
           "640i xDRIVE CABRIOLET",
           "SUBCOMPACT"
          ],
          [
           "640i xDRIVE GRAN COUPE",
           "COMPACT"
          ],
          [
           "650i xDRIVE CABRIOLET",
           "SUBCOMPACT"
          ],
          [
           "650i xDRIVE COUPE",
           "COMPACT"
          ],
          [
           "650i xDRIVE GRAN COUPE",
           "COMPACT"
          ],
          [
           "740Ld xDRIVE SEDAN",
           "FULL-SIZE"
          ],
          [
           "740Li xDRIVE SEDAN",
           "FULL-SIZE"
          ],
          [
           "750i xDRIVE SEDAN",
           "FULL-SIZE"
          ],
          [
           "750Li xDRIVE SEDAN",
           "FULL-SIZE"
          ],
          [
           "760Li SEDAN",
           "FULL-SIZE"
          ],
          [
           "ACTIVEHYBRID 3",
           "COMPACT"
          ],
          [
           "ACTIVEHYBRID 5",
           "MID-SIZE"
          ],
          [
           "ACTIVEHYBRID 7L",
           "FULL-SIZE"
          ],
          [
           "ALPINA B6 xDRIVE GRAN COUPE",
           "COMPACT"
          ],
          [
           "ALPINA B7 xDRIVE LWB",
           "FULL-SIZE"
          ],
          [
           "ALPINA B7 xDRIVE SWB",
           "FULL-SIZE"
          ],
          [
           "M235i CABRIOLET",
           "SUBCOMPACT"
          ],
          [
           "M235i CABRIOLET",
           "SUBCOMPACT"
          ],
          [
           "M235i COUPE",
           "SUBCOMPACT"
          ],
          [
           "M235i COUPE",
           "SUBCOMPACT"
          ],
          [
           "M235i xDRIVE COUPE",
           "SUBCOMPACT"
          ],
          [
           "M3 SEDAN",
           "COMPACT"
          ],
          [
           "M3 SEDAN",
           "COMPACT"
          ],
          [
           "M4 CABRIOLET",
           "SUBCOMPACT"
          ],
          [
           "M4 CABRIOLET",
           "SUBCOMPACT"
          ],
          [
           "M4 COUPE",
           "COMPACT"
          ],
          [
           "M4 COUPE",
           "COMPACT"
          ],
          [
           "M5 SEDAN",
           "MID-SIZE"
          ],
          [
           "M5 SEDAN",
           "MID-SIZE"
          ],
          [
           "M6 CABRIOLET",
           "SUBCOMPACT"
          ],
          [
           "M6 CABRIOLET",
           "SUBCOMPACT"
          ],
          [
           "M6 COUPE",
           "COMPACT"
          ],
          [
           "M6 COUPE",
           "COMPACT"
          ],
          [
           "M6 GRAN COUPE",
           "COMPACT"
          ],
          [
           "M6 GRAN COUPE",
           "COMPACT"
          ],
          [
           "X1 xDRIVE28i",
           "SUV - SMALL"
          ],
          [
           "X1 xDRIVE35i",
           "SUV - SMALL"
          ],
          [
           "X3 xDRIVE28d",
           "SUV - SMALL"
          ],
          [
           "X3 xDRIVE28i",
           "SUV - SMALL"
          ],
          [
           "X3 xDRIVE35i",
           "SUV - SMALL"
          ],
          [
           "X4 xDRIVE28i",
           "SUV - SMALL"
          ],
          [
           "X4 xDRIVE35i",
           "SUV - SMALL"
          ],
          [
           "X5 M",
           "SUV - STANDARD"
          ],
          [
           "X5 xDRIVE35d",
           "SUV - STANDARD"
          ],
          [
           "X5 xDRIVE35i",
           "SUV - STANDARD"
          ],
          [
           "X5 xDRIVE50i",
           "SUV - STANDARD"
          ],
          [
           "X6 M",
           "SUV - STANDARD"
          ],
          [
           "X6 xDRIVE35i",
           "SUV - STANDARD"
          ],
          [
           "X6 xDRIVE50i",
           "SUV - STANDARD"
          ],
          [
           "Z4 sDRIVE28i",
           "TWO-SEATER"
          ],
          [
           "Z4 sDRIVE28i",
           "TWO-SEATER"
          ],
          [
           "Z4 sDRIVE35i",
           "TWO-SEATER"
          ],
          [
           "Z4 sDRIVE35i",
           "TWO-SEATER"
          ],
          [
           "Z4 sDRIVE35is",
           "TWO-SEATER"
          ],
          [
           "228i",
           "SUBCOMPACT"
          ],
          [
           "228i",
           "SUBCOMPACT"
          ],
          [
           "228i xDRIVE",
           "SUBCOMPACT"
          ],
          [
           "228i xDRIVE CABRIOLET",
           "SUBCOMPACT"
          ],
          [
           "320i",
           "COMPACT"
          ],
          [
           "320i",
           "COMPACT"
          ],
          [
           "320i xDRIVE",
           "COMPACT"
          ],
          [
           "328d xDRIVE",
           "COMPACT"
          ],
          [
           "328d xDRIVE TOURING",
           "STATION WAGON - SMALL"
          ],
          [
           "328i xDRIVE",
           "COMPACT"
          ],
          [
           "328i xDRIVE GRAN TURISMO",
           "FULL-SIZE"
          ],
          [
           "328i xDRIVE TOURING",
           "STATION WAGON - SMALL"
          ],
          [
           "335i xDRIVE GRAN TURISMO",
           "FULL-SIZE"
          ],
          [
           "340i",
           "COMPACT"
          ],
          [
           "340i",
           "COMPACT"
          ],
          [
           "340i xDRIVE",
           "COMPACT"
          ],
          [
           "340i xDRIVE",
           "COMPACT"
          ],
          [
           "428i CABRIOLET",
           "SUBCOMPACT"
          ],
          [
           "428i COUPE",
           "COMPACT"
          ],
          [
           "428i COUPE",
           "COMPACT"
          ],
          [
           "428i GRAN COUPE",
           "COMPACT"
          ],
          [
           "428i GRAN COUPE",
           "COMPACT"
          ],
          [
           "428i xDRIVE CABRIOLET",
           "SUBCOMPACT"
          ],
          [
           "428i xDRIVE COUPE",
           "COMPACT"
          ],
          [
           "428i xDRIVE GRAN COUPE",
           "COMPACT"
          ],
          [
           "435i CABRIOLET",
           "SUBCOMPACT"
          ],
          [
           "435i COUPE",
           "COMPACT"
          ],
          [
           "435i COUPE",
           "COMPACT"
          ],
          [
           "435i xDRIVE CABRIOLET",
           "SUBCOMPACT"
          ],
          [
           "435i xDRIVE COUPE",
           "COMPACT"
          ],
          [
           "435i xDRIVE COUPE",
           "COMPACT"
          ],
          [
           "435i xDRIVE GRAN COUPE",
           "COMPACT"
          ],
          [
           "528i xDRIVE",
           "MID-SIZE"
          ],
          [
           "535d xDRIVE",
           "MID-SIZE"
          ],
          [
           "535i xDRIVE",
           "MID-SIZE"
          ],
          [
           "535i xDRIVE GRAN TURISMO",
           "FULL-SIZE"
          ],
          [
           "550i xDRIVE",
           "MID-SIZE"
          ],
          [
           "550i xDRIVE GRAN TURISMO",
           "FULL-SIZE"
          ],
          [
           "640i xDRIVE CABRIOLET",
           "SUBCOMPACT"
          ],
          [
           "640i xDRIVE GRAN COUPE",
           "COMPACT"
          ],
          [
           "650i xDRIVE CABRIOLET",
           "SUBCOMPACT"
          ],
          [
           "650i xDRIVE COUPE",
           "COMPACT"
          ],
          [
           "650i xDRIVE GRAN COUPE",
           "COMPACT"
          ],
          [
           "750i xDRIVE",
           "FULL-SIZE"
          ],
          [
           "750Li xDRIVE",
           "FULL-SIZE"
          ],
          [
           "ACTIVEHYBRID 5",
           "MID-SIZE"
          ],
          [
           "ALPINA B6 xDRIVE GRAN COUPE",
           "COMPACT"
          ],
          [
           "M2",
           "SUBCOMPACT"
          ],
          [
           "M2",
           "SUBCOMPACT"
          ],
          [
           "M235i",
           "SUBCOMPACT"
          ],
          [
           "M235i",
           "SUBCOMPACT"
          ],
          [
           "M235i CABRIOLET",
           "SUBCOMPACT"
          ],
          [
           "M235i CABRIOLET",
           "SUBCOMPACT"
          ],
          [
           "M235i xDRIVE",
           "SUBCOMPACT"
          ],
          [
           "M235i xDRIVE CABRIOLET",
           "SUBCOMPACT"
          ],
          [
           "M3",
           "COMPACT"
          ],
          [
           "M3",
           "COMPACT"
          ],
          [
           "M4 CABRIOLET",
           "SUBCOMPACT"
          ],
          [
           "M4 CABRIOLET",
           "SUBCOMPACT"
          ],
          [
           "M4 COUPE",
           "COMPACT"
          ],
          [
           "M4 COUPE",
           "COMPACT"
          ],
          [
           "M5",
           "MID-SIZE"
          ],
          [
           "M5",
           "MID-SIZE"
          ],
          [
           "M6",
           "COMPACT"
          ],
          [
           "M6",
           "COMPACT"
          ],
          [
           "M6 CABRIOLET",
           "SUBCOMPACT"
          ],
          [
           "M6 CABRIOLET",
           "SUBCOMPACT"
          ],
          [
           "M6 GRAN COUPE",
           "COMPACT"
          ],
          [
           "M6 GRAN COUPE",
           "COMPACT"
          ],
          [
           "X1 xDRIVE28i",
           "SUV - SMALL"
          ],
          [
           "X3 xDRIVE28d",
           "SUV - SMALL"
          ],
          [
           "X3 xDRIVE28i",
           "SUV - SMALL"
          ],
          [
           "X3 xDRIVE35i",
           "SUV - SMALL"
          ],
          [
           "X4 M40i",
           "SUV - SMALL"
          ],
          [
           "X4 xDRIVE28i",
           "SUV - SMALL"
          ],
          [
           "X4 xDRIVE35i",
           "SUV - SMALL"
          ],
          [
           "X5 M",
           "SUV - STANDARD"
          ],
          [
           "X5 xDRIVE35d",
           "SUV - STANDARD"
          ],
          [
           "X5 xDRIVE35i",
           "SUV - STANDARD"
          ],
          [
           "X5 xDRIVE50i",
           "SUV - STANDARD"
          ],
          [
           "X6 M",
           "SUV - STANDARD"
          ],
          [
           "X6 xDRIVE35i",
           "SUV - STANDARD"
          ],
          [
           "X6 xDRIVE50i",
           "SUV - STANDARD"
          ],
          [
           "Z4 sDRIVE28i",
           "TWO-SEATER"
          ],
          [
           "Z4 sDRIVE28i",
           "TWO-SEATER"
          ],
          [
           "Z4 sDRIVE35i",
           "TWO-SEATER"
          ],
          [
           "Z4 sDRIVE35is",
           "TWO-SEATER"
          ],
          [
           "230i CABRIOLET",
           "SUBCOMPACT"
          ],
          [
           "230i COUPE",
           "SUBCOMPACT"
          ],
          [
           "230i COUPE",
           "SUBCOMPACT"
          ],
          [
           "230i xDRIVE CABRIOLET",
           "SUBCOMPACT"
          ],
          [
           "230i xDRIVE COUPE",
           "SUBCOMPACT"
          ],
          [
           "320i",
           "COMPACT"
          ],
          [
           "320i",
           "COMPACT"
          ],
          [
           "320i xDRIVE",
           "COMPACT"
          ],
          [
           "328d xDRIVE",
           "COMPACT"
          ],
          [
           "328d xDRIVE TOURING",
           "STATION WAGON - SMALL"
          ],
          [
           "330i xDRIVE",
           "COMPACT"
          ],
          [
           "330i xDRIVE GRAN TURISMO",
           "FULL-SIZE"
          ],
          [
           "330i xDRIVE TOURING",
           "STATION WAGON - SMALL"
          ],
          [
           "340i",
           "COMPACT"
          ],
          [
           "340i",
           "COMPACT"
          ],
          [
           "340i xDRIVE",
           "COMPACT"
          ],
          [
           "340i xDRIVE",
           "COMPACT"
          ],
          [
           "340i xDRIVE GRAN TURISMO",
           "FULL-SIZE"
          ],
          [
           "430i xDRIVE CABRIOLET",
           "SUBCOMPACT"
          ],
          [
           "430i xDRIVE COUPE",
           "COMPACT"
          ],
          [
           "430i xDRIVE GRAN COUPE",
           "COMPACT"
          ],
          [
           "440i COUPE",
           "COMPACT"
          ],
          [
           "440i COUPE",
           "COMPACT"
          ],
          [
           "440i xDRIVE CABRIOLET",
           "SUBCOMPACT"
          ],
          [
           "440i xDRIVE COUPE",
           "COMPACT"
          ],
          [
           "440i xDRIVE COUPE",
           "COMPACT"
          ],
          [
           "440i xDRIVE GRAN COUPE",
           "COMPACT"
          ],
          [
           "530i xDRIVE",
           "MID-SIZE"
          ],
          [
           "540i xDRIVE",
           "MID-SIZE"
          ],
          [
           "640i xDRIVE CABRIOLET",
           "SUBCOMPACT"
          ],
          [
           "640i xDRIVE GRAN COUPE",
           "COMPACT"
          ],
          [
           "650i xDRIVE CABRIOLET",
           "SUBCOMPACT"
          ],
          [
           "650i xDRIVE COUPE",
           "COMPACT"
          ],
          [
           "650i xDRIVE GRAN COUPE",
           "COMPACT"
          ],
          [
           "740Li xDRIVE",
           "FULL-SIZE"
          ],
          [
           "750i xDRIVE",
           "FULL-SIZE"
          ],
          [
           "750Li xDRIVE",
           "FULL-SIZE"
          ],
          [
           "ALPINA B6 xDRIVE GRAN COUPE",
           "COMPACT"
          ],
          [
           "ALPINA B7 xDRIVE",
           "FULL-SIZE"
          ],
          [
           "M2",
           "SUBCOMPACT"
          ],
          [
           "M2",
           "SUBCOMPACT"
          ],
          [
           "M240i CABRIOLET",
           "SUBCOMPACT"
          ],
          [
           "M240i CABRIOLET",
           "SUBCOMPACT"
          ],
          [
           "M240i COUPE",
           "SUBCOMPACT"
          ],
          [
           "M240i COUPE",
           "SUBCOMPACT"
          ],
          [
           "M240i xDRIVE CABRIOLET",
           "SUBCOMPACT"
          ],
          [
           "M240i xDRIVE COUPE",
           "SUBCOMPACT"
          ],
          [
           "M3",
           "COMPACT"
          ],
          [
           "M3",
           "COMPACT"
          ],
          [
           "M4 CABRIOLET",
           "SUBCOMPACT"
          ],
          [
           "M4 CABRIOLET",
           "SUBCOMPACT"
          ],
          [
           "M4 COUPE",
           "COMPACT"
          ],
          [
           "M4 COUPE",
           "COMPACT"
          ],
          [
           "M6",
           "COMPACT"
          ],
          [
           "M6",
           "COMPACT"
          ],
          [
           "M6 CABRIOLET",
           "SUBCOMPACT"
          ],
          [
           "M6 CABRIOLET",
           "SUBCOMPACT"
          ],
          [
           "M6 GRAN COUPE",
           "COMPACT"
          ],
          [
           "M6 GRAN COUPE",
           "COMPACT"
          ],
          [
           "M760i xDRIVE",
           "FULL-SIZE"
          ],
          [
           "X1 xDRIVE28i",
           "SUV - SMALL"
          ],
          [
           "X3 xDRIVE28d",
           "SUV - SMALL"
          ],
          [
           "X3 xDRIVE28i",
           "SUV - SMALL"
          ],
          [
           "X3 xDRIVE35i",
           "SUV - SMALL"
          ],
          [
           "X4 M40i",
           "SUV - SMALL"
          ],
          [
           "X4 xDRIVE28i",
           "SUV - SMALL"
          ],
          [
           "X5 M",
           "SUV - STANDARD"
          ],
          [
           "X5 xDRIVE35d",
           "SUV - STANDARD"
          ],
          [
           "X5 xDRIVE35i",
           "SUV - STANDARD"
          ],
          [
           "X5 xDRIVE50i",
           "SUV - STANDARD"
          ],
          [
           "X6 M",
           "SUV - STANDARD"
          ],
          [
           "X6 xDRIVE35i",
           "SUV - STANDARD"
          ],
          [
           "X6 xDRIVE50i",
           "SUV - STANDARD"
          ],
          [
           "230i COUPE",
           "SUBCOMPACT"
          ],
          [
           "230i COUPE",
           "SUBCOMPACT"
          ],
          [
           "230i xDRIVE CABRIOLET",
           "SUBCOMPACT"
          ],
          [
           "230i xDRIVE COUPE",
           "SUBCOMPACT"
          ],
          [
           "328d xDRIVE",
           "COMPACT"
          ],
          [
           "328d xDRIVE TOURING",
           "STATION WAGON - SMALL"
          ],
          [
           "330i xDRIVE",
           "COMPACT"
          ],
          [
           "330i xDRIVE GRAN TURISMO",
           "FULL-SIZE"
          ],
          [
           "330i xDRIVE TOURING",
           "STATION WAGON - SMALL"
          ],
          [
           "340i",
           "COMPACT"
          ],
          [
           "340i",
           "COMPACT"
          ],
          [
           "340i xDRIVE",
           "COMPACT"
          ],
          [
           "340i xDRIVE",
           "COMPACT"
          ],
          [
           "340i xDRIVE GRAN TURISMO",
           "FULL-SIZE"
          ],
          [
           "430i xDRIVE CABRIOLET",
           "SUBCOMPACT"
          ],
          [
           "430i xDRIVE COUPE",
           "COMPACT"
          ],
          [
           "430i xDRIVE GRAN COUPE",
           "COMPACT"
          ],
          [
           "440i COUPE",
           "COMPACT"
          ],
          [
           "440i COUPE",
           "COMPACT"
          ],
          [
           "440i xDRIVE CABRIOLET",
           "SUBCOMPACT"
          ],
          [
           "440i xDRIVE COUPE",
           "COMPACT"
          ],
          [
           "440i xDRIVE COUPE",
           "COMPACT"
          ],
          [
           "440i xDRIVE GRAN COUPE",
           "COMPACT"
          ],
          [
           "530i xDRIVE",
           "MID-SIZE"
          ],
          [
           "540i xDRIVE",
           "MID-SIZE"
          ],
          [
           "640i xDRIVE CABRIOLET",
           "SUBCOMPACT"
          ],
          [
           "640i xDRIVE GRAN COUPE",
           "COMPACT"
          ],
          [
           "640i xDRIVE GRAN TURISMO",
           "FULL-SIZE"
          ],
          [
           "650i xDRIVE CABRIOLET",
           "SUBCOMPACT"
          ],
          [
           "650i xDRIVE COUPE",
           "SUBCOMPACT"
          ],
          [
           "650i xDRIVE GRAN COUPE",
           "COMPACT"
          ],
          [
           "750i xDRIVE",
           "FULL-SIZE"
          ],
          [
           "750i xDRIVE SWB",
           "FULL-SIZE"
          ],
          [
           "ALPINA B6 xDRIVE GRAN COUPE",
           "COMPACT"
          ],
          [
           "M2",
           "SUBCOMPACT"
          ],
          [
           "M2",
           "SUBCOMPACT"
          ],
          [
           "M240i CABRIOLET",
           "SUBCOMPACT"
          ],
          [
           "M240i CABRIOLET",
           "SUBCOMPACT"
          ],
          [
           "M240i COUPE",
           "SUBCOMPACT"
          ],
          [
           "M240i COUPE",
           "SUBCOMPACT"
          ],
          [
           "M240i xDRIVE CABRIOLET",
           "SUBCOMPACT"
          ],
          [
           "M240i xDRIVE COUPE",
           "SUBCOMPACT"
          ],
          [
           "M3",
           "COMPACT"
          ],
          [
           "M3",
           "COMPACT"
          ],
          [
           "M4 CABRIOLET",
           "SUBCOMPACT"
          ],
          [
           "M4 CABRIOLET",
           "SUBCOMPACT"
          ],
          [
           "M4 COUPE",
           "COMPACT"
          ],
          [
           "M4 COUPE",
           "COMPACT"
          ],
          [
           "M550i xDRIVE",
           "MID-SIZE"
          ],
          [
           "M6 CABRIOLET",
           "SUBCOMPACT"
          ],
          [
           "M6 CABRIOLET",
           "SUBCOMPACT"
          ],
          [
           "M6 COUPE",
           "SUBCOMPACT"
          ],
          [
           "M6 COUPE",
           "SUBCOMPACT"
          ],
          [
           "M6 GRAN COUPE",
           "COMPACT"
          ],
          [
           "M6 GRAN COUPE",
           "COMPACT"
          ],
          [
           "M760i xDRIVE",
           "FULL-SIZE"
          ],
          [
           "X1 xDRIVE28i",
           "SUV - SMALL"
          ],
          [
           "X2 xDRIVE28i",
           "SUV - SMALL"
          ],
          [
           "X3 xDRIVE30i",
           "SUV - SMALL"
          ],
          [
           "X3 M40i",
           "SUV - SMALL"
          ],
          [
           "X4 xDRIVE28i",
           "SUV - SMALL"
          ],
          [
           "X4 M40i",
           "SUV - SMALL"
          ],
          [
           "X5 xDRIVE35d",
           "SUV - STANDARD"
          ],
          [
           "X5 xDRIVE35i",
           "SUV - STANDARD"
          ],
          [
           "X5 xDRIVE50i",
           "SUV - STANDARD"
          ],
          [
           "X5 M",
           "SUV - STANDARD"
          ],
          [
           "X6 xDRIVE35i",
           "SUV - STANDARD"
          ],
          [
           "X6 xDRIVE50i",
           "SUV - STANDARD"
          ],
          [
           "X6 M",
           "SUV - STANDARD"
          ],
          [
           "230i xDrive Cabriolet",
           "SUBCOMPACT"
          ],
          [
           "230i xDrive Coupe",
           "SUBCOMPACT"
          ],
          [
           "330i xDrive",
           "COMPACT"
          ],
          [
           "330i xDrive Gran Turismo",
           "FULL-SIZE"
          ],
          [
           "330i xDrive Touring",
           "STATION WAGON - SMALL"
          ],
          [
           "430i xDrive Cabriolet",
           "SUBCOMPACT"
          ],
          [
           "430i xDrive Coupe",
           "COMPACT"
          ],
          [
           "430i xDrive Gran Coupe",
           "COMPACT"
          ],
          [
           "440i Coupe",
           "COMPACT"
          ],
          [
           "440i Coupe",
           "COMPACT"
          ],
          [
           "440i xDrive Cabriolet",
           "SUBCOMPACT"
          ],
          [
           "440i xDrive Coupe",
           "COMPACT"
          ],
          [
           "440i xDrive Coupe",
           "COMPACT"
          ],
          [
           "440i xDrive Gran Coupe",
           "COMPACT"
          ],
          [
           "530i xDrive",
           "MID-SIZE"
          ],
          [
           "540i xDrive",
           "MID-SIZE"
          ],
          [
           "640i xDrive Gran Coupe",
           "COMPACT"
          ],
          [
           "640i xDrive Gran Turismo",
           "FULL-SIZE"
          ],
          [
           "650i xDrive Gran Coupe",
           "COMPACT"
          ],
          [
           "750i xDrive",
           "FULL-SIZE"
          ],
          [
           "750Li xDrive",
           "FULL-SIZE"
          ],
          [
           "Alpina B6 xDrive Gran Coupe",
           "COMPACT"
          ],
          [
           "Alpina B7 xDrive",
           "FULL-SIZE"
          ],
          [
           "M2 Competition",
           "SUBCOMPACT"
          ],
          [
           "M2 Competition",
           "SUBCOMPACT"
          ],
          [
           "M240i Cabriolet",
           "SUBCOMPACT"
          ],
          [
           "M240i Cabriolet",
           "SUBCOMPACT"
          ],
          [
           "M240i Coupe",
           "SUBCOMPACT"
          ],
          [
           "M240i Coupe",
           "SUBCOMPACT"
          ],
          [
           "M240i Coupe M Performance",
           "SUBCOMPACT"
          ],
          [
           "M240i Coupe M Performance",
           "SUBCOMPACT"
          ],
          [
           "M240i xDrive Cabriolet",
           "SUBCOMPACT"
          ],
          [
           "M240i xDrive Coupe",
           "SUBCOMPACT"
          ],
          [
           "M240i xDrive Coupe M Performance",
           "SUBCOMPACT"
          ],
          [
           "M4 Cabriolet",
           "SUBCOMPACT"
          ],
          [
           "M4 Cabriolet",
           "SUBCOMPACT"
          ],
          [
           "M4 Cabriolet Competition",
           "SUBCOMPACT"
          ],
          [
           "M4 Cabriolet Competition",
           "SUBCOMPACT"
          ],
          [
           "M4 Coupe",
           "COMPACT"
          ],
          [
           "M4 Coupe",
           "COMPACT"
          ],
          [
           "M4 Coupe Competition",
           "COMPACT"
          ],
          [
           "M4 Coupe Competition",
           "COMPACT"
          ],
          [
           "M4 CS",
           "COMPACT"
          ],
          [
           "M5",
           "MID-SIZE"
          ],
          [
           "M5 Competition",
           "MID-SIZE"
          ],
          [
           "M550i xDrive",
           "MID-SIZE"
          ],
          [
           "M6 Gran Coupe",
           "COMPACT"
          ],
          [
           "M760Li xDrive",
           "FULL-SIZE"
          ],
          [
           "M850i xDrive Cabriolet",
           "SUBCOMPACT"
          ],
          [
           "M850i xDrive Coupe",
           "SUBCOMPACT"
          ],
          [
           "X1 xDrive28i",
           "SUV - SMALL"
          ],
          [
           "X2 xDrive28i",
           "SUV - SMALL"
          ],
          [
           "X3 xDrive30i",
           "SUV - SMALL"
          ],
          [
           "X3 M40i",
           "SUV - SMALL"
          ],
          [
           "X4 xDrive30i",
           "SUV - SMALL"
          ],
          [
           "X4 M40i",
           "SUV - SMALL"
          ],
          [
           "X5 xDrive40i",
           "SUV - STANDARD"
          ],
          [
           "X5 xDrive50i",
           "SUV - STANDARD"
          ],
          [
           "X6 xDrive35i",
           "SUV - STANDARD"
          ],
          [
           "X6 xDrive50i",
           "SUV - STANDARD"
          ],
          [
           "X6 M",
           "SUV - STANDARD"
          ],
          [
           "X7 xDrive40i",
           "SUV - STANDARD"
          ],
          [
           "X7 xDrive50i",
           "SUV - STANDARD"
          ],
          [
           "230i Cabriolet",
           "SUBCOMPACT"
          ],
          [
           "230i xDrive Cabriolet",
           "SUBCOMPACT"
          ],
          [
           "230i Coupe",
           "SUBCOMPACT"
          ],
          [
           "230i xDrive Coupe",
           "SUBCOMPACT"
          ],
          [
           "330i xDrive Sedan",
           "COMPACT"
          ],
          [
           "430i xDrive Cabriolet",
           "SUBCOMPACT"
          ],
          [
           "430i Coupe",
           "COMPACT"
          ],
          [
           "430i xDrive Coupe",
           "COMPACT"
          ],
          [
           "430i xDrive Gran Coupe",
           "COMPACT"
          ],
          [
           "440i xDrive Cabriolet",
           "SUBCOMPACT"
          ],
          [
           "440i Coupe",
           "COMPACT"
          ],
          [
           "440i xDrive Coupe",
           "COMPACT"
          ],
          [
           "440i xDrive Coupe",
           "COMPACT"
          ],
          [
           "440i xDrive Gran Coupe",
           "COMPACT"
          ],
          [
           "530i xDrive Sedan",
           "MID-SIZE"
          ],
          [
           "540i xDrive Sedan",
           "MID-SIZE"
          ],
          [
           "750i xDrive Sedan",
           "FULL-SIZE"
          ],
          [
           "750Li xDrive Sedan",
           "FULL-SIZE"
          ],
          [
           "Alpina B7 xDrive",
           "FULL-SIZE"
          ],
          [
           "M2 Competition",
           "SUBCOMPACT"
          ],
          [
           "M2 Competition",
           "SUBCOMPACT"
          ],
          [
           "M240i Cabriolet",
           "SUBCOMPACT"
          ],
          [
           "M240i Cabriolet",
           "SUBCOMPACT"
          ],
          [
           "M240i xDrive Cabriolet",
           "SUBCOMPACT"
          ],
          [
           "M240i Coupe",
           "SUBCOMPACT"
          ],
          [
           "M240i Coupe M Performance",
           "SUBCOMPACT"
          ],
          [
           "M240i Coupe",
           "SUBCOMPACT"
          ],
          [
           "M240i Coupe M Performance",
           "SUBCOMPACT"
          ],
          [
           "M240i xDrive Coupe",
           "SUBCOMPACT"
          ],
          [
           "M240i xDrive Coupe M Performance",
           "SUBCOMPACT"
          ],
          [
           "M340i xDrive Sedan",
           "COMPACT"
          ],
          [
           "M4 Cabriolet",
           "SUBCOMPACT"
          ],
          [
           "M4 Cabriolet Competition",
           "SUBCOMPACT"
          ],
          [
           "M4 Cabriolet",
           "SUBCOMPACT"
          ],
          [
           "M4 Cabriolet Competition",
           "SUBCOMPACT"
          ],
          [
           "M4 Coupe",
           "COMPACT"
          ],
          [
           "M4 Coupe Competition",
           "COMPACT"
          ],
          [
           "M4 Coupe",
           "COMPACT"
          ],
          [
           "M4 Coupe Competition",
           "COMPACT"
          ],
          [
           "M4 CS",
           "COMPACT"
          ],
          [
           "M5 Sedan",
           "MID-SIZE"
          ],
          [
           "M5 Competition",
           "MID-SIZE"
          ],
          [
           "M550i xDrive Sedan",
           "MID-SIZE"
          ],
          [
           "M760i xDrive Sedan",
           "FULL-SIZE"
          ],
          [
           "M8 Cabriolet",
           "SUBCOMPACT"
          ],
          [
           "M8 Cabriolet Competition",
           "SUBCOMPACT"
          ],
          [
           "M8 Coupe",
           "SUBCOMPACT"
          ],
          [
           "M8 Coupe Competition",
           "SUBCOMPACT"
          ],
          [
           "M8 Gran Coupe",
           "MID-SIZE"
          ],
          [
           "M8 Gran Coupe Competition",
           "MID-SIZE"
          ],
          [
           "M850i xDrive Cabriolet",
           "SUBCOMPACT"
          ],
          [
           "M850i xDrive Coupe",
           "SUBCOMPACT"
          ],
          [
           "M850i xDrive Gran Coupe",
           "MID-SIZE"
          ],
          [
           "X1 xDrive28i",
           "SUV - SMALL"
          ],
          [
           "X2 xDrive28i",
           "SUV - SMALL"
          ],
          [
           "X2 M35i",
           "SUV - SMALL"
          ],
          [
           "X3 xDrive30i",
           "SUV - SMALL"
          ],
          [
           "X3 M",
           "SUV - SMALL"
          ],
          [
           "X3 M Competition",
           "SUV - SMALL"
          ],
          [
           "X3 M40i",
           "SUV - SMALL"
          ],
          [
           "X4 xDrive30i",
           "SUV - SMALL"
          ],
          [
           "X4 M",
           "SUV - SMALL"
          ],
          [
           "X4 M Competition",
           "SUV - SMALL"
          ],
          [
           "X4 M40i",
           "SUV - SMALL"
          ],
          [
           "X5 xDrive40i",
           "SUV - STANDARD"
          ],
          [
           "X5 xDrive50i",
           "SUV - STANDARD"
          ],
          [
           "X5 M50i",
           "SUV - STANDARD"
          ],
          [
           "X6 xDrive40i",
           "SUV - STANDARD"
          ],
          [
           "X6 M50i",
           "SUV - STANDARD"
          ],
          [
           "X7 xDrive40i",
           "SUV - STANDARD"
          ],
          [
           "X7 xDrive50i",
           "SUV - STANDARD"
          ],
          [
           "X7 M50i",
           "SUV - STANDARD"
          ],
          [
           "Z4 sDrive30i",
           "TWO-SEATER"
          ],
          [
           "Z4 M40i",
           "TWO-SEATER"
          ]
         ],
         "hovertemplate": "Make=BMW<br>Engine Size(L)=%{x}<br>CO2 Emissions(g/km)=%{y}<br>Fuel Consumption Comb (mpg)=%{marker.size}<br>Model=%{customdata[0]}<br>Vehicle Class=%{customdata[1]}<extra></extra>",
         "legendgroup": "BMW",
         "marker": {
          "color": "#EF553B",
          "size": {
           "bdata": "IiAgKioiIB8fHx0cHRscIiAfHRwdGyAfJBwaFxYcFhcWGhYWEiIeHxYWExQTFBMUExQfGRwaGRQSGBQfIBcaFyAiHx8gIh8gKioiHx8fHx0dHBscICIfIB8dHx8dHR0dGxwbHCAfJBsaFxYbGxYXFiAbFhYSIB4eFhYWHBocGxwXGBcYFxgTFRMVExUTFR8ZJB0aHBoTIBkUExkUHx8XGhciHyAgIh8gKiogICAcHh0eGyAiHyAfHiAgHR0bHBwbHCAkHBkXFxwcFxcXFxceFxsZHRsdGxwcFxgXGBcYExUTFRMVExUfJB0aGRwaEyAZFBMZFB8fFxcgIh4fHyIhICgoHx8fHRsdGxwfHx8dGxwdGx0fHRsbFxgXHBgXFxcbGR0bHRodHRcYFxgXGBMUExQTFBMfIxwZGRsTHhkVExkVIh4gISgoICAgJBseGxwfICAkGxweGx4gHBsbGxcXFxcXFxsZHhoeGh0dGBgWGBgYFxMUExQTFBMeHh4bGxkeGRUTGRUTICEiICAfICAeGhwdGh0gHRsbGBkYGBgWGB0aHRodGh0dHRYYFhgWGBYYFhQUGRMTGBkeHh0bHRsbFRgWExoWIB4hHiIfIB4eGh0cGhwgHhcXFxcYHRocHR0aGhwcHBYWGBgXFxgYFxQUGBMUFBQUFBQXGBcfIB8fExMcHxMTHBsWFhsWGhUVIR4=",
           "dtype": "i1"
          },
          "sizemode": "area",
          "sizeref": 0.28444444444444444,
          "symbol": "circle"
         },
         "mode": "markers",
         "name": "BMW",
         "showlegend": true,
         "type": "scattergl",
         "x": {
          "bdata": "AAAAAAAAAEAAAAAAAAAAQAAAAAAAAABAAAAAAAAAAEAAAAAAAAAAQAAAAAAAAABAAAAAAAAAAEAAAAAAAAAAQAAAAAAAAABAAAAAAAAAAEAAAAAAAAAIQAAAAAAAAAhAAAAAAAAACEAAAAAAAAAIQAAAAAAAAAhAAAAAAAAAAEAAAAAAAAAAQAAAAAAAAABAAAAAAAAACEAAAAAAAAAIQAAAAAAAAAhAAAAAAAAACEAAAAAAAAAAQAAAAAAAAABAAAAAAAAACEAAAAAAAAAIQAAAAAAAAAhAmpmZmZmZEUCamZmZmZkRQAAAAAAAAAhAmpmZmZmZEUCamZmZmZkRQJqZmZmZmRFAAAAAAAAACECamZmZmZkRQJqZmZmZmRFAAAAAAAAAGEAAAAAAAAAIQAAAAAAAAAhAAAAAAAAACECamZmZmZkRQJqZmZmZmRFAmpmZmZmZEUCamZmZmZkRQJqZmZmZmRFAmpmZmZmZEUCamZmZmZkRQJqZmZmZmRFAmpmZmZmZEUCamZmZmZkRQAAAAAAAAABAAAAAAAAACEAAAAAAAAAAQAAAAAAAAAhAAAAAAAAACECamZmZmZkRQJqZmZmZmRFAAAAAAAAACECamZmZmZkRQAAAAAAAAABAAAAAAAAAAEAAAAAAAAAIQAAAAAAAAAhAAAAAAAAACEAAAAAAAAAAQAAAAAAAAABAAAAAAAAAAEAAAAAAAAAAQAAAAAAAAABAAAAAAAAAAEAAAAAAAAAAQAAAAAAAAABAAAAAAAAAAEAAAAAAAAAAQAAAAAAAAABAAAAAAAAAAEAAAAAAAAAAQAAAAAAAAABAAAAAAAAAAEAAAAAAAAAIQAAAAAAAAAhAAAAAAAAACEAAAAAAAAAIQAAAAAAAAAhAAAAAAAAAAEAAAAAAAAAAQAAAAAAAAABAAAAAAAAAAEAAAAAAAAAAQAAAAAAAAABAAAAAAAAAAEAAAAAAAAAAQAAAAAAAAAhAAAAAAAAACEAAAAAAAAAIQAAAAAAAAAhAAAAAAAAACEAAAAAAAAAIQAAAAAAAAAhAAAAAAAAACEAAAAAAAAAAQAAAAAAAAABAAAAAAAAACEAAAAAAAAAIQAAAAAAAAAhAmpmZmZmZEUCamZmZmZkRQAAAAAAAAAhAAAAAAAAACECamZmZmZkRQJqZmZmZmRFAmpmZmZmZEUAAAAAAAAAIQAAAAAAAAAhAmpmZmZmZEUCamZmZmZkRQAAAAAAAABhAAAAAAAAACEAAAAAAAAAIQAAAAAAAAAhAmpmZmZmZEUCamZmZmZkRQJqZmZmZmRFAAAAAAAAACEAAAAAAAAAIQAAAAAAAAAhAAAAAAAAACEAAAAAAAAAIQAAAAAAAAAhAAAAAAAAACEAAAAAAAAAIQAAAAAAAAAhAAAAAAAAACEAAAAAAAAAIQJqZmZmZmRFAmpmZmZmZEUCamZmZmZkRQJqZmZmZmRFAmpmZmZmZEUCamZmZmZkRQJqZmZmZmRFAmpmZmZmZEUAAAAAAAAAAQAAAAAAAAAhAAAAAAAAAAEAAAAAAAAAAQAAAAAAAAAhAAAAAAAAAAEAAAAAAAAAIQJqZmZmZmRFAAAAAAAAACEAAAAAAAAAIQJqZmZmZmRFAmpmZmZmZEUAAAAAAAAAIQJqZmZmZmRFAAAAAAAAAAEAAAAAAAAAAQAAAAAAAAAhAAAAAAAAACEAAAAAAAAAIQAAAAAAAAABAAAAAAAAAAEAAAAAAAAAAQAAAAAAAAABAAAAAAAAAAEAAAAAAAAAAQAAAAAAAAABAAAAAAAAAAEAAAAAAAAAAQAAAAAAAAABAAAAAAAAAAEAAAAAAAAAAQAAAAAAAAAhAAAAAAAAACEAAAAAAAAAIQAAAAAAAAAhAAAAAAAAACEAAAAAAAAAAQAAAAAAAAABAAAAAAAAAAEAAAAAAAAAAQAAAAAAAAABAAAAAAAAAAEAAAAAAAAAAQAAAAAAAAABAAAAAAAAACEAAAAAAAAAIQAAAAAAAAAhAAAAAAAAACEAAAAAAAAAIQAAAAAAAAAhAAAAAAAAACEAAAAAAAAAAQAAAAAAAAAhAAAAAAAAACEAAAAAAAAAIQJqZmZmZmRFAmpmZmZmZEUAAAAAAAAAIQAAAAAAAAAhAmpmZmZmZEUCamZmZmZkRQJqZmZmZmRFAmpmZmZmZEUCamZmZmZkRQAAAAAAAAAhAmpmZmZmZEUAAAAAAAAAIQAAAAAAAAAhAAAAAAAAACEAAAAAAAAAIQAAAAAAAAAhAAAAAAAAACEAAAAAAAAAIQAAAAAAAAAhAAAAAAAAACEAAAAAAAAAIQAAAAAAAAAhAAAAAAAAACEAAAAAAAAAIQAAAAAAAAAhAmpmZmZmZEUCamZmZmZkRQJqZmZmZmRFAmpmZmZmZEUCamZmZmZkRQJqZmZmZmRFAmpmZmZmZEUCamZmZmZkRQAAAAAAAAABAAAAAAAAAAEAAAAAAAAAAQAAAAAAAAAhAAAAAAAAACEAAAAAAAAAAQAAAAAAAAAhAmpmZmZmZEUAAAAAAAAAIQAAAAAAAAAhAmpmZmZmZEUCamZmZmZkRQAAAAAAAAAhAmpmZmZmZEUAAAAAAAAAAQAAAAAAAAABAAAAAAAAACEAAAAAAAAAIQAAAAAAAAABAAAAAAAAAAEAAAAAAAAAAQAAAAAAAAABAAAAAAAAAAEAAAAAAAAAAQAAAAAAAAABAAAAAAAAAAEAAAAAAAAAAQAAAAAAAAABAAAAAAAAAAEAAAAAAAAAAQAAAAAAAAABAAAAAAAAACEAAAAAAAAAIQAAAAAAAAAhAAAAAAAAACEAAAAAAAAAIQAAAAAAAAABAAAAAAAAAAEAAAAAAAAAAQAAAAAAAAAhAAAAAAAAACEAAAAAAAAAIQAAAAAAAAAhAAAAAAAAACEAAAAAAAAAIQAAAAAAAAABAAAAAAAAACEAAAAAAAAAIQAAAAAAAAAhAmpmZmZmZEUCamZmZmZkRQJqZmZmZmRFAAAAAAAAACECamZmZmZkRQJqZmZmZmRFAmpmZmZmZEUCamZmZmZkRQAAAAAAAAAhAAAAAAAAACEAAAAAAAAAIQAAAAAAAAAhAAAAAAAAACEAAAAAAAAAIQAAAAAAAAAhAAAAAAAAACEAAAAAAAAAIQAAAAAAAAAhAAAAAAAAACEAAAAAAAAAIQAAAAAAAAAhAAAAAAAAACECamZmZmZkRQJqZmZmZmRFAmpmZmZmZEUCamZmZmZkRQJqZmZmZmRFAmpmZmZmZEUBmZmZmZmYaQAAAAAAAAABAAAAAAAAAAEAAAAAAAAAAQAAAAAAAAAhAAAAAAAAACEAAAAAAAAAAQJqZmZmZmRFAAAAAAAAACEAAAAAAAAAIQJqZmZmZmRFAmpmZmZmZEUAAAAAAAAAIQJqZmZmZmRFAAAAAAAAAAEAAAAAAAAAAQAAAAAAAAABAAAAAAAAAAEAAAAAAAAAAQAAAAAAAAABAAAAAAAAAAEAAAAAAAAAAQAAAAAAAAABAAAAAAAAACEAAAAAAAAAIQAAAAAAAAAhAAAAAAAAACEAAAAAAAAAIQAAAAAAAAABAAAAAAAAAAEAAAAAAAAAAQAAAAAAAAAhAAAAAAAAACEAAAAAAAAAIQAAAAAAAAAhAAAAAAAAACEAAAAAAAAAIQAAAAAAAAABAAAAAAAAACEAAAAAAAAAIQAAAAAAAAAhAAAAAAAAACECamZmZmZkRQJqZmZmZmRFAmpmZmZmZEUCamZmZmZkRQJqZmZmZmRFAmpmZmZmZEUAAAAAAAAAIQAAAAAAAAAhAAAAAAAAACEAAAAAAAAAIQAAAAAAAAAhAAAAAAAAACEAAAAAAAAAIQAAAAAAAAAhAAAAAAAAACEAAAAAAAAAIQAAAAAAAAAhAAAAAAAAACEAAAAAAAAAIQAAAAAAAAAhAmpmZmZmZEUCamZmZmZkRQJqZmZmZmRFAmpmZmZmZEUCamZmZmZkRQJqZmZmZmRFAmpmZmZmZEUBmZmZmZmYaQAAAAAAAAABAAAAAAAAAAEAAAAAAAAAAQAAAAAAAAAhAAAAAAAAAAEAAAAAAAAAIQAAAAAAAAAhAAAAAAAAACECamZmZmZkRQJqZmZmZmRFAAAAAAAAACECamZmZmZkRQJqZmZmZmRFAAAAAAAAAAEAAAAAAAAAAQAAAAAAAAABAAAAAAAAAAEAAAAAAAAAAQAAAAAAAAABAAAAAAAAAAEAAAAAAAAAAQAAAAAAAAAhAAAAAAAAACEAAAAAAAAAIQAAAAAAAAAhAAAAAAAAACEAAAAAAAAAIQAAAAAAAAABAAAAAAAAACEAAAAAAAAAIQAAAAAAAAAhAmpmZmZmZEUCamZmZmZkRQJqZmZmZmRFAmpmZmZmZEUCamZmZmZkRQAAAAAAAAAhAAAAAAAAACEAAAAAAAAAIQAAAAAAAAAhAAAAAAAAACEAAAAAAAAAIQAAAAAAAAAhAAAAAAAAACEAAAAAAAAAIQAAAAAAAAAhAAAAAAAAACEAAAAAAAAAIQAAAAAAAAAhAAAAAAAAACEAAAAAAAAAIQAAAAAAAAAhAAAAAAAAACEAAAAAAAAAIQAAAAAAAAAhAAAAAAAAACECamZmZmZkRQJqZmZmZmRFAmpmZmZmZEUCamZmZmZkRQGZmZmZmZhpAmpmZmZmZEUCamZmZmZkRQAAAAAAAAABAAAAAAAAAAEAAAAAAAAAAQAAAAAAAAAhAAAAAAAAAAEAAAAAAAAAIQAAAAAAAAAhAmpmZmZmZEUAAAAAAAAAIQJqZmZmZmRFAmpmZmZmZEUAAAAAAAAAIQJqZmZmZmRFAAAAAAAAAAEAAAAAAAAAAQAAAAAAAAABAAAAAAAAAAEAAAAAAAAAAQAAAAAAAAABAAAAAAAAAAEAAAAAAAAAAQAAAAAAAAABAAAAAAAAACEAAAAAAAAAIQAAAAAAAAAhAAAAAAAAACEAAAAAAAAAIQAAAAAAAAABAAAAAAAAACECamZmZmZkRQJqZmZmZmRFAmpmZmZmZEUAAAAAAAAAIQAAAAAAAAAhAAAAAAAAACEAAAAAAAAAIQAAAAAAAAAhAAAAAAAAACEAAAAAAAAAIQAAAAAAAAAhAAAAAAAAACEAAAAAAAAAIQAAAAAAAAAhAAAAAAAAACEAAAAAAAAAIQAAAAAAAAAhAAAAAAAAACEAAAAAAAAAIQAAAAAAAAAhAAAAAAAAACEAAAAAAAAAIQAAAAAAAAAhAAAAAAAAACECamZmZmZkRQJqZmZmZmRFAmpmZmZmZEUBmZmZmZmYaQJqZmZmZmRFAmpmZmZmZEUCamZmZmZkRQJqZmZmZmRFAmpmZmZmZEUCamZmZmZkRQJqZmZmZmRFAmpmZmZmZEUCamZmZmZkRQAAAAAAAAABAAAAAAAAAAEAAAAAAAAAAQAAAAAAAAABAAAAAAAAACEAAAAAAAAAIQAAAAAAAAAhAAAAAAAAAAEAAAAAAAAAIQAAAAAAAAAhAAAAAAAAACEAAAAAAAAAIQJqZmZmZmRFAmpmZmZmZEUAAAAAAAAAIQJqZmZmZmRFAAAAAAAAACECamZmZmZkRQJqZmZmZmRFAAAAAAAAAAEAAAAAAAAAIQA==",
          "dtype": "f8"
         },
         "xaxis": "x",
         "y": {
          "bdata": "wQDIAMoAtQC1AMEAyADRANEA0QDdAOYA5ADtAOgAwQDIANEA3QDmAOQA7QDKANEA1QDoAPYAGQEkAegAJAEZASQB9gAkASQBZAG/ANYA1AAkASQBUgE9AVIBPQFSAT0BUgE9AdEABAHmAP0A/wBAAXIBEgFEAdEAyAAWAf0AFgHNAMEAzwDRAMgAwQDPAMgAtQC1AMEAzwDRANEA0QDdAOEA5gDtAOYAzQDBAM8AzQDPAN0A0QDRAOQA3QDhAN0A7QDmAO0A5gDNANEA1QDtAP0AGwEmAe0A7QAmARsBJgHuAO0AJgEmAWQByADYANYAJgEmASYB6wD4AOsA7wDmABYBCwEWAQ8BFgELAVIBOwFSATsBUgE7AVIBOwHRAAIB1QDkAPsA6wD7AFAB6wD/AD0BUAH/AD0B0QDPABYB/QAWAcUA0wDPANEAxQDTAM8AtwC3ANEA0QDRAO4A2QDnANgA8QDTAMUA0wDTANIA3QDRANEA6ADoAPYA7gDuAPcA7gDRANQA7gAHASABGwHuAO4AGwEgARsBGwEbAdsAGwH0AAQB6AD1AOgA9gDuAO4AHAEPARoBFgEcAQ8BWAFBAVgBQQFYAUEBWAFBAdcA0wDnAAEBCAHuAAEBVwHpAA0BQgFXAQ0BQgHUANMAGgEaAc8AxQDbANUA0gDIAMoAzgC9AL0A1QDVANUA4ADyAOQA9gDuANMA1QDVAOAA8gDuAOQA9gDkANUA5AD5APkAJAERASQB7gARASQBJAEkAfUACwHgAPIA4AD6AOQA5AAcAREBGwERARwBEQFXAUQBVwFEAVcBRAFjAdUA0wDpAAQBBAHwAFUB+QAOAUABVQEOAUABxQDbANAAygC4ALgA0ADQANAAtwDwAN8A9QDrANYA0ADQALcA8ADrAN8A9QDfANAA7AD4APgA8QAkAR4BJAEkARsBJAH1AAsB3gD/AN4A+QDjAOMAGAERASsBGAEYAREBGwFYAUQBWAFEAVgBRAFjAdkA3gDfAPEA8AAKAfYADgE9AVUBDgE9AVUBzwDKAMIAzwDPANUAzwDPAOMAAAHrAOQAAAHkAM8A5wD4APEAGgENARoBGgEaASYBEQHjAAAB4wAAAeMAAAHlAOUA5QArARgBKwEYASYBEQEmAREBJgFEAUQBDQFYAWMBDgENAdkA3gDfAPUA3wD1APUAOgEQASYBVQH+ACYBzADbAMgA2wDDANUAzADbANsA+QDnAOkAAQHpAM4A3gAiASIBIgEiAREB5wD/AOkA5wDnAP8A/wDpAOkA6QArASsBGAEYASIBIgERAREBIgFCAUIBEQFiAUIBQgFCAUIBQgFCASIBEQEiAdUAzwDSANcAUwFTAesA1wBTAVMB6wD1AC4BLgH1AC4B/gA+AT4ByADYAA==",
          "dtype": "i2"
         },
         "yaxis": "y"
        },
        {
         "customdata": [
          [
           "CAMARO",
           "COMPACT"
          ],
          [
           "CAMARO",
           "COMPACT"
          ],
          [
           "CAMARO 2LS",
           "COMPACT"
          ],
          [
           "CAMARO SS",
           "COMPACT"
          ],
          [
           "CAMARO SS",
           "COMPACT"
          ],
          [
           "CAMARO ZL1",
           "COMPACT"
          ],
          [
           "CAMARO ZL1",
           "COMPACT"
          ],
          [
           "CORVETTE",
           "TWO-SEATER"
          ],
          [
           "CORVETTE",
           "TWO-SEATER"
          ],
          [
           "CRUZE",
           "MID-SIZE"
          ],
          [
           "CRUZE",
           "MID-SIZE"
          ],
          [
           "CRUZE",
           "MID-SIZE"
          ],
          [
           "CRUZE",
           "MID-SIZE"
          ],
          [
           "CRUZE DIESEL",
           "MID-SIZE"
          ],
          [
           "CRUZE ECO",
           "MID-SIZE"
          ],
          [
           "CRUZE ECO",
           "MID-SIZE"
          ],
          [
           "EQUINOX",
           "SUV - SMALL"
          ],
          [
           "EQUINOX",
           "SUV - SMALL"
          ],
          [
           "EQUINOX",
           "SUV - SMALL"
          ],
          [
           "EQUINOX AWD",
           "SUV - SMALL"
          ],
          [
           "EQUINOX AWD",
           "SUV - SMALL"
          ],
          [
           "EQUINOX AWD",
           "SUV - SMALL"
          ],
          [
           "EXPRESS 1500 CARGO",
           "VAN - CARGO"
          ],
          [
           "EXPRESS 1500 CARGO",
           "VAN - CARGO"
          ],
          [
           "EXPRESS 1500 CARGO",
           "VAN - CARGO"
          ],
          [
           "EXPRESS 1500 CARGO AWD",
           "VAN - CARGO"
          ],
          [
           "EXPRESS 1500 CARGO AWD",
           "VAN - CARGO"
          ],
          [
           "EXPRESS 1500 CARGO CONV",
           "VAN - CARGO"
          ],
          [
           "EXPRESS 1500 CARGO CONV",
           "VAN - CARGO"
          ],
          [
           "EXPRESS 1500 CARGO CONV AWD",
           "VAN - CARGO"
          ],
          [
           "EXPRESS 1500 CARGO CONV AWD",
           "VAN - CARGO"
          ],
          [
           "EXPRESS 1500 PASSENGER",
           "VAN - PASSENGER"
          ],
          [
           "EXPRESS 1500 PASSENGER",
           "VAN - PASSENGER"
          ],
          [
           "EXPRESS 1500 PASSENGER AWD",
           "VAN - PASSENGER"
          ],
          [
           "EXPRESS 1500 PASSENGER AWD",
           "VAN - PASSENGER"
          ],
          [
           "EXPRESS 2500 PASSENGER",
           "VAN - PASSENGER"
          ],
          [
           "EXPRESS 2500 PASSENGER",
           "VAN - PASSENGER"
          ],
          [
           "EXPRESS 2500 PASSENGER",
           "VAN - PASSENGER"
          ],
          [
           "EXPRESS 3500 PASSENGER",
           "VAN - PASSENGER"
          ],
          [
           "EXPRESS 3500 PASSENGER",
           "VAN - PASSENGER"
          ],
          [
           "EXPRESS 3500 PASSENGER",
           "VAN - PASSENGER"
          ],
          [
           "IMPALA",
           "FULL-SIZE"
          ],
          [
           "IMPALA",
           "FULL-SIZE"
          ],
          [
           "IMPALA",
           "FULL-SIZE"
          ],
          [
           "IMPALA ECO",
           "FULL-SIZE"
          ],
          [
           "MALIBU",
           "MID-SIZE"
          ],
          [
           "MALIBU",
           "MID-SIZE"
          ],
          [
           "ORLANDO",
           "SUV - SMALL"
          ],
          [
           "ORLANDO",
           "SUV - SMALL"
          ],
          [
           "SILVERADO",
           "PICKUP TRUCK - STANDARD"
          ],
          [
           "SILVERADO",
           "PICKUP TRUCK - STANDARD"
          ],
          [
           "SILVERADO",
           "PICKUP TRUCK - STANDARD"
          ],
          [
           "SILVERADO",
           "PICKUP TRUCK - STANDARD"
          ],
          [
           "SILVERADO",
           "PICKUP TRUCK - STANDARD"
          ],
          [
           "SILVERADO 4WD",
           "PICKUP TRUCK - STANDARD"
          ],
          [
           "SILVERADO 4WD",
           "PICKUP TRUCK - STANDARD"
          ],
          [
           "SILVERADO 4WD",
           "PICKUP TRUCK - STANDARD"
          ],
          [
           "SILVERADO 4WD",
           "PICKUP TRUCK - STANDARD"
          ],
          [
           "SILVERADO 4WD",
           "PICKUP TRUCK - STANDARD"
          ],
          [
           "SONIC",
           "COMPACT"
          ],
          [
           "SONIC",
           "COMPACT"
          ],
          [
           "SONIC",
           "COMPACT"
          ],
          [
           "SONIC",
           "COMPACT"
          ],
          [
           "SONIC RS",
           "COMPACT"
          ],
          [
           "SONIC RS",
           "COMPACT"
          ],
          [
           "SONIC 5",
           "MID-SIZE"
          ],
          [
           "SONIC 5",
           "MID-SIZE"
          ],
          [
           "SONIC 5",
           "MID-SIZE"
          ],
          [
           "SONIC 5",
           "MID-SIZE"
          ],
          [
           "SONIC 5 RS",
           "MID-SIZE"
          ],
          [
           "SONIC 5 RS",
           "MID-SIZE"
          ],
          [
           "SPARK",
           "SUBCOMPACT"
          ],
          [
           "SPARK",
           "SUBCOMPACT"
          ],
          [
           "SUBURBAN",
           "SUV - STANDARD"
          ],
          [
           "SUBURBAN",
           "SUV - STANDARD"
          ],
          [
           "SUBURBAN 4WD",
           "SUV - STANDARD"
          ],
          [
           "SUBURBAN 4WD",
           "SUV - STANDARD"
          ],
          [
           "TAHOE",
           "SUV - STANDARD"
          ],
          [
           "TAHOE",
           "SUV - STANDARD"
          ],
          [
           "TAHOE 4WD",
           "SUV - STANDARD"
          ],
          [
           "TAHOE 4WD",
           "SUV - STANDARD"
          ],
          [
           "TRAVERSE",
           "SUV - STANDARD"
          ],
          [
           "TRAVERSE AWD",
           "SUV - STANDARD"
          ],
          [
           "TRAX",
           "SUV - SMALL"
          ],
          [
           "TRAX",
           "SUV - SMALL"
          ],
          [
           "TRAX AWD",
           "SUV - SMALL"
          ],
          [
           "CAMARO",
           "COMPACT"
          ],
          [
           "CAMARO",
           "COMPACT"
          ],
          [
           "CAMARO",
           "COMPACT"
          ],
          [
           "CAMARO",
           "COMPACT"
          ],
          [
           "CAMARO 2LS",
           "COMPACT"
          ],
          [
           "CAMARO Z/28",
           "COMPACT"
          ],
          [
           "CAMARO ZL1",
           "COMPACT"
          ],
          [
           "CAMARO ZL1",
           "COMPACT"
          ],
          [
           "CITY EXPRESS",
           "SPECIAL PURPOSE VEHICLE"
          ],
          [
           "COLORADO",
           "PICKUP TRUCK - SMALL"
          ],
          [
           "COLORADO",
           "PICKUP TRUCK - SMALL"
          ],
          [
           "COLORADO",
           "PICKUP TRUCK - SMALL"
          ],
          [
           "COLORADO 4WD",
           "PICKUP TRUCK - SMALL"
          ],
          [
           "COLORADO 4WD",
           "PICKUP TRUCK - SMALL"
          ],
          [
           "CORVETTE",
           "TWO-SEATER"
          ],
          [
           "CORVETTE",
           "TWO-SEATER"
          ],
          [
           "CORVETTE Z06",
           "TWO-SEATER"
          ],
          [
           "CORVETTE Z06",
           "TWO-SEATER"
          ],
          [
           "CRUZE",
           "MID-SIZE"
          ],
          [
           "CRUZE",
           "MID-SIZE"
          ],
          [
           "CRUZE",
           "MID-SIZE"
          ],
          [
           "CRUZE",
           "MID-SIZE"
          ],
          [
           "CRUZE DIESEL",
           "MID-SIZE"
          ],
          [
           "CRUZE ECO",
           "MID-SIZE"
          ],
          [
           "CRUZE ECO",
           "MID-SIZE"
          ],
          [
           "EQUINOX",
           "SUV - SMALL"
          ],
          [
           "EQUINOX FFV",
           "SUV - SMALL"
          ],
          [
           "EQUINOX FFV",
           "SUV - SMALL"
          ],
          [
           "EQUINOX",
           "SUV - SMALL"
          ],
          [
           "EQUINOX AWD",
           "SUV - SMALL"
          ],
          [
           "EQUINOX AWD FFV",
           "SUV - SMALL"
          ],
          [
           "EQUINOX AWD FFV",
           "SUV - SMALL"
          ],
          [
           "EQUINOX AWD",
           "SUV - SMALL"
          ],
          [
           "EXPRESS 2500 PASSENGER",
           "VAN - PASSENGER"
          ],
          [
           "EXPRESS 2500 PASSENGER",
           "VAN - PASSENGER"
          ],
          [
           "EXPRESS 2500 PASSENGER FFV",
           "VAN - PASSENGER"
          ],
          [
           "EXPRESS 2500 PASSENGER FFV",
           "VAN - PASSENGER"
          ],
          [
           "EXPRESS 3500 PASSENGER",
           "VAN - PASSENGER"
          ],
          [
           "EXPRESS 3500 PASSENGER",
           "VAN - PASSENGER"
          ],
          [
           "EXPRESS 3500 PASSENGER FFV",
           "VAN - PASSENGER"
          ],
          [
           "EXPRESS 3500 PASSENGER FFV",
           "VAN - PASSENGER"
          ],
          [
           "IMPALA",
           "FULL-SIZE"
          ],
          [
           "IMPALA",
           "FULL-SIZE"
          ],
          [
           "IMPALA",
           "FULL-SIZE"
          ],
          [
           "MALIBU",
           "MID-SIZE"
          ],
          [
           "MALIBU",
           "MID-SIZE"
          ],
          [
           "SILVERADO",
           "PICKUP TRUCK - STANDARD"
          ],
          [
           "SILVERADO",
           "PICKUP TRUCK - STANDARD"
          ],
          [
           "SILVERADO",
           "PICKUP TRUCK - STANDARD"
          ],
          [
           "SILVERADO",
           "PICKUP TRUCK - STANDARD"
          ],
          [
           "SILVERADO",
           "PICKUP TRUCK - STANDARD"
          ],
          [
           "SILVERADO 4WD",
           "PICKUP TRUCK - STANDARD"
          ],
          [
           "SILVERADO 4WD",
           "PICKUP TRUCK - STANDARD"
          ],
          [
           "SILVERADO 4WD",
           "PICKUP TRUCK - STANDARD"
          ],
          [
           "SILVERADO 4WD",
           "PICKUP TRUCK - STANDARD"
          ],
          [
           "SILVERADO 4WD",
           "PICKUP TRUCK - STANDARD"
          ],
          [
           "SONIC",
           "COMPACT"
          ],
          [
           "SONIC",
           "COMPACT"
          ],
          [
           "SONIC",
           "COMPACT"
          ],
          [
           "SONIC",
           "COMPACT"
          ],
          [
           "SONIC RS",
           "COMPACT"
          ],
          [
           "SONIC RS",
           "COMPACT"
          ],
          [
           "SONIC 5",
           "MID-SIZE"
          ],
          [
           "SONIC 5",
           "MID-SIZE"
          ],
          [
           "SONIC 5",
           "MID-SIZE"
          ],
          [
           "SONIC 5",
           "MID-SIZE"
          ],
          [
           "SONIC 5 RS",
           "MID-SIZE"
          ],
          [
           "SONIC 5 RS",
           "MID-SIZE"
          ],
          [
           "SPARK",
           "SUBCOMPACT"
          ],
          [
           "SPARK",
           "SUBCOMPACT"
          ],
          [
           "SUBURBAN",
           "SUV - STANDARD"
          ],
          [
           "SUBURBAN",
           "SUV - STANDARD"
          ],
          [
           "SUBURBAN 4WD",
           "SUV - STANDARD"
          ],
          [
           "SUBURBAN 4WD",
           "SUV - STANDARD"
          ],
          [
           "TAHOE",
           "SUV - STANDARD"
          ],
          [
           "TAHOE",
           "SUV - STANDARD"
          ],
          [
           "TAHOE 4WD",
           "SUV - STANDARD"
          ],
          [
           "TAHOE 4WD",
           "SUV - STANDARD"
          ],
          [
           "TRAVERSE",
           "SUV - STANDARD"
          ],
          [
           "TRAVERSE AWD",
           "SUV - STANDARD"
          ],
          [
           "TRAX",
           "SUV - SMALL"
          ],
          [
           "TRAX",
           "SUV - SMALL"
          ],
          [
           "TRAX AWD",
           "SUV - SMALL"
          ],
          [
           "CAMARO",
           "COMPACT"
          ],
          [
           "CAMARO",
           "COMPACT"
          ],
          [
           "CAMARO",
           "COMPACT"
          ],
          [
           "CAMARO",
           "COMPACT"
          ],
          [
           "CAMARO SS",
           "COMPACT"
          ],
          [
           "CAMARO SS",
           "COMPACT"
          ],
          [
           "CITY EXPRESS",
           "SPECIAL PURPOSE VEHICLE"
          ],
          [
           "COLORADO",
           "PICKUP TRUCK - SMALL"
          ],
          [
           "COLORADO",
           "PICKUP TRUCK - SMALL"
          ],
          [
           "COLORADO",
           "PICKUP TRUCK - SMALL"
          ],
          [
           "COLORADO",
           "PICKUP TRUCK - SMALL"
          ],
          [
           "COLORADO 4WD",
           "PICKUP TRUCK - SMALL"
          ],
          [
           "COLORADO 4WD",
           "PICKUP TRUCK - SMALL"
          ],
          [
           "COLORADO 4WD",
           "PICKUP TRUCK - SMALL"
          ],
          [
           "CORVETTE",
           "TWO-SEATER"
          ],
          [
           "CORVETTE",
           "TWO-SEATER"
          ],
          [
           "CORVETTE Z06",
           "TWO-SEATER"
          ],
          [
           "CORVETTE Z06",
           "TWO-SEATER"
          ],
          [
           "CRUZE",
           "COMPACT"
          ],
          [
           "CRUZE",
           "COMPACT"
          ],
          [
           "CRUZE PREMIER",
           "COMPACT"
          ],
          [
           "CRUZE LIMITED",
           "MID-SIZE"
          ],
          [
           "CRUZE LIMITED",
           "MID-SIZE"
          ],
          [
           "CRUZE LIMITED",
           "MID-SIZE"
          ],
          [
           "CRUZE LIMITED",
           "MID-SIZE"
          ],
          [
           "CRUZE LIMITED ECO",
           "MID-SIZE"
          ],
          [
           "CRUZE LIMITED ECO",
           "MID-SIZE"
          ],
          [
           "EQUINOX",
           "SUV - SMALL"
          ],
          [
           "EQUINOX",
           "SUV - SMALL"
          ],
          [
           "EQUINOX FFV",
           "SUV - SMALL"
          ],
          [
           "EQUINOX FFV",
           "SUV - SMALL"
          ],
          [
           "EQUINOX AWD",
           "SUV - SMALL"
          ],
          [
           "EQUINOX AWD",
           "SUV - SMALL"
          ],
          [
           "EQUINOX AWD FFV",
           "SUV - SMALL"
          ],
          [
           "EQUINOX AWD FFV",
           "SUV - SMALL"
          ],
          [
           "EXPRESS 2500 PASSENGER",
           "VAN - PASSENGER"
          ],
          [
           "EXPRESS 3500 PASSENGER",
           "VAN - PASSENGER"
          ],
          [
           "IMPALA",
           "FULL-SIZE"
          ],
          [
           "IMPALA FFV",
           "FULL-SIZE"
          ],
          [
           "IMPALA FFV",
           "FULL-SIZE"
          ],
          [
           "IMPALA DUAL FUEL",
           "MID-SIZE"
          ],
          [
           "IMPALA DUAL FUEL",
           "MID-SIZE"
          ],
          [
           "MALIBU",
           "MID-SIZE"
          ],
          [
           "MALIBU",
           "MID-SIZE"
          ],
          [
           "MALIBU LIMITED",
           "MID-SIZE"
          ],
          [
           "MALIBU HYBRID",
           "MID-SIZE"
          ],
          [
           "SILVERADO",
           "PICKUP TRUCK - STANDARD"
          ],
          [
           "SILVERADO",
           "PICKUP TRUCK - STANDARD"
          ],
          [
           "SILVERADO FFV",
           "PICKUP TRUCK - STANDARD"
          ],
          [
           "SILVERADO FFV",
           "PICKUP TRUCK - STANDARD"
          ],
          [
           "SILVERADO FFV",
           "PICKUP TRUCK - STANDARD"
          ],
          [
           "SILVERADO FFV",
           "PICKUP TRUCK - STANDARD"
          ],
          [
           "SILVERADO 4WD",
           "PICKUP TRUCK - STANDARD"
          ],
          [
           "SILVERADO 4WD",
           "PICKUP TRUCK - STANDARD"
          ],
          [
           "SILVERADO 4WD FFV",
           "PICKUP TRUCK - STANDARD"
          ],
          [
           "SILVERADO 4WD FFV",
           "PICKUP TRUCK - STANDARD"
          ],
          [
           "SILVERADO 4WD FFV",
           "PICKUP TRUCK - STANDARD"
          ],
          [
           "SILVERADO 4WD FFV",
           "PICKUP TRUCK - STANDARD"
          ],
          [
           "SILVERADO eASSIST 4WD",
           "PICKUP TRUCK - STANDARD"
          ],
          [
           "SONIC",
           "COMPACT"
          ],
          [
           "SONIC",
           "COMPACT"
          ],
          [
           "SONIC",
           "COMPACT"
          ],
          [
           "SONIC",
           "COMPACT"
          ],
          [
           "SONIC RS",
           "COMPACT"
          ],
          [
           "SONIC RS",
           "COMPACT"
          ],
          [
           "SONIC 5",
           "STATION WAGON - SMALL"
          ],
          [
           "SONIC 5",
           "STATION WAGON - SMALL"
          ],
          [
           "SONIC 5",
           "STATION WAGON - SMALL"
          ],
          [
           "SONIC 5",
           "STATION WAGON - SMALL"
          ],
          [
           "SONIC 5 RS",
           "STATION WAGON - SMALL"
          ],
          [
           "SONIC 5 RS",
           "STATION WAGON - SMALL"
          ],
          [
           "SPARK",
           "SUBCOMPACT"
          ],
          [
           "SPARK",
           "SUBCOMPACT"
          ],
          [
           "SUBURBAN",
           "SUV - STANDARD"
          ],
          [
           "SUBURBAN FFV",
           "SUV - STANDARD"
          ],
          [
           "SUBURBAN FFV",
           "SUV - STANDARD"
          ],
          [
           "SUBURBAN 4WD",
           "SUV - STANDARD"
          ],
          [
           "SUBURBAN 4WD FFV",
           "SUV - STANDARD"
          ],
          [
           "SUBURBAN 4WD FFV",
           "SUV - STANDARD"
          ],
          [
           "TAHOE",
           "SUV - STANDARD"
          ],
          [
           "TAHOE FFV",
           "SUV - STANDARD"
          ],
          [
           "TAHOE FFV",
           "SUV - STANDARD"
          ],
          [
           "TAHOE 4WD",
           "SUV - STANDARD"
          ],
          [
           "TAHOE 4WD FFV",
           "SUV - STANDARD"
          ],
          [
           "TAHOE 4WD FFV",
           "SUV - STANDARD"
          ],
          [
           "TRAVERSE",
           "SUV - STANDARD"
          ],
          [
           "TRAVERSE AWD",
           "SUV - STANDARD"
          ],
          [
           "TRAX",
           "SUV - SMALL"
          ],
          [
           "TRAX",
           "SUV - SMALL"
          ],
          [
           "TRAX 4WD",
           "SUV - SMALL"
          ],
          [
           "CAMARO",
           "SUBCOMPACT"
          ],
          [
           "CAMARO",
           "SUBCOMPACT"
          ],
          [
           "CAMARO",
           "SUBCOMPACT"
          ],
          [
           "CAMARO",
           "SUBCOMPACT"
          ],
          [
           "CAMARO SS",
           "SUBCOMPACT"
          ],
          [
           "CAMARO SS",
           "SUBCOMPACT"
          ],
          [
           "CAMARO ZL1",
           "SUBCOMPACT"
          ],
          [
           "CAMARO ZL1",
           "SUBCOMPACT"
          ],
          [
           "CITY EXPRESS",
           "SPECIAL PURPOSE VEHICLE"
          ],
          [
           "COLORADO",
           "PICKUP TRUCK - SMALL"
          ],
          [
           "COLORADO",
           "PICKUP TRUCK - SMALL"
          ],
          [
           "COLORADO",
           "PICKUP TRUCK - SMALL"
          ],
          [
           "COLORADO",
           "PICKUP TRUCK - SMALL"
          ],
          [
           "COLORADO 4WD",
           "PICKUP TRUCK - SMALL"
          ],
          [
           "COLORADO 4WD",
           "PICKUP TRUCK - SMALL"
          ],
          [
           "COLORADO 4WD",
           "PICKUP TRUCK - SMALL"
          ],
          [
           "COLORADO ZR2 4WD",
           "PICKUP TRUCK - SMALL"
          ],
          [
           "COLORADO ZR2 4WD",
           "PICKUP TRUCK - SMALL"
          ],
          [
           "CORVETTE",
           "TWO-SEATER"
          ],
          [
           "CORVETTE",
           "TWO-SEATER"
          ],
          [
           "CORVETTE Z06",
           "TWO-SEATER"
          ],
          [
           "CORVETTE Z06",
           "TWO-SEATER"
          ],
          [
           "CRUZE",
           "COMPACT"
          ],
          [
           "CRUZE",
           "COMPACT"
          ],
          [
           "CRUZE PREMIER",
           "COMPACT"
          ],
          [
           "CRUZE DIESEL",
           "COMPACT"
          ],
          [
           "CRUZE DIESEL",
           "COMPACT"
          ],
          [
           "CRUZE HATCHBACK",
           "COMPACT"
          ],
          [
           "CRUZE HATCHBACK",
           "COMPACT"
          ],
          [
           "CRUZE HATCHBACK PREMIER",
           "COMPACT"
          ],
          [
           "EQUINOX",
           "SUV - SMALL"
          ],
          [
           "EQUINOX FFV",
           "SUV - SMALL"
          ],
          [
           "EQUINOX FFV",
           "SUV - SMALL"
          ],
          [
           "EQUINOX",
           "SUV - SMALL"
          ],
          [
           "EQUINOX AWD",
           "SUV - SMALL"
          ],
          [
           "EQUINOX AWD FFV",
           "SUV - SMALL"
          ],
          [
           "EQUINOX AWD FFV",
           "SUV - SMALL"
          ],
          [
           "EQUINOX AWD",
           "SUV - SMALL"
          ],
          [
           "EXPRESS 2500 PASSENGER",
           "VAN - PASSENGER"
          ],
          [
           "EXPRESS 3500 PASSENGER",
           "VAN - PASSENGER"
          ],
          [
           "IMPALA",
           "FULL-SIZE"
          ],
          [
           "IMPALA FFV",
           "FULL-SIZE"
          ],
          [
           "IMPALA FFV",
           "FULL-SIZE"
          ],
          [
           "MALIBU",
           "MID-SIZE"
          ],
          [
           "MALIBU",
           "MID-SIZE"
          ],
          [
           "MALIBU HYBRID",
           "MID-SIZE"
          ],
          [
           "SILVERADO",
           "PICKUP TRUCK - STANDARD"
          ],
          [
           "SILVERADO",
           "PICKUP TRUCK - STANDARD"
          ],
          [
           "SILVERADO",
           "PICKUP TRUCK - STANDARD"
          ],
          [
           "SILVERADO FFV",
           "PICKUP TRUCK - STANDARD"
          ],
          [
           "SILVERADO FFV",
           "PICKUP TRUCK - STANDARD"
          ],
          [
           "SILVERADO FFV",
           "PICKUP TRUCK - STANDARD"
          ],
          [
           "SILVERADO FFV",
           "PICKUP TRUCK - STANDARD"
          ],
          [
           "SILVERADO 4WD",
           "PICKUP TRUCK - STANDARD"
          ],
          [
           "SILVERADO 4WD",
           "PICKUP TRUCK - STANDARD"
          ],
          [
           "SILVERADO 4WD",
           "PICKUP TRUCK - STANDARD"
          ],
          [
           "SILVERADO 4WD FFV",
           "PICKUP TRUCK - STANDARD"
          ],
          [
           "SILVERADO 4WD FFV",
           "PICKUP TRUCK - STANDARD"
          ],
          [
           "SILVERADO 4WD FFV",
           "PICKUP TRUCK - STANDARD"
          ],
          [
           "SILVERADO 4WD FFV",
           "PICKUP TRUCK - STANDARD"
          ],
          [
           "SILVERADO eASSIST 4WD",
           "PICKUP TRUCK - STANDARD"
          ],
          [
           "SONIC",
           "COMPACT"
          ],
          [
           "SONIC",
           "COMPACT"
          ],
          [
           "SONIC",
           "COMPACT"
          ],
          [
           "SONIC",
           "COMPACT"
          ],
          [
           "SONIC 5",
           "STATION WAGON - SMALL"
          ],
          [
           "SONIC 5",
           "STATION WAGON - SMALL"
          ],
          [
           "SONIC 5",
           "STATION WAGON - SMALL"
          ],
          [
           "SONIC 5",
           "STATION WAGON - SMALL"
          ],
          [
           "SPARK",
           "SUBCOMPACT"
          ],
          [
           "SPARK",
           "SUBCOMPACT"
          ],
          [
           "SUBURBAN",
           "SUV - STANDARD"
          ],
          [
           "SUBURBAN FFV",
           "SUV - STANDARD"
          ],
          [
           "SUBURBAN FFV",
           "SUV - STANDARD"
          ],
          [
           "SUBURBAN 4WD",
           "SUV - STANDARD"
          ],
          [
           "SUBURBAN 4WD FFV",
           "SUV - STANDARD"
          ],
          [
           "SUBURBAN 4WD FFV",
           "SUV - STANDARD"
          ],
          [
           "TAHOE",
           "SUV - STANDARD"
          ],
          [
           "TAHOE FFV",
           "SUV - STANDARD"
          ],
          [
           "TAHOE FFV",
           "SUV - STANDARD"
          ],
          [
           "TAHOE 4WD",
           "SUV - STANDARD"
          ],
          [
           "TAHOE 4WD FFV",
           "SUV - STANDARD"
          ],
          [
           "TAHOE 4WD FFV",
           "SUV - STANDARD"
          ],
          [
           "TRAVERSE",
           "SUV - STANDARD"
          ],
          [
           "TRAVERSE AWD",
           "SUV - STANDARD"
          ],
          [
           "TRAX",
           "SUV - SMALL"
          ],
          [
           "TRAX",
           "SUV - SMALL"
          ],
          [
           "TRAX AWD",
           "SUV - SMALL"
          ],
          [
           "CAMARO",
           "SUBCOMPACT"
          ],
          [
           "CAMARO",
           "SUBCOMPACT"
          ],
          [
           "CAMARO",
           "SUBCOMPACT"
          ],
          [
           "CAMARO",
           "SUBCOMPACT"
          ],
          [
           "CAMARO SS",
           "SUBCOMPACT"
          ],
          [
           "CAMARO SS",
           "SUBCOMPACT"
          ],
          [
           "CAMARO ZL1",
           "SUBCOMPACT"
          ],
          [
           "CAMARO ZL1",
           "SUBCOMPACT"
          ],
          [
           "CITY EXPRESS",
           "SPECIAL PURPOSE VEHICLE"
          ],
          [
           "COLORADO",
           "PICKUP TRUCK - SMALL"
          ],
          [
           "COLORADO",
           "PICKUP TRUCK - SMALL"
          ],
          [
           "COLORADO",
           "PICKUP TRUCK - SMALL"
          ],
          [
           "COLORADO",
           "PICKUP TRUCK - SMALL"
          ],
          [
           "COLORADO 4WD",
           "PICKUP TRUCK - SMALL"
          ],
          [
           "COLORADO 4WD",
           "PICKUP TRUCK - SMALL"
          ],
          [
           "COLORADO 4WD",
           "PICKUP TRUCK - SMALL"
          ],
          [
           "COLORADO ZR2 4WD",
           "PICKUP TRUCK - SMALL"
          ],
          [
           "COLORADO ZR2 4WD",
           "PICKUP TRUCK - SMALL"
          ],
          [
           "CORVETTE",
           "TWO-SEATER"
          ],
          [
           "CORVETTE",
           "TWO-SEATER"
          ],
          [
           "CORVETTE Z06",
           "TWO-SEATER"
          ],
          [
           "CORVETTE Z06",
           "TWO-SEATER"
          ],
          [
           "CRUZE",
           "COMPACT"
          ],
          [
           "CRUZE",
           "COMPACT"
          ],
          [
           "CRUZE PREMIER",
           "COMPACT"
          ],
          [
           "CRUZE DIESEL",
           "COMPACT"
          ],
          [
           "CRUZE DIESEL",
           "COMPACT"
          ],
          [
           "CRUZE HATCHBACK",
           "MID-SIZE"
          ],
          [
           "CRUZE HATCHBACK",
           "MID-SIZE"
          ],
          [
           "CRUZE HATCHBACK PREMIER",
           "MID-SIZE"
          ],
          [
           "CRUZE HATCHBACK DIESEL",
           "MID-SIZE"
          ],
          [
           "CRUZE HATCHBACK DIESEL",
           "MID-SIZE"
          ],
          [
           "EQUINOX",
           "SUV - SMALL"
          ],
          [
           "EQUINOX",
           "SUV - SMALL"
          ],
          [
           "EQUINOX AWD",
           "SUV - SMALL"
          ],
          [
           "EQUINOX AWD",
           "SUV - SMALL"
          ],
          [
           "EQUINOX AWD",
           "SUV - SMALL"
          ],
          [
           "IMPALA",
           "FULL-SIZE"
          ],
          [
           "IMPALA FFV",
           "FULL-SIZE"
          ],
          [
           "IMPALA FFV",
           "FULL-SIZE"
          ],
          [
           "MALIBU",
           "MID-SIZE"
          ],
          [
           "MALIBU",
           "MID-SIZE"
          ],
          [
           "MALIBU HYBRID",
           "MID-SIZE"
          ],
          [
           "SILVERADO FFV",
           "PICKUP TRUCK - STANDARD"
          ],
          [
           "SILVERADO FFV",
           "PICKUP TRUCK - STANDARD"
          ],
          [
           "SILVERADO",
           "PICKUP TRUCK - STANDARD"
          ],
          [
           "SILVERADO FFV",
           "PICKUP TRUCK - STANDARD"
          ],
          [
           "SILVERADO FFV",
           "PICKUP TRUCK - STANDARD"
          ],
          [
           "SILVERADO",
           "PICKUP TRUCK - STANDARD"
          ],
          [
           "SILVERADO",
           "PICKUP TRUCK - STANDARD"
          ],
          [
           "SILVERADO eASSIST",
           "PICKUP TRUCK - STANDARD"
          ],
          [
           "SILVERADO 4WD FFV",
           "PICKUP TRUCK - STANDARD"
          ],
          [
           "SILVERADO 4WD FFV",
           "PICKUP TRUCK - STANDARD"
          ],
          [
           "SILVERADO 4WD",
           "PICKUP TRUCK - STANDARD"
          ],
          [
           "SILVERADO 4WD FFV",
           "PICKUP TRUCK - STANDARD"
          ],
          [
           "SILVERADO 4WD FFV",
           "PICKUP TRUCK - STANDARD"
          ],
          [
           "SILVERADO 4WD",
           "PICKUP TRUCK - STANDARD"
          ],
          [
           "SILVERADO 4WD",
           "PICKUP TRUCK - STANDARD"
          ],
          [
           "SILVERADO eASSIST 4WD",
           "PICKUP TRUCK - STANDARD"
          ],
          [
           "SONIC",
           "COMPACT"
          ],
          [
           "SONIC",
           "COMPACT"
          ],
          [
           "SONIC",
           "COMPACT"
          ],
          [
           "SONIC",
           "COMPACT"
          ],
          [
           "SONIC 5",
           "STATION WAGON - SMALL"
          ],
          [
           "SONIC 5",
           "STATION WAGON - SMALL"
          ],
          [
           "SONIC 5",
           "STATION WAGON - SMALL"
          ],
          [
           "SONIC 5",
           "STATION WAGON - SMALL"
          ],
          [
           "SPARK",
           "SUBCOMPACT"
          ],
          [
           "SPARK",
           "SUBCOMPACT"
          ],
          [
           "SUBURBAN",
           "SUV - STANDARD"
          ],
          [
           "SUBURBAN FFV",
           "SUV - STANDARD"
          ],
          [
           "SUBURBAN FFV",
           "SUV - STANDARD"
          ],
          [
           "SUBURBAN 4WD",
           "SUV - STANDARD"
          ],
          [
           "SUBURBAN 4WD FFV",
           "SUV - STANDARD"
          ],
          [
           "SUBURBAN 4WD FFV",
           "SUV - STANDARD"
          ],
          [
           "TAHOE",
           "SUV - STANDARD"
          ],
          [
           "TAHOE FFV",
           "SUV - STANDARD"
          ],
          [
           "TAHOE FFV",
           "SUV - STANDARD"
          ],
          [
           "TAHOE 4WD",
           "SUV - STANDARD"
          ],
          [
           "TAHOE 4WD FFV",
           "SUV - STANDARD"
          ],
          [
           "TAHOE 4WD FFV",
           "SUV - STANDARD"
          ],
          [
           "TAHOE 4WD",
           "SUV - STANDARD"
          ],
          [
           "TRAVERSE",
           "SUV - STANDARD"
          ],
          [
           "TRAVERSE",
           "SUV - STANDARD"
          ],
          [
           "TRAVERSE AWD",
           "SUV - STANDARD"
          ],
          [
           "TRAX",
           "SUV - SMALL"
          ],
          [
           "TRAX",
           "SUV - SMALL"
          ],
          [
           "TRAX 4WD",
           "SUV - SMALL"
          ],
          [
           "Blazer",
           "SUV - SMALL"
          ],
          [
           "Blazer",
           "SUV - SMALL"
          ],
          [
           "Blazer AWD",
           "SUV - SMALL"
          ],
          [
           "Camaro",
           "SUBCOMPACT"
          ],
          [
           "Camaro",
           "SUBCOMPACT"
          ],
          [
           "Camaro",
           "SUBCOMPACT"
          ],
          [
           "Camaro",
           "SUBCOMPACT"
          ],
          [
           "Camaro SS",
           "SUBCOMPACT"
          ],
          [
           "Camaro SS",
           "SUBCOMPACT"
          ],
          [
           "Camaro ZL1",
           "SUBCOMPACT"
          ],
          [
           "Camaro ZL1",
           "SUBCOMPACT"
          ],
          [
           "Colorado",
           "PICKUP TRUCK - SMALL"
          ],
          [
           "Colorado",
           "PICKUP TRUCK - SMALL"
          ],
          [
           "Colorado",
           "PICKUP TRUCK - SMALL"
          ],
          [
           "Colorado",
           "PICKUP TRUCK - SMALL"
          ],
          [
           "Colorado 4WD",
           "PICKUP TRUCK - SMALL"
          ],
          [
           "Colorado 4WD",
           "PICKUP TRUCK - SMALL"
          ],
          [
           "Colorado 4WD",
           "PICKUP TRUCK - SMALL"
          ],
          [
           "Colorado ZR2 4WD",
           "PICKUP TRUCK - SMALL"
          ],
          [
           "Colorado ZR2 4WD",
           "PICKUP TRUCK - SMALL"
          ],
          [
           "Corvette",
           "TWO-SEATER"
          ],
          [
           "Corvette",
           "TWO-SEATER"
          ],
          [
           "Corvette Z06",
           "TWO-SEATER"
          ],
          [
           "Corvette Z06",
           "TWO-SEATER"
          ],
          [
           "Corvette ZR1",
           "TWO-SEATER"
          ],
          [
           "Corvette ZR1",
           "TWO-SEATER"
          ],
          [
           "Cruze",
           "COMPACT"
          ],
          [
           "Cruze Premier",
           "COMPACT"
          ],
          [
           "Cruze Diesel",
           "COMPACT"
          ],
          [
           "Cruze Hatchback",
           "MID-SIZE"
          ],
          [
           "Cruze Hatchback Premier",
           "MID-SIZE"
          ],
          [
           "Cruze Hatchback Diesel",
           "MID-SIZE"
          ],
          [
           "Equinox",
           "SUV - SMALL"
          ],
          [
           "Equinox",
           "SUV - SMALL"
          ],
          [
           "Equinox AWD",
           "SUV - SMALL"
          ],
          [
           "Equinox AWD",
           "SUV - SMALL"
          ],
          [
           "Equinox AWD",
           "SUV - SMALL"
          ],
          [
           "Impala",
           "FULL-SIZE"
          ],
          [
           "Impala",
           "FULL-SIZE"
          ],
          [
           "Impala",
           "FULL-SIZE"
          ],
          [
           "Malibu",
           "MID-SIZE"
          ],
          [
           "Malibu",
           "MID-SIZE"
          ],
          [
           "Malibu Hybrid",
           "MID-SIZE"
          ],
          [
           "Silverado",
           "PICKUP TRUCK - STANDARD"
          ],
          [
           "Silverado",
           "PICKUP TRUCK - STANDARD"
          ],
          [
           "Silverado",
           "PICKUP TRUCK - STANDARD"
          ],
          [
           "Silverado FFV",
           "PICKUP TRUCK - STANDARD"
          ],
          [
           "Silverado FFV",
           "PICKUP TRUCK - STANDARD"
          ],
          [
           "Silverado",
           "PICKUP TRUCK - STANDARD"
          ],
          [
           "Silverado 4WD",
           "PICKUP TRUCK - STANDARD"
          ],
          [
           "Silverado 4WD",
           "PICKUP TRUCK - STANDARD"
          ],
          [
           "Silverado 4WD Trail Boss",
           "PICKUP TRUCK - STANDARD"
          ],
          [
           "Silverado 4WD",
           "PICKUP TRUCK - STANDARD"
          ],
          [
           "Silverado 4WD FFV",
           "PICKUP TRUCK - STANDARD"
          ],
          [
           "Silverado 4WD FFV",
           "PICKUP TRUCK - STANDARD"
          ],
          [
           "Silverado 4WD Trail Boss",
           "PICKUP TRUCK - STANDARD"
          ],
          [
           "Silverado 4WD",
           "PICKUP TRUCK - STANDARD"
          ],
          [
           "Silverado 4WD Trail Boss",
           "PICKUP TRUCK - STANDARD"
          ],
          [
           "Silverado 4WD",
           "PICKUP TRUCK - STANDARD"
          ],
          [
           "Silverado LD",
           "PICKUP TRUCK - STANDARD"
          ],
          [
           "Silverado LD 4WD",
           "PICKUP TRUCK - STANDARD"
          ],
          [
           "Spark",
           "SUBCOMPACT"
          ],
          [
           "Spark",
           "SUBCOMPACT"
          ],
          [
           "Suburban",
           "SUV - STANDARD"
          ],
          [
           "Suburban FFV",
           "SUV - STANDARD"
          ],
          [
           "Suburban FFV",
           "SUV - STANDARD"
          ],
          [
           "Suburban 4WD",
           "SUV - STANDARD"
          ],
          [
           "Suburban 4WD FFV",
           "SUV - STANDARD"
          ],
          [
           "Suburban 4WD FFV",
           "SUV - STANDARD"
          ],
          [
           "Suburban 4WD",
           "SUV - STANDARD"
          ],
          [
           "Tahoe",
           "SUV - STANDARD"
          ],
          [
           "Tahoe FFV",
           "SUV - STANDARD"
          ],
          [
           "Tahoe FFV",
           "SUV - STANDARD"
          ],
          [
           "Tahoe 4WD",
           "SUV - STANDARD"
          ],
          [
           "Tahoe 4WD FFV",
           "SUV - STANDARD"
          ],
          [
           "Tahoe 4WD FFV",
           "SUV - STANDARD"
          ],
          [
           "Tahoe 4WD",
           "SUV - STANDARD"
          ],
          [
           "Traverse",
           "SUV - STANDARD"
          ],
          [
           "Traverse AWD",
           "SUV - STANDARD"
          ],
          [
           "Trax",
           "SUV - SMALL"
          ],
          [
           "Trax",
           "SUV - SMALL"
          ],
          [
           "Trax 4WD",
           "SUV - SMALL"
          ],
          [
           "Blazer",
           "SUV - SMALL"
          ],
          [
           "Blazer",
           "SUV - SMALL"
          ],
          [
           "Blazer AWD",
           "SUV - SMALL"
          ],
          [
           "Blazer AWD",
           "SUV - SMALL"
          ],
          [
           "Camaro",
           "SUBCOMPACT"
          ],
          [
           "Camaro",
           "SUBCOMPACT"
          ],
          [
           "Camaro",
           "SUBCOMPACT"
          ],
          [
           "Camaro",
           "SUBCOMPACT"
          ],
          [
           "Camaro SS",
           "SUBCOMPACT"
          ],
          [
           "Camaro SS",
           "SUBCOMPACT"
          ],
          [
           "Camaro ZL1",
           "SUBCOMPACT"
          ],
          [
           "Camaro ZL1",
           "SUBCOMPACT"
          ],
          [
           "Colorado",
           "PICKUP TRUCK - SMALL"
          ],
          [
           "Colorado",
           "PICKUP TRUCK - SMALL"
          ],
          [
           "Colorado",
           "PICKUP TRUCK - SMALL"
          ],
          [
           "Colorado 4WD",
           "PICKUP TRUCK - SMALL"
          ],
          [
           "Colorado 4WD",
           "PICKUP TRUCK - SMALL"
          ],
          [
           "Colorado 4WD",
           "PICKUP TRUCK - SMALL"
          ],
          [
           "Colorado ZR2 4WD",
           "PICKUP TRUCK - SMALL"
          ],
          [
           "Colorado ZR2 4WD",
           "PICKUP TRUCK - SMALL"
          ],
          [
           "Corvette",
           "TWO-SEATER"
          ],
          [
           "Equinox",
           "SUV - SMALL"
          ],
          [
           "Equinox AWD",
           "SUV - SMALL"
          ],
          [
           "Equinox AWD",
           "SUV - SMALL"
          ],
          [
           "Impala",
           "FULL-SIZE"
          ],
          [
           "Impala",
           "FULL-SIZE"
          ],
          [
           "Malibu",
           "MID-SIZE"
          ],
          [
           "Malibu",
           "MID-SIZE"
          ],
          [
           "Silverado",
           "PICKUP TRUCK - STANDARD"
          ],
          [
           "Silverado WT",
           "PICKUP TRUCK - STANDARD"
          ],
          [
           "Silverado",
           "PICKUP TRUCK - STANDARD"
          ],
          [
           "Silverado",
           "PICKUP TRUCK - STANDARD"
          ],
          [
           "Silverado",
           "PICKUP TRUCK - STANDARD"
          ],
          [
           "Silverado FFV",
           "PICKUP TRUCK - STANDARD"
          ],
          [
           "Silverado FFV",
           "PICKUP TRUCK - STANDARD"
          ],
          [
           "Silverado",
           "PICKUP TRUCK - STANDARD"
          ],
          [
           "Silverado 4WD",
           "PICKUP TRUCK - STANDARD"
          ],
          [
           "Silverado WT 4WD",
           "PICKUP TRUCK - STANDARD"
          ],
          [
           "Silverado 4WD",
           "PICKUP TRUCK - STANDARD"
          ],
          [
           "Silverado 4WD",
           "PICKUP TRUCK - STANDARD"
          ],
          [
           "Silverado 4WD Custom Trail Boss",
           "PICKUP TRUCK - STANDARD"
          ],
          [
           "Silverado 4WD",
           "PICKUP TRUCK - STANDARD"
          ],
          [
           "Silverado 4WD FFV",
           "PICKUP TRUCK - STANDARD"
          ],
          [
           "Silverado 4WD FFV",
           "PICKUP TRUCK - STANDARD"
          ],
          [
           "Silverado 4WD Custom Trail Boss",
           "PICKUP TRUCK - STANDARD"
          ],
          [
           "Silverado 4WD",
           "PICKUP TRUCK - STANDARD"
          ],
          [
           "Silverado 4WD",
           "PICKUP TRUCK - STANDARD"
          ],
          [
           "Silverado 4WD LT Trail Boss",
           "PICKUP TRUCK - STANDARD"
          ],
          [
           "Silverado 4WD",
           "PICKUP TRUCK - STANDARD"
          ],
          [
           "Silverado 4WD Custom Trail Boss",
           "PICKUP TRUCK - STANDARD"
          ],
          [
           "Silverado 4WD LT Trail Boss",
           "PICKUP TRUCK - STANDARD"
          ],
          [
           "Spark",
           "SUBCOMPACT"
          ],
          [
           "Spark",
           "SUBCOMPACT"
          ],
          [
           "Suburban",
           "SUV - STANDARD"
          ],
          [
           "Suburban FFV",
           "SUV - STANDARD"
          ],
          [
           "Suburban FFV",
           "SUV - STANDARD"
          ],
          [
           "Suburban 4WD",
           "SUV - STANDARD"
          ],
          [
           "Suburban 4WD FFV",
           "SUV - STANDARD"
          ],
          [
           "Suburban 4WD FFV",
           "SUV - STANDARD"
          ],
          [
           "Suburban 4WD",
           "SUV - STANDARD"
          ],
          [
           "Tahoe",
           "SUV - STANDARD"
          ],
          [
           "Tahoe FFV",
           "SUV - STANDARD"
          ],
          [
           "Tahoe FFV",
           "SUV - STANDARD"
          ],
          [
           "Tahoe 4WD",
           "SUV - STANDARD"
          ],
          [
           "Tahoe 4WD FFV",
           "SUV - STANDARD"
          ],
          [
           "Tahoe 4WD FFV",
           "SUV - STANDARD"
          ],
          [
           "Tahoe 4WD",
           "SUV - STANDARD"
          ],
          [
           "Traverse",
           "SUV - STANDARD"
          ],
          [
           "Traverse AWD",
           "SUV - STANDARD"
          ],
          [
           "Trax",
           "SUV - SMALL"
          ],
          [
           "Trax AWD",
           "SUV - SMALL"
          ]
         ],
         "hovertemplate": "Make=CHEVROLET<br>Engine Size(L)=%{x}<br>CO2 Emissions(g/km)=%{y}<br>Fuel Consumption Comb (mpg)=%{marker.size}<br>Model=%{customdata[0]}<br>Vehicle Class=%{customdata[1]}<extra></extra>",
         "legendgroup": "CHEVROLET",
         "marker": {
          "color": "#00cc96",
          "size": {
           "bdata": "GRgbFhYRExgZJCQgIiglKB8YERwWERMSDhENEQ0RDBENEQwQDwsQDwsdGxQgHSMbHBgRFhEUFhAWEBQjJiIkIiMjJiIkIiMpKRQPFA8UDxQPFxYiIx8ZGRYWGxIREx4bGhkZGBgZFBUkJCAjKCUoHx8VFxwcFBYQDw8LEA8PCx8bEx0jGBEWEBQXEBYQFCMmIiMiIyMmIiMiIygqFhAVDxYQFhAXFiIjIB4dGxkYFx4bGh4ZGRsYGBkUFSooKSQkICMlKB8XHxUcFhwUDw4fGxMYFiUfITcWFBgRFhAWFBYQFhAWIyYiIyIjIyYiIyIjKikWFhAVFQ8WFhAVFRAVFSIjIB4cGxgYFxITHhoaHhgZGxcYFBcYFBUoJycsLScmJh4eFRccHBQWDw8eGxMkHzcWFhQYERYRFhQUFxAWEBYkJiIiJCYiIignFhYRFRUPFhYRFRUQFRUiIiAeHBsYGBcSEx4aGh0YGRsXGBQWGBQVKCYnKy0nJiYrKiImICYdHhoTJB83GBEWFhEWFBgXEBYWDxQUFiQmIiMkJiIjKCgWFhAVFQ8WFhAVFRAUGxoYIiIgHRsZHhwbGBgWExMaGhwYGRsXFxQWFxQVEhInJywnJisiJiEmHR0aEyYfNxkVFBQPFxgUExQUDxMWFRUVFCgnFRUQFBQPExUVEBUVDxQZGCIiHx0cHBkeHBsYFxYTExocGBkbFxcUFyIgHRoTJh8ZGCAVFBQOFxgYHhQTFBMOExYWFhUTFCgnFRUQFBQPExUVEBQUDxQZGCIf",
           "dtype": "i1"
          },
          "sizemode": "area",
          "sizeref": 0.28444444444444444,
          "symbol": "circle"
         },
         "mode": "markers",
         "name": "CHEVROLET",
         "showlegend": true,
         "type": "scattergl",
         "x": {
          "bdata": "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",
          "dtype": "f8"
         },
         "xaxis": "x",
         "y": {
          "bdata": "AgENAfIAJgEkAX4BVAEUAQIBswCzAMoAvQDAALEAowDRABQBAwHmACIBEAFbAW4BTgF8AVgBfAFYAXwBagF8AVgBfAFqAZ4BsAGbAaMBswGdAd0A9ADlAMgA5AC4APQA6wAPAQ0BJAEOAUQBIgEdASsBFQFJAbgArQC/ALYAvwC4ALgArAC/ALYAvwC4AJ8AnwA9ASYBPQEmAT0BJgE9ASYBGwEiAcEAugDPAAQBCQEmASQB8gBlAYIBUgHYAPIA+AAEAQQBDwENAQIBSQE0AbMAswDKALoAwACxAKMA0QDRANYAFgHmAOYA4wAiAZ4BsAGwAZ4BoAG1AbUBogHUAPQA6ADhALgAEgESASQBEwFCASABIAErARgBRwG4AK0AvwC4AL8AuAC4AK0AvwC4AL8AuAChAJwAJAETATIBMgEkARMBKwEaARsBIgG9ALoAyADaAOUA+AAFARABHAHcAPcA/QD8AAkBCQEVARcBEwEHAU8BOQGfAKcAoAC4ALYAzwC+ALUApwDWAB0B1gDdAOsALAHrAOwAuQHRAdcA+ADvABAB1QCzANMAygB6ACoBSAEYARwBKgEeATMBTAEoAS0BMgEnATABvACvAMMAuwDDAL0AvACvAMMAuwDDAL0AnQCiADABMAEgATgBOAE9ATABMAEgATYBNgEsATsBQwHBAL4AzQDeAOwA+QASAREBHAFvAV0B3AD8AP4A/wASAQcBGAEeATsBSwEiARYBUAE4AaUAqgCpAKwAqQCsAK0AsADdAN0A3wAdAe0A7QDqADABtgG9AeAA+QDwALYA1AB5ACkBNQFEARcBHAEqARwBMwFHAUoBJgEmATMBOwEvAbgArgDFAMIAuACuAMUAwgCnAKgAMQExARwBOAE4AT0BMQExARwBNgE2ASsBOwFCAcIAwgDQANwA6wD2ABIBEQEcAWkBXAHaAP0A+wABARIBCgEXASABOwFLASkBFgFQATgBpgCsAKkArwCqAKwArwCwALIAtADDAMYA0QDGAOQA4AD+APUAtQDVAHkAFgEcASoBKgEbATMBRAEWASYBKAEzATMBNQFEAUsBMAG4AK4AwQC+ALgArgDBAL4ApwCmADEBMQEdATkBOAFBATEBMQEdATYBNgErAUUB9gACARQBwgDCANIA6AD6AAkB3ADrAPYAFQEXASkBYwFdAf0A+wAOARIBCwEbAR4BRgFLASsBHgFLAT4BfQFwAawArACsAKwArwCyAMQAxwDPAMcA5ADhAP4A9QCuANYAeQAFATwBRgFJATIBIgETAUkBWwFJAVMBQgFeATIBQAFBAT0BRQGnAKoAOgE6ASoBUAFQAT0BVAE6AToBKgFBAUEBMQFFAQUBFQHEAMIA1gDhAO4A6AANAdsA6wD3ABgBGgEoAWMBXQH8AA4BEQEJARwBHgFGAUsBIgHEAMwA5AD/APYAvQDWAAYBEwHuAD4BRgFTAUYBHgETARgB/ABLAV0BSwFeAVYBYgEvASgBMwFBAWUBTAGnAKoAOgE6ASoBUQFRAT8BVwE6AToBKgFFAUUBMQFHAQUBFAHEANYA",
          "dtype": "i2"
         },
         "yaxis": "y"
        },
        {
         "customdata": [
          [
           "C-MAX HYBRID",
           "FULL-SIZE"
          ],
          [
           "E150 VAN FFV",
           "VAN - CARGO"
          ],
          [
           "E150 VAN FFV",
           "VAN - CARGO"
          ],
          [
           "E150 VAN FFV",
           "VAN - CARGO"
          ],
          [
           "E150 VAN FFV",
           "VAN - CARGO"
          ],
          [
           "E150 WAGON FFV",
           "VAN - PASSENGER"
          ],
          [
           "E150 WAGON FFV",
           "VAN - PASSENGER"
          ],
          [
           "E350 WAGON",
           "VAN - PASSENGER"
          ],
          [
           "E350 WAGON FFV",
           "VAN - PASSENGER"
          ],
          [
           "E350 WAGON FFV",
           "VAN - PASSENGER"
          ],
          [
           "EDGE",
           "SUV - SMALL"
          ],
          [
           "EDGE",
           "SUV - SMALL"
          ],
          [
           "EDGE AWD",
           "SUV - SMALL"
          ],
          [
           "EDGE AWD",
           "SUV - SMALL"
          ],
          [
           "ESCAPE",
           "SUV - SMALL"
          ],
          [
           "ESCAPE",
           "SUV - SMALL"
          ],
          [
           "ESCAPE",
           "SUV - SMALL"
          ],
          [
           "ESCAPE AWD",
           "SUV - SMALL"
          ],
          [
           "ESCAPE AWD",
           "SUV - SMALL"
          ],
          [
           "EXPEDITION 4X4 FFV",
           "SUV - STANDARD"
          ],
          [
           "EXPEDITION 4X4 FFV",
           "SUV - STANDARD"
          ],
          [
           "EXPLORER",
           "SUV - STANDARD"
          ],
          [
           "EXPLORER AWD",
           "SUV - STANDARD"
          ],
          [
           "EXPLORER FFV",
           "SUV - STANDARD"
          ],
          [
           "EXPLORER FFV",
           "SUV - STANDARD"
          ],
          [
           "EXPLORER FFV AWD",
           "SUV - STANDARD"
          ],
          [
           "EXPLORER FFV AWD",
           "SUV - STANDARD"
          ],
          [
           "F-150",
           "PICKUP TRUCK - STANDARD"
          ],
          [
           "F-150",
           "PICKUP TRUCK - STANDARD"
          ],
          [
           "F-150",
           "PICKUP TRUCK - STANDARD"
          ],
          [
           "F-150 4X4",
           "PICKUP TRUCK - STANDARD"
          ],
          [
           "F-150 4X4",
           "PICKUP TRUCK - STANDARD"
          ],
          [
           "F-150 4X4",
           "PICKUP TRUCK - STANDARD"
          ],
          [
           "F-150 FFV",
           "PICKUP TRUCK - STANDARD"
          ],
          [
           "F-150 FFV",
           "PICKUP TRUCK - STANDARD"
          ],
          [
           "F-150 FFV",
           "PICKUP TRUCK - STANDARD"
          ],
          [
           "F-150 FFV",
           "PICKUP TRUCK - STANDARD"
          ],
          [
           "F-150 FFV",
           "PICKUP TRUCK - STANDARD"
          ],
          [
           "F-150 FFV",
           "PICKUP TRUCK - STANDARD"
          ],
          [
           "F-150 FFV",
           "PICKUP TRUCK - STANDARD"
          ],
          [
           "F-150 FFV",
           "PICKUP TRUCK - STANDARD"
          ],
          [
           "F-150 FFV 4X4",
           "PICKUP TRUCK - STANDARD"
          ],
          [
           "F-150 FFV 4X4",
           "PICKUP TRUCK - STANDARD"
          ],
          [
           "F-150 FFV 4X4",
           "PICKUP TRUCK - STANDARD"
          ],
          [
           "F-150 FFV 4X4",
           "PICKUP TRUCK - STANDARD"
          ],
          [
           "F-150 FFV 4X4",
           "PICKUP TRUCK - STANDARD"
          ],
          [
           "F-150 FFV 4X4",
           "PICKUP TRUCK - STANDARD"
          ],
          [
           "F-150 FFV 4X4",
           "PICKUP TRUCK - STANDARD"
          ],
          [
           "F-150 FFV 4X4",
           "PICKUP TRUCK - STANDARD"
          ],
          [
           "F-150 RAPTOR 4X4",
           "PICKUP TRUCK - STANDARD"
          ],
          [
           "FIESTA",
           "SUBCOMPACT"
          ],
          [
           "FIESTA",
           "SUBCOMPACT"
          ],
          [
           "FIESTA SFE",
           "SUBCOMPACT"
          ],
          [
           "FIESTA SFE",
           "SUBCOMPACT"
          ],
          [
           "FIESTA ST",
           "COMPACT"
          ],
          [
           "FLEX",
           "SUV - STANDARD"
          ],
          [
           "FLEX AWD",
           "SUV - STANDARD"
          ],
          [
           "FLEX AWD (EcoBoost)",
           "SUV - STANDARD"
          ],
          [
           "FOCUS",
           "COMPACT"
          ],
          [
           "FOCUS FFV",
           "COMPACT"
          ],
          [
           "FOCUS FFV",
           "COMPACT"
          ],
          [
           "FOCUS FFV",
           "COMPACT"
          ],
          [
           "FOCUS FFV",
           "COMPACT"
          ],
          [
           "FOCUS FFV",
           "COMPACT"
          ],
          [
           "FOCUS FFV",
           "COMPACT"
          ],
          [
           "FOCUS SFE FFV",
           "COMPACT"
          ],
          [
           "FOCUS SFE FFV",
           "COMPACT"
          ],
          [
           "FUSION",
           "MID-SIZE"
          ],
          [
           "FUSION",
           "MID-SIZE"
          ],
          [
           "FUSION",
           "MID-SIZE"
          ],
          [
           "FUSION",
           "MID-SIZE"
          ],
          [
           "FUSION (Start/Stop)",
           "MID-SIZE"
          ],
          [
           "FUSION AWD",
           "MID-SIZE"
          ],
          [
           "FUSION HYBRID",
           "MID-SIZE"
          ],
          [
           "MUSTANG",
           "SUBCOMPACT"
          ],
          [
           "MUSTANG",
           "SUBCOMPACT"
          ],
          [
           "MUSTANG",
           "SUBCOMPACT"
          ],
          [
           "MUSTANG",
           "SUBCOMPACT"
          ],
          [
           "MUSTANG",
           "SUBCOMPACT"
          ],
          [
           "MUSTANG CONVERTIBLE",
           "SUBCOMPACT"
          ],
          [
           "TAURUS",
           "FULL-SIZE"
          ],
          [
           "TAURUS AWD",
           "FULL-SIZE"
          ],
          [
           "TAURUS FFV",
           "FULL-SIZE"
          ],
          [
           "TAURUS FFV",
           "FULL-SIZE"
          ],
          [
           "TAURUS FFV AWD",
           "FULL-SIZE"
          ],
          [
           "TAURUS FFV AWD",
           "FULL-SIZE"
          ],
          [
           "TRANSIT CONNECT",
           "SPECIAL PURPOSE VEHICLE"
          ],
          [
           "TRANSIT CONNECT",
           "SPECIAL PURPOSE VEHICLE"
          ],
          [
           "TRANSIT CONNECT TAXI",
           "SPECIAL PURPOSE VEHICLE"
          ],
          [
           "TRANSIT CONNECT WAGON",
           "SPECIAL PURPOSE VEHICLE"
          ],
          [
           "C-MAX HYBRID",
           "FULL-SIZE"
          ],
          [
           "EDGE",
           "SUV - SMALL"
          ],
          [
           "EDGE (Start/Stop)",
           "SUV - SMALL"
          ],
          [
           "EDGE",
           "SUV - SMALL"
          ],
          [
           "EDGE AWD",
           "SUV - SMALL"
          ],
          [
           "EDGE AWD",
           "SUV - SMALL"
          ],
          [
           "EDGE SPORT AWD",
           "SUV - SMALL"
          ],
          [
           "ESCAPE",
           "SUV - SMALL"
          ],
          [
           "ESCAPE",
           "SUV - SMALL"
          ],
          [
           "ESCAPE",
           "SUV - SMALL"
          ],
          [
           "ESCAPE AWD",
           "SUV - SMALL"
          ],
          [
           "ESCAPE AWD",
           "SUV - SMALL"
          ],
          [
           "EXPEDITION 4X4",
           "SUV - STANDARD"
          ],
          [
           "EXPEDITION MAX 4X4",
           "SUV - STANDARD"
          ],
          [
           "EXPLORER",
           "SUV - STANDARD"
          ],
          [
           "EXPLORER FFV",
           "SUV - STANDARD"
          ],
          [
           "EXPLORER FFV",
           "SUV - STANDARD"
          ],
          [
           "EXPLORER AWD (EcoBoost)",
           "SUV - STANDARD"
          ],
          [
           "EXPLORER FFV AWD",
           "SUV - STANDARD"
          ],
          [
           "EXPLORER FFV AWD",
           "SUV - STANDARD"
          ],
          [
           "F-150",
           "PICKUP TRUCK - STANDARD"
          ],
          [
           "F-150",
           "PICKUP TRUCK - STANDARD"
          ],
          [
           "F-150 FFV",
           "PICKUP TRUCK - STANDARD"
          ],
          [
           "F-150 FFV",
           "PICKUP TRUCK - STANDARD"
          ],
          [
           "F-150 FFV",
           "PICKUP TRUCK - STANDARD"
          ],
          [
           "F-150 FFV",
           "PICKUP TRUCK - STANDARD"
          ],
          [
           "F-150 4X4",
           "PICKUP TRUCK - STANDARD"
          ],
          [
           "F-150 4X4",
           "PICKUP TRUCK - STANDARD"
          ],
          [
           "F-150 FFV 4X4",
           "PICKUP TRUCK - STANDARD"
          ],
          [
           "F-150 FFV 4X4",
           "PICKUP TRUCK - STANDARD"
          ],
          [
           "F-150 FFV 4X4",
           "PICKUP TRUCK - STANDARD"
          ],
          [
           "F-150 FFV 4X4",
           "PICKUP TRUCK - STANDARD"
          ],
          [
           "FIESTA",
           "SUBCOMPACT"
          ],
          [
           "FIESTA",
           "SUBCOMPACT"
          ],
          [
           "FIESTA SFE",
           "SUBCOMPACT"
          ],
          [
           "FIESTA SFE",
           "SUBCOMPACT"
          ],
          [
           "FIESTA ST",
           "SUBCOMPACT"
          ],
          [
           "FLEX",
           "SUV - STANDARD"
          ],
          [
           "FLEX AWD",
           "SUV - STANDARD"
          ],
          [
           "FLEX AWD (EcoBoost)",
           "SUV - STANDARD"
          ],
          [
           "FOCUS",
           "COMPACT"
          ],
          [
           "FOCUS",
           "COMPACT"
          ],
          [
           "FOCUS FFV",
           "COMPACT"
          ],
          [
           "FOCUS FFV",
           "COMPACT"
          ],
          [
           "FOCUS FFV",
           "COMPACT"
          ],
          [
           "FOCUS FFV",
           "COMPACT"
          ],
          [
           "FOCUS FFV",
           "COMPACT"
          ],
          [
           "FOCUS FFV",
           "COMPACT"
          ],
          [
           "FUSION",
           "MID-SIZE"
          ],
          [
           "FUSION (Start/Stop)",
           "MID-SIZE"
          ],
          [
           "FUSION",
           "MID-SIZE"
          ],
          [
           "FUSION",
           "MID-SIZE"
          ],
          [
           "FUSION AWD",
           "MID-SIZE"
          ],
          [
           "FUSION HYBRID",
           "MID-SIZE"
          ],
          [
           "MUSTANG",
           "SUBCOMPACT"
          ],
          [
           "MUSTANG",
           "SUBCOMPACT"
          ],
          [
           "MUSTANG",
           "SUBCOMPACT"
          ],
          [
           "MUSTANG",
           "SUBCOMPACT"
          ],
          [
           "MUSTANG",
           "SUBCOMPACT"
          ],
          [
           "MUSTANG",
           "SUBCOMPACT"
          ],
          [
           "MUSTANG CONVERTIBLE",
           "SUBCOMPACT"
          ],
          [
           "MUSTANG CONVERTIBLE",
           "SUBCOMPACT"
          ],
          [
           "T-150 WAGON",
           "VAN - PASSENGER"
          ],
          [
           "T-150 WAGON FFV",
           "VAN - PASSENGER"
          ],
          [
           "T-150 WAGON FFV",
           "VAN - PASSENGER"
          ],
          [
           "TAURUS",
           "FULL-SIZE"
          ],
          [
           "TAURUS AWD",
           "FULL-SIZE"
          ],
          [
           "TAURUS FFV",
           "FULL-SIZE"
          ],
          [
           "TAURUS FFV",
           "FULL-SIZE"
          ],
          [
           "TAURUS FFV AWD",
           "FULL-SIZE"
          ],
          [
           "TAURUS FFV AWD",
           "FULL-SIZE"
          ],
          [
           "TRANSIT CONNECT VAN",
           "SPECIAL PURPOSE VEHICLE"
          ],
          [
           "TRANSIT CONNECT VAN",
           "SPECIAL PURPOSE VEHICLE"
          ],
          [
           "TRANSIT CONNECT WAGON",
           "SPECIAL PURPOSE VEHICLE"
          ],
          [
           "TRANSIT CONNECT WAGON TAXI",
           "SPECIAL PURPOSE VEHICLE"
          ],
          [
           "C-MAX HYBRID",
           "FULL-SIZE"
          ],
          [
           "EDGE",
           "SUV - SMALL"
          ],
          [
           "EDGE (Start/Stop)",
           "SUV - SMALL"
          ],
          [
           "EDGE",
           "SUV - SMALL"
          ],
          [
           "EDGE AWD",
           "SUV - SMALL"
          ],
          [
           "EDGE AWD",
           "SUV - SMALL"
          ],
          [
           "EDGE AWD",
           "SUV - SMALL"
          ],
          [
           "ESCAPE",
           "SUV - SMALL"
          ],
          [
           "ESCAPE",
           "SUV - SMALL"
          ],
          [
           "ESCAPE",
           "SUV - SMALL"
          ],
          [
           "ESCAPE AWD",
           "SUV - SMALL"
          ],
          [
           "ESCAPE AWD",
           "SUV - SMALL"
          ],
          [
           "EXPEDITION 4X4",
           "SUV - STANDARD"
          ],
          [
           "EXPEDITION EL 4X4",
           "SUV - STANDARD"
          ],
          [
           "EXPLORER",
           "SUV - STANDARD"
          ],
          [
           "EXPLORER FFV",
           "SUV - STANDARD"
          ],
          [
           "EXPLORER FFV",
           "SUV - STANDARD"
          ],
          [
           "EXPLORER AWD",
           "SUV - STANDARD"
          ],
          [
           "EXPLORER AWD",
           "SUV - STANDARD"
          ],
          [
           "EXPLORER FFV AWD",
           "SUV - STANDARD"
          ],
          [
           "EXPLORER FFV AWD",
           "SUV - STANDARD"
          ],
          [
           "F-150",
           "PICKUP TRUCK - STANDARD"
          ],
          [
           "F-150",
           "PICKUP TRUCK - STANDARD"
          ],
          [
           "F-150 (Payload Pkg)",
           "PICKUP TRUCK - STANDARD"
          ],
          [
           "F-150 (Payload Pkg)",
           "PICKUP TRUCK - STANDARD"
          ],
          [
           "F-150 FFV",
           "PICKUP TRUCK - STANDARD"
          ],
          [
           "F-150 FFV",
           "PICKUP TRUCK - STANDARD"
          ],
          [
           "F-150 FFV",
           "PICKUP TRUCK - STANDARD"
          ],
          [
           "F-150 FFV",
           "PICKUP TRUCK - STANDARD"
          ],
          [
           "F-150 FFV (Payload Pkg)",
           "PICKUP TRUCK - STANDARD"
          ],
          [
           "F-150 FFV (Payload Pkg)",
           "PICKUP TRUCK - STANDARD"
          ],
          [
           "F-150 4X4",
           "PICKUP TRUCK - STANDARD"
          ],
          [
           "F-150 4X4",
           "PICKUP TRUCK - STANDARD"
          ],
          [
           "F-150 4X4 (Payload Pkg)",
           "PICKUP TRUCK - STANDARD"
          ],
          [
           "F-150 4X4 (Payload Pkg)",
           "PICKUP TRUCK - STANDARD"
          ],
          [
           "F-150 FFV 4X4",
           "PICKUP TRUCK - STANDARD"
          ],
          [
           "F-150 FFV 4X4",
           "PICKUP TRUCK - STANDARD"
          ],
          [
           "F-150 FFV 4X4",
           "PICKUP TRUCK - STANDARD"
          ],
          [
           "F-150 FFV 4X4",
           "PICKUP TRUCK - STANDARD"
          ],
          [
           "F-150 FFV 4X4 (Payload Pkg)",
           "PICKUP TRUCK - STANDARD"
          ],
          [
           "F-150 FFV 4X4 (Payload Pkg)",
           "PICKUP TRUCK - STANDARD"
          ],
          [
           "FIESTA",
           "SUBCOMPACT"
          ],
          [
           "FIESTA",
           "SUBCOMPACT"
          ],
          [
           "FIESTA SFE",
           "SUBCOMPACT"
          ],
          [
           "FIESTA ST",
           "COMPACT"
          ],
          [
           "FLEX",
           "SUV - STANDARD"
          ],
          [
           "FLEX AWD",
           "SUV - STANDARD"
          ],
          [
           "FLEX AWD GTDI",
           "SUV - STANDARD"
          ],
          [
           "FOCUS",
           "COMPACT"
          ],
          [
           "FOCUS",
           "COMPACT"
          ],
          [
           "FOCUS FFV",
           "COMPACT"
          ],
          [
           "FOCUS FFV",
           "COMPACT"
          ],
          [
           "FOCUS FFV",
           "COMPACT"
          ],
          [
           "FOCUS FFV",
           "COMPACT"
          ],
          [
           "FOCUS FFV",
           "COMPACT"
          ],
          [
           "FOCUS FFV",
           "COMPACT"
          ],
          [
           "FOCUS RS AWD",
           "MID-SIZE"
          ],
          [
           "FOCUS ST",
           "MID-SIZE"
          ],
          [
           "FUSION",
           "MID-SIZE"
          ],
          [
           "FUSION (Start/Stop)",
           "MID-SIZE"
          ],
          [
           "FUSION",
           "MID-SIZE"
          ],
          [
           "FUSION",
           "MID-SIZE"
          ],
          [
           "FUSION AWD",
           "MID-SIZE"
          ],
          [
           "FUSION HYBRID",
           "MID-SIZE"
          ],
          [
           "MUSTANG",
           "SUBCOMPACT"
          ],
          [
           "MUSTANG",
           "SUBCOMPACT"
          ],
          [
           "MUSTANG",
           "SUBCOMPACT"
          ],
          [
           "MUSTANG",
           "SUBCOMPACT"
          ],
          [
           "MUSTANG",
           "SUBCOMPACT"
          ],
          [
           "MUSTANG",
           "SUBCOMPACT"
          ],
          [
           "MUSTANG CONVERTIBLE",
           "SUBCOMPACT"
          ],
          [
           "MUSTANG CONVERTIBLE",
           "SUBCOMPACT"
          ],
          [
           "SHELBY GT350 MUSTANG",
           "SUBCOMPACT"
          ],
          [
           "T-150 WAGON",
           "VAN - PASSENGER"
          ],
          [
           "T-150 WAGON FFV",
           "VAN - PASSENGER"
          ],
          [
           "T-150 WAGON FFV",
           "VAN - PASSENGER"
          ],
          [
           "TAURUS",
           "FULL-SIZE"
          ],
          [
           "TAURUS FFV",
           "FULL-SIZE"
          ],
          [
           "TAURUS FFV",
           "FULL-SIZE"
          ],
          [
           "TAURUS AWD",
           "FULL-SIZE"
          ],
          [
           "TAURUS FFV AWD",
           "FULL-SIZE"
          ],
          [
           "TAURUS FFV AWD",
           "FULL-SIZE"
          ],
          [
           "TRANSIT CONNECT VAN",
           "SPECIAL PURPOSE VEHICLE"
          ],
          [
           "TRANSIT CONNECT VAN",
           "SPECIAL PURPOSE VEHICLE"
          ],
          [
           "TRANSIT CONNECT VAN FFV",
           "SPECIAL PURPOSE VEHICLE"
          ],
          [
           "TRANSIT CONNECT VAN FFV",
           "SPECIAL PURPOSE VEHICLE"
          ],
          [
           "TRANSIT CONNECT WAGON",
           "SPECIAL PURPOSE VEHICLE"
          ],
          [
           "TRANSIT CONNECT WAGON FFV",
           "SPECIAL PURPOSE VEHICLE"
          ],
          [
           "TRANSIT CONNECT WAGON FFV",
           "SPECIAL PURPOSE VEHICLE"
          ],
          [
           "TRANSIT CONNECT WAGON LWB",
           "SPECIAL PURPOSE VEHICLE"
          ],
          [
           "TRANSIT CONNECT WAGON LWB FFV",
           "SPECIAL PURPOSE VEHICLE"
          ],
          [
           "TRANSIT CONNECT WAGON LWB FFV",
           "SPECIAL PURPOSE VEHICLE"
          ],
          [
           "C-MAX HYBRID",
           "FULL-SIZE"
          ],
          [
           "EDGE",
           "SUV - SMALL"
          ],
          [
           "EDGE (Start/Stop)",
           "SUV - SMALL"
          ],
          [
           "EDGE",
           "SUV - SMALL"
          ],
          [
           "EDGE AWD",
           "SUV - SMALL"
          ],
          [
           "EDGE AWD",
           "SUV - SMALL"
          ],
          [
           "EDGE AWD",
           "SUV - SMALL"
          ],
          [
           "ESCAPE",
           "SUV - SMALL"
          ],
          [
           "ESCAPE",
           "SUV - SMALL"
          ],
          [
           "ESCAPE FFV",
           "SUV - SMALL"
          ],
          [
           "ESCAPE FFV",
           "SUV - SMALL"
          ],
          [
           "ESCAPE AWD",
           "SUV - SMALL"
          ],
          [
           "ESCAPE AWD",
           "SUV - SMALL"
          ],
          [
           "EXPEDITION 4X4",
           "SUV - STANDARD"
          ],
          [
           "EXPEDITION EL 4X4",
           "SUV - STANDARD"
          ],
          [
           "EXPLORER",
           "SUV - STANDARD"
          ],
          [
           "EXPLORER FFV",
           "SUV - STANDARD"
          ],
          [
           "EXPLORER FFV",
           "SUV - STANDARD"
          ],
          [
           "EXPLORER AWD",
           "SUV - STANDARD"
          ],
          [
           "EXPLORER AWD",
           "SUV - STANDARD"
          ],
          [
           "EXPLORER FFV AWD",
           "SUV - STANDARD"
          ],
          [
           "EXPLORER FFV AWD",
           "SUV - STANDARD"
          ],
          [
           "F-150",
           "PICKUP TRUCK - STANDARD"
          ],
          [
           "F-150 (LT Tire Pkg)",
           "PICKUP TRUCK - STANDARD"
          ],
          [
           "F-150 (Payload Pkg)",
           "PICKUP TRUCK - STANDARD"
          ],
          [
           "F-150",
           "PICKUP TRUCK - STANDARD"
          ],
          [
           "F-150 (LT Tire Pkg)",
           "PICKUP TRUCK - STANDARD"
          ],
          [
           "F-150 (Payload Pkg)",
           "PICKUP TRUCK - STANDARD"
          ],
          [
           "F-150 FFV",
           "PICKUP TRUCK - STANDARD"
          ],
          [
           "F-150 FFV",
           "PICKUP TRUCK - STANDARD"
          ],
          [
           "F-150 FFV",
           "PICKUP TRUCK - STANDARD"
          ],
          [
           "F-150 FFV",
           "PICKUP TRUCK - STANDARD"
          ],
          [
           "F-150 FFV (Payload Pkg)",
           "PICKUP TRUCK - STANDARD"
          ],
          [
           "F-150 FFV (Payload Pkg)",
           "PICKUP TRUCK - STANDARD"
          ],
          [
           "F-150 4X4",
           "PICKUP TRUCK - STANDARD"
          ],
          [
           "F-150 4X4 (LT Tire Pkg)",
           "PICKUP TRUCK - STANDARD"
          ],
          [
           "F-150 4X4 (Payload Pkg)",
           "PICKUP TRUCK - STANDARD"
          ],
          [
           "F-150 4X4",
           "PICKUP TRUCK - STANDARD"
          ],
          [
           "F-150 4X4 (LT Tire Pkg)",
           "PICKUP TRUCK - STANDARD"
          ],
          [
           "F-150 4X4 (Payload Pkg)",
           "PICKUP TRUCK - STANDARD"
          ],
          [
           "F-150 FFV 4X4",
           "PICKUP TRUCK - STANDARD"
          ],
          [
           "F-150 FFV 4X4",
           "PICKUP TRUCK - STANDARD"
          ],
          [
           "F-150 FFV 4X4",
           "PICKUP TRUCK - STANDARD"
          ],
          [
           "F-150 FFV 4X4",
           "PICKUP TRUCK - STANDARD"
          ],
          [
           "F-150 FFV 4X4 (LT Tire Pkg)",
           "PICKUP TRUCK - STANDARD"
          ],
          [
           "F-150 FFV 4X4 (LT Tire Pkg)",
           "PICKUP TRUCK - STANDARD"
          ],
          [
           "F-150 FFV 4X4 (Payload Pkg)",
           "PICKUP TRUCK - STANDARD"
          ],
          [
           "F-150 FFV 4X4 (Payload Pkg)",
           "PICKUP TRUCK - STANDARD"
          ],
          [
           "F-150 RAPTOR 4X4",
           "PICKUP TRUCK - STANDARD"
          ],
          [
           "FIESTA",
           "SUBCOMPACT"
          ],
          [
           "FIESTA",
           "SUBCOMPACT"
          ],
          [
           "FIESTA SFE",
           "SUBCOMPACT"
          ],
          [
           "FIESTA ST",
           "COMPACT"
          ],
          [
           "FLEX",
           "SUV - STANDARD"
          ],
          [
           "FLEX AWD",
           "SUV - STANDARD"
          ],
          [
           "FLEX AWD GTDI",
           "SUV - STANDARD"
          ],
          [
           "FOCUS (Start/Stop)",
           "COMPACT"
          ],
          [
           "FOCUS (Start/Stop)",
           "COMPACT"
          ],
          [
           "FOCUS FFV",
           "COMPACT"
          ],
          [
           "FOCUS FFV",
           "COMPACT"
          ],
          [
           "FOCUS FFV",
           "COMPACT"
          ],
          [
           "FOCUS FFV",
           "COMPACT"
          ],
          [
           "FOCUS FFV",
           "COMPACT"
          ],
          [
           "FOCUS FFV",
           "COMPACT"
          ],
          [
           "FOCUS RS AWD",
           "MID-SIZE"
          ],
          [
           "FOCUS ST",
           "MID-SIZE"
          ],
          [
           "FUSION",
           "MID-SIZE"
          ],
          [
           "FUSION",
           "MID-SIZE"
          ],
          [
           "FUSION",
           "MID-SIZE"
          ],
          [
           "FUSION AWD",
           "MID-SIZE"
          ],
          [
           "FUSION AWD",
           "MID-SIZE"
          ],
          [
           "FUSION HYBRID",
           "MID-SIZE"
          ],
          [
           "GT",
           "TWO-SEATER"
          ],
          [
           "MUSTANG",
           "SUBCOMPACT"
          ],
          [
           "MUSTANG (Performance Pkg)",
           "SUBCOMPACT"
          ],
          [
           "MUSTANG",
           "SUBCOMPACT"
          ],
          [
           "MUSTANG (Performance Pkg)",
           "SUBCOMPACT"
          ],
          [
           "MUSTANG",
           "SUBCOMPACT"
          ],
          [
           "MUSTANG",
           "SUBCOMPACT"
          ],
          [
           "MUSTANG",
           "SUBCOMPACT"
          ],
          [
           "MUSTANG",
           "SUBCOMPACT"
          ],
          [
           "MUSTANG (Performance Pkg)",
           "SUBCOMPACT"
          ],
          [
           "MUSTANG CONVERTIBLE",
           "SUBCOMPACT"
          ],
          [
           "MUSTANG CONVERTIBLE",
           "SUBCOMPACT"
          ],
          [
           "MUSTANG CONVERTIBLE",
           "SUBCOMPACT"
          ],
          [
           "MUSTANG CONVERTIBLE",
           "SUBCOMPACT"
          ],
          [
           "SHELBY GT350 MUSTANG",
           "SUBCOMPACT"
          ],
          [
           "T-150 WAGON",
           "VAN - PASSENGER"
          ],
          [
           "T-150 WAGON FFV",
           "VAN - PASSENGER"
          ],
          [
           "T-150 WAGON FFV",
           "VAN - PASSENGER"
          ],
          [
           "TAURUS",
           "FULL-SIZE"
          ],
          [
           "TAURUS FFV",
           "FULL-SIZE"
          ],
          [
           "TAURUS FFV",
           "FULL-SIZE"
          ],
          [
           "TAURUS AWD",
           "FULL-SIZE"
          ],
          [
           "TAURUS FFV AWD",
           "FULL-SIZE"
          ],
          [
           "TAURUS FFV AWD",
           "FULL-SIZE"
          ],
          [
           "TRANSIT CONNECT VAN FFV",
           "SPECIAL PURPOSE VEHICLE"
          ],
          [
           "TRANSIT CONNECT VAN FFV",
           "SPECIAL PURPOSE VEHICLE"
          ],
          [
           "TRANSIT CONNECT WAGON LWB FFV",
           "SPECIAL PURPOSE VEHICLE"
          ],
          [
           "TRANSIT CONNECT WAGON LWB FFV",
           "SPECIAL PURPOSE VEHICLE"
          ],
          [
           "C-MAX HYBRID",
           "FULL-SIZE"
          ],
          [
           "ECOSPORT",
           "SUV - SMALL"
          ],
          [
           "ECOSPORT AWD",
           "SUV - SMALL"
          ],
          [
           "EDGE",
           "SUV - SMALL"
          ],
          [
           "EDGE (Start/Stop)",
           "SUV - SMALL"
          ],
          [
           "EDGE",
           "SUV - SMALL"
          ],
          [
           "EDGE AWD",
           "SUV - SMALL"
          ],
          [
           "EDGE AWD",
           "SUV - SMALL"
          ],
          [
           "EDGE AWD",
           "SUV - SMALL"
          ],
          [
           "ESCAPE",
           "SUV - SMALL"
          ],
          [
           "ESCAPE FFV",
           "SUV - SMALL"
          ],
          [
           "ESCAPE FFV",
           "SUV - SMALL"
          ],
          [
           "ESCAPE AWD",
           "SUV - SMALL"
          ],
          [
           "ESCAPE AWD",
           "SUV - SMALL"
          ],
          [
           "EXPEDITION 4X4",
           "SUV - STANDARD"
          ],
          [
           "EXPEDITION MAX 4X4",
           "SUV - STANDARD"
          ],
          [
           "EXPLORER",
           "SUV - STANDARD"
          ],
          [
           "EXPLORER FFV",
           "SUV - STANDARD"
          ],
          [
           "EXPLORER FFV",
           "SUV - STANDARD"
          ],
          [
           "EXPLORER AWD",
           "SUV - STANDARD"
          ],
          [
           "EXPLORER AWD",
           "SUV - STANDARD"
          ],
          [
           "EXPLORER FFV AWD",
           "SUV - STANDARD"
          ],
          [
           "EXPLORER FFV AWD",
           "SUV - STANDARD"
          ],
          [
           "F-150",
           "PICKUP TRUCK - STANDARD"
          ],
          [
           "F-150 (LT Tire Pkg)",
           "PICKUP TRUCK - STANDARD"
          ],
          [
           "F-150 (Payload Pkg)",
           "PICKUP TRUCK - STANDARD"
          ],
          [
           "F-150",
           "PICKUP TRUCK - STANDARD"
          ],
          [
           "F-150 (LT Tire Pkg)",
           "PICKUP TRUCK - STANDARD"
          ],
          [
           "F-150",
           "PICKUP TRUCK - STANDARD"
          ],
          [
           "F-150 FFV",
           "PICKUP TRUCK - STANDARD"
          ],
          [
           "F-150 FFV",
           "PICKUP TRUCK - STANDARD"
          ],
          [
           "F-150 (LT Tire Pkg)",
           "PICKUP TRUCK - STANDARD"
          ],
          [
           "F-150 FFV (LT Tire Pkg)",
           "PICKUP TRUCK - STANDARD"
          ],
          [
           "F-150 FFV (LT Tire Pkg)",
           "PICKUP TRUCK - STANDARD"
          ],
          [
           "F-150",
           "PICKUP TRUCK - STANDARD"
          ],
          [
           "F-150 (LT Tire Pkg)",
           "PICKUP TRUCK - STANDARD"
          ],
          [
           "F-150 (Payload Pkg)",
           "PICKUP TRUCK - STANDARD"
          ],
          [
           "F-150",
           "PICKUP TRUCK - STANDARD"
          ],
          [
           "F-150 FFV",
           "PICKUP TRUCK - STANDARD"
          ],
          [
           "F-150 FFV",
           "PICKUP TRUCK - STANDARD"
          ],
          [
           "F-150 (LT Tire Pkg)",
           "PICKUP TRUCK - STANDARD"
          ],
          [
           "F-150 FFV (LT Tire Pkg)",
           "PICKUP TRUCK - STANDARD"
          ],
          [
           "F-150 FFV (LT Tire Pkg)",
           "PICKUP TRUCK - STANDARD"
          ],
          [
           "F-150 (Payload Pkg)",
           "PICKUP TRUCK - STANDARD"
          ],
          [
           "F-150 FFV (Payload Pkg)",
           "PICKUP TRUCK - STANDARD"
          ],
          [
           "F-150 FFV (Payload Pkg)",
           "PICKUP TRUCK - STANDARD"
          ],
          [
           "F-150 4X4",
           "PICKUP TRUCK - STANDARD"
          ],
          [
           "F-150 4X4 (LT Tire Pkg)",
           "PICKUP TRUCK - STANDARD"
          ],
          [
           "F-150 4X4 (Payload Pkg)",
           "PICKUP TRUCK - STANDARD"
          ],
          [
           "F-150 4X4",
           "PICKUP TRUCK - STANDARD"
          ],
          [
           "F-150 4X4 (LT Tire Pkg)",
           "PICKUP TRUCK - STANDARD"
          ],
          [
           "F-150 4X4 XL/XLT",
           "PICKUP TRUCK - STANDARD"
          ],
          [
           "F-150 4X4",
           "PICKUP TRUCK - STANDARD"
          ],
          [
           "F-150 FFV 4X4",
           "PICKUP TRUCK - STANDARD"
          ],
          [
           "F-150 FFV 4X4",
           "PICKUP TRUCK - STANDARD"
          ],
          [
           "F-150 4X4 (LT Tire Pkg)",
           "PICKUP TRUCK - STANDARD"
          ],
          [
           "F-150 FFV 4X4 (LT Tire Pkg)",
           "PICKUP TRUCK - STANDARD"
          ],
          [
           "F-150 FFV 4X4 (LT Tire Pkg)",
           "PICKUP TRUCK - STANDARD"
          ],
          [
           "F-150 4X4",
           "PICKUP TRUCK - STANDARD"
          ],
          [
           "F-150 4X4 (LT Tire Pkg)",
           "PICKUP TRUCK - STANDARD"
          ],
          [
           "F-150 4X4 (Payload Pkg)",
           "PICKUP TRUCK - STANDARD"
          ],
          [
           "F-150 4X4",
           "PICKUP TRUCK - STANDARD"
          ],
          [
           "F-150 FFV 4X4",
           "PICKUP TRUCK - STANDARD"
          ],
          [
           "F-150 FFV 4X4",
           "PICKUP TRUCK - STANDARD"
          ],
          [
           "F-150 4X4 (LT Tire Pkg)",
           "PICKUP TRUCK - STANDARD"
          ],
          [
           "F-150 FFV 4X4 (LT Tire Pkg)",
           "PICKUP TRUCK - STANDARD"
          ],
          [
           "F-150 FFV 4X4 (LT Tire Pkg)",
           "PICKUP TRUCK - STANDARD"
          ],
          [
           "F-150 4X4 (Payload Pkg)",
           "PICKUP TRUCK - STANDARD"
          ],
          [
           "F-150 FFV 4X4 (Payload Pkg)",
           "PICKUP TRUCK - STANDARD"
          ],
          [
           "F-150 FFV 4X4 (Payload Pkg)",
           "PICKUP TRUCK - STANDARD"
          ],
          [
           "F-150 RAPTOR 4WD",
           "PICKUP TRUCK - STANDARD"
          ],
          [
           "FIESTA",
           "SUBCOMPACT"
          ],
          [
           "FIESTA",
           "SUBCOMPACT"
          ],
          [
           "FIESTA ST",
           "SUBCOMPACT"
          ],
          [
           "FLEX",
           "SUV - STANDARD"
          ],
          [
           "FLEX AWD",
           "SUV - STANDARD"
          ],
          [
           "FLEX AWD GTDI",
           "SUV - STANDARD"
          ],
          [
           "FOCUS",
           "COMPACT"
          ],
          [
           "FOCUS",
           "COMPACT"
          ],
          [
           "FOCUS",
           "COMPACT"
          ],
          [
           "FOCUS",
           "COMPACT"
          ],
          [
           "FOCUS",
           "COMPACT"
          ],
          [
           "FOCUS RS AWD",
           "MID-SIZE"
          ],
          [
           "FOCUS ST",
           "MID-SIZE"
          ],
          [
           "FUSION",
           "MID-SIZE"
          ],
          [
           "FUSION",
           "MID-SIZE"
          ],
          [
           "FUSION",
           "MID-SIZE"
          ],
          [
           "FUSION AWD",
           "MID-SIZE"
          ],
          [
           "FUSION AWD",
           "MID-SIZE"
          ],
          [
           "FUSION HYBRID",
           "MID-SIZE"
          ],
          [
           "GT",
           "TWO-SEATER"
          ],
          [
           "MUSTANG",
           "SUBCOMPACT"
          ],
          [
           "MUSTANG (Performance Pkg)",
           "SUBCOMPACT"
          ],
          [
           "MUSTANG",
           "SUBCOMPACT"
          ],
          [
           "MUSTANG (Performance Pkg)",
           "SUBCOMPACT"
          ],
          [
           "MUSTANG",
           "SUBCOMPACT"
          ],
          [
           "MUSTANG",
           "SUBCOMPACT"
          ],
          [
           "MUSTANG CONVERTIBLE",
           "SUBCOMPACT"
          ],
          [
           "MUSTANG CONVERTIBLE",
           "SUBCOMPACT"
          ],
          [
           "MUSTANG CONVERTIBLE",
           "SUBCOMPACT"
          ],
          [
           "SHELBY GT350 MUSTANG",
           "SUBCOMPACT"
          ],
          [
           "T-150 WAGON",
           "VAN - PASSENGER"
          ],
          [
           "T-150 WAGON",
           "VAN - PASSENGER"
          ],
          [
           "TAURUS FFV",
           "FULL-SIZE"
          ],
          [
           "TAURUS FFV",
           "FULL-SIZE"
          ],
          [
           "TAURUS AWD",
           "FULL-SIZE"
          ],
          [
           "TAURUS FFV AWD",
           "FULL-SIZE"
          ],
          [
           "TAURUS FFV AWD",
           "FULL-SIZE"
          ],
          [
           "TRANSIT CONNECT VAN FFV",
           "SPECIAL PURPOSE VEHICLE"
          ],
          [
           "TRANSIT CONNECT VAN FFV",
           "SPECIAL PURPOSE VEHICLE"
          ],
          [
           "TRANSIT CONNECT WAGON LWB FFV",
           "SPECIAL PURPOSE VEHICLE"
          ],
          [
           "TRANSIT CONNECT WAGON LWB FFV",
           "SPECIAL PURPOSE VEHICLE"
          ],
          [
           "EcoSport",
           "SUV - SMALL"
          ],
          [
           "EcoSport AWD",
           "SUV - SMALL"
          ],
          [
           "Edge",
           "SUV - SMALL"
          ],
          [
           "Edge AWD",
           "SUV - SMALL"
          ],
          [
           "Edge AWD",
           "SUV - SMALL"
          ],
          [
           "Escape",
           "SUV - SMALL"
          ],
          [
           "Escape FFV",
           "SUV - SMALL"
          ],
          [
           "Escape FFV",
           "SUV - SMALL"
          ],
          [
           "Escape AWD",
           "SUV - SMALL"
          ],
          [
           "Escape AWD",
           "SUV - SMALL"
          ],
          [
           "Expedition 4X4",
           "SUV - STANDARD"
          ],
          [
           "Expedition MAX 4X4",
           "SUV - STANDARD"
          ],
          [
           "Explorer AWD",
           "SUV - STANDARD"
          ],
          [
           "Explorer AWD",
           "SUV - STANDARD"
          ],
          [
           "Explorer FFV AWD",
           "SUV - STANDARD"
          ],
          [
           "Explorer FFV AWD",
           "SUV - STANDARD"
          ],
          [
           "F-150",
           "PICKUP TRUCK - STANDARD"
          ],
          [
           "F-150 (LT Tire Pkg)",
           "PICKUP TRUCK - STANDARD"
          ],
          [
           "F-150 (Payload Pkg)",
           "PICKUP TRUCK - STANDARD"
          ],
          [
           "F-150",
           "PICKUP TRUCK - STANDARD"
          ],
          [
           "F-150 (LT Tire Pkg)",
           "PICKUP TRUCK - STANDARD"
          ],
          [
           "F-150 FFV",
           "PICKUP TRUCK - STANDARD"
          ],
          [
           "F-150 FFV",
           "PICKUP TRUCK - STANDARD"
          ],
          [
           "F-150 FFV (LT Tire Pkg)",
           "PICKUP TRUCK - STANDARD"
          ],
          [
           "F-150 FFV (LT Tire Pkg)",
           "PICKUP TRUCK - STANDARD"
          ],
          [
           "F-150",
           "PICKUP TRUCK - STANDARD"
          ],
          [
           "F-150 (LT Tire Pkg)",
           "PICKUP TRUCK - STANDARD"
          ],
          [
           "F-150 (Payload Pkg)",
           "PICKUP TRUCK - STANDARD"
          ],
          [
           "F-150 FFV",
           "PICKUP TRUCK - STANDARD"
          ],
          [
           "F-150 FFV",
           "PICKUP TRUCK - STANDARD"
          ],
          [
           "F-150 FFV (LT Tire Pkg)",
           "PICKUP TRUCK - STANDARD"
          ],
          [
           "F-150 FFV (LT Tire Pkg)",
           "PICKUP TRUCK - STANDARD"
          ],
          [
           "F-150 FFV (Payload Pkg)",
           "PICKUP TRUCK - STANDARD"
          ],
          [
           "F-150 FFV (Payload Pkg)",
           "PICKUP TRUCK - STANDARD"
          ],
          [
           "F-150 4X4",
           "PICKUP TRUCK - STANDARD"
          ],
          [
           "F-150 4X4 (LT Tire Pkg)",
           "PICKUP TRUCK - STANDARD"
          ],
          [
           "F-150 4X4 (Payload Pkg)",
           "PICKUP TRUCK - STANDARD"
          ],
          [
           "F-150 4X4",
           "PICKUP TRUCK - STANDARD"
          ],
          [
           "F-150 4X4 (LT Tire Pkg)",
           "PICKUP TRUCK - STANDARD"
          ],
          [
           "F-150 4X4 XL/XLT",
           "PICKUP TRUCK - STANDARD"
          ],
          [
           "F-150 FFV 4X4",
           "PICKUP TRUCK - STANDARD"
          ],
          [
           "F-150 FFV 4X4",
           "PICKUP TRUCK - STANDARD"
          ],
          [
           "F-150 FFV 4X4 (LT Tire Pkg)",
           "PICKUP TRUCK - STANDARD"
          ],
          [
           "F-150 FFV 4X4 (LT Tire Pkg)",
           "PICKUP TRUCK - STANDARD"
          ],
          [
           "F-150 4X4",
           "PICKUP TRUCK - STANDARD"
          ],
          [
           "F-150 4X4 (LT Tire Pkg)",
           "PICKUP TRUCK - STANDARD"
          ],
          [
           "F-150 4X4 (Payload Pkg)",
           "PICKUP TRUCK - STANDARD"
          ],
          [
           "F-150 4X4 Limited",
           "PICKUP TRUCK - STANDARD"
          ],
          [
           "F-150 FFV 4X4",
           "PICKUP TRUCK - STANDARD"
          ],
          [
           "F-150 FFV 4X4",
           "PICKUP TRUCK - STANDARD"
          ],
          [
           "F-150 FFV 4X4 (LT Tire Pkg)",
           "PICKUP TRUCK - STANDARD"
          ],
          [
           "F-150 FFV 4X4 (LT Tire Pkg)",
           "PICKUP TRUCK - STANDARD"
          ],
          [
           "F-150 FFV 4X4 (Payload Pkg)",
           "PICKUP TRUCK - STANDARD"
          ],
          [
           "F-150 FFV 4X4 (Payload Pkg)",
           "PICKUP TRUCK - STANDARD"
          ],
          [
           "F-150 Raptor 4X4",
           "PICKUP TRUCK - STANDARD"
          ],
          [
           "Flex",
           "SUV - STANDARD"
          ],
          [
           "Flex AWD",
           "SUV - STANDARD"
          ],
          [
           "Flex AWD GTDI",
           "SUV - STANDARD"
          ],
          [
           "Fiesta",
           "SUBCOMPACT"
          ],
          [
           "Fiesta",
           "SUBCOMPACT"
          ],
          [
           "Fiesta ST",
           "SUBCOMPACT"
          ],
          [
           "Fusion",
           "MID-SIZE"
          ],
          [
           "Fusion Hybrid",
           "MID-SIZE"
          ],
          [
           "GT",
           "TWO-SEATER"
          ],
          [
           "Mustang",
           "SUBCOMPACT"
          ],
          [
           "Mustang (Performance Pkg)",
           "SUBCOMPACT"
          ],
          [
           "Mustang",
           "SUBCOMPACT"
          ],
          [
           "Mustang (Performance Pkg)",
           "SUBCOMPACT"
          ],
          [
           "Mustang",
           "SUBCOMPACT"
          ],
          [
           "Mustang",
           "SUBCOMPACT"
          ],
          [
           "Mustang Bullitt",
           "SUBCOMPACT"
          ],
          [
           "Mustang Convertible",
           "SUBCOMPACT"
          ],
          [
           "Mustang Convertible",
           "SUBCOMPACT"
          ],
          [
           "Mustang Convertible",
           "SUBCOMPACT"
          ],
          [
           "Ranger 4WD",
           "PICKUP TRUCK - STANDARD"
          ],
          [
           "Shelby GT350 Mustang",
           "SUBCOMPACT"
          ],
          [
           "T-150 Wagon",
           "VAN - PASSENGER"
          ],
          [
           "T-150 Wagon",
           "VAN - PASSENGER"
          ],
          [
           "Taurus FFV",
           "FULL-SIZE"
          ],
          [
           "Taurus FFV",
           "FULL-SIZE"
          ],
          [
           "Taurus AWD",
           "FULL-SIZE"
          ],
          [
           "Taurus FFV AWD",
           "FULL-SIZE"
          ],
          [
           "Taurus FFV AWD",
           "FULL-SIZE"
          ],
          [
           "Transit Connect Van",
           "SPECIAL PURPOSE VEHICLE"
          ],
          [
           "Transit Connect Van FFV",
           "SPECIAL PURPOSE VEHICLE"
          ],
          [
           "Transit Connect Van FFV",
           "SPECIAL PURPOSE VEHICLE"
          ],
          [
           "Transit Connect Van",
           "SPECIAL PURPOSE VEHICLE"
          ],
          [
           "Transit Connect Wagon LWB",
           "SPECIAL PURPOSE VEHICLE"
          ],
          [
           "Transit Connect Wagon LWB FFV",
           "SPECIAL PURPOSE VEHICLE"
          ],
          [
           "Transit Connect Wagon LWB FFV",
           "SPECIAL PURPOSE VEHICLE"
          ],
          [
           "Transit Connect Wagon LWB",
           "SPECIAL PURPOSE VEHICLE"
          ],
          [
           "EcoSport",
           "SUV - SMALL"
          ],
          [
           "EcoSport AWD",
           "SUV - SMALL"
          ],
          [
           "Edge",
           "SUV - SMALL"
          ],
          [
           "Edge AWD",
           "SUV - SMALL"
          ],
          [
           "Edge AWD",
           "SUV - SMALL"
          ],
          [
           "Edge AWD",
           "SUV - SMALL"
          ],
          [
           "Escape",
           "SUV - SMALL"
          ],
          [
           "Escape AWD",
           "SUV - SMALL"
          ],
          [
           "Escape AWD",
           "SUV - SMALL"
          ],
          [
           "Escape Hybrid",
           "SUV - SMALL"
          ],
          [
           "Escape Hybrid AWD",
           "SUV - SMALL"
          ],
          [
           "Expedition 4X4",
           "SUV - STANDARD"
          ],
          [
           "Expedition MAX 4X4",
           "SUV - STANDARD"
          ],
          [
           "Explorer AWD",
           "SUV - STANDARD"
          ],
          [
           "Explorer AWD",
           "SUV - STANDARD"
          ],
          [
           "Explorer Hybrid AWD",
           "SUV - STANDARD"
          ],
          [
           "F-150",
           "PICKUP TRUCK - STANDARD"
          ],
          [
           "F-150",
           "PICKUP TRUCK - STANDARD"
          ],
          [
           "F-150 (LT Tire Pkg)",
           "PICKUP TRUCK - STANDARD"
          ],
          [
           "F-150 FFV",
           "PICKUP TRUCK - STANDARD"
          ],
          [
           "F-150 FFV",
           "PICKUP TRUCK - STANDARD"
          ],
          [
           "F-150",
           "PICKUP TRUCK - STANDARD"
          ],
          [
           "F-150 FFV",
           "PICKUP TRUCK - STANDARD"
          ],
          [
           "F-150 FFV",
           "PICKUP TRUCK - STANDARD"
          ],
          [
           "F-150 FFV (LT Tire Pkg)",
           "PICKUP TRUCK - STANDARD"
          ],
          [
           "F-150 FFV (LT Tire Pkg)",
           "PICKUP TRUCK - STANDARD"
          ],
          [
           "F-150 FFV (Payload Pkg)",
           "PICKUP TRUCK - STANDARD"
          ],
          [
           "F-150 FFV (Payload Pkg)",
           "PICKUP TRUCK - STANDARD"
          ],
          [
           "F-150 4X4",
           "PICKUP TRUCK - STANDARD"
          ],
          [
           "F-150 4X4",
           "PICKUP TRUCK - STANDARD"
          ],
          [
           "F-150 4X4 XL/XLT",
           "PICKUP TRUCK - STANDARD"
          ],
          [
           "F-150 FFV 4X4",
           "PICKUP TRUCK - STANDARD"
          ],
          [
           "F-150 FFV 4X4",
           "PICKUP TRUCK - STANDARD"
          ],
          [
           "F-150 4X4",
           "PICKUP TRUCK - STANDARD"
          ],
          [
           "F-150 4X4 Limited",
           "PICKUP TRUCK - STANDARD"
          ],
          [
           "F-150 FFV 4X4",
           "PICKUP TRUCK - STANDARD"
          ],
          [
           "F-150 FFV 4X4",
           "PICKUP TRUCK - STANDARD"
          ],
          [
           "F-150 Raptor 4X4",
           "PICKUP TRUCK - STANDARD"
          ],
          [
           "Fusion",
           "MID-SIZE"
          ],
          [
           "Fusion Hybrid",
           "MID-SIZE"
          ],
          [
           "GT",
           "TWO-SEATER"
          ],
          [
           "Mustang",
           "SUBCOMPACT"
          ],
          [
           "Mustang (Performance Pkg)",
           "SUBCOMPACT"
          ],
          [
           "Mustang",
           "SUBCOMPACT"
          ],
          [
           "Mustang (Performance Pkg)",
           "SUBCOMPACT"
          ],
          [
           "Mustang",
           "SUBCOMPACT"
          ],
          [
           "Mustang",
           "SUBCOMPACT"
          ],
          [
           "Mustang Bullitt",
           "SUBCOMPACT"
          ],
          [
           "Mustang Convertible",
           "SUBCOMPACT"
          ],
          [
           "Mustang Convertible (Performance Pkg)",
           "SUBCOMPACT"
          ],
          [
           "Mustang Convertible",
           "SUBCOMPACT"
          ],
          [
           "Mustang Convertible (Performance Pkg)",
           "SUBCOMPACT"
          ],
          [
           "Mustang Convertible",
           "SUBCOMPACT"
          ],
          [
           "Ranger 4WD",
           "PICKUP TRUCK - STANDARD"
          ],
          [
           "Shelby GT350 Mustang",
           "SUBCOMPACT"
          ],
          [
           "Shelby GT500 Mustang",
           "SUBCOMPACT"
          ],
          [
           "T-150 Wagon FFV",
           "VAN - PASSENGER"
          ],
          [
           "T-150 Wagon FFV",
           "VAN - PASSENGER"
          ],
          [
           "T-150 Wagon FFV 4WD",
           "VAN - PASSENGER"
          ],
          [
           "T-150 Wagon FFV 4WD",
           "VAN - PASSENGER"
          ],
          [
           "Transit Connect Van FFV",
           "SPECIAL PURPOSE VEHICLE"
          ],
          [
           "Transit Connect Van FFV",
           "SPECIAL PURPOSE VEHICLE"
          ],
          [
           "Transit Connect Van LWB",
           "SPECIAL PURPOSE VEHICLE"
          ],
          [
           "Transit Connect Van LWB",
           "SPECIAL PURPOSE VEHICLE"
          ],
          [
           "Transit Connect Wagon LWB",
           "SPECIAL PURPOSE VEHICLE"
          ],
          [
           "Transit Connect Wagon LWB FFV",
           "SPECIAL PURPOSE VEHICLE"
          ],
          [
           "Transit Connect Wagon LWB FFV",
           "SPECIAL PURPOSE VEHICLE"
          ],
          [
           "Transit Connect Wagon LWB",
           "SPECIAL PURPOSE VEHICLE"
          ]
         ],
         "hovertemplate": "Make=FORD<br>Engine Size(L)=%{x}<br>CO2 Emissions(g/km)=%{y}<br>Fuel Consumption Comb (mpg)=%{marker.size}<br>Model=%{customdata[0]}<br>Vehicle Class=%{customdata[1]}<extra></extra>",
         "legendgroup": "FORD",
         "marker": {
          "color": "#ab63fa",
          "size": {
           "bdata": "LxENEA0RDA0PDB0aGRcfHR4eHBINHBYYEhcRFhYSFBUQFxEXERMOEw4VEBUQEw4TDhAlJSsoIxkXFiAlGyQbIxsnHCEjHyAjHjMcGxkWFRsfGBsUGRIeHRwbLx0dGRsYGB8dHh4cFBQbGBIWFxEaGBkSFRAYFxcRFA8lJSsmIxgXFiggJRskGyMaIiMgIB4zHh8aGRcXHRYTEw4fGBsTGRIeHRwbLx0dGRsYGCAdHh4cFBQaGBIZFhYQGhgZFhgSFRATEBgWFxQXERQPEw8lJSsjFhYVJyolGyQbIxoaHyIjICAeMx4fGhkXFhwWFBMTDRwZExcXER4bGxQaGhMaGhMwHR0ZGxgXHx4dFR0cFBQaGBIZFhYQGhkYGRgXGBIVEBMQGBcXFxcWFxEUDxQPEw4TJSQqIhYWFSYoJBsjGiIZGh4gHR0cGTIQHRwdHRkZFhYUHBwVFBMTEw4cGRMXFxEbFBoTMCIeHR0ZGxgXHx0VHRsXFRoXERkWFhAbGhoeHRoaExkZExgXFxcXEBYWEBQUEBkYGBoaHRgYEhcXEhYWFhYVEBQUEBQTDhMlJCIWFhUmKCUhIhoeIB0eHBgyER4cHhsXFhwbFhMTExkTFxcRGxQaEyIeHRwaHx0WHRwXFhkVFhAbGRkeHRoTGRMYFxYXEBYQFBAZGBgaGh0YEhcSFxYWFhUQFBATDhQWFhUlJCIgMhEeGx0bFxUVGxsWGhMTExkTFxcSHh4WGx8fFxoiHx0cHBokIh8xMBcWGxgdGx0dGhMWFhAWEBUQGBocGBIWFhUQFCAyER4bHRsXFRUbGxsaFhoTERMPEw4eFh4bHx8XGg==",
           "dtype": "i1"
          },
          "sizemode": "area",
          "sizeref": 0.28444444444444444,
          "symbol": "circle"
         },
         "mode": "markers",
         "name": "FORD",
         "showlegend": true,
         "type": "scattergl",
         "x": {
          "bdata": "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",
          "dtype": "f8"
         },
         "xaxis": "x",
         "y": {
          "bdata": "igB1AV4BjAFoAYIBcAHoAaUBfgHhAPgACAEZAdEA3QDYANYA5gBwAVoB6wArARIB/gAgAQsBJAEmAW4BPQE0AZIBGwEIARsBCAFQATsBUAE7ATQBIAE0ASABVwFAAVQBPgGeAa8ArwCYAKEAuAAIARYBJgHNALEApQCzAKUAuACqAKYAogDEALoAzwDNALoA2AB+AOsA9AAIASQBMAH0ANEADwHtAOUAAgH7ANoA5ADoAO8AigDhAOEABAHtAA8BEgHPAN0A2gDYAOgARwFLAe8AEgECASsBIAEOAfgAFAEIAfsAMgEeARQBIAEdAQ0BQAErAa8ArwCYAKoAuAALARYBJgGjAM0AsQCmALMAqgC6AK4AwQC4AM0AzQDWAH4A2ADUAPYAAgEdASAB5AArAVIBVAE7AdEAEgHvAOsABAEAAdgA5ADrAO8AjADnAOQADAHwABYBFgHQAOAA3ADcAOwATgFSAf0AGAEIAQkBMQEnARoBAAEWAQcBLwEQAQUBNQEkAVUBJQETAS8BIAFEASQBFgFEATIBWwE2AbQAswCZAL8AKgEvAUIBqwCgALIAqgC3AK8AvACzAP8A2QDFALwA0gDRANwAggDbANkA/QAIASQBKgHqADABTgFWAWQBWQHtAAQB+AAlASMBDwHfAPMA8wDpAPwA/ADwAPwA/ADwAIoA6QDmAA4B9AAZARwB1gDeAOUA2wDiAO8ATQFRAf4AGQEIAQoBMQEoARwBAAEHARABCAESASIBEAECATYBIwFUASMBFAElASABHAEgASoBJQEZAUMBMQFKATIBWwFGAVMBsgC2AJ4AwAAqAS8BQQGwAKQAuQCxAL0AtgDDALwAAAHbAMwA4QDgAO4ADgGDAJYB4gDvAOYA5gADAQ8BLwEzAUQB7wDtADUBRAFVAVgBYgFXAe4ABAH5ACUBIwEPAfQA6gD9APIAigDDANkA6QDnAA4B9gAaASMB1gDlANsA4gDxACMBNwH+ABsBDQELATEBKwEgAfkA/QACAQABBAEDAQEB+AAHAQcB+AAaASABJQEkAR4BIAE0ATMBIAFEAUMBIAEJARUBEAEgASABCgEVAREBBwEjASMBBgEnASkBMQEwATcBLAFEAUQBLAFOAVMBRQFTAbMAtgDAACoBLwFCAbAApACzAMgAxAD8ANsAywDhAN8A7gAVAYMAkwHbAOwA3gDwACMBLAHuAPAAMQFVAVkBYgEEAfkAJgEjAQ8B9ADqAPsA8QDEANoA4ADpAAMB1gDiANoA6ADvACUBMwELATcBKwEgAfkABAEEAQABBAEAAfcABwH3ABkBIwEqAR8BIgE0ASIBRgEjAQwBFQEVAR8BHwEKAREBBwEjAQcBJwEvATQBKAE4ASwBRgEsAVsBQwFQASoBLwFCAbIAuADEAMwAgwCSAd0A8gDjAPQAIQE3ATcB8wDxAC4BAAFVAVoBYwEOAf4AJgEjAQsB2wDbANEA9wDWANYA0AD7AMUA2ADlAOkA6QACAbkAxADVAIgAiwAmATQB8QAWAeEA+QAIAQgB/gD1ACoBKQElATEBJgE/ASwBFQEiAQ4BEgEJATABKAE9ASgBUAHLAIMAiQHdAPIA4gD0ACEBOAE/AfIA9ADwAPwALwEAAVYBiAFUATwBYAFIAdsA0QDbAPcA1gDWANAA+wA=",
          "dtype": "i2"
         },
         "yaxis": "y"
        },
        {
         "customdata": [
          [
           "ACADIA",
           "SUV - STANDARD"
          ],
          [
           "ACADIA AWD",
           "SUV - STANDARD"
          ],
          [
           "SAVANA 1500 CARGO",
           "VAN - CARGO"
          ],
          [
           "SAVANA 1500 CARGO",
           "VAN - CARGO"
          ],
          [
           "SAVANA 1500 CARGO",
           "VAN - CARGO"
          ],
          [
           "SAVANA 1500 CARGO AWD",
           "VAN - CARGO"
          ],
          [
           "SAVANA 1500 CARGO AWD",
           "VAN - CARGO"
          ],
          [
           "SAVANA 1500 CARGO CONV",
           "VAN - CARGO"
          ],
          [
           "SAVANA 1500 CARGO CONV",
           "VAN - CARGO"
          ],
          [
           "SAVANA 1500 CARGO CONV AWD",
           "VAN - CARGO"
          ],
          [
           "SAVANA 1500 CARGO CONV AWD",
           "VAN - CARGO"
          ],
          [
           "SAVANA 1500 PASSENGER",
           "VAN - PASSENGER"
          ],
          [
           "SAVANA 1500 PASSENGER",
           "VAN - PASSENGER"
          ],
          [
           "SAVANA 1500 PASSENGER AWD",
           "VAN - PASSENGER"
          ],
          [
           "SAVANA 1500 PASSENGER AWD",
           "VAN - PASSENGER"
          ],
          [
           "SAVANA 2500 PASSENGER",
           "VAN - PASSENGER"
          ],
          [
           "SAVANA 2500 PASSENGER",
           "VAN - PASSENGER"
          ],
          [
           "SAVANA 2500 PASSENGER",
           "VAN - PASSENGER"
          ],
          [
           "SAVANA 3500 PASSENGER",
           "VAN - PASSENGER"
          ],
          [
           "SAVANA 3500 PASSENGER",
           "VAN - PASSENGER"
          ],
          [
           "SAVANA 3500 PASSENGER",
           "VAN - PASSENGER"
          ],
          [
           "SIERRA",
           "PICKUP TRUCK - STANDARD"
          ],
          [
           "SIERRA",
           "PICKUP TRUCK - STANDARD"
          ],
          [
           "SIERRA",
           "PICKUP TRUCK - STANDARD"
          ],
          [
           "SIERRA",
           "PICKUP TRUCK - STANDARD"
          ],
          [
           "SIERRA",
           "PICKUP TRUCK - STANDARD"
          ],
          [
           "SIERRA 4WD",
           "PICKUP TRUCK - STANDARD"
          ],
          [
           "SIERRA 4WD",
           "PICKUP TRUCK - STANDARD"
          ],
          [
           "SIERRA 4WD",
           "PICKUP TRUCK - STANDARD"
          ],
          [
           "SIERRA 4WD",
           "PICKUP TRUCK - STANDARD"
          ],
          [
           "SIERRA 4WD",
           "PICKUP TRUCK - STANDARD"
          ],
          [
           "TERRAIN",
           "SUV - SMALL"
          ],
          [
           "TERRAIN",
           "SUV - SMALL"
          ],
          [
           "TERRAIN",
           "SUV - SMALL"
          ],
          [
           "TERRAIN AWD",
           "SUV - SMALL"
          ],
          [
           "TERRAIN AWD",
           "SUV - SMALL"
          ],
          [
           "TERRAIN AWD",
           "SUV - SMALL"
          ],
          [
           "YUKON",
           "SUV - STANDARD"
          ],
          [
           "YUKON",
           "SUV - STANDARD"
          ],
          [
           "YUKON 4WD",
           "SUV - STANDARD"
          ],
          [
           "YUKON 4WD",
           "SUV - STANDARD"
          ],
          [
           "YUKON DENALI AWD",
           "SUV - STANDARD"
          ],
          [
           "YUKON DENALI AWD",
           "SUV - STANDARD"
          ],
          [
           "YUKON DENALI XL AWD",
           "SUV - STANDARD"
          ],
          [
           "YUKON DENALI XL AWD",
           "SUV - STANDARD"
          ],
          [
           "YUKON XL",
           "SUV - STANDARD"
          ],
          [
           "YUKON XL",
           "SUV - STANDARD"
          ],
          [
           "YUKON XL 4WD",
           "SUV - STANDARD"
          ],
          [
           "YUKON XL 4WD",
           "SUV - STANDARD"
          ],
          [
           "ACADIA",
           "SUV - STANDARD"
          ],
          [
           "ACADIA AWD",
           "SUV - STANDARD"
          ],
          [
           "CANYON",
           "PICKUP TRUCK - SMALL"
          ],
          [
           "CANYON",
           "PICKUP TRUCK - SMALL"
          ],
          [
           "CANYON",
           "PICKUP TRUCK - SMALL"
          ],
          [
           "CANYON 4WD",
           "PICKUP TRUCK - SMALL"
          ],
          [
           "CANYON 4WD",
           "PICKUP TRUCK - SMALL"
          ],
          [
           "SAVANA 2500 PASSENGER",
           "VAN - PASSENGER"
          ],
          [
           "SAVANA 2500 PASSENGER",
           "VAN - PASSENGER"
          ],
          [
           "SAVANA 2500 PASSENGER FFV",
           "VAN - PASSENGER"
          ],
          [
           "SAVANA 2500 PASSENGER FFV",
           "VAN - PASSENGER"
          ],
          [
           "SAVANA 3500 PASSENGER",
           "VAN - PASSENGER"
          ],
          [
           "SAVANA 3500 PASSENGER",
           "VAN - PASSENGER"
          ],
          [
           "SAVANA 3500 PASSENGER FFV",
           "VAN - PASSENGER"
          ],
          [
           "SAVANA 3500 PASSENGER FFV",
           "VAN - PASSENGER"
          ],
          [
           "SIERRA",
           "PICKUP TRUCK - STANDARD"
          ],
          [
           "SIERRA",
           "PICKUP TRUCK - STANDARD"
          ],
          [
           "SIERRA",
           "PICKUP TRUCK - STANDARD"
          ],
          [
           "SIERRA",
           "PICKUP TRUCK - STANDARD"
          ],
          [
           "SIERRA",
           "PICKUP TRUCK - STANDARD"
          ],
          [
           "SIERRA 4WD",
           "PICKUP TRUCK - STANDARD"
          ],
          [
           "SIERRA 4WD",
           "PICKUP TRUCK - STANDARD"
          ],
          [
           "SIERRA 4WD",
           "PICKUP TRUCK - STANDARD"
          ],
          [
           "SIERRA 4WD",
           "PICKUP TRUCK - STANDARD"
          ],
          [
           "SIERRA 4WD",
           "PICKUP TRUCK - STANDARD"
          ],
          [
           "TERRAIN",
           "SUV - SMALL"
          ],
          [
           "TERRAIN FFV",
           "SUV - SMALL"
          ],
          [
           "TERRAIN FFV",
           "SUV - SMALL"
          ],
          [
           "TERRAIN",
           "SUV - SMALL"
          ],
          [
           "TERRAIN AWD",
           "SUV - SMALL"
          ],
          [
           "TERRAIN AWD",
           "SUV - SMALL"
          ],
          [
           "YUKON",
           "SUV - STANDARD"
          ],
          [
           "YUKON",
           "SUV - STANDARD"
          ],
          [
           "YUKON 4WD",
           "SUV - STANDARD"
          ],
          [
           "YUKON 4WD",
           "SUV - STANDARD"
          ],
          [
           "YUKON DENALI 4WD",
           "SUV - STANDARD"
          ],
          [
           "YUKON DENALI 4WD",
           "SUV - STANDARD"
          ],
          [
           "YUKON XL",
           "SUV - STANDARD"
          ],
          [
           "YUKON XL",
           "SUV - STANDARD"
          ],
          [
           "YUKON XL 4WD",
           "SUV - STANDARD"
          ],
          [
           "YUKON XL 4WD",
           "SUV - STANDARD"
          ],
          [
           "YUKON XL DENALI 4WD",
           "SUV - STANDARD"
          ],
          [
           "YUKON XL DENALI 4WD",
           "SUV - STANDARD"
          ],
          [
           "ACADIA",
           "SUV - STANDARD"
          ],
          [
           "ACADIA AWD",
           "SUV - STANDARD"
          ],
          [
           "CANYON",
           "PICKUP TRUCK - SMALL"
          ],
          [
           "CANYON",
           "PICKUP TRUCK - SMALL"
          ],
          [
           "CANYON",
           "PICKUP TRUCK - SMALL"
          ],
          [
           "CANYON",
           "PICKUP TRUCK - SMALL"
          ],
          [
           "CANYON 4WD",
           "PICKUP TRUCK - SMALL"
          ],
          [
           "CANYON 4WD",
           "PICKUP TRUCK - SMALL"
          ],
          [
           "CANYON 4WD",
           "PICKUP TRUCK - SMALL"
          ],
          [
           "SAVANA 2500 PASSENGER",
           "VAN - PASSENGER"
          ],
          [
           "SAVANA 3500 PASSENGER",
           "VAN - PASSENGER"
          ],
          [
           "SIERRA",
           "PICKUP TRUCK - STANDARD"
          ],
          [
           "SIERRA",
           "PICKUP TRUCK - STANDARD"
          ],
          [
           "SIERRA FFV",
           "PICKUP TRUCK - STANDARD"
          ],
          [
           "SIERRA FFV",
           "PICKUP TRUCK - STANDARD"
          ],
          [
           "SIERRA FFV",
           "PICKUP TRUCK - STANDARD"
          ],
          [
           "SIERRA FFV",
           "PICKUP TRUCK - STANDARD"
          ],
          [
           "SIERRA 4WD",
           "PICKUP TRUCK - STANDARD"
          ],
          [
           "SIERRA 4WD",
           "PICKUP TRUCK - STANDARD"
          ],
          [
           "SIERRA 4WD FFV",
           "PICKUP TRUCK - STANDARD"
          ],
          [
           "SIERRA 4WD FFV",
           "PICKUP TRUCK - STANDARD"
          ],
          [
           "SIERRA 4WD FFV",
           "PICKUP TRUCK - STANDARD"
          ],
          [
           "SIERRA 4WD FFV",
           "PICKUP TRUCK - STANDARD"
          ],
          [
           "SIERRA eASSIST 4WD",
           "PICKUP TRUCK - STANDARD"
          ],
          [
           "TERRAIN",
           "SUV - SMALL"
          ],
          [
           "TERRAIN",
           "SUV - SMALL"
          ],
          [
           "TERRAIN FFV",
           "SUV - SMALL"
          ],
          [
           "TERRAIN FFV",
           "SUV - SMALL"
          ],
          [
           "TERRAIN AWD",
           "SUV - SMALL"
          ],
          [
           "TERRAIN AWD",
           "SUV - SMALL"
          ],
          [
           "YUKON",
           "SUV - STANDARD"
          ],
          [
           "YUKON FFV",
           "SUV - STANDARD"
          ],
          [
           "YUKON FFV",
           "SUV - STANDARD"
          ],
          [
           "YUKON 4WD",
           "SUV - STANDARD"
          ],
          [
           "YUKON 4WD",
           "SUV - STANDARD"
          ],
          [
           "YUKON 4WD FFV",
           "SUV - STANDARD"
          ],
          [
           "YUKON 4WD FFV",
           "SUV - STANDARD"
          ],
          [
           "YUKON XL",
           "SUV - STANDARD"
          ],
          [
           "YUKON XL FFV",
           "SUV - STANDARD"
          ],
          [
           "YUKON XL FFV",
           "SUV - STANDARD"
          ],
          [
           "YUKON XL 4WD",
           "SUV - STANDARD"
          ],
          [
           "YUKON XL 4WD",
           "SUV - STANDARD"
          ],
          [
           "YUKON XL 4WD FFV",
           "SUV - STANDARD"
          ],
          [
           "YUKON XL 4WD FFV",
           "SUV - STANDARD"
          ],
          [
           "ACADIA",
           "SUV - STANDARD"
          ],
          [
           "ACADIA",
           "SUV - STANDARD"
          ],
          [
           "ACADIA AWD",
           "SUV - STANDARD"
          ],
          [
           "ACADIA AWD",
           "SUV - STANDARD"
          ],
          [
           "CANYON",
           "PICKUP TRUCK - SMALL"
          ],
          [
           "CANYON",
           "PICKUP TRUCK - SMALL"
          ],
          [
           "CANYON",
           "PICKUP TRUCK - SMALL"
          ],
          [
           "CANYON",
           "PICKUP TRUCK - SMALL"
          ],
          [
           "CANYON 4WD",
           "PICKUP TRUCK - SMALL"
          ],
          [
           "CANYON 4WD",
           "PICKUP TRUCK - SMALL"
          ],
          [
           "CANYON 4WD",
           "PICKUP TRUCK - SMALL"
          ],
          [
           "SAVANA 2500 PASSENGER",
           "VAN - PASSENGER"
          ],
          [
           "SAVANA 3500 PASSENGER",
           "VAN - PASSENGER"
          ],
          [
           "SIERRA",
           "PICKUP TRUCK - STANDARD"
          ],
          [
           "SIERRA",
           "PICKUP TRUCK - STANDARD"
          ],
          [
           "SIERRA",
           "PICKUP TRUCK - STANDARD"
          ],
          [
           "SIERRA FFV",
           "PICKUP TRUCK - STANDARD"
          ],
          [
           "SIERRA FFV",
           "PICKUP TRUCK - STANDARD"
          ],
          [
           "SIERRA FFV",
           "PICKUP TRUCK - STANDARD"
          ],
          [
           "SIERRA FFV",
           "PICKUP TRUCK - STANDARD"
          ],
          [
           "SIERRA 4WD",
           "PICKUP TRUCK - STANDARD"
          ],
          [
           "SIERRA 4WD",
           "PICKUP TRUCK - STANDARD"
          ],
          [
           "SIERRA 4WD",
           "PICKUP TRUCK - STANDARD"
          ],
          [
           "SIERRA 4WD FFV",
           "PICKUP TRUCK - STANDARD"
          ],
          [
           "SIERRA 4WD FFV",
           "PICKUP TRUCK - STANDARD"
          ],
          [
           "SIERRA 4WD FFV",
           "PICKUP TRUCK - STANDARD"
          ],
          [
           "SIERRA 4WD FFV",
           "PICKUP TRUCK - STANDARD"
          ],
          [
           "SIERRA eASSIST 4WD",
           "PICKUP TRUCK - STANDARD"
          ],
          [
           "TERRAIN",
           "SUV - SMALL"
          ],
          [
           "TERRAIN FFV",
           "SUV - SMALL"
          ],
          [
           "TERRAIN FFV",
           "SUV - SMALL"
          ],
          [
           "TERRAIN",
           "SUV - SMALL"
          ],
          [
           "TERRAIN AWD",
           "SUV - SMALL"
          ],
          [
           "TERRAIN AWD",
           "SUV - SMALL"
          ],
          [
           "YUKON",
           "SUV - STANDARD"
          ],
          [
           "YUKON FFV",
           "SUV - STANDARD"
          ],
          [
           "YUKON FFV",
           "SUV - STANDARD"
          ],
          [
           "YUKON 4WD",
           "SUV - STANDARD"
          ],
          [
           "YUKON 4WD FFV",
           "SUV - STANDARD"
          ],
          [
           "YUKON 4WD FFV",
           "SUV - STANDARD"
          ],
          [
           "YUKON DENALI 4WD",
           "SUV - STANDARD"
          ],
          [
           "YUKON XL",
           "SUV - STANDARD"
          ],
          [
           "YUKON XL FFV",
           "SUV - STANDARD"
          ],
          [
           "YUKON XL FFV",
           "SUV - STANDARD"
          ],
          [
           "YUKON XL 4WD",
           "SUV - STANDARD"
          ],
          [
           "YUKON XL 4WD FFV",
           "SUV - STANDARD"
          ],
          [
           "YUKON XL 4WD FFV",
           "SUV - STANDARD"
          ],
          [
           "YUKON XL DENALI 4WD",
           "SUV - STANDARD"
          ],
          [
           "ACADIA",
           "SUV - STANDARD"
          ],
          [
           "ACADIA",
           "SUV - STANDARD"
          ],
          [
           "ACADIA AWD",
           "SUV - STANDARD"
          ],
          [
           "ACADIA AWD",
           "SUV - STANDARD"
          ],
          [
           "CANYON",
           "PICKUP TRUCK - SMALL"
          ],
          [
           "CANYON",
           "PICKUP TRUCK - SMALL"
          ],
          [
           "CANYON",
           "PICKUP TRUCK - SMALL"
          ],
          [
           "CANYON",
           "PICKUP TRUCK - SMALL"
          ],
          [
           "CANYON 4WD",
           "PICKUP TRUCK - SMALL"
          ],
          [
           "CANYON 4WD",
           "PICKUP TRUCK - SMALL"
          ],
          [
           "CANYON 4WD",
           "PICKUP TRUCK - SMALL"
          ],
          [
           "SIERRA FFV",
           "PICKUP TRUCK - STANDARD"
          ],
          [
           "SIERRA FFV",
           "PICKUP TRUCK - STANDARD"
          ],
          [
           "SIERRA",
           "PICKUP TRUCK - STANDARD"
          ],
          [
           "SIERRA FFV",
           "PICKUP TRUCK - STANDARD"
          ],
          [
           "SIERRA FFV",
           "PICKUP TRUCK - STANDARD"
          ],
          [
           "SIERRA",
           "PICKUP TRUCK - STANDARD"
          ],
          [
           "SIERRA",
           "PICKUP TRUCK - STANDARD"
          ],
          [
           "SIERRA eASSIST",
           "PICKUP TRUCK - STANDARD"
          ],
          [
           "SIERRA 4WD FFV",
           "PICKUP TRUCK - STANDARD"
          ],
          [
           "SIERRA 4WD FFV",
           "PICKUP TRUCK - STANDARD"
          ],
          [
           "SIERRA 4WD",
           "PICKUP TRUCK - STANDARD"
          ],
          [
           "SIERRA 4WD FFV",
           "PICKUP TRUCK - STANDARD"
          ],
          [
           "SIERRA 4WD FFV",
           "PICKUP TRUCK - STANDARD"
          ],
          [
           "SIERRA 4WD",
           "PICKUP TRUCK - STANDARD"
          ],
          [
           "SIERRA 4WD",
           "PICKUP TRUCK - STANDARD"
          ],
          [
           "SIERRA eASSIST 4WD",
           "PICKUP TRUCK - STANDARD"
          ],
          [
           "TERRAIN",
           "SUV - SMALL"
          ],
          [
           "TERRAIN",
           "SUV - SMALL"
          ],
          [
           "TERRAIN AWD",
           "SUV - SMALL"
          ],
          [
           "TERRAIN AWD",
           "SUV - SMALL"
          ],
          [
           "TERRAIN AWD",
           "SUV - SMALL"
          ],
          [
           "YUKON",
           "SUV - STANDARD"
          ],
          [
           "YUKON FFV",
           "SUV - STANDARD"
          ],
          [
           "YUKON FFV",
           "SUV - STANDARD"
          ],
          [
           "YUKON 4WD",
           "SUV - STANDARD"
          ],
          [
           "YUKON 4WD FFV",
           "SUV - STANDARD"
          ],
          [
           "YUKON 4WD FFV",
           "SUV - STANDARD"
          ],
          [
           "YUKON 4WD",
           "SUV - STANDARD"
          ],
          [
           "YUKON XL",
           "SUV - STANDARD"
          ],
          [
           "YUKON XL FFV",
           "SUV - STANDARD"
          ],
          [
           "YUKON XL FFV",
           "SUV - STANDARD"
          ],
          [
           "YUKON XL 4WD",
           "SUV - STANDARD"
          ],
          [
           "YUKON XL 4WD FFV",
           "SUV - STANDARD"
          ],
          [
           "YUKON XL 4WD FFV",
           "SUV - STANDARD"
          ],
          [
           "YUKON XL 4WD",
           "SUV - STANDARD"
          ],
          [
           "Acadia",
           "SUV - STANDARD"
          ],
          [
           "Acadia",
           "SUV - STANDARD"
          ],
          [
           "Acadia AWD",
           "SUV - STANDARD"
          ],
          [
           "Acadia AWD",
           "SUV - STANDARD"
          ],
          [
           "Canyon",
           "PICKUP TRUCK - SMALL"
          ],
          [
           "Canyon",
           "PICKUP TRUCK - SMALL"
          ],
          [
           "Canyon",
           "PICKUP TRUCK - SMALL"
          ],
          [
           "Canyon",
           "PICKUP TRUCK - SMALL"
          ],
          [
           "Canyon 4WD",
           "PICKUP TRUCK - SMALL"
          ],
          [
           "Canyon 4WD",
           "PICKUP TRUCK - SMALL"
          ],
          [
           "Canyon 4WD",
           "PICKUP TRUCK - SMALL"
          ],
          [
           "Sierra",
           "PICKUP TRUCK - STANDARD"
          ],
          [
           "Sierra",
           "PICKUP TRUCK - STANDARD"
          ],
          [
           "Sierra",
           "PICKUP TRUCK - STANDARD"
          ],
          [
           "Sierra FFV",
           "PICKUP TRUCK - STANDARD"
          ],
          [
           "Sierra FFV",
           "PICKUP TRUCK - STANDARD"
          ],
          [
           "Sierra",
           "PICKUP TRUCK - STANDARD"
          ],
          [
           "Sierra 4WD",
           "PICKUP TRUCK - STANDARD"
          ],
          [
           "Sierra 4WD",
           "PICKUP TRUCK - STANDARD"
          ],
          [
           "Sierra 4WD",
           "PICKUP TRUCK - STANDARD"
          ],
          [
           "Sierra 4WD FFV",
           "PICKUP TRUCK - STANDARD"
          ],
          [
           "Sierra 4WD FFV",
           "PICKUP TRUCK - STANDARD"
          ],
          [
           "Sierra 4WD",
           "PICKUP TRUCK - STANDARD"
          ],
          [
           "Sierra 4WD AT4",
           "PICKUP TRUCK - STANDARD"
          ],
          [
           "Sierra 4WD",
           "PICKUP TRUCK - STANDARD"
          ],
          [
           "Sierra 4WD AT4",
           "PICKUP TRUCK - STANDARD"
          ],
          [
           "Sierra LTD",
           "PICKUP TRUCK - STANDARD"
          ],
          [
           "Sierra LTD 4WD",
           "PICKUP TRUCK - STANDARD"
          ],
          [
           "Terrain",
           "SUV - SMALL"
          ],
          [
           "Terrain",
           "SUV - SMALL"
          ],
          [
           "Terrain AWD",
           "SUV - SMALL"
          ],
          [
           "Terrain AWD",
           "SUV - SMALL"
          ],
          [
           "Terrain AWD",
           "SUV - SMALL"
          ],
          [
           "Yukon",
           "SUV - STANDARD"
          ],
          [
           "Yukon FFV",
           "SUV - STANDARD"
          ],
          [
           "Yukon FFV",
           "SUV - STANDARD"
          ],
          [
           "Yukon 4WD",
           "SUV - STANDARD"
          ],
          [
           "Yukon 4WD FFV",
           "SUV - STANDARD"
          ],
          [
           "Yukon 4WD FFV",
           "SUV - STANDARD"
          ],
          [
           "Yukon 4WD",
           "SUV - STANDARD"
          ],
          [
           "Yukon XL",
           "SUV - STANDARD"
          ],
          [
           "Yukon XL FFV",
           "SUV - STANDARD"
          ],
          [
           "Yukon XL FFV",
           "SUV - STANDARD"
          ],
          [
           "Yukon XL 4WD",
           "SUV - STANDARD"
          ],
          [
           "Yukon XL 4WD FFV",
           "SUV - STANDARD"
          ],
          [
           "Yukon XL 4WD FFV",
           "SUV - STANDARD"
          ],
          [
           "Yukon XL 4WD",
           "SUV - STANDARD"
          ],
          [
           "Acadia",
           "SUV - STANDARD"
          ],
          [
           "Acadia",
           "SUV - STANDARD"
          ],
          [
           "Acadia",
           "SUV - STANDARD"
          ],
          [
           "Acadia AWD",
           "SUV - STANDARD"
          ],
          [
           "Acadia AWD",
           "SUV - STANDARD"
          ],
          [
           "Canyon",
           "PICKUP TRUCK - SMALL"
          ],
          [
           "Canyon",
           "PICKUP TRUCK - SMALL"
          ],
          [
           "Canyon",
           "PICKUP TRUCK - SMALL"
          ],
          [
           "Canyon 4WD",
           "PICKUP TRUCK - SMALL"
          ],
          [
           "Canyon 4WD",
           "PICKUP TRUCK - SMALL"
          ],
          [
           "Canyon 4WD",
           "PICKUP TRUCK - SMALL"
          ],
          [
           "Sierra",
           "PICKUP TRUCK - STANDARD"
          ],
          [
           "Sierra WT",
           "PICKUP TRUCK - STANDARD"
          ],
          [
           "Sierra",
           "PICKUP TRUCK - STANDARD"
          ],
          [
           "Sierra",
           "PICKUP TRUCK - STANDARD"
          ],
          [
           "Sierra",
           "PICKUP TRUCK - STANDARD"
          ],
          [
           "Sierra FFV",
           "PICKUP TRUCK - STANDARD"
          ],
          [
           "Sierra FFV",
           "PICKUP TRUCK - STANDARD"
          ],
          [
           "Sierra",
           "PICKUP TRUCK - STANDARD"
          ],
          [
           "Sierra 4WD",
           "PICKUP TRUCK - STANDARD"
          ],
          [
           "Sierra WT 4WD",
           "PICKUP TRUCK - STANDARD"
          ],
          [
           "Sierra 4WD",
           "PICKUP TRUCK - STANDARD"
          ],
          [
           "Sierra 4WD AT4",
           "PICKUP TRUCK - STANDARD"
          ],
          [
           "Sierra 4WD",
           "PICKUP TRUCK - STANDARD"
          ],
          [
           "Sierra 4WD",
           "PICKUP TRUCK - STANDARD"
          ],
          [
           "Sierra 4WD FFV",
           "PICKUP TRUCK - STANDARD"
          ],
          [
           "Sierra 4WD FFV",
           "PICKUP TRUCK - STANDARD"
          ],
          [
           "Sierra 4WD AT4",
           "PICKUP TRUCK - STANDARD"
          ],
          [
           "Sierra 4WD",
           "PICKUP TRUCK - STANDARD"
          ],
          [
           "Sierra 4WD AT4",
           "PICKUP TRUCK - STANDARD"
          ],
          [
           "Sierra 4WD",
           "PICKUP TRUCK - STANDARD"
          ],
          [
           "Sierra 4WD AT4",
           "PICKUP TRUCK - STANDARD"
          ],
          [
           "Sierra 4WD",
           "PICKUP TRUCK - STANDARD"
          ],
          [
           "Sierra 4WD AT4",
           "PICKUP TRUCK - STANDARD"
          ],
          [
           "Terrain",
           "SUV - SMALL"
          ],
          [
           "Terrain AWD",
           "SUV - SMALL"
          ],
          [
           "Terrain AWD",
           "SUV - SMALL"
          ],
          [
           "Yukon",
           "SUV - STANDARD"
          ],
          [
           "Yukon FFV",
           "SUV - STANDARD"
          ],
          [
           "Yukon FFV",
           "SUV - STANDARD"
          ],
          [
           "Yukon 4WD",
           "SUV - STANDARD"
          ],
          [
           "Yukon 4WD FFV",
           "SUV - STANDARD"
          ],
          [
           "Yukon 4WD FFV",
           "SUV - STANDARD"
          ],
          [
           "Yukon 4WD",
           "SUV - STANDARD"
          ],
          [
           "Yukon XL",
           "SUV - STANDARD"
          ],
          [
           "Yukon XL FFV",
           "SUV - STANDARD"
          ],
          [
           "Yukon XL FFV",
           "SUV - STANDARD"
          ],
          [
           "Yukon XL 4WD",
           "SUV - STANDARD"
          ],
          [
           "Yukon XL 4WD FFV",
           "SUV - STANDARD"
          ],
          [
           "Yukon XL 4WD FFV",
           "SUV - STANDARD"
          ],
          [
           "Yukon XL 4WD",
           "SUV - STANDARD"
          ]
         ],
         "hovertemplate": "Make=GMC<br>Engine Size(L)=%{x}<br>CO2 Emissions(g/km)=%{y}<br>Fuel Consumption Comb (mpg)=%{marker.size}<br>Model=%{customdata[0]}<br>Vehicle Class=%{customdata[1]}<extra></extra>",
         "legendgroup": "GMC",
         "marker": {
          "color": "#FFA15A",
          "size": {
           "bdata": "FxYTEg4RDRENEQwRDREMEA8LEA8LGBEWERQWEBYQFB8YERwWERQPFA8TDhENFA8UDxcWGxoZGRgQDw8LEA8PCxgRFhAUFxAWEBQfHxUXHBYWEBYQFBQWEBUPExQVFRsaHhkZGxgPDhYUGBEWEBYUFhAWEBYfFx8VHBYWFhAVFBUQFhYQFRQVDxwZGxgaGh4YGRsXDw8WFhQYERYRFhQUFxAWEBYeHhUXHBYWFhEVFRAUFhYRFRUPFBwZGxgaGh0YGRsXGBEWFhEWFBgXEBYWDxQUFiEmHyYcFhYQFRUQFBYWEBUVDxMcGRsYGhocGBkbFxkVFBQPFxgUFBQPFRUUFBUUISYfJhwVFRAVFQ8UFRUQFBQPEx0cGhwZGhwYGRsXGRgfFRQUDhcYGB0dFBQTDhMWFRYWFBQhHxwVFRAUFA8UFRUQFBQPEw==",
           "dtype": "i1"
          },
          "sizemode": "area",
          "sizeref": 0.28444444444444444,
          "symbol": "circle"
         },
         "mode": "markers",
         "name": "GMC",
         "showlegend": true,
         "type": "scattergl",
         "x": {
          "bdata": "zczMzMzMDEDNzMzMzMwMQDMzMzMzMxFAMzMzMzMzFUAzMzMzMzMVQDMzMzMzMxVAMzMzMzMzFUAzMzMzMzMVQDMzMzMzMxVAMzMzMzMzFUAzMzMzMzMVQDMzMzMzMxVAMzMzMzMzFUAzMzMzMzMVQDMzMzMzMxVAMzMzMzMzE0AAAAAAAAAYQAAAAAAAABhAMzMzMzMzE0AAAAAAAAAYQAAAAAAAABhAMzMzMzMzEUAzMzMzMzMRQDMzMzMzMxVAMzMzMzMzFUDNzMzMzMwYQDMzMzMzMxFAMzMzMzMzEUAzMzMzMzMVQDMzMzMzMxVAzczMzMzMGEAzMzMzMzMDQM3MzMzMzAxAzczMzMzMDEAzMzMzMzMDQM3MzMzMzAxAzczMzMzMDEAzMzMzMzMVQDMzMzMzMxVAMzMzMzMzFUAzMzMzMzMVQM3MzMzMzBhAzczMzMzMGEDNzMzMzMwYQM3MzMzMzBhAMzMzMzMzFUAzMzMzMzMVQDMzMzMzMxVAMzMzMzMzFUDNzMzMzMwMQM3MzMzMzAxAAAAAAAAABEAAAAAAAAAEQM3MzMzMzAxAAAAAAAAABEDNzMzMzMwMQDMzMzMzMxNAAAAAAAAAGEAAAAAAAAAYQAAAAAAAABhAMzMzMzMzE0AAAAAAAAAYQAAAAAAAABhAAAAAAAAAGEAzMzMzMzMRQDMzMzMzMxFAMzMzMzMzFUAzMzMzMzMVQM3MzMzMzBhAMzMzMzMzEUAzMzMzMzMRQDMzMzMzMxVAMzMzMzMzFUDNzMzMzMwYQDMzMzMzMwNAMzMzMzMzA0AzMzMzMzMDQM3MzMzMzAxAMzMzMzMzA0DNzMzMzMwMQDMzMzMzMxVAMzMzMzMzFUAzMzMzMzMVQDMzMzMzMxVAzczMzMzMGEDNzMzMzMwYQDMzMzMzMxVAMzMzMzMzFUAzMzMzMzMVQDMzMzMzMxVAzczMzMzMGEDNzMzMzMwYQM3MzMzMzAxAzczMzMzMDEAAAAAAAAAEQAAAAAAAAARAZmZmZmZmBkDNzMzMzMwMQAAAAAAAAARAZmZmZmZmBkDNzMzMzMwMQAAAAAAAABhAAAAAAAAAGEAzMzMzMzMVQM3MzMzMzBhAMzMzMzMzEUAzMzMzMzMRQDMzMzMzMxVAMzMzMzMzFUAzMzMzMzMVQM3MzMzMzBhAMzMzMzMzEUAzMzMzMzMRQDMzMzMzMxVAMzMzMzMzFUAzMzMzMzMVQDMzMzMzMwNAzczMzMzMDEAzMzMzMzMDQDMzMzMzMwNAMzMzMzMzA0DNzMzMzMwMQDMzMzMzMxVAMzMzMzMzFUAzMzMzMzMVQDMzMzMzMxVAzczMzMzMGEAzMzMzMzMVQDMzMzMzMxVAMzMzMzMzFUAzMzMzMzMVQDMzMzMzMxVAMzMzMzMzFUDNzMzMzMwYQDMzMzMzMxVAMzMzMzMzFUAAAAAAAAAEQM3MzMzMzAxAAAAAAAAABEDNzMzMzMwMQAAAAAAAAARAAAAAAAAABEBmZmZmZmYGQM3MzMzMzAxAAAAAAAAABEBmZmZmZmYGQM3MzMzMzAxAAAAAAAAAGEAAAAAAAAAYQDMzMzMzMxVAMzMzMzMzFUDNzMzMzMwYQDMzMzMzMxFAMzMzMzMzEUAzMzMzMzMVQDMzMzMzMxVAMzMzMzMzFUAzMzMzMzMVQM3MzMzMzBhAMzMzMzMzEUAzMzMzMzMRQDMzMzMzMxVAMzMzMzMzFUAzMzMzMzMVQDMzMzMzMwNAMzMzMzMzA0AzMzMzMzMDQM3MzMzMzAxAMzMzMzMzA0DNzMzMzMwMQDMzMzMzMxVAMzMzMzMzFUAzMzMzMzMVQDMzMzMzMxVAMzMzMzMzFUAzMzMzMzMVQM3MzMzMzBhAMzMzMzMzFUAzMzMzMzMVQDMzMzMzMxVAMzMzMzMzFUAzMzMzMzMVQDMzMzMzMxVAzczMzMzMGEAAAAAAAAAEQM3MzMzMzAxAAAAAAAAABEDNzMzMzMwMQAAAAAAAAARAAAAAAAAABEBmZmZmZmYGQM3MzMzMzAxAAAAAAAAABEBmZmZmZmYGQM3MzMzMzAxAMzMzMzMzEUAzMzMzMzMRQDMzMzMzMxVAMzMzMzMzFUAzMzMzMzMVQDMzMzMzMxVAzczMzMzMGEAzMzMzMzMVQDMzMzMzMxFAMzMzMzMzEUAzMzMzMzMVQDMzMzMzMxVAMzMzMzMzFUAzMzMzMzMVQM3MzMzMzBhAMzMzMzMzFUAAAAAAAAD4P5qZmZmZmfk/AAAAAAAA+D+amZmZmZn5PwAAAAAAAABAMzMzMzMzFUAzMzMzMzMVQDMzMzMzMxVAMzMzMzMzFUAzMzMzMzMVQDMzMzMzMxVAzczMzMzMGEAzMzMzMzMVQDMzMzMzMxVAMzMzMzMzFUAzMzMzMzMVQDMzMzMzMxVAMzMzMzMzFUDNzMzMzMwYQAAAAAAAAARAzczMzMzMDEAAAAAAAAAEQM3MzMzMzAxAAAAAAAAABEAAAAAAAAAEQGZmZmZmZgZAzczMzMzMDEAAAAAAAAAEQGZmZmZmZgZAzczMzMzMDECamZmZmZkFQDMzMzMzMxFAMzMzMzMzFUAzMzMzMzMVQDMzMzMzMxVAMzMzMzMzFUCamZmZmZkFQDMzMzMzMxFAMzMzMzMzFUAzMzMzMzMVQDMzMzMzMxVAMzMzMzMzFUAzMzMzMzMVQM3MzMzMzBhAzczMzMzMGEAzMzMzMzMVQDMzMzMzMxVAAAAAAAAA+D+amZmZmZn5PwAAAAAAAPg/mpmZmZmZ+T8AAAAAAAAAQDMzMzMzMxVAMzMzMzMzFUAzMzMzMzMVQDMzMzMzMxVAMzMzMzMzFUAzMzMzMzMVQM3MzMzMzBhAMzMzMzMzFUAzMzMzMzMVQDMzMzMzMxVAMzMzMzMzFUAzMzMzMzMVQDMzMzMzMxVAzczMzMzMGEAAAAAAAAAAQAAAAAAAAARAzczMzMzMDEAAAAAAAAAAQM3MzMzMzAxAAAAAAAAABEBmZmZmZmYGQM3MzMzMzAxAAAAAAAAABEBmZmZmZmYGQM3MzMzMzAxAmpmZmZmZBUCamZmZmZkFQAAAAAAAAAhAMzMzMzMzEUAzMzMzMzMVQDMzMzMzMxVAMzMzMzMzFUAzMzMzMzMVQJqZmZmZmQVAmpmZmZmZBUAAAAAAAAAIQAAAAAAAAAhAMzMzMzMzEUAzMzMzMzMVQDMzMzMzMxVAMzMzMzMzFUAzMzMzMzMVQDMzMzMzMxVAMzMzMzMzFUAzMzMzMzMVQDMzMzMzMxVAzczMzMzMGEDNzMzMzMwYQAAAAAAAAPg/AAAAAAAA+D8AAAAAAAAAQDMzMzMzMxVAMzMzMzMzFUAzMzMzMzMVQDMzMzMzMxVAMzMzMzMzFUAzMzMzMzMVQM3MzMzMzBhAMzMzMzMzFUAzMzMzMzMVQDMzMzMzMxVAMzMzMzMzFUAzMzMzMzMVQDMzMzMzMxVAzczMzMzMGEA=",
          "dtype": "f8"
         },
         "xaxis": "x",
         "y": {
          "bdata": "GwEpAVsBbgFOAXwBWAF8AVgBfAFqAXwBWAF8AWoBngGwAZsBowGzAZ0BDwENASQBDgFEASIBHQErARUBSQHRABQBAwHmACIBEAE9ASYBPQEmAVIBQgF5AWIBPQEmAT0BJgEbASIB8gD4AAQBBAEPAZ4BsAGwAZ4BoAG1AbUBogESARIBJAETAUIBIAEgASsBGAFHAdEA0QDWABYB5gAiASQBEwErARoBQgE9ASQBEwEyATIBTgFJATsBQwH3AP0A/AAJAQkBFQEXAbkB0QEqAUcBGAEcASoBHgEzAUwBKAEtATIBJwEwAdYAHQHWAN0A6wAsATABMAEgATYBQwE2ASwBMAEwASABOAFOATgBPQHvAAkB8wAPAfwA/gD/ABIBBwEYAR4BtgG9ASkBNQFDARcBHAEqARwBMwFHAUoBJgEmATMBPQEvAd0A3QDfAB0B7QAwATEBMQEcATYBNgErAUoBMQExARwBOAE4AT0BTQHvAAwB8wATAf0A+wABARIBCgEXASABFgEcASoBKgEbATMBQwEWASYBKAEzATMBNQFEAUsBMAHJAMYA0gDGAO8AMQExAR0BNgE2ASsBRQExATEBHQE5ATgBQQFUAe0ADAH4ABMB/QD7AA4BEgELARsBHgEFAT0BRgFJATIBJgEVAUkBSgFTAUMBPAFAAUYBTAE9AUUByQDHANIAxwDvADoBOgEqAUEBQQExAUUBOgE6ASoBUAFQAT0BVAHhAO4AAQHoAA0B/AAOAREBCQEcAR4BBgETAfUAPgFGAVMBRgEgARMBGAEJAQkBSwFLAVgBRQFiATABOgEqATMBRgFMAcoA0gDvADoBOgEqAUUBRQExAUcBOgE6ASoBUQFRAT8BVwE=",
          "dtype": "i2"
         },
         "yaxis": "y"
        },
        {
         "customdata": [
          [
           "CHEROKEE",
           "SUV - SMALL"
          ],
          [
           "CHEROKEE",
           "SUV - SMALL"
          ],
          [
           "CHEROKEE 4X4",
           "SUV - SMALL"
          ],
          [
           "CHEROKEE 4X4",
           "SUV - SMALL"
          ],
          [
           "CHEROKEE 4X4 ACTIVE DRIVE II",
           "SUV - SMALL"
          ],
          [
           "CHEROKEE 4X4 ACTIVE DRIVE II",
           "SUV - SMALL"
          ],
          [
           "CHEROKEE TRAILHAWK 4X4",
           "SUV - SMALL"
          ],
          [
           "CHEROKEE TRAILHAWK 4X4",
           "SUV - SMALL"
          ],
          [
           "COMPASS",
           "SUV - SMALL"
          ],
          [
           "COMPASS",
           "SUV - SMALL"
          ],
          [
           "COMPASS",
           "SUV - SMALL"
          ],
          [
           "COMPASS",
           "SUV - SMALL"
          ],
          [
           "COMPASS",
           "SUV - SMALL"
          ],
          [
           "COMPASS 4X4",
           "SUV - SMALL"
          ],
          [
           "COMPASS 4X4",
           "SUV - SMALL"
          ],
          [
           "COMPASS 4X4 TRAIL RATED",
           "SUV - SMALL"
          ],
          [
           "GRAND CHEROKEE 4X4 (MDS)",
           "SUV - STANDARD"
          ],
          [
           "GRAND CHEROKEE 4X4 DIESEL",
           "SUV - STANDARD"
          ],
          [
           "GRAND CHEROKEE 4X4 FFV",
           "SUV - STANDARD"
          ],
          [
           "GRAND CHEROKEE 4X4 FFV",
           "SUV - STANDARD"
          ],
          [
           "GRAND CHEROKEE SRT 4X4 (MDS)",
           "SUV - STANDARD"
          ],
          [
           "PATRIOT",
           "SUV - SMALL"
          ],
          [
           "PATRIOT",
           "SUV - SMALL"
          ],
          [
           "PATRIOT",
           "SUV - SMALL"
          ],
          [
           "PATRIOT",
           "SUV - SMALL"
          ],
          [
           "PATRIOT",
           "SUV - SMALL"
          ],
          [
           "PATRIOT 4X4",
           "SUV - SMALL"
          ],
          [
           "PATRIOT 4X4",
           "SUV - SMALL"
          ],
          [
           "PATRIOT 4X4 TRAIL RATED",
           "SUV - SMALL"
          ],
          [
           "WRANGLER 4X4 (2-DOOR)",
           "SUV - SMALL"
          ],
          [
           "WRANGLER 4X4 (2-DOOR)",
           "SUV - SMALL"
          ],
          [
           "WRANGLER UNLIMITED 4X4 (4-DOOR)",
           "SUV - SMALL"
          ],
          [
           "WRANGLER UNLIMITED 4X4 (4-DOOR)",
           "SUV - SMALL"
          ],
          [
           "CHEROKEE",
           "SUV - SMALL"
          ],
          [
           "CHEROKEE FFV",
           "SUV - SMALL"
          ],
          [
           "CHEROKEE FFV",
           "SUV - SMALL"
          ],
          [
           "CHEROKEE",
           "SUV - SMALL"
          ],
          [
           "CHEROKEE 4X4",
           "SUV - SMALL"
          ],
          [
           "CHEROKEE 4X4 FFV",
           "SUV - SMALL"
          ],
          [
           "CHEROKEE 4X4 FFV",
           "SUV - SMALL"
          ],
          [
           "CHEROKEE 4X4",
           "SUV - SMALL"
          ],
          [
           "CHEROKEE 4X4 ACTIVE DRIVE II",
           "SUV - SMALL"
          ],
          [
           "CHEROKEE 4X4 ACTIVE DRIVE II",
           "SUV - SMALL"
          ],
          [
           "CHEROKEE TRAILHAWK 4X4",
           "SUV - SMALL"
          ],
          [
           "CHEROKEE TRAILHAWK 4X4",
           "SUV - SMALL"
          ],
          [
           "COMPASS",
           "SUV - SMALL"
          ],
          [
           "COMPASS",
           "SUV - SMALL"
          ],
          [
           "COMPASS",
           "SUV - SMALL"
          ],
          [
           "COMPASS",
           "SUV - SMALL"
          ],
          [
           "COMPASS 4X4",
           "SUV - SMALL"
          ],
          [
           "COMPASS 4X4",
           "SUV - SMALL"
          ],
          [
           "COMPASS 4X4 TRAIL RATED",
           "SUV - SMALL"
          ],
          [
           "GRAND CHEROKEE 4X4 DIESEL",
           "SUV - STANDARD"
          ],
          [
           "GRAND CHEROKEE 4X4 FFV",
           "SUV - STANDARD"
          ],
          [
           "GRAND CHEROKEE 4X4 FFV",
           "SUV - STANDARD"
          ],
          [
           "GRAND CHEROKEE 4X4 (MDS)",
           "SUV - STANDARD"
          ],
          [
           "GRAND CHEROKEE SRT 4X4 (MDS)",
           "SUV - STANDARD"
          ],
          [
           "PATRIOT",
           "SUV - SMALL"
          ],
          [
           "PATRIOT",
           "SUV - SMALL"
          ],
          [
           "PATRIOT",
           "SUV - SMALL"
          ],
          [
           "PATRIOT",
           "SUV - SMALL"
          ],
          [
           "PATRIOT 4X4",
           "SUV - SMALL"
          ],
          [
           "PATRIOT 4X4",
           "SUV - SMALL"
          ],
          [
           "PATRIOT 4X4 TRAIL RATED",
           "SUV - SMALL"
          ],
          [
           "RENEGADE",
           "SUV - SMALL"
          ],
          [
           "RENEGADE FFV",
           "SUV - SMALL"
          ],
          [
           "RENEGADE FFV",
           "SUV - SMALL"
          ],
          [
           "RENEGADE 4X4",
           "SUV - SMALL"
          ],
          [
           "RENEGADE 4X4",
           "SUV - SMALL"
          ],
          [
           "WRANGLER 4X4",
           "SUV - SMALL"
          ],
          [
           "WRANGLER 4X4",
           "SUV - SMALL"
          ],
          [
           "WRANGLER UNLIMITED 4X4",
           "SUV - SMALL"
          ],
          [
           "WRANGLER UNLIMITED 4X4",
           "SUV - SMALL"
          ],
          [
           "CHEROKEE",
           "SUV - SMALL"
          ],
          [
           "CHEROKEE FFV",
           "SUV - SMALL"
          ],
          [
           "CHEROKEE FFV",
           "SUV - SMALL"
          ],
          [
           "CHEROKEE",
           "SUV - SMALL"
          ],
          [
           "CHEROKEE 4X4",
           "SUV - SMALL"
          ],
          [
           "CHEROKEE 4X4 FFV",
           "SUV - SMALL"
          ],
          [
           "CHEROKEE 4X4 FFV",
           "SUV - SMALL"
          ],
          [
           "CHEROKEE 4X4",
           "SUV - SMALL"
          ],
          [
           "CHEROKEE 4X4 ACTIVE DRIVE II",
           "SUV - SMALL"
          ],
          [
           "CHEROKEE 4X4 ACTIVE DRIVE II",
           "SUV - SMALL"
          ],
          [
           "CHEROKEE TRAILHAWK 4X4",
           "SUV - SMALL"
          ],
          [
           "CHEROKEE TRAILHAWK 4X4",
           "SUV - SMALL"
          ],
          [
           "COMPASS",
           "SUV - SMALL"
          ],
          [
           "COMPASS",
           "SUV - SMALL"
          ],
          [
           "COMPASS",
           "SUV - SMALL"
          ],
          [
           "COMPASS",
           "SUV - SMALL"
          ],
          [
           "COMPASS 4X4",
           "SUV - SMALL"
          ],
          [
           "COMPASS 4X4",
           "SUV - SMALL"
          ],
          [
           "COMPASS 4X4 TRAIL RATED",
           "SUV - SMALL"
          ],
          [
           "GRAND CHEROKEE 4X4",
           "SUV - STANDARD"
          ],
          [
           "GRAND CHEROKEE 4X4 (MDS)",
           "SUV - STANDARD"
          ],
          [
           "GRAND CHEROKEE 4X4 DIESEL",
           "SUV - STANDARD"
          ],
          [
           "GRAND CHEROKEE SRT 4X4 (MDS)",
           "SUV - STANDARD"
          ],
          [
           "PATRIOT",
           "SUV - SMALL"
          ],
          [
           "PATRIOT",
           "SUV - SMALL"
          ],
          [
           "PATRIOT",
           "SUV - SMALL"
          ],
          [
           "PATRIOT",
           "SUV - SMALL"
          ],
          [
           "PATRIOT 4X4",
           "SUV - SMALL"
          ],
          [
           "PATRIOT 4X4",
           "SUV - SMALL"
          ],
          [
           "PATRIOT 4X4 TRAIL RATED",
           "SUV - SMALL"
          ],
          [
           "RENEGADE",
           "SUV - SMALL"
          ],
          [
           "RENEGADE FFV",
           "SUV - SMALL"
          ],
          [
           "RENEGADE FFV",
           "SUV - SMALL"
          ],
          [
           "RENEGADE 4X4",
           "SUV - SMALL"
          ],
          [
           "RENEGADE 4X4",
           "SUV - SMALL"
          ],
          [
           "WRANGLER 4X4",
           "SUV - SMALL"
          ],
          [
           "WRANGLER 4X4",
           "SUV - SMALL"
          ],
          [
           "WRANGLER UNLIMITED 4X4",
           "SUV - SMALL"
          ],
          [
           "WRANGLER UNLIMITED 4X4",
           "SUV - SMALL"
          ],
          [
           "CHEROKEE",
           "SUV - SMALL"
          ],
          [
           "CHEROKEE",
           "SUV - SMALL"
          ],
          [
           "CHEROKEE 4X4 ACTIVE DRIVE I",
           "SUV - SMALL"
          ],
          [
           "CHEROKEE 4X4 ACTIVE DRIVE I",
           "SUV - SMALL"
          ],
          [
           "CHEROKEE 4X4 ACTIVE DRIVE II",
           "SUV - SMALL"
          ],
          [
           "CHEROKEE 4X4 ACTIVE DRIVE II",
           "SUV - SMALL"
          ],
          [
           "CHEROKEE 4X4 ACTIVE DRIVE LOCK",
           "SUV - SMALL"
          ],
          [
           "CHEROKEE 4X4 ACTIVE DRIVE LOCK",
           "SUV - SMALL"
          ],
          [
           "COMPASS",
           "SUV - SMALL"
          ],
          [
           "COMPASS",
           "SUV - SMALL"
          ],
          [
           "COMPASS",
           "SUV - SMALL"
          ],
          [
           "COMPASS",
           "SUV - SMALL"
          ],
          [
           "COMPASS 4X4",
           "SUV - SMALL"
          ],
          [
           "COMPASS 4X4",
           "SUV - SMALL"
          ],
          [
           "COMPASS 4X4",
           "SUV - SMALL"
          ],
          [
           "GRAND CHEROKEE 4X4",
           "SUV - STANDARD"
          ],
          [
           "GRAND CHEROKEE 4X4",
           "SUV - STANDARD"
          ],
          [
           "GRAND CHEROKEE SRT8",
           "SUV - STANDARD"
          ],
          [
           "NEW COMPASS",
           "SUV - SMALL"
          ],
          [
           "NEW COMPASS",
           "SUV - SMALL"
          ],
          [
           "NEW COMPASS 4X4",
           "SUV - SMALL"
          ],
          [
           "NEW COMPASS 4X4",
           "SUV - SMALL"
          ],
          [
           "PATRIOT",
           "SUV - SMALL"
          ],
          [
           "PATRIOT",
           "SUV - SMALL"
          ],
          [
           "PATRIOT",
           "SUV - SMALL"
          ],
          [
           "PATRIOT",
           "SUV - SMALL"
          ],
          [
           "PATRIOT 4X4",
           "SUV - SMALL"
          ],
          [
           "PATRIOT 4X4",
           "SUV - SMALL"
          ],
          [
           "PATRIOT 4X4",
           "SUV - SMALL"
          ],
          [
           "RENEGADE",
           "SUV - SMALL"
          ],
          [
           "RENEGADE FFV",
           "SUV - SMALL"
          ],
          [
           "RENEGADE FFV",
           "SUV - SMALL"
          ],
          [
           "RENEGADE 4X4",
           "SUV - SMALL"
          ],
          [
           "RENEGADE 4X4",
           "SUV - SMALL"
          ],
          [
           "WRANGLER 4X4",
           "SUV - SMALL"
          ],
          [
           "WRANGLER 4X4",
           "SUV - SMALL"
          ],
          [
           "WRANGLER UNLIMITED 4X4",
           "SUV - SMALL"
          ],
          [
           "WRANGLER UNLIMITED 4X4",
           "SUV - SMALL"
          ],
          [
           "CHEROKEE FFV",
           "SUV - SMALL"
          ],
          [
           "CHEROKEE FFV",
           "SUV - SMALL"
          ],
          [
           "CHEROKEE",
           "SUV - SMALL"
          ],
          [
           "CHEROKEE 4X4 ACTIVE DRIVE I",
           "SUV - SMALL"
          ],
          [
           "CHEROKEE 4X4 ACTIVE DRIVE I FFV",
           "SUV - SMALL"
          ],
          [
           "CHEROKEE 4X4 ACTIVE DRIVE I FFV",
           "SUV - SMALL"
          ],
          [
           "CHEROKEE 4X4 ACTIVE DRIVE I",
           "SUV - SMALL"
          ],
          [
           "CHEROKEE 4X4 ACTIVE DRIVE II",
           "SUV - SMALL"
          ],
          [
           "CHEROKEE 4X4 ACTIVE DRIVE II",
           "SUV - SMALL"
          ],
          [
           "CHEROKEE 4X4 ACTIVE DRIVE LOCK",
           "SUV - SMALL"
          ],
          [
           "CHEROKEE 4X4 ACTIVE DRIVE LOCK",
           "SUV - SMALL"
          ],
          [
           "COMPASS",
           "SUV - SMALL"
          ],
          [
           "COMPASS",
           "SUV - SMALL"
          ],
          [
           "COMPASS 4X4",
           "SUV - SMALL"
          ],
          [
           "COMPASS 4X4",
           "SUV - SMALL"
          ],
          [
           "GRAND CHEROKEE 4X4",
           "SUV - STANDARD"
          ],
          [
           "GRAND CHEROKEE 4X4",
           "SUV - STANDARD"
          ],
          [
           "GRAND CHEROKEE 4X4",
           "SUV - STANDARD"
          ],
          [
           "GRAND CHEROKEE 4X4 SRT",
           "SUV - STANDARD"
          ],
          [
           "GRAND CHEROKEE 4X4 TRACKHAWK",
           "SUV - STANDARD"
          ],
          [
           "NEW WRANGLER 4X4",
           "SUV - SMALL"
          ],
          [
           "NEW WRANGLER 4X4",
           "SUV - SMALL"
          ],
          [
           "NEW WRANGLER 4X4",
           "SUV - SMALL"
          ],
          [
           "NEW WRANGLER UNLIMITED 4X4",
           "SUV - SMALL"
          ],
          [
           "NEW WRANGLER UNLIMITED 4X4",
           "SUV - SMALL"
          ],
          [
           "NEW WRANGLER UNLIMITED 4X4",
           "SUV - SMALL"
          ],
          [
           "RENEGADE",
           "SUV - SMALL"
          ],
          [
           "RENEGADE",
           "SUV - SMALL"
          ],
          [
           "RENEGADE FFV",
           "SUV - SMALL"
          ],
          [
           "RENEGADE FFV",
           "SUV - SMALL"
          ],
          [
           "RENEGADE 4X4",
           "SUV - SMALL"
          ],
          [
           "RENEGADE 4X4",
           "SUV - SMALL"
          ],
          [
           "WRANGLER JK 4X4",
           "SUV - SMALL"
          ],
          [
           "WRANGLER JK 4X4",
           "SUV - SMALL"
          ],
          [
           "WRANGLER JK UNLIMITED 4X4",
           "SUV - SMALL"
          ],
          [
           "WRANGLER JK UNLIMITED 4X4",
           "SUV - SMALL"
          ],
          [
           "Cherokee",
           "SUV - SMALL"
          ],
          [
           "Cherokee",
           "SUV - SMALL"
          ],
          [
           "Cherokee",
           "SUV - SMALL"
          ],
          [
           "Cherokee 4X4 Active Drive I",
           "SUV - SMALL"
          ],
          [
           "Cherokee 4X4 Active Drive I",
           "SUV - SMALL"
          ],
          [
           "Cherokee 4X4 Active Drive I",
           "SUV - SMALL"
          ],
          [
           "Cherokee 4X4 Active Drive II",
           "SUV - SMALL"
          ],
          [
           "Cherokee 4X4 Active Drive II",
           "SUV - SMALL"
          ],
          [
           "Cherokee 4X4 Active Drive Lock",
           "SUV - SMALL"
          ],
          [
           "Cherokee 4X4 Active Drive Lock",
           "SUV - SMALL"
          ],
          [
           "Compass",
           "SUV - SMALL"
          ],
          [
           "Compass",
           "SUV - SMALL"
          ],
          [
           "Compass 4X4",
           "SUV - SMALL"
          ],
          [
           "Compass 4X4",
           "SUV - SMALL"
          ],
          [
           "Grand Cherokee 4X4",
           "SUV - STANDARD"
          ],
          [
           "Grand Cherokee 4X4",
           "SUV - STANDARD"
          ],
          [
           "Grand Cherokee 4X4 EcoDiesel",
           "SUV - STANDARD"
          ],
          [
           "Grand Cherokee 4X4 SRT",
           "SUV - STANDARD"
          ],
          [
           "Grand Cherokee 4X4 Trackhawk",
           "SUV - STANDARD"
          ],
          [
           "Renegade",
           "SUV - SMALL"
          ],
          [
           "Renegade",
           "SUV - SMALL"
          ],
          [
           "Renegade 4X4",
           "SUV - SMALL"
          ],
          [
           "Renegade 4X4",
           "SUV - SMALL"
          ],
          [
           "Renegade 4X4 Trailhawk",
           "SUV - SMALL"
          ],
          [
           "Wrangler JL 4X4",
           "SUV - SMALL"
          ],
          [
           "Wrangler JL 4X4",
           "SUV - SMALL"
          ],
          [
           "Wrangler JL 4X4",
           "SUV - SMALL"
          ],
          [
           "Wrangler JL Unlimited 4X4",
           "SUV - SMALL"
          ],
          [
           "Wrangler JL Unlimited 4X4",
           "SUV - SMALL"
          ],
          [
           "Wrangler JL Unlimited 4X4",
           "SUV - SMALL"
          ],
          [
           "Cherokee",
           "SUV - SMALL"
          ],
          [
           "Cherokee",
           "SUV - SMALL"
          ],
          [
           "Cherokee",
           "SUV - SMALL"
          ],
          [
           "Cherokee 4X4 Active Drive I",
           "SUV - SMALL"
          ],
          [
           "Cherokee 4X4 Active Drive I",
           "SUV - SMALL"
          ],
          [
           "Cherokee 4X4 Active Drive I",
           "SUV - SMALL"
          ],
          [
           "Cherokee 4X4 Active Drive II",
           "SUV - SMALL"
          ],
          [
           "Cherokee 4X4 Active Drive II",
           "SUV - SMALL"
          ],
          [
           "Cherokee 4X4 Active Drive Lock",
           "SUV - SMALL"
          ],
          [
           "Cherokee 4X4 Active Drive Lock",
           "SUV - SMALL"
          ],
          [
           "Compass",
           "SUV - SMALL"
          ],
          [
           "Compass",
           "SUV - SMALL"
          ],
          [
           "Compass 4X4",
           "SUV - SMALL"
          ],
          [
           "Compass 4X4",
           "SUV - SMALL"
          ],
          [
           "Gladiator 4X4",
           "PICKUP TRUCK - STANDARD"
          ],
          [
           "Gladiator 4X4",
           "PICKUP TRUCK - STANDARD"
          ],
          [
           "Grand Cherokee 4X4",
           "SUV - STANDARD"
          ],
          [
           "Grand Cherokee 4X4",
           "SUV - STANDARD"
          ],
          [
           "Grand Cherokee 4X4 Trackhawk",
           "SUV - STANDARD"
          ],
          [
           "Grand Cherokee 4X4 SRT",
           "SUV - STANDARD"
          ],
          [
           "Renegade",
           "SUV - SMALL"
          ],
          [
           "Renegade",
           "SUV - SMALL"
          ],
          [
           "Renegade 4X4",
           "SUV - SMALL"
          ],
          [
           "Renegade 4X4 Trailhawk",
           "SUV - SMALL"
          ],
          [
           "Renegade 4X4",
           "SUV - SMALL"
          ],
          [
           "Wrangler 4X4",
           "SUV - SMALL"
          ],
          [
           "Wrangler 4X4",
           "SUV - SMALL"
          ],
          [
           "Wrangler 4X4 eTorque",
           "SUV - SMALL"
          ],
          [
           "Wrangler 4X4",
           "SUV - SMALL"
          ],
          [
           "Wrangler Unlimited 4X4",
           "SUV - SMALL"
          ],
          [
           "Wrangler Unlimited 4X4 eTorque",
           "SUV - SMALL"
          ],
          [
           "Wrangler Unlimited 4X4 EcoDiesel",
           "SUV - SMALL"
          ],
          [
           "Wrangler Unlimited 4X4",
           "SUV - SMALL"
          ],
          [
           "Wrangler Unlimited 4X4 eTorque",
           "SUV - SMALL"
          ],
          [
           "Wrangler Unlimited 4X4",
           "SUV - SMALL"
          ]
         ],
         "hovertemplate": "Make=JEEP<br>Engine Size(L)=%{x}<br>CO2 Emissions(g/km)=%{y}<br>Fuel Consumption Comb (mpg)=%{marker.size}<br>Model=%{customdata[0]}<br>Vehicle Class=%{customdata[1]}<extra></extra>",
         "legendgroup": "JEEP",
         "marker": {
          "color": "#19d3f3",
          "size": {
           "bdata": "HhscGhwaGhgdHR8dHhweGRMdFxISHR0fHR4cHhkWFhUVHh4WHRwcFRwcGhoaHR8cHhwdGR0XEhMSHR8cHhwdGSAeFyAdFhYVFR4eFh0cHBUcHBoaGhwfHB4bHRkZFB0SHB8cHhsdGSAeFyAdFhYVFR0cHBscGRoYHB4cHhsZHRkUEh4fHh4cHhweGxkdIB4XIB0WFhUVHRUcHBwUGxwZGhgeHx4eHBkUEhAcGBgbGBcgHh4XIB0WFhUVHx4cHR0bHBkbGB4fHh4ZFBwSECAeHx0dHBgYGxgXHx4cHR0bHBkbGB4fHh4XFhkUEBIgHh8dHRsYGhgZGh4YGBc=",
           "dtype": "i1"
          },
          "sizemode": "area",
          "sizeref": 0.28444444444444444,
          "symbol": "circle"
         },
         "mode": "markers",
         "name": "JEEP",
         "showlegend": true,
         "type": "scattergl",
         "x": {
          "bdata": "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",
          "dtype": "f8"
         },
         "xaxis": "x",
         "y": {
          "bdata": "2gDyAOYA+ADoAP0A+wALAeQA4QDRAOEA2ADrANgA/wBUAQsBFgH6AGsB5ADhANEA4QDYAOsA2AD/ACYBJgE0ATQB2gDaAM4A5ADmAOYA2wDrAOgA+wD7APgA5ADUAOYA1gDrAN8A/wALARYB+gBSAWsB5ADUAOYA1gDrAN8A/wDKANgAwwDKAOEAJgEmATQBNAHfAN8A1QDpAOkA6QDiAPAA7gAAAf8A/QDqANYA6wDaAPgA5AADAQkBSQELAXIB6gDWAOsA2gD4AOQAAwHPANwAyQDLAOUAKwErAToBOAHhAOoA6wDxAPAAAwEAAQ0B6wDYAO4A2wD5AAMB5gAJAUgBcAHaANMA3gDdAOsA2ADuANsA+QADAeYA0QDeAM4A0wDmACsBKgE5ATgB4QDaAOoA6wDrAOcA8QDvAAMBAAENAdoA0wDeAN0ADAEJAUsBcAGdAekAEgEVAfUAEwEdAdEA3gDeAM4A0wDmACsBKgE5ATgB1gDbAPAA5QDmAPkA8AADAfkADQHaANMA3gDdAAkBSwEMAXABnQHMAN4A2ADmAOYA6QASARUB9QATAR0B1gDbAPAA5QDmAPkA8AADAfkADQHaANMA3gDdACIBKAEJAUsBnQFwAcwA3gDYAOYA5gDxABIBAwEVAQcBAQH/ABgBFAEdAQ==",
          "dtype": "i2"
         },
         "yaxis": "y"
        },
        {
         "customdata": [
          [
           "B 250",
           "STATION WAGON - SMALL"
          ],
          [
           "C 250",
           "COMPACT"
          ],
          [
           "C 250 COUPE",
           "SUBCOMPACT"
          ],
          [
           "C 300 4MATIC FFV",
           "COMPACT"
          ],
          [
           "C 300 4MATIC FFV",
           "COMPACT"
          ],
          [
           "C 350",
           "COMPACT"
          ],
          [
           "C 350 4MATIC",
           "COMPACT"
          ],
          [
           "C 350 4MATIC COUPE",
           "SUBCOMPACT"
          ],
          [
           "C 350 COUPE",
           "SUBCOMPACT"
          ],
          [
           "C 63 AMG",
           "COMPACT"
          ],
          [
           "C 63 AMG COUPE",
           "SUBCOMPACT"
          ],
          [
           "CL 550 4MATIC",
           "COMPACT"
          ],
          [
           "CL 63 AMG",
           "COMPACT"
          ],
          [
           "CLA 250",
           "COMPACT"
          ],
          [
           "CLA 45 AMG 4MATIC",
           "COMPACT"
          ],
          [
           "CLS 550 4MATIC",
           "COMPACT"
          ],
          [
           "CLS 63 AMG 4MATIC",
           "COMPACT"
          ],
          [
           "CLS 63 AMG S 4MATIC",
           "COMPACT"
          ],
          [
           "E 250 BLUETEC 4MATIC",
           "MID-SIZE"
          ],
          [
           "E 300 4MATIC",
           "MID-SIZE"
          ],
          [
           "E 350 4MATIC",
           "MID-SIZE"
          ],
          [
           "E 350 4MATIC COUPE",
           "SUBCOMPACT"
          ],
          [
           "E 350 4MATIC WAGON",
           "STATION WAGON - MID-SIZE"
          ],
          [
           "E 350 CABRIOLET",
           "SUBCOMPACT"
          ],
          [
           "E 350 COUPE",
           "SUBCOMPACT"
          ],
          [
           "E 400 HYBRID",
           "MID-SIZE"
          ],
          [
           "E 550 4MATIC",
           "MID-SIZE"
          ],
          [
           "E 550 CABRIOLET",
           "SUBCOMPACT"
          ],
          [
           "E 550 COUPE",
           "SUBCOMPACT"
          ],
          [
           "E 63 AMG 4MATIC",
           "MID-SIZE"
          ],
          [
           "E 63 AMG 4MATIC WAGON",
           "STATION WAGON - MID-SIZE"
          ],
          [
           "E 63 AMG S 4MATIC",
           "MID-SIZE"
          ],
          [
           "E 63 AMG S 4MATIC WAGON",
           "STATION WAGON - MID-SIZE"
          ],
          [
           "G 550",
           "SUV - STANDARD"
          ],
          [
           "G 63 AMG",
           "SUV - STANDARD"
          ],
          [
           "GL 350 BLUETEC 4MATIC",
           "SUV - STANDARD"
          ],
          [
           "GL 450 4MATIC",
           "SUV - STANDARD"
          ],
          [
           "GL 550 4MATIC",
           "SUV - STANDARD"
          ],
          [
           "GL 63 AMG",
           "SUV - STANDARD"
          ],
          [
           "GLK 250 BLUETEC 4MATIC",
           "SUV - SMALL"
          ],
          [
           "GLK 350 4MATIC",
           "SUV - SMALL"
          ],
          [
           "ML 350 4MATIC FFV",
           "SUV - STANDARD"
          ],
          [
           "ML 350 4MATIC FFV",
           "SUV - STANDARD"
          ],
          [
           "ML 350 BLUETEC 4MATIC",
           "SUV - STANDARD"
          ],
          [
           "ML 550 4MATIC",
           "SUV - STANDARD"
          ],
          [
           "ML 63 AMG 4MATIC",
           "SUV - STANDARD"
          ],
          [
           "S 550 4MATIC LWB",
           "FULL-SIZE"
          ],
          [
           "S 550 4MATIC SWB",
           "FULL-SIZE"
          ],
          [
           "S 63 AMG 4MATIC",
           "FULL-SIZE"
          ],
          [
           "SL 550",
           "TWO-SEATER"
          ],
          [
           "SL 63 AMG",
           "TWO-SEATER"
          ],
          [
           "SL 65 AMG",
           "TWO-SEATER"
          ],
          [
           "SLK 250",
           "TWO-SEATER"
          ],
          [
           "SLK 250",
           "TWO-SEATER"
          ],
          [
           "SLK 350",
           "TWO-SEATER"
          ],
          [
           "SLK 55 AMG",
           "TWO-SEATER"
          ],
          [
           "SLS AMG BLACK SERIES COUPE",
           "TWO-SEATER"
          ],
          [
           "SLS AMG GT COUPE",
           "TWO-SEATER"
          ],
          [
           "SLS AMG ROADSTER",
           "TWO-SEATER"
          ],
          [
           "B 250",
           "STATION WAGON - SMALL"
          ],
          [
           "B 250 4MATIC",
           "STATION WAGON - SMALL"
          ],
          [
           "C 250 COUPE",
           "SUBCOMPACT"
          ],
          [
           "C 300 4MATIC",
           "COMPACT"
          ],
          [
           "C 350 4MATIC COUPE",
           "SUBCOMPACT"
          ],
          [
           "C 350 COUPE",
           "SUBCOMPACT"
          ],
          [
           "C 400 4MATIC",
           "COMPACT"
          ],
          [
           "C 63 AMG COUPE",
           "SUBCOMPACT"
          ],
          [
           "CLA 250",
           "SUBCOMPACT"
          ],
          [
           "CLA 250 4MATIC",
           "SUBCOMPACT"
          ],
          [
           "CLA 45 AMG",
           "COMPACT"
          ],
          [
           "CLS 400 4MATIC",
           "COMPACT"
          ],
          [
           "CLS 550 4MATIC",
           "COMPACT"
          ],
          [
           "CLS 63 AMG 4MATIC",
           "COMPACT"
          ],
          [
           "E 250 BLUETEC 4MATIC",
           "MID-SIZE"
          ],
          [
           "E 300 4MATIC",
           "MID-SIZE"
          ],
          [
           "E 400 4MATIC",
           "MID-SIZE"
          ],
          [
           "E 400 4MATIC WAGON",
           "STATION WAGON - MID-SIZE"
          ],
          [
           "E 400 CABRIOLET",
           "SUBCOMPACT"
          ],
          [
           "E 400 COUPE",
           "SUBCOMPACT"
          ],
          [
           "E 550 4MATIC",
           "MID-SIZE"
          ],
          [
           "E 550 CABRIOLET",
           "SUBCOMPACT"
          ],
          [
           "E 550 COUPE",
           "SUBCOMPACT"
          ],
          [
           "E 63 AMG S 4MATIC",
           "MID-SIZE"
          ],
          [
           "E 63 AMG S 4MATIC WAGON",
           "STATION WAGON - MID-SIZE"
          ],
          [
           "G 550",
           "SUV - STANDARD"
          ],
          [
           "G 63 AMG",
           "SUV - STANDARD"
          ],
          [
           "GL 350 BLUETEC 4MATIC",
           "SUV - STANDARD"
          ],
          [
           "GL 450 4MATIC",
           "SUV - STANDARD"
          ],
          [
           "GL 550 4MATIC",
           "SUV - STANDARD"
          ],
          [
           "GL 63 AMG",
           "SUV - STANDARD"
          ],
          [
           "GLA 250 4MATIC",
           "SUV - SMALL"
          ],
          [
           "GLA 45 AMG 4MATIC",
           "STATION WAGON - MID-SIZE"
          ],
          [
           "GLK 250 BLUETEC 4MATIC",
           "SUV - SMALL"
          ],
          [
           "GLK 350 4MATIC",
           "SUV - SMALL"
          ],
          [
           "ML 350 BLUETEC 4MATIC",
           "SUV - STANDARD"
          ],
          [
           "ML 400 4MATIC",
           "SUV - STANDARD"
          ],
          [
           "ML 550 4MATIC",
           "SUV - STANDARD"
          ],
          [
           "ML 63 AMG 4MATIC",
           "SUV - STANDARD"
          ],
          [
           "S 400 4MATIC",
           "MID-SIZE"
          ],
          [
           "S 550 4MATIC COUPE",
           "COMPACT"
          ],
          [
           "S 550 4MATIC LWB",
           "FULL-SIZE"
          ],
          [
           "S 550 4MATIC SWB",
           "MID-SIZE"
          ],
          [
           "S 600",
           "FULL-SIZE"
          ],
          [
           "S 63 AMG 4MATIC",
           "FULL-SIZE"
          ],
          [
           "S 63 AMG COUPE",
           "COMPACT"
          ],
          [
           "S 65 AMG",
           "FULL-SIZE"
          ],
          [
           "S 65 AMG COUPE",
           "COMPACT"
          ],
          [
           "SL 550",
           "TWO-SEATER"
          ],
          [
           "SL 63 AMG",
           "TWO-SEATER"
          ],
          [
           "SL 65 AMG",
           "TWO-SEATER"
          ],
          [
           "SLK 250",
           "TWO-SEATER"
          ],
          [
           "SLK 250",
           "TWO-SEATER"
          ],
          [
           "SLK 350",
           "TWO-SEATER"
          ],
          [
           "SLK 55 AMG",
           "TWO-SEATER"
          ],
          [
           "SLS AMG GT COUPE",
           "TWO-SEATER"
          ],
          [
           "SLS AMG GT ROADSTER",
           "TWO-SEATER"
          ],
          [
           "AMG C 63",
           "COMPACT"
          ],
          [
           "AMG C 63 S",
           "COMPACT"
          ],
          [
           "AMG CLA 45",
           "COMPACT"
          ],
          [
           "AMG CLS 63 S 4MATIC",
           "COMPACT"
          ],
          [
           "AMG E 63 S 4MATIC",
           "MID-SIZE"
          ],
          [
           "AMG E 63 S 4MATIC WAGON",
           "STATION WAGON - MID-SIZE"
          ],
          [
           "AMG G 63",
           "SUV - STANDARD"
          ],
          [
           "AMG G 65",
           "SUV - STANDARD"
          ],
          [
           "AMG GL 63 S",
           "SUV - STANDARD"
          ],
          [
           "AMG GLA 45",
           "SUV - SMALL"
          ],
          [
           "AMG GLE 63 S 4MATIC",
           "SUV - STANDARD"
          ],
          [
           "AMG GLE 63 S COUPE 4MATIC",
           "SUV - STANDARD"
          ],
          [
           "AMG GT S",
           "TWO-SEATER"
          ],
          [
           "AMG S 63",
           "FULL-SIZE"
          ],
          [
           "AMG S 63 COUPE",
           "COMPACT"
          ],
          [
           "AMG S 65",
           "FULL-SIZE"
          ],
          [
           "AMG S 65 COUPE",
           "COMPACT"
          ],
          [
           "AMG SL 63",
           "TWO-SEATER"
          ],
          [
           "AMG SL 65",
           "TWO-SEATER"
          ],
          [
           "AMG SLK 55",
           "TWO-SEATER"
          ],
          [
           "B 250",
           "MID-SIZE"
          ],
          [
           "B 250 4MATIC",
           "MID-SIZE"
          ],
          [
           "C 300 4MATIC",
           "COMPACT"
          ],
          [
           "C 450 AMG SPORT 4MATIC",
           "COMPACT"
          ],
          [
           "CLA 250",
           "COMPACT"
          ],
          [
           "CLA 250 4MATIC FFV",
           "COMPACT"
          ],
          [
           "CLA 250 4MATIC FFV",
           "COMPACT"
          ],
          [
           "CLS 400 4MATIC",
           "COMPACT"
          ],
          [
           "CLS 550 4MATIC",
           "COMPACT"
          ],
          [
           "E 250 BLUETEC 4MATIC",
           "MID-SIZE"
          ],
          [
           "E 300 4MATIC",
           "MID-SIZE"
          ],
          [
           "E 400 4MATIC",
           "MID-SIZE"
          ],
          [
           "E 400 4MATIC COUPE",
           "SUBCOMPACT"
          ],
          [
           "E 400 4MATIC WAGON",
           "STATION WAGON - MID-SIZE"
          ],
          [
           "E 400 CABRIOLET",
           "SUBCOMPACT"
          ],
          [
           "E 550 4MATIC",
           "MID-SIZE"
          ],
          [
           "E 550 CABRIOLET",
           "SUBCOMPACT"
          ],
          [
           "E 550 COUPE",
           "SUBCOMPACT"
          ],
          [
           "G 550",
           "SUV - STANDARD"
          ],
          [
           "GL 350 BLUETEC 4MATIC",
           "SUV - STANDARD"
          ],
          [
           "GL 450 4MATIC",
           "SUV - STANDARD"
          ],
          [
           "GL 550 4MATIC",
           "SUV - STANDARD"
          ],
          [
           "GLA 250 4MATIC",
           "SUV - SMALL"
          ],
          [
           "GLE 350d 4MATIC",
           "SUV - STANDARD"
          ],
          [
           "GLE 350d 4MATIC COUPE",
           "SUV - STANDARD"
          ],
          [
           "GLE 400 4MATIC",
           "SUV - STANDARD"
          ],
          [
           "GLE 450 AMG SPORT 4MATIC COUPE",
           "SUV - STANDARD"
          ],
          [
           "GLE 550 4MATIC",
           "SUV - STANDARD"
          ],
          [
           "MAYBACH S 600",
           "FULL-SIZE"
          ],
          [
           "METRIS CARGO",
           "SPECIAL PURPOSE VEHICLE"
          ],
          [
           "METRIS PASSENGER",
           "SPECIAL PURPOSE VEHICLE"
          ],
          [
           "S 400 4MATIC SWB",
           "MID-SIZE"
          ],
          [
           "S 550 4MATIC SWB",
           "MID-SIZE"
          ],
          [
           "S 550 4MATIC LWB",
           "FULL-SIZE"
          ],
          [
           "S 550 4MATIC COUPE",
           "COMPACT"
          ],
          [
           "S 600",
           "FULL-SIZE"
          ],
          [
           "SL 550",
           "TWO-SEATER"
          ],
          [
           "SLK 300",
           "TWO-SEATER"
          ],
          [
           "SLK 350",
           "TWO-SEATER"
          ],
          [
           "AMG C 63",
           "COMPACT"
          ],
          [
           "AMG C 63 CABRIOLET",
           "SUBCOMPACT"
          ],
          [
           "AMG C 63 COUPE",
           "SUBCOMPACT"
          ],
          [
           "AMG C 63 S",
           "COMPACT"
          ],
          [
           "AMG C 63 S CABRIOLET",
           "SUBCOMPACT"
          ],
          [
           "AMG C 63 S COUPE",
           "SUBCOMPACT"
          ],
          [
           "AMG CLA 45",
           "COMPACT"
          ],
          [
           "AMG CLS 63 S 4MATIC",
           "COMPACT"
          ],
          [
           "AMG G 63",
           "SUV - STANDARD"
          ],
          [
           "AMG G 65",
           "SUV - STANDARD"
          ],
          [
           "AMG GLA 45 4MATIC",
           "SUV - SMALL"
          ],
          [
           "AMG GLC 43 4MATIC COUPE",
           "SUV - SMALL"
          ],
          [
           "AMG GLE 43 4MATIC",
           "SUV - STANDARD"
          ],
          [
           "AMG GLE 43 4MATIC COUPE",
           "SUV - STANDARD"
          ],
          [
           "AMG GLE 63 S 4MATIC",
           "SUV - STANDARD"
          ],
          [
           "AMG GLE 63 S 4MATIC COUPE",
           "SUV - STANDARD"
          ],
          [
           "AMG GLS 63",
           "SUV - STANDARD"
          ],
          [
           "AMG GT COUPE",
           "TWO-SEATER"
          ],
          [
           "AMG GT S COUPE",
           "TWO-SEATER"
          ],
          [
           "AMG S 63 4MATIC",
           "FULL-SIZE"
          ],
          [
           "AMG S 63 CABRIOLET",
           "COMPACT"
          ],
          [
           "AMG S 63 COUPE",
           "COMPACT"
          ],
          [
           "AMG S 65",
           "FULL-SIZE"
          ],
          [
           "AMG S 65 CABRIOLET",
           "COMPACT"
          ],
          [
           "AMG S 65 COUPE",
           "COMPACT"
          ],
          [
           "AMG SL 63",
           "TWO-SEATER"
          ],
          [
           "AMG SL 65",
           "TWO-SEATER"
          ],
          [
           "AMG SLC 43",
           "TWO-SEATER"
          ],
          [
           "B 250",
           "MID-SIZE"
          ],
          [
           "C 300 4MATIC",
           "COMPACT"
          ],
          [
           "C 300 4MATIC CABRIOLET",
           "SUBCOMPACT"
          ],
          [
           "C 300 4MATIC COUPE",
           "SUBCOMPACT"
          ],
          [
           "CLA 250",
           "COMPACT"
          ],
          [
           "CLS 550 4MATIC",
           "COMPACT"
          ],
          [
           "E 300 4MATIC",
           "MID-SIZE"
          ],
          [
           "E 400 4MATIC",
           "MID-SIZE"
          ],
          [
           "E 400 4MATIC WAGON",
           "STATION WAGON - MID-SIZE"
          ],
          [
           "E 400 CABRIOLET",
           "SUBCOMPACT"
          ],
          [
           "E 400 COUPE",
           "SUBCOMPACT"
          ],
          [
           "E 550 CABRIOLET",
           "SUBCOMPACT"
          ],
          [
           "E 550 COUPE",
           "SUBCOMPACT"
          ],
          [
           "G 550",
           "SUV - STANDARD"
          ],
          [
           "GLA 250 4MATIC",
           "SUV - SMALL"
          ],
          [
           "GLA 250 4MATIC",
           "SUV - SMALL"
          ],
          [
           "GLC 300 4MATIC",
           "SUV - SMALL"
          ],
          [
           "GLE 400 4MATIC",
           "SUV - STANDARD"
          ],
          [
           "GLE 550 4MATIC",
           "SUV - STANDARD"
          ],
          [
           "GLS 450 4MATIC",
           "SUV - STANDARD"
          ],
          [
           "GLS 550 4MATIC",
           "SUV - STANDARD"
          ],
          [
           "MAYBACH S 600",
           "FULL-SIZE"
          ],
          [
           "METRIS CARGO",
           "SPECIAL PURPOSE VEHICLE"
          ],
          [
           "METRIS PASSENGER",
           "SPECIAL PURPOSE VEHICLE"
          ],
          [
           "S 400 4MATIC SWB",
           "MID-SIZE"
          ],
          [
           "S 550 4MATIC SWB",
           "MID-SIZE"
          ],
          [
           "S 550 4MATIC LWB",
           "FULL-SIZE"
          ],
          [
           "S 550 4MATIC CABRIOLET",
           "COMPACT"
          ],
          [
           "S 550 4MATIC COUPE",
           "COMPACT"
          ],
          [
           "S 600",
           "FULL-SIZE"
          ],
          [
           "SL 450",
           "TWO-SEATER"
          ],
          [
           "SL 550",
           "TWO-SEATER"
          ],
          [
           "SLC 300",
           "TWO-SEATER"
          ],
          [
           "AMG C 43 4MATIC",
           "COMPACT"
          ],
          [
           "AMG C 43 4MATIC CABRIOLET",
           "SUBCOMPACT"
          ],
          [
           "AMG C 43 4MATIC COUPE",
           "SUBCOMPACT"
          ],
          [
           "AMG C 63",
           "COMPACT"
          ],
          [
           "AMG C 63 CABRIOLET",
           "SUBCOMPACT"
          ],
          [
           "AMG C 63 COUPE",
           "SUBCOMPACT"
          ],
          [
           "AMG C 63 S",
           "COMPACT"
          ],
          [
           "AMG C 63 S CABRIOLET",
           "SUBCOMPACT"
          ],
          [
           "AMG C 63 S COUPE",
           "SUBCOMPACT"
          ],
          [
           "AMG CLA 45 4MATIC",
           "COMPACT"
          ],
          [
           "AMG E 43 4MATIC",
           "MID-SIZE"
          ],
          [
           "AMG E 63 S 4MATIC",
           "MID-SIZE"
          ],
          [
           "AMG E 63 S 4MATIC WAGON",
           "STATION WAGON - MID-SIZE"
          ],
          [
           "AMG G 63",
           "SUV - STANDARD"
          ],
          [
           "AMG G 65",
           "SUV - STANDARD"
          ],
          [
           "AMG GLA 45 4MATIC",
           "STATION WAGON - MID-SIZE"
          ],
          [
           "AMG GLC 43 4MATIC",
           "SUV - SMALL"
          ],
          [
           "AMG GLC 43 4MATIC COUPE",
           "SUV - SMALL"
          ],
          [
           "AMG GLE 43 4MATIC",
           "SUV - STANDARD"
          ],
          [
           "AMG GLE 43 4MATIC COUPE",
           "SUV - STANDARD"
          ],
          [
           "AMG GLE 63 S 4MATIC",
           "SUV - STANDARD"
          ],
          [
           "AMG GLE 63 S 4MATIC COUPE",
           "SUV - STANDARD"
          ],
          [
           "AMG GLS 63 4MATIC",
           "SUV - STANDARD"
          ],
          [
           "AMG GT COUPE",
           "TWO-SEATER"
          ],
          [
           "AMG GT ROADSTER",
           "TWO-SEATER"
          ],
          [
           "AMG GT C COUPE",
           "TWO-SEATER"
          ],
          [
           "AMG GT C ROADSTER",
           "TWO-SEATER"
          ],
          [
           "AMG GT R COUPE",
           "TWO-SEATER"
          ],
          [
           "AMG GT S COUPE",
           "TWO-SEATER"
          ],
          [
           "AMG S 63 4MATIC",
           "FULL-SIZE"
          ],
          [
           "AMG S 63 4MATIC CABRIOLET",
           "SUBCOMPACT"
          ],
          [
           "AMG S 63 4MATIC COUPE",
           "COMPACT"
          ],
          [
           "AMG S 65",
           "FULL-SIZE"
          ],
          [
           "AMG SL 63",
           "TWO-SEATER"
          ],
          [
           "AMG SL 65",
           "TWO-SEATER"
          ],
          [
           "AMG SLC 43",
           "TWO-SEATER"
          ],
          [
           "B 250",
           "MID-SIZE"
          ],
          [
           "B 250 4MATIC",
           "MID-SIZE"
          ],
          [
           "C 300 4MATIC",
           "COMPACT"
          ],
          [
           "C 300 4MATIC CABRIOLET",
           "SUBCOMPACT"
          ],
          [
           "C 300 4MATIC COUPE",
           "SUBCOMPACT"
          ],
          [
           "C 300 4MATIC WAGON",
           "STATION WAGON - MID-SIZE"
          ],
          [
           "CLA 250",
           "COMPACT"
          ],
          [
           "CLA 250 4MATIC",
           "COMPACT"
          ],
          [
           "E 300 4MATIC",
           "MID-SIZE"
          ],
          [
           "E 400 4MATIC",
           "MID-SIZE"
          ],
          [
           "E 400 4MATIC CABRIOLET",
           "SUBCOMPACT"
          ],
          [
           "E 400 4MATIC COUPE",
           "SUBCOMPACT"
          ],
          [
           "E 400 4MATIC WAGON",
           "STATION WAGON - MID-SIZE"
          ],
          [
           "G 550",
           "SUV - STANDARD"
          ],
          [
           "GLA 250 4MATIC",
           "SUV - SMALL"
          ],
          [
           "GLC 300 4MATIC",
           "SUV - SMALL"
          ],
          [
           "GLC 300 4MATIC COUPE",
           "SUV - SMALL"
          ],
          [
           "GLE 400 4MATIC",
           "SUV - STANDARD"
          ],
          [
           "GLE 550 4MATIC",
           "SUV - STANDARD"
          ],
          [
           "GLS 450 4MATIC",
           "SUV - STANDARD"
          ],
          [
           "GLS 550 4MATIC",
           "SUV - STANDARD"
          ],
          [
           "MAYBACH S 650",
           "FULL-SIZE"
          ],
          [
           "METRIS CARGO",
           "SPECIAL PURPOSE VEHICLE"
          ],
          [
           "METRIS PASSENGER",
           "SPECIAL PURPOSE VEHICLE"
          ],
          [
           "S 450 4MATIC SWB",
           "MID-SIZE"
          ],
          [
           "S 560 CABRIOLET",
           "SUBCOMPACT"
          ],
          [
           "S 560 4MATIC",
           "FULL-SIZE"
          ],
          [
           "S 560 4MATIC SWB",
           "MID-SIZE"
          ],
          [
           "S 560 4MATIC COUPE",
           "COMPACT"
          ],
          [
           "SL 450",
           "TWO-SEATER"
          ],
          [
           "SL 550",
           "TWO-SEATER"
          ],
          [
           "SLC 300",
           "TWO-SEATER"
          ],
          [
           "A 220",
           "SUBCOMPACT"
          ],
          [
           "A 220 4MATIC",
           "SUBCOMPACT"
          ],
          [
           "A 250",
           "STATION WAGON - SMALL"
          ],
          [
           "A 250 4MATIC",
           "STATION WAGON - SMALL"
          ],
          [
           "AMG C 43 4MATIC",
           "COMPACT"
          ],
          [
           "AMG C 43 4MATIC Cabriolet",
           "SUBCOMPACT"
          ],
          [
           "AMG C 43 4MATIC Coupe",
           "SUBCOMPACT"
          ],
          [
           "AMG C 43 4MATIC Wagon",
           "STATION WAGON - SMALL"
          ],
          [
           "AMG C 63",
           "COMPACT"
          ],
          [
           "AMG C 63 S",
           "COMPACT"
          ],
          [
           "AMG C 63 S Cabriolet",
           "SUBCOMPACT"
          ],
          [
           "AMG C 63 S Coupe",
           "SUBCOMPACT"
          ],
          [
           "AMG CLA 45 4MATIC",
           "MINICOMPACT"
          ],
          [
           "AMG CLS 53 4MATIC+",
           "COMPACT"
          ],
          [
           "AMG E 53 4MATIC+",
           "MID-SIZE"
          ],
          [
           "AMG E 53 4MATIC+ Cabriolet",
           "SUBCOMPACT"
          ],
          [
           "AMG E 53 4MATIC+ Coupe",
           "SUBCOMPACT"
          ],
          [
           "AMG E 53 4MATIC+ Wagon",
           "STATION WAGON - MID-SIZE"
          ],
          [
           "AMG E 63 S 4MATIC+",
           "MID-SIZE"
          ],
          [
           "AMG E 63 S 4MATIC+ Wagon",
           "STATION WAGON - MID-SIZE"
          ],
          [
           "AMG G 63",
           "SUV - STANDARD"
          ],
          [
           "AMG GLA 45 4MATIC",
           "STATION WAGON - MID-SIZE"
          ],
          [
           "AMG GLC 43 4MATIC",
           "SUV - SMALL"
          ],
          [
           "AMG GLC 43 4MATIC Coupe",
           "SUV - SMALL"
          ],
          [
           "AMG GLC 63 S 4MATIC+",
           "SUV - SMALL"
          ],
          [
           "AMG GLC 63 S 4MATIC+ Coupe",
           "SUV - SMALL"
          ],
          [
           "AMG GLE 43 4MATIC",
           "SUV - STANDARD"
          ],
          [
           "AMG GLE 43 4MATIC Coupe",
           "SUV - STANDARD"
          ],
          [
           "AMG GLE 63 S 4MATIC",
           "SUV - STANDARD"
          ],
          [
           "AMG GLE 63 S 4MATIC Coupe",
           "SUV - STANDARD"
          ],
          [
           "AMG GLS 63 4MATIC",
           "SUV - STANDARD"
          ],
          [
           "AMG GT 53 4MATIC+ Coupe",
           "COMPACT"
          ],
          [
           "AMG GT 63 4MATIC+ Coupe",
           "COMPACT"
          ],
          [
           "AMG GT 63 S 4MATIC+ Coupe",
           "COMPACT"
          ],
          [
           "AMG GT C Coupe",
           "TWO-SEATER"
          ],
          [
           "AMG GT C Roadster",
           "TWO-SEATER"
          ],
          [
           "AMG GT R Coupe",
           "TWO-SEATER"
          ],
          [
           "AMG S 63 4MATIC+",
           "FULL-SIZE"
          ],
          [
           "AMG S 63 4MATIC+ Cabriolet",
           "SUBCOMPACT"
          ],
          [
           "AMG S 63 4MATIC+ Coupe",
           "COMPACT"
          ],
          [
           "AMG S 65",
           "FULL-SIZE"
          ],
          [
           "AMG S 65 Cabriolet",
           "SUBCOMPACT"
          ],
          [
           "AMG S 65 Coupe",
           "COMPACT"
          ],
          [
           "AMG SL 63",
           "TWO-SEATER"
          ],
          [
           "AMG SLC 43",
           "TWO-SEATER"
          ],
          [
           "B 250",
           "STATION WAGON - SMALL"
          ],
          [
           "B 250 4MATIC",
           "STATION WAGON - SMALL"
          ],
          [
           "C 300 4MATIC",
           "COMPACT"
          ],
          [
           "C 300 4MATIC Cabriolet",
           "SUBCOMPACT"
          ],
          [
           "C 300 4MATIC Coupe",
           "SUBCOMPACT"
          ],
          [
           "C 300 4MATIC Wagon",
           "STATION WAGON - SMALL"
          ],
          [
           "CLA 250",
           "MINICOMPACT"
          ],
          [
           "CLA 250 4MATIC",
           "MINICOMPACT"
          ],
          [
           "CLS 450 4MATIC",
           "COMPACT"
          ],
          [
           "E 300 4MATIC",
           "MID-SIZE"
          ],
          [
           "E 450 4MATIC",
           "MID-SIZE"
          ],
          [
           "E 450 4MATIC Cabriolet",
           "SUBCOMPACT"
          ],
          [
           "E 450 4MATIC Coupe",
           "SUBCOMPACT"
          ],
          [
           "E 450 4MATIC Wagon",
           "STATION WAGON - MID-SIZE"
          ],
          [
           "G 550",
           "SUV - STANDARD"
          ],
          [
           "GLA 250 4MATIC",
           "SUV - SMALL"
          ],
          [
           "GLC 300 4MATIC",
           "SUV - SMALL"
          ],
          [
           "GLC 300 4MATIC Coupe",
           "SUV - SMALL"
          ],
          [
           "GLE 400 4MATIC",
           "SUV - STANDARD"
          ],
          [
           "GLS 450 4MATIC",
           "SUV - STANDARD"
          ],
          [
           "GLS 550 4MATIC",
           "SUV - STANDARD"
          ],
          [
           "Maybach S 560 4MATIC",
           "FULL-SIZE"
          ],
          [
           "Maybach S 650",
           "FULL-SIZE"
          ],
          [
           "Metris Cargo",
           "SPECIAL PURPOSE VEHICLE"
          ],
          [
           "Metris Cargo LWB",
           "SPECIAL PURPOSE VEHICLE"
          ],
          [
           "Metris Passenger",
           "SPECIAL PURPOSE VEHICLE"
          ],
          [
           "S 450 4MATIC SWB",
           "MID-SIZE"
          ],
          [
           "S 560 Cabriolet",
           "SUBCOMPACT"
          ],
          [
           "S 560 4MATIC",
           "FULL-SIZE"
          ],
          [
           "S 560 4MATIC SWB",
           "MID-SIZE"
          ],
          [
           "SL 450",
           "TWO-SEATER"
          ],
          [
           "SL 550",
           "TWO-SEATER"
          ],
          [
           "SLC 300",
           "TWO-SEATER"
          ],
          [
           "AMG C 43 4MATIC",
           "COMPACT"
          ],
          [
           "AMG C 43 4MATIC Cabriolet",
           "SUBCOMPACT"
          ],
          [
           "AMG C 43 4MATIC Coupe",
           "SUBCOMPACT"
          ],
          [
           "AMG C 43 4MATIC Wagon",
           "STATION WAGON - SMALL"
          ],
          [
           "AMG C 63",
           "COMPACT"
          ],
          [
           "AMG C 63 S",
           "COMPACT"
          ],
          [
           "AMG C 63 S Cabriolet",
           "SUBCOMPACT"
          ],
          [
           "AMG C 63 S Coupe",
           "SUBCOMPACT"
          ],
          [
           "AMG CLS 53 4MATIC+",
           "COMPACT"
          ],
          [
           "AMG E 53 4MATIC+",
           "MID-SIZE"
          ],
          [
           "AMG E 53 4MATIC+ Cabriolet",
           "SUBCOMPACT"
          ],
          [
           "AMG E 53 4MATIC+ Coupe",
           "SUBCOMPACT"
          ],
          [
           "AMG E 63 S 4MATIC+",
           "MID-SIZE"
          ],
          [
           "AMG E 63 S 4MATIC+ Wagon",
           "STATION WAGON - MID-SIZE"
          ],
          [
           "AMG G 63",
           "SUV - STANDARD"
          ],
          [
           "AMG GLC 63 S 4MATIC+",
           "SUV - SMALL"
          ],
          [
           "AMG GLC 63 S 4MATIC+ Coupe",
           "SUV - SMALL"
          ],
          [
           "AMG GT R Coupe",
           "TWO-SEATER"
          ],
          [
           "AMG S 63 4MATIC+",
           "FULL-SIZE"
          ],
          [
           "AMG S 63 4MATIC+ Cabriolet",
           "SUBCOMPACT"
          ],
          [
           "AMG S 63 4MATIC+ Coupe",
           "COMPACT"
          ],
          [
           "AMG S 65",
           "FULL-SIZE"
          ],
          [
           "C 300 4MATIC",
           "COMPACT"
          ],
          [
           "C 300 4MATIC Cabriolet",
           "SUBCOMPACT"
          ],
          [
           "C 300 4MATIC Coupe",
           "SUBCOMPACT"
          ],
          [
           "C 300 4MATIC Wagon",
           "STATION WAGON - SMALL"
          ],
          [
           "CLS 450 4MATIC",
           "COMPACT"
          ],
          [
           "E 450 4MATIC Cabriolet",
           "SUBCOMPACT"
          ],
          [
           "E 450 4MATIC Coupe",
           "SUBCOMPACT"
          ],
          [
           "G 550",
           "SUV - STANDARD"
          ],
          [
           "Maybach S 560 4MATIC",
           "FULL-SIZE"
          ],
          [
           "Maybach S 650",
           "FULL-SIZE"
          ],
          [
           "S 450 4MATIC SWB",
           "MID-SIZE"
          ],
          [
           "S 560 4MATIC",
           "FULL-SIZE"
          ],
          [
           "S 560 4MATIC SWB",
           "MID-SIZE"
          ],
          [
           "SL 550",
           "TWO-SEATER"
          ],
          [
           "SLC 300",
           "TWO-SEATER"
          ]
         ],
         "hovertemplate": "Make=MERCEDES-BENZ<br>Engine Size(L)=%{x}<br>CO2 Emissions(g/km)=%{y}<br>Fuel Consumption Comb (mpg)=%{marker.size}<br>Model=%{customdata[0]}<br>Vehicle Class=%{customdata[1]}<extra></extra>",
         "legendgroup": "MERCEDES-BENZ",
         "marker": {
          "color": "#FF6692",
          "size": {
           "bdata": "Ix4eGxQbGxsbExIVFSQfGRYWJxwcGxsbHCAYGBkWFRYVEBAYExISIRkXEhsUEhcYFRgWFCAfHRoREhIjIB4fGxsdEiMgHxsXFiYcGxocHBkYGRUVEA8YFBIRIB4hGRsYFBIaFxcXExUVEhMYFxQfHx0bEhIYGB8WFRUPDREeEhMWFRYSExcUGyMgHxsjIRgaGCYcGxwaHBkYGRAYFBIgHx4YGBQSHBoaFxcXExchHRgXFxgXFx4WDw4cExgYEhMRFhYVFBYTFBIXExwiHx4eIxgeGxocHBgZEB8YHBgVFhMTHBsaGBgYGBMcGCEbGhsYFxcYFxcfGRUVEA4dGBgXFxITEhYWFBQUFhgWGBMXExwiHx8dHh4iIB0bGhsZEB8cHBcVFhMTGhkaGBkZGRwYISIhIiEaGRkaGRkYGB8aHRobHBUWER0ZGRUVFxYSExIZFRUVFRQYFhgTFBMWHCIfHh0eHiIgHR0bGBoaER8cHBcVExcTGhsZGhgZGRsYIBoZGRoZGRgYGh0aGxUWERUVFBgWGBMeHR4eHRgaERcTGhkZGCA=",
           "dtype": "i1"
          },
          "sizemode": "area",
          "sizeref": 0.28444444444444444,
          "symbol": "circle"
         },
         "mode": "markers",
         "name": "MERCEDES-BENZ",
         "showlegend": true,
         "type": "scattergl",
         "x": {
          "bdata": "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",
          "dtype": "f8"
         },
         "xaxis": "x",
         "y": {
          "bdata": "uADYANgA8gDgAPIA7wD0APIAWwFgATABNAGzANQACAEtAS0BwgDrAOYA7wDyAO8A6wDKAAsBDQEGASkBNgEpATYBowGXAUQBXgFnAWsB5gAEARYBAAEWAUcBZAEWARQBMAENASQBRwHNAM8A4QD2AHwBaQFpAbgAzQDYAM8A9ADyAOQAYgG6AMoA0QDyACABLQHIAOsA7wD4AOYA6wAGAQ0BBgEyATIBowGqAUQBQgFnAXcByADYAOYAAgEWARQBRwFnAfgAGwEgARkBVwEwATABZQFZARIBHQFHAc8AzwDhAPQAZwFnAQwBDAHWADQBNgE2AaEB3AFxAdgAbgFrAS8BOQE5AWkBYwEqAU8B/AC8AM4A1ADnALwAxgDGAPwAFQHIAPAA9ADvAP0A6QAOARMBDAGRAUIBKgFtAcsA9gD9ABoBGQFPAWcB6QD4AP0AJgEfASEBVAEhAccA5QARASMBHQERASMBHQHdADQBnQHTAekAYQEZARkBawFrAXEBLwEvATkBQgExAV0BXAFtASoBVAHqALMA1ADeANoAvgATAfYA9QADAekA7wATAQwBkQHUAIAA6QAUAT4BMgFbAWcB8AD4AP0AGAEYARQBFgFeAe0AEwHIAPQAAAH1ABIBIwEdARIBIwEdAdkAAgE5ATgBowHZAeEAFQEQARoBHQFsAWUBbwEuATABQgFCAUQBLgETATIBDwFkASMBUwHsAMQA1wDWAOAA2gDeAMEAzADjAPYA+wD4AAUBmgHRAPAA6wAaAT0BMQFaAWMB+wAMAf8AFAEJAQUBDQHuABMBygDDAMcAwADJAP0ABwH/AP8ABwEHARoBFQHZAOsA6AD1AO0A7wA+ASsBjAHhAAYBCQE1ATUBJAEpAXIBZQFyAQgBQwFEATsBOwFHARMBMgEPAWQBUQFXAS8B7gDEANcA2wDnAN0A3QDBAMwA1QDkAPQADwEBAf4AegHRAOoA6gAaATgBYwEeAWMB+wD4AAwB/QATAQkBCQHxAA4BzQD9AAcB/wD/AAcBBwEaARUB6wDoAPUA7QA+ASsBjAE1ATUBRwETATIBDwFkAdsA5wDdAN0A1QAPAQEBegEeAWMB/QAJAQkBDgHNAA==",
          "dtype": "i2"
         },
         "yaxis": "y"
        },
        {
         "customdata": [
          [
           "370Z",
           "TWO-SEATER"
          ],
          [
           "370Z",
           "TWO-SEATER"
          ],
          [
           "370Z ROADSTER",
           "TWO-SEATER"
          ],
          [
           "370Z ROADSTER",
           "TWO-SEATER"
          ],
          [
           "ALTIMA",
           "MID-SIZE"
          ],
          [
           "ALTIMA",
           "MID-SIZE"
          ],
          [
           "ARMADA 4WD",
           "SUV - STANDARD"
          ],
          [
           "FRONTIER",
           "PICKUP TRUCK - SMALL"
          ],
          [
           "FRONTIER",
           "PICKUP TRUCK - SMALL"
          ],
          [
           "FRONTIER",
           "PICKUP TRUCK - SMALL"
          ],
          [
           "FRONTIER 4WD",
           "PICKUP TRUCK - SMALL"
          ],
          [
           "FRONTIER 4WD",
           "PICKUP TRUCK - SMALL"
          ],
          [
           "GT-R",
           "SUBCOMPACT"
          ],
          [
           "JUKE",
           "STATION WAGON - SMALL"
          ],
          [
           "JUKE",
           "STATION WAGON - SMALL"
          ],
          [
           "JUKE AWD",
           "STATION WAGON - SMALL"
          ],
          [
           "MAXIMA",
           "MID-SIZE"
          ],
          [
           "MURANO AWD",
           "SUV - SMALL"
          ],
          [
           "NV200 CARGO VAN",
           "SPECIAL PURPOSE VEHICLE"
          ],
          [
           "PATHFINDER",
           "SUV - SMALL"
          ],
          [
           "PATHFINDER 4WD",
           "SUV - SMALL"
          ],
          [
           "PATHFINDER HYBRID 4WD",
           "SUV - STANDARD"
          ],
          [
           "QUEST",
           "MINIVAN"
          ],
          [
           "ROGUE",
           "SUV - SMALL"
          ],
          [
           "ROGUE AWD",
           "SUV - SMALL"
          ],
          [
           "SENTRA",
           "MID-SIZE"
          ],
          [
           "SENTRA",
           "MID-SIZE"
          ],
          [
           "TITAN",
           "PICKUP TRUCK - STANDARD"
          ],
          [
           "TITAN 4WD",
           "PICKUP TRUCK - STANDARD"
          ],
          [
           "VERSA",
           "COMPACT"
          ],
          [
           "VERSA",
           "COMPACT"
          ],
          [
           "XTERRA 4WD",
           "SUV - SMALL"
          ],
          [
           "XTERRA 4WD",
           "SUV - SMALL"
          ],
          [
           "370Z COUPE",
           "TWO-SEATER"
          ],
          [
           "370Z COUPE",
           "TWO-SEATER"
          ],
          [
           "370Z ROADSTER",
           "TWO-SEATER"
          ],
          [
           "370Z ROADSTER",
           "TWO-SEATER"
          ],
          [
           "ALTIMA",
           "MID-SIZE"
          ],
          [
           "ALTIMA",
           "MID-SIZE"
          ],
          [
           "ARMADA 4WD",
           "SUV - STANDARD"
          ],
          [
           "FRONTIER",
           "PICKUP TRUCK - SMALL"
          ],
          [
           "FRONTIER",
           "PICKUP TRUCK - SMALL"
          ],
          [
           "FRONTIER",
           "PICKUP TRUCK - SMALL"
          ],
          [
           "FRONTIER 4WD",
           "PICKUP TRUCK - SMALL"
          ],
          [
           "FRONTIER 4WD",
           "PICKUP TRUCK - SMALL"
          ],
          [
           "GT-R",
           "SUBCOMPACT"
          ],
          [
           "JUKE",
           "STATION WAGON - SMALL"
          ],
          [
           "JUKE",
           "STATION WAGON - SMALL"
          ],
          [
           "JUKE AWD",
           "STATION WAGON - SMALL"
          ],
          [
           "JUKE NISMO RS",
           "STATION WAGON - SMALL"
          ],
          [
           "JUKE NISMO RS AWD",
           "STATION WAGON - SMALL"
          ],
          [
           "MICRA",
           "COMPACT"
          ],
          [
           "MICRA",
           "COMPACT"
          ],
          [
           "MURANO",
           "STATION WAGON - MID-SIZE"
          ],
          [
           "MURANO AWD",
           "STATION WAGON - MID-SIZE"
          ],
          [
           "NV200 CARGO VAN",
           "SPECIAL PURPOSE VEHICLE"
          ],
          [
           "PATHFINDER",
           "SUV - SMALL"
          ],
          [
           "PATHFINDER 4WD",
           "SUV - SMALL"
          ],
          [
           "PATHFINDER 4WD PLATINUM",
           "SUV - SMALL"
          ],
          [
           "PATHFINDER HYBRID 4WD",
           "SUV - STANDARD"
          ],
          [
           "QUEST",
           "MINIVAN"
          ],
          [
           "ROGUE",
           "SUV - SMALL"
          ],
          [
           "ROGUE AWD",
           "SUV - SMALL"
          ],
          [
           "TITAN",
           "PICKUP TRUCK - STANDARD"
          ],
          [
           "TITAN 4WD",
           "PICKUP TRUCK - STANDARD"
          ],
          [
           "SENTRA",
           "MID-SIZE"
          ],
          [
           "SENTRA",
           "MID-SIZE"
          ],
          [
           "VERSA",
           "COMPACT"
          ],
          [
           "VERSA",
           "COMPACT"
          ],
          [
           "XTERRA 4WD",
           "SUV - SMALL"
          ],
          [
           "XTERRA 4WD",
           "SUV - SMALL"
          ],
          [
           "370Z",
           "TWO-SEATER"
          ],
          [
           "370Z",
           "TWO-SEATER"
          ],
          [
           "370Z ROADSTER",
           "TWO-SEATER"
          ],
          [
           "370Z ROADSTER",
           "TWO-SEATER"
          ],
          [
           "ALTIMA",
           "MID-SIZE"
          ],
          [
           "ALTIMA 3.5",
           "MID-SIZE"
          ],
          [
           "ALTIMA SR",
           "MID-SIZE"
          ],
          [
           "FRONTIER",
           "PICKUP TRUCK - SMALL"
          ],
          [
           "FRONTIER",
           "PICKUP TRUCK - SMALL"
          ],
          [
           "FRONTIER",
           "PICKUP TRUCK - SMALL"
          ],
          [
           "FRONTIER 4WD",
           "PICKUP TRUCK - SMALL"
          ],
          [
           "FRONTIER 4WD",
           "PICKUP TRUCK - SMALL"
          ],
          [
           "GT-R",
           "SUBCOMPACT"
          ],
          [
           "JUKE",
           "STATION WAGON - SMALL"
          ],
          [
           "JUKE",
           "STATION WAGON - SMALL"
          ],
          [
           "JUKE AWD",
           "STATION WAGON - SMALL"
          ],
          [
           "JUKE NISMO RS",
           "STATION WAGON - SMALL"
          ],
          [
           "JUKE NISMO RS AWD",
           "STATION WAGON - SMALL"
          ],
          [
           "MAXIMA",
           "MID-SIZE"
          ],
          [
           "MICRA",
           "COMPACT"
          ],
          [
           "MICRA",
           "COMPACT"
          ],
          [
           "MURANO",
           "STATION WAGON - MID-SIZE"
          ],
          [
           "MURANO AWD",
           "STATION WAGON - MID-SIZE"
          ],
          [
           "NV200 CARGO VAN",
           "SPECIAL PURPOSE VEHICLE"
          ],
          [
           "PATHFINDER",
           "SUV - SMALL"
          ],
          [
           "PATHFINDER 4WD",
           "SUV - SMALL"
          ],
          [
           "PATHFINDER 4WD PLATINUM",
           "SUV - SMALL"
          ],
          [
           "ROGUE",
           "SUV - SMALL"
          ],
          [
           "ROGUE AWD",
           "SUV - SMALL"
          ],
          [
           "SENTRA",
           "MID-SIZE"
          ],
          [
           "SENTRA",
           "MID-SIZE"
          ],
          [
           "VERSA",
           "MID-SIZE"
          ],
          [
           "VERSA",
           "MID-SIZE"
          ],
          [
           "370Z",
           "TWO-SEATER"
          ],
          [
           "370Z",
           "TWO-SEATER"
          ],
          [
           "370Z ROADSTER",
           "TWO-SEATER"
          ],
          [
           "370Z ROADSTER",
           "TWO-SEATER"
          ],
          [
           "ALTIMA",
           "MID-SIZE"
          ],
          [
           "ALTIMA",
           "MID-SIZE"
          ],
          [
           "ALTIMA SR",
           "MID-SIZE"
          ],
          [
           "ARMADA 4WD",
           "SUV - STANDARD"
          ],
          [
           "FRONTIER",
           "PICKUP TRUCK - SMALL"
          ],
          [
           "FRONTIER",
           "PICKUP TRUCK - SMALL"
          ],
          [
           "FRONTIER",
           "PICKUP TRUCK - SMALL"
          ],
          [
           "FRONTIER 4WD",
           "PICKUP TRUCK - SMALL"
          ],
          [
           "FRONTIER 4WD",
           "PICKUP TRUCK - SMALL"
          ],
          [
           "GT-R",
           "SUBCOMPACT"
          ],
          [
           "JUKE",
           "STATION WAGON - SMALL"
          ],
          [
           "JUKE",
           "STATION WAGON - SMALL"
          ],
          [
           "JUKE AWD",
           "STATION WAGON - SMALL"
          ],
          [
           "JUKE NISMO RS",
           "STATION WAGON - SMALL"
          ],
          [
           "JUKE NISMO RS AWD",
           "STATION WAGON - SMALL"
          ],
          [
           "MAXIMA",
           "MID-SIZE"
          ],
          [
           "MICRA",
           "COMPACT"
          ],
          [
           "MICRA",
           "COMPACT"
          ],
          [
           "MURANO",
           "STATION WAGON - MID-SIZE"
          ],
          [
           "MURANO AWD",
           "STATION WAGON - MID-SIZE"
          ],
          [
           "NV200 CARGO VAN",
           "SPECIAL PURPOSE VEHICLE"
          ],
          [
           "PATHFINDER",
           "SUV - SMALL"
          ],
          [
           "PATHFINDER 4WD",
           "SUV - SMALL"
          ],
          [
           "PATHFINDER 4WD PLATINUM",
           "SUV - SMALL"
          ],
          [
           "QASHQAI",
           "STATION WAGON - SMALL"
          ],
          [
           "QASHQAI",
           "STATION WAGON - SMALL"
          ],
          [
           "QASHQAI AWD",
           "STATION WAGON - SMALL"
          ],
          [
           "ROGUE",
           "SUV - SMALL"
          ],
          [
           "ROGUE AWD",
           "SUV - SMALL"
          ],
          [
           "SENTRA (Turbo)",
           "MID-SIZE"
          ],
          [
           "SENTRA (Turbo)",
           "MID-SIZE"
          ],
          [
           "SENTRA",
           "MID-SIZE"
          ],
          [
           "SENTRA",
           "MID-SIZE"
          ],
          [
           "SENTRA NISMO",
           "MID-SIZE"
          ],
          [
           "SENTRA NISMO",
           "MID-SIZE"
          ],
          [
           "TITAN",
           "PICKUP TRUCK - STANDARD"
          ],
          [
           "TITAN 4WD",
           "PICKUP TRUCK - STANDARD"
          ],
          [
           "TITAN 4WD PRO-4X",
           "PICKUP TRUCK - STANDARD"
          ],
          [
           "VERSA",
           "MID-SIZE"
          ],
          [
           "VERSA",
           "MID-SIZE"
          ],
          [
           "370Z",
           "TWO-SEATER"
          ],
          [
           "370Z",
           "TWO-SEATER"
          ],
          [
           "370Z ROADSTER",
           "TWO-SEATER"
          ],
          [
           "370Z ROADSTER",
           "TWO-SEATER"
          ],
          [
           "ALTIMA",
           "MID-SIZE"
          ],
          [
           "ALTIMA SR",
           "MID-SIZE"
          ],
          [
           "ALTIMA",
           "MID-SIZE"
          ],
          [
           "ARMADA 4WD",
           "SUV - STANDARD"
          ],
          [
           "FRONTIER",
           "PICKUP TRUCK - SMALL"
          ],
          [
           "FRONTIER",
           "PICKUP TRUCK - SMALL"
          ],
          [
           "FRONTIER",
           "PICKUP TRUCK - SMALL"
          ],
          [
           "FRONTIER 4WD",
           "PICKUP TRUCK - SMALL"
          ],
          [
           "FRONTIER 4WD",
           "PICKUP TRUCK - SMALL"
          ],
          [
           "GT-R",
           "SUBCOMPACT"
          ],
          [
           "KICKS",
           "MID-SIZE"
          ],
          [
           "MAXIMA",
           "MID-SIZE"
          ],
          [
           "MICRA",
           "COMPACT"
          ],
          [
           "MICRA",
           "COMPACT"
          ],
          [
           "MURANO",
           "STATION WAGON - MID-SIZE"
          ],
          [
           "MURANO AWD",
           "STATION WAGON - MID-SIZE"
          ],
          [
           "NV200 CARGO VAN",
           "SPECIAL PURPOSE VEHICLE"
          ],
          [
           "PATHFINDER",
           "SUV - SMALL"
          ],
          [
           "PATHFINDER 4WD",
           "SUV - SMALL"
          ],
          [
           "PATHFINDER 4WD PLATINUM",
           "SUV - SMALL"
          ],
          [
           "QASHQAI",
           "STATION WAGON - SMALL"
          ],
          [
           "QASHQAI",
           "STATION WAGON - SMALL"
          ],
          [
           "QASHQAI AWD",
           "STATION WAGON - SMALL"
          ],
          [
           "ROGUE",
           "SUV - SMALL"
          ],
          [
           "ROGUE AWD",
           "SUV - SMALL"
          ],
          [
           "SENTRA",
           "MID-SIZE"
          ],
          [
           "SENTRA",
           "MID-SIZE"
          ],
          [
           "SENTRA (Turbo)",
           "MID-SIZE"
          ],
          [
           "SENTRA (Turbo)",
           "MID-SIZE"
          ],
          [
           "SENTRA NISMO",
           "MID-SIZE"
          ],
          [
           "SENTRA NISMO",
           "MID-SIZE"
          ],
          [
           "TITAN",
           "PICKUP TRUCK - STANDARD"
          ],
          [
           "TITAN 4WD",
           "PICKUP TRUCK - STANDARD"
          ],
          [
           "TITAN 4WD PRO-4X",
           "PICKUP TRUCK - STANDARD"
          ],
          [
           "VERSA",
           "MID-SIZE"
          ],
          [
           "VERSA",
           "MID-SIZE"
          ],
          [
           "370Z",
           "TWO-SEATER"
          ],
          [
           "370Z",
           "TWO-SEATER"
          ],
          [
           "370Z Roadster",
           "TWO-SEATER"
          ],
          [
           "370Z Roadster",
           "TWO-SEATER"
          ],
          [
           "Altima",
           "MID-SIZE"
          ],
          [
           "Altima SR/Platinum",
           "MID-SIZE"
          ],
          [
           "Altima SR/Platinum",
           "MID-SIZE"
          ],
          [
           "Altima AWD",
           "MID-SIZE"
          ],
          [
           "Altima AWD SR/Platinum",
           "MID-SIZE"
          ],
          [
           "Armada 4WD",
           "SUV - STANDARD"
          ],
          [
           "Frontier",
           "PICKUP TRUCK - SMALL"
          ],
          [
           "Frontier",
           "PICKUP TRUCK - SMALL"
          ],
          [
           "Frontier 4WD",
           "PICKUP TRUCK - SMALL"
          ],
          [
           "Frontier 4WD",
           "PICKUP TRUCK - SMALL"
          ],
          [
           "GT-R",
           "SUBCOMPACT"
          ],
          [
           "Kicks",
           "MID-SIZE"
          ],
          [
           "Maxima",
           "MID-SIZE"
          ],
          [
           "Micra",
           "COMPACT"
          ],
          [
           "Micra",
           "COMPACT"
          ],
          [
           "Murano",
           "STATION WAGON - MID-SIZE"
          ],
          [
           "Murano AWD",
           "STATION WAGON - MID-SIZE"
          ],
          [
           "NV200 Cargo Van",
           "SPECIAL PURPOSE VEHICLE"
          ],
          [
           "Pathfinder",
           "SUV - SMALL"
          ],
          [
           "Pathfinder 4WD",
           "SUV - SMALL"
          ],
          [
           "Pathfinder 4WD Platinum",
           "SUV - SMALL"
          ],
          [
           "Qashqai",
           "STATION WAGON - SMALL"
          ],
          [
           "Qashqai",
           "STATION WAGON - SMALL"
          ],
          [
           "Qashqai AWD",
           "STATION WAGON - SMALL"
          ],
          [
           "Rogue",
           "SUV - SMALL"
          ],
          [
           "Rogue AWD",
           "SUV - SMALL"
          ],
          [
           "Sentra",
           "MID-SIZE"
          ],
          [
           "Sentra",
           "MID-SIZE"
          ],
          [
           "Sentra (Turbo)",
           "MID-SIZE"
          ],
          [
           "Sentra (Turbo)",
           "MID-SIZE"
          ],
          [
           "Sentra Nismo",
           "MID-SIZE"
          ],
          [
           "Sentra Nismo",
           "MID-SIZE"
          ],
          [
           "Titan",
           "PICKUP TRUCK - STANDARD"
          ],
          [
           "Titan 4WD",
           "PICKUP TRUCK - STANDARD"
          ],
          [
           "Titan 4WD Pro-4X",
           "PICKUP TRUCK - STANDARD"
          ],
          [
           "Versa",
           "MID-SIZE"
          ],
          [
           "Versa",
           "MID-SIZE"
          ],
          [
           "370Z",
           "TWO-SEATER"
          ],
          [
           "370Z",
           "TWO-SEATER"
          ],
          [
           "370Z Roadster",
           "TWO-SEATER"
          ],
          [
           "370Z Roadster",
           "TWO-SEATER"
          ],
          [
           "Altima AWD",
           "MID-SIZE"
          ],
          [
           "Altima AWD SR/Platinum",
           "MID-SIZE"
          ],
          [
           "Armada 4WD",
           "SUV - STANDARD"
          ],
          [
           "Frontier",
           "PICKUP TRUCK - STANDARD"
          ],
          [
           "Frontier 4WD",
           "PICKUP TRUCK - STANDARD"
          ],
          [
           "GT-R",
           "SUBCOMPACT"
          ],
          [
           "Kicks",
           "MID-SIZE"
          ],
          [
           "Maxima",
           "MID-SIZE"
          ],
          [
           "Murano",
           "STATION WAGON - MID-SIZE"
          ],
          [
           "Murano AWD",
           "STATION WAGON - MID-SIZE"
          ],
          [
           "NV200 Cargo Van",
           "SPECIAL PURPOSE VEHICLE"
          ],
          [
           "Qashqai",
           "STATION WAGON - SMALL"
          ],
          [
           "Qashqai",
           "STATION WAGON - SMALL"
          ],
          [
           "Qashqai AWD",
           "STATION WAGON - SMALL"
          ],
          [
           "Pathfinder",
           "SUV - SMALL"
          ],
          [
           "Pathfinder 4WD",
           "SUV - SMALL"
          ],
          [
           "Pathfinder 4WD Platinum",
           "SUV - SMALL"
          ],
          [
           "Rogue",
           "SUV - SMALL"
          ],
          [
           "Rogue AWD",
           "SUV - SMALL"
          ],
          [
           "Sentra",
           "MID-SIZE"
          ],
          [
           "Sentra SR",
           "MID-SIZE"
          ],
          [
           "Sentra",
           "MID-SIZE"
          ],
          [
           "Titan 4WD",
           "PICKUP TRUCK - STANDARD"
          ],
          [
           "Titan 4WD Pro-4X",
           "PICKUP TRUCK - STANDARD"
          ],
          [
           "Versa",
           "COMPACT"
          ],
          [
           "Versa",
           "COMPACT"
          ]
         ],
         "hovertemplate": "Make=NISSAN<br>Engine Size(L)=%{x}<br>CO2 Emissions(g/km)=%{y}<br>Fuel Consumption Comb (mpg)=%{marker.size}<br>Model=%{customdata[0]}<br>Vehicle Class=%{customdata[1]}<extra></extra>",
         "legendgroup": "NISSAN",
         "marker": {
          "color": "#B6E880",
          "size": {
           "bdata": "GhkZGCUeERcZFhUWFiMhIBoYHhsaIBkiISgkEhArJRQVGRkZGCUfERcZFhUVFiQlIiIgJCUdHR4bGhogGyIhEhAnJColFBQZGRkYJh8lFxkWFRUWJCQiIiAeJCUdHR4bGhoiISckKiUZGRkYJh8kEhcZFhQVFiMjIiIgHSQkHR0eHBoaIx8iIiEiIicjICAVFRQoJRkZGRglJB8SFxkWFBUWJx0jJB0dHhwaGiMfIiIgJyMiIiAgFRUUKCUZGRkYJiMmJCMSFxYUFRYnHSMkHBseHBoaIx8iIiAnJCIiICAVFRQoJRkZGRgkIxIYFxYnHRwbHiIfIhwaGiIgKCcjFRUqJQ==",
           "dtype": "i1"
          },
          "sizemode": "area",
          "sizeref": 0.28444444444444444,
          "symbol": "circle"
         },
         "mode": "markers",
         "name": "NISSAN",
         "showlegend": true,
         "type": "scattergl",
         "x": {
          "bdata": "mpmZmZmZDUCamZmZmZkNQJqZmZmZmQ1AmpmZmZmZDUAAAAAAAAAEQAAAAAAAAAxAZmZmZmZmFkAAAAAAAAAEQAAAAAAAAARAAAAAAAAAEEAAAAAAAAAQQAAAAAAAABBAZmZmZmZmDkCamZmZmZn5P5qZmZmZmfk/mpmZmZmZ+T8AAAAAAAAMQAAAAAAAAAxAAAAAAAAAAEAAAAAAAAAMQAAAAAAAAAxAAAAAAAAABEAAAAAAAAAMQAAAAAAAAARAAAAAAAAABEDNzMzMzMz8P83MzMzMzPw/ZmZmZmZmFkBmZmZmZmYWQJqZmZmZmfk/mpmZmZmZ+T8AAAAAAAAQQAAAAAAAABBAmpmZmZmZDUCamZmZmZkNQJqZmZmZmQ1AmpmZmZmZDUAAAAAAAAAEQAAAAAAAAAxAZmZmZmZmFkAAAAAAAAAEQAAAAAAAAARAAAAAAAAAEEAAAAAAAAAQQAAAAAAAABBAZmZmZmZmDkCamZmZmZn5P5qZmZmZmfk/mpmZmZmZ+T+amZmZmZn5P5qZmZmZmfk/mpmZmZmZ+T+amZmZmZn5PwAAAAAAAAxAAAAAAAAADEAAAAAAAAAAQAAAAAAAAAxAAAAAAAAADEAAAAAAAAAMQAAAAAAAAARAAAAAAAAADEAAAAAAAAAEQAAAAAAAAARAZmZmZmZmFkBmZmZmZmYWQM3MzMzMzPw/zczMzMzM/D+amZmZmZn5P5qZmZmZmfk/AAAAAAAAEEAAAAAAAAAQQJqZmZmZmQ1AmpmZmZmZDUCamZmZmZkNQJqZmZmZmQ1AAAAAAAAABEAAAAAAAAAMQAAAAAAAAARAAAAAAAAABEAAAAAAAAAEQAAAAAAAABBAAAAAAAAAEEAAAAAAAAAQQGZmZmZmZg5AmpmZmZmZ+T+amZmZmZn5P5qZmZmZmfk/mpmZmZmZ+T+amZmZmZn5PwAAAAAAAAxAmpmZmZmZ+T+amZmZmZn5PwAAAAAAAAxAAAAAAAAADEAAAAAAAAAAQAAAAAAAAAxAAAAAAAAADEAAAAAAAAAMQAAAAAAAAARAAAAAAAAABEDNzMzMzMz8P83MzMzMzPw/mpmZmZmZ+T+amZmZmZn5P5qZmZmZmQ1AmpmZmZmZDUCamZmZmZkNQJqZmZmZmQ1AAAAAAAAABEAAAAAAAAAMQAAAAAAAAARAZmZmZmZmFkAAAAAAAAAEQAAAAAAAAARAAAAAAAAAEEAAAAAAAAAQQAAAAAAAABBAZmZmZmZmDkCamZmZmZn5P5qZmZmZmfk/mpmZmZmZ+T+amZmZmZn5P5qZmZmZmfk/AAAAAAAADECamZmZmZn5P5qZmZmZmfk/AAAAAAAADEAAAAAAAAAMQAAAAAAAAABAAAAAAAAADEAAAAAAAAAMQAAAAAAAAAxAAAAAAAAAAEAAAAAAAAAAQAAAAAAAAABAAAAAAAAABEAAAAAAAAAEQJqZmZmZmfk/mpmZmZmZ+T/NzMzMzMz8P83MzMzMzPw/mpmZmZmZ+T+amZmZmZn5P2ZmZmZmZhZAZmZmZmZmFkBmZmZmZmYWQJqZmZmZmfk/mpmZmZmZ+T+amZmZmZkNQJqZmZmZmQ1AmpmZmZmZDUCamZmZmZkNQAAAAAAAAARAAAAAAAAABEAAAAAAAAAMQGZmZmZmZhZAAAAAAAAABEAAAAAAAAAEQAAAAAAAABBAAAAAAAAAEEAAAAAAAAAQQGZmZmZmZg5AmpmZmZmZ+T8AAAAAAAAMQJqZmZmZmfk/mpmZmZmZ+T8AAAAAAAAMQAAAAAAAAAxAAAAAAAAAAEAAAAAAAAAMQAAAAAAAAAxAAAAAAAAADEAAAAAAAAAAQAAAAAAAAABAAAAAAAAAAEAAAAAAAAAEQAAAAAAAAARAzczMzMzM/D/NzMzMzMz8P5qZmZmZmfk/mpmZmZmZ+T+amZmZmZn5P5qZmZmZmfk/ZmZmZmZmFkBmZmZmZmYWQGZmZmZmZhZAmpmZmZmZ+T+amZmZmZn5P5qZmZmZmQ1AmpmZmZmZDUCamZmZmZkNQJqZmZmZmQ1AAAAAAAAABEAAAAAAAAAAQAAAAAAAAARAAAAAAAAABEAAAAAAAAAEQGZmZmZmZhZAAAAAAAAABEAAAAAAAAAQQAAAAAAAABBAAAAAAAAAEEBmZmZmZmYOQJqZmZmZmfk/AAAAAAAADECamZmZmZn5P5qZmZmZmfk/AAAAAAAADEAAAAAAAAAMQAAAAAAAAABAAAAAAAAADEAAAAAAAAAMQAAAAAAAAAxAAAAAAAAAAEAAAAAAAAAAQAAAAAAAAABAAAAAAAAABEAAAAAAAAAEQM3MzMzMzPw/zczMzMzM/D+amZmZmZn5P5qZmZmZmfk/mpmZmZmZ+T+amZmZmZn5P2ZmZmZmZhZAZmZmZmZmFkBmZmZmZmYWQJqZmZmZmfk/mpmZmZmZ+T+amZmZmZkNQJqZmZmZmQ1AmpmZmZmZDUCamZmZmZkNQAAAAAAAAARAAAAAAAAABEBmZmZmZmYWQGZmZmZmZg5AZmZmZmZmDkBmZmZmZmYOQJqZmZmZmfk/AAAAAAAADEAAAAAAAAAMQAAAAAAAAAxAAAAAAAAAAEAAAAAAAAAAQAAAAAAAAABAAAAAAAAAAEAAAAAAAAAMQAAAAAAAAAxAAAAAAAAADEAAAAAAAAAEQAAAAAAAAARAAAAAAAAAAEAAAAAAAAAAQAAAAAAAAABAZmZmZmZmFkBmZmZmZmYWQJqZmZmZmfk/mpmZmZmZ+T8=",
          "dtype": "f8"
         },
         "xaxis": "x",
         "y": {
          "bdata": "/QAIAQYBDQGvANYAfAEbAQQBJAE7AS0BKQG6AMYAyAD7AA8B1gD0AP0AygD/AL8AxgChALMAZwGOAZgAsQBHATsB/wAIAQgBDwGvAM8AfgEbAQQBJAE7ATIBIgG2ALEAvQC/AMoAswCxAOEA5ADYAO8A9gD9AMoA8gC/AMQAcgGMAaYAtgCcALEARwFLAQQBDQEOARYBsADUALUAHQEKASwBQgE5ASYBugC3AMIAwgDQAN8AuAC2AOYA6ADcAPUA+wACAcIAyQCnALgAoQCzAAUBDQEOARYBsADWALcAagEeAQwBMAFGAT0BLAG9ALwAxwDFANEA4QC6ALkA5gDoANwA8AD6AAIBvwDYAMUAwADLAMEAwwCrALsAzQDMADgBOwFNAaQAtAAFAQ0BDgEWAbMAuQDWAGoBIgEMASwBRgE9ASwBqQDjALwAugDmAOgA2gDwAPoAAwG/ANgAxADAAM0ArAC7AMEAwwDNAMwAOAE7AUsBpAC0AAUBDgEPARcBrgC+ALEAugC+AGwBIgErAUYBPQEnAakA6QC8ALoA8ADyANoA8AD6AAMBvADZAMYAwADMAKwAtwDBAMMAzQDMADgBOwFLAaQAtAAFAQ4BDwEXAboAvgBqAREBHwEsAakA6QDwAPIA2gDAANkAxgDwAPsAAQHAAMwApwCrALwAOQE5AZ4AtQA=",
          "dtype": "i2"
         },
         "yaxis": "y"
        },
        {
         "customdata": [
          [
           "911 CARRERA",
           "MINICOMPACT"
          ],
          [
           "911 CARRERA",
           "MINICOMPACT"
          ],
          [
           "911 CARRERA 4",
           "MINICOMPACT"
          ],
          [
           "911 CARRERA 4",
           "MINICOMPACT"
          ],
          [
           "911 CARRERA 4 CABRIOLET",
           "MINICOMPACT"
          ],
          [
           "911 CARRERA 4 CABRIOLET",
           "MINICOMPACT"
          ],
          [
           "911 CARRERA 4S",
           "MINICOMPACT"
          ],
          [
           "911 CARRERA 4S",
           "MINICOMPACT"
          ],
          [
           "911 CARRERA 4S CABRIOLET",
           "MINICOMPACT"
          ],
          [
           "911 CARRERA 4S CABRIOLET",
           "MINICOMPACT"
          ],
          [
           "911 CARRERA CABRIOLET",
           "MINICOMPACT"
          ],
          [
           "911 CARRERA CABRIOLET",
           "MINICOMPACT"
          ],
          [
           "911 CARRERA S",
           "MINICOMPACT"
          ],
          [
           "911 CARRERA S",
           "MINICOMPACT"
          ],
          [
           "911 CARRERA S CABRIOLET",
           "MINICOMPACT"
          ],
          [
           "911 CARRERA S CABRIOLET",
           "MINICOMPACT"
          ],
          [
           "911 GT3",
           "TWO-SEATER"
          ],
          [
           "911 TURBO",
           "MINICOMPACT"
          ],
          [
           "911 TURBO CABRIOLET",
           "MINICOMPACT"
          ],
          [
           "911 TURBO S",
           "MINICOMPACT"
          ],
          [
           "911 TURBO S CABRIOLET",
           "MINICOMPACT"
          ],
          [
           "BOXSTER",
           "TWO-SEATER"
          ],
          [
           "BOXSTER",
           "TWO-SEATER"
          ],
          [
           "BOXSTER S",
           "TWO-SEATER"
          ],
          [
           "BOXSTER S",
           "TWO-SEATER"
          ],
          [
           "CAYENNE",
           "SUV - STANDARD"
          ],
          [
           "CAYENNE",
           "SUV - STANDARD"
          ],
          [
           "CAYENNE DIESEL (modified)",
           "SUV - STANDARD"
          ],
          [
           "CAYENNE GTS",
           "SUV - STANDARD"
          ],
          [
           "CAYENNE S",
           "SUV - STANDARD"
          ],
          [
           "CAYENNE S HYBRID",
           "SUV - STANDARD"
          ],
          [
           "CAYENNE TURBO",
           "SUV - STANDARD"
          ],
          [
           "CAYENNE TURBO S",
           "SUV - STANDARD"
          ],
          [
           "CAYMAN",
           "TWO-SEATER"
          ],
          [
           "CAYMAN",
           "TWO-SEATER"
          ],
          [
           "CAYMAN S",
           "TWO-SEATER"
          ],
          [
           "CAYMAN S",
           "TWO-SEATER"
          ],
          [
           "PANAMERA",
           "FULL-SIZE"
          ],
          [
           "PANAMERA 4",
           "FULL-SIZE"
          ],
          [
           "PANAMERA 4S",
           "FULL-SIZE"
          ],
          [
           "PANAMERA 4S EXECUTIVE",
           "FULL-SIZE"
          ],
          [
           "PANAMERA GTS",
           "FULL-SIZE"
          ],
          [
           "PANAMERA S",
           "FULL-SIZE"
          ],
          [
           "PANAMERA TURBO",
           "FULL-SIZE"
          ],
          [
           "PANAMERA TURBO EXECUTIVE",
           "FULL-SIZE"
          ],
          [
           "911 CARRERA",
           "MINICOMPACT"
          ],
          [
           "911 CARRERA",
           "MINICOMPACT"
          ],
          [
           "911 CARRERA CABRIOLET",
           "MINICOMPACT"
          ],
          [
           "911 CARRERA CABRIOLET",
           "MINICOMPACT"
          ],
          [
           "911 CARRERA 4",
           "MINICOMPACT"
          ],
          [
           "911 CARRERA 4",
           "MINICOMPACT"
          ],
          [
           "911 CARRERA 4 CABRIOLET",
           "MINICOMPACT"
          ],
          [
           "911 CARRERA 4 CABRIOLET",
           "MINICOMPACT"
          ],
          [
           "911 CARRERA 4 GTS",
           "MINICOMPACT"
          ],
          [
           "911 CARRERA 4 GTS",
           "MINICOMPACT"
          ],
          [
           "911 CARRERA 4 GTS CABRIOLET",
           "MINICOMPACT"
          ],
          [
           "911 CARRERA 4 GTS CABRIOLET",
           "MINICOMPACT"
          ],
          [
           "911 CARRERA 4S",
           "MINICOMPACT"
          ],
          [
           "911 CARRERA 4S",
           "MINICOMPACT"
          ],
          [
           "911 CARRERA 4S CABRIOLET",
           "MINICOMPACT"
          ],
          [
           "911 CARRERA 4S CABRIOLET",
           "MINICOMPACT"
          ],
          [
           "911 CARRERA GTS",
           "MINICOMPACT"
          ],
          [
           "911 CARRERA GTS",
           "MINICOMPACT"
          ],
          [
           "911 CARRERA GTS CABRIOLET",
           "MINICOMPACT"
          ],
          [
           "911 CARRERA GTS CABRIOLET",
           "MINICOMPACT"
          ],
          [
           "911 CARRERA S",
           "MINICOMPACT"
          ],
          [
           "911 CARRERA S",
           "MINICOMPACT"
          ],
          [
           "911 CARRERA S CABRIOLET",
           "MINICOMPACT"
          ],
          [
           "911 CARRERA S CABRIOLET",
           "MINICOMPACT"
          ],
          [
           "911 GT3",
           "TWO-SEATER"
          ],
          [
           "911 TARGA 4",
           "MINICOMPACT"
          ],
          [
           "911 TARGA 4",
           "MINICOMPACT"
          ],
          [
           "911 TARGA 4S",
           "MINICOMPACT"
          ],
          [
           "911 TARGA 4S",
           "MINICOMPACT"
          ],
          [
           "911 TURBO",
           "MINICOMPACT"
          ],
          [
           "911 TURBO CABRIOLET",
           "MINICOMPACT"
          ],
          [
           "911 TURBO S",
           "MINICOMPACT"
          ],
          [
           "911 TURBO S CABRIOLET",
           "MINICOMPACT"
          ],
          [
           "BOXSTER",
           "TWO-SEATER"
          ],
          [
           "BOXSTER",
           "TWO-SEATER"
          ],
          [
           "BOXSTER GTS",
           "TWO-SEATER"
          ],
          [
           "BOXSTER GTS",
           "TWO-SEATER"
          ],
          [
           "BOXSTER S",
           "TWO-SEATER"
          ],
          [
           "BOXSTER S",
           "TWO-SEATER"
          ],
          [
           "CAYENNE DIESEL (modified)",
           "SUV - STANDARD"
          ],
          [
           "CAYENNE S",
           "SUV - STANDARD"
          ],
          [
           "CAYENNE TURBO",
           "SUV - STANDARD"
          ],
          [
           "CAYMAN",
           "TWO-SEATER"
          ],
          [
           "CAYMAN",
           "TWO-SEATER"
          ],
          [
           "CAYMAN GTS",
           "TWO-SEATER"
          ],
          [
           "CAYMAN GTS",
           "TWO-SEATER"
          ],
          [
           "CAYMAN S",
           "TWO-SEATER"
          ],
          [
           "CAYMAN S",
           "TWO-SEATER"
          ],
          [
           "MACAN S",
           "SUV - SMALL"
          ],
          [
           "MACAN TURBO",
           "SUV - SMALL"
          ],
          [
           "PANAMERA",
           "FULL-SIZE"
          ],
          [
           "PANAMERA 4",
           "FULL-SIZE"
          ],
          [
           "PANAMERA 4S",
           "FULL-SIZE"
          ],
          [
           "PANAMERA 4S EXECUTIVE",
           "FULL-SIZE"
          ],
          [
           "PANAMERA GTS",
           "FULL-SIZE"
          ],
          [
           "PANAMERA S",
           "FULL-SIZE"
          ],
          [
           "PANAMERA TURBO",
           "FULL-SIZE"
          ],
          [
           "PANAMERA TURBO EXECUTIVE",
           "FULL-SIZE"
          ],
          [
           "PANAMERA TURBO S",
           "FULL-SIZE"
          ],
          [
           "PANAMERA TURBO S EXECUTIVE",
           "FULL-SIZE"
          ],
          [
           "911 CARRERA",
           "MINICOMPACT"
          ],
          [
           "911 CARRERA",
           "MINICOMPACT"
          ],
          [
           "911 CARRERA CABRIOLET",
           "MINICOMPACT"
          ],
          [
           "911 CARRERA CABRIOLET",
           "MINICOMPACT"
          ],
          [
           "911 CARRERA GTS",
           "MINICOMPACT"
          ],
          [
           "911 CARRERA GTS",
           "MINICOMPACT"
          ],
          [
           "911 CARRERA GTS CABRIOLET",
           "MINICOMPACT"
          ],
          [
           "911 CARRERA GTS CABRIOLET",
           "MINICOMPACT"
          ],
          [
           "911 CARRERA S",
           "MINICOMPACT"
          ],
          [
           "911 CARRERA S",
           "MINICOMPACT"
          ],
          [
           "911 CARRERA S CABRIOLET",
           "MINICOMPACT"
          ],
          [
           "911 CARRERA S CABRIOLET",
           "MINICOMPACT"
          ],
          [
           "911 CARRERA 4",
           "MINICOMPACT"
          ],
          [
           "911 CARRERA 4",
           "MINICOMPACT"
          ],
          [
           "911 CARRERA 4 CABRIOLET",
           "MINICOMPACT"
          ],
          [
           "911 CARRERA 4 CABRIOLET",
           "MINICOMPACT"
          ],
          [
           "911 CARRERA 4 GTS",
           "MINICOMPACT"
          ],
          [
           "911 CARRERA 4 GTS",
           "MINICOMPACT"
          ],
          [
           "911 CARRERA 4 GTS CABRIOLET",
           "MINICOMPACT"
          ],
          [
           "911 CARRERA 4 GTS CABRIOLET",
           "MINICOMPACT"
          ],
          [
           "911 CARRERA 4S",
           "MINICOMPACT"
          ],
          [
           "911 CARRERA 4S",
           "MINICOMPACT"
          ],
          [
           "911 CARRERA 4S CABRIOLET",
           "MINICOMPACT"
          ],
          [
           "911 CARRERA 4S CABRIOLET",
           "MINICOMPACT"
          ],
          [
           "911 GT3",
           "TWO-SEATER"
          ],
          [
           "911 GT3RS",
           "TWO-SEATER"
          ],
          [
           "911 TARGA 4",
           "MINICOMPACT"
          ],
          [
           "911 TARGA 4",
           "MINICOMPACT"
          ],
          [
           "911 TARGA 4S",
           "MINICOMPACT"
          ],
          [
           "911 TARGA 4S",
           "MINICOMPACT"
          ],
          [
           "911 TURBO",
           "MINICOMPACT"
          ],
          [
           "911 TURBO CABRIOLET",
           "MINICOMPACT"
          ],
          [
           "911 TURBO S",
           "MINICOMPACT"
          ],
          [
           "911 TURBO S CABRIOLET",
           "MINICOMPACT"
          ],
          [
           "BOXSTER",
           "TWO-SEATER"
          ],
          [
           "BOXSTER",
           "TWO-SEATER"
          ],
          [
           "BOXSTER GTS",
           "TWO-SEATER"
          ],
          [
           "BOXSTER GTS",
           "TWO-SEATER"
          ],
          [
           "BOXSTER S",
           "TWO-SEATER"
          ],
          [
           "BOXSTER S",
           "TWO-SEATER"
          ],
          [
           "BOXSTER SPYDER",
           "TWO-SEATER"
          ],
          [
           "CAYENNE",
           "SUV - STANDARD"
          ],
          [
           "CAYENNE DIESEL (modified)",
           "SUV - STANDARD"
          ],
          [
           "CAYENNE GTS",
           "SUV - STANDARD"
          ],
          [
           "CAYENNE S",
           "SUV - STANDARD"
          ],
          [
           "CAYENNE TURBO",
           "SUV - STANDARD"
          ],
          [
           "CAYENNE TURBO S",
           "SUV - STANDARD"
          ],
          [
           "CAYMAN",
           "TWO-SEATER"
          ],
          [
           "CAYMAN",
           "TWO-SEATER"
          ],
          [
           "CAYMAN GT4",
           "TWO-SEATER"
          ],
          [
           "CAYMAN GTS",
           "TWO-SEATER"
          ],
          [
           "CAYMAN GTS",
           "TWO-SEATER"
          ],
          [
           "CAYMAN S",
           "TWO-SEATER"
          ],
          [
           "CAYMAN S",
           "TWO-SEATER"
          ],
          [
           "MACAN S",
           "SUV - SMALL"
          ],
          [
           "MACAN TURBO",
           "SUV - SMALL"
          ],
          [
           "PANAMERA",
           "FULL-SIZE"
          ],
          [
           "PANAMERA GTS",
           "FULL-SIZE"
          ],
          [
           "PANAMERA S",
           "FULL-SIZE"
          ],
          [
           "PANAMERA 4",
           "FULL-SIZE"
          ],
          [
           "PANAMERA 4S",
           "FULL-SIZE"
          ],
          [
           "PANAMERA 4S EXECUTIVE",
           "FULL-SIZE"
          ],
          [
           "PANAMERA TURBO",
           "FULL-SIZE"
          ],
          [
           "PANAMERA TURBO EXECUTIVE",
           "FULL-SIZE"
          ],
          [
           "PANAMERA TURBO S",
           "FULL-SIZE"
          ],
          [
           "PANAMERA TURBO S EXECUTIVE",
           "FULL-SIZE"
          ],
          [
           "911 CARRERA",
           "MINICOMPACT"
          ],
          [
           "911 CARRERA",
           "MINICOMPACT"
          ],
          [
           "911 CARRERA CABRIOLET",
           "MINICOMPACT"
          ],
          [
           "911 CARRERA CABRIOLET",
           "MINICOMPACT"
          ],
          [
           "911 CARRERA S",
           "MINICOMPACT"
          ],
          [
           "911 CARRERA S",
           "MINICOMPACT"
          ],
          [
           "911 CARRERA S CABRIOLET",
           "MINICOMPACT"
          ],
          [
           "911 CARRERA S CABRIOLET",
           "MINICOMPACT"
          ],
          [
           "911 CARRERA 4",
           "MINICOMPACT"
          ],
          [
           "911 CARRERA 4",
           "MINICOMPACT"
          ],
          [
           "911 CARRERA 4 CABRIOLET",
           "MINICOMPACT"
          ],
          [
           "911 CARRERA 4 CABRIOLET",
           "MINICOMPACT"
          ],
          [
           "911 CARRERA 4S",
           "MINICOMPACT"
          ],
          [
           "911 CARRERA 4S",
           "MINICOMPACT"
          ],
          [
           "911 CARRERA 4S CABRIOLET",
           "MINICOMPACT"
          ],
          [
           "911 CARRERA 4S CABRIOLET",
           "MINICOMPACT"
          ],
          [
           "911 TARGA 4",
           "MINICOMPACT"
          ],
          [
           "911 TARGA 4",
           "MINICOMPACT"
          ],
          [
           "911 TARGA 4S",
           "MINICOMPACT"
          ],
          [
           "911 TARGA 4S",
           "MINICOMPACT"
          ],
          [
           "911 TURBO",
           "MINICOMPACT"
          ],
          [
           "911 TURBO CABRIOLET",
           "MINICOMPACT"
          ],
          [
           "911 TURBO S",
           "MINICOMPACT"
          ],
          [
           "911 TURBO S CABRIOLET",
           "MINICOMPACT"
          ],
          [
           "BOXSTER",
           "TWO-SEATER"
          ],
          [
           "BOXSTER",
           "TWO-SEATER"
          ],
          [
           "BOXSTER S",
           "TWO-SEATER"
          ],
          [
           "BOXSTER S",
           "TWO-SEATER"
          ],
          [
           "CAYENNE",
           "SUV - STANDARD"
          ],
          [
           "CAYENNE PLATINUM",
           "SUV - STANDARD"
          ],
          [
           "CAYENNE S",
           "SUV - STANDARD"
          ],
          [
           "CAYENNE GTS",
           "SUV - STANDARD"
          ],
          [
           "CAYENNE TURBO",
           "SUV - STANDARD"
          ],
          [
           "CAYENNE TURBO S",
           "SUV - STANDARD"
          ],
          [
           "CAYMAN",
           "TWO-SEATER"
          ],
          [
           "CAYMAN",
           "TWO-SEATER"
          ],
          [
           "CAYMAN S",
           "TWO-SEATER"
          ],
          [
           "CAYMAN S",
           "TWO-SEATER"
          ],
          [
           "MACAN",
           "SUV - SMALL"
          ],
          [
           "MACAN S",
           "SUV - SMALL"
          ],
          [
           "MACAN GTS",
           "SUV - SMALL"
          ],
          [
           "MACAN TURBO",
           "SUV - SMALL"
          ],
          [
           "911 CARRERA",
           "MINICOMPACT"
          ],
          [
           "911 CARRERA",
           "MINICOMPACT"
          ],
          [
           "911 CARRERA CABRIOLET",
           "MINICOMPACT"
          ],
          [
           "911 CARRERA CABRIOLET",
           "MINICOMPACT"
          ],
          [
           "911 CARRERA GTS",
           "MINICOMPACT"
          ],
          [
           "911 CARRERA GTS",
           "MINICOMPACT"
          ],
          [
           "911 CARRERA GTS CABRIOLET",
           "MINICOMPACT"
          ],
          [
           "911 CARRERA GTS CABRIOLET",
           "MINICOMPACT"
          ],
          [
           "911 CARRERA S",
           "MINICOMPACT"
          ],
          [
           "911 CARRERA S",
           "MINICOMPACT"
          ],
          [
           "911 CARRERA S CABRIOLET",
           "MINICOMPACT"
          ],
          [
           "911 CARRERA S CABRIOLET",
           "MINICOMPACT"
          ],
          [
           "911 CARRERA 4",
           "MINICOMPACT"
          ],
          [
           "911 CARRERA 4",
           "MINICOMPACT"
          ],
          [
           "911 CARRERA 4 CABRIOLET",
           "MINICOMPACT"
          ],
          [
           "911 CARRERA 4 CABRIOLET",
           "MINICOMPACT"
          ],
          [
           "911 CARRERA 4 GTS",
           "MINICOMPACT"
          ],
          [
           "911 CARRERA 4 GTS",
           "MINICOMPACT"
          ],
          [
           "911 CARRERA 4 GTS CABRIOLET",
           "MINICOMPACT"
          ],
          [
           "911 CARRERA 4 GTS CABRIOLET",
           "MINICOMPACT"
          ],
          [
           "911 CARRERA 4S",
           "MINICOMPACT"
          ],
          [
           "911 CARRERA 4S",
           "MINICOMPACT"
          ],
          [
           "911 CARRERA 4S CABRIOLET",
           "MINICOMPACT"
          ],
          [
           "911 CARRERA 4S CABRIOLET",
           "MINICOMPACT"
          ],
          [
           "911 GT3",
           "TWO-SEATER"
          ],
          [
           "911 GT3",
           "TWO-SEATER"
          ],
          [
           "911 TARGA 4",
           "MINICOMPACT"
          ],
          [
           "911 TARGA 4",
           "MINICOMPACT"
          ],
          [
           "911 TARGA 4 GTS",
           "MINICOMPACT"
          ],
          [
           "911 TARGA 4 GTS",
           "MINICOMPACT"
          ],
          [
           "911 TARGA 4S",
           "MINICOMPACT"
          ],
          [
           "911 TARGA 4S",
           "MINICOMPACT"
          ],
          [
           "911 TURBO",
           "MINICOMPACT"
          ],
          [
           "911 TURBO CABRIOLET",
           "MINICOMPACT"
          ],
          [
           "911 TURBO S",
           "MINICOMPACT"
          ],
          [
           "911 TURBO S CABRIOLET",
           "MINICOMPACT"
          ],
          [
           "911 TURBO S EXCLUSIVE",
           "MINICOMPACT"
          ],
          [
           "BOXSTER",
           "TWO-SEATER"
          ],
          [
           "BOXSTER",
           "TWO-SEATER"
          ],
          [
           "BOXSTER GTS",
           "TWO-SEATER"
          ],
          [
           "BOXSTER GTS",
           "TWO-SEATER"
          ],
          [
           "BOXSTER S",
           "TWO-SEATER"
          ],
          [
           "BOXSTER S",
           "TWO-SEATER"
          ],
          [
           "CAYENNE",
           "SUV - STANDARD"
          ],
          [
           "CAYENNE GTS",
           "SUV - STANDARD"
          ],
          [
           "CAYENNE PLATINUM",
           "SUV - STANDARD"
          ],
          [
           "CAYENNE S",
           "SUV - STANDARD"
          ],
          [
           "CAYENNE TURBO",
           "SUV - STANDARD"
          ],
          [
           "CAYENNE TURBO S",
           "SUV - STANDARD"
          ],
          [
           "CAYMAN",
           "TWO-SEATER"
          ],
          [
           "CAYMAN",
           "TWO-SEATER"
          ],
          [
           "CAYMAN GTS",
           "TWO-SEATER"
          ],
          [
           "CAYMAN GTS",
           "TWO-SEATER"
          ],
          [
           "CAYMAN S",
           "TWO-SEATER"
          ],
          [
           "CAYMAN S",
           "TWO-SEATER"
          ],
          [
           "MACAN",
           "SUV - SMALL"
          ],
          [
           "MACAN GTS",
           "SUV - SMALL"
          ],
          [
           "MACAN S",
           "SUV - SMALL"
          ],
          [
           "MACAN TURBO",
           "SUV - SMALL"
          ],
          [
           "MACAN TURBO KIT",
           "SUV - SMALL"
          ],
          [
           "PANAMERA",
           "FULL-SIZE"
          ],
          [
           "PANAMERA 4",
           "FULL-SIZE"
          ],
          [
           "PANAMERA 4 EXECUTIVE",
           "FULL-SIZE"
          ],
          [
           "PANAMERA 4 ST",
           "FULL-SIZE"
          ],
          [
           "PANAMERA 4S",
           "FULL-SIZE"
          ],
          [
           "PANAMERA 4S EXECUTIVE",
           "FULL-SIZE"
          ],
          [
           "PANAMERA 4S ST",
           "FULL-SIZE"
          ],
          [
           "PANAMERA TURBO",
           "FULL-SIZE"
          ],
          [
           "PANAMERA TURBO EXECUTIVE",
           "FULL-SIZE"
          ],
          [
           "PANAMERA TURBO ST",
           "FULL-SIZE"
          ],
          [
           "911 Carrera",
           "MINICOMPACT"
          ],
          [
           "911 Carrera",
           "MINICOMPACT"
          ],
          [
           "911 Carrera Cabriolet",
           "MINICOMPACT"
          ],
          [
           "911 Carrera Cabriolet",
           "MINICOMPACT"
          ],
          [
           "911 Carrera GTS",
           "MINICOMPACT"
          ],
          [
           "911 Carrera GTS",
           "MINICOMPACT"
          ],
          [
           "911 Carrera GTS Cabriolet",
           "MINICOMPACT"
          ],
          [
           "911 Carrera GTS Cabriolet",
           "MINICOMPACT"
          ],
          [
           "911 Carrera S",
           "MINICOMPACT"
          ],
          [
           "911 Carrera S",
           "MINICOMPACT"
          ],
          [
           "911 Carrera S Cabriolet",
           "MINICOMPACT"
          ],
          [
           "911 Carrera S Cabriolet",
           "MINICOMPACT"
          ],
          [
           "911 Carrera T",
           "MINICOMPACT"
          ],
          [
           "911 Carrera T",
           "MINICOMPACT"
          ],
          [
           "911 Carrera 4",
           "MINICOMPACT"
          ],
          [
           "911 Carrera 4",
           "MINICOMPACT"
          ],
          [
           "911 Carrera 4 Cabriolet",
           "MINICOMPACT"
          ],
          [
           "911 Carrera 4 Cabriolet",
           "MINICOMPACT"
          ],
          [
           "911 Carrera 4 GTS",
           "MINICOMPACT"
          ],
          [
           "911 Carrera 4 GTS",
           "MINICOMPACT"
          ],
          [
           "911 Carrera 4 GTS Cabriolet",
           "MINICOMPACT"
          ],
          [
           "911 Carrera 4 GTS Cabriolet",
           "MINICOMPACT"
          ],
          [
           "911 Carrera 4S",
           "MINICOMPACT"
          ],
          [
           "911 Carrera 4S",
           "MINICOMPACT"
          ],
          [
           "911 Carrera 4S Cabriolet",
           "MINICOMPACT"
          ],
          [
           "911 Carrera 4S Cabriolet",
           "MINICOMPACT"
          ],
          [
           "911 GT2 RS",
           "TWO-SEATER"
          ],
          [
           "911 GT3",
           "TWO-SEATER"
          ],
          [
           "911 GT3",
           "TWO-SEATER"
          ],
          [
           "911 GT3 RS",
           "TWO-SEATER"
          ],
          [
           "911 GT3 Touring",
           "TWO-SEATER"
          ],
          [
           "911 Speedster",
           "TWO-SEATER"
          ],
          [
           "911 Targa 4",
           "MINICOMPACT"
          ],
          [
           "911 Targa 4",
           "MINICOMPACT"
          ],
          [
           "911 Targa 4 GTS",
           "MINICOMPACT"
          ],
          [
           "911 Targa 4 GTS",
           "MINICOMPACT"
          ],
          [
           "911 Targa 4S",
           "MINICOMPACT"
          ],
          [
           "911 Targa 4S",
           "MINICOMPACT"
          ],
          [
           "911 Turbo",
           "MINICOMPACT"
          ],
          [
           "911 Turbo Cabriolet",
           "MINICOMPACT"
          ],
          [
           "911 Turbo S",
           "MINICOMPACT"
          ],
          [
           "911 Turbo S Cabriolet",
           "MINICOMPACT"
          ],
          [
           "911 Turbo S Exclusive Cabriolet",
           "MINICOMPACT"
          ],
          [
           "Boxster",
           "TWO-SEATER"
          ],
          [
           "Boxster",
           "TWO-SEATER"
          ],
          [
           "Boxster GTS",
           "TWO-SEATER"
          ],
          [
           "Boxster GTS",
           "TWO-SEATER"
          ],
          [
           "Boxster S",
           "TWO-SEATER"
          ],
          [
           "Boxster S",
           "TWO-SEATER"
          ],
          [
           "Cayenne",
           "SUV - STANDARD"
          ],
          [
           "Cayenne S",
           "SUV - STANDARD"
          ],
          [
           "Cayenne Turbo",
           "SUV - STANDARD"
          ],
          [
           "Cayman",
           "TWO-SEATER"
          ],
          [
           "Cayman",
           "TWO-SEATER"
          ],
          [
           "Cayman GTS",
           "TWO-SEATER"
          ],
          [
           "Cayman GTS",
           "TWO-SEATER"
          ],
          [
           "Cayman S",
           "TWO-SEATER"
          ],
          [
           "Cayman S",
           "TWO-SEATER"
          ],
          [
           "Macan",
           "SUV - SMALL"
          ],
          [
           "Macan S",
           "SUV - SMALL"
          ],
          [
           "Panamera",
           "FULL-SIZE"
          ],
          [
           "Panamera 4",
           "FULL-SIZE"
          ],
          [
           "Panamera 4 Executive",
           "FULL-SIZE"
          ],
          [
           "Panamera 4 ST",
           "FULL-SIZE"
          ],
          [
           "Panamera 4S",
           "FULL-SIZE"
          ],
          [
           "Panamera 4S Executive",
           "FULL-SIZE"
          ],
          [
           "Panamera 4S ST",
           "FULL-SIZE"
          ],
          [
           "Panamera GTS",
           "FULL-SIZE"
          ],
          [
           "Panamera GTS ST",
           "FULL-SIZE"
          ],
          [
           "Panamera Turbo",
           "FULL-SIZE"
          ],
          [
           "Panamera Turbo Executive",
           "FULL-SIZE"
          ],
          [
           "Panamera Turbo ST",
           "FULL-SIZE"
          ],
          [
           "911 Carrera S",
           "MINICOMPACT"
          ],
          [
           "911 Carrera S Cabriolet",
           "MINICOMPACT"
          ],
          [
           "911 Carrera 4S",
           "MINICOMPACT"
          ],
          [
           "911 Carrera 4S Cabriolet",
           "MINICOMPACT"
          ],
          [
           "Cayenne",
           "SUV - STANDARD"
          ],
          [
           "Cayenne S",
           "SUV - STANDARD"
          ],
          [
           "Cayenne Turbo",
           "SUV - STANDARD"
          ],
          [
           "Macan",
           "SUV - SMALL"
          ],
          [
           "Macan S",
           "SUV - SMALL"
          ],
          [
           "Panamera",
           "FULL-SIZE"
          ],
          [
           "Panamera 4",
           "FULL-SIZE"
          ],
          [
           "Panamera 4 Executive",
           "FULL-SIZE"
          ],
          [
           "Panamera 4 ST",
           "FULL-SIZE"
          ],
          [
           "Panamera 4S",
           "FULL-SIZE"
          ],
          [
           "Panamera 4S Executive",
           "FULL-SIZE"
          ],
          [
           "Panamera 4S ST",
           "FULL-SIZE"
          ],
          [
           "Panamera GTS",
           "FULL-SIZE"
          ],
          [
           "Panamera GTS ST",
           "FULL-SIZE"
          ],
          [
           "Panamera Turbo",
           "FULL-SIZE"
          ],
          [
           "Panamera Turbo Executive",
           "FULL-SIZE"
          ],
          [
           "Panamera Turbo ST",
           "FULL-SIZE"
          ]
         ],
         "hovertemplate": "Make=PORSCHE<br>Engine Size(L)=%{x}<br>CO2 Emissions(g/km)=%{y}<br>Fuel Consumption Comb (mpg)=%{marker.size}<br>Model=%{customdata[0]}<br>Vehicle Class=%{customdata[1]}<extra></extra>",
         "legendgroup": "PORSCHE",
         "marker": {
          "color": "#FF97FF",
          "size": {
           "bdata": "HBobGhsaGhoaGRwaGxoaGhQYGBgYHx0dGxcVHBQVGhQTHx0dGxoZGRkWGRYWHBscGhwaGxoZGRkYGhoaGRoZGRgbGhsaFBoZGRkYGBgYHx0eGh0bHBcUHx0eGh0bFxcaGRkZFhkWFhYWHBscGhoZGRgbGhsaHBobGhkZGRgaGhoZFBQaGRkZGBgYGB8dHhodGxgYHRYXFBQfHRgeGh0bFxcaFhkZGRkWFhYWHhwdGx0bHRsdGx0bHRsdGx0bHBsZGRkZHh0dGhkXGBYUFB4dHRobFxcXHhwdGxsZGxodGx0bHRsdGxsaGhkdGx0bFBMdGxoZHBsZGRkZFx4dGxodGhkWFxgUFB4dGxodGhsXFxcXHRwcGxwcGhkZGB4cHRsbGRoaHRsdGxsXHRsdGxsaGhkdGx0bFRQTFBQTHRsaGRwbGRkZGRYeHRsaHRoZGBQeHRsaHRoZGBoaGhoZGRgWFRkZGBkYGBgZGBQZGBoaGhoZGRgWFRkZGA==",
           "dtype": "i1"
          },
          "sizemode": "area",
          "sizeref": 0.28444444444444444,
          "symbol": "circle"
         },
         "mode": "markers",
         "name": "PORSCHE",
         "showlegend": true,
         "type": "scattergl",
         "x": {
          "bdata": "MzMzMzMzC0AzMzMzMzMLQDMzMzMzMwtAMzMzMzMzC0AzMzMzMzMLQDMzMzMzMwtAZmZmZmZmDkBmZmZmZmYOQGZmZmZmZg5AZmZmZmZmDkAzMzMzMzMLQDMzMzMzMwtAZmZmZmZmDkBmZmZmZmYOQGZmZmZmZg5AZmZmZmZmDkBmZmZmZmYOQGZmZmZmZg5AZmZmZmZmDkBmZmZmZmYOQGZmZmZmZg5AmpmZmZmZBUCamZmZmZkFQDMzMzMzMwtAMzMzMzMzC0DNzMzMzMwMQM3MzMzMzAxAAAAAAAAACEAzMzMzMzMTQDMzMzMzMxNAAAAAAAAACEAzMzMzMzMTQDMzMzMzMxNAmpmZmZmZBUCamZmZmZkFQDMzMzMzMwtAMzMzMzMzC0DNzMzMzMwMQM3MzMzMzAxAAAAAAAAACEAAAAAAAAAIQDMzMzMzMxNAAAAAAAAACEAzMzMzMzMTQDMzMzMzMxNAMzMzMzMzC0AzMzMzMzMLQDMzMzMzMwtAMzMzMzMzC0AzMzMzMzMLQDMzMzMzMwtAMzMzMzMzC0AzMzMzMzMLQGZmZmZmZg5AZmZmZmZmDkBmZmZmZmYOQGZmZmZmZg5AZmZmZmZmDkBmZmZmZmYOQGZmZmZmZg5AZmZmZmZmDkBmZmZmZmYOQGZmZmZmZg5AZmZmZmZmDkBmZmZmZmYOQGZmZmZmZg5AZmZmZmZmDkBmZmZmZmYOQGZmZmZmZg5AZmZmZmZmDkAzMzMzMzMLQDMzMzMzMwtAZmZmZmZmDkBmZmZmZmYOQGZmZmZmZg5AZmZmZmZmDkBmZmZmZmYOQGZmZmZmZg5AmpmZmZmZBUCamZmZmZkFQDMzMzMzMwtAMzMzMzMzC0AzMzMzMzMLQDMzMzMzMwtAAAAAAAAACEDNzMzMzMwMQDMzMzMzMxNAmpmZmZmZBUCamZmZmZkFQDMzMzMzMwtAMzMzMzMzC0AzMzMzMzMLQDMzMzMzMwtAAAAAAAAACEDNzMzMzMwMQM3MzMzMzAxAzczMzMzMDEAAAAAAAAAIQAAAAAAAAAhAMzMzMzMzE0AAAAAAAAAIQDMzMzMzMxNAMzMzMzMzE0AzMzMzMzMTQDMzMzMzMxNAMzMzMzMzC0AzMzMzMzMLQDMzMzMzMwtAMzMzMzMzC0BmZmZmZmYOQGZmZmZmZg5AZmZmZmZmDkBmZmZmZmYOQGZmZmZmZg5AZmZmZmZmDkBmZmZmZmYOQGZmZmZmZg5AMzMzMzMzC0AzMzMzMzMLQDMzMzMzMwtAMzMzMzMzC0BmZmZmZmYOQGZmZmZmZg5AZmZmZmZmDkBmZmZmZmYOQGZmZmZmZg5AZmZmZmZmDkBmZmZmZmYOQGZmZmZmZg5AZmZmZmZmDkAAAAAAAAAQQDMzMzMzMwtAMzMzMzMzC0BmZmZmZmYOQGZmZmZmZg5AZmZmZmZmDkBmZmZmZmYOQGZmZmZmZg5AZmZmZmZmDkCamZmZmZkFQJqZmZmZmQVAMzMzMzMzC0AzMzMzMzMLQDMzMzMzMwtAMzMzMzMzC0BmZmZmZmYOQM3MzMzMzAxAAAAAAAAACEDNzMzMzMwMQM3MzMzMzAxAMzMzMzMzE0AzMzMzMzMTQJqZmZmZmQVAmpmZmZmZBUBmZmZmZmYOQDMzMzMzMwtAMzMzMzMzC0AzMzMzMzMLQDMzMzMzMwtAAAAAAAAACEDNzMzMzMwMQM3MzMzMzAxAMzMzMzMzE0AAAAAAAAAIQM3MzMzMzAxAAAAAAAAACEAAAAAAAAAIQDMzMzMzMxNAMzMzMzMzE0AzMzMzMzMTQDMzMzMzMxNAAAAAAAAACEAAAAAAAAAIQAAAAAAAAAhAAAAAAAAACEAAAAAAAAAIQAAAAAAAAAhAAAAAAAAACEAAAAAAAAAIQAAAAAAAAAhAAAAAAAAACEAAAAAAAAAIQAAAAAAAAAhAAAAAAAAACEAAAAAAAAAIQAAAAAAAAAhAAAAAAAAACEAAAAAAAAAIQAAAAAAAAAhAAAAAAAAACEAAAAAAAAAIQGZmZmZmZg5AZmZmZmZmDkBmZmZmZmYOQGZmZmZmZg5AAAAAAAAAAEAAAAAAAAAAQAAAAAAAAARAAAAAAAAABEDNzMzMzMwMQM3MzMzMzAxAzczMzMzMDEDNzMzMzMwMQDMzMzMzMxNAMzMzMzMzE0AAAAAAAAAAQAAAAAAAAABAAAAAAAAABEAAAAAAAAAEQAAAAAAAAABAAAAAAAAACEAAAAAAAAAIQM3MzMzMzAxAAAAAAAAACEAAAAAAAAAIQAAAAAAAAAhAAAAAAAAACEAAAAAAAAAIQAAAAAAAAAhAAAAAAAAACEAAAAAAAAAIQAAAAAAAAAhAAAAAAAAACEAAAAAAAAAIQAAAAAAAAAhAAAAAAAAACEAAAAAAAAAIQAAAAAAAAAhAAAAAAAAACEAAAAAAAAAIQAAAAAAAAAhAAAAAAAAACEAAAAAAAAAIQAAAAAAAAAhAAAAAAAAACEAAAAAAAAAIQAAAAAAAAAhAAAAAAAAAEEAAAAAAAAAQQAAAAAAAAAhAAAAAAAAACEAAAAAAAAAIQAAAAAAAAAhAAAAAAAAACEAAAAAAAAAIQGZmZmZmZg5AZmZmZmZmDkBmZmZmZmYOQGZmZmZmZg5AZmZmZmZmDkAAAAAAAAAAQAAAAAAAAABAAAAAAAAABEAAAAAAAAAEQAAAAAAAAARAAAAAAAAABEDNzMzMzMwMQM3MzMzMzAxAzczMzMzMDEDNzMzMzMwMQDMzMzMzMxNAMzMzMzMzE0AAAAAAAAAAQAAAAAAAAABAAAAAAAAABEAAAAAAAAAEQAAAAAAAAARAAAAAAAAABEAAAAAAAAAAQAAAAAAAAAhAAAAAAAAACEDNzMzMzMwMQM3MzMzMzAxAAAAAAAAACEAAAAAAAAAIQAAAAAAAAAhAAAAAAAAACEAzMzMzMzMHQDMzMzMzMwdAMzMzMzMzB0AAAAAAAAAQQAAAAAAAABBAAAAAAAAAEEAAAAAAAAAIQAAAAAAAAAhAAAAAAAAACEAAAAAAAAAIQAAAAAAAAAhAAAAAAAAACEAAAAAAAAAIQAAAAAAAAAhAAAAAAAAACEAAAAAAAAAIQAAAAAAAAAhAAAAAAAAACEAAAAAAAAAIQAAAAAAAAAhAAAAAAAAACEAAAAAAAAAIQAAAAAAAAAhAAAAAAAAACEAAAAAAAAAIQAAAAAAAAAhAAAAAAAAACEAAAAAAAAAIQAAAAAAAAAhAAAAAAAAACEAAAAAAAAAIQAAAAAAAAAhAZmZmZmZmDkAAAAAAAAAQQAAAAAAAABBAAAAAAAAAEEAAAAAAAAAQQAAAAAAAABBAAAAAAAAACEAAAAAAAAAIQAAAAAAAAAhAAAAAAAAACEAAAAAAAAAIQAAAAAAAAAhAZmZmZmZmDkBmZmZmZmYOQGZmZmZmZg5AZmZmZmZmDkBmZmZmZmYOQAAAAAAAAABAAAAAAAAAAEAAAAAAAAAEQAAAAAAAAARAAAAAAAAABEAAAAAAAAAEQAAAAAAAAAhAMzMzMzMzB0AAAAAAAAAQQAAAAAAAAABAAAAAAAAAAEAAAAAAAAAEQAAAAAAAAARAAAAAAAAABEAAAAAAAAAEQAAAAAAAAABAAAAAAAAACEAAAAAAAAAIQAAAAAAAAAhAAAAAAAAACEAAAAAAAAAIQDMzMzMzMwdAMzMzMzMzB0AzMzMzMzMHQAAAAAAAABBAAAAAAAAAEEAAAAAAAAAQQAAAAAAAABBAAAAAAAAAEEAAAAAAAAAIQAAAAAAAAAhAAAAAAAAACEAAAAAAAAAIQAAAAAAAAAhAMzMzMzMzB0AAAAAAAAAQQAAAAAAAAABAAAAAAAAACEAAAAAAAAAIQAAAAAAAAAhAAAAAAAAACEAAAAAAAAAIQDMzMzMzMwdAMzMzMzMzB0AzMzMzMzMHQAAAAAAAABBAAAAAAAAAEEAAAAAAAAAQQAAAAAAAABBAAAAAAAAAEEA=",
          "dtype": "f8"
         },
         "xaxis": "x",
         "y": {
          "bdata": "6AD2AO0A9gDyAP0A+AD9AP0AAgHoAPYA9AD4APYA+wBCARIBEgESARIB1ADkAOEA7wAiATkBFQFSATYB+wBGAWYB1ADkAOEA7wD7AP8ABAEIASQBBAEmASkB6AD0AOgA9gDrAPYA8gD7AP8ABAEGAQsB9gD9AP0AAgH9AAIB/wALAfIA9gD0APsAQgH4AP8AAgEGARIBEgESARIB1ADkANoA9gDhAO8AFQEeAUcB1ADkANoA9gDhAO8AGQEbAfsA/wAGAQgBJAEGASYBKQEmASkB7gD5AOwA+wADAQYBBAEQAfUA/AD6AP8A8AD7APYAAQEEAQkBDAEQAfsAAgEBAQYBSQFOAf0ABQEEAQsBFgEWARYBFgHZAOgA3gD6AOYA9QAQARUBDgEsAR4BTgFQAdkA6AAVAd4A+gDmAPUAHQEfAf8AKgELAQYBCwEPASwBLwEsAS8B3QDtAOMA8QDiAPIA5ADzAOEA8gDmAPYA6ADzAOcA9gDkAPYA6QD2AAoBCwEKAQsB2wDlAOYA+QAMARkBGQEoAU4BTgHbAOUA5gD5APgAHQEfAR8B3QDtAOMA8QDzAAQB+QACAeIA8gDkAPMA4QDyAOYA9gD4AAEB+gAEAegA8wDnAPYARAFgAeQA9gD7AAoB6QD2AAoBCwEKAQsBHQHbAOUA+QABAeYA+QAMASgBGQEZAU4BTgHbAOUA+QABAeYA+QD4AB8BHQEfAR4B5QDrAOsA8gDrAOsA+QAFAQUBFwHdAO0A4wDxAPMABAH5AAIB4gDyAOQA8wD4AB4B4QDyAOYA9gD4AAEB+gAEAegA8wDnAPYAOwFEAWABTwFOAV4B5AD2APsACgHpAPYACgELAQoBCwEpAdsA5QD5AAEB5wD5AAkBEwFJAdsA5QD5AAEB5wD5AAgBEAH6AP0A/QD6AAUBBQERAScBOQEFAQUBFwEPARABFQEVAQ0BFgFJAQgBEAH6AP0A/QD6AAUBBQERAScBOQEFAQUBFwE=",
          "dtype": "i2"
         },
         "yaxis": "y"
        },
        {
         "customdata": [
          [
           "4RUNNER (Part-Time 4WD)",
           "SUV - STANDARD"
          ],
          [
           "4RUNNER 4WD",
           "SUV - STANDARD"
          ],
          [
           "AVALON",
           "MID-SIZE"
          ],
          [
           "CAMRY",
           "MID-SIZE"
          ],
          [
           "CAMRY",
           "MID-SIZE"
          ],
          [
           "CAMRY HYBRID LE",
           "MID-SIZE"
          ],
          [
           "CAMRY HYBRID XLE/SE",
           "MID-SIZE"
          ],
          [
           "COROLLA",
           "MID-SIZE"
          ],
          [
           "COROLLA",
           "MID-SIZE"
          ],
          [
           "COROLLA",
           "MID-SIZE"
          ],
          [
           "COROLLA",
           "MID-SIZE"
          ],
          [
           "COROLLA LE ECO (1-mode)",
           "MID-SIZE"
          ],
          [
           "COROLLA LE ECO (2-mode)",
           "MID-SIZE"
          ],
          [
           "COROLLA MATRIX",
           "STATION WAGON - SMALL"
          ],
          [
           "COROLLA MATRIX",
           "STATION WAGON - SMALL"
          ],
          [
           "FJ CRUISER 4WD",
           "SUV - SMALL"
          ],
          [
           "FJ CRUISER 4WD",
           "SUV - SMALL"
          ],
          [
           "HIGHLANDER",
           "SUV - SMALL"
          ],
          [
           "HIGHLANDER",
           "SUV - SMALL"
          ],
          [
           "HIGHLANDER AWD",
           "SUV - STANDARD"
          ],
          [
           "HIGHLANDER HYBRID AWD",
           "SUV - STANDARD"
          ],
          [
           "HIGHLANDER HYBRID AWD LE",
           "SUV - STANDARD"
          ],
          [
           "PRIUS",
           "MID-SIZE"
          ],
          [
           "PRIUS c",
           "COMPACT"
          ],
          [
           "PRIUS v",
           "STATION WAGON - MID-SIZE"
          ],
          [
           "RAV4",
           "SUV - SMALL"
          ],
          [
           "RAV4 AWD",
           "SUV - SMALL"
          ],
          [
           "RAV4 LIMITED AWD",
           "SUV - SMALL"
          ],
          [
           "SEQUOIA 4WD",
           "SUV - STANDARD"
          ],
          [
           "SIENNA",
           "MINIVAN"
          ],
          [
           "SIENNA AWD",
           "MINIVAN"
          ],
          [
           "TACOMA",
           "PICKUP TRUCK - SMALL"
          ],
          [
           "TACOMA",
           "PICKUP TRUCK - SMALL"
          ],
          [
           "TACOMA",
           "PICKUP TRUCK - SMALL"
          ],
          [
           "TACOMA 4WD",
           "PICKUP TRUCK - SMALL"
          ],
          [
           "TACOMA 4WD",
           "PICKUP TRUCK - SMALL"
          ],
          [
           "TACOMA 4WD",
           "PICKUP TRUCK - SMALL"
          ],
          [
           "TACOMA 4WD",
           "PICKUP TRUCK - SMALL"
          ],
          [
           "TUNDRA",
           "PICKUP TRUCK - STANDARD"
          ],
          [
           "TUNDRA",
           "PICKUP TRUCK - STANDARD"
          ],
          [
           "TUNDRA",
           "PICKUP TRUCK - STANDARD"
          ],
          [
           "TUNDRA 4WD",
           "PICKUP TRUCK - STANDARD"
          ],
          [
           "TUNDRA 4WD",
           "PICKUP TRUCK - STANDARD"
          ],
          [
           "VENZA",
           "SUV - SMALL"
          ],
          [
           "VENZA",
           "SUV - SMALL"
          ],
          [
           "VENZA 4WD",
           "SUV - SMALL"
          ],
          [
           "VENZA 4WD",
           "SUV - SMALL"
          ],
          [
           "YARIS",
           "COMPACT"
          ],
          [
           "YARIS",
           "COMPACT"
          ],
          [
           "4RUNNER 4WD",
           "SUV - STANDARD"
          ],
          [
           "4RUNNER 4WD (Part-Time 4WD)",
           "SUV - STANDARD"
          ],
          [
           "AVALON",
           "MID-SIZE"
          ],
          [
           "CAMRY",
           "MID-SIZE"
          ],
          [
           "CAMRY",
           "MID-SIZE"
          ],
          [
           "CAMRY HYBRID LE",
           "MID-SIZE"
          ],
          [
           "CAMRY HYBRID XLE/SE",
           "MID-SIZE"
          ],
          [
           "COROLLA",
           "MID-SIZE"
          ],
          [
           "COROLLA",
           "MID-SIZE"
          ],
          [
           "COROLLA",
           "MID-SIZE"
          ],
          [
           "COROLLA",
           "MID-SIZE"
          ],
          [
           "COROLLA LE ECO (1-mode)",
           "MID-SIZE"
          ],
          [
           "COROLLA LE ECO (2-mode)",
           "MID-SIZE"
          ],
          [
           "HIGHLANDER",
           "SUV - SMALL"
          ],
          [
           "HIGHLANDER",
           "SUV - SMALL"
          ],
          [
           "HIGHLANDER AWD",
           "SUV - STANDARD"
          ],
          [
           "HIGHLANDER HYBRID AWD",
           "SUV - STANDARD"
          ],
          [
           "HIGHLANDER HYBRID AWD LE",
           "SUV - STANDARD"
          ],
          [
           "PRIUS",
           "MID-SIZE"
          ],
          [
           "PRIUS c",
           "COMPACT"
          ],
          [
           "PRIUS v",
           "STATION WAGON - MID-SIZE"
          ],
          [
           "RAV4",
           "SUV - SMALL"
          ],
          [
           "RAV4 AWD",
           "SUV - SMALL"
          ],
          [
           "RAV4 LE/XLE",
           "SUV - SMALL"
          ],
          [
           "RAV4 LIMITED AWD",
           "SUV - SMALL"
          ],
          [
           "SEQUOIA 4WD",
           "SUV - STANDARD"
          ],
          [
           "SIENNA",
           "MINIVAN"
          ],
          [
           "SIENNA AWD",
           "MINIVAN"
          ],
          [
           "TACOMA",
           "PICKUP TRUCK - SMALL"
          ],
          [
           "TACOMA",
           "PICKUP TRUCK - SMALL"
          ],
          [
           "TACOMA",
           "PICKUP TRUCK - SMALL"
          ],
          [
           "TACOMA 4WD",
           "PICKUP TRUCK - SMALL"
          ],
          [
           "TACOMA 4WD",
           "PICKUP TRUCK - SMALL"
          ],
          [
           "TACOMA 4WD",
           "PICKUP TRUCK - SMALL"
          ],
          [
           "TACOMA 4WD",
           "PICKUP TRUCK - SMALL"
          ],
          [
           "TUNDRA",
           "PICKUP TRUCK - STANDARD"
          ],
          [
           "TUNDRA",
           "PICKUP TRUCK - STANDARD"
          ],
          [
           "TUNDRA 4WD",
           "PICKUP TRUCK - STANDARD"
          ],
          [
           "TUNDRA 4WD",
           "PICKUP TRUCK - STANDARD"
          ],
          [
           "VENZA",
           "SUV - SMALL"
          ],
          [
           "VENZA",
           "SUV - SMALL"
          ],
          [
           "VENZA 4WD",
           "SUV - SMALL"
          ],
          [
           "VENZA 4WD",
           "SUV - SMALL"
          ],
          [
           "YARIS",
           "COMPACT"
          ],
          [
           "YARIS",
           "COMPACT"
          ],
          [
           "4RUNNER 4WD",
           "SUV - STANDARD"
          ],
          [
           "4RUNNER 4WD (Part-Time 4WD)",
           "SUV - STANDARD"
          ],
          [
           "AVALON",
           "MID-SIZE"
          ],
          [
           "CAMRY",
           "MID-SIZE"
          ],
          [
           "CAMRY",
           "MID-SIZE"
          ],
          [
           "CAMRY HYBRID LE",
           "MID-SIZE"
          ],
          [
           "CAMRY HYBRID XLE/SE",
           "MID-SIZE"
          ],
          [
           "COROLLA",
           "MID-SIZE"
          ],
          [
           "COROLLA",
           "MID-SIZE"
          ],
          [
           "COROLLA",
           "MID-SIZE"
          ],
          [
           "COROLLA",
           "MID-SIZE"
          ],
          [
           "COROLLA LE ECO (1-mode)",
           "MID-SIZE"
          ],
          [
           "COROLLA LE ECO (2-mode)",
           "MID-SIZE"
          ],
          [
           "HIGHLANDER",
           "SUV - SMALL"
          ],
          [
           "HIGHLANDER AWD",
           "SUV - STANDARD"
          ],
          [
           "HIGHLANDER HYBRID AWD",
           "SUV - STANDARD"
          ],
          [
           "HIGHLANDER HYBRID AWD LE",
           "SUV - STANDARD"
          ],
          [
           "PRIUS",
           "MID-SIZE"
          ],
          [
           "PRIUS c",
           "COMPACT"
          ],
          [
           "PRIUS v",
           "STATION WAGON - MID-SIZE"
          ],
          [
           "RAV4",
           "SUV - SMALL"
          ],
          [
           "RAV4 AWD",
           "SUV - SMALL"
          ],
          [
           "RAV4 HYBRID AWD",
           "SUV - SMALL"
          ],
          [
           "RAV4 LE/XLE",
           "SUV - SMALL"
          ],
          [
           "RAV4 LIMITED/SE AWD",
           "SUV - SMALL"
          ],
          [
           "SEQUOIA 4WD",
           "SUV - STANDARD"
          ],
          [
           "SIENNA",
           "MINIVAN"
          ],
          [
           "SIENNA AWD",
           "MINIVAN"
          ],
          [
           "TACOMA",
           "PICKUP TRUCK - SMALL"
          ],
          [
           "TACOMA",
           "PICKUP TRUCK - SMALL"
          ],
          [
           "TACOMA 4WD",
           "PICKUP TRUCK - SMALL"
          ],
          [
           "TACOMA 4WD",
           "PICKUP TRUCK - SMALL"
          ],
          [
           "TACOMA 4WD",
           "PICKUP TRUCK - SMALL"
          ],
          [
           "TACOMA 4WD",
           "PICKUP TRUCK - SMALL"
          ],
          [
           "TACOMA 4WD D-CAB OFF-ROAD",
           "PICKUP TRUCK - SMALL"
          ],
          [
           "TUNDRA",
           "PICKUP TRUCK - STANDARD"
          ],
          [
           "TUNDRA",
           "PICKUP TRUCK - STANDARD"
          ],
          [
           "TUNDRA 4WD",
           "PICKUP TRUCK - STANDARD"
          ],
          [
           "TUNDRA 4WD",
           "PICKUP TRUCK - STANDARD"
          ],
          [
           "VENZA",
           "SUV - SMALL"
          ],
          [
           "VENZA",
           "SUV - SMALL"
          ],
          [
           "VENZA 4WD",
           "SUV - SMALL"
          ],
          [
           "VENZA 4WD",
           "SUV - SMALL"
          ],
          [
           "YARIS",
           "COMPACT"
          ],
          [
           "YARIS (SIL)",
           "COMPACT"
          ],
          [
           "YARIS HATCHBACK",
           "COMPACT"
          ],
          [
           "YARIS HATCHBACK",
           "COMPACT"
          ],
          [
           "4RUNNER 4WD",
           "SUV - STANDARD"
          ],
          [
           "4RUNNER 4WD (Part-Time 4WD)",
           "SUV - STANDARD"
          ],
          [
           "86",
           "MINICOMPACT"
          ],
          [
           "86",
           "MINICOMPACT"
          ],
          [
           "AVALON",
           "MID-SIZE"
          ],
          [
           "CAMRY",
           "MID-SIZE"
          ],
          [
           "CAMRY",
           "MID-SIZE"
          ],
          [
           "CAMRY HYBRID LE",
           "MID-SIZE"
          ],
          [
           "CAMRY HYBRID XLE/SE",
           "MID-SIZE"
          ],
          [
           "COROLLA",
           "MID-SIZE"
          ],
          [
           "COROLLA",
           "MID-SIZE"
          ],
          [
           "COROLLA",
           "MID-SIZE"
          ],
          [
           "COROLLA LE ECO (1-mode)",
           "MID-SIZE"
          ],
          [
           "COROLLA LE ECO (2-mode)",
           "MID-SIZE"
          ],
          [
           "COROLLA iM",
           "MID-SIZE"
          ],
          [
           "COROLLA iM",
           "MID-SIZE"
          ],
          [
           "HIGHLANDER",
           "SUV - SMALL"
          ],
          [
           "HIGHLANDER AWD",
           "SUV - STANDARD"
          ],
          [
           "HIGHLANDER AWD (Start/Stop System)",
           "SUV - STANDARD"
          ],
          [
           "HIGHLANDER AWD LE",
           "SUV - STANDARD"
          ],
          [
           "HIGHLANDER HYBRID AWD",
           "SUV - STANDARD"
          ],
          [
           "PRIUS",
           "MID-SIZE"
          ],
          [
           "PRIUS c",
           "COMPACT"
          ],
          [
           "PRIUS v",
           "STATION WAGON - MID-SIZE"
          ],
          [
           "RAV4",
           "SUV - SMALL"
          ],
          [
           "RAV4 LE/XLE",
           "SUV - SMALL"
          ],
          [
           "RAV4 AWD",
           "SUV - SMALL"
          ],
          [
           "RAV4 LIMITED/SE AWD",
           "SUV - SMALL"
          ],
          [
           "RAV4 HYBRID AWD",
           "SUV - SMALL"
          ],
          [
           "SEQUOIA 4WD",
           "SUV - STANDARD"
          ],
          [
           "SIENNA",
           "MINIVAN"
          ],
          [
           "SIENNA AWD",
           "MINIVAN"
          ],
          [
           "TACOMA",
           "PICKUP TRUCK - SMALL"
          ],
          [
           "TACOMA",
           "PICKUP TRUCK - SMALL"
          ],
          [
           "TACOMA 4WD",
           "PICKUP TRUCK - SMALL"
          ],
          [
           "TACOMA 4WD",
           "PICKUP TRUCK - SMALL"
          ],
          [
           "TACOMA 4WD",
           "PICKUP TRUCK - SMALL"
          ],
          [
           "TACOMA 4WD",
           "PICKUP TRUCK - SMALL"
          ],
          [
           "TACOMA 4WD D-CAB OFF-ROAD",
           "PICKUP TRUCK - SMALL"
          ],
          [
           "TUNDRA",
           "PICKUP TRUCK - STANDARD"
          ],
          [
           "TUNDRA",
           "PICKUP TRUCK - STANDARD"
          ],
          [
           "TUNDRA 4WD",
           "PICKUP TRUCK - STANDARD"
          ],
          [
           "TUNDRA 4WD",
           "PICKUP TRUCK - STANDARD"
          ],
          [
           "YARIS",
           "COMPACT"
          ],
          [
           "YARIS (SIL)",
           "COMPACT"
          ],
          [
           "YARIS HATCHBACK",
           "COMPACT"
          ],
          [
           "YARIS HATCHBACK",
           "COMPACT"
          ],
          [
           "4RUNNER 4WD",
           "SUV - STANDARD"
          ],
          [
           "4RUNNER 4WD (Part-Time 4WD)",
           "SUV - STANDARD"
          ],
          [
           "86",
           "MINICOMPACT"
          ],
          [
           "86",
           "MINICOMPACT"
          ],
          [
           "AVALON",
           "MID-SIZE"
          ],
          [
           "CAMRY",
           "MID-SIZE"
          ],
          [
           "CAMRY LE/SE",
           "MID-SIZE"
          ],
          [
           "CAMRY XLE/XSE",
           "MID-SIZE"
          ],
          [
           "CAMRY",
           "MID-SIZE"
          ],
          [
           "CAMRY XSE",
           "MID-SIZE"
          ],
          [
           "CAMRY HYBRID LE",
           "MID-SIZE"
          ],
          [
           "CAMRY HYBRID XLE/SE",
           "MID-SIZE"
          ],
          [
           "C-HR",
           "COMPACT"
          ],
          [
           "COROLLA",
           "MID-SIZE"
          ],
          [
           "COROLLA",
           "MID-SIZE"
          ],
          [
           "COROLLA",
           "MID-SIZE"
          ],
          [
           "COROLLA LE ECO (1-mode)",
           "MID-SIZE"
          ],
          [
           "COROLLA LE ECO (2-mode)",
           "MID-SIZE"
          ],
          [
           "COROLLA iM",
           "MID-SIZE"
          ],
          [
           "COROLLA iM",
           "MID-SIZE"
          ],
          [
           "HIGHLANDER",
           "SUV - SMALL"
          ],
          [
           "HIGHLANDER AWD",
           "SUV - STANDARD"
          ],
          [
           "HIGHLANDER AWD (Start/Stop System)",
           "SUV - STANDARD"
          ],
          [
           "HIGHLANDER AWD LE",
           "SUV - STANDARD"
          ],
          [
           "HIGHLANDER HYBRID AWD",
           "SUV - STANDARD"
          ],
          [
           "PRIUS",
           "MID-SIZE"
          ],
          [
           "PRIUS c",
           "COMPACT"
          ],
          [
           "PRIUS v",
           "STATION WAGON - MID-SIZE"
          ],
          [
           "RAV4 LE/XLE",
           "SUV - SMALL"
          ],
          [
           "RAV4 AWD",
           "SUV - SMALL"
          ],
          [
           "RAV4 LIMITED/SE AWD",
           "SUV - SMALL"
          ],
          [
           "RAV4 HYBRID AWD",
           "SUV - SMALL"
          ],
          [
           "SEQUOIA 4WD",
           "SUV - STANDARD"
          ],
          [
           "SIENNA",
           "MINIVAN"
          ],
          [
           "SIENNA AWD",
           "MINIVAN"
          ],
          [
           "TACOMA",
           "PICKUP TRUCK - SMALL"
          ],
          [
           "TACOMA",
           "PICKUP TRUCK - SMALL"
          ],
          [
           "TACOMA 4WD",
           "PICKUP TRUCK - SMALL"
          ],
          [
           "TACOMA 4WD",
           "PICKUP TRUCK - SMALL"
          ],
          [
           "TACOMA 4WD",
           "PICKUP TRUCK - SMALL"
          ],
          [
           "TACOMA 4WD D-CAB OFF-ROAD",
           "PICKUP TRUCK - SMALL"
          ],
          [
           "TUNDRA",
           "PICKUP TRUCK - STANDARD"
          ],
          [
           "TUNDRA 4WD",
           "PICKUP TRUCK - STANDARD"
          ],
          [
           "TUNDRA 4WD",
           "PICKUP TRUCK - STANDARD"
          ],
          [
           "YARIS",
           "COMPACT"
          ],
          [
           "YARIS (SIL)",
           "COMPACT"
          ],
          [
           "YARIS HATCHBACK",
           "COMPACT"
          ],
          [
           "YARIS HATCHBACK",
           "COMPACT"
          ],
          [
           "4Runner 4WD",
           "SUV - STANDARD"
          ],
          [
           "4Runner 4WD (Part-Time 4WD)",
           "SUV - STANDARD"
          ],
          [
           "86",
           "MINICOMPACT"
          ],
          [
           "86",
           "MINICOMPACT"
          ],
          [
           "Avalon",
           "MID-SIZE"
          ],
          [
           "Camry",
           "MID-SIZE"
          ],
          [
           "Camry LE/SE",
           "MID-SIZE"
          ],
          [
           "Camry XLE/XSE",
           "MID-SIZE"
          ],
          [
           "Camry",
           "MID-SIZE"
          ],
          [
           "Camry XSE",
           "MID-SIZE"
          ],
          [
           "Camry Hybrid LE",
           "MID-SIZE"
          ],
          [
           "Camry Hybrid XLE/SE",
           "MID-SIZE"
          ],
          [
           "C-HR",
           "COMPACT"
          ],
          [
           "Corolla",
           "MID-SIZE"
          ],
          [
           "Corolla",
           "MID-SIZE"
          ],
          [
           "Corolla",
           "MID-SIZE"
          ],
          [
           "Corolla LE Eco",
           "MID-SIZE"
          ],
          [
           "Corolla Hatchback",
           "COMPACT"
          ],
          [
           "Corolla Hatchback",
           "COMPACT"
          ],
          [
           "Highlander",
           "SUV - SMALL"
          ],
          [
           "Highlander AWD",
           "SUV - STANDARD"
          ],
          [
           "Highlander AWD (Start/Stop System)",
           "SUV - STANDARD"
          ],
          [
           "Highlander AWD LE",
           "SUV - STANDARD"
          ],
          [
           "Highlander Hybrid AWD",
           "SUV - STANDARD"
          ],
          [
           "Prius",
           "MID-SIZE"
          ],
          [
           "Prius AWD",
           "MID-SIZE"
          ],
          [
           "Prius c",
           "COMPACT"
          ],
          [
           "RAV4",
           "SUV - SMALL"
          ],
          [
           "RAV4 AWD",
           "SUV - SMALL"
          ],
          [
           "RAV4 Hybrid AWD",
           "SUV - SMALL"
          ],
          [
           "Sequoia 4WD",
           "SUV - STANDARD"
          ],
          [
           "Sienna",
           "MINIVAN"
          ],
          [
           "Sienna AWD",
           "MINIVAN"
          ],
          [
           "Tacoma",
           "PICKUP TRUCK - SMALL"
          ],
          [
           "Tacoma 4WD",
           "PICKUP TRUCK - SMALL"
          ],
          [
           "Tacoma 4WD",
           "PICKUP TRUCK - SMALL"
          ],
          [
           "Tacoma 4WD",
           "PICKUP TRUCK - SMALL"
          ],
          [
           "Tacoma 4WD D-Cab Off-Road",
           "PICKUP TRUCK - SMALL"
          ],
          [
           "Tundra",
           "PICKUP TRUCK - STANDARD"
          ],
          [
           "Tundra 4WD",
           "PICKUP TRUCK - STANDARD"
          ],
          [
           "Tundra 4WD",
           "PICKUP TRUCK - STANDARD"
          ],
          [
           "Yaris",
           "COMPACT"
          ],
          [
           "Yaris (SIL)",
           "COMPACT"
          ],
          [
           "Yaris Hatchback",
           "COMPACT"
          ],
          [
           "Yaris Hatchback",
           "COMPACT"
          ],
          [
           "4Runner 4WD",
           "SUV - STANDARD"
          ],
          [
           "4Runner 4WD (Part-Time 4WD)",
           "SUV - STANDARD"
          ],
          [
           "86",
           "MINICOMPACT"
          ],
          [
           "86",
           "MINICOMPACT"
          ],
          [
           "Avalon",
           "MID-SIZE"
          ],
          [
           "C-HR",
           "COMPACT"
          ],
          [
           "Camry",
           "MID-SIZE"
          ],
          [
           "Camry LE/SE",
           "MID-SIZE"
          ],
          [
           "Camry XLE/XSE",
           "MID-SIZE"
          ],
          [
           "Camry",
           "MID-SIZE"
          ],
          [
           "Camry XSE",
           "MID-SIZE"
          ],
          [
           "Camry TRD",
           "MID-SIZE"
          ],
          [
           "Camry AWD LE/SE",
           "MID-SIZE"
          ],
          [
           "Camry AWD XLE/XSE",
           "MID-SIZE"
          ],
          [
           "Camry Hybrid LE",
           "MID-SIZE"
          ],
          [
           "Camry Hybrid XLE/SE",
           "MID-SIZE"
          ],
          [
           "Corolla",
           "COMPACT"
          ],
          [
           "Corolla XLE",
           "COMPACT"
          ],
          [
           "Corolla",
           "COMPACT"
          ],
          [
           "Corolla",
           "COMPACT"
          ],
          [
           "Corolla XSE",
           "COMPACT"
          ],
          [
           "Corolla",
           "COMPACT"
          ],
          [
           "Corolla Hatchback",
           "COMPACT"
          ],
          [
           "Corolla Hatchback",
           "COMPACT"
          ],
          [
           "Corolla Hybrid",
           "COMPACT"
          ],
          [
           "GR Supra",
           "TWO-SEATER"
          ],
          [
           "Highlander",
           "SUV - SMALL"
          ],
          [
           "Highlander AWD",
           "SUV - SMALL"
          ],
          [
           "Highlander Hybrid AWD",
           "SUV - STANDARD"
          ],
          [
           "Highlander Hybrid AWD Limited/Platinum",
           "SUV - STANDARD"
          ],
          [
           "Prius",
           "MID-SIZE"
          ],
          [
           "Prius AWD",
           "MID-SIZE"
          ],
          [
           "Prius c",
           "COMPACT"
          ],
          [
           "RAV4",
           "SUV - SMALL"
          ],
          [
           "RAV4 AWD",
           "SUV - SMALL"
          ],
          [
           "RAV4 AWD TRD Off-Road",
           "SUV - SMALL"
          ],
          [
           "RAV4 Hybrid AWD",
           "SUV - SMALL"
          ],
          [
           "Sequoia 4WD",
           "SUV - STANDARD"
          ],
          [
           "Sienna",
           "MINIVAN"
          ],
          [
           "Sienna AWD",
           "MINIVAN"
          ],
          [
           "Tacoma",
           "PICKUP TRUCK - SMALL"
          ],
          [
           "Tacoma 4WD",
           "PICKUP TRUCK - SMALL"
          ],
          [
           "Tacoma 4WD",
           "PICKUP TRUCK - SMALL"
          ],
          [
           "Tacoma 4WD",
           "PICKUP TRUCK - SMALL"
          ],
          [
           "Tacoma 4WD D-Cab TRD Off-Road/Pro",
           "PICKUP TRUCK - SMALL"
          ],
          [
           "Tundra",
           "PICKUP TRUCK - STANDARD"
          ],
          [
           "Tundra 4WD",
           "PICKUP TRUCK - STANDARD"
          ],
          [
           "Yaris",
           "COMPACT"
          ],
          [
           "Yaris (SIL)",
           "COMPACT"
          ]
         ],
         "hovertemplate": "Make=TOYOTA<br>Engine Size(L)=%{x}<br>CO2 Emissions(g/km)=%{y}<br>Fuel Consumption Comb (mpg)=%{marker.size}<br>Model=%{customdata[0]}<br>Vehicle Class=%{customdata[1]}<extra></extra>",
         "legendgroup": "TOYOTA",
         "marker": {
          "color": "#FECB52",
          "size": {
           "bdata": "FhYdIh0yLyUnKCYqKSEiFhQbGRkiIjs8MyAeHhEZFxocFhgYFRQVFBITERwaHBknKBYWHSIeMjAlKCcmKikaGRghIjw7MiAeIB0RGRcZGxYXFxUUFBMTERsaGxknKBYWHSIeMjAlJygmKikZGCEiPzwyHx4nIB4RGRcZGRgYGBcWFBITERsaGxksKicoFRUgHR0hHTAvJiYmKScmJBsbGxsiPzcxHx8eHScRGhgZGRgYGBYWFBITESsqJicVFSAdHSknJh8fOjciJiYlKScmJBsbGxsiPzcxHx4dJxEaGBkZGBcWFhITESsqJicVFSAdHikmJh8fOjciJiUlKSomGxsbGyJAPDckIi8RGhgZGBgWFhITESsqJicUFCAdHiIpJiUfHx4iIjo3KCcoKigmKiY/IBsbKio/PDckIiEvERoYGRgYFhYSESsp",
           "dtype": "i1"
          },
          "sizemode": "area",
          "sizeref": 0.28444444444444444,
          "symbol": "circle"
         },
         "mode": "markers",
         "name": "TOYOTA",
         "showlegend": true,
         "type": "scattergl",
         "x": {
          "bdata": "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",
          "dtype": "f8"
         },
         "xaxis": "x",
         "y": {
          "bdata": "KQEpAd0AvQDdAIMAigCxAKgAowCqAJwAnwDEAL0AKQFAAe0AAgEIAb8AvQBuAGwAfgDNANgA2gCAAQQBHQH7AOsALQESAQ8BMgFCATYBSQFkAVsBdQHmAP0A6wAEAagAowAmASYB3QDBANoAgwCIAK8AowCoAKoAnACfAPYA/wALAcQAwQBsAG4AgQDNANoAzQDdAH4BBgEgAQIB8gAtARsBGwE0AUIBSQFeAVsBfgHvAPsA8gAEAagAowAqASoB4QDAAN4AhgCJALMAqwCmAK4AoACiAAQBEAHGAMMAaABvAIMA1ADcAKkA0ADcAH4BCwEiAQUBCwESARcBGAEkASwBTwFoAV8BfAH0AAAB8QAHAZcAnQCqAKUANgE2AcwA6ADiAMcA4ACJAI0ArgCyALAAowCoALAAuQDzAPsA9wDyAMEAaQB4AIcA2QDSAN4A4gCqAHwB/wASAQcBDAESARcBGwEtASwBTgFmAV0BegGbAKQArQCoADQBNAHMAOgA4gCkAKwArQDSANcAcQB5AL0ArgCyALIAowCoALAAuQDzAPsA9wDyAMEAaQB4AIcA0gDeAOIAqwCAAQABEgEHAQwBEgEbASsBLAFzAWIBfwGbAKQArQCoADQBNAHMAOgA3ACkAK0ArwDSANcAcQB5AL0ArgCyALIAowCdAK4A8wD6APgA8gDBAGkAbQB4ALcAvgCMAIAB/gASAQcBEgEWASsBLAFzAWIBfgGbAKQArQCpAEEBQQHMAOgA3AC9AKQArQCxANIA1wDcAL4AxQBxAHkApQCqAKUAngCkAK0AngCuAGoA0ADwAPAAngCcAGoAbQB4ALgAwgDIAIsAgQEDARIBBwESARYBKwEsAXMBfQGbAKUA",
          "dtype": "i2"
         },
         "yaxis": "y"
        }
       ],
       "layout": {
        "annotations": [
         {
          "showarrow": false,
          "text": "친환경 기준 (200g/km)",
          "x": 1,
          "xanchor": "right",
          "xref": "x domain",
          "y": 200,
          "yanchor": "bottom",
          "yref": "y"
         }
        ],
        "height": 500,
        "legend": {
         "itemsizing": "constant",
         "title": {
          "text": "Make"
         },
         "tracegroupgap": 0
        },
        "shapes": [
         {
          "line": {
           "color": "red",
           "dash": "dash"
          },
          "type": "line",
          "x0": 0,
          "x1": 1,
          "xref": "x domain",
          "y0": 200,
          "y1": 200,
          "yref": "y"
         }
        ],
        "template": {
         "data": {
          "bar": [
           {
            "error_x": {
             "color": "#2a3f5f"
            },
            "error_y": {
             "color": "#2a3f5f"
            },
            "marker": {
             "line": {
              "color": "#E5ECF6",
              "width": 0.5
             },
             "pattern": {
              "fillmode": "overlay",
              "size": 10,
              "solidity": 0.2
             }
            },
            "type": "bar"
           }
          ],
          "barpolar": [
           {
            "marker": {
             "line": {
              "color": "#E5ECF6",
              "width": 0.5
             },
             "pattern": {
              "fillmode": "overlay",
              "size": 10,
              "solidity": 0.2
             }
            },
            "type": "barpolar"
           }
          ],
          "carpet": [
           {
            "aaxis": {
             "endlinecolor": "#2a3f5f",
             "gridcolor": "white",
             "linecolor": "white",
             "minorgridcolor": "white",
             "startlinecolor": "#2a3f5f"
            },
            "baxis": {
             "endlinecolor": "#2a3f5f",
             "gridcolor": "white",
             "linecolor": "white",
             "minorgridcolor": "white",
             "startlinecolor": "#2a3f5f"
            },
            "type": "carpet"
           }
          ],
          "choropleth": [
           {
            "colorbar": {
             "outlinewidth": 0,
             "ticks": ""
            },
            "type": "choropleth"
           }
          ],
          "contour": [
           {
            "colorbar": {
             "outlinewidth": 0,
             "ticks": ""
            },
            "colorscale": [
             [
              0,
              "#0d0887"
             ],
             [
              0.1111111111111111,
              "#46039f"
             ],
             [
              0.2222222222222222,
              "#7201a8"
             ],
             [
              0.3333333333333333,
              "#9c179e"
             ],
             [
              0.4444444444444444,
              "#bd3786"
             ],
             [
              0.5555555555555556,
              "#d8576b"
             ],
             [
              0.6666666666666666,
              "#ed7953"
             ],
             [
              0.7777777777777778,
              "#fb9f3a"
             ],
             [
              0.8888888888888888,
              "#fdca26"
             ],
             [
              1,
              "#f0f921"
             ]
            ],
            "type": "contour"
           }
          ],
          "contourcarpet": [
           {
            "colorbar": {
             "outlinewidth": 0,
             "ticks": ""
            },
            "type": "contourcarpet"
           }
          ],
          "heatmap": [
           {
            "colorbar": {
             "outlinewidth": 0,
             "ticks": ""
            },
            "colorscale": [
             [
              0,
              "#0d0887"
             ],
             [
              0.1111111111111111,
              "#46039f"
             ],
             [
              0.2222222222222222,
              "#7201a8"
             ],
             [
              0.3333333333333333,
              "#9c179e"
             ],
             [
              0.4444444444444444,
              "#bd3786"
             ],
             [
              0.5555555555555556,
              "#d8576b"
             ],
             [
              0.6666666666666666,
              "#ed7953"
             ],
             [
              0.7777777777777778,
              "#fb9f3a"
             ],
             [
              0.8888888888888888,
              "#fdca26"
             ],
             [
              1,
              "#f0f921"
             ]
            ],
            "type": "heatmap"
           }
          ],
          "histogram": [
           {
            "marker": {
             "pattern": {
              "fillmode": "overlay",
              "size": 10,
              "solidity": 0.2
             }
            },
            "type": "histogram"
           }
          ],
          "histogram2d": [
           {
            "colorbar": {
             "outlinewidth": 0,
             "ticks": ""
            },
            "colorscale": [
             [
              0,
              "#0d0887"
             ],
             [
              0.1111111111111111,
              "#46039f"
             ],
             [
              0.2222222222222222,
              "#7201a8"
             ],
             [
              0.3333333333333333,
              "#9c179e"
             ],
             [
              0.4444444444444444,
              "#bd3786"
             ],
             [
              0.5555555555555556,
              "#d8576b"
             ],
             [
              0.6666666666666666,
              "#ed7953"
             ],
             [
              0.7777777777777778,
              "#fb9f3a"
             ],
             [
              0.8888888888888888,
              "#fdca26"
             ],
             [
              1,
              "#f0f921"
             ]
            ],
            "type": "histogram2d"
           }
          ],
          "histogram2dcontour": [
           {
            "colorbar": {
             "outlinewidth": 0,
             "ticks": ""
            },
            "colorscale": [
             [
              0,
              "#0d0887"
             ],
             [
              0.1111111111111111,
              "#46039f"
             ],
             [
              0.2222222222222222,
              "#7201a8"
             ],
             [
              0.3333333333333333,
              "#9c179e"
             ],
             [
              0.4444444444444444,
              "#bd3786"
             ],
             [
              0.5555555555555556,
              "#d8576b"
             ],
             [
              0.6666666666666666,
              "#ed7953"
             ],
             [
              0.7777777777777778,
              "#fb9f3a"
             ],
             [
              0.8888888888888888,
              "#fdca26"
             ],
             [
              1,
              "#f0f921"
             ]
            ],
            "type": "histogram2dcontour"
           }
          ],
          "mesh3d": [
           {
            "colorbar": {
             "outlinewidth": 0,
             "ticks": ""
            },
            "type": "mesh3d"
           }
          ],
          "parcoords": [
           {
            "line": {
             "colorbar": {
              "outlinewidth": 0,
              "ticks": ""
             }
            },
            "type": "parcoords"
           }
          ],
          "pie": [
           {
            "automargin": true,
            "type": "pie"
           }
          ],
          "scatter": [
           {
            "fillpattern": {
             "fillmode": "overlay",
             "size": 10,
             "solidity": 0.2
            },
            "type": "scatter"
           }
          ],
          "scatter3d": [
           {
            "line": {
             "colorbar": {
              "outlinewidth": 0,
              "ticks": ""
             }
            },
            "marker": {
             "colorbar": {
              "outlinewidth": 0,
              "ticks": ""
             }
            },
            "type": "scatter3d"
           }
          ],
          "scattercarpet": [
           {
            "marker": {
             "colorbar": {
              "outlinewidth": 0,
              "ticks": ""
             }
            },
            "type": "scattercarpet"
           }
          ],
          "scattergeo": [
           {
            "marker": {
             "colorbar": {
              "outlinewidth": 0,
              "ticks": ""
             }
            },
            "type": "scattergeo"
           }
          ],
          "scattergl": [
           {
            "marker": {
             "colorbar": {
              "outlinewidth": 0,
              "ticks": ""
             }
            },
            "type": "scattergl"
           }
          ],
          "scattermap": [
           {
            "marker": {
             "colorbar": {
              "outlinewidth": 0,
              "ticks": ""
             }
            },
            "type": "scattermap"
           }
          ],
          "scattermapbox": [
           {
            "marker": {
             "colorbar": {
              "outlinewidth": 0,
              "ticks": ""
             }
            },
            "type": "scattermapbox"
           }
          ],
          "scatterpolar": [
           {
            "marker": {
             "colorbar": {
              "outlinewidth": 0,
              "ticks": ""
             }
            },
            "type": "scatterpolar"
           }
          ],
          "scatterpolargl": [
           {
            "marker": {
             "colorbar": {
              "outlinewidth": 0,
              "ticks": ""
             }
            },
            "type": "scatterpolargl"
           }
          ],
          "scatterternary": [
           {
            "marker": {
             "colorbar": {
              "outlinewidth": 0,
              "ticks": ""
             }
            },
            "type": "scatterternary"
           }
          ],
          "surface": [
           {
            "colorbar": {
             "outlinewidth": 0,
             "ticks": ""
            },
            "colorscale": [
             [
              0,
              "#0d0887"
             ],
             [
              0.1111111111111111,
              "#46039f"
             ],
             [
              0.2222222222222222,
              "#7201a8"
             ],
             [
              0.3333333333333333,
              "#9c179e"
             ],
             [
              0.4444444444444444,
              "#bd3786"
             ],
             [
              0.5555555555555556,
              "#d8576b"
             ],
             [
              0.6666666666666666,
              "#ed7953"
             ],
             [
              0.7777777777777778,
              "#fb9f3a"
             ],
             [
              0.8888888888888888,
              "#fdca26"
             ],
             [
              1,
              "#f0f921"
             ]
            ],
            "type": "surface"
           }
          ],
          "table": [
           {
            "cells": {
             "fill": {
              "color": "#EBF0F8"
             },
             "line": {
              "color": "white"
             }
            },
            "header": {
             "fill": {
              "color": "#C8D4E3"
             },
             "line": {
              "color": "white"
             }
            },
            "type": "table"
           }
          ]
         },
         "layout": {
          "annotationdefaults": {
           "arrowcolor": "#2a3f5f",
           "arrowhead": 0,
           "arrowwidth": 1
          },
          "autotypenumbers": "strict",
          "coloraxis": {
           "colorbar": {
            "outlinewidth": 0,
            "ticks": ""
           }
          },
          "colorscale": {
           "diverging": [
            [
             0,
             "#8e0152"
            ],
            [
             0.1,
             "#c51b7d"
            ],
            [
             0.2,
             "#de77ae"
            ],
            [
             0.3,
             "#f1b6da"
            ],
            [
             0.4,
             "#fde0ef"
            ],
            [
             0.5,
             "#f7f7f7"
            ],
            [
             0.6,
             "#e6f5d0"
            ],
            [
             0.7,
             "#b8e186"
            ],
            [
             0.8,
             "#7fbc41"
            ],
            [
             0.9,
             "#4d9221"
            ],
            [
             1,
             "#276419"
            ]
           ],
           "sequential": [
            [
             0,
             "#0d0887"
            ],
            [
             0.1111111111111111,
             "#46039f"
            ],
            [
             0.2222222222222222,
             "#7201a8"
            ],
            [
             0.3333333333333333,
             "#9c179e"
            ],
            [
             0.4444444444444444,
             "#bd3786"
            ],
            [
             0.5555555555555556,
             "#d8576b"
            ],
            [
             0.6666666666666666,
             "#ed7953"
            ],
            [
             0.7777777777777778,
             "#fb9f3a"
            ],
            [
             0.8888888888888888,
             "#fdca26"
            ],
            [
             1,
             "#f0f921"
            ]
           ],
           "sequentialminus": [
            [
             0,
             "#0d0887"
            ],
            [
             0.1111111111111111,
             "#46039f"
            ],
            [
             0.2222222222222222,
             "#7201a8"
            ],
            [
             0.3333333333333333,
             "#9c179e"
            ],
            [
             0.4444444444444444,
             "#bd3786"
            ],
            [
             0.5555555555555556,
             "#d8576b"
            ],
            [
             0.6666666666666666,
             "#ed7953"
            ],
            [
             0.7777777777777778,
             "#fb9f3a"
            ],
            [
             0.8888888888888888,
             "#fdca26"
            ],
            [
             1,
             "#f0f921"
            ]
           ]
          },
          "colorway": [
           "#636efa",
           "#EF553B",
           "#00cc96",
           "#ab63fa",
           "#FFA15A",
           "#19d3f3",
           "#FF6692",
           "#B6E880",
           "#FF97FF",
           "#FECB52"
          ],
          "font": {
           "color": "#2a3f5f"
          },
          "geo": {
           "bgcolor": "white",
           "lakecolor": "white",
           "landcolor": "#E5ECF6",
           "showlakes": true,
           "showland": true,
           "subunitcolor": "white"
          },
          "hoverlabel": {
           "align": "left"
          },
          "hovermode": "closest",
          "mapbox": {
           "style": "light"
          },
          "paper_bgcolor": "white",
          "plot_bgcolor": "#E5ECF6",
          "polar": {
           "angularaxis": {
            "gridcolor": "white",
            "linecolor": "white",
            "ticks": ""
           },
           "bgcolor": "#E5ECF6",
           "radialaxis": {
            "gridcolor": "white",
            "linecolor": "white",
            "ticks": ""
           }
          },
          "scene": {
           "xaxis": {
            "backgroundcolor": "#E5ECF6",
            "gridcolor": "white",
            "gridwidth": 2,
            "linecolor": "white",
            "showbackground": true,
            "ticks": "",
            "zerolinecolor": "white"
           },
           "yaxis": {
            "backgroundcolor": "#E5ECF6",
            "gridcolor": "white",
            "gridwidth": 2,
            "linecolor": "white",
            "showbackground": true,
            "ticks": "",
            "zerolinecolor": "white"
           },
           "zaxis": {
            "backgroundcolor": "#E5ECF6",
            "gridcolor": "white",
            "gridwidth": 2,
            "linecolor": "white",
            "showbackground": true,
            "ticks": "",
            "zerolinecolor": "white"
           }
          },
          "shapedefaults": {
           "line": {
            "color": "#2a3f5f"
           }
          },
          "ternary": {
           "aaxis": {
            "gridcolor": "white",
            "linecolor": "white",
            "ticks": ""
           },
           "baxis": {
            "gridcolor": "white",
            "linecolor": "white",
            "ticks": ""
           },
           "bgcolor": "#E5ECF6",
           "caxis": {
            "gridcolor": "white",
            "linecolor": "white",
            "ticks": ""
           }
          },
          "title": {
           "x": 0.05
          },
          "xaxis": {
           "automargin": true,
           "gridcolor": "white",
           "linecolor": "white",
           "ticks": "",
           "title": {
            "standoff": 15
           },
           "zerolinecolor": "white",
           "zerolinewidth": 2
          },
          "yaxis": {
           "automargin": true,
           "gridcolor": "white",
           "linecolor": "white",
           "ticks": "",
           "title": {
            "standoff": 15
           },
           "zerolinecolor": "white",
           "zerolinewidth": 2
          }
         }
        },
        "title": {
         "text": "🌍 엔진 크기 vs CO2 배출량 (버블: 연비)"
        },
        "width": 800,
        "xaxis": {
         "anchor": "y",
         "domain": [
          0,
          1
         ],
         "title": {
          "text": "Engine Size(L)"
         }
        },
        "yaxis": {
         "anchor": "x",
         "domain": [
          0,
          1
         ],
         "title": {
          "text": "CO2 Emissions(g/km)"
         }
        }
       }
      }
     },
     "metadata": {},
     "output_type": "display_data"
    }
   ],
   "source": [
    "# 상위 10개 제조사만 선택\n",
    "top_makes = co2_data['Make'].value_counts().head(10).index\n",
    "filtered_data = co2_data[co2_data['Make'].isin(top_makes)]\n",
    "\n",
    "# 버블 차트 생성\n",
    "fig1 = px.scatter(\n",
    "    filtered_data,\n",
    "    x='Engine Size(L)',\n",
    "    y='CO2 Emissions(g/km)',\n",
    "    size='Fuel Consumption Comb (mpg)',\n",
    "    color='Make',\n",
    "    title='🌍 엔진 크기 vs CO2 배출량 (버블: 연비)',\n",
    "    hover_data=['Model', 'Vehicle Class'],\n",
    "    size_max=15\n",
    ")\n",
    "\n",
    "# 친환경 기준선 추가\n",
    "fig1.add_hline(y=200, line_dash=\"dash\", line_color=\"red\", \n",
    "              annotation_text=\"친환경 기준 (200g/km)\")\n",
    "\n",
    "fig1.update_layout(width=800, height=500)\n",
    "fig1.show()"
   ]
  },
  {
   "cell_type": "markdown",
   "metadata": {},
   "source": [
    "## 🏆 시각화 2: 제조사별 환경 성능 랭킹"
   ]
  },
  {
   "cell_type": "code",
   "execution_count": 4,
   "metadata": {},
   "outputs": [
    {
     "data": {
      "application/vnd.plotly.v1+json": {
       "config": {
        "plotlyServerURL": "https://plot.ly"
       },
       "data": [
        {
         "hovertemplate": "CO2 배출량 (g/km)=%{x}<br>제조사=%{y}<br>color=%{marker.color}<extra></extra>",
         "legendgroup": "",
         "marker": {
          "color": {
           "bdata": "zczMzMzsYkBmZmZmZsZnQGZmZmZmBmhAZmZmZmY2aEAzMzMzM5NoQAAAAAAAEGlAAAAAAAAQaUDNzMzMzBxqQJqZmZmZKWpAmpmZmZnJakAzMzMzMzNrQGZmZmZm9mtAzczMzMwMbEDNzMzMzBxsQDMzMzMzw2xA",
           "dtype": "f8"
          },
          "coloraxis": "coloraxis",
          "pattern": {
           "shape": ""
          }
         },
         "name": "",
         "orientation": "h",
         "showlegend": false,
         "textposition": "auto",
         "type": "bar",
         "x": {
          "bdata": "zczMzMzsYkBmZmZmZsZnQGZmZmZmBmhAZmZmZmY2aEAzMzMzM5NoQAAAAAAAEGlAAAAAAAAQaUDNzMzMzBxqQJqZmZmZKWpAmpmZmZnJakAzMzMzMzNrQGZmZmZm9mtAzczMzMwMbEDNzMzMzBxsQDMzMzMzw2xA",
          "dtype": "f8"
         },
         "xaxis": "x",
         "y": [
          "SMART",
          "HONDA",
          "FIAT",
          "MAZDA",
          "MINI",
          "MITSUBISHI",
          "SCION",
          "HYUNDAI",
          "VOLKSWAGEN",
          "KIA",
          "SUBARU",
          "ACURA",
          "TOYOTA",
          "ALFA ROMEO",
          "VOLVO"
         ],
         "yaxis": "y"
        }
       ],
       "layout": {
        "barmode": "relative",
        "coloraxis": {
         "colorbar": {
          "title": {
           "text": "color"
          }
         },
         "colorscale": [
          [
           0,
           "rgb(0,104,55)"
          ],
          [
           0.1,
           "rgb(26,152,80)"
          ],
          [
           0.2,
           "rgb(102,189,99)"
          ],
          [
           0.3,
           "rgb(166,217,106)"
          ],
          [
           0.4,
           "rgb(217,239,139)"
          ],
          [
           0.5,
           "rgb(255,255,191)"
          ],
          [
           0.6,
           "rgb(254,224,139)"
          ],
          [
           0.7,
           "rgb(253,174,97)"
          ],
          [
           0.8,
           "rgb(244,109,67)"
          ],
          [
           0.9,
           "rgb(215,48,39)"
          ],
          [
           1,
           "rgb(165,0,38)"
          ]
         ]
        },
        "height": 600,
        "legend": {
         "tracegroupgap": 0
        },
        "shapes": [
         {
          "line": {
           "color": "red",
           "dash": "dash"
          },
          "type": "line",
          "x0": 200,
          "x1": 200,
          "xref": "x",
          "y0": 0,
          "y1": 1,
          "yref": "y domain"
         }
        ],
        "template": {
         "data": {
          "bar": [
           {
            "error_x": {
             "color": "#2a3f5f"
            },
            "error_y": {
             "color": "#2a3f5f"
            },
            "marker": {
             "line": {
              "color": "#E5ECF6",
              "width": 0.5
             },
             "pattern": {
              "fillmode": "overlay",
              "size": 10,
              "solidity": 0.2
             }
            },
            "type": "bar"
           }
          ],
          "barpolar": [
           {
            "marker": {
             "line": {
              "color": "#E5ECF6",
              "width": 0.5
             },
             "pattern": {
              "fillmode": "overlay",
              "size": 10,
              "solidity": 0.2
             }
            },
            "type": "barpolar"
           }
          ],
          "carpet": [
           {
            "aaxis": {
             "endlinecolor": "#2a3f5f",
             "gridcolor": "white",
             "linecolor": "white",
             "minorgridcolor": "white",
             "startlinecolor": "#2a3f5f"
            },
            "baxis": {
             "endlinecolor": "#2a3f5f",
             "gridcolor": "white",
             "linecolor": "white",
             "minorgridcolor": "white",
             "startlinecolor": "#2a3f5f"
            },
            "type": "carpet"
           }
          ],
          "choropleth": [
           {
            "colorbar": {
             "outlinewidth": 0,
             "ticks": ""
            },
            "type": "choropleth"
           }
          ],
          "contour": [
           {
            "colorbar": {
             "outlinewidth": 0,
             "ticks": ""
            },
            "colorscale": [
             [
              0,
              "#0d0887"
             ],
             [
              0.1111111111111111,
              "#46039f"
             ],
             [
              0.2222222222222222,
              "#7201a8"
             ],
             [
              0.3333333333333333,
              "#9c179e"
             ],
             [
              0.4444444444444444,
              "#bd3786"
             ],
             [
              0.5555555555555556,
              "#d8576b"
             ],
             [
              0.6666666666666666,
              "#ed7953"
             ],
             [
              0.7777777777777778,
              "#fb9f3a"
             ],
             [
              0.8888888888888888,
              "#fdca26"
             ],
             [
              1,
              "#f0f921"
             ]
            ],
            "type": "contour"
           }
          ],
          "contourcarpet": [
           {
            "colorbar": {
             "outlinewidth": 0,
             "ticks": ""
            },
            "type": "contourcarpet"
           }
          ],
          "heatmap": [
           {
            "colorbar": {
             "outlinewidth": 0,
             "ticks": ""
            },
            "colorscale": [
             [
              0,
              "#0d0887"
             ],
             [
              0.1111111111111111,
              "#46039f"
             ],
             [
              0.2222222222222222,
              "#7201a8"
             ],
             [
              0.3333333333333333,
              "#9c179e"
             ],
             [
              0.4444444444444444,
              "#bd3786"
             ],
             [
              0.5555555555555556,
              "#d8576b"
             ],
             [
              0.6666666666666666,
              "#ed7953"
             ],
             [
              0.7777777777777778,
              "#fb9f3a"
             ],
             [
              0.8888888888888888,
              "#fdca26"
             ],
             [
              1,
              "#f0f921"
             ]
            ],
            "type": "heatmap"
           }
          ],
          "histogram": [
           {
            "marker": {
             "pattern": {
              "fillmode": "overlay",
              "size": 10,
              "solidity": 0.2
             }
            },
            "type": "histogram"
           }
          ],
          "histogram2d": [
           {
            "colorbar": {
             "outlinewidth": 0,
             "ticks": ""
            },
            "colorscale": [
             [
              0,
              "#0d0887"
             ],
             [
              0.1111111111111111,
              "#46039f"
             ],
             [
              0.2222222222222222,
              "#7201a8"
             ],
             [
              0.3333333333333333,
              "#9c179e"
             ],
             [
              0.4444444444444444,
              "#bd3786"
             ],
             [
              0.5555555555555556,
              "#d8576b"
             ],
             [
              0.6666666666666666,
              "#ed7953"
             ],
             [
              0.7777777777777778,
              "#fb9f3a"
             ],
             [
              0.8888888888888888,
              "#fdca26"
             ],
             [
              1,
              "#f0f921"
             ]
            ],
            "type": "histogram2d"
           }
          ],
          "histogram2dcontour": [
           {
            "colorbar": {
             "outlinewidth": 0,
             "ticks": ""
            },
            "colorscale": [
             [
              0,
              "#0d0887"
             ],
             [
              0.1111111111111111,
              "#46039f"
             ],
             [
              0.2222222222222222,
              "#7201a8"
             ],
             [
              0.3333333333333333,
              "#9c179e"
             ],
             [
              0.4444444444444444,
              "#bd3786"
             ],
             [
              0.5555555555555556,
              "#d8576b"
             ],
             [
              0.6666666666666666,
              "#ed7953"
             ],
             [
              0.7777777777777778,
              "#fb9f3a"
             ],
             [
              0.8888888888888888,
              "#fdca26"
             ],
             [
              1,
              "#f0f921"
             ]
            ],
            "type": "histogram2dcontour"
           }
          ],
          "mesh3d": [
           {
            "colorbar": {
             "outlinewidth": 0,
             "ticks": ""
            },
            "type": "mesh3d"
           }
          ],
          "parcoords": [
           {
            "line": {
             "colorbar": {
              "outlinewidth": 0,
              "ticks": ""
             }
            },
            "type": "parcoords"
           }
          ],
          "pie": [
           {
            "automargin": true,
            "type": "pie"
           }
          ],
          "scatter": [
           {
            "fillpattern": {
             "fillmode": "overlay",
             "size": 10,
             "solidity": 0.2
            },
            "type": "scatter"
           }
          ],
          "scatter3d": [
           {
            "line": {
             "colorbar": {
              "outlinewidth": 0,
              "ticks": ""
             }
            },
            "marker": {
             "colorbar": {
              "outlinewidth": 0,
              "ticks": ""
             }
            },
            "type": "scatter3d"
           }
          ],
          "scattercarpet": [
           {
            "marker": {
             "colorbar": {
              "outlinewidth": 0,
              "ticks": ""
             }
            },
            "type": "scattercarpet"
           }
          ],
          "scattergeo": [
           {
            "marker": {
             "colorbar": {
              "outlinewidth": 0,
              "ticks": ""
             }
            },
            "type": "scattergeo"
           }
          ],
          "scattergl": [
           {
            "marker": {
             "colorbar": {
              "outlinewidth": 0,
              "ticks": ""
             }
            },
            "type": "scattergl"
           }
          ],
          "scattermap": [
           {
            "marker": {
             "colorbar": {
              "outlinewidth": 0,
              "ticks": ""
             }
            },
            "type": "scattermap"
           }
          ],
          "scattermapbox": [
           {
            "marker": {
             "colorbar": {
              "outlinewidth": 0,
              "ticks": ""
             }
            },
            "type": "scattermapbox"
           }
          ],
          "scatterpolar": [
           {
            "marker": {
             "colorbar": {
              "outlinewidth": 0,
              "ticks": ""
             }
            },
            "type": "scatterpolar"
           }
          ],
          "scatterpolargl": [
           {
            "marker": {
             "colorbar": {
              "outlinewidth": 0,
              "ticks": ""
             }
            },
            "type": "scatterpolargl"
           }
          ],
          "scatterternary": [
           {
            "marker": {
             "colorbar": {
              "outlinewidth": 0,
              "ticks": ""
             }
            },
            "type": "scatterternary"
           }
          ],
          "surface": [
           {
            "colorbar": {
             "outlinewidth": 0,
             "ticks": ""
            },
            "colorscale": [
             [
              0,
              "#0d0887"
             ],
             [
              0.1111111111111111,
              "#46039f"
             ],
             [
              0.2222222222222222,
              "#7201a8"
             ],
             [
              0.3333333333333333,
              "#9c179e"
             ],
             [
              0.4444444444444444,
              "#bd3786"
             ],
             [
              0.5555555555555556,
              "#d8576b"
             ],
             [
              0.6666666666666666,
              "#ed7953"
             ],
             [
              0.7777777777777778,
              "#fb9f3a"
             ],
             [
              0.8888888888888888,
              "#fdca26"
             ],
             [
              1,
              "#f0f921"
             ]
            ],
            "type": "surface"
           }
          ],
          "table": [
           {
            "cells": {
             "fill": {
              "color": "#EBF0F8"
             },
             "line": {
              "color": "white"
             }
            },
            "header": {
             "fill": {
              "color": "#C8D4E3"
             },
             "line": {
              "color": "white"
             }
            },
            "type": "table"
           }
          ]
         },
         "layout": {
          "annotationdefaults": {
           "arrowcolor": "#2a3f5f",
           "arrowhead": 0,
           "arrowwidth": 1
          },
          "autotypenumbers": "strict",
          "coloraxis": {
           "colorbar": {
            "outlinewidth": 0,
            "ticks": ""
           }
          },
          "colorscale": {
           "diverging": [
            [
             0,
             "#8e0152"
            ],
            [
             0.1,
             "#c51b7d"
            ],
            [
             0.2,
             "#de77ae"
            ],
            [
             0.3,
             "#f1b6da"
            ],
            [
             0.4,
             "#fde0ef"
            ],
            [
             0.5,
             "#f7f7f7"
            ],
            [
             0.6,
             "#e6f5d0"
            ],
            [
             0.7,
             "#b8e186"
            ],
            [
             0.8,
             "#7fbc41"
            ],
            [
             0.9,
             "#4d9221"
            ],
            [
             1,
             "#276419"
            ]
           ],
           "sequential": [
            [
             0,
             "#0d0887"
            ],
            [
             0.1111111111111111,
             "#46039f"
            ],
            [
             0.2222222222222222,
             "#7201a8"
            ],
            [
             0.3333333333333333,
             "#9c179e"
            ],
            [
             0.4444444444444444,
             "#bd3786"
            ],
            [
             0.5555555555555556,
             "#d8576b"
            ],
            [
             0.6666666666666666,
             "#ed7953"
            ],
            [
             0.7777777777777778,
             "#fb9f3a"
            ],
            [
             0.8888888888888888,
             "#fdca26"
            ],
            [
             1,
             "#f0f921"
            ]
           ],
           "sequentialminus": [
            [
             0,
             "#0d0887"
            ],
            [
             0.1111111111111111,
             "#46039f"
            ],
            [
             0.2222222222222222,
             "#7201a8"
            ],
            [
             0.3333333333333333,
             "#9c179e"
            ],
            [
             0.4444444444444444,
             "#bd3786"
            ],
            [
             0.5555555555555556,
             "#d8576b"
            ],
            [
             0.6666666666666666,
             "#ed7953"
            ],
            [
             0.7777777777777778,
             "#fb9f3a"
            ],
            [
             0.8888888888888888,
             "#fdca26"
            ],
            [
             1,
             "#f0f921"
            ]
           ]
          },
          "colorway": [
           "#636efa",
           "#EF553B",
           "#00cc96",
           "#ab63fa",
           "#FFA15A",
           "#19d3f3",
           "#FF6692",
           "#B6E880",
           "#FF97FF",
           "#FECB52"
          ],
          "font": {
           "color": "#2a3f5f"
          },
          "geo": {
           "bgcolor": "white",
           "lakecolor": "white",
           "landcolor": "#E5ECF6",
           "showlakes": true,
           "showland": true,
           "subunitcolor": "white"
          },
          "hoverlabel": {
           "align": "left"
          },
          "hovermode": "closest",
          "mapbox": {
           "style": "light"
          },
          "paper_bgcolor": "white",
          "plot_bgcolor": "#E5ECF6",
          "polar": {
           "angularaxis": {
            "gridcolor": "white",
            "linecolor": "white",
            "ticks": ""
           },
           "bgcolor": "#E5ECF6",
           "radialaxis": {
            "gridcolor": "white",
            "linecolor": "white",
            "ticks": ""
           }
          },
          "scene": {
           "xaxis": {
            "backgroundcolor": "#E5ECF6",
            "gridcolor": "white",
            "gridwidth": 2,
            "linecolor": "white",
            "showbackground": true,
            "ticks": "",
            "zerolinecolor": "white"
           },
           "yaxis": {
            "backgroundcolor": "#E5ECF6",
            "gridcolor": "white",
            "gridwidth": 2,
            "linecolor": "white",
            "showbackground": true,
            "ticks": "",
            "zerolinecolor": "white"
           },
           "zaxis": {
            "backgroundcolor": "#E5ECF6",
            "gridcolor": "white",
            "gridwidth": 2,
            "linecolor": "white",
            "showbackground": true,
            "ticks": "",
            "zerolinecolor": "white"
           }
          },
          "shapedefaults": {
           "line": {
            "color": "#2a3f5f"
           }
          },
          "ternary": {
           "aaxis": {
            "gridcolor": "white",
            "linecolor": "white",
            "ticks": ""
           },
           "baxis": {
            "gridcolor": "white",
            "linecolor": "white",
            "ticks": ""
           },
           "bgcolor": "#E5ECF6",
           "caxis": {
            "gridcolor": "white",
            "linecolor": "white",
            "ticks": ""
           }
          },
          "title": {
           "x": 0.05
          },
          "xaxis": {
           "automargin": true,
           "gridcolor": "white",
           "linecolor": "white",
           "ticks": "",
           "title": {
            "standoff": 15
           },
           "zerolinecolor": "white",
           "zerolinewidth": 2
          },
          "yaxis": {
           "automargin": true,
           "gridcolor": "white",
           "linecolor": "white",
           "ticks": "",
           "title": {
            "standoff": 15
           },
           "zerolinecolor": "white",
           "zerolinewidth": 2
          }
         }
        },
        "title": {
         "text": "🏆 친환경 제조사 TOP 15 (낮은 CO2 순)"
        },
        "width": 800,
        "xaxis": {
         "anchor": "y",
         "domain": [
          0,
          1
         ],
         "title": {
          "text": "CO2 배출량 (g/km)"
         }
        },
        "yaxis": {
         "anchor": "x",
         "domain": [
          0,
          1
         ],
         "title": {
          "text": "제조사"
         }
        }
       }
      }
     },
     "metadata": {},
     "output_type": "display_data"
    },
    {
     "name": "stdout",
     "output_type": "stream",
     "text": [
      "🏆 가장 친환경 제조사: SMART (151.4 g/km)\n"
     ]
    }
   ],
   "source": [
    "# 제조사별 평균 CO2 계산 (5대 이상)\n",
    "make_stats = co2_data.groupby('Make').agg({\n",
    "    'CO2 Emissions(g/km)': ['mean', 'count']\n",
    "}).round(1)\n",
    "\n",
    "make_stats.columns = ['평균_CO2', '차량수']\n",
    "make_stats = make_stats[make_stats['차량수'] >= 5]\n",
    "top_15 = make_stats.sort_values('평균_CO2').head(15)\n",
    "\n",
    "# 가로 막대 차트\n",
    "fig2 = px.bar(\n",
    "    x=top_15['평균_CO2'],\n",
    "    y=top_15.index,\n",
    "    orientation='h',\n",
    "    title='🏆 친환경 제조사 TOP 15 (낮은 CO2 순)',\n",
    "    labels={'x': 'CO2 배출량 (g/km)', 'y': '제조사'},\n",
    "    color=top_15['평균_CO2'],\n",
    "    color_continuous_scale='RdYlGn_r'\n",
    ")\n",
    "\n",
    "fig2.add_vline(x=200, line_dash=\"dash\", line_color=\"red\")\n",
    "fig2.update_layout(width=800, height=600)\n",
    "fig2.show()\n",
    "\n",
    "print(f\"🏆 가장 친환경 제조사: {top_15.index[0]} ({top_15.iloc[0]['평균_CO2']:.1f} g/km)\")"
   ]
  },
  {
   "cell_type": "markdown",
   "metadata": {},
   "source": [
    "## 📊 시각화 3: 차량 클래스별 CO2 분포"
   ]
  },
  {
   "cell_type": "code",
   "execution_count": 5,
   "metadata": {},
   "outputs": [
    {
     "data": {
      "application/vnd.plotly.v1+json": {
       "config": {
        "plotlyServerURL": "https://plot.ly"
       },
       "data": [
        {
         "alignmentgroup": "True",
         "hovertemplate": "Vehicle Class=%{x}<br>CO2 Emissions(g/km)=%{y}<extra></extra>",
         "legendgroup": "COMPACT",
         "marker": {
          "color": "#636efa"
         },
         "name": "COMPACT",
         "notched": false,
         "offsetgroup": "COMPACT",
         "orientation": "v",
         "showlegend": true,
         "type": "box",
         "x": [
          "COMPACT",
          "COMPACT",
          "COMPACT",
          "COMPACT",
          "COMPACT",
          "COMPACT",
          "COMPACT",
          "COMPACT",
          "COMPACT",
          "COMPACT",
          "COMPACT",
          "COMPACT",
          "COMPACT",
          "COMPACT",
          "COMPACT",
          "COMPACT",
          "COMPACT",
          "COMPACT",
          "COMPACT",
          "COMPACT",
          "COMPACT",
          "COMPACT",
          "COMPACT",
          "COMPACT",
          "COMPACT",
          "COMPACT",
          "COMPACT",
          "COMPACT",
          "COMPACT",
          "COMPACT",
          "COMPACT",
          "COMPACT",
          "COMPACT",
          "COMPACT",
          "COMPACT",
          "COMPACT",
          "COMPACT",
          "COMPACT",
          "COMPACT",
          "COMPACT",
          "COMPACT",
          "COMPACT",
          "COMPACT",
          "COMPACT",
          "COMPACT",
          "COMPACT",
          "COMPACT",
          "COMPACT",
          "COMPACT",
          "COMPACT",
          "COMPACT",
          "COMPACT",
          "COMPACT",
          "COMPACT",
          "COMPACT",
          "COMPACT",
          "COMPACT",
          "COMPACT",
          "COMPACT",
          "COMPACT",
          "COMPACT",
          "COMPACT",
          "COMPACT",
          "COMPACT",
          "COMPACT",
          "COMPACT",
          "COMPACT",
          "COMPACT",
          "COMPACT",
          "COMPACT",
          "COMPACT",
          "COMPACT",
          "COMPACT",
          "COMPACT",
          "COMPACT",
          "COMPACT",
          "COMPACT",
          "COMPACT",
          "COMPACT",
          "COMPACT",
          "COMPACT",
          "COMPACT",
          "COMPACT",
          "COMPACT",
          "COMPACT",
          "COMPACT",
          "COMPACT",
          "COMPACT",
          "COMPACT",
          "COMPACT",
          "COMPACT",
          "COMPACT",
          "COMPACT",
          "COMPACT",
          "COMPACT",
          "COMPACT",
          "COMPACT",
          "COMPACT",
          "COMPACT",
          "COMPACT",
          "COMPACT",
          "COMPACT",
          "COMPACT",
          "COMPACT",
          "COMPACT",
          "COMPACT",
          "COMPACT",
          "COMPACT",
          "COMPACT",
          "COMPACT",
          "COMPACT",
          "COMPACT",
          "COMPACT",
          "COMPACT",
          "COMPACT",
          "COMPACT",
          "COMPACT",
          "COMPACT",
          "COMPACT",
          "COMPACT",
          "COMPACT",
          "COMPACT",
          "COMPACT",
          "COMPACT",
          "COMPACT",
          "COMPACT",
          "COMPACT",
          "COMPACT",
          "COMPACT",
          "COMPACT",
          "COMPACT",
          "COMPACT",
          "COMPACT",
          "COMPACT",
          "COMPACT",
          "COMPACT",
          "COMPACT",
          "COMPACT",
          "COMPACT",
          "COMPACT",
          "COMPACT",
          "COMPACT",
          "COMPACT",
          "COMPACT",
          "COMPACT",
          "COMPACT",
          "COMPACT",
          "COMPACT",
          "COMPACT",
          "COMPACT",
          "COMPACT",
          "COMPACT",
          "COMPACT",
          "COMPACT",
          "COMPACT",
          "COMPACT",
          "COMPACT",
          "COMPACT",
          "COMPACT",
          "COMPACT",
          "COMPACT",
          "COMPACT",
          "COMPACT",
          "COMPACT",
          "COMPACT",
          "COMPACT",
          "COMPACT",
          "COMPACT",
          "COMPACT",
          "COMPACT",
          "COMPACT",
          "COMPACT",
          "COMPACT",
          "COMPACT",
          "COMPACT",
          "COMPACT",
          "COMPACT",
          "COMPACT",
          "COMPACT",
          "COMPACT",
          "COMPACT",
          "COMPACT",
          "COMPACT",
          "COMPACT",
          "COMPACT",
          "COMPACT",
          "COMPACT",
          "COMPACT",
          "COMPACT",
          "COMPACT",
          "COMPACT",
          "COMPACT",
          "COMPACT",
          "COMPACT",
          "COMPACT",
          "COMPACT",
          "COMPACT",
          "COMPACT",
          "COMPACT",
          "COMPACT",
          "COMPACT",
          "COMPACT",
          "COMPACT",
          "COMPACT",
          "COMPACT",
          "COMPACT",
          "COMPACT",
          "COMPACT",
          "COMPACT",
          "COMPACT",
          "COMPACT",
          "COMPACT",
          "COMPACT",
          "COMPACT",
          "COMPACT",
          "COMPACT",
          "COMPACT",
          "COMPACT",
          "COMPACT",
          "COMPACT",
          "COMPACT",
          "COMPACT",
          "COMPACT",
          "COMPACT",
          "COMPACT",
          "COMPACT",
          "COMPACT",
          "COMPACT",
          "COMPACT",
          "COMPACT",
          "COMPACT",
          "COMPACT",
          "COMPACT",
          "COMPACT",
          "COMPACT",
          "COMPACT",
          "COMPACT",
          "COMPACT",
          "COMPACT",
          "COMPACT",
          "COMPACT",
          "COMPACT",
          "COMPACT",
          "COMPACT",
          "COMPACT",
          "COMPACT",
          "COMPACT",
          "COMPACT",
          "COMPACT",
          "COMPACT",
          "COMPACT",
          "COMPACT",
          "COMPACT",
          "COMPACT",
          "COMPACT",
          "COMPACT",
          "COMPACT",
          "COMPACT",
          "COMPACT",
          "COMPACT",
          "COMPACT",
          "COMPACT",
          "COMPACT",
          "COMPACT",
          "COMPACT",
          "COMPACT",
          "COMPACT",
          "COMPACT",
          "COMPACT",
          "COMPACT",
          "COMPACT",
          "COMPACT",
          "COMPACT",
          "COMPACT",
          "COMPACT",
          "COMPACT",
          "COMPACT",
          "COMPACT",
          "COMPACT",
          "COMPACT",
          "COMPACT",
          "COMPACT",
          "COMPACT",
          "COMPACT",
          "COMPACT",
          "COMPACT",
          "COMPACT",
          "COMPACT",
          "COMPACT",
          "COMPACT",
          "COMPACT",
          "COMPACT",
          "COMPACT",
          "COMPACT",
          "COMPACT",
          "COMPACT",
          "COMPACT",
          "COMPACT",
          "COMPACT",
          "COMPACT",
          "COMPACT",
          "COMPACT",
          "COMPACT",
          "COMPACT",
          "COMPACT",
          "COMPACT",
          "COMPACT",
          "COMPACT",
          "COMPACT",
          "COMPACT",
          "COMPACT",
          "COMPACT",
          "COMPACT",
          "COMPACT",
          "COMPACT",
          "COMPACT",
          "COMPACT",
          "COMPACT",
          "COMPACT",
          "COMPACT",
          "COMPACT",
          "COMPACT",
          "COMPACT",
          "COMPACT",
          "COMPACT",
          "COMPACT",
          "COMPACT",
          "COMPACT",
          "COMPACT",
          "COMPACT",
          "COMPACT",
          "COMPACT",
          "COMPACT",
          "COMPACT",
          "COMPACT",
          "COMPACT",
          "COMPACT",
          "COMPACT",
          "COMPACT",
          "COMPACT",
          "COMPACT",
          "COMPACT",
          "COMPACT",
          "COMPACT",
          "COMPACT",
          "COMPACT",
          "COMPACT",
          "COMPACT",
          "COMPACT",
          "COMPACT",
          "COMPACT",
          "COMPACT",
          "COMPACT",
          "COMPACT",
          "COMPACT",
          "COMPACT",
          "COMPACT",
          "COMPACT",
          "COMPACT",
          "COMPACT",
          "COMPACT",
          "COMPACT",
          "COMPACT",
          "COMPACT",
          "COMPACT",
          "COMPACT",
          "COMPACT",
          "COMPACT",
          "COMPACT",
          "COMPACT",
          "COMPACT",
          "COMPACT",
          "COMPACT",
          "COMPACT",
          "COMPACT",
          "COMPACT",
          "COMPACT",
          "COMPACT",
          "COMPACT",
          "COMPACT",
          "COMPACT",
          "COMPACT",
          "COMPACT",
          "COMPACT",
          "COMPACT",
          "COMPACT",
          "COMPACT",
          "COMPACT",
          "COMPACT",
          "COMPACT",
          "COMPACT",
          "COMPACT",
          "COMPACT",
          "COMPACT",
          "COMPACT",
          "COMPACT",
          "COMPACT",
          "COMPACT",
          "COMPACT",
          "COMPACT",
          "COMPACT",
          "COMPACT",
          "COMPACT",
          "COMPACT",
          "COMPACT",
          "COMPACT",
          "COMPACT",
          "COMPACT",
          "COMPACT",
          "COMPACT",
          "COMPACT",
          "COMPACT",
          "COMPACT",
          "COMPACT",
          "COMPACT",
          "COMPACT",
          "COMPACT",
          "COMPACT",
          "COMPACT",
          "COMPACT",
          "COMPACT",
          "COMPACT",
          "COMPACT",
          "COMPACT",
          "COMPACT",
          "COMPACT",
          "COMPACT",
          "COMPACT",
          "COMPACT",
          "COMPACT",
          "COMPACT",
          "COMPACT",
          "COMPACT",
          "COMPACT",
          "COMPACT",
          "COMPACT",
          "COMPACT",
          "COMPACT",
          "COMPACT",
          "COMPACT",
          "COMPACT",
          "COMPACT",
          "COMPACT",
          "COMPACT",
          "COMPACT",
          "COMPACT",
          "COMPACT",
          "COMPACT",
          "COMPACT",
          "COMPACT",
          "COMPACT",
          "COMPACT",
          "COMPACT",
          "COMPACT",
          "COMPACT",
          "COMPACT",
          "COMPACT",
          "COMPACT",
          "COMPACT",
          "COMPACT",
          "COMPACT",
          "COMPACT",
          "COMPACT",
          "COMPACT",
          "COMPACT",
          "COMPACT",
          "COMPACT",
          "COMPACT",
          "COMPACT",
          "COMPACT",
          "COMPACT",
          "COMPACT",
          "COMPACT",
          "COMPACT",
          "COMPACT",
          "COMPACT",
          "COMPACT",
          "COMPACT",
          "COMPACT",
          "COMPACT",
          "COMPACT",
          "COMPACT",
          "COMPACT",
          "COMPACT",
          "COMPACT",
          "COMPACT",
          "COMPACT",
          "COMPACT",
          "COMPACT",
          "COMPACT",
          "COMPACT",
          "COMPACT",
          "COMPACT",
          "COMPACT",
          "COMPACT",
          "COMPACT",
          "COMPACT",
          "COMPACT",
          "COMPACT",
          "COMPACT",
          "COMPACT",
          "COMPACT",
          "COMPACT",
          "COMPACT",
          "COMPACT",
          "COMPACT",
          "COMPACT",
          "COMPACT",
          "COMPACT",
          "COMPACT",
          "COMPACT",
          "COMPACT",
          "COMPACT",
          "COMPACT",
          "COMPACT",
          "COMPACT",
          "COMPACT",
          "COMPACT",
          "COMPACT",
          "COMPACT",
          "COMPACT",
          "COMPACT",
          "COMPACT",
          "COMPACT",
          "COMPACT",
          "COMPACT",
          "COMPACT",
          "COMPACT",
          "COMPACT",
          "COMPACT",
          "COMPACT",
          "COMPACT",
          "COMPACT",
          "COMPACT",
          "COMPACT",
          "COMPACT",
          "COMPACT",
          "COMPACT",
          "COMPACT",
          "COMPACT",
          "COMPACT",
          "COMPACT",
          "COMPACT",
          "COMPACT",
          "COMPACT",
          "COMPACT",
          "COMPACT",
          "COMPACT",
          "COMPACT",
          "COMPACT",
          "COMPACT",
          "COMPACT",
          "COMPACT",
          "COMPACT",
          "COMPACT",
          "COMPACT",
          "COMPACT",
          "COMPACT",
          "COMPACT",
          "COMPACT",
          "COMPACT",
          "COMPACT",
          "COMPACT",
          "COMPACT",
          "COMPACT",
          "COMPACT",
          "COMPACT",
          "COMPACT",
          "COMPACT",
          "COMPACT",
          "COMPACT",
          "COMPACT",
          "COMPACT",
          "COMPACT",
          "COMPACT",
          "COMPACT",
          "COMPACT",
          "COMPACT",
          "COMPACT",
          "COMPACT",
          "COMPACT",
          "COMPACT",
          "COMPACT",
          "COMPACT",
          "COMPACT",
          "COMPACT",
          "COMPACT",
          "COMPACT",
          "COMPACT",
          "COMPACT",
          "COMPACT",
          "COMPACT",
          "COMPACT",
          "COMPACT",
          "COMPACT",
          "COMPACT",
          "COMPACT",
          "COMPACT",
          "COMPACT",
          "COMPACT",
          "COMPACT",
          "COMPACT",
          "COMPACT",
          "COMPACT",
          "COMPACT",
          "COMPACT",
          "COMPACT",
          "COMPACT",
          "COMPACT",
          "COMPACT",
          "COMPACT",
          "COMPACT",
          "COMPACT",
          "COMPACT",
          "COMPACT",
          "COMPACT",
          "COMPACT",
          "COMPACT",
          "COMPACT",
          "COMPACT",
          "COMPACT",
          "COMPACT",
          "COMPACT",
          "COMPACT",
          "COMPACT",
          "COMPACT",
          "COMPACT",
          "COMPACT",
          "COMPACT",
          "COMPACT",
          "COMPACT",
          "COMPACT",
          "COMPACT",
          "COMPACT",
          "COMPACT",
          "COMPACT",
          "COMPACT",
          "COMPACT",
          "COMPACT",
          "COMPACT",
          "COMPACT",
          "COMPACT",
          "COMPACT",
          "COMPACT",
          "COMPACT",
          "COMPACT",
          "COMPACT",
          "COMPACT",
          "COMPACT",
          "COMPACT",
          "COMPACT",
          "COMPACT",
          "COMPACT",
          "COMPACT",
          "COMPACT",
          "COMPACT",
          "COMPACT",
          "COMPACT",
          "COMPACT",
          "COMPACT",
          "COMPACT",
          "COMPACT",
          "COMPACT",
          "COMPACT",
          "COMPACT",
          "COMPACT",
          "COMPACT",
          "COMPACT",
          "COMPACT",
          "COMPACT",
          "COMPACT",
          "COMPACT",
          "COMPACT",
          "COMPACT",
          "COMPACT",
          "COMPACT",
          "COMPACT",
          "COMPACT",
          "COMPACT",
          "COMPACT",
          "COMPACT",
          "COMPACT",
          "COMPACT",
          "COMPACT",
          "COMPACT",
          "COMPACT",
          "COMPACT",
          "COMPACT",
          "COMPACT",
          "COMPACT",
          "COMPACT",
          "COMPACT",
          "COMPACT",
          "COMPACT",
          "COMPACT",
          "COMPACT",
          "COMPACT",
          "COMPACT",
          "COMPACT",
          "COMPACT",
          "COMPACT",
          "COMPACT",
          "COMPACT",
          "COMPACT",
          "COMPACT",
          "COMPACT",
          "COMPACT",
          "COMPACT",
          "COMPACT",
          "COMPACT",
          "COMPACT",
          "COMPACT",
          "COMPACT",
          "COMPACT",
          "COMPACT",
          "COMPACT",
          "COMPACT",
          "COMPACT",
          "COMPACT",
          "COMPACT",
          "COMPACT",
          "COMPACT",
          "COMPACT",
          "COMPACT",
          "COMPACT",
          "COMPACT",
          "COMPACT",
          "COMPACT",
          "COMPACT",
          "COMPACT",
          "COMPACT",
          "COMPACT",
          "COMPACT",
          "COMPACT",
          "COMPACT",
          "COMPACT",
          "COMPACT",
          "COMPACT",
          "COMPACT",
          "COMPACT",
          "COMPACT",
          "COMPACT",
          "COMPACT",
          "COMPACT",
          "COMPACT",
          "COMPACT",
          "COMPACT",
          "COMPACT",
          "COMPACT",
          "COMPACT",
          "COMPACT",
          "COMPACT",
          "COMPACT",
          "COMPACT",
          "COMPACT",
          "COMPACT",
          "COMPACT",
          "COMPACT",
          "COMPACT",
          "COMPACT",
          "COMPACT",
          "COMPACT",
          "COMPACT",
          "COMPACT",
          "COMPACT",
          "COMPACT",
          "COMPACT",
          "COMPACT",
          "COMPACT",
          "COMPACT",
          "COMPACT",
          "COMPACT",
          "COMPACT",
          "COMPACT",
          "COMPACT",
          "COMPACT",
          "COMPACT",
          "COMPACT",
          "COMPACT",
          "COMPACT",
          "COMPACT",
          "COMPACT",
          "COMPACT",
          "COMPACT",
          "COMPACT",
          "COMPACT",
          "COMPACT",
          "COMPACT",
          "COMPACT",
          "COMPACT",
          "COMPACT",
          "COMPACT",
          "COMPACT",
          "COMPACT",
          "COMPACT",
          "COMPACT",
          "COMPACT",
          "COMPACT",
          "COMPACT",
          "COMPACT",
          "COMPACT",
          "COMPACT",
          "COMPACT",
          "COMPACT",
          "COMPACT",
          "COMPACT",
          "COMPACT",
          "COMPACT",
          "COMPACT",
          "COMPACT",
          "COMPACT",
          "COMPACT",
          "COMPACT",
          "COMPACT",
          "COMPACT",
          "COMPACT",
          "COMPACT",
          "COMPACT",
          "COMPACT",
          "COMPACT",
          "COMPACT",
          "COMPACT",
          "COMPACT",
          "COMPACT",
          "COMPACT",
          "COMPACT",
          "COMPACT",
          "COMPACT",
          "COMPACT",
          "COMPACT",
          "COMPACT",
          "COMPACT",
          "COMPACT",
          "COMPACT",
          "COMPACT",
          "COMPACT",
          "COMPACT",
          "COMPACT",
          "COMPACT",
          "COMPACT",
          "COMPACT",
          "COMPACT",
          "COMPACT",
          "COMPACT",
          "COMPACT",
          "COMPACT",
          "COMPACT",
          "COMPACT",
          "COMPACT",
          "COMPACT",
          "COMPACT",
          "COMPACT",
          "COMPACT",
          "COMPACT",
          "COMPACT",
          "COMPACT",
          "COMPACT",
          "COMPACT",
          "COMPACT",
          "COMPACT",
          "COMPACT",
          "COMPACT",
          "COMPACT",
          "COMPACT",
          "COMPACT",
          "COMPACT",
          "COMPACT",
          "COMPACT",
          "COMPACT",
          "COMPACT",
          "COMPACT",
          "COMPACT",
          "COMPACT",
          "COMPACT",
          "COMPACT",
          "COMPACT",
          "COMPACT",
          "COMPACT",
          "COMPACT",
          "COMPACT",
          "COMPACT",
          "COMPACT",
          "COMPACT",
          "COMPACT",
          "COMPACT",
          "COMPACT",
          "COMPACT",
          "COMPACT",
          "COMPACT",
          "COMPACT",
          "COMPACT",
          "COMPACT",
          "COMPACT",
          "COMPACT",
          "COMPACT",
          "COMPACT",
          "COMPACT",
          "COMPACT",
          "COMPACT",
          "COMPACT",
          "COMPACT",
          "COMPACT",
          "COMPACT",
          "COMPACT",
          "COMPACT",
          "COMPACT",
          "COMPACT",
          "COMPACT",
          "COMPACT",
          "COMPACT",
          "COMPACT",
          "COMPACT",
          "COMPACT",
          "COMPACT",
          "COMPACT",
          "COMPACT",
          "COMPACT",
          "COMPACT",
          "COMPACT",
          "COMPACT",
          "COMPACT",
          "COMPACT",
          "COMPACT",
          "COMPACT",
          "COMPACT",
          "COMPACT",
          "COMPACT",
          "COMPACT",
          "COMPACT",
          "COMPACT",
          "COMPACT",
          "COMPACT",
          "COMPACT",
          "COMPACT",
          "COMPACT",
          "COMPACT",
          "COMPACT",
          "COMPACT",
          "COMPACT",
          "COMPACT",
          "COMPACT",
          "COMPACT",
          "COMPACT",
          "COMPACT",
          "COMPACT",
          "COMPACT",
          "COMPACT",
          "COMPACT",
          "COMPACT",
          "COMPACT",
          "COMPACT",
          "COMPACT",
          "COMPACT",
          "COMPACT",
          "COMPACT",
          "COMPACT",
          "COMPACT",
          "COMPACT",
          "COMPACT",
          "COMPACT",
          "COMPACT",
          "COMPACT",
          "COMPACT",
          "COMPACT",
          "COMPACT",
          "COMPACT",
          "COMPACT",
          "COMPACT",
          "COMPACT",
          "COMPACT",
          "COMPACT",
          "COMPACT",
          "COMPACT",
          "COMPACT",
          "COMPACT",
          "COMPACT",
          "COMPACT",
          "COMPACT",
          "COMPACT",
          "COMPACT",
          "COMPACT",
          "COMPACT",
          "COMPACT",
          "COMPACT",
          "COMPACT",
          "COMPACT",
          "COMPACT",
          "COMPACT",
          "COMPACT",
          "COMPACT",
          "COMPACT",
          "COMPACT",
          "COMPACT",
          "COMPACT",
          "COMPACT",
          "COMPACT",
          "COMPACT",
          "COMPACT",
          "COMPACT",
          "COMPACT",
          "COMPACT",
          "COMPACT",
          "COMPACT",
          "COMPACT",
          "COMPACT",
          "COMPACT",
          "COMPACT",
          "COMPACT",
          "COMPACT",
          "COMPACT",
          "COMPACT",
          "COMPACT",
          "COMPACT",
          "COMPACT",
          "COMPACT",
          "COMPACT",
          "COMPACT",
          "COMPACT",
          "COMPACT",
          "COMPACT",
          "COMPACT",
          "COMPACT"
         ],
         "x0": " ",
         "xaxis": "x",
         "y": {
          "bdata": "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",
          "dtype": "i2"
         },
         "y0": " ",
         "yaxis": "y"
        },
        {
         "alignmentgroup": "True",
         "hovertemplate": "Vehicle Class=%{x}<br>CO2 Emissions(g/km)=%{y}<extra></extra>",
         "legendgroup": "SUV - SMALL",
         "marker": {
          "color": "#EF553B"
         },
         "name": "SUV - SMALL",
         "notched": false,
         "offsetgroup": "SUV - SMALL",
         "orientation": "v",
         "showlegend": true,
         "type": "box",
         "x": [
          "SUV - SMALL",
          "SUV - SMALL",
          "SUV - SMALL",
          "SUV - SMALL",
          "SUV - SMALL",
          "SUV - SMALL",
          "SUV - SMALL",
          "SUV - SMALL",
          "SUV - SMALL",
          "SUV - SMALL",
          "SUV - SMALL",
          "SUV - SMALL",
          "SUV - SMALL",
          "SUV - SMALL",
          "SUV - SMALL",
          "SUV - SMALL",
          "SUV - SMALL",
          "SUV - SMALL",
          "SUV - SMALL",
          "SUV - SMALL",
          "SUV - SMALL",
          "SUV - SMALL",
          "SUV - SMALL",
          "SUV - SMALL",
          "SUV - SMALL",
          "SUV - SMALL",
          "SUV - SMALL",
          "SUV - SMALL",
          "SUV - SMALL",
          "SUV - SMALL",
          "SUV - SMALL",
          "SUV - SMALL",
          "SUV - SMALL",
          "SUV - SMALL",
          "SUV - SMALL",
          "SUV - SMALL",
          "SUV - SMALL",
          "SUV - SMALL",
          "SUV - SMALL",
          "SUV - SMALL",
          "SUV - SMALL",
          "SUV - SMALL",
          "SUV - SMALL",
          "SUV - SMALL",
          "SUV - SMALL",
          "SUV - SMALL",
          "SUV - SMALL",
          "SUV - SMALL",
          "SUV - SMALL",
          "SUV - SMALL",
          "SUV - SMALL",
          "SUV - SMALL",
          "SUV - SMALL",
          "SUV - SMALL",
          "SUV - SMALL",
          "SUV - SMALL",
          "SUV - SMALL",
          "SUV - SMALL",
          "SUV - SMALL",
          "SUV - SMALL",
          "SUV - SMALL",
          "SUV - SMALL",
          "SUV - SMALL",
          "SUV - SMALL",
          "SUV - SMALL",
          "SUV - SMALL",
          "SUV - SMALL",
          "SUV - SMALL",
          "SUV - SMALL",
          "SUV - SMALL",
          "SUV - SMALL",
          "SUV - SMALL",
          "SUV - SMALL",
          "SUV - SMALL",
          "SUV - SMALL",
          "SUV - SMALL",
          "SUV - SMALL",
          "SUV - SMALL",
          "SUV - SMALL",
          "SUV - SMALL",
          "SUV - SMALL",
          "SUV - SMALL",
          "SUV - SMALL",
          "SUV - SMALL",
          "SUV - SMALL",
          "SUV - SMALL",
          "SUV - SMALL",
          "SUV - SMALL",
          "SUV - SMALL",
          "SUV - SMALL",
          "SUV - SMALL",
          "SUV - SMALL",
          "SUV - SMALL",
          "SUV - SMALL",
          "SUV - SMALL",
          "SUV - SMALL",
          "SUV - SMALL",
          "SUV - SMALL",
          "SUV - SMALL",
          "SUV - SMALL",
          "SUV - SMALL",
          "SUV - SMALL",
          "SUV - SMALL",
          "SUV - SMALL",
          "SUV - SMALL",
          "SUV - SMALL",
          "SUV - SMALL",
          "SUV - SMALL",
          "SUV - SMALL",
          "SUV - SMALL",
          "SUV - SMALL",
          "SUV - SMALL",
          "SUV - SMALL",
          "SUV - SMALL",
          "SUV - SMALL",
          "SUV - SMALL",
          "SUV - SMALL",
          "SUV - SMALL",
          "SUV - SMALL",
          "SUV - SMALL",
          "SUV - SMALL",
          "SUV - SMALL",
          "SUV - SMALL",
          "SUV - SMALL",
          "SUV - SMALL",
          "SUV - SMALL",
          "SUV - SMALL",
          "SUV - SMALL",
          "SUV - SMALL",
          "SUV - SMALL",
          "SUV - SMALL",
          "SUV - SMALL",
          "SUV - SMALL",
          "SUV - SMALL",
          "SUV - SMALL",
          "SUV - SMALL",
          "SUV - SMALL",
          "SUV - SMALL",
          "SUV - SMALL",
          "SUV - SMALL",
          "SUV - SMALL",
          "SUV - SMALL",
          "SUV - SMALL",
          "SUV - SMALL",
          "SUV - SMALL",
          "SUV - SMALL",
          "SUV - SMALL",
          "SUV - SMALL",
          "SUV - SMALL",
          "SUV - SMALL",
          "SUV - SMALL",
          "SUV - SMALL",
          "SUV - SMALL",
          "SUV - SMALL",
          "SUV - SMALL",
          "SUV - SMALL",
          "SUV - SMALL",
          "SUV - SMALL",
          "SUV - SMALL",
          "SUV - SMALL",
          "SUV - SMALL",
          "SUV - SMALL",
          "SUV - SMALL",
          "SUV - SMALL",
          "SUV - SMALL",
          "SUV - SMALL",
          "SUV - SMALL",
          "SUV - SMALL",
          "SUV - SMALL",
          "SUV - SMALL",
          "SUV - SMALL",
          "SUV - SMALL",
          "SUV - SMALL",
          "SUV - SMALL",
          "SUV - SMALL",
          "SUV - SMALL",
          "SUV - SMALL",
          "SUV - SMALL",
          "SUV - SMALL",
          "SUV - SMALL",
          "SUV - SMALL",
          "SUV - SMALL",
          "SUV - SMALL",
          "SUV - SMALL",
          "SUV - SMALL",
          "SUV - SMALL",
          "SUV - SMALL",
          "SUV - SMALL",
          "SUV - SMALL",
          "SUV - SMALL",
          "SUV - SMALL",
          "SUV - SMALL",
          "SUV - SMALL",
          "SUV - SMALL",
          "SUV - SMALL",
          "SUV - SMALL",
          "SUV - SMALL",
          "SUV - SMALL",
          "SUV - SMALL",
          "SUV - SMALL",
          "SUV - SMALL",
          "SUV - SMALL",
          "SUV - SMALL",
          "SUV - SMALL",
          "SUV - SMALL",
          "SUV - SMALL",
          "SUV - SMALL",
          "SUV - SMALL",
          "SUV - SMALL",
          "SUV - SMALL",
          "SUV - SMALL",
          "SUV - SMALL",
          "SUV - SMALL",
          "SUV - SMALL",
          "SUV - SMALL",
          "SUV - SMALL",
          "SUV - SMALL",
          "SUV - SMALL",
          "SUV - SMALL",
          "SUV - SMALL",
          "SUV - SMALL",
          "SUV - SMALL",
          "SUV - SMALL",
          "SUV - SMALL",
          "SUV - SMALL",
          "SUV - SMALL",
          "SUV - SMALL",
          "SUV - SMALL",
          "SUV - SMALL",
          "SUV - SMALL",
          "SUV - SMALL",
          "SUV - SMALL",
          "SUV - SMALL",
          "SUV - SMALL",
          "SUV - SMALL",
          "SUV - SMALL",
          "SUV - SMALL",
          "SUV - SMALL",
          "SUV - SMALL",
          "SUV - SMALL",
          "SUV - SMALL",
          "SUV - SMALL",
          "SUV - SMALL",
          "SUV - SMALL",
          "SUV - SMALL",
          "SUV - SMALL",
          "SUV - SMALL",
          "SUV - SMALL",
          "SUV - SMALL",
          "SUV - SMALL",
          "SUV - SMALL",
          "SUV - SMALL",
          "SUV - SMALL",
          "SUV - SMALL",
          "SUV - SMALL",
          "SUV - SMALL",
          "SUV - SMALL",
          "SUV - SMALL",
          "SUV - SMALL",
          "SUV - SMALL",
          "SUV - SMALL",
          "SUV - SMALL",
          "SUV - SMALL",
          "SUV - SMALL",
          "SUV - SMALL",
          "SUV - SMALL",
          "SUV - SMALL",
          "SUV - SMALL",
          "SUV - SMALL",
          "SUV - SMALL",
          "SUV - SMALL",
          "SUV - SMALL",
          "SUV - SMALL",
          "SUV - SMALL",
          "SUV - SMALL",
          "SUV - SMALL",
          "SUV - SMALL",
          "SUV - SMALL",
          "SUV - SMALL",
          "SUV - SMALL",
          "SUV - SMALL",
          "SUV - SMALL",
          "SUV - SMALL",
          "SUV - SMALL",
          "SUV - SMALL",
          "SUV - SMALL",
          "SUV - SMALL",
          "SUV - SMALL",
          "SUV - SMALL",
          "SUV - SMALL",
          "SUV - SMALL",
          "SUV - SMALL",
          "SUV - SMALL",
          "SUV - SMALL",
          "SUV - SMALL",
          "SUV - SMALL",
          "SUV - SMALL",
          "SUV - SMALL",
          "SUV - SMALL",
          "SUV - SMALL",
          "SUV - SMALL",
          "SUV - SMALL",
          "SUV - SMALL",
          "SUV - SMALL",
          "SUV - SMALL",
          "SUV - SMALL",
          "SUV - SMALL",
          "SUV - SMALL",
          "SUV - SMALL",
          "SUV - SMALL",
          "SUV - SMALL",
          "SUV - SMALL",
          "SUV - SMALL",
          "SUV - SMALL",
          "SUV - SMALL",
          "SUV - SMALL",
          "SUV - SMALL",
          "SUV - SMALL",
          "SUV - SMALL",
          "SUV - SMALL",
          "SUV - SMALL",
          "SUV - SMALL",
          "SUV - SMALL",
          "SUV - SMALL",
          "SUV - SMALL",
          "SUV - SMALL",
          "SUV - SMALL",
          "SUV - SMALL",
          "SUV - SMALL",
          "SUV - SMALL",
          "SUV - SMALL",
          "SUV - SMALL",
          "SUV - SMALL",
          "SUV - SMALL",
          "SUV - SMALL",
          "SUV - SMALL",
          "SUV - SMALL",
          "SUV - SMALL",
          "SUV - SMALL",
          "SUV - SMALL",
          "SUV - SMALL",
          "SUV - SMALL",
          "SUV - SMALL",
          "SUV - SMALL",
          "SUV - SMALL",
          "SUV - SMALL",
          "SUV - SMALL",
          "SUV - SMALL",
          "SUV - SMALL",
          "SUV - SMALL",
          "SUV - SMALL",
          "SUV - SMALL",
          "SUV - SMALL",
          "SUV - SMALL",
          "SUV - SMALL",
          "SUV - SMALL",
          "SUV - SMALL",
          "SUV - SMALL",
          "SUV - SMALL",
          "SUV - SMALL",
          "SUV - SMALL",
          "SUV - SMALL",
          "SUV - SMALL",
          "SUV - SMALL",
          "SUV - SMALL",
          "SUV - SMALL",
          "SUV - SMALL",
          "SUV - SMALL",
          "SUV - SMALL",
          "SUV - SMALL",
          "SUV - SMALL",
          "SUV - SMALL",
          "SUV - SMALL",
          "SUV - SMALL",
          "SUV - SMALL",
          "SUV - SMALL",
          "SUV - SMALL",
          "SUV - SMALL",
          "SUV - SMALL",
          "SUV - SMALL",
          "SUV - SMALL",
          "SUV - SMALL",
          "SUV - SMALL",
          "SUV - SMALL",
          "SUV - SMALL",
          "SUV - SMALL",
          "SUV - SMALL",
          "SUV - SMALL",
          "SUV - SMALL",
          "SUV - SMALL",
          "SUV - SMALL",
          "SUV - SMALL",
          "SUV - SMALL",
          "SUV - SMALL",
          "SUV - SMALL",
          "SUV - SMALL",
          "SUV - SMALL",
          "SUV - SMALL",
          "SUV - SMALL",
          "SUV - SMALL",
          "SUV - SMALL",
          "SUV - SMALL",
          "SUV - SMALL",
          "SUV - SMALL",
          "SUV - SMALL",
          "SUV - SMALL",
          "SUV - SMALL",
          "SUV - SMALL",
          "SUV - SMALL",
          "SUV - SMALL",
          "SUV - SMALL",
          "SUV - SMALL",
          "SUV - SMALL",
          "SUV - SMALL",
          "SUV - SMALL",
          "SUV - SMALL",
          "SUV - SMALL",
          "SUV - SMALL",
          "SUV - SMALL",
          "SUV - SMALL",
          "SUV - SMALL",
          "SUV - SMALL",
          "SUV - SMALL",
          "SUV - SMALL",
          "SUV - SMALL",
          "SUV - SMALL",
          "SUV - SMALL",
          "SUV - SMALL",
          "SUV - SMALL",
          "SUV - SMALL",
          "SUV - SMALL",
          "SUV - SMALL",
          "SUV - SMALL",
          "SUV - SMALL",
          "SUV - SMALL",
          "SUV - SMALL",
          "SUV - SMALL",
          "SUV - SMALL",
          "SUV - SMALL",
          "SUV - SMALL",
          "SUV - SMALL",
          "SUV - SMALL",
          "SUV - SMALL",
          "SUV - SMALL",
          "SUV - SMALL",
          "SUV - SMALL",
          "SUV - SMALL",
          "SUV - SMALL",
          "SUV - SMALL",
          "SUV - SMALL",
          "SUV - SMALL",
          "SUV - SMALL",
          "SUV - SMALL",
          "SUV - SMALL",
          "SUV - SMALL",
          "SUV - SMALL",
          "SUV - SMALL",
          "SUV - SMALL",
          "SUV - SMALL",
          "SUV - SMALL",
          "SUV - SMALL",
          "SUV - SMALL",
          "SUV - SMALL",
          "SUV - SMALL",
          "SUV - SMALL",
          "SUV - SMALL",
          "SUV - SMALL",
          "SUV - SMALL",
          "SUV - SMALL",
          "SUV - SMALL",
          "SUV - SMALL",
          "SUV - SMALL",
          "SUV - SMALL",
          "SUV - SMALL",
          "SUV - SMALL",
          "SUV - SMALL",
          "SUV - SMALL",
          "SUV - SMALL",
          "SUV - SMALL",
          "SUV - SMALL",
          "SUV - SMALL",
          "SUV - SMALL",
          "SUV - SMALL",
          "SUV - SMALL",
          "SUV - SMALL",
          "SUV - SMALL",
          "SUV - SMALL",
          "SUV - SMALL",
          "SUV - SMALL",
          "SUV - SMALL",
          "SUV - SMALL",
          "SUV - SMALL",
          "SUV - SMALL",
          "SUV - SMALL",
          "SUV - SMALL",
          "SUV - SMALL",
          "SUV - SMALL",
          "SUV - SMALL",
          "SUV - SMALL",
          "SUV - SMALL",
          "SUV - SMALL",
          "SUV - SMALL",
          "SUV - SMALL",
          "SUV - SMALL",
          "SUV - SMALL",
          "SUV - SMALL",
          "SUV - SMALL",
          "SUV - SMALL",
          "SUV - SMALL",
          "SUV - SMALL",
          "SUV - SMALL",
          "SUV - SMALL",
          "SUV - SMALL",
          "SUV - SMALL",
          "SUV - SMALL",
          "SUV - SMALL",
          "SUV - SMALL",
          "SUV - SMALL",
          "SUV - SMALL",
          "SUV - SMALL",
          "SUV - SMALL",
          "SUV - SMALL",
          "SUV - SMALL",
          "SUV - SMALL",
          "SUV - SMALL",
          "SUV - SMALL",
          "SUV - SMALL",
          "SUV - SMALL",
          "SUV - SMALL",
          "SUV - SMALL",
          "SUV - SMALL",
          "SUV - SMALL",
          "SUV - SMALL",
          "SUV - SMALL",
          "SUV - SMALL",
          "SUV - SMALL",
          "SUV - SMALL",
          "SUV - SMALL",
          "SUV - SMALL",
          "SUV - SMALL",
          "SUV - SMALL",
          "SUV - SMALL",
          "SUV - SMALL",
          "SUV - SMALL",
          "SUV - SMALL",
          "SUV - SMALL",
          "SUV - SMALL",
          "SUV - SMALL",
          "SUV - SMALL",
          "SUV - SMALL",
          "SUV - SMALL",
          "SUV - SMALL",
          "SUV - SMALL",
          "SUV - SMALL",
          "SUV - SMALL",
          "SUV - SMALL",
          "SUV - SMALL",
          "SUV - SMALL",
          "SUV - SMALL",
          "SUV - SMALL",
          "SUV - SMALL",
          "SUV - SMALL",
          "SUV - SMALL",
          "SUV - SMALL",
          "SUV - SMALL",
          "SUV - SMALL",
          "SUV - SMALL",
          "SUV - SMALL",
          "SUV - SMALL",
          "SUV - SMALL",
          "SUV - SMALL",
          "SUV - SMALL",
          "SUV - SMALL",
          "SUV - SMALL",
          "SUV - SMALL",
          "SUV - SMALL",
          "SUV - SMALL",
          "SUV - SMALL",
          "SUV - SMALL",
          "SUV - SMALL",
          "SUV - SMALL",
          "SUV - SMALL",
          "SUV - SMALL",
          "SUV - SMALL",
          "SUV - SMALL",
          "SUV - SMALL",
          "SUV - SMALL",
          "SUV - SMALL",
          "SUV - SMALL",
          "SUV - SMALL",
          "SUV - SMALL",
          "SUV - SMALL",
          "SUV - SMALL",
          "SUV - SMALL",
          "SUV - SMALL",
          "SUV - SMALL",
          "SUV - SMALL",
          "SUV - SMALL",
          "SUV - SMALL",
          "SUV - SMALL",
          "SUV - SMALL",
          "SUV - SMALL",
          "SUV - SMALL",
          "SUV - SMALL",
          "SUV - SMALL",
          "SUV - SMALL",
          "SUV - SMALL",
          "SUV - SMALL",
          "SUV - SMALL",
          "SUV - SMALL",
          "SUV - SMALL",
          "SUV - SMALL",
          "SUV - SMALL",
          "SUV - SMALL",
          "SUV - SMALL",
          "SUV - SMALL",
          "SUV - SMALL",
          "SUV - SMALL",
          "SUV - SMALL",
          "SUV - SMALL",
          "SUV - SMALL",
          "SUV - SMALL",
          "SUV - SMALL",
          "SUV - SMALL",
          "SUV - SMALL",
          "SUV - SMALL",
          "SUV - SMALL",
          "SUV - SMALL",
          "SUV - SMALL",
          "SUV - SMALL",
          "SUV - SMALL",
          "SUV - SMALL",
          "SUV - SMALL",
          "SUV - SMALL",
          "SUV - SMALL",
          "SUV - SMALL",
          "SUV - SMALL",
          "SUV - SMALL",
          "SUV - SMALL",
          "SUV - SMALL",
          "SUV - SMALL",
          "SUV - SMALL",
          "SUV - SMALL",
          "SUV - SMALL",
          "SUV - SMALL",
          "SUV - SMALL",
          "SUV - SMALL",
          "SUV - SMALL",
          "SUV - SMALL",
          "SUV - SMALL",
          "SUV - SMALL",
          "SUV - SMALL",
          "SUV - SMALL",
          "SUV - SMALL",
          "SUV - SMALL",
          "SUV - SMALL",
          "SUV - SMALL",
          "SUV - SMALL",
          "SUV - SMALL",
          "SUV - SMALL",
          "SUV - SMALL",
          "SUV - SMALL",
          "SUV - SMALL",
          "SUV - SMALL",
          "SUV - SMALL",
          "SUV - SMALL",
          "SUV - SMALL",
          "SUV - SMALL",
          "SUV - SMALL",
          "SUV - SMALL",
          "SUV - SMALL",
          "SUV - SMALL",
          "SUV - SMALL",
          "SUV - SMALL",
          "SUV - SMALL",
          "SUV - SMALL",
          "SUV - SMALL",
          "SUV - SMALL",
          "SUV - SMALL",
          "SUV - SMALL",
          "SUV - SMALL",
          "SUV - SMALL",
          "SUV - SMALL",
          "SUV - SMALL",
          "SUV - SMALL",
          "SUV - SMALL",
          "SUV - SMALL",
          "SUV - SMALL",
          "SUV - SMALL",
          "SUV - SMALL",
          "SUV - SMALL",
          "SUV - SMALL",
          "SUV - SMALL",
          "SUV - SMALL",
          "SUV - SMALL",
          "SUV - SMALL",
          "SUV - SMALL",
          "SUV - SMALL",
          "SUV - SMALL",
          "SUV - SMALL",
          "SUV - SMALL",
          "SUV - SMALL",
          "SUV - SMALL",
          "SUV - SMALL",
          "SUV - SMALL",
          "SUV - SMALL",
          "SUV - SMALL",
          "SUV - SMALL",
          "SUV - SMALL",
          "SUV - SMALL",
          "SUV - SMALL",
          "SUV - SMALL",
          "SUV - SMALL",
          "SUV - SMALL",
          "SUV - SMALL",
          "SUV - SMALL",
          "SUV - SMALL",
          "SUV - SMALL",
          "SUV - SMALL",
          "SUV - SMALL",
          "SUV - SMALL",
          "SUV - SMALL",
          "SUV - SMALL",
          "SUV - SMALL",
          "SUV - SMALL",
          "SUV - SMALL",
          "SUV - SMALL",
          "SUV - SMALL",
          "SUV - SMALL",
          "SUV - SMALL",
          "SUV - SMALL",
          "SUV - SMALL",
          "SUV - SMALL",
          "SUV - SMALL",
          "SUV - SMALL",
          "SUV - SMALL",
          "SUV - SMALL",
          "SUV - SMALL",
          "SUV - SMALL",
          "SUV - SMALL",
          "SUV - SMALL",
          "SUV - SMALL",
          "SUV - SMALL",
          "SUV - SMALL",
          "SUV - SMALL",
          "SUV - SMALL",
          "SUV - SMALL",
          "SUV - SMALL",
          "SUV - SMALL",
          "SUV - SMALL",
          "SUV - SMALL",
          "SUV - SMALL",
          "SUV - SMALL",
          "SUV - SMALL",
          "SUV - SMALL",
          "SUV - SMALL",
          "SUV - SMALL",
          "SUV - SMALL",
          "SUV - SMALL",
          "SUV - SMALL",
          "SUV - SMALL",
          "SUV - SMALL",
          "SUV - SMALL",
          "SUV - SMALL",
          "SUV - SMALL",
          "SUV - SMALL",
          "SUV - SMALL",
          "SUV - SMALL",
          "SUV - SMALL",
          "SUV - SMALL",
          "SUV - SMALL",
          "SUV - SMALL",
          "SUV - SMALL",
          "SUV - SMALL",
          "SUV - SMALL",
          "SUV - SMALL",
          "SUV - SMALL",
          "SUV - SMALL",
          "SUV - SMALL",
          "SUV - SMALL",
          "SUV - SMALL",
          "SUV - SMALL",
          "SUV - SMALL",
          "SUV - SMALL",
          "SUV - SMALL",
          "SUV - SMALL",
          "SUV - SMALL",
          "SUV - SMALL",
          "SUV - SMALL",
          "SUV - SMALL",
          "SUV - SMALL",
          "SUV - SMALL",
          "SUV - SMALL",
          "SUV - SMALL",
          "SUV - SMALL",
          "SUV - SMALL",
          "SUV - SMALL",
          "SUV - SMALL",
          "SUV - SMALL",
          "SUV - SMALL",
          "SUV - SMALL",
          "SUV - SMALL",
          "SUV - SMALL",
          "SUV - SMALL",
          "SUV - SMALL",
          "SUV - SMALL",
          "SUV - SMALL",
          "SUV - SMALL",
          "SUV - SMALL",
          "SUV - SMALL",
          "SUV - SMALL",
          "SUV - SMALL",
          "SUV - SMALL",
          "SUV - SMALL",
          "SUV - SMALL",
          "SUV - SMALL",
          "SUV - SMALL",
          "SUV - SMALL",
          "SUV - SMALL",
          "SUV - SMALL",
          "SUV - SMALL",
          "SUV - SMALL",
          "SUV - SMALL",
          "SUV - SMALL",
          "SUV - SMALL",
          "SUV - SMALL",
          "SUV - SMALL",
          "SUV - SMALL",
          "SUV - SMALL",
          "SUV - SMALL",
          "SUV - SMALL",
          "SUV - SMALL",
          "SUV - SMALL",
          "SUV - SMALL",
          "SUV - SMALL",
          "SUV - SMALL",
          "SUV - SMALL",
          "SUV - SMALL",
          "SUV - SMALL",
          "SUV - SMALL",
          "SUV - SMALL",
          "SUV - SMALL",
          "SUV - SMALL",
          "SUV - SMALL",
          "SUV - SMALL",
          "SUV - SMALL",
          "SUV - SMALL",
          "SUV - SMALL",
          "SUV - SMALL",
          "SUV - SMALL",
          "SUV - SMALL",
          "SUV - SMALL",
          "SUV - SMALL",
          "SUV - SMALL",
          "SUV - SMALL",
          "SUV - SMALL",
          "SUV - SMALL",
          "SUV - SMALL",
          "SUV - SMALL",
          "SUV - SMALL",
          "SUV - SMALL",
          "SUV - SMALL",
          "SUV - SMALL",
          "SUV - SMALL",
          "SUV - SMALL",
          "SUV - SMALL",
          "SUV - SMALL",
          "SUV - SMALL",
          "SUV - SMALL",
          "SUV - SMALL",
          "SUV - SMALL",
          "SUV - SMALL",
          "SUV - SMALL",
          "SUV - SMALL",
          "SUV - SMALL",
          "SUV - SMALL",
          "SUV - SMALL",
          "SUV - SMALL",
          "SUV - SMALL",
          "SUV - SMALL",
          "SUV - SMALL",
          "SUV - SMALL",
          "SUV - SMALL",
          "SUV - SMALL",
          "SUV - SMALL",
          "SUV - SMALL",
          "SUV - SMALL",
          "SUV - SMALL",
          "SUV - SMALL",
          "SUV - SMALL",
          "SUV - SMALL",
          "SUV - SMALL",
          "SUV - SMALL",
          "SUV - SMALL",
          "SUV - SMALL",
          "SUV - SMALL",
          "SUV - SMALL",
          "SUV - SMALL",
          "SUV - SMALL",
          "SUV - SMALL",
          "SUV - SMALL",
          "SUV - SMALL",
          "SUV - SMALL",
          "SUV - SMALL",
          "SUV - SMALL",
          "SUV - SMALL",
          "SUV - SMALL",
          "SUV - SMALL",
          "SUV - SMALL",
          "SUV - SMALL",
          "SUV - SMALL",
          "SUV - SMALL",
          "SUV - SMALL",
          "SUV - SMALL",
          "SUV - SMALL",
          "SUV - SMALL",
          "SUV - SMALL",
          "SUV - SMALL",
          "SUV - SMALL",
          "SUV - SMALL",
          "SUV - SMALL",
          "SUV - SMALL",
          "SUV - SMALL",
          "SUV - SMALL",
          "SUV - SMALL",
          "SUV - SMALL",
          "SUV - SMALL",
          "SUV - SMALL",
          "SUV - SMALL",
          "SUV - SMALL",
          "SUV - SMALL",
          "SUV - SMALL",
          "SUV - SMALL",
          "SUV - SMALL",
          "SUV - SMALL",
          "SUV - SMALL",
          "SUV - SMALL",
          "SUV - SMALL",
          "SUV - SMALL",
          "SUV - SMALL",
          "SUV - SMALL",
          "SUV - SMALL",
          "SUV - SMALL",
          "SUV - SMALL",
          "SUV - SMALL",
          "SUV - SMALL",
          "SUV - SMALL",
          "SUV - SMALL",
          "SUV - SMALL",
          "SUV - SMALL",
          "SUV - SMALL",
          "SUV - SMALL",
          "SUV - SMALL",
          "SUV - SMALL",
          "SUV - SMALL",
          "SUV - SMALL",
          "SUV - SMALL",
          "SUV - SMALL",
          "SUV - SMALL",
          "SUV - SMALL",
          "SUV - SMALL",
          "SUV - SMALL",
          "SUV - SMALL",
          "SUV - SMALL",
          "SUV - SMALL",
          "SUV - SMALL",
          "SUV - SMALL",
          "SUV - SMALL",
          "SUV - SMALL",
          "SUV - SMALL",
          "SUV - SMALL",
          "SUV - SMALL",
          "SUV - SMALL",
          "SUV - SMALL",
          "SUV - SMALL",
          "SUV - SMALL",
          "SUV - SMALL",
          "SUV - SMALL",
          "SUV - SMALL",
          "SUV - SMALL",
          "SUV - SMALL",
          "SUV - SMALL",
          "SUV - SMALL",
          "SUV - SMALL",
          "SUV - SMALL",
          "SUV - SMALL",
          "SUV - SMALL",
          "SUV - SMALL",
          "SUV - SMALL",
          "SUV - SMALL",
          "SUV - SMALL",
          "SUV - SMALL",
          "SUV - SMALL",
          "SUV - SMALL",
          "SUV - SMALL",
          "SUV - SMALL",
          "SUV - SMALL",
          "SUV - SMALL",
          "SUV - SMALL",
          "SUV - SMALL",
          "SUV - SMALL",
          "SUV - SMALL",
          "SUV - SMALL",
          "SUV - SMALL",
          "SUV - SMALL",
          "SUV - SMALL",
          "SUV - SMALL",
          "SUV - SMALL",
          "SUV - SMALL",
          "SUV - SMALL",
          "SUV - SMALL",
          "SUV - SMALL",
          "SUV - SMALL",
          "SUV - SMALL",
          "SUV - SMALL",
          "SUV - SMALL",
          "SUV - SMALL",
          "SUV - SMALL",
          "SUV - SMALL",
          "SUV - SMALL",
          "SUV - SMALL",
          "SUV - SMALL",
          "SUV - SMALL",
          "SUV - SMALL",
          "SUV - SMALL",
          "SUV - SMALL",
          "SUV - SMALL",
          "SUV - SMALL",
          "SUV - SMALL",
          "SUV - SMALL",
          "SUV - SMALL",
          "SUV - SMALL",
          "SUV - SMALL",
          "SUV - SMALL",
          "SUV - SMALL",
          "SUV - SMALL",
          "SUV - SMALL",
          "SUV - SMALL",
          "SUV - SMALL",
          "SUV - SMALL",
          "SUV - SMALL",
          "SUV - SMALL",
          "SUV - SMALL",
          "SUV - SMALL",
          "SUV - SMALL",
          "SUV - SMALL",
          "SUV - SMALL",
          "SUV - SMALL",
          "SUV - SMALL",
          "SUV - SMALL",
          "SUV - SMALL",
          "SUV - SMALL",
          "SUV - SMALL",
          "SUV - SMALL",
          "SUV - SMALL",
          "SUV - SMALL",
          "SUV - SMALL",
          "SUV - SMALL",
          "SUV - SMALL",
          "SUV - SMALL",
          "SUV - SMALL",
          "SUV - SMALL",
          "SUV - SMALL",
          "SUV - SMALL",
          "SUV - SMALL",
          "SUV - SMALL",
          "SUV - SMALL",
          "SUV - SMALL",
          "SUV - SMALL",
          "SUV - SMALL",
          "SUV - SMALL",
          "SUV - SMALL",
          "SUV - SMALL",
          "SUV - SMALL",
          "SUV - SMALL",
          "SUV - SMALL",
          "SUV - SMALL",
          "SUV - SMALL",
          "SUV - SMALL",
          "SUV - SMALL",
          "SUV - SMALL",
          "SUV - SMALL",
          "SUV - SMALL",
          "SUV - SMALL",
          "SUV - SMALL",
          "SUV - SMALL",
          "SUV - SMALL",
          "SUV - SMALL",
          "SUV - SMALL",
          "SUV - SMALL",
          "SUV - SMALL",
          "SUV - SMALL",
          "SUV - SMALL",
          "SUV - SMALL",
          "SUV - SMALL",
          "SUV - SMALL",
          "SUV - SMALL",
          "SUV - SMALL",
          "SUV - SMALL",
          "SUV - SMALL",
          "SUV - SMALL",
          "SUV - SMALL",
          "SUV - SMALL",
          "SUV - SMALL",
          "SUV - SMALL",
          "SUV - SMALL",
          "SUV - SMALL",
          "SUV - SMALL",
          "SUV - SMALL",
          "SUV - SMALL",
          "SUV - SMALL",
          "SUV - SMALL",
          "SUV - SMALL",
          "SUV - SMALL",
          "SUV - SMALL",
          "SUV - SMALL",
          "SUV - SMALL",
          "SUV - SMALL",
          "SUV - SMALL",
          "SUV - SMALL",
          "SUV - SMALL",
          "SUV - SMALL",
          "SUV - SMALL",
          "SUV - SMALL",
          "SUV - SMALL",
          "SUV - SMALL",
          "SUV - SMALL",
          "SUV - SMALL",
          "SUV - SMALL",
          "SUV - SMALL",
          "SUV - SMALL",
          "SUV - SMALL",
          "SUV - SMALL",
          "SUV - SMALL",
          "SUV - SMALL",
          "SUV - SMALL",
          "SUV - SMALL",
          "SUV - SMALL",
          "SUV - SMALL",
          "SUV - SMALL",
          "SUV - SMALL",
          "SUV - SMALL",
          "SUV - SMALL",
          "SUV - SMALL",
          "SUV - SMALL",
          "SUV - SMALL",
          "SUV - SMALL",
          "SUV - SMALL",
          "SUV - SMALL",
          "SUV - SMALL",
          "SUV - SMALL",
          "SUV - SMALL",
          "SUV - SMALL",
          "SUV - SMALL",
          "SUV - SMALL",
          "SUV - SMALL",
          "SUV - SMALL",
          "SUV - SMALL",
          "SUV - SMALL",
          "SUV - SMALL",
          "SUV - SMALL",
          "SUV - SMALL",
          "SUV - SMALL",
          "SUV - SMALL",
          "SUV - SMALL",
          "SUV - SMALL",
          "SUV - SMALL",
          "SUV - SMALL",
          "SUV - SMALL",
          "SUV - SMALL",
          "SUV - SMALL",
          "SUV - SMALL",
          "SUV - SMALL",
          "SUV - SMALL",
          "SUV - SMALL",
          "SUV - SMALL",
          "SUV - SMALL",
          "SUV - SMALL",
          "SUV - SMALL",
          "SUV - SMALL",
          "SUV - SMALL",
          "SUV - SMALL",
          "SUV - SMALL",
          "SUV - SMALL",
          "SUV - SMALL",
          "SUV - SMALL",
          "SUV - SMALL",
          "SUV - SMALL",
          "SUV - SMALL",
          "SUV - SMALL",
          "SUV - SMALL",
          "SUV - SMALL",
          "SUV - SMALL",
          "SUV - SMALL",
          "SUV - SMALL",
          "SUV - SMALL",
          "SUV - SMALL",
          "SUV - SMALL",
          "SUV - SMALL",
          "SUV - SMALL",
          "SUV - SMALL",
          "SUV - SMALL",
          "SUV - SMALL",
          "SUV - SMALL",
          "SUV - SMALL",
          "SUV - SMALL",
          "SUV - SMALL",
          "SUV - SMALL",
          "SUV - SMALL",
          "SUV - SMALL",
          "SUV - SMALL",
          "SUV - SMALL",
          "SUV - SMALL",
          "SUV - SMALL",
          "SUV - SMALL",
          "SUV - SMALL",
          "SUV - SMALL"
         ],
         "x0": " ",
         "xaxis": "x",
         "y": {
          "bdata": "/wD0AO8AAgH0ANQAJAHRAAQB5gD9AMQA1ADRABQBAwHmACIBEAH0AOsAwQC6AM8A/wAdARQBAwHhAPgACAEZAdEA3QDYANYA5gDRABQBAwHmACIBEAH2ANEA2AAJARQBAgELAe0ACAH/ANYA6ADmAPIA9AD0AP0AJgFOAdoA8gDmAPgA6AD9APsACwHkAOEA0QDhANgA6wDYAP8A5ADhANEA4QDYAOsA2AD/ACYBJgE0ATQB7QAGAf0ADwHmAAQBBgH2ABIB4QDhAA0B/wC9ABkBvQC4AMYAxADNABsBIgHmAAQBxgDRAOsAyADKAM8ADwH0AP0AvwDGAEcBOwHaAMYA3wDPAOEADQEtAcQA1ACxACkBQAHtAAIBzQDYANoA5gD9AOsABAH2AAsB9gACAQ8BCAEPAQQB/wD0AO8ABgH0AM0AGQHRAAIB1QDkAPsA6wD7AMQA1ADRANEA1gAWAeYA5gDjACIBvQC6AMgA/wAWAQMBHQHhAOEABAHtAA8BEgHPAN0A2gDYAOgA0QDRANYAFgHmACIBswC/AAgBFAEEAQgB7QAIAf8AHwHWAOgA5gDvAPQA6AD2ACYB2gDaAM4A5ADmAOYA2wDrAOgA+wD7APgA5ADUAOYA1gDrAN8A/wDkANQA5gDWAOsA3wD/AMoA2ADDAMoA4QAmASYBNAE0Ae8A/wD7AA8B5gAEAQQB9gASAd8A3wDdAOQAqgANAf8AvQD7AAIBFgG9ALgAxgDEAM8AGwEkAcgA5gACAcYA0QDoAMEAygDKAN0A7wD2AP0AvwDEAEcBSwEZARsB2ADIAN0AvwDfAPIAugDRAK0A9gD/AM0A2gDNAN0A7wD7APIABAHyAAIB9gDKAO0ACAHKAAYB2AASAQQBygASAf4A+wD5APQACwH0ANEAHQHXANMA5wABAQgB7gABAccA1wC2AMAA+ADWAB0B1gDdAOsALAHrAOwAwQC+AM0ABAEbAQ4BJAHCANkA4ADnAOQADAHwABYBFgHQAOAA3ADcAOwA1gAdAdYA3QDrACwBugDKALEAsQDBAL4AvgD9AAkBAQEJAQ0B7wAKAQEBJwHTANsA8ADyAPwALQHfAN8A1QDpAOkA6QDiAPAA7gAAAf8A/QDqANYA6wDaAPgA5AADAeoA1gDrANoA+ADkAAMBzwDcAMkAywDlACsBKwE6ATgB9QDpAAMB9QATAecABQEFAfsA+ADlAOEA5wCsAPsAAAEFARsBJQHAAL4AvADHANIA2ADLAMEAzwDuAMoA1gDfAPUA+wACAcIAyQAdAR8B3gDMAOMAxADkAPYAvwDWAK8ABAHUANwAqQDQANwA9AAAAfEABwH7AAMB+ADVAP4A4gD3ABQB1QD+AAMB+wDSAPoA9gALAR0B1QDTAOkABAEEAfAAwgC5ANAAxAD4AOgA9QAEAd0A3QDfAB0B7QDtAOoAMAHCAMIA0AAFARwBEgEkAcUA2wDiAOkA5gAOAfQAGQEcAdYA3gDlANsA4gDvAN0A3QDfAB0B7QAwAbUAvAD+AAoBAAEJAQ0B6wAIAf0AJwHdANUA8QD2AAEBLQEVAeEA6gDrAPEA8AADAQABDQHrANgA7gDbAPkAAwHmANoA0wDeAN0A6wDYAO4A2wD5AAMB5gDRAN4AzgDTAOYAKwEqATkBOAHqAAMB9gAhAQ4B3AAHAfcA/ADnAPMA4gDoALAA/AAAAf4ADAEcASUBxwDMAN0A4QDyAOkAYQHUAIAA6QDFANMA8gDMANgA1QDwAPoAAgHAAMsA+AAdAR8BHwHBANgA3wDEAOQAxgDlAPcA8wDZANIA3gDiAKoAAAEHAdgA6QD0AAMB+wDSAPoA4gAkAeIADgHZAN4A3wDxAPAACgHCALkA0gDEAPgA6gD6AAcBwwDGANEAxgDkAMIAwgDSAAUBHAESASQBxQDcAOIAwwDZAOkA5wAOAfYAGgEjAdYA5QDbAOIA8QDJAMYA0gDGAO8AtQC8AAoBAAG6AMkAygAJAQ0BJwHrAP0ACAHVAN0A8QABAdoA4wAVAeEA2gDqAOsA6wDnAPEA7wADAQABDQHaANMA3gDdAOkAEgEVAfUAEwEdAdEA3gDeAM4A0wDmACsBKgE5ATgB6gADAfYAIQEOAdoABwH3APYA4QDnAOUAEQHiAOgAsAD8AAwBAAH+AA0BHAElAc4AzgDJANkA0ADhAPIAFQEQAdEA8ADrANAA2ADUAPgAzADYANUA2wDwAPoAAwHAAM0A+AAfAR0BHwEeAbwA3ADfAMQA5ADGAPcA8wDSAN4A4gCrAOkAGgHlAO0A5ADwAPwAAgHSAOgA8gDaAOIAJAH4AOYADgHZAN4A3wD1AN8A9QDMAMIA1gDNAPkA6gDRAOMA+gAHAegA+gAJAcQAxwDPAMcA5ADEAMIA1gAFARwBEgEkAdUAxADaAOAA6QADAdYA4gDaAOgA7wDJAMcA0gDHAO8AtQC8AAkB+gAKAQEBugDJAMoA4QAGAe0ADAEUASkB2ADvAPAA0wABAecA2gDjABUB1gDbAPAA5QDmAPkA8AADAfkADQHaANMA3gDdAMwA3gDYAOYA5gDpABIBFQH1ABMBHQHhAPIACQHaAAcB9wD2AOEA5wDlAPgAEQHiAOgAsAD8AAwBAQEAAQ4B+gADAc4AzgDJANkA0ADmAOMA4QD0AAYBCQE1ATUB0QDqAOoA2ADUAPYAzgDVANoA8AD6AAMBwADMAAgBEAG8ANwAwADGAPcA8wC3AL4AjAD1AN0A5ADTAOkA8gD+AAIB0gDoAPEA2gDiACAB+ADiABQB1QDPANIA1wBTAVMB6wDXAFMBUwHrAMwA1gDGAMcA+gDqANEA4wDjAOsADgEVAeEA7gDoAA0BxADMAOQAxADWAAUB1QDFANgA5QDpAOkAAgG5AMQA1QCIAIsAygDSAO8AtAC9AAkBCgEBAbsAyQDKAOEA/wDuANgA7wDxAOQAAQHnAOwA4wDoABUBLwHWANsA8ADlAOYA+QDwAAMB+QANAdoA0wDeAN0AzADeANgA5gDmAPEAEgEDARUBBwEBAf8AGAEUAR0B8gAFAdYABQHvAAgBCgEGAfUA8gDuAPgAEQERAT4B4gDoALAA/AAMAeUA5gD6AAIBvQDCAMoA0ADIAM4AyQDZANAA5gD0ADUBNQHYANQA9gDOANUA2gDwAPsAAQHAAMwACAEQAbkA3ADAANUAwADwAPAAuADCAMgAiwARAd0A8QDSANsA6ADwAA==",
          "dtype": "i2"
         },
         "y0": " ",
         "yaxis": "y"
        },
        {
         "alignmentgroup": "True",
         "hovertemplate": "Vehicle Class=%{x}<br>CO2 Emissions(g/km)=%{y}<extra></extra>",
         "legendgroup": "MID-SIZE",
         "marker": {
          "color": "#00cc96"
         },
         "name": "MID-SIZE",
         "notched": false,
         "offsetgroup": "MID-SIZE",
         "orientation": "v",
         "showlegend": true,
         "type": "box",
         "x": [
          "MID-SIZE",
          "MID-SIZE",
          "MID-SIZE",
          "MID-SIZE",
          "MID-SIZE",
          "MID-SIZE",
          "MID-SIZE",
          "MID-SIZE",
          "MID-SIZE",
          "MID-SIZE",
          "MID-SIZE",
          "MID-SIZE",
          "MID-SIZE",
          "MID-SIZE",
          "MID-SIZE",
          "MID-SIZE",
          "MID-SIZE",
          "MID-SIZE",
          "MID-SIZE",
          "MID-SIZE",
          "MID-SIZE",
          "MID-SIZE",
          "MID-SIZE",
          "MID-SIZE",
          "MID-SIZE",
          "MID-SIZE",
          "MID-SIZE",
          "MID-SIZE",
          "MID-SIZE",
          "MID-SIZE",
          "MID-SIZE",
          "MID-SIZE",
          "MID-SIZE",
          "MID-SIZE",
          "MID-SIZE",
          "MID-SIZE",
          "MID-SIZE",
          "MID-SIZE",
          "MID-SIZE",
          "MID-SIZE",
          "MID-SIZE",
          "MID-SIZE",
          "MID-SIZE",
          "MID-SIZE",
          "MID-SIZE",
          "MID-SIZE",
          "MID-SIZE",
          "MID-SIZE",
          "MID-SIZE",
          "MID-SIZE",
          "MID-SIZE",
          "MID-SIZE",
          "MID-SIZE",
          "MID-SIZE",
          "MID-SIZE",
          "MID-SIZE",
          "MID-SIZE",
          "MID-SIZE",
          "MID-SIZE",
          "MID-SIZE",
          "MID-SIZE",
          "MID-SIZE",
          "MID-SIZE",
          "MID-SIZE",
          "MID-SIZE",
          "MID-SIZE",
          "MID-SIZE",
          "MID-SIZE",
          "MID-SIZE",
          "MID-SIZE",
          "MID-SIZE",
          "MID-SIZE",
          "MID-SIZE",
          "MID-SIZE",
          "MID-SIZE",
          "MID-SIZE",
          "MID-SIZE",
          "MID-SIZE",
          "MID-SIZE",
          "MID-SIZE",
          "MID-SIZE",
          "MID-SIZE",
          "MID-SIZE",
          "MID-SIZE",
          "MID-SIZE",
          "MID-SIZE",
          "MID-SIZE",
          "MID-SIZE",
          "MID-SIZE",
          "MID-SIZE",
          "MID-SIZE",
          "MID-SIZE",
          "MID-SIZE",
          "MID-SIZE",
          "MID-SIZE",
          "MID-SIZE",
          "MID-SIZE",
          "MID-SIZE",
          "MID-SIZE",
          "MID-SIZE",
          "MID-SIZE",
          "MID-SIZE",
          "MID-SIZE",
          "MID-SIZE",
          "MID-SIZE",
          "MID-SIZE",
          "MID-SIZE",
          "MID-SIZE",
          "MID-SIZE",
          "MID-SIZE",
          "MID-SIZE",
          "MID-SIZE",
          "MID-SIZE",
          "MID-SIZE",
          "MID-SIZE",
          "MID-SIZE",
          "MID-SIZE",
          "MID-SIZE",
          "MID-SIZE",
          "MID-SIZE",
          "MID-SIZE",
          "MID-SIZE",
          "MID-SIZE",
          "MID-SIZE",
          "MID-SIZE",
          "MID-SIZE",
          "MID-SIZE",
          "MID-SIZE",
          "MID-SIZE",
          "MID-SIZE",
          "MID-SIZE",
          "MID-SIZE",
          "MID-SIZE",
          "MID-SIZE",
          "MID-SIZE",
          "MID-SIZE",
          "MID-SIZE",
          "MID-SIZE",
          "MID-SIZE",
          "MID-SIZE",
          "MID-SIZE",
          "MID-SIZE",
          "MID-SIZE",
          "MID-SIZE",
          "MID-SIZE",
          "MID-SIZE",
          "MID-SIZE",
          "MID-SIZE",
          "MID-SIZE",
          "MID-SIZE",
          "MID-SIZE",
          "MID-SIZE",
          "MID-SIZE",
          "MID-SIZE",
          "MID-SIZE",
          "MID-SIZE",
          "MID-SIZE",
          "MID-SIZE",
          "MID-SIZE",
          "MID-SIZE",
          "MID-SIZE",
          "MID-SIZE",
          "MID-SIZE",
          "MID-SIZE",
          "MID-SIZE",
          "MID-SIZE",
          "MID-SIZE",
          "MID-SIZE",
          "MID-SIZE",
          "MID-SIZE",
          "MID-SIZE",
          "MID-SIZE",
          "MID-SIZE",
          "MID-SIZE",
          "MID-SIZE",
          "MID-SIZE",
          "MID-SIZE",
          "MID-SIZE",
          "MID-SIZE",
          "MID-SIZE",
          "MID-SIZE",
          "MID-SIZE",
          "MID-SIZE",
          "MID-SIZE",
          "MID-SIZE",
          "MID-SIZE",
          "MID-SIZE",
          "MID-SIZE",
          "MID-SIZE",
          "MID-SIZE",
          "MID-SIZE",
          "MID-SIZE",
          "MID-SIZE",
          "MID-SIZE",
          "MID-SIZE",
          "MID-SIZE",
          "MID-SIZE",
          "MID-SIZE",
          "MID-SIZE",
          "MID-SIZE",
          "MID-SIZE",
          "MID-SIZE",
          "MID-SIZE",
          "MID-SIZE",
          "MID-SIZE",
          "MID-SIZE",
          "MID-SIZE",
          "MID-SIZE",
          "MID-SIZE",
          "MID-SIZE",
          "MID-SIZE",
          "MID-SIZE",
          "MID-SIZE",
          "MID-SIZE",
          "MID-SIZE",
          "MID-SIZE",
          "MID-SIZE",
          "MID-SIZE",
          "MID-SIZE",
          "MID-SIZE",
          "MID-SIZE",
          "MID-SIZE",
          "MID-SIZE",
          "MID-SIZE",
          "MID-SIZE",
          "MID-SIZE",
          "MID-SIZE",
          "MID-SIZE",
          "MID-SIZE",
          "MID-SIZE",
          "MID-SIZE",
          "MID-SIZE",
          "MID-SIZE",
          "MID-SIZE",
          "MID-SIZE",
          "MID-SIZE",
          "MID-SIZE",
          "MID-SIZE",
          "MID-SIZE",
          "MID-SIZE",
          "MID-SIZE",
          "MID-SIZE",
          "MID-SIZE",
          "MID-SIZE",
          "MID-SIZE",
          "MID-SIZE",
          "MID-SIZE",
          "MID-SIZE",
          "MID-SIZE",
          "MID-SIZE",
          "MID-SIZE",
          "MID-SIZE",
          "MID-SIZE",
          "MID-SIZE",
          "MID-SIZE",
          "MID-SIZE",
          "MID-SIZE",
          "MID-SIZE",
          "MID-SIZE",
          "MID-SIZE",
          "MID-SIZE",
          "MID-SIZE",
          "MID-SIZE",
          "MID-SIZE",
          "MID-SIZE",
          "MID-SIZE",
          "MID-SIZE",
          "MID-SIZE",
          "MID-SIZE",
          "MID-SIZE",
          "MID-SIZE",
          "MID-SIZE",
          "MID-SIZE",
          "MID-SIZE",
          "MID-SIZE",
          "MID-SIZE",
          "MID-SIZE",
          "MID-SIZE",
          "MID-SIZE",
          "MID-SIZE",
          "MID-SIZE",
          "MID-SIZE",
          "MID-SIZE",
          "MID-SIZE",
          "MID-SIZE",
          "MID-SIZE",
          "MID-SIZE",
          "MID-SIZE",
          "MID-SIZE",
          "MID-SIZE",
          "MID-SIZE",
          "MID-SIZE",
          "MID-SIZE",
          "MID-SIZE",
          "MID-SIZE",
          "MID-SIZE",
          "MID-SIZE",
          "MID-SIZE",
          "MID-SIZE",
          "MID-SIZE",
          "MID-SIZE",
          "MID-SIZE",
          "MID-SIZE",
          "MID-SIZE",
          "MID-SIZE",
          "MID-SIZE",
          "MID-SIZE",
          "MID-SIZE",
          "MID-SIZE",
          "MID-SIZE",
          "MID-SIZE",
          "MID-SIZE",
          "MID-SIZE",
          "MID-SIZE",
          "MID-SIZE",
          "MID-SIZE",
          "MID-SIZE",
          "MID-SIZE",
          "MID-SIZE",
          "MID-SIZE",
          "MID-SIZE",
          "MID-SIZE",
          "MID-SIZE",
          "MID-SIZE",
          "MID-SIZE",
          "MID-SIZE",
          "MID-SIZE",
          "MID-SIZE",
          "MID-SIZE",
          "MID-SIZE",
          "MID-SIZE",
          "MID-SIZE",
          "MID-SIZE",
          "MID-SIZE",
          "MID-SIZE",
          "MID-SIZE",
          "MID-SIZE",
          "MID-SIZE",
          "MID-SIZE",
          "MID-SIZE",
          "MID-SIZE",
          "MID-SIZE",
          "MID-SIZE",
          "MID-SIZE",
          "MID-SIZE",
          "MID-SIZE",
          "MID-SIZE",
          "MID-SIZE",
          "MID-SIZE",
          "MID-SIZE",
          "MID-SIZE",
          "MID-SIZE",
          "MID-SIZE",
          "MID-SIZE",
          "MID-SIZE",
          "MID-SIZE",
          "MID-SIZE",
          "MID-SIZE",
          "MID-SIZE",
          "MID-SIZE",
          "MID-SIZE",
          "MID-SIZE",
          "MID-SIZE",
          "MID-SIZE",
          "MID-SIZE",
          "MID-SIZE",
          "MID-SIZE",
          "MID-SIZE",
          "MID-SIZE",
          "MID-SIZE",
          "MID-SIZE",
          "MID-SIZE",
          "MID-SIZE",
          "MID-SIZE",
          "MID-SIZE",
          "MID-SIZE",
          "MID-SIZE",
          "MID-SIZE",
          "MID-SIZE",
          "MID-SIZE",
          "MID-SIZE",
          "MID-SIZE",
          "MID-SIZE",
          "MID-SIZE",
          "MID-SIZE",
          "MID-SIZE",
          "MID-SIZE",
          "MID-SIZE",
          "MID-SIZE",
          "MID-SIZE",
          "MID-SIZE",
          "MID-SIZE",
          "MID-SIZE",
          "MID-SIZE",
          "MID-SIZE",
          "MID-SIZE",
          "MID-SIZE",
          "MID-SIZE",
          "MID-SIZE",
          "MID-SIZE",
          "MID-SIZE",
          "MID-SIZE",
          "MID-SIZE",
          "MID-SIZE",
          "MID-SIZE",
          "MID-SIZE",
          "MID-SIZE",
          "MID-SIZE",
          "MID-SIZE",
          "MID-SIZE",
          "MID-SIZE",
          "MID-SIZE",
          "MID-SIZE",
          "MID-SIZE",
          "MID-SIZE",
          "MID-SIZE",
          "MID-SIZE",
          "MID-SIZE",
          "MID-SIZE",
          "MID-SIZE",
          "MID-SIZE",
          "MID-SIZE",
          "MID-SIZE",
          "MID-SIZE",
          "MID-SIZE",
          "MID-SIZE",
          "MID-SIZE",
          "MID-SIZE",
          "MID-SIZE",
          "MID-SIZE",
          "MID-SIZE",
          "MID-SIZE",
          "MID-SIZE",
          "MID-SIZE",
          "MID-SIZE",
          "MID-SIZE",
          "MID-SIZE",
          "MID-SIZE",
          "MID-SIZE",
          "MID-SIZE",
          "MID-SIZE",
          "MID-SIZE",
          "MID-SIZE",
          "MID-SIZE",
          "MID-SIZE",
          "MID-SIZE",
          "MID-SIZE",
          "MID-SIZE",
          "MID-SIZE",
          "MID-SIZE",
          "MID-SIZE",
          "MID-SIZE",
          "MID-SIZE",
          "MID-SIZE",
          "MID-SIZE",
          "MID-SIZE",
          "MID-SIZE",
          "MID-SIZE",
          "MID-SIZE",
          "MID-SIZE",
          "MID-SIZE",
          "MID-SIZE",
          "MID-SIZE",
          "MID-SIZE",
          "MID-SIZE",
          "MID-SIZE",
          "MID-SIZE",
          "MID-SIZE",
          "MID-SIZE",
          "MID-SIZE",
          "MID-SIZE",
          "MID-SIZE",
          "MID-SIZE",
          "MID-SIZE",
          "MID-SIZE",
          "MID-SIZE",
          "MID-SIZE",
          "MID-SIZE",
          "MID-SIZE",
          "MID-SIZE",
          "MID-SIZE",
          "MID-SIZE",
          "MID-SIZE",
          "MID-SIZE",
          "MID-SIZE",
          "MID-SIZE",
          "MID-SIZE",
          "MID-SIZE",
          "MID-SIZE",
          "MID-SIZE",
          "MID-SIZE",
          "MID-SIZE",
          "MID-SIZE",
          "MID-SIZE",
          "MID-SIZE",
          "MID-SIZE",
          "MID-SIZE",
          "MID-SIZE",
          "MID-SIZE",
          "MID-SIZE",
          "MID-SIZE",
          "MID-SIZE",
          "MID-SIZE",
          "MID-SIZE",
          "MID-SIZE",
          "MID-SIZE",
          "MID-SIZE",
          "MID-SIZE",
          "MID-SIZE",
          "MID-SIZE",
          "MID-SIZE",
          "MID-SIZE",
          "MID-SIZE",
          "MID-SIZE",
          "MID-SIZE",
          "MID-SIZE",
          "MID-SIZE",
          "MID-SIZE",
          "MID-SIZE",
          "MID-SIZE",
          "MID-SIZE",
          "MID-SIZE",
          "MID-SIZE",
          "MID-SIZE",
          "MID-SIZE",
          "MID-SIZE",
          "MID-SIZE",
          "MID-SIZE",
          "MID-SIZE",
          "MID-SIZE",
          "MID-SIZE",
          "MID-SIZE",
          "MID-SIZE",
          "MID-SIZE",
          "MID-SIZE",
          "MID-SIZE",
          "MID-SIZE",
          "MID-SIZE",
          "MID-SIZE",
          "MID-SIZE",
          "MID-SIZE",
          "MID-SIZE",
          "MID-SIZE",
          "MID-SIZE",
          "MID-SIZE",
          "MID-SIZE",
          "MID-SIZE",
          "MID-SIZE",
          "MID-SIZE",
          "MID-SIZE",
          "MID-SIZE",
          "MID-SIZE",
          "MID-SIZE",
          "MID-SIZE",
          "MID-SIZE",
          "MID-SIZE",
          "MID-SIZE",
          "MID-SIZE",
          "MID-SIZE",
          "MID-SIZE",
          "MID-SIZE",
          "MID-SIZE",
          "MID-SIZE",
          "MID-SIZE",
          "MID-SIZE",
          "MID-SIZE",
          "MID-SIZE",
          "MID-SIZE",
          "MID-SIZE",
          "MID-SIZE",
          "MID-SIZE",
          "MID-SIZE",
          "MID-SIZE",
          "MID-SIZE",
          "MID-SIZE",
          "MID-SIZE",
          "MID-SIZE",
          "MID-SIZE",
          "MID-SIZE",
          "MID-SIZE",
          "MID-SIZE",
          "MID-SIZE",
          "MID-SIZE",
          "MID-SIZE",
          "MID-SIZE",
          "MID-SIZE",
          "MID-SIZE",
          "MID-SIZE",
          "MID-SIZE",
          "MID-SIZE",
          "MID-SIZE",
          "MID-SIZE",
          "MID-SIZE",
          "MID-SIZE",
          "MID-SIZE",
          "MID-SIZE",
          "MID-SIZE",
          "MID-SIZE",
          "MID-SIZE",
          "MID-SIZE",
          "MID-SIZE",
          "MID-SIZE",
          "MID-SIZE",
          "MID-SIZE",
          "MID-SIZE",
          "MID-SIZE",
          "MID-SIZE",
          "MID-SIZE",
          "MID-SIZE",
          "MID-SIZE",
          "MID-SIZE",
          "MID-SIZE",
          "MID-SIZE",
          "MID-SIZE",
          "MID-SIZE",
          "MID-SIZE",
          "MID-SIZE",
          "MID-SIZE",
          "MID-SIZE",
          "MID-SIZE",
          "MID-SIZE",
          "MID-SIZE",
          "MID-SIZE",
          "MID-SIZE",
          "MID-SIZE",
          "MID-SIZE",
          "MID-SIZE",
          "MID-SIZE",
          "MID-SIZE",
          "MID-SIZE",
          "MID-SIZE",
          "MID-SIZE",
          "MID-SIZE",
          "MID-SIZE",
          "MID-SIZE",
          "MID-SIZE",
          "MID-SIZE",
          "MID-SIZE",
          "MID-SIZE",
          "MID-SIZE",
          "MID-SIZE",
          "MID-SIZE",
          "MID-SIZE",
          "MID-SIZE",
          "MID-SIZE",
          "MID-SIZE",
          "MID-SIZE",
          "MID-SIZE",
          "MID-SIZE",
          "MID-SIZE",
          "MID-SIZE",
          "MID-SIZE",
          "MID-SIZE",
          "MID-SIZE",
          "MID-SIZE",
          "MID-SIZE",
          "MID-SIZE",
          "MID-SIZE",
          "MID-SIZE",
          "MID-SIZE",
          "MID-SIZE",
          "MID-SIZE",
          "MID-SIZE",
          "MID-SIZE",
          "MID-SIZE",
          "MID-SIZE",
          "MID-SIZE",
          "MID-SIZE",
          "MID-SIZE",
          "MID-SIZE",
          "MID-SIZE",
          "MID-SIZE",
          "MID-SIZE",
          "MID-SIZE",
          "MID-SIZE",
          "MID-SIZE",
          "MID-SIZE",
          "MID-SIZE",
          "MID-SIZE",
          "MID-SIZE",
          "MID-SIZE",
          "MID-SIZE",
          "MID-SIZE",
          "MID-SIZE",
          "MID-SIZE",
          "MID-SIZE",
          "MID-SIZE",
          "MID-SIZE",
          "MID-SIZE",
          "MID-SIZE",
          "MID-SIZE",
          "MID-SIZE",
          "MID-SIZE",
          "MID-SIZE",
          "MID-SIZE",
          "MID-SIZE",
          "MID-SIZE",
          "MID-SIZE",
          "MID-SIZE",
          "MID-SIZE",
          "MID-SIZE",
          "MID-SIZE",
          "MID-SIZE",
          "MID-SIZE",
          "MID-SIZE",
          "MID-SIZE",
          "MID-SIZE",
          "MID-SIZE",
          "MID-SIZE",
          "MID-SIZE",
          "MID-SIZE",
          "MID-SIZE",
          "MID-SIZE",
          "MID-SIZE",
          "MID-SIZE",
          "MID-SIZE",
          "MID-SIZE",
          "MID-SIZE",
          "MID-SIZE",
          "MID-SIZE",
          "MID-SIZE",
          "MID-SIZE",
          "MID-SIZE",
          "MID-SIZE",
          "MID-SIZE",
          "MID-SIZE",
          "MID-SIZE",
          "MID-SIZE",
          "MID-SIZE",
          "MID-SIZE",
          "MID-SIZE",
          "MID-SIZE",
          "MID-SIZE",
          "MID-SIZE",
          "MID-SIZE",
          "MID-SIZE",
          "MID-SIZE",
          "MID-SIZE",
          "MID-SIZE",
          "MID-SIZE",
          "MID-SIZE",
          "MID-SIZE",
          "MID-SIZE",
          "MID-SIZE",
          "MID-SIZE",
          "MID-SIZE",
          "MID-SIZE",
          "MID-SIZE",
          "MID-SIZE",
          "MID-SIZE",
          "MID-SIZE",
          "MID-SIZE",
          "MID-SIZE",
          "MID-SIZE",
          "MID-SIZE",
          "MID-SIZE",
          "MID-SIZE",
          "MID-SIZE",
          "MID-SIZE",
          "MID-SIZE",
          "MID-SIZE",
          "MID-SIZE",
          "MID-SIZE",
          "MID-SIZE",
          "MID-SIZE",
          "MID-SIZE",
          "MID-SIZE",
          "MID-SIZE",
          "MID-SIZE",
          "MID-SIZE",
          "MID-SIZE",
          "MID-SIZE",
          "MID-SIZE",
          "MID-SIZE",
          "MID-SIZE",
          "MID-SIZE",
          "MID-SIZE",
          "MID-SIZE",
          "MID-SIZE",
          "MID-SIZE",
          "MID-SIZE",
          "MID-SIZE",
          "MID-SIZE",
          "MID-SIZE",
          "MID-SIZE",
          "MID-SIZE",
          "MID-SIZE",
          "MID-SIZE",
          "MID-SIZE",
          "MID-SIZE",
          "MID-SIZE",
          "MID-SIZE",
          "MID-SIZE",
          "MID-SIZE",
          "MID-SIZE",
          "MID-SIZE",
          "MID-SIZE",
          "MID-SIZE",
          "MID-SIZE",
          "MID-SIZE",
          "MID-SIZE",
          "MID-SIZE",
          "MID-SIZE",
          "MID-SIZE",
          "MID-SIZE",
          "MID-SIZE",
          "MID-SIZE",
          "MID-SIZE",
          "MID-SIZE",
          "MID-SIZE",
          "MID-SIZE",
          "MID-SIZE",
          "MID-SIZE",
          "MID-SIZE",
          "MID-SIZE",
          "MID-SIZE",
          "MID-SIZE",
          "MID-SIZE",
          "MID-SIZE",
          "MID-SIZE",
          "MID-SIZE",
          "MID-SIZE",
          "MID-SIZE",
          "MID-SIZE",
          "MID-SIZE",
          "MID-SIZE",
          "MID-SIZE",
          "MID-SIZE",
          "MID-SIZE",
          "MID-SIZE",
          "MID-SIZE",
          "MID-SIZE",
          "MID-SIZE",
          "MID-SIZE",
          "MID-SIZE",
          "MID-SIZE",
          "MID-SIZE",
          "MID-SIZE",
          "MID-SIZE",
          "MID-SIZE",
          "MID-SIZE",
          "MID-SIZE",
          "MID-SIZE",
          "MID-SIZE",
          "MID-SIZE",
          "MID-SIZE",
          "MID-SIZE",
          "MID-SIZE",
          "MID-SIZE",
          "MID-SIZE",
          "MID-SIZE",
          "MID-SIZE",
          "MID-SIZE",
          "MID-SIZE",
          "MID-SIZE",
          "MID-SIZE",
          "MID-SIZE",
          "MID-SIZE",
          "MID-SIZE",
          "MID-SIZE",
          "MID-SIZE",
          "MID-SIZE",
          "MID-SIZE",
          "MID-SIZE",
          "MID-SIZE",
          "MID-SIZE",
          "MID-SIZE",
          "MID-SIZE",
          "MID-SIZE",
          "MID-SIZE",
          "MID-SIZE",
          "MID-SIZE",
          "MID-SIZE",
          "MID-SIZE",
          "MID-SIZE",
          "MID-SIZE",
          "MID-SIZE",
          "MID-SIZE",
          "MID-SIZE",
          "MID-SIZE",
          "MID-SIZE",
          "MID-SIZE",
          "MID-SIZE",
          "MID-SIZE",
          "MID-SIZE",
          "MID-SIZE",
          "MID-SIZE",
          "MID-SIZE",
          "MID-SIZE",
          "MID-SIZE",
          "MID-SIZE",
          "MID-SIZE",
          "MID-SIZE",
          "MID-SIZE",
          "MID-SIZE",
          "MID-SIZE",
          "MID-SIZE",
          "MID-SIZE",
          "MID-SIZE",
          "MID-SIZE",
          "MID-SIZE",
          "MID-SIZE",
          "MID-SIZE",
          "MID-SIZE",
          "MID-SIZE",
          "MID-SIZE",
          "MID-SIZE",
          "MID-SIZE",
          "MID-SIZE",
          "MID-SIZE",
          "MID-SIZE",
          "MID-SIZE",
          "MID-SIZE",
          "MID-SIZE",
          "MID-SIZE",
          "MID-SIZE",
          "MID-SIZE",
          "MID-SIZE",
          "MID-SIZE",
          "MID-SIZE",
          "MID-SIZE",
          "MID-SIZE",
          "MID-SIZE",
          "MID-SIZE",
          "MID-SIZE",
          "MID-SIZE",
          "MID-SIZE",
          "MID-SIZE",
          "MID-SIZE",
          "MID-SIZE",
          "MID-SIZE",
          "MID-SIZE",
          "MID-SIZE",
          "MID-SIZE",
          "MID-SIZE",
          "MID-SIZE",
          "MID-SIZE",
          "MID-SIZE",
          "MID-SIZE",
          "MID-SIZE",
          "MID-SIZE",
          "MID-SIZE",
          "MID-SIZE",
          "MID-SIZE",
          "MID-SIZE",
          "MID-SIZE",
          "MID-SIZE",
          "MID-SIZE",
          "MID-SIZE",
          "MID-SIZE",
          "MID-SIZE",
          "MID-SIZE",
          "MID-SIZE",
          "MID-SIZE",
          "MID-SIZE",
          "MID-SIZE",
          "MID-SIZE",
          "MID-SIZE",
          "MID-SIZE",
          "MID-SIZE",
          "MID-SIZE",
          "MID-SIZE",
          "MID-SIZE",
          "MID-SIZE",
          "MID-SIZE",
          "MID-SIZE",
          "MID-SIZE",
          "MID-SIZE",
          "MID-SIZE",
          "MID-SIZE",
          "MID-SIZE",
          "MID-SIZE",
          "MID-SIZE",
          "MID-SIZE",
          "MID-SIZE",
          "MID-SIZE",
          "MID-SIZE",
          "MID-SIZE",
          "MID-SIZE",
          "MID-SIZE",
          "MID-SIZE",
          "MID-SIZE",
          "MID-SIZE",
          "MID-SIZE",
          "MID-SIZE",
          "MID-SIZE",
          "MID-SIZE",
          "MID-SIZE",
          "MID-SIZE",
          "MID-SIZE",
          "MID-SIZE",
          "MID-SIZE",
          "MID-SIZE",
          "MID-SIZE",
          "MID-SIZE",
          "MID-SIZE",
          "MID-SIZE",
          "MID-SIZE",
          "MID-SIZE",
          "MID-SIZE",
          "MID-SIZE",
          "MID-SIZE",
          "MID-SIZE",
          "MID-SIZE",
          "MID-SIZE",
          "MID-SIZE",
          "MID-SIZE",
          "MID-SIZE",
          "MID-SIZE",
          "MID-SIZE",
          "MID-SIZE",
          "MID-SIZE",
          "MID-SIZE",
          "MID-SIZE",
          "MID-SIZE",
          "MID-SIZE",
          "MID-SIZE",
          "MID-SIZE",
          "MID-SIZE",
          "MID-SIZE",
          "MID-SIZE",
          "MID-SIZE",
          "MID-SIZE",
          "MID-SIZE",
          "MID-SIZE",
          "MID-SIZE",
          "MID-SIZE",
          "MID-SIZE",
          "MID-SIZE",
          "MID-SIZE",
          "MID-SIZE",
          "MID-SIZE",
          "MID-SIZE",
          "MID-SIZE",
          "MID-SIZE",
          "MID-SIZE",
          "MID-SIZE",
          "MID-SIZE",
          "MID-SIZE",
          "MID-SIZE",
          "MID-SIZE",
          "MID-SIZE",
          "MID-SIZE",
          "MID-SIZE",
          "MID-SIZE",
          "MID-SIZE",
          "MID-SIZE",
          "MID-SIZE",
          "MID-SIZE",
          "MID-SIZE",
          "MID-SIZE",
          "MID-SIZE",
          "MID-SIZE",
          "MID-SIZE",
          "MID-SIZE",
          "MID-SIZE",
          "MID-SIZE",
          "MID-SIZE",
          "MID-SIZE",
          "MID-SIZE",
          "MID-SIZE",
          "MID-SIZE",
          "MID-SIZE",
          "MID-SIZE",
          "MID-SIZE",
          "MID-SIZE",
          "MID-SIZE",
          "MID-SIZE",
          "MID-SIZE",
          "MID-SIZE",
          "MID-SIZE",
          "MID-SIZE",
          "MID-SIZE",
          "MID-SIZE",
          "MID-SIZE",
          "MID-SIZE",
          "MID-SIZE",
          "MID-SIZE",
          "MID-SIZE",
          "MID-SIZE",
          "MID-SIZE",
          "MID-SIZE",
          "MID-SIZE",
          "MID-SIZE",
          "MID-SIZE",
          "MID-SIZE",
          "MID-SIZE",
          "MID-SIZE",
          "MID-SIZE",
          "MID-SIZE",
          "MID-SIZE",
          "MID-SIZE",
          "MID-SIZE",
          "MID-SIZE",
          "MID-SIZE",
          "MID-SIZE",
          "MID-SIZE",
          "MID-SIZE",
          "MID-SIZE",
          "MID-SIZE",
          "MID-SIZE",
          "MID-SIZE",
          "MID-SIZE",
          "MID-SIZE",
          "MID-SIZE",
          "MID-SIZE",
          "MID-SIZE",
          "MID-SIZE",
          "MID-SIZE",
          "MID-SIZE",
          "MID-SIZE",
          "MID-SIZE",
          "MID-SIZE",
          "MID-SIZE",
          "MID-SIZE",
          "MID-SIZE",
          "MID-SIZE",
          "MID-SIZE",
          "MID-SIZE",
          "MID-SIZE",
          "MID-SIZE",
          "MID-SIZE",
          "MID-SIZE",
          "MID-SIZE",
          "MID-SIZE",
          "MID-SIZE",
          "MID-SIZE",
          "MID-SIZE",
          "MID-SIZE",
          "MID-SIZE",
          "MID-SIZE",
          "MID-SIZE",
          "MID-SIZE"
         ],
         "x0": " ",
         "xaxis": "x",
         "y": {
          "bdata": "5gDoAP8ACwHrAPsA2QAGAdkAAgEJAeAAJQEZARkBLAGEAbUBygDRANUA6AAZAdYAUgE9AQgB+gAIAQgBvQDkAOEA9gC9AAIBBgHoAPgA+AAEASYBfgFUAX4BVAGzALMAygC9AMAAsQCjAOQAuAC4AKwAvwC2AL8AuADhAOYA8gDmAOEA5gDyAOYAAgEtASYBQAE9AboAxgDKAMYAwwDUAMoAqACoAMQAugDPAM0AugDYAH4AtgC6AMgA0QDdAPsAbgDGAMQAjwCRAOsA+AD9ABsBCwEmAa8A8gAZATIBIgEyAb8AuADBAMEA5ADIAI8AkwCKAN0A7wD9AK8AGwEpASkBBgHPAAYBkQAkASQBowCmALEAqACmAK8AugCoAMIA6wDmAMoACwEpASkBrwDWAPsAoQCzAGcBxgDkAAsB3QC9AN0AgwCKALEAqACjAKoAnACfAG4AxgDGAN8A4QD4ALQA6wAIAeYAsQDtAPsA2QD9ANkA8gD2AOAAOQENAQ0BGQFOAYQBowHNANEA1QDtABsB2ABSATsBBgH9AA0B/gC9AOEA4QD2AL0A5AD2APQA/QAkAbMAswDKALoAwACxAKMA4QC4ALgArQC/ALgAvwC4AMQAxAC1AOsA6wDaAPYA9gDiAO0ALQFAARsBKQFAASkBUgFbAboAxgC4AMYAygDUAMoAqACoAMEAuADNAM0A1gB+ALMAuADIANEA2wD7AHMArACxAL8AxAC/AL8AxgDEAJEAkQDtAPgA/QAdAQsBKQGsAPIACwEwASIBMAGvALYAvwDEAOQAyACRAJMAiADdAPQA/QCsABsBKQEpAQgBzQAEAYUAJAEmAaEAowCxAKYAugCvALoAqADIAOsA7wAGATIB+AAZAa8AzwCmALYAZwG2ANgA6wDdAMEA2gCDAIgArwCjAKgAqgCcAJ8AbAC/AMEAuQC2AO8AwQACAesAtADTAOgA1QDoANUA9wD5AOAAOQEHAQkBLAFOAYQBmAHRANQA7gAgAdsAWAFBAQwBBAHBABIBBwHnAOYAwQD8AN0A6QDlAPcAJQFMAbgAtgDPAL4AtQCnABAB1QCzANMAygB6AMYAugDvAOEA+gDoAPIAMwFGASEBLgFGAS4BUwFhAb0AygDNAMkAuwDXAM8AqwCrAP8A2QDFALwA0gDRANwAggDPAN8A/QCxANsAuwCdAKIAsACwALQAwgDGAMsAygCFAIgA1gDyAOIA+QAGAfcAAAESASwBsQDxALMAugDEAMYAkwCWAIsA4QDUAOMA7QD+APsAsQAeAS8BLwEMAdIAAQHcABcBiAAeASUBJwGlAKcAtgCqAL4AsgCrALwANgG8AM4AyADwAPQADgH9ACYBwwDCAMYA1wCwANQAtQDfAKcAuAChALMAbwGtALQAuQDcAO8A4QDAAN4AhgCJALMAqwCmAK4AoACiAGgAuwC9APMAwQC+AM0A2QAYAdwA7gDuAPYA+QA1AQcBCQE4AUEBdwGXAa4B1QDkAOAA6wDpAPoA3wDqAOUA+AArAUkBtgDUAHkAyQDAAPEA5gD8AO0A8gAzAUUBIQEuAQIBRQEuAVMBYAEAAdsAzADhAOAA7gAOAYMAvgDSAOEA/gC0AN8AcgCZAKMArACuALsAzgDMAI8AiQDiAAABAQESASwBuAC6APMAqgDGAMMAhACLAOIAAQGwAC8BLwHmAAgB7wAWAYsAHgElAScBrgCyALcAtQDGALsAugDEALMA9gD1AP0AGAHFAMUA1QDWAMUAxQDXANYAzQDcANIA4wDVAOMA0gDjALAA1gC3AOEAwQDDAKsAuwDNAMwApAC0AHcBrgDQAMIA3gDxAOIAxwDgAIkAjQCuALIAsACjAKgAsAC5AGkAzADyAMwA2wDEAM0A2QAYAcsA2ADrAOsAPgHoACoBKgE5AWEBhQGVAdAA7AAbAeQAvgDtAOAA6gDlAPcANwFJAawArwCwALIAtAC1ANUAeQDyADMBRQEhAS4BAgECAfgARQEuAVMBUwFgAfwA2wDLAOEA3wDuABUBgwDTAJkAowCsAK0AvQDdAK4AvACHAIQA5AD9AAQBEgEtAboAzwDzAKgAxgDDAIQACQGLAOIAAQGwAPAAAwHDANMA8gAWAYsAHgElAScBrgCyALsAtQDGALsA0AACATkBxADXAOMA9gD/AAUB1ADWANcA4wDXAOMA0wDkANwA6ACzALkA1gCpAOMArAC7AMEAwwDNAMwApAC0AIQBrgDQAMEA8QDiAKQArACtANIA1wBxAHkArgCyALIAowCoALAAuQBpALwA9gDOANgAxADNANkAGAHMAOAA4AAMAeYA0QHPAOcARAFEAQ0B6QDAAO4A1gDjAPsA3gD2AOgADQEqAVEBrACvALIArgDWAHkA8gAzAUUBIQEwAQIBUwFgAVMBzACDANMApQCnALoArQByAHIAvQDdAK4AvACHAIQA5QD9AAUBEwEtAboAzwDzAKQAtACFAOUAFwF8ANMA2wD+AAUB1gCoAPUAFgGLAB4BJwEnAbUAtQC7AL0AzAC7ANAA6AA+AeQA9AD9AAkB1ADWANYA4wDXAOQA1gDjANwA5ACuAL4AsQC6AL4AqQDpAKwAtwDBAMMAzQDMAKQAtACEAa4A0QDBAPEA3ACkAK0ArwDSANcAcQB5AK4AsgCyAKMAaQBtALwA1wDbAMQAzQDZAA8BzQDNAOIA9wDiAPUA/wD/AHUBzgDeAEIBQgERAUIBQgEiAdMA4wD/ANEAAAHdAAwBBwEUAb0A1gDyACEBMwExAUUBAgExAUUBUwFgAWYBYAHLAIMA0wClAKcArAC6ALcAcwDAANYAoQC7ALIAuAD+AAUBzwDZAPMAuAClALQAhAAXAXwA1QDbAP4ABgHWAKgA9QCDAB4BHgEnAbUAtQC7AL0AzAC8ANAA6AA+Af0ACQHFAMgAzwDUANIA0gC6AL4AqQDpAKcAqwC8AIMBrgDSANwApACtALEA0gDXANwAvgDFAHEAeQBqAG0AzQDfAA==",
          "dtype": "i2"
         },
         "y0": " ",
         "yaxis": "y"
        },
        {
         "alignmentgroup": "True",
         "hovertemplate": "Vehicle Class=%{x}<br>CO2 Emissions(g/km)=%{y}<extra></extra>",
         "legendgroup": "TWO-SEATER",
         "marker": {
          "color": "#ab63fa"
         },
         "name": "TWO-SEATER",
         "notched": false,
         "offsetgroup": "TWO-SEATER",
         "orientation": "v",
         "showlegend": true,
         "type": "box",
         "x": [
          "TWO-SEATER",
          "TWO-SEATER",
          "TWO-SEATER",
          "TWO-SEATER",
          "TWO-SEATER",
          "TWO-SEATER",
          "TWO-SEATER",
          "TWO-SEATER",
          "TWO-SEATER",
          "TWO-SEATER",
          "TWO-SEATER",
          "TWO-SEATER",
          "TWO-SEATER",
          "TWO-SEATER",
          "TWO-SEATER",
          "TWO-SEATER",
          "TWO-SEATER",
          "TWO-SEATER",
          "TWO-SEATER",
          "TWO-SEATER",
          "TWO-SEATER",
          "TWO-SEATER",
          "TWO-SEATER",
          "TWO-SEATER",
          "TWO-SEATER",
          "TWO-SEATER",
          "TWO-SEATER",
          "TWO-SEATER",
          "TWO-SEATER",
          "TWO-SEATER",
          "TWO-SEATER",
          "TWO-SEATER",
          "TWO-SEATER",
          "TWO-SEATER",
          "TWO-SEATER",
          "TWO-SEATER",
          "TWO-SEATER",
          "TWO-SEATER",
          "TWO-SEATER",
          "TWO-SEATER",
          "TWO-SEATER",
          "TWO-SEATER",
          "TWO-SEATER",
          "TWO-SEATER",
          "TWO-SEATER",
          "TWO-SEATER",
          "TWO-SEATER",
          "TWO-SEATER",
          "TWO-SEATER",
          "TWO-SEATER",
          "TWO-SEATER",
          "TWO-SEATER",
          "TWO-SEATER",
          "TWO-SEATER",
          "TWO-SEATER",
          "TWO-SEATER",
          "TWO-SEATER",
          "TWO-SEATER",
          "TWO-SEATER",
          "TWO-SEATER",
          "TWO-SEATER",
          "TWO-SEATER",
          "TWO-SEATER",
          "TWO-SEATER",
          "TWO-SEATER",
          "TWO-SEATER",
          "TWO-SEATER",
          "TWO-SEATER",
          "TWO-SEATER",
          "TWO-SEATER",
          "TWO-SEATER",
          "TWO-SEATER",
          "TWO-SEATER",
          "TWO-SEATER",
          "TWO-SEATER",
          "TWO-SEATER",
          "TWO-SEATER",
          "TWO-SEATER",
          "TWO-SEATER",
          "TWO-SEATER",
          "TWO-SEATER",
          "TWO-SEATER",
          "TWO-SEATER",
          "TWO-SEATER",
          "TWO-SEATER",
          "TWO-SEATER",
          "TWO-SEATER",
          "TWO-SEATER",
          "TWO-SEATER",
          "TWO-SEATER",
          "TWO-SEATER",
          "TWO-SEATER",
          "TWO-SEATER",
          "TWO-SEATER",
          "TWO-SEATER",
          "TWO-SEATER",
          "TWO-SEATER",
          "TWO-SEATER",
          "TWO-SEATER",
          "TWO-SEATER",
          "TWO-SEATER",
          "TWO-SEATER",
          "TWO-SEATER",
          "TWO-SEATER",
          "TWO-SEATER",
          "TWO-SEATER",
          "TWO-SEATER",
          "TWO-SEATER",
          "TWO-SEATER",
          "TWO-SEATER",
          "TWO-SEATER",
          "TWO-SEATER",
          "TWO-SEATER",
          "TWO-SEATER",
          "TWO-SEATER",
          "TWO-SEATER",
          "TWO-SEATER",
          "TWO-SEATER",
          "TWO-SEATER",
          "TWO-SEATER",
          "TWO-SEATER",
          "TWO-SEATER",
          "TWO-SEATER",
          "TWO-SEATER",
          "TWO-SEATER",
          "TWO-SEATER",
          "TWO-SEATER",
          "TWO-SEATER",
          "TWO-SEATER",
          "TWO-SEATER",
          "TWO-SEATER",
          "TWO-SEATER",
          "TWO-SEATER",
          "TWO-SEATER",
          "TWO-SEATER",
          "TWO-SEATER",
          "TWO-SEATER",
          "TWO-SEATER",
          "TWO-SEATER",
          "TWO-SEATER",
          "TWO-SEATER",
          "TWO-SEATER",
          "TWO-SEATER",
          "TWO-SEATER",
          "TWO-SEATER",
          "TWO-SEATER",
          "TWO-SEATER",
          "TWO-SEATER",
          "TWO-SEATER",
          "TWO-SEATER",
          "TWO-SEATER",
          "TWO-SEATER",
          "TWO-SEATER",
          "TWO-SEATER",
          "TWO-SEATER",
          "TWO-SEATER",
          "TWO-SEATER",
          "TWO-SEATER",
          "TWO-SEATER",
          "TWO-SEATER",
          "TWO-SEATER",
          "TWO-SEATER",
          "TWO-SEATER",
          "TWO-SEATER",
          "TWO-SEATER",
          "TWO-SEATER",
          "TWO-SEATER",
          "TWO-SEATER",
          "TWO-SEATER",
          "TWO-SEATER",
          "TWO-SEATER",
          "TWO-SEATER",
          "TWO-SEATER",
          "TWO-SEATER",
          "TWO-SEATER",
          "TWO-SEATER",
          "TWO-SEATER",
          "TWO-SEATER",
          "TWO-SEATER",
          "TWO-SEATER",
          "TWO-SEATER",
          "TWO-SEATER",
          "TWO-SEATER",
          "TWO-SEATER",
          "TWO-SEATER",
          "TWO-SEATER",
          "TWO-SEATER",
          "TWO-SEATER",
          "TWO-SEATER",
          "TWO-SEATER",
          "TWO-SEATER",
          "TWO-SEATER",
          "TWO-SEATER",
          "TWO-SEATER",
          "TWO-SEATER",
          "TWO-SEATER",
          "TWO-SEATER",
          "TWO-SEATER",
          "TWO-SEATER",
          "TWO-SEATER",
          "TWO-SEATER",
          "TWO-SEATER",
          "TWO-SEATER",
          "TWO-SEATER",
          "TWO-SEATER",
          "TWO-SEATER",
          "TWO-SEATER",
          "TWO-SEATER",
          "TWO-SEATER",
          "TWO-SEATER",
          "TWO-SEATER",
          "TWO-SEATER",
          "TWO-SEATER",
          "TWO-SEATER",
          "TWO-SEATER",
          "TWO-SEATER",
          "TWO-SEATER",
          "TWO-SEATER",
          "TWO-SEATER",
          "TWO-SEATER",
          "TWO-SEATER",
          "TWO-SEATER",
          "TWO-SEATER",
          "TWO-SEATER",
          "TWO-SEATER",
          "TWO-SEATER",
          "TWO-SEATER",
          "TWO-SEATER",
          "TWO-SEATER",
          "TWO-SEATER",
          "TWO-SEATER",
          "TWO-SEATER",
          "TWO-SEATER",
          "TWO-SEATER",
          "TWO-SEATER",
          "TWO-SEATER",
          "TWO-SEATER",
          "TWO-SEATER",
          "TWO-SEATER",
          "TWO-SEATER",
          "TWO-SEATER",
          "TWO-SEATER",
          "TWO-SEATER",
          "TWO-SEATER",
          "TWO-SEATER",
          "TWO-SEATER",
          "TWO-SEATER",
          "TWO-SEATER",
          "TWO-SEATER",
          "TWO-SEATER",
          "TWO-SEATER",
          "TWO-SEATER",
          "TWO-SEATER",
          "TWO-SEATER",
          "TWO-SEATER",
          "TWO-SEATER",
          "TWO-SEATER",
          "TWO-SEATER",
          "TWO-SEATER",
          "TWO-SEATER",
          "TWO-SEATER",
          "TWO-SEATER",
          "TWO-SEATER",
          "TWO-SEATER",
          "TWO-SEATER",
          "TWO-SEATER",
          "TWO-SEATER",
          "TWO-SEATER",
          "TWO-SEATER",
          "TWO-SEATER",
          "TWO-SEATER",
          "TWO-SEATER",
          "TWO-SEATER",
          "TWO-SEATER",
          "TWO-SEATER",
          "TWO-SEATER",
          "TWO-SEATER",
          "TWO-SEATER",
          "TWO-SEATER",
          "TWO-SEATER",
          "TWO-SEATER",
          "TWO-SEATER",
          "TWO-SEATER",
          "TWO-SEATER",
          "TWO-SEATER",
          "TWO-SEATER",
          "TWO-SEATER",
          "TWO-SEATER",
          "TWO-SEATER",
          "TWO-SEATER",
          "TWO-SEATER",
          "TWO-SEATER",
          "TWO-SEATER",
          "TWO-SEATER",
          "TWO-SEATER",
          "TWO-SEATER",
          "TWO-SEATER",
          "TWO-SEATER",
          "TWO-SEATER",
          "TWO-SEATER",
          "TWO-SEATER",
          "TWO-SEATER",
          "TWO-SEATER",
          "TWO-SEATER",
          "TWO-SEATER",
          "TWO-SEATER",
          "TWO-SEATER",
          "TWO-SEATER",
          "TWO-SEATER",
          "TWO-SEATER",
          "TWO-SEATER",
          "TWO-SEATER",
          "TWO-SEATER",
          "TWO-SEATER",
          "TWO-SEATER",
          "TWO-SEATER",
          "TWO-SEATER",
          "TWO-SEATER",
          "TWO-SEATER",
          "TWO-SEATER",
          "TWO-SEATER",
          "TWO-SEATER",
          "TWO-SEATER",
          "TWO-SEATER",
          "TWO-SEATER",
          "TWO-SEATER",
          "TWO-SEATER",
          "TWO-SEATER",
          "TWO-SEATER",
          "TWO-SEATER",
          "TWO-SEATER",
          "TWO-SEATER",
          "TWO-SEATER",
          "TWO-SEATER",
          "TWO-SEATER",
          "TWO-SEATER",
          "TWO-SEATER",
          "TWO-SEATER",
          "TWO-SEATER",
          "TWO-SEATER",
          "TWO-SEATER",
          "TWO-SEATER",
          "TWO-SEATER",
          "TWO-SEATER",
          "TWO-SEATER",
          "TWO-SEATER",
          "TWO-SEATER",
          "TWO-SEATER",
          "TWO-SEATER",
          "TWO-SEATER",
          "TWO-SEATER",
          "TWO-SEATER",
          "TWO-SEATER",
          "TWO-SEATER",
          "TWO-SEATER",
          "TWO-SEATER",
          "TWO-SEATER",
          "TWO-SEATER",
          "TWO-SEATER",
          "TWO-SEATER",
          "TWO-SEATER",
          "TWO-SEATER",
          "TWO-SEATER",
          "TWO-SEATER",
          "TWO-SEATER",
          "TWO-SEATER",
          "TWO-SEATER",
          "TWO-SEATER",
          "TWO-SEATER",
          "TWO-SEATER",
          "TWO-SEATER",
          "TWO-SEATER",
          "TWO-SEATER",
          "TWO-SEATER",
          "TWO-SEATER",
          "TWO-SEATER",
          "TWO-SEATER",
          "TWO-SEATER",
          "TWO-SEATER",
          "TWO-SEATER",
          "TWO-SEATER",
          "TWO-SEATER",
          "TWO-SEATER",
          "TWO-SEATER",
          "TWO-SEATER",
          "TWO-SEATER",
          "TWO-SEATER",
          "TWO-SEATER",
          "TWO-SEATER",
          "TWO-SEATER",
          "TWO-SEATER",
          "TWO-SEATER",
          "TWO-SEATER",
          "TWO-SEATER",
          "TWO-SEATER",
          "TWO-SEATER",
          "TWO-SEATER",
          "TWO-SEATER",
          "TWO-SEATER",
          "TWO-SEATER",
          "TWO-SEATER",
          "TWO-SEATER",
          "TWO-SEATER",
          "TWO-SEATER",
          "TWO-SEATER",
          "TWO-SEATER",
          "TWO-SEATER",
          "TWO-SEATER",
          "TWO-SEATER",
          "TWO-SEATER",
          "TWO-SEATER",
          "TWO-SEATER",
          "TWO-SEATER",
          "TWO-SEATER",
          "TWO-SEATER",
          "TWO-SEATER",
          "TWO-SEATER",
          "TWO-SEATER",
          "TWO-SEATER",
          "TWO-SEATER",
          "TWO-SEATER",
          "TWO-SEATER",
          "TWO-SEATER",
          "TWO-SEATER",
          "TWO-SEATER",
          "TWO-SEATER",
          "TWO-SEATER",
          "TWO-SEATER",
          "TWO-SEATER",
          "TWO-SEATER",
          "TWO-SEATER",
          "TWO-SEATER",
          "TWO-SEATER",
          "TWO-SEATER",
          "TWO-SEATER",
          "TWO-SEATER",
          "TWO-SEATER",
          "TWO-SEATER",
          "TWO-SEATER",
          "TWO-SEATER",
          "TWO-SEATER",
          "TWO-SEATER",
          "TWO-SEATER",
          "TWO-SEATER",
          "TWO-SEATER",
          "TWO-SEATER",
          "TWO-SEATER",
          "TWO-SEATER",
          "TWO-SEATER",
          "TWO-SEATER",
          "TWO-SEATER",
          "TWO-SEATER",
          "TWO-SEATER",
          "TWO-SEATER",
          "TWO-SEATER",
          "TWO-SEATER",
          "TWO-SEATER",
          "TWO-SEATER",
          "TWO-SEATER",
          "TWO-SEATER"
         ],
         "x0": " ",
         "xaxis": "x",
         "y": {
          "bdata": "wQBSAWIBUgFiAVABlwFbAZkBUAGXAVsBmQHRAO0A0QDIABYB/QAWARQBAgGRAJ8A7QD0ACYBpQFpAZAB6wDdAOQADQEkAUcBzQDPAOEA9gB8AWkBaQGvAKgAswCzAL8AuAC/ALgAvwC4AL8AuAD9AAgBBgENAUIB1ADkAOEA7wDUAOQA4QDvAJMAkwCFAYUBwQBSAWQBUgFkAXsBUgFkAUcBfgFbAXkBRwF+AVsBeQHUAOsARwHRAM8AFgH9ABYBDQECAUkBNAFrAZEAnwDtAO0A9AD0ACYBJgGcAcUBTgGnAegA3QDkABIBHQFHAc8AzwDhAPQAZwFnAa8AqACxAKwAugC6ALoAugC6ALoAugC6AP8ACAEIAQ8BQgHUAOQA2gD2AOEA7wDUAOQA2gD2AOEA7wCWAJYAxQBXAWoBVwFqAVcBagGGAdEA1ADTABoBGgETAQcBTwE5AWwBnQCpAPYAKAH2ACgBLgE3ATcB/gAuAQgB/gAuAQgBpAHEAUsBVAG3ALcALwEqAU8B/AAhAccA5QAEAQ0BDgEWAUkBTgHZAOgA3gD6AOYA9QAQAdkA6AAVAd4A+gDmAPUAnQCdAAUBxQDFAIQBwgFKAUoB0QAiARYBUAE4AYMBuwC5AJYB8gAoAfIAKAE3ATcB/QAuAQkB/QAuAQkBrAHNAbYBzQFLAVQBuwC+AC8BLwEqAVQB6gDtABMByAAFAQ0BDgEWAdsA5QDmAPkA2wDlAOYA+QCYAAUBxQDFADABUgFSAdEACgIpARYBUAE4AbsAuQCTAdcA8gAoAf0ALgEJAdcA8gAoAf0ALgEJATcBNwHGAdABxgHQAVABXQFRAV4BvAC9AC4BMAFCAUIBRAEuASMBUwHsAO4AEwHKAAUBDQEOARYBRAFgAdsA5QD5AAEB5gD5ANsA5QD5AAEB5gD5AAUBxQDFAAgB1QAKAisBHgFLAT4BfQFwAbsAuQCSAdcA8gAoAf0ALgEJAdcA8gAoAf0ALgEJATcBNwHnAe0BbgFyAW4BcgFyAXIBugC9ADsBOwFHAS8B7gDxAA4BzQAFAQ4BDwEXATsBRAFgAU8BTgFeAdsA5QD5AAEB5wD5ANsA5QD5AAEB5wD5AMUADgFNAVsBWwHVAMgA2AAKAiIBuwC5AIkB1wDyAP0ACQErASsB1wDyAP0ACQErASsB5QHtAXIBcgFyAXIBugC9AEcBDgHNAAUBDgEPARcB0AA=",
          "dtype": "i2"
         },
         "y0": " ",
         "yaxis": "y"
        },
        {
         "alignmentgroup": "True",
         "hovertemplate": "Vehicle Class=%{x}<br>CO2 Emissions(g/km)=%{y}<extra></extra>",
         "legendgroup": "MINICOMPACT",
         "marker": {
          "color": "#FFA15A"
         },
         "name": "MINICOMPACT",
         "notched": false,
         "offsetgroup": "MINICOMPACT",
         "orientation": "v",
         "showlegend": true,
         "type": "box",
         "x": [
          "MINICOMPACT",
          "MINICOMPACT",
          "MINICOMPACT",
          "MINICOMPACT",
          "MINICOMPACT",
          "MINICOMPACT",
          "MINICOMPACT",
          "MINICOMPACT",
          "MINICOMPACT",
          "MINICOMPACT",
          "MINICOMPACT",
          "MINICOMPACT",
          "MINICOMPACT",
          "MINICOMPACT",
          "MINICOMPACT",
          "MINICOMPACT",
          "MINICOMPACT",
          "MINICOMPACT",
          "MINICOMPACT",
          "MINICOMPACT",
          "MINICOMPACT",
          "MINICOMPACT",
          "MINICOMPACT",
          "MINICOMPACT",
          "MINICOMPACT",
          "MINICOMPACT",
          "MINICOMPACT",
          "MINICOMPACT",
          "MINICOMPACT",
          "MINICOMPACT",
          "MINICOMPACT",
          "MINICOMPACT",
          "MINICOMPACT",
          "MINICOMPACT",
          "MINICOMPACT",
          "MINICOMPACT",
          "MINICOMPACT",
          "MINICOMPACT",
          "MINICOMPACT",
          "MINICOMPACT",
          "MINICOMPACT",
          "MINICOMPACT",
          "MINICOMPACT",
          "MINICOMPACT",
          "MINICOMPACT",
          "MINICOMPACT",
          "MINICOMPACT",
          "MINICOMPACT",
          "MINICOMPACT",
          "MINICOMPACT",
          "MINICOMPACT",
          "MINICOMPACT",
          "MINICOMPACT",
          "MINICOMPACT",
          "MINICOMPACT",
          "MINICOMPACT",
          "MINICOMPACT",
          "MINICOMPACT",
          "MINICOMPACT",
          "MINICOMPACT",
          "MINICOMPACT",
          "MINICOMPACT",
          "MINICOMPACT",
          "MINICOMPACT",
          "MINICOMPACT",
          "MINICOMPACT",
          "MINICOMPACT",
          "MINICOMPACT",
          "MINICOMPACT",
          "MINICOMPACT",
          "MINICOMPACT",
          "MINICOMPACT",
          "MINICOMPACT",
          "MINICOMPACT",
          "MINICOMPACT",
          "MINICOMPACT",
          "MINICOMPACT",
          "MINICOMPACT",
          "MINICOMPACT",
          "MINICOMPACT",
          "MINICOMPACT",
          "MINICOMPACT",
          "MINICOMPACT",
          "MINICOMPACT",
          "MINICOMPACT",
          "MINICOMPACT",
          "MINICOMPACT",
          "MINICOMPACT",
          "MINICOMPACT",
          "MINICOMPACT",
          "MINICOMPACT",
          "MINICOMPACT",
          "MINICOMPACT",
          "MINICOMPACT",
          "MINICOMPACT",
          "MINICOMPACT",
          "MINICOMPACT",
          "MINICOMPACT",
          "MINICOMPACT",
          "MINICOMPACT",
          "MINICOMPACT",
          "MINICOMPACT",
          "MINICOMPACT",
          "MINICOMPACT",
          "MINICOMPACT",
          "MINICOMPACT",
          "MINICOMPACT",
          "MINICOMPACT",
          "MINICOMPACT",
          "MINICOMPACT",
          "MINICOMPACT",
          "MINICOMPACT",
          "MINICOMPACT",
          "MINICOMPACT",
          "MINICOMPACT",
          "MINICOMPACT",
          "MINICOMPACT",
          "MINICOMPACT",
          "MINICOMPACT",
          "MINICOMPACT",
          "MINICOMPACT",
          "MINICOMPACT",
          "MINICOMPACT",
          "MINICOMPACT",
          "MINICOMPACT",
          "MINICOMPACT",
          "MINICOMPACT",
          "MINICOMPACT",
          "MINICOMPACT",
          "MINICOMPACT",
          "MINICOMPACT",
          "MINICOMPACT",
          "MINICOMPACT",
          "MINICOMPACT",
          "MINICOMPACT",
          "MINICOMPACT",
          "MINICOMPACT",
          "MINICOMPACT",
          "MINICOMPACT",
          "MINICOMPACT",
          "MINICOMPACT",
          "MINICOMPACT",
          "MINICOMPACT",
          "MINICOMPACT",
          "MINICOMPACT",
          "MINICOMPACT",
          "MINICOMPACT",
          "MINICOMPACT",
          "MINICOMPACT",
          "MINICOMPACT",
          "MINICOMPACT",
          "MINICOMPACT",
          "MINICOMPACT",
          "MINICOMPACT",
          "MINICOMPACT",
          "MINICOMPACT",
          "MINICOMPACT",
          "MINICOMPACT",
          "MINICOMPACT",
          "MINICOMPACT",
          "MINICOMPACT",
          "MINICOMPACT",
          "MINICOMPACT",
          "MINICOMPACT",
          "MINICOMPACT",
          "MINICOMPACT",
          "MINICOMPACT",
          "MINICOMPACT",
          "MINICOMPACT",
          "MINICOMPACT",
          "MINICOMPACT",
          "MINICOMPACT",
          "MINICOMPACT",
          "MINICOMPACT",
          "MINICOMPACT",
          "MINICOMPACT",
          "MINICOMPACT",
          "MINICOMPACT",
          "MINICOMPACT",
          "MINICOMPACT",
          "MINICOMPACT",
          "MINICOMPACT",
          "MINICOMPACT",
          "MINICOMPACT",
          "MINICOMPACT",
          "MINICOMPACT",
          "MINICOMPACT",
          "MINICOMPACT",
          "MINICOMPACT",
          "MINICOMPACT",
          "MINICOMPACT",
          "MINICOMPACT",
          "MINICOMPACT",
          "MINICOMPACT",
          "MINICOMPACT",
          "MINICOMPACT",
          "MINICOMPACT",
          "MINICOMPACT",
          "MINICOMPACT",
          "MINICOMPACT",
          "MINICOMPACT",
          "MINICOMPACT",
          "MINICOMPACT",
          "MINICOMPACT",
          "MINICOMPACT",
          "MINICOMPACT",
          "MINICOMPACT",
          "MINICOMPACT",
          "MINICOMPACT",
          "MINICOMPACT",
          "MINICOMPACT",
          "MINICOMPACT",
          "MINICOMPACT",
          "MINICOMPACT",
          "MINICOMPACT",
          "MINICOMPACT",
          "MINICOMPACT",
          "MINICOMPACT",
          "MINICOMPACT",
          "MINICOMPACT",
          "MINICOMPACT",
          "MINICOMPACT",
          "MINICOMPACT",
          "MINICOMPACT",
          "MINICOMPACT",
          "MINICOMPACT",
          "MINICOMPACT",
          "MINICOMPACT",
          "MINICOMPACT",
          "MINICOMPACT",
          "MINICOMPACT",
          "MINICOMPACT",
          "MINICOMPACT",
          "MINICOMPACT",
          "MINICOMPACT",
          "MINICOMPACT",
          "MINICOMPACT",
          "MINICOMPACT",
          "MINICOMPACT",
          "MINICOMPACT",
          "MINICOMPACT",
          "MINICOMPACT",
          "MINICOMPACT",
          "MINICOMPACT",
          "MINICOMPACT",
          "MINICOMPACT",
          "MINICOMPACT",
          "MINICOMPACT",
          "MINICOMPACT",
          "MINICOMPACT",
          "MINICOMPACT",
          "MINICOMPACT",
          "MINICOMPACT",
          "MINICOMPACT",
          "MINICOMPACT",
          "MINICOMPACT",
          "MINICOMPACT",
          "MINICOMPACT",
          "MINICOMPACT",
          "MINICOMPACT",
          "MINICOMPACT",
          "MINICOMPACT",
          "MINICOMPACT",
          "MINICOMPACT",
          "MINICOMPACT",
          "MINICOMPACT",
          "MINICOMPACT",
          "MINICOMPACT",
          "MINICOMPACT",
          "MINICOMPACT",
          "MINICOMPACT",
          "MINICOMPACT",
          "MINICOMPACT",
          "MINICOMPACT",
          "MINICOMPACT",
          "MINICOMPACT",
          "MINICOMPACT",
          "MINICOMPACT",
          "MINICOMPACT",
          "MINICOMPACT",
          "MINICOMPACT",
          "MINICOMPACT",
          "MINICOMPACT",
          "MINICOMPACT",
          "MINICOMPACT",
          "MINICOMPACT",
          "MINICOMPACT",
          "MINICOMPACT",
          "MINICOMPACT",
          "MINICOMPACT",
          "MINICOMPACT",
          "MINICOMPACT",
          "MINICOMPACT",
          "MINICOMPACT",
          "MINICOMPACT",
          "MINICOMPACT",
          "MINICOMPACT",
          "MINICOMPACT",
          "MINICOMPACT",
          "MINICOMPACT",
          "MINICOMPACT",
          "MINICOMPACT",
          "MINICOMPACT",
          "MINICOMPACT",
          "MINICOMPACT",
          "MINICOMPACT",
          "MINICOMPACT",
          "MINICOMPACT",
          "MINICOMPACT",
          "MINICOMPACT",
          "MINICOMPACT",
          "MINICOMPACT",
          "MINICOMPACT",
          "MINICOMPACT",
          "MINICOMPACT",
          "MINICOMPACT",
          "MINICOMPACT",
          "MINICOMPACT",
          "MINICOMPACT",
          "MINICOMPACT",
          "MINICOMPACT",
          "MINICOMPACT",
          "MINICOMPACT",
          "MINICOMPACT",
          "MINICOMPACT",
          "MINICOMPACT"
         ],
         "x0": " ",
         "xaxis": "x",
         "y": {
          "bdata": "ZwFnAbMAswC2AKYAswC2AJwAswAtASIBOwE2ATsBNgGzALMAvwC4AL8AuADoAPYA7QD2APIA/QD4AP0A/QACAegA9gD0APgA9gD7ABIBEgESARIBwQDaAI8AxADdAGcBVAG2AKYAtgCcAMYAswDGALMAxgCzADkBNAE5ATQBsQCsALoAugC6ALoA6AD0AOgA9gDrAPYA8gD7AP8ABAEGAQsB9gD9AP0AAgH9AAIB/wALAfIA9gD0APsA+AD/AAIBBgESARIBEgESAcEA3QCTAMEA3QBtAVoBtwCoALcAoADIALcAyAC3AMgAtwC1AKoAxgDLAO4A+QDsAPsAAwEGAQQBEAH1APwA+gD/APAA+wD2AAEBBAEJAQwBEAH7AAIBAQEGAf0ABQEEAQsBFgEWARYBFgHFAOAAxQDgAEIBWQG6AKsAugCjAMoAugDKALoAuACvAMQA0gDEANwA3QDtAOMA8QDiAPIA5ADzAOEA8gDmAPYA6ADzAOcA9gDkAPYA6QD2AAoBCwEKAQsByADkAMwA6AAPAUIBWgHKALYAygC2ALgArgDDANIAywDcAN0A7QDjAPEA8wAEAfkAAgHiAPIA5ADzAOEA8gDmAPYA+AABAfoABAHoAPMA5wD2AOQA9gD7AAoB6QD2AAoBCwEKAQsBHQHIAOUA7wDMAOgADwE4AUQBWgHLALoA2QDBAMwAuACvAMUA0gDFANwA3QDtAOMA8QDzAAQB+QACAeIA8gDkAPMA+AAeAeEA8gDmAPYA+AABAfoABAHoAPMA5wD2AOQA9gD7AAoB6QD2AAoBCwEKAQsBKQHIAOcAzADoAA8BOAFEAa4AvwDCAA8BEAEVARUByADnAO8AzADoAA==",
          "dtype": "i2"
         },
         "y0": " ",
         "yaxis": "y"
        },
        {
         "alignmentgroup": "True",
         "hovertemplate": "Vehicle Class=%{x}<br>CO2 Emissions(g/km)=%{y}<extra></extra>",
         "legendgroup": "SUBCOMPACT",
         "marker": {
          "color": "#19d3f3"
         },
         "name": "SUBCOMPACT",
         "notched": false,
         "offsetgroup": "SUBCOMPACT",
         "orientation": "v",
         "showlegend": true,
         "type": "box",
         "x": [
          "SUBCOMPACT",
          "SUBCOMPACT",
          "SUBCOMPACT",
          "SUBCOMPACT",
          "SUBCOMPACT",
          "SUBCOMPACT",
          "SUBCOMPACT",
          "SUBCOMPACT",
          "SUBCOMPACT",
          "SUBCOMPACT",
          "SUBCOMPACT",
          "SUBCOMPACT",
          "SUBCOMPACT",
          "SUBCOMPACT",
          "SUBCOMPACT",
          "SUBCOMPACT",
          "SUBCOMPACT",
          "SUBCOMPACT",
          "SUBCOMPACT",
          "SUBCOMPACT",
          "SUBCOMPACT",
          "SUBCOMPACT",
          "SUBCOMPACT",
          "SUBCOMPACT",
          "SUBCOMPACT",
          "SUBCOMPACT",
          "SUBCOMPACT",
          "SUBCOMPACT",
          "SUBCOMPACT",
          "SUBCOMPACT",
          "SUBCOMPACT",
          "SUBCOMPACT",
          "SUBCOMPACT",
          "SUBCOMPACT",
          "SUBCOMPACT",
          "SUBCOMPACT",
          "SUBCOMPACT",
          "SUBCOMPACT",
          "SUBCOMPACT",
          "SUBCOMPACT",
          "SUBCOMPACT",
          "SUBCOMPACT",
          "SUBCOMPACT",
          "SUBCOMPACT",
          "SUBCOMPACT",
          "SUBCOMPACT",
          "SUBCOMPACT",
          "SUBCOMPACT",
          "SUBCOMPACT",
          "SUBCOMPACT",
          "SUBCOMPACT",
          "SUBCOMPACT",
          "SUBCOMPACT",
          "SUBCOMPACT",
          "SUBCOMPACT",
          "SUBCOMPACT",
          "SUBCOMPACT",
          "SUBCOMPACT",
          "SUBCOMPACT",
          "SUBCOMPACT",
          "SUBCOMPACT",
          "SUBCOMPACT",
          "SUBCOMPACT",
          "SUBCOMPACT",
          "SUBCOMPACT",
          "SUBCOMPACT",
          "SUBCOMPACT",
          "SUBCOMPACT",
          "SUBCOMPACT",
          "SUBCOMPACT",
          "SUBCOMPACT",
          "SUBCOMPACT",
          "SUBCOMPACT",
          "SUBCOMPACT",
          "SUBCOMPACT",
          "SUBCOMPACT",
          "SUBCOMPACT",
          "SUBCOMPACT",
          "SUBCOMPACT",
          "SUBCOMPACT",
          "SUBCOMPACT",
          "SUBCOMPACT",
          "SUBCOMPACT",
          "SUBCOMPACT",
          "SUBCOMPACT",
          "SUBCOMPACT",
          "SUBCOMPACT",
          "SUBCOMPACT",
          "SUBCOMPACT",
          "SUBCOMPACT",
          "SUBCOMPACT",
          "SUBCOMPACT",
          "SUBCOMPACT",
          "SUBCOMPACT",
          "SUBCOMPACT",
          "SUBCOMPACT",
          "SUBCOMPACT",
          "SUBCOMPACT",
          "SUBCOMPACT",
          "SUBCOMPACT",
          "SUBCOMPACT",
          "SUBCOMPACT",
          "SUBCOMPACT",
          "SUBCOMPACT",
          "SUBCOMPACT",
          "SUBCOMPACT",
          "SUBCOMPACT",
          "SUBCOMPACT",
          "SUBCOMPACT",
          "SUBCOMPACT",
          "SUBCOMPACT",
          "SUBCOMPACT",
          "SUBCOMPACT",
          "SUBCOMPACT",
          "SUBCOMPACT",
          "SUBCOMPACT",
          "SUBCOMPACT",
          "SUBCOMPACT",
          "SUBCOMPACT",
          "SUBCOMPACT",
          "SUBCOMPACT",
          "SUBCOMPACT",
          "SUBCOMPACT",
          "SUBCOMPACT",
          "SUBCOMPACT",
          "SUBCOMPACT",
          "SUBCOMPACT",
          "SUBCOMPACT",
          "SUBCOMPACT",
          "SUBCOMPACT",
          "SUBCOMPACT",
          "SUBCOMPACT",
          "SUBCOMPACT",
          "SUBCOMPACT",
          "SUBCOMPACT",
          "SUBCOMPACT",
          "SUBCOMPACT",
          "SUBCOMPACT",
          "SUBCOMPACT",
          "SUBCOMPACT",
          "SUBCOMPACT",
          "SUBCOMPACT",
          "SUBCOMPACT",
          "SUBCOMPACT",
          "SUBCOMPACT",
          "SUBCOMPACT",
          "SUBCOMPACT",
          "SUBCOMPACT",
          "SUBCOMPACT",
          "SUBCOMPACT",
          "SUBCOMPACT",
          "SUBCOMPACT",
          "SUBCOMPACT",
          "SUBCOMPACT",
          "SUBCOMPACT",
          "SUBCOMPACT",
          "SUBCOMPACT",
          "SUBCOMPACT",
          "SUBCOMPACT",
          "SUBCOMPACT",
          "SUBCOMPACT",
          "SUBCOMPACT",
          "SUBCOMPACT",
          "SUBCOMPACT",
          "SUBCOMPACT",
          "SUBCOMPACT",
          "SUBCOMPACT",
          "SUBCOMPACT",
          "SUBCOMPACT",
          "SUBCOMPACT",
          "SUBCOMPACT",
          "SUBCOMPACT",
          "SUBCOMPACT",
          "SUBCOMPACT",
          "SUBCOMPACT",
          "SUBCOMPACT",
          "SUBCOMPACT",
          "SUBCOMPACT",
          "SUBCOMPACT",
          "SUBCOMPACT",
          "SUBCOMPACT",
          "SUBCOMPACT",
          "SUBCOMPACT",
          "SUBCOMPACT",
          "SUBCOMPACT",
          "SUBCOMPACT",
          "SUBCOMPACT",
          "SUBCOMPACT",
          "SUBCOMPACT",
          "SUBCOMPACT",
          "SUBCOMPACT",
          "SUBCOMPACT",
          "SUBCOMPACT",
          "SUBCOMPACT",
          "SUBCOMPACT",
          "SUBCOMPACT",
          "SUBCOMPACT",
          "SUBCOMPACT",
          "SUBCOMPACT",
          "SUBCOMPACT",
          "SUBCOMPACT",
          "SUBCOMPACT",
          "SUBCOMPACT",
          "SUBCOMPACT",
          "SUBCOMPACT",
          "SUBCOMPACT",
          "SUBCOMPACT",
          "SUBCOMPACT",
          "SUBCOMPACT",
          "SUBCOMPACT",
          "SUBCOMPACT",
          "SUBCOMPACT",
          "SUBCOMPACT",
          "SUBCOMPACT",
          "SUBCOMPACT",
          "SUBCOMPACT",
          "SUBCOMPACT",
          "SUBCOMPACT",
          "SUBCOMPACT",
          "SUBCOMPACT",
          "SUBCOMPACT",
          "SUBCOMPACT",
          "SUBCOMPACT",
          "SUBCOMPACT",
          "SUBCOMPACT",
          "SUBCOMPACT",
          "SUBCOMPACT",
          "SUBCOMPACT",
          "SUBCOMPACT",
          "SUBCOMPACT",
          "SUBCOMPACT",
          "SUBCOMPACT",
          "SUBCOMPACT",
          "SUBCOMPACT",
          "SUBCOMPACT",
          "SUBCOMPACT",
          "SUBCOMPACT",
          "SUBCOMPACT",
          "SUBCOMPACT",
          "SUBCOMPACT",
          "SUBCOMPACT",
          "SUBCOMPACT",
          "SUBCOMPACT",
          "SUBCOMPACT",
          "SUBCOMPACT",
          "SUBCOMPACT",
          "SUBCOMPACT",
          "SUBCOMPACT",
          "SUBCOMPACT",
          "SUBCOMPACT",
          "SUBCOMPACT",
          "SUBCOMPACT",
          "SUBCOMPACT",
          "SUBCOMPACT",
          "SUBCOMPACT",
          "SUBCOMPACT",
          "SUBCOMPACT",
          "SUBCOMPACT",
          "SUBCOMPACT",
          "SUBCOMPACT",
          "SUBCOMPACT",
          "SUBCOMPACT",
          "SUBCOMPACT",
          "SUBCOMPACT",
          "SUBCOMPACT",
          "SUBCOMPACT",
          "SUBCOMPACT",
          "SUBCOMPACT",
          "SUBCOMPACT",
          "SUBCOMPACT",
          "SUBCOMPACT",
          "SUBCOMPACT",
          "SUBCOMPACT",
          "SUBCOMPACT",
          "SUBCOMPACT",
          "SUBCOMPACT",
          "SUBCOMPACT",
          "SUBCOMPACT",
          "SUBCOMPACT",
          "SUBCOMPACT",
          "SUBCOMPACT",
          "SUBCOMPACT",
          "SUBCOMPACT",
          "SUBCOMPACT",
          "SUBCOMPACT",
          "SUBCOMPACT",
          "SUBCOMPACT",
          "SUBCOMPACT",
          "SUBCOMPACT",
          "SUBCOMPACT",
          "SUBCOMPACT",
          "SUBCOMPACT",
          "SUBCOMPACT",
          "SUBCOMPACT",
          "SUBCOMPACT",
          "SUBCOMPACT",
          "SUBCOMPACT",
          "SUBCOMPACT",
          "SUBCOMPACT",
          "SUBCOMPACT",
          "SUBCOMPACT",
          "SUBCOMPACT",
          "SUBCOMPACT",
          "SUBCOMPACT",
          "SUBCOMPACT",
          "SUBCOMPACT",
          "SUBCOMPACT",
          "SUBCOMPACT",
          "SUBCOMPACT",
          "SUBCOMPACT",
          "SUBCOMPACT",
          "SUBCOMPACT",
          "SUBCOMPACT",
          "SUBCOMPACT",
          "SUBCOMPACT",
          "SUBCOMPACT",
          "SUBCOMPACT",
          "SUBCOMPACT",
          "SUBCOMPACT",
          "SUBCOMPACT",
          "SUBCOMPACT",
          "SUBCOMPACT",
          "SUBCOMPACT",
          "SUBCOMPACT",
          "SUBCOMPACT",
          "SUBCOMPACT",
          "SUBCOMPACT",
          "SUBCOMPACT",
          "SUBCOMPACT",
          "SUBCOMPACT",
          "SUBCOMPACT",
          "SUBCOMPACT",
          "SUBCOMPACT",
          "SUBCOMPACT",
          "SUBCOMPACT",
          "SUBCOMPACT",
          "SUBCOMPACT",
          "SUBCOMPACT",
          "SUBCOMPACT",
          "SUBCOMPACT",
          "SUBCOMPACT",
          "SUBCOMPACT",
          "SUBCOMPACT",
          "SUBCOMPACT",
          "SUBCOMPACT",
          "SUBCOMPACT",
          "SUBCOMPACT",
          "SUBCOMPACT",
          "SUBCOMPACT",
          "SUBCOMPACT",
          "SUBCOMPACT",
          "SUBCOMPACT",
          "SUBCOMPACT",
          "SUBCOMPACT",
          "SUBCOMPACT",
          "SUBCOMPACT",
          "SUBCOMPACT",
          "SUBCOMPACT",
          "SUBCOMPACT",
          "SUBCOMPACT",
          "SUBCOMPACT",
          "SUBCOMPACT",
          "SUBCOMPACT",
          "SUBCOMPACT",
          "SUBCOMPACT",
          "SUBCOMPACT",
          "SUBCOMPACT",
          "SUBCOMPACT",
          "SUBCOMPACT",
          "SUBCOMPACT",
          "SUBCOMPACT",
          "SUBCOMPACT",
          "SUBCOMPACT",
          "SUBCOMPACT",
          "SUBCOMPACT",
          "SUBCOMPACT",
          "SUBCOMPACT",
          "SUBCOMPACT",
          "SUBCOMPACT",
          "SUBCOMPACT",
          "SUBCOMPACT",
          "SUBCOMPACT",
          "SUBCOMPACT",
          "SUBCOMPACT",
          "SUBCOMPACT",
          "SUBCOMPACT",
          "SUBCOMPACT",
          "SUBCOMPACT",
          "SUBCOMPACT",
          "SUBCOMPACT",
          "SUBCOMPACT",
          "SUBCOMPACT",
          "SUBCOMPACT",
          "SUBCOMPACT",
          "SUBCOMPACT",
          "SUBCOMPACT",
          "SUBCOMPACT",
          "SUBCOMPACT",
          "SUBCOMPACT",
          "SUBCOMPACT",
          "SUBCOMPACT",
          "SUBCOMPACT",
          "SUBCOMPACT",
          "SUBCOMPACT",
          "SUBCOMPACT",
          "SUBCOMPACT",
          "SUBCOMPACT",
          "SUBCOMPACT",
          "SUBCOMPACT",
          "SUBCOMPACT",
          "SUBCOMPACT",
          "SUBCOMPACT",
          "SUBCOMPACT",
          "SUBCOMPACT",
          "SUBCOMPACT",
          "SUBCOMPACT",
          "SUBCOMPACT",
          "SUBCOMPACT",
          "SUBCOMPACT",
          "SUBCOMPACT",
          "SUBCOMPACT",
          "SUBCOMPACT",
          "SUBCOMPACT",
          "SUBCOMPACT",
          "SUBCOMPACT",
          "SUBCOMPACT",
          "SUBCOMPACT",
          "SUBCOMPACT",
          "SUBCOMPACT",
          "SUBCOMPACT",
          "SUBCOMPACT",
          "SUBCOMPACT",
          "SUBCOMPACT",
          "SUBCOMPACT",
          "SUBCOMPACT",
          "SUBCOMPACT",
          "SUBCOMPACT",
          "SUBCOMPACT",
          "SUBCOMPACT",
          "SUBCOMPACT",
          "SUBCOMPACT",
          "SUBCOMPACT",
          "SUBCOMPACT",
          "SUBCOMPACT",
          "SUBCOMPACT",
          "SUBCOMPACT",
          "SUBCOMPACT",
          "SUBCOMPACT",
          "SUBCOMPACT",
          "SUBCOMPACT",
          "SUBCOMPACT",
          "SUBCOMPACT",
          "SUBCOMPACT",
          "SUBCOMPACT",
          "SUBCOMPACT",
          "SUBCOMPACT",
          "SUBCOMPACT",
          "SUBCOMPACT",
          "SUBCOMPACT",
          "SUBCOMPACT",
          "SUBCOMPACT",
          "SUBCOMPACT",
          "SUBCOMPACT",
          "SUBCOMPACT",
          "SUBCOMPACT",
          "SUBCOMPACT",
          "SUBCOMPACT",
          "SUBCOMPACT",
          "SUBCOMPACT",
          "SUBCOMPACT",
          "SUBCOMPACT",
          "SUBCOMPACT",
          "SUBCOMPACT",
          "SUBCOMPACT",
          "SUBCOMPACT",
          "SUBCOMPACT",
          "SUBCOMPACT",
          "SUBCOMPACT",
          "SUBCOMPACT",
          "SUBCOMPACT",
          "SUBCOMPACT",
          "SUBCOMPACT",
          "SUBCOMPACT",
          "SUBCOMPACT",
          "SUBCOMPACT",
          "SUBCOMPACT",
          "SUBCOMPACT",
          "SUBCOMPACT",
          "SUBCOMPACT",
          "SUBCOMPACT",
          "SUBCOMPACT",
          "SUBCOMPACT",
          "SUBCOMPACT",
          "SUBCOMPACT",
          "SUBCOMPACT",
          "SUBCOMPACT",
          "SUBCOMPACT",
          "SUBCOMPACT",
          "SUBCOMPACT",
          "SUBCOMPACT",
          "SUBCOMPACT",
          "SUBCOMPACT",
          "SUBCOMPACT",
          "SUBCOMPACT",
          "SUBCOMPACT",
          "SUBCOMPACT",
          "SUBCOMPACT",
          "SUBCOMPACT",
          "SUBCOMPACT",
          "SUBCOMPACT",
          "SUBCOMPACT",
          "SUBCOMPACT",
          "SUBCOMPACT",
          "SUBCOMPACT",
          "SUBCOMPACT",
          "SUBCOMPACT",
          "SUBCOMPACT",
          "SUBCOMPACT",
          "SUBCOMPACT",
          "SUBCOMPACT",
          "SUBCOMPACT",
          "SUBCOMPACT",
          "SUBCOMPACT",
          "SUBCOMPACT",
          "SUBCOMPACT",
          "SUBCOMPACT",
          "SUBCOMPACT",
          "SUBCOMPACT",
          "SUBCOMPACT",
          "SUBCOMPACT",
          "SUBCOMPACT",
          "SUBCOMPACT",
          "SUBCOMPACT",
          "SUBCOMPACT",
          "SUBCOMPACT",
          "SUBCOMPACT",
          "SUBCOMPACT",
          "SUBCOMPACT",
          "SUBCOMPACT",
          "SUBCOMPACT",
          "SUBCOMPACT",
          "SUBCOMPACT",
          "SUBCOMPACT",
          "SUBCOMPACT",
          "SUBCOMPACT",
          "SUBCOMPACT",
          "SUBCOMPACT",
          "SUBCOMPACT",
          "SUBCOMPACT",
          "SUBCOMPACT",
          "SUBCOMPACT",
          "SUBCOMPACT",
          "SUBCOMPACT",
          "SUBCOMPACT",
          "SUBCOMPACT",
          "SUBCOMPACT",
          "SUBCOMPACT",
          "SUBCOMPACT",
          "SUBCOMPACT",
          "SUBCOMPACT",
          "SUBCOMPACT",
          "SUBCOMPACT",
          "SUBCOMPACT",
          "SUBCOMPACT",
          "SUBCOMPACT",
          "SUBCOMPACT",
          "SUBCOMPACT",
          "SUBCOMPACT",
          "SUBCOMPACT",
          "SUBCOMPACT",
          "SUBCOMPACT",
          "SUBCOMPACT",
          "SUBCOMPACT",
          "SUBCOMPACT",
          "SUBCOMPACT",
          "SUBCOMPACT",
          "SUBCOMPACT",
          "SUBCOMPACT",
          "SUBCOMPACT",
          "SUBCOMPACT",
          "SUBCOMPACT",
          "SUBCOMPACT",
          "SUBCOMPACT",
          "SUBCOMPACT",
          "SUBCOMPACT",
          "SUBCOMPACT",
          "SUBCOMPACT",
          "SUBCOMPACT",
          "SUBCOMPACT",
          "SUBCOMPACT",
          "SUBCOMPACT",
          "SUBCOMPACT",
          "SUBCOMPACT",
          "SUBCOMPACT",
          "SUBCOMPACT",
          "SUBCOMPACT",
          "SUBCOMPACT",
          "SUBCOMPACT",
          "SUBCOMPACT",
          "SUBCOMPACT",
          "SUBCOMPACT",
          "SUBCOMPACT",
          "SUBCOMPACT",
          "SUBCOMPACT",
          "SUBCOMPACT",
          "SUBCOMPACT"
         ],
         "x0": " ",
         "xaxis": "x",
         "y": {
          "bdata": "ZwHmAOYA1gAyATQBBgEdAQsB0QDtADoBZAFMAXwBfAEkAVIBPQGfAJ8ArwCvAJgAoQDrAPQACAEkATAB9AAJAQ0BGwH/AAsB3wD0ACIBWwFgAdgA9ADyAGAB7wDvAOsADQEGAbMAswC/ALgAvwC4ACkBuAC2AMgA1gDYAOgA3QBHAcgAsQDGAM0A3QDRAOEAJgEpAc8A/QANAQYB0QDrAFEBcAHNAMEAzwDRAMgAzQDdAOQA7QDtACYB6wD4AOsA7wDmABYBDwFSATsBoQCcAK8ArwCYAKoAuADYANQA9gACAR0BIAHkACsBGwEdAfYACwEIAQ0BGwHdAPQA9AD9ACIBWwFeAdgA9ADyAGIBugDKAOYA6wANAQYBrACjAKwApgC9AMYAvQDGAMEA1AAiAcgA2ADUANsATAHMAMkA0ADgANYA5gDTAAEBEQEKAdEA3gBRAXcBxQDTAM8A0QDTAN0A6ADuAO4AGwH0AAQB6AD1AOgA9gDuAO4AGgEWAVgBQQGdAKIAtACzAJkA2wDZAP0ACAEkASoB6gAwAU4BHAEbAdYAAgH2AAIBIQFlAWgB7wDpABMBDAG1AKwAtQCqAMEAywDBAMsAxwDWACYBxABLAbwAzQDfAOIA0gDnAOgAAwERAQoB0QDeAFEBdwHPAMUA2wDVANIA0wDuAPkAJAH1AAsB4ADyAOAA+gDkAOQAGwERAVcBRAHeAOwA+QASAREBHAFvAV0BpwCoALIAtgCeAOIA7wDmAOYAAwEPAS8BMwFEAe8A7QA1AUQBVQHpAP0AAwECAQIBIQFjAWYBIwEdASMBHQHeANoA6QDvABMBDAG4AK8AuACvAMQA0gDEANIAxADSACwBxwBMAbwAzQDfAMsAzADLAPgABAHfAOgA7wDRAPUA3gDFANsA0ADKANYA6wD4ACQBHgH1AAsB3gD/AN4A+QDjAOMAKwEYAVgBRAFYAUQB3ADrAPYAEgERARwBaQFcAacApgCzALYAwADbAOwA3gDwACMBLAHuAPAAMQFVAekA+wADAR4BuwAGAQYBIQFjAWYBAAH1ACMBHQEjAR0BMgHgANoA+wD4ABQBuACvALgArgDFANIAxQDSAMUA0gAsAb8AvQBMAbwA4QDdAMwAzAD3AAYB3gDmAOoA1QDxANwAzwDKANUA6wAmAREB4wAAAeMAAAHjAAAB5QDlAOUAKwEYASsBGAEOAQ0B3ADrAPYAFQEXASkBYwFdAacAqgCyALgAxADdAPIA4wD0ACEBNwE3AfMA8QAuAVUB6QD7AAMBJgG9AAYBBgEhAWIBwwDHAAcB/wAaARUB9QDtADIBUQHnAN0ADwEBARMBuACvALgArwDFANIAxQDSAMUA0gAnAb8AvQC2AOAA4ADNAM4A8wDeAPUA/ADVAPEA3AAjAXUBzADbAMgA2wDVAPkAIgERAecA/wDpAOcA5wD/AP8A6QDpACsBKwEYARgBQgFCAUIBQgEiAREB2wDrAPcAGAEaASgBYwFdAacAqgDdAPIA4gD0ACEBOAE/AfIA9ADwAPwALwFWAYgB+wADASYBvQAGAQYBHQEHAf8AGgEVAfUA7QAyAecA3QAPAQEBrgCuALgAuAC+ACwB",
          "dtype": "i2"
         },
         "y0": " ",
         "yaxis": "y"
        },
        {
         "alignmentgroup": "True",
         "hovertemplate": "Vehicle Class=%{x}<br>CO2 Emissions(g/km)=%{y}<extra></extra>",
         "legendgroup": "FULL-SIZE",
         "marker": {
          "color": "#FF6692"
         },
         "name": "FULL-SIZE",
         "notched": false,
         "offsetgroup": "FULL-SIZE",
         "orientation": "v",
         "showlegend": true,
         "type": "box",
         "x": [
          "FULL-SIZE",
          "FULL-SIZE",
          "FULL-SIZE",
          "FULL-SIZE",
          "FULL-SIZE",
          "FULL-SIZE",
          "FULL-SIZE",
          "FULL-SIZE",
          "FULL-SIZE",
          "FULL-SIZE",
          "FULL-SIZE",
          "FULL-SIZE",
          "FULL-SIZE",
          "FULL-SIZE",
          "FULL-SIZE",
          "FULL-SIZE",
          "FULL-SIZE",
          "FULL-SIZE",
          "FULL-SIZE",
          "FULL-SIZE",
          "FULL-SIZE",
          "FULL-SIZE",
          "FULL-SIZE",
          "FULL-SIZE",
          "FULL-SIZE",
          "FULL-SIZE",
          "FULL-SIZE",
          "FULL-SIZE",
          "FULL-SIZE",
          "FULL-SIZE",
          "FULL-SIZE",
          "FULL-SIZE",
          "FULL-SIZE",
          "FULL-SIZE",
          "FULL-SIZE",
          "FULL-SIZE",
          "FULL-SIZE",
          "FULL-SIZE",
          "FULL-SIZE",
          "FULL-SIZE",
          "FULL-SIZE",
          "FULL-SIZE",
          "FULL-SIZE",
          "FULL-SIZE",
          "FULL-SIZE",
          "FULL-SIZE",
          "FULL-SIZE",
          "FULL-SIZE",
          "FULL-SIZE",
          "FULL-SIZE",
          "FULL-SIZE",
          "FULL-SIZE",
          "FULL-SIZE",
          "FULL-SIZE",
          "FULL-SIZE",
          "FULL-SIZE",
          "FULL-SIZE",
          "FULL-SIZE",
          "FULL-SIZE",
          "FULL-SIZE",
          "FULL-SIZE",
          "FULL-SIZE",
          "FULL-SIZE",
          "FULL-SIZE",
          "FULL-SIZE",
          "FULL-SIZE",
          "FULL-SIZE",
          "FULL-SIZE",
          "FULL-SIZE",
          "FULL-SIZE",
          "FULL-SIZE",
          "FULL-SIZE",
          "FULL-SIZE",
          "FULL-SIZE",
          "FULL-SIZE",
          "FULL-SIZE",
          "FULL-SIZE",
          "FULL-SIZE",
          "FULL-SIZE",
          "FULL-SIZE",
          "FULL-SIZE",
          "FULL-SIZE",
          "FULL-SIZE",
          "FULL-SIZE",
          "FULL-SIZE",
          "FULL-SIZE",
          "FULL-SIZE",
          "FULL-SIZE",
          "FULL-SIZE",
          "FULL-SIZE",
          "FULL-SIZE",
          "FULL-SIZE",
          "FULL-SIZE",
          "FULL-SIZE",
          "FULL-SIZE",
          "FULL-SIZE",
          "FULL-SIZE",
          "FULL-SIZE",
          "FULL-SIZE",
          "FULL-SIZE",
          "FULL-SIZE",
          "FULL-SIZE",
          "FULL-SIZE",
          "FULL-SIZE",
          "FULL-SIZE",
          "FULL-SIZE",
          "FULL-SIZE",
          "FULL-SIZE",
          "FULL-SIZE",
          "FULL-SIZE",
          "FULL-SIZE",
          "FULL-SIZE",
          "FULL-SIZE",
          "FULL-SIZE",
          "FULL-SIZE",
          "FULL-SIZE",
          "FULL-SIZE",
          "FULL-SIZE",
          "FULL-SIZE",
          "FULL-SIZE",
          "FULL-SIZE",
          "FULL-SIZE",
          "FULL-SIZE",
          "FULL-SIZE",
          "FULL-SIZE",
          "FULL-SIZE",
          "FULL-SIZE",
          "FULL-SIZE",
          "FULL-SIZE",
          "FULL-SIZE",
          "FULL-SIZE",
          "FULL-SIZE",
          "FULL-SIZE",
          "FULL-SIZE",
          "FULL-SIZE",
          "FULL-SIZE",
          "FULL-SIZE",
          "FULL-SIZE",
          "FULL-SIZE",
          "FULL-SIZE",
          "FULL-SIZE",
          "FULL-SIZE",
          "FULL-SIZE",
          "FULL-SIZE",
          "FULL-SIZE",
          "FULL-SIZE",
          "FULL-SIZE",
          "FULL-SIZE",
          "FULL-SIZE",
          "FULL-SIZE",
          "FULL-SIZE",
          "FULL-SIZE",
          "FULL-SIZE",
          "FULL-SIZE",
          "FULL-SIZE",
          "FULL-SIZE",
          "FULL-SIZE",
          "FULL-SIZE",
          "FULL-SIZE",
          "FULL-SIZE",
          "FULL-SIZE",
          "FULL-SIZE",
          "FULL-SIZE",
          "FULL-SIZE",
          "FULL-SIZE",
          "FULL-SIZE",
          "FULL-SIZE",
          "FULL-SIZE",
          "FULL-SIZE",
          "FULL-SIZE",
          "FULL-SIZE",
          "FULL-SIZE",
          "FULL-SIZE",
          "FULL-SIZE",
          "FULL-SIZE",
          "FULL-SIZE",
          "FULL-SIZE",
          "FULL-SIZE",
          "FULL-SIZE",
          "FULL-SIZE",
          "FULL-SIZE",
          "FULL-SIZE",
          "FULL-SIZE",
          "FULL-SIZE",
          "FULL-SIZE",
          "FULL-SIZE",
          "FULL-SIZE",
          "FULL-SIZE",
          "FULL-SIZE",
          "FULL-SIZE",
          "FULL-SIZE",
          "FULL-SIZE",
          "FULL-SIZE",
          "FULL-SIZE",
          "FULL-SIZE",
          "FULL-SIZE",
          "FULL-SIZE",
          "FULL-SIZE",
          "FULL-SIZE",
          "FULL-SIZE",
          "FULL-SIZE",
          "FULL-SIZE",
          "FULL-SIZE",
          "FULL-SIZE",
          "FULL-SIZE",
          "FULL-SIZE",
          "FULL-SIZE",
          "FULL-SIZE",
          "FULL-SIZE",
          "FULL-SIZE",
          "FULL-SIZE",
          "FULL-SIZE",
          "FULL-SIZE",
          "FULL-SIZE",
          "FULL-SIZE",
          "FULL-SIZE",
          "FULL-SIZE",
          "FULL-SIZE",
          "FULL-SIZE",
          "FULL-SIZE",
          "FULL-SIZE",
          "FULL-SIZE",
          "FULL-SIZE",
          "FULL-SIZE",
          "FULL-SIZE",
          "FULL-SIZE",
          "FULL-SIZE",
          "FULL-SIZE",
          "FULL-SIZE",
          "FULL-SIZE",
          "FULL-SIZE",
          "FULL-SIZE",
          "FULL-SIZE",
          "FULL-SIZE",
          "FULL-SIZE",
          "FULL-SIZE",
          "FULL-SIZE",
          "FULL-SIZE",
          "FULL-SIZE",
          "FULL-SIZE",
          "FULL-SIZE",
          "FULL-SIZE",
          "FULL-SIZE",
          "FULL-SIZE",
          "FULL-SIZE",
          "FULL-SIZE",
          "FULL-SIZE",
          "FULL-SIZE",
          "FULL-SIZE",
          "FULL-SIZE",
          "FULL-SIZE",
          "FULL-SIZE",
          "FULL-SIZE",
          "FULL-SIZE",
          "FULL-SIZE",
          "FULL-SIZE",
          "FULL-SIZE",
          "FULL-SIZE",
          "FULL-SIZE",
          "FULL-SIZE",
          "FULL-SIZE",
          "FULL-SIZE",
          "FULL-SIZE",
          "FULL-SIZE",
          "FULL-SIZE",
          "FULL-SIZE",
          "FULL-SIZE",
          "FULL-SIZE",
          "FULL-SIZE",
          "FULL-SIZE",
          "FULL-SIZE",
          "FULL-SIZE",
          "FULL-SIZE",
          "FULL-SIZE",
          "FULL-SIZE",
          "FULL-SIZE",
          "FULL-SIZE",
          "FULL-SIZE",
          "FULL-SIZE",
          "FULL-SIZE",
          "FULL-SIZE",
          "FULL-SIZE",
          "FULL-SIZE",
          "FULL-SIZE",
          "FULL-SIZE",
          "FULL-SIZE",
          "FULL-SIZE",
          "FULL-SIZE",
          "FULL-SIZE",
          "FULL-SIZE",
          "FULL-SIZE",
          "FULL-SIZE",
          "FULL-SIZE",
          "FULL-SIZE",
          "FULL-SIZE",
          "FULL-SIZE",
          "FULL-SIZE",
          "FULL-SIZE",
          "FULL-SIZE",
          "FULL-SIZE",
          "FULL-SIZE",
          "FULL-SIZE",
          "FULL-SIZE",
          "FULL-SIZE",
          "FULL-SIZE",
          "FULL-SIZE",
          "FULL-SIZE",
          "FULL-SIZE",
          "FULL-SIZE",
          "FULL-SIZE",
          "FULL-SIZE",
          "FULL-SIZE",
          "FULL-SIZE",
          "FULL-SIZE",
          "FULL-SIZE",
          "FULL-SIZE",
          "FULL-SIZE",
          "FULL-SIZE",
          "FULL-SIZE",
          "FULL-SIZE",
          "FULL-SIZE",
          "FULL-SIZE",
          "FULL-SIZE",
          "FULL-SIZE",
          "FULL-SIZE",
          "FULL-SIZE",
          "FULL-SIZE",
          "FULL-SIZE",
          "FULL-SIZE",
          "FULL-SIZE",
          "FULL-SIZE",
          "FULL-SIZE",
          "FULL-SIZE",
          "FULL-SIZE",
          "FULL-SIZE",
          "FULL-SIZE",
          "FULL-SIZE",
          "FULL-SIZE",
          "FULL-SIZE",
          "FULL-SIZE",
          "FULL-SIZE",
          "FULL-SIZE",
          "FULL-SIZE",
          "FULL-SIZE",
          "FULL-SIZE",
          "FULL-SIZE",
          "FULL-SIZE",
          "FULL-SIZE",
          "FULL-SIZE",
          "FULL-SIZE",
          "FULL-SIZE",
          "FULL-SIZE",
          "FULL-SIZE",
          "FULL-SIZE",
          "FULL-SIZE",
          "FULL-SIZE",
          "FULL-SIZE",
          "FULL-SIZE",
          "FULL-SIZE",
          "FULL-SIZE",
          "FULL-SIZE",
          "FULL-SIZE",
          "FULL-SIZE",
          "FULL-SIZE",
          "FULL-SIZE",
          "FULL-SIZE",
          "FULL-SIZE",
          "FULL-SIZE",
          "FULL-SIZE",
          "FULL-SIZE",
          "FULL-SIZE",
          "FULL-SIZE",
          "FULL-SIZE",
          "FULL-SIZE",
          "FULL-SIZE",
          "FULL-SIZE",
          "FULL-SIZE",
          "FULL-SIZE",
          "FULL-SIZE",
          "FULL-SIZE",
          "FULL-SIZE",
          "FULL-SIZE",
          "FULL-SIZE",
          "FULL-SIZE",
          "FULL-SIZE",
          "FULL-SIZE",
          "FULL-SIZE",
          "FULL-SIZE",
          "FULL-SIZE",
          "FULL-SIZE",
          "FULL-SIZE",
          "FULL-SIZE",
          "FULL-SIZE",
          "FULL-SIZE",
          "FULL-SIZE",
          "FULL-SIZE",
          "FULL-SIZE",
          "FULL-SIZE",
          "FULL-SIZE",
          "FULL-SIZE",
          "FULL-SIZE",
          "FULL-SIZE",
          "FULL-SIZE",
          "FULL-SIZE",
          "FULL-SIZE",
          "FULL-SIZE",
          "FULL-SIZE",
          "FULL-SIZE",
          "FULL-SIZE",
          "FULL-SIZE",
          "FULL-SIZE",
          "FULL-SIZE",
          "FULL-SIZE",
          "FULL-SIZE",
          "FULL-SIZE",
          "FULL-SIZE",
          "FULL-SIZE",
          "FULL-SIZE",
          "FULL-SIZE",
          "FULL-SIZE",
          "FULL-SIZE",
          "FULL-SIZE",
          "FULL-SIZE",
          "FULL-SIZE",
          "FULL-SIZE",
          "FULL-SIZE",
          "FULL-SIZE",
          "FULL-SIZE",
          "FULL-SIZE",
          "FULL-SIZE",
          "FULL-SIZE",
          "FULL-SIZE",
          "FULL-SIZE",
          "FULL-SIZE",
          "FULL-SIZE",
          "FULL-SIZE",
          "FULL-SIZE",
          "FULL-SIZE",
          "FULL-SIZE",
          "FULL-SIZE",
          "FULL-SIZE",
          "FULL-SIZE",
          "FULL-SIZE",
          "FULL-SIZE",
          "FULL-SIZE",
          "FULL-SIZE",
          "FULL-SIZE",
          "FULL-SIZE",
          "FULL-SIZE",
          "FULL-SIZE",
          "FULL-SIZE",
          "FULL-SIZE",
          "FULL-SIZE",
          "FULL-SIZE",
          "FULL-SIZE",
          "FULL-SIZE",
          "FULL-SIZE",
          "FULL-SIZE",
          "FULL-SIZE",
          "FULL-SIZE",
          "FULL-SIZE",
          "FULL-SIZE",
          "FULL-SIZE",
          "FULL-SIZE",
          "FULL-SIZE",
          "FULL-SIZE",
          "FULL-SIZE",
          "FULL-SIZE",
          "FULL-SIZE",
          "FULL-SIZE",
          "FULL-SIZE",
          "FULL-SIZE",
          "FULL-SIZE",
          "FULL-SIZE",
          "FULL-SIZE",
          "FULL-SIZE",
          "FULL-SIZE",
          "FULL-SIZE",
          "FULL-SIZE",
          "FULL-SIZE",
          "FULL-SIZE",
          "FULL-SIZE",
          "FULL-SIZE",
          "FULL-SIZE",
          "FULL-SIZE",
          "FULL-SIZE",
          "FULL-SIZE",
          "FULL-SIZE",
          "FULL-SIZE",
          "FULL-SIZE",
          "FULL-SIZE",
          "FULL-SIZE",
          "FULL-SIZE",
          "FULL-SIZE",
          "FULL-SIZE",
          "FULL-SIZE",
          "FULL-SIZE",
          "FULL-SIZE",
          "FULL-SIZE",
          "FULL-SIZE",
          "FULL-SIZE",
          "FULL-SIZE",
          "FULL-SIZE",
          "FULL-SIZE",
          "FULL-SIZE",
          "FULL-SIZE",
          "FULL-SIZE",
          "FULL-SIZE",
          "FULL-SIZE",
          "FULL-SIZE",
          "FULL-SIZE",
          "FULL-SIZE",
          "FULL-SIZE",
          "FULL-SIZE",
          "FULL-SIZE",
          "FULL-SIZE",
          "FULL-SIZE",
          "FULL-SIZE",
          "FULL-SIZE",
          "FULL-SIZE",
          "FULL-SIZE",
          "FULL-SIZE",
          "FULL-SIZE",
          "FULL-SIZE",
          "FULL-SIZE",
          "FULL-SIZE",
          "FULL-SIZE",
          "FULL-SIZE",
          "FULL-SIZE",
          "FULL-SIZE",
          "FULL-SIZE",
          "FULL-SIZE",
          "FULL-SIZE",
          "FULL-SIZE",
          "FULL-SIZE",
          "FULL-SIZE",
          "FULL-SIZE",
          "FULL-SIZE",
          "FULL-SIZE",
          "FULL-SIZE",
          "FULL-SIZE",
          "FULL-SIZE",
          "FULL-SIZE",
          "FULL-SIZE",
          "FULL-SIZE",
          "FULL-SIZE",
          "FULL-SIZE",
          "FULL-SIZE",
          "FULL-SIZE",
          "FULL-SIZE",
          "FULL-SIZE",
          "FULL-SIZE",
          "FULL-SIZE",
          "FULL-SIZE",
          "FULL-SIZE",
          "FULL-SIZE",
          "FULL-SIZE",
          "FULL-SIZE",
          "FULL-SIZE",
          "FULL-SIZE",
          "FULL-SIZE",
          "FULL-SIZE",
          "FULL-SIZE",
          "FULL-SIZE",
          "FULL-SIZE",
          "FULL-SIZE",
          "FULL-SIZE",
          "FULL-SIZE",
          "FULL-SIZE",
          "FULL-SIZE",
          "FULL-SIZE",
          "FULL-SIZE",
          "FULL-SIZE",
          "FULL-SIZE",
          "FULL-SIZE",
          "FULL-SIZE",
          "FULL-SIZE",
          "FULL-SIZE",
          "FULL-SIZE",
          "FULL-SIZE",
          "FULL-SIZE",
          "FULL-SIZE",
          "FULL-SIZE",
          "FULL-SIZE",
          "FULL-SIZE",
          "FULL-SIZE",
          "FULL-SIZE",
          "FULL-SIZE",
          "FULL-SIZE",
          "FULL-SIZE",
          "FULL-SIZE",
          "FULL-SIZE",
          "FULL-SIZE",
          "FULL-SIZE",
          "FULL-SIZE",
          "FULL-SIZE",
          "FULL-SIZE",
          "FULL-SIZE",
          "FULL-SIZE",
          "FULL-SIZE",
          "FULL-SIZE",
          "FULL-SIZE",
          "FULL-SIZE",
          "FULL-SIZE",
          "FULL-SIZE",
          "FULL-SIZE",
          "FULL-SIZE",
          "FULL-SIZE",
          "FULL-SIZE",
          "FULL-SIZE",
          "FULL-SIZE",
          "FULL-SIZE",
          "FULL-SIZE",
          "FULL-SIZE",
          "FULL-SIZE",
          "FULL-SIZE",
          "FULL-SIZE",
          "FULL-SIZE",
          "FULL-SIZE",
          "FULL-SIZE",
          "FULL-SIZE",
          "FULL-SIZE",
          "FULL-SIZE",
          "FULL-SIZE",
          "FULL-SIZE",
          "FULL-SIZE",
          "FULL-SIZE",
          "FULL-SIZE",
          "FULL-SIZE",
          "FULL-SIZE",
          "FULL-SIZE",
          "FULL-SIZE",
          "FULL-SIZE",
          "FULL-SIZE",
          "FULL-SIZE",
          "FULL-SIZE",
          "FULL-SIZE",
          "FULL-SIZE",
          "FULL-SIZE"
         ],
         "x0": " ",
         "xaxis": "x",
         "y": {
          "bdata": "AgEgAWsB4ADRAOgA9gAkAfYAJAEkAWQB1AAkASQBBgEPASIB3QD0AOUAyADtACYB+wA0AfsA7QDtAN4APQECAe0AJgH7ADQB+wDtAAIB+wDrAN4APQGKANEADwHtAOUAAgH7ADAB/wDdAMQAHQEyARgBHQEyARgBMgEyAfsA3wDhAMEAxAAPAQQBTgEtARYBFAEwAfsA/wAEAQgBJAEEASYBKQFwAXABiQGJAfIAAgFYAeAA0QDmAP0AJgHuAO0AJgEmAWQB1gAmASYBBAELASIB1AD0AOgA7QDtAN4AGwH7APsA7QAIAQgB/gDtAO0A3gApARsB+wD7AO0ANAEpAVIBigDRABIB7wDrAAQBAAEyARYBRwHRAMEAwQAdATIBGAEgATIBGAEyATIB9gDfAOEAxADBAAQBMgESAQIBTgErASABVwEwAWUB+wD/AAYBCAEkAQYBJgEpASYBKQFyAXIBjAGMAf8AWAHRAO4ABwEbARsBGwHeAAcBAQEHAREBLgHXAPgA7wDwAPAA5QAhAQEBAQHzAA8B8AAPAQgB8ADlAC4BIQEuAQEBAQHzADkBLgFTAYwA7QAEAfgAJQEjAQ8BOAEdAUwB1gC/AMwAEwEXATkBOQH7AOQA4wDHAMUAFgE+Aa8A3gDBACUBHwFCASwBLgE5AWkBZwEfAVQB/wAqAQsBBgELAQ8BLAEvASwBLwF1AXUBkwGUAf8A1QDuAO4AEQEkASQBYwHfAAcBAwEEARABKwHgAPkA8ADyACEBAgECAfgADwHyAC4BIQEuAQIBAgH4ADgBLgFTAYoA7gAEAfkAJQEjAQ8BHgFMARcBMgGiAKoAqgCnAKcAZwBgANgAwgDPABQBGAE5ATkB7QDPAMUAzAAXAT0BxgC+AOAAGQEgAR8BQQEsAS0BOQFdAWcBGAFeAYYBhgGQAZAB9wAiASIB0ADrAPEAJAEbAWMB2QDjAPoA4AAHAQUBBAEQAS4B4AD+APUA8gDyAOoAIQECAQIB+AAPAQ8BDAHyAPIA6gAuASEBLgECAQIB+AA4AS4BUwGKAAQB+QAmASMBDwEaARQBOAEXATIBqACxALkA1gB2AKIAqgCnAKoApwDgAMIA4gDGAM0AZgBgANQAygAUARgBOQHtAM8AxQDMABcBPQHgAMYAvgAYASIBHwFBASwBLQETAWQBYwEJAeUA6wDrAPIA6wDrAPkABQEFARcBjQGNAYMBgwH8AM8A8QANARoBGgFjAQsBBQFEAQMBEAEuAeEA/gD1APIA8gDqACEBAgECAfgADwEPAQwB8gDyAOoALgEhATABAgECAfgAOAFTAQ4B/gAmASMBCwEaARQBOAEXATIBqACxALkA1gB1AKIAqgCnAKoApwDgAM0A2gDIAM8AaABgANQAxgC+ABQBGAE5Ae4A5gDHABkBIQEfASsBLQFBARMBZAEeAWMBCQH6AP0A/QD6AAUBBQERAScBOQEFAQUBFwGNAY0BfgF+AfQACwE0AVMBIgEiASIBYgEDAUQB/wD2APIAIQECAQ8B8gAhATEBAgExAXABGgEUATgBGAE3AaoAsQC5ANYAdQCiAKcArACnAN8AzQDaAMcAzwBjAGAAtQC2AHUAvgCpAMcAGQEhAR8BHgEtAUEBEwFkAR4BYwEJAfoA/QD9APoABQEFAREBJwE5AQUBBQEXAZABkAF+AX4BzQC5AOoA",
          "dtype": "i2"
         },
         "y0": " ",
         "yaxis": "y"
        },
        {
         "alignmentgroup": "True",
         "hovertemplate": "Vehicle Class=%{x}<br>CO2 Emissions(g/km)=%{y}<extra></extra>",
         "legendgroup": "STATION WAGON - SMALL",
         "marker": {
          "color": "#B6E880"
         },
         "name": "STATION WAGON - SMALL",
         "notched": false,
         "offsetgroup": "STATION WAGON - SMALL",
         "orientation": "v",
         "showlegend": true,
         "type": "box",
         "x": [
          "STATION WAGON - SMALL",
          "STATION WAGON - SMALL",
          "STATION WAGON - SMALL",
          "STATION WAGON - SMALL",
          "STATION WAGON - SMALL",
          "STATION WAGON - SMALL",
          "STATION WAGON - SMALL",
          "STATION WAGON - SMALL",
          "STATION WAGON - SMALL",
          "STATION WAGON - SMALL",
          "STATION WAGON - SMALL",
          "STATION WAGON - SMALL",
          "STATION WAGON - SMALL",
          "STATION WAGON - SMALL",
          "STATION WAGON - SMALL",
          "STATION WAGON - SMALL",
          "STATION WAGON - SMALL",
          "STATION WAGON - SMALL",
          "STATION WAGON - SMALL",
          "STATION WAGON - SMALL",
          "STATION WAGON - SMALL",
          "STATION WAGON - SMALL",
          "STATION WAGON - SMALL",
          "STATION WAGON - SMALL",
          "STATION WAGON - SMALL",
          "STATION WAGON - SMALL",
          "STATION WAGON - SMALL",
          "STATION WAGON - SMALL",
          "STATION WAGON - SMALL",
          "STATION WAGON - SMALL",
          "STATION WAGON - SMALL",
          "STATION WAGON - SMALL",
          "STATION WAGON - SMALL",
          "STATION WAGON - SMALL",
          "STATION WAGON - SMALL",
          "STATION WAGON - SMALL",
          "STATION WAGON - SMALL",
          "STATION WAGON - SMALL",
          "STATION WAGON - SMALL",
          "STATION WAGON - SMALL",
          "STATION WAGON - SMALL",
          "STATION WAGON - SMALL",
          "STATION WAGON - SMALL",
          "STATION WAGON - SMALL",
          "STATION WAGON - SMALL",
          "STATION WAGON - SMALL",
          "STATION WAGON - SMALL",
          "STATION WAGON - SMALL",
          "STATION WAGON - SMALL",
          "STATION WAGON - SMALL",
          "STATION WAGON - SMALL",
          "STATION WAGON - SMALL",
          "STATION WAGON - SMALL",
          "STATION WAGON - SMALL",
          "STATION WAGON - SMALL",
          "STATION WAGON - SMALL",
          "STATION WAGON - SMALL",
          "STATION WAGON - SMALL",
          "STATION WAGON - SMALL",
          "STATION WAGON - SMALL",
          "STATION WAGON - SMALL",
          "STATION WAGON - SMALL",
          "STATION WAGON - SMALL",
          "STATION WAGON - SMALL",
          "STATION WAGON - SMALL",
          "STATION WAGON - SMALL",
          "STATION WAGON - SMALL",
          "STATION WAGON - SMALL",
          "STATION WAGON - SMALL",
          "STATION WAGON - SMALL",
          "STATION WAGON - SMALL",
          "STATION WAGON - SMALL",
          "STATION WAGON - SMALL",
          "STATION WAGON - SMALL",
          "STATION WAGON - SMALL",
          "STATION WAGON - SMALL",
          "STATION WAGON - SMALL",
          "STATION WAGON - SMALL",
          "STATION WAGON - SMALL",
          "STATION WAGON - SMALL",
          "STATION WAGON - SMALL",
          "STATION WAGON - SMALL",
          "STATION WAGON - SMALL",
          "STATION WAGON - SMALL",
          "STATION WAGON - SMALL",
          "STATION WAGON - SMALL",
          "STATION WAGON - SMALL",
          "STATION WAGON - SMALL",
          "STATION WAGON - SMALL",
          "STATION WAGON - SMALL",
          "STATION WAGON - SMALL",
          "STATION WAGON - SMALL",
          "STATION WAGON - SMALL",
          "STATION WAGON - SMALL",
          "STATION WAGON - SMALL",
          "STATION WAGON - SMALL",
          "STATION WAGON - SMALL",
          "STATION WAGON - SMALL",
          "STATION WAGON - SMALL",
          "STATION WAGON - SMALL",
          "STATION WAGON - SMALL",
          "STATION WAGON - SMALL",
          "STATION WAGON - SMALL",
          "STATION WAGON - SMALL",
          "STATION WAGON - SMALL",
          "STATION WAGON - SMALL",
          "STATION WAGON - SMALL",
          "STATION WAGON - SMALL",
          "STATION WAGON - SMALL",
          "STATION WAGON - SMALL",
          "STATION WAGON - SMALL",
          "STATION WAGON - SMALL",
          "STATION WAGON - SMALL",
          "STATION WAGON - SMALL",
          "STATION WAGON - SMALL",
          "STATION WAGON - SMALL",
          "STATION WAGON - SMALL",
          "STATION WAGON - SMALL",
          "STATION WAGON - SMALL",
          "STATION WAGON - SMALL",
          "STATION WAGON - SMALL",
          "STATION WAGON - SMALL",
          "STATION WAGON - SMALL",
          "STATION WAGON - SMALL",
          "STATION WAGON - SMALL",
          "STATION WAGON - SMALL",
          "STATION WAGON - SMALL",
          "STATION WAGON - SMALL",
          "STATION WAGON - SMALL",
          "STATION WAGON - SMALL",
          "STATION WAGON - SMALL",
          "STATION WAGON - SMALL",
          "STATION WAGON - SMALL",
          "STATION WAGON - SMALL",
          "STATION WAGON - SMALL",
          "STATION WAGON - SMALL",
          "STATION WAGON - SMALL",
          "STATION WAGON - SMALL",
          "STATION WAGON - SMALL",
          "STATION WAGON - SMALL",
          "STATION WAGON - SMALL",
          "STATION WAGON - SMALL",
          "STATION WAGON - SMALL",
          "STATION WAGON - SMALL",
          "STATION WAGON - SMALL",
          "STATION WAGON - SMALL",
          "STATION WAGON - SMALL",
          "STATION WAGON - SMALL",
          "STATION WAGON - SMALL",
          "STATION WAGON - SMALL",
          "STATION WAGON - SMALL",
          "STATION WAGON - SMALL",
          "STATION WAGON - SMALL",
          "STATION WAGON - SMALL",
          "STATION WAGON - SMALL",
          "STATION WAGON - SMALL",
          "STATION WAGON - SMALL",
          "STATION WAGON - SMALL",
          "STATION WAGON - SMALL",
          "STATION WAGON - SMALL",
          "STATION WAGON - SMALL",
          "STATION WAGON - SMALL",
          "STATION WAGON - SMALL",
          "STATION WAGON - SMALL",
          "STATION WAGON - SMALL",
          "STATION WAGON - SMALL",
          "STATION WAGON - SMALL",
          "STATION WAGON - SMALL",
          "STATION WAGON - SMALL",
          "STATION WAGON - SMALL",
          "STATION WAGON - SMALL",
          "STATION WAGON - SMALL",
          "STATION WAGON - SMALL",
          "STATION WAGON - SMALL",
          "STATION WAGON - SMALL",
          "STATION WAGON - SMALL",
          "STATION WAGON - SMALL",
          "STATION WAGON - SMALL",
          "STATION WAGON - SMALL",
          "STATION WAGON - SMALL",
          "STATION WAGON - SMALL",
          "STATION WAGON - SMALL",
          "STATION WAGON - SMALL",
          "STATION WAGON - SMALL",
          "STATION WAGON - SMALL",
          "STATION WAGON - SMALL",
          "STATION WAGON - SMALL",
          "STATION WAGON - SMALL",
          "STATION WAGON - SMALL",
          "STATION WAGON - SMALL",
          "STATION WAGON - SMALL",
          "STATION WAGON - SMALL",
          "STATION WAGON - SMALL",
          "STATION WAGON - SMALL",
          "STATION WAGON - SMALL",
          "STATION WAGON - SMALL",
          "STATION WAGON - SMALL",
          "STATION WAGON - SMALL",
          "STATION WAGON - SMALL",
          "STATION WAGON - SMALL",
          "STATION WAGON - SMALL",
          "STATION WAGON - SMALL",
          "STATION WAGON - SMALL",
          "STATION WAGON - SMALL",
          "STATION WAGON - SMALL",
          "STATION WAGON - SMALL",
          "STATION WAGON - SMALL",
          "STATION WAGON - SMALL",
          "STATION WAGON - SMALL",
          "STATION WAGON - SMALL",
          "STATION WAGON - SMALL",
          "STATION WAGON - SMALL",
          "STATION WAGON - SMALL",
          "STATION WAGON - SMALL",
          "STATION WAGON - SMALL",
          "STATION WAGON - SMALL",
          "STATION WAGON - SMALL",
          "STATION WAGON - SMALL",
          "STATION WAGON - SMALL",
          "STATION WAGON - SMALL",
          "STATION WAGON - SMALL",
          "STATION WAGON - SMALL",
          "STATION WAGON - SMALL",
          "STATION WAGON - SMALL",
          "STATION WAGON - SMALL",
          "STATION WAGON - SMALL",
          "STATION WAGON - SMALL",
          "STATION WAGON - SMALL",
          "STATION WAGON - SMALL",
          "STATION WAGON - SMALL",
          "STATION WAGON - SMALL",
          "STATION WAGON - SMALL",
          "STATION WAGON - SMALL",
          "STATION WAGON - SMALL",
          "STATION WAGON - SMALL",
          "STATION WAGON - SMALL",
          "STATION WAGON - SMALL",
          "STATION WAGON - SMALL",
          "STATION WAGON - SMALL",
          "STATION WAGON - SMALL",
          "STATION WAGON - SMALL",
          "STATION WAGON - SMALL",
          "STATION WAGON - SMALL",
          "STATION WAGON - SMALL",
          "STATION WAGON - SMALL",
          "STATION WAGON - SMALL",
          "STATION WAGON - SMALL",
          "STATION WAGON - SMALL",
          "STATION WAGON - SMALL",
          "STATION WAGON - SMALL",
          "STATION WAGON - SMALL",
          "STATION WAGON - SMALL"
         ],
         "x0": " ",
         "xaxis": "x",
         "y": {
          "bdata": "8gC1ANEA/QAEAf8ABgF+AVQByADBAKwAsQAPAc0AzwDRAMoAuADGAMYAugDGAMgA5ADkALMAxAACASABxAC9ANoA2ADGAMQA5AC1ANEA2ADIAL8AkwCcAKgAEgHNAM8AzwDKALgAzQDGAMYAtgCxAL0AvwDKAOEA4QCvAMEAwQC9ALQAswD9AMEA6AACAegAtwDRALwArwDDALsAwwC9ANoAywDCAJYAngCrABcBzgDQANAA0AC/AMsAugC3AMIAwgDQALEAxQDBAMAA7wDBAOkA5wADAQMB2QC9ANUAuACuAMUAwgDdAJoApACuALQAtADDAMIAwgAYAXIAbgCBAM0A0ADOAMcAwgDNAL0AvADHAMUA0QC/ANgAxQCwANMA3ADAAMIA3ADGANsA3QDxANwA2QC4ANAAuACuAMEAvgDdAJcApgCuALQAtADDAMIAwgByAG4AgQDHAM0AzgDXANYAvwDYAMQAsADTANwA4QDHAMAA4ADaAOIA3QDxANwA3QDPAN0AlwCmAK4AtQDBAMcAcgBuAIEAxwDGAM4AwADJAP8AxADXAN0A1wDWALwA2QDGALEA0wDcAOEAsgCsAOAA2gDFANsA2gDOAN0AlwCmAK4AtQDBAMgAcgBuAIEAvADOAP8A3QDAANkAxgCyANMA0ADbANwA",
          "dtype": "i2"
         },
         "y0": " ",
         "yaxis": "y"
        },
        {
         "alignmentgroup": "True",
         "hovertemplate": "Vehicle Class=%{x}<br>CO2 Emissions(g/km)=%{y}<extra></extra>",
         "legendgroup": "SUV - STANDARD",
         "marker": {
          "color": "#FF97FF"
         },
         "name": "SUV - STANDARD",
         "notched": false,
         "offsetgroup": "SUV - STANDARD",
         "orientation": "v",
         "showlegend": true,
         "type": "box",
         "x": [
          "SUV - STANDARD",
          "SUV - STANDARD",
          "SUV - STANDARD",
          "SUV - STANDARD",
          "SUV - STANDARD",
          "SUV - STANDARD",
          "SUV - STANDARD",
          "SUV - STANDARD",
          "SUV - STANDARD",
          "SUV - STANDARD",
          "SUV - STANDARD",
          "SUV - STANDARD",
          "SUV - STANDARD",
          "SUV - STANDARD",
          "SUV - STANDARD",
          "SUV - STANDARD",
          "SUV - STANDARD",
          "SUV - STANDARD",
          "SUV - STANDARD",
          "SUV - STANDARD",
          "SUV - STANDARD",
          "SUV - STANDARD",
          "SUV - STANDARD",
          "SUV - STANDARD",
          "SUV - STANDARD",
          "SUV - STANDARD",
          "SUV - STANDARD",
          "SUV - STANDARD",
          "SUV - STANDARD",
          "SUV - STANDARD",
          "SUV - STANDARD",
          "SUV - STANDARD",
          "SUV - STANDARD",
          "SUV - STANDARD",
          "SUV - STANDARD",
          "SUV - STANDARD",
          "SUV - STANDARD",
          "SUV - STANDARD",
          "SUV - STANDARD",
          "SUV - STANDARD",
          "SUV - STANDARD",
          "SUV - STANDARD",
          "SUV - STANDARD",
          "SUV - STANDARD",
          "SUV - STANDARD",
          "SUV - STANDARD",
          "SUV - STANDARD",
          "SUV - STANDARD",
          "SUV - STANDARD",
          "SUV - STANDARD",
          "SUV - STANDARD",
          "SUV - STANDARD",
          "SUV - STANDARD",
          "SUV - STANDARD",
          "SUV - STANDARD",
          "SUV - STANDARD",
          "SUV - STANDARD",
          "SUV - STANDARD",
          "SUV - STANDARD",
          "SUV - STANDARD",
          "SUV - STANDARD",
          "SUV - STANDARD",
          "SUV - STANDARD",
          "SUV - STANDARD",
          "SUV - STANDARD",
          "SUV - STANDARD",
          "SUV - STANDARD",
          "SUV - STANDARD",
          "SUV - STANDARD",
          "SUV - STANDARD",
          "SUV - STANDARD",
          "SUV - STANDARD",
          "SUV - STANDARD",
          "SUV - STANDARD",
          "SUV - STANDARD",
          "SUV - STANDARD",
          "SUV - STANDARD",
          "SUV - STANDARD",
          "SUV - STANDARD",
          "SUV - STANDARD",
          "SUV - STANDARD",
          "SUV - STANDARD",
          "SUV - STANDARD",
          "SUV - STANDARD",
          "SUV - STANDARD",
          "SUV - STANDARD",
          "SUV - STANDARD",
          "SUV - STANDARD",
          "SUV - STANDARD",
          "SUV - STANDARD",
          "SUV - STANDARD",
          "SUV - STANDARD",
          "SUV - STANDARD",
          "SUV - STANDARD",
          "SUV - STANDARD",
          "SUV - STANDARD",
          "SUV - STANDARD",
          "SUV - STANDARD",
          "SUV - STANDARD",
          "SUV - STANDARD",
          "SUV - STANDARD",
          "SUV - STANDARD",
          "SUV - STANDARD",
          "SUV - STANDARD",
          "SUV - STANDARD",
          "SUV - STANDARD",
          "SUV - STANDARD",
          "SUV - STANDARD",
          "SUV - STANDARD",
          "SUV - STANDARD",
          "SUV - STANDARD",
          "SUV - STANDARD",
          "SUV - STANDARD",
          "SUV - STANDARD",
          "SUV - STANDARD",
          "SUV - STANDARD",
          "SUV - STANDARD",
          "SUV - STANDARD",
          "SUV - STANDARD",
          "SUV - STANDARD",
          "SUV - STANDARD",
          "SUV - STANDARD",
          "SUV - STANDARD",
          "SUV - STANDARD",
          "SUV - STANDARD",
          "SUV - STANDARD",
          "SUV - STANDARD",
          "SUV - STANDARD",
          "SUV - STANDARD",
          "SUV - STANDARD",
          "SUV - STANDARD",
          "SUV - STANDARD",
          "SUV - STANDARD",
          "SUV - STANDARD",
          "SUV - STANDARD",
          "SUV - STANDARD",
          "SUV - STANDARD",
          "SUV - STANDARD",
          "SUV - STANDARD",
          "SUV - STANDARD",
          "SUV - STANDARD",
          "SUV - STANDARD",
          "SUV - STANDARD",
          "SUV - STANDARD",
          "SUV - STANDARD",
          "SUV - STANDARD",
          "SUV - STANDARD",
          "SUV - STANDARD",
          "SUV - STANDARD",
          "SUV - STANDARD",
          "SUV - STANDARD",
          "SUV - STANDARD",
          "SUV - STANDARD",
          "SUV - STANDARD",
          "SUV - STANDARD",
          "SUV - STANDARD",
          "SUV - STANDARD",
          "SUV - STANDARD",
          "SUV - STANDARD",
          "SUV - STANDARD",
          "SUV - STANDARD",
          "SUV - STANDARD",
          "SUV - STANDARD",
          "SUV - STANDARD",
          "SUV - STANDARD",
          "SUV - STANDARD",
          "SUV - STANDARD",
          "SUV - STANDARD",
          "SUV - STANDARD",
          "SUV - STANDARD",
          "SUV - STANDARD",
          "SUV - STANDARD",
          "SUV - STANDARD",
          "SUV - STANDARD",
          "SUV - STANDARD",
          "SUV - STANDARD",
          "SUV - STANDARD",
          "SUV - STANDARD",
          "SUV - STANDARD",
          "SUV - STANDARD",
          "SUV - STANDARD",
          "SUV - STANDARD",
          "SUV - STANDARD",
          "SUV - STANDARD",
          "SUV - STANDARD",
          "SUV - STANDARD",
          "SUV - STANDARD",
          "SUV - STANDARD",
          "SUV - STANDARD",
          "SUV - STANDARD",
          "SUV - STANDARD",
          "SUV - STANDARD",
          "SUV - STANDARD",
          "SUV - STANDARD",
          "SUV - STANDARD",
          "SUV - STANDARD",
          "SUV - STANDARD",
          "SUV - STANDARD",
          "SUV - STANDARD",
          "SUV - STANDARD",
          "SUV - STANDARD",
          "SUV - STANDARD",
          "SUV - STANDARD",
          "SUV - STANDARD",
          "SUV - STANDARD",
          "SUV - STANDARD",
          "SUV - STANDARD",
          "SUV - STANDARD",
          "SUV - STANDARD",
          "SUV - STANDARD",
          "SUV - STANDARD",
          "SUV - STANDARD",
          "SUV - STANDARD",
          "SUV - STANDARD",
          "SUV - STANDARD",
          "SUV - STANDARD",
          "SUV - STANDARD",
          "SUV - STANDARD",
          "SUV - STANDARD",
          "SUV - STANDARD",
          "SUV - STANDARD",
          "SUV - STANDARD",
          "SUV - STANDARD",
          "SUV - STANDARD",
          "SUV - STANDARD",
          "SUV - STANDARD",
          "SUV - STANDARD",
          "SUV - STANDARD",
          "SUV - STANDARD",
          "SUV - STANDARD",
          "SUV - STANDARD",
          "SUV - STANDARD",
          "SUV - STANDARD",
          "SUV - STANDARD",
          "SUV - STANDARD",
          "SUV - STANDARD",
          "SUV - STANDARD",
          "SUV - STANDARD",
          "SUV - STANDARD",
          "SUV - STANDARD",
          "SUV - STANDARD",
          "SUV - STANDARD",
          "SUV - STANDARD",
          "SUV - STANDARD",
          "SUV - STANDARD",
          "SUV - STANDARD",
          "SUV - STANDARD",
          "SUV - STANDARD",
          "SUV - STANDARD",
          "SUV - STANDARD",
          "SUV - STANDARD",
          "SUV - STANDARD",
          "SUV - STANDARD",
          "SUV - STANDARD",
          "SUV - STANDARD",
          "SUV - STANDARD",
          "SUV - STANDARD",
          "SUV - STANDARD",
          "SUV - STANDARD",
          "SUV - STANDARD",
          "SUV - STANDARD",
          "SUV - STANDARD",
          "SUV - STANDARD",
          "SUV - STANDARD",
          "SUV - STANDARD",
          "SUV - STANDARD",
          "SUV - STANDARD",
          "SUV - STANDARD",
          "SUV - STANDARD",
          "SUV - STANDARD",
          "SUV - STANDARD",
          "SUV - STANDARD",
          "SUV - STANDARD",
          "SUV - STANDARD",
          "SUV - STANDARD",
          "SUV - STANDARD",
          "SUV - STANDARD",
          "SUV - STANDARD",
          "SUV - STANDARD",
          "SUV - STANDARD",
          "SUV - STANDARD",
          "SUV - STANDARD",
          "SUV - STANDARD",
          "SUV - STANDARD",
          "SUV - STANDARD",
          "SUV - STANDARD",
          "SUV - STANDARD",
          "SUV - STANDARD",
          "SUV - STANDARD",
          "SUV - STANDARD",
          "SUV - STANDARD",
          "SUV - STANDARD",
          "SUV - STANDARD",
          "SUV - STANDARD",
          "SUV - STANDARD",
          "SUV - STANDARD",
          "SUV - STANDARD",
          "SUV - STANDARD",
          "SUV - STANDARD",
          "SUV - STANDARD",
          "SUV - STANDARD",
          "SUV - STANDARD",
          "SUV - STANDARD",
          "SUV - STANDARD",
          "SUV - STANDARD",
          "SUV - STANDARD",
          "SUV - STANDARD",
          "SUV - STANDARD",
          "SUV - STANDARD",
          "SUV - STANDARD",
          "SUV - STANDARD",
          "SUV - STANDARD",
          "SUV - STANDARD",
          "SUV - STANDARD",
          "SUV - STANDARD",
          "SUV - STANDARD",
          "SUV - STANDARD",
          "SUV - STANDARD",
          "SUV - STANDARD",
          "SUV - STANDARD",
          "SUV - STANDARD",
          "SUV - STANDARD",
          "SUV - STANDARD",
          "SUV - STANDARD",
          "SUV - STANDARD",
          "SUV - STANDARD",
          "SUV - STANDARD",
          "SUV - STANDARD",
          "SUV - STANDARD",
          "SUV - STANDARD",
          "SUV - STANDARD",
          "SUV - STANDARD",
          "SUV - STANDARD",
          "SUV - STANDARD",
          "SUV - STANDARD",
          "SUV - STANDARD",
          "SUV - STANDARD",
          "SUV - STANDARD",
          "SUV - STANDARD",
          "SUV - STANDARD",
          "SUV - STANDARD",
          "SUV - STANDARD",
          "SUV - STANDARD",
          "SUV - STANDARD",
          "SUV - STANDARD",
          "SUV - STANDARD",
          "SUV - STANDARD",
          "SUV - STANDARD",
          "SUV - STANDARD",
          "SUV - STANDARD",
          "SUV - STANDARD",
          "SUV - STANDARD",
          "SUV - STANDARD",
          "SUV - STANDARD",
          "SUV - STANDARD",
          "SUV - STANDARD",
          "SUV - STANDARD",
          "SUV - STANDARD",
          "SUV - STANDARD",
          "SUV - STANDARD",
          "SUV - STANDARD",
          "SUV - STANDARD",
          "SUV - STANDARD",
          "SUV - STANDARD",
          "SUV - STANDARD",
          "SUV - STANDARD",
          "SUV - STANDARD",
          "SUV - STANDARD",
          "SUV - STANDARD",
          "SUV - STANDARD",
          "SUV - STANDARD",
          "SUV - STANDARD",
          "SUV - STANDARD",
          "SUV - STANDARD",
          "SUV - STANDARD",
          "SUV - STANDARD",
          "SUV - STANDARD",
          "SUV - STANDARD",
          "SUV - STANDARD",
          "SUV - STANDARD",
          "SUV - STANDARD",
          "SUV - STANDARD",
          "SUV - STANDARD",
          "SUV - STANDARD",
          "SUV - STANDARD",
          "SUV - STANDARD",
          "SUV - STANDARD",
          "SUV - STANDARD",
          "SUV - STANDARD",
          "SUV - STANDARD",
          "SUV - STANDARD",
          "SUV - STANDARD",
          "SUV - STANDARD",
          "SUV - STANDARD",
          "SUV - STANDARD",
          "SUV - STANDARD",
          "SUV - STANDARD",
          "SUV - STANDARD",
          "SUV - STANDARD",
          "SUV - STANDARD",
          "SUV - STANDARD",
          "SUV - STANDARD",
          "SUV - STANDARD",
          "SUV - STANDARD",
          "SUV - STANDARD",
          "SUV - STANDARD",
          "SUV - STANDARD",
          "SUV - STANDARD",
          "SUV - STANDARD",
          "SUV - STANDARD",
          "SUV - STANDARD",
          "SUV - STANDARD",
          "SUV - STANDARD",
          "SUV - STANDARD",
          "SUV - STANDARD",
          "SUV - STANDARD",
          "SUV - STANDARD",
          "SUV - STANDARD",
          "SUV - STANDARD",
          "SUV - STANDARD",
          "SUV - STANDARD",
          "SUV - STANDARD",
          "SUV - STANDARD",
          "SUV - STANDARD",
          "SUV - STANDARD",
          "SUV - STANDARD",
          "SUV - STANDARD",
          "SUV - STANDARD",
          "SUV - STANDARD",
          "SUV - STANDARD",
          "SUV - STANDARD",
          "SUV - STANDARD",
          "SUV - STANDARD",
          "SUV - STANDARD",
          "SUV - STANDARD",
          "SUV - STANDARD",
          "SUV - STANDARD",
          "SUV - STANDARD",
          "SUV - STANDARD",
          "SUV - STANDARD",
          "SUV - STANDARD",
          "SUV - STANDARD",
          "SUV - STANDARD",
          "SUV - STANDARD",
          "SUV - STANDARD",
          "SUV - STANDARD",
          "SUV - STANDARD",
          "SUV - STANDARD",
          "SUV - STANDARD",
          "SUV - STANDARD",
          "SUV - STANDARD",
          "SUV - STANDARD",
          "SUV - STANDARD",
          "SUV - STANDARD",
          "SUV - STANDARD",
          "SUV - STANDARD",
          "SUV - STANDARD",
          "SUV - STANDARD",
          "SUV - STANDARD",
          "SUV - STANDARD",
          "SUV - STANDARD",
          "SUV - STANDARD",
          "SUV - STANDARD",
          "SUV - STANDARD",
          "SUV - STANDARD",
          "SUV - STANDARD",
          "SUV - STANDARD",
          "SUV - STANDARD",
          "SUV - STANDARD",
          "SUV - STANDARD",
          "SUV - STANDARD",
          "SUV - STANDARD",
          "SUV - STANDARD",
          "SUV - STANDARD",
          "SUV - STANDARD",
          "SUV - STANDARD",
          "SUV - STANDARD",
          "SUV - STANDARD",
          "SUV - STANDARD",
          "SUV - STANDARD",
          "SUV - STANDARD",
          "SUV - STANDARD",
          "SUV - STANDARD",
          "SUV - STANDARD",
          "SUV - STANDARD",
          "SUV - STANDARD",
          "SUV - STANDARD",
          "SUV - STANDARD",
          "SUV - STANDARD",
          "SUV - STANDARD",
          "SUV - STANDARD",
          "SUV - STANDARD",
          "SUV - STANDARD",
          "SUV - STANDARD",
          "SUV - STANDARD",
          "SUV - STANDARD",
          "SUV - STANDARD",
          "SUV - STANDARD",
          "SUV - STANDARD",
          "SUV - STANDARD",
          "SUV - STANDARD",
          "SUV - STANDARD",
          "SUV - STANDARD",
          "SUV - STANDARD",
          "SUV - STANDARD",
          "SUV - STANDARD",
          "SUV - STANDARD",
          "SUV - STANDARD",
          "SUV - STANDARD",
          "SUV - STANDARD",
          "SUV - STANDARD",
          "SUV - STANDARD",
          "SUV - STANDARD",
          "SUV - STANDARD",
          "SUV - STANDARD",
          "SUV - STANDARD",
          "SUV - STANDARD",
          "SUV - STANDARD",
          "SUV - STANDARD",
          "SUV - STANDARD",
          "SUV - STANDARD",
          "SUV - STANDARD",
          "SUV - STANDARD",
          "SUV - STANDARD",
          "SUV - STANDARD",
          "SUV - STANDARD",
          "SUV - STANDARD",
          "SUV - STANDARD",
          "SUV - STANDARD",
          "SUV - STANDARD",
          "SUV - STANDARD",
          "SUV - STANDARD",
          "SUV - STANDARD",
          "SUV - STANDARD",
          "SUV - STANDARD",
          "SUV - STANDARD",
          "SUV - STANDARD",
          "SUV - STANDARD",
          "SUV - STANDARD",
          "SUV - STANDARD",
          "SUV - STANDARD",
          "SUV - STANDARD",
          "SUV - STANDARD",
          "SUV - STANDARD",
          "SUV - STANDARD",
          "SUV - STANDARD",
          "SUV - STANDARD",
          "SUV - STANDARD",
          "SUV - STANDARD",
          "SUV - STANDARD",
          "SUV - STANDARD",
          "SUV - STANDARD",
          "SUV - STANDARD",
          "SUV - STANDARD",
          "SUV - STANDARD",
          "SUV - STANDARD",
          "SUV - STANDARD",
          "SUV - STANDARD",
          "SUV - STANDARD",
          "SUV - STANDARD",
          "SUV - STANDARD",
          "SUV - STANDARD",
          "SUV - STANDARD",
          "SUV - STANDARD",
          "SUV - STANDARD",
          "SUV - STANDARD",
          "SUV - STANDARD",
          "SUV - STANDARD",
          "SUV - STANDARD",
          "SUV - STANDARD",
          "SUV - STANDARD",
          "SUV - STANDARD",
          "SUV - STANDARD",
          "SUV - STANDARD",
          "SUV - STANDARD",
          "SUV - STANDARD",
          "SUV - STANDARD",
          "SUV - STANDARD",
          "SUV - STANDARD",
          "SUV - STANDARD",
          "SUV - STANDARD",
          "SUV - STANDARD",
          "SUV - STANDARD",
          "SUV - STANDARD",
          "SUV - STANDARD",
          "SUV - STANDARD",
          "SUV - STANDARD",
          "SUV - STANDARD",
          "SUV - STANDARD",
          "SUV - STANDARD",
          "SUV - STANDARD",
          "SUV - STANDARD",
          "SUV - STANDARD",
          "SUV - STANDARD",
          "SUV - STANDARD",
          "SUV - STANDARD",
          "SUV - STANDARD",
          "SUV - STANDARD",
          "SUV - STANDARD",
          "SUV - STANDARD",
          "SUV - STANDARD",
          "SUV - STANDARD",
          "SUV - STANDARD",
          "SUV - STANDARD",
          "SUV - STANDARD",
          "SUV - STANDARD",
          "SUV - STANDARD",
          "SUV - STANDARD",
          "SUV - STANDARD",
          "SUV - STANDARD",
          "SUV - STANDARD",
          "SUV - STANDARD",
          "SUV - STANDARD",
          "SUV - STANDARD",
          "SUV - STANDARD",
          "SUV - STANDARD",
          "SUV - STANDARD",
          "SUV - STANDARD",
          "SUV - STANDARD",
          "SUV - STANDARD",
          "SUV - STANDARD",
          "SUV - STANDARD",
          "SUV - STANDARD",
          "SUV - STANDARD",
          "SUV - STANDARD",
          "SUV - STANDARD",
          "SUV - STANDARD",
          "SUV - STANDARD",
          "SUV - STANDARD",
          "SUV - STANDARD",
          "SUV - STANDARD",
          "SUV - STANDARD",
          "SUV - STANDARD",
          "SUV - STANDARD",
          "SUV - STANDARD",
          "SUV - STANDARD",
          "SUV - STANDARD",
          "SUV - STANDARD",
          "SUV - STANDARD",
          "SUV - STANDARD",
          "SUV - STANDARD",
          "SUV - STANDARD",
          "SUV - STANDARD",
          "SUV - STANDARD",
          "SUV - STANDARD",
          "SUV - STANDARD",
          "SUV - STANDARD",
          "SUV - STANDARD",
          "SUV - STANDARD",
          "SUV - STANDARD",
          "SUV - STANDARD",
          "SUV - STANDARD",
          "SUV - STANDARD",
          "SUV - STANDARD",
          "SUV - STANDARD",
          "SUV - STANDARD",
          "SUV - STANDARD",
          "SUV - STANDARD",
          "SUV - STANDARD",
          "SUV - STANDARD",
          "SUV - STANDARD",
          "SUV - STANDARD",
          "SUV - STANDARD",
          "SUV - STANDARD",
          "SUV - STANDARD",
          "SUV - STANDARD",
          "SUV - STANDARD",
          "SUV - STANDARD",
          "SUV - STANDARD",
          "SUV - STANDARD",
          "SUV - STANDARD",
          "SUV - STANDARD",
          "SUV - STANDARD",
          "SUV - STANDARD",
          "SUV - STANDARD",
          "SUV - STANDARD",
          "SUV - STANDARD",
          "SUV - STANDARD",
          "SUV - STANDARD",
          "SUV - STANDARD",
          "SUV - STANDARD",
          "SUV - STANDARD",
          "SUV - STANDARD",
          "SUV - STANDARD",
          "SUV - STANDARD",
          "SUV - STANDARD",
          "SUV - STANDARD",
          "SUV - STANDARD",
          "SUV - STANDARD",
          "SUV - STANDARD",
          "SUV - STANDARD",
          "SUV - STANDARD",
          "SUV - STANDARD",
          "SUV - STANDARD",
          "SUV - STANDARD",
          "SUV - STANDARD",
          "SUV - STANDARD",
          "SUV - STANDARD",
          "SUV - STANDARD",
          "SUV - STANDARD",
          "SUV - STANDARD",
          "SUV - STANDARD",
          "SUV - STANDARD",
          "SUV - STANDARD",
          "SUV - STANDARD",
          "SUV - STANDARD",
          "SUV - STANDARD",
          "SUV - STANDARD",
          "SUV - STANDARD",
          "SUV - STANDARD",
          "SUV - STANDARD",
          "SUV - STANDARD",
          "SUV - STANDARD",
          "SUV - STANDARD",
          "SUV - STANDARD",
          "SUV - STANDARD",
          "SUV - STANDARD",
          "SUV - STANDARD",
          "SUV - STANDARD",
          "SUV - STANDARD",
          "SUV - STANDARD",
          "SUV - STANDARD",
          "SUV - STANDARD",
          "SUV - STANDARD",
          "SUV - STANDARD",
          "SUV - STANDARD",
          "SUV - STANDARD",
          "SUV - STANDARD",
          "SUV - STANDARD",
          "SUV - STANDARD",
          "SUV - STANDARD",
          "SUV - STANDARD",
          "SUV - STANDARD",
          "SUV - STANDARD",
          "SUV - STANDARD"
         ],
         "x0": " ",
         "xaxis": "x",
         "y": {
          "bdata": "MAEiAf8AQAFyARIBRAEbASIBUgFCAXkBYgEbASYBPQEmAT0BJgE9ASYBPQEmARsBIgFLARYB+gBwAVoB6wArARIB/gAgAQsBCAEWASYBGwEpAT0BJgE9ASYBUgFCAXkBYgE9ASYBPQEmAcQAWQFUAQsBFgH6AGsBTgFiAVsBVgEdAR0BFgFZAVIBSwEbARsBFQFiAVsBVgFAAXwBJgFwAVoBowGXAUQBXgFnAWsBFgEAARYBRwFkAXwBygAiATkBFQFSATYB+wBGAWYBKQEpAQgBvwC9AIABKAEVASYBMgEiAVAB6wD/AD0BUAH/AD0BGwEiAUIBPQFOAUkBGwEmASQBEwEyATIBJAETASsBGgEbASIBFgH6AFIBRwFLAe8AEgECASsBIAEOAQsBFgEmARsBIgEkARMBKwEaAUIBPQEkARMBMgEyAU4BSQHIAFIBCwEWAfoAUgFrAUkBGwFbAVYBWwFWAR0BUgFLAUABfgEmAUcBSwGjAaoBRAFCAWcBdwEWARQBRwFnAX4BygAVAR4BRwEmASYBCwHEAMEAfgEkARUBVwHpAA0BQgFXAQ0BQgE7AUMBRQEfASwBMAEwASABOAE4AT0BMAEwASABNgE2ASwBOwFDAQkBSQFOAVIB/QAYAQgBCQExAScBGgEqAS8BQgE7AUMBMAEwASABNgFDATYBLAEwATABIAE4AU4BOAE9AcwAYgEJAUkBCwFyAVABIwH+AGQBZAEjAf4AWAFCAXMBugBCAU4BUwGhAdwBcQFuAWsBkQFCASoBbQH2AP0AGgEZAU8BFQEOASwBHgFOAVABKgEqARABxgDDAH4BJAEOAegA7wD3AP0ABAFyAVUB+QAOAUABVQEOAUABOwFCAUsBMQExARwBOAE4AT0BMQExARwBNgE2ASsBOwFCAQkBSAFNAVEB/gAZAQgBCgExASgBHAEqAS8BQQHvAAkB8wAPATEBMQEcATYBNgErAUoBMQExARwBOAE4AT0BTQHWAGMBCQFIAXABVQF0AbkAQQFNAVMBVAFaAZ0B0wEZARkBawFrAXEBkQEUAT4BMgFbAWoBDAEZARkBKAFOAU4BNgE2AfsA9wDyAMEAfAEfAegA7wD5AAIBBAFyAfYADgE9AVUBDgE9AVUBBwEVAUkBMQExAR0BOQE4AUEBMQExAR0BNgE2ASsBRQH2AAIBFAEJAUsBawEjATcB/gAbAQ0BCwExASsBIAEqAS8BQgHvAAwB8wATATEBMQEdATYBNgErAUUBMQExAR0BOQE4AUEBVAFiAQwBCQFLAXABnQFVAXMBuQBCATYBVAFaAaMB2QEaAR0BbAFlAW8BmgEaAT0BMQFaAWoBDAEoARkBGQFOAU4BNAE0AfsA9wDyAMEAgAHjAPAAAgEEASYBOwH1ADoBEAEmAVUB/gAmAQcBFgFIAToBOgEqAVABUAE9AVQBOgE6ASoBQQFBATEBRQEFARUBCQFLAWsBJQEzAQsBNwErASABKgEvAUIB7QAMAfgAEwE6AToBKgFBAUEBMQFFAToBOgEqAVABUAE9AVQBYgEJAUsBDAFwAZ0BgAE3ARcBIwEAATEBbQEjAQABJgFVAXMBuQC+AEIBOgFEAUoBaAFoAYwBJAEpAXIBZQFyAXoBGgE4AWMBbAEJARMBSQH0ADQBNAH6APgA8gDBAIABHgHpAPoAKAEoATsBkQH1AC4BLgH1AC4B/gA+AT4BBwEVAU0BOgE6ASoBUQFRAT8BVwE6AToBKgFFAUUBMQFHAQUBFAEJAUsBawEmATQB8QAWAeEA4QDuAAEB6AANAToBOgEqAUUBRQExAUcBOgE6ASoBUQFRAT8BVwH6AAkBaAEJAUsBnQFwAYABNwEXAQIBAAExATEBYgFtAQgBAAEmAVABUQGLAbkAvgAYATsBRAFEAWgBaAGMAXoBagENARYBSQH0AEEBQQGeAJwAgQHoAPgA",
          "dtype": "i2"
         },
         "y0": " ",
         "yaxis": "y"
        },
        {
         "alignmentgroup": "True",
         "hovertemplate": "Vehicle Class=%{x}<br>CO2 Emissions(g/km)=%{y}<extra></extra>",
         "legendgroup": "VAN - CARGO",
         "marker": {
          "color": "#FECB52"
         },
         "name": "VAN - CARGO",
         "notched": false,
         "offsetgroup": "VAN - CARGO",
         "orientation": "v",
         "showlegend": true,
         "type": "box",
         "x": [
          "VAN - CARGO",
          "VAN - CARGO",
          "VAN - CARGO",
          "VAN - CARGO",
          "VAN - CARGO",
          "VAN - CARGO",
          "VAN - CARGO",
          "VAN - CARGO",
          "VAN - CARGO",
          "VAN - CARGO",
          "VAN - CARGO",
          "VAN - CARGO",
          "VAN - CARGO",
          "VAN - CARGO",
          "VAN - CARGO",
          "VAN - CARGO",
          "VAN - CARGO",
          "VAN - CARGO",
          "VAN - CARGO",
          "VAN - CARGO",
          "VAN - CARGO",
          "VAN - CARGO"
         ],
         "x0": " ",
         "xaxis": "x",
         "y": {
          "bdata": "WwFuAU4BfAFYAXwBWAF8AWoBdQFeAYwBaAFbAW4BTgF8AVgBfAFYAXwBagE=",
          "dtype": "i2"
         },
         "y0": " ",
         "yaxis": "y"
        },
        {
         "alignmentgroup": "True",
         "hovertemplate": "Vehicle Class=%{x}<br>CO2 Emissions(g/km)=%{y}<extra></extra>",
         "legendgroup": "VAN - PASSENGER",
         "marker": {
          "color": "#636efa"
         },
         "name": "VAN - PASSENGER",
         "notched": false,
         "offsetgroup": "VAN - PASSENGER",
         "orientation": "v",
         "showlegend": true,
         "type": "box",
         "x": [
          "VAN - PASSENGER",
          "VAN - PASSENGER",
          "VAN - PASSENGER",
          "VAN - PASSENGER",
          "VAN - PASSENGER",
          "VAN - PASSENGER",
          "VAN - PASSENGER",
          "VAN - PASSENGER",
          "VAN - PASSENGER",
          "VAN - PASSENGER",
          "VAN - PASSENGER",
          "VAN - PASSENGER",
          "VAN - PASSENGER",
          "VAN - PASSENGER",
          "VAN - PASSENGER",
          "VAN - PASSENGER",
          "VAN - PASSENGER",
          "VAN - PASSENGER",
          "VAN - PASSENGER",
          "VAN - PASSENGER",
          "VAN - PASSENGER",
          "VAN - PASSENGER",
          "VAN - PASSENGER",
          "VAN - PASSENGER",
          "VAN - PASSENGER",
          "VAN - PASSENGER",
          "VAN - PASSENGER",
          "VAN - PASSENGER",
          "VAN - PASSENGER",
          "VAN - PASSENGER",
          "VAN - PASSENGER",
          "VAN - PASSENGER",
          "VAN - PASSENGER",
          "VAN - PASSENGER",
          "VAN - PASSENGER",
          "VAN - PASSENGER",
          "VAN - PASSENGER",
          "VAN - PASSENGER",
          "VAN - PASSENGER",
          "VAN - PASSENGER",
          "VAN - PASSENGER",
          "VAN - PASSENGER",
          "VAN - PASSENGER",
          "VAN - PASSENGER",
          "VAN - PASSENGER",
          "VAN - PASSENGER",
          "VAN - PASSENGER",
          "VAN - PASSENGER",
          "VAN - PASSENGER",
          "VAN - PASSENGER",
          "VAN - PASSENGER",
          "VAN - PASSENGER",
          "VAN - PASSENGER",
          "VAN - PASSENGER",
          "VAN - PASSENGER",
          "VAN - PASSENGER",
          "VAN - PASSENGER",
          "VAN - PASSENGER",
          "VAN - PASSENGER",
          "VAN - PASSENGER",
          "VAN - PASSENGER",
          "VAN - PASSENGER",
          "VAN - PASSENGER",
          "VAN - PASSENGER",
          "VAN - PASSENGER",
          "VAN - PASSENGER"
         ],
         "x0": " ",
         "xaxis": "x",
         "y": {
          "bdata": "fAFYAXwBagGeAbABmwGjAbMBnQGCAXAB6AGlAX4BfAFYAXwBagGeAbABmwGjAbMBnQGeAbABsAGeAaABtQG1AaIBUgFUATsBngGwAbABngGgAbUBtQGiAbkB0QFWAWQBWQG5AdEBtgG9AVgBYgFXAbYBvQFZAWIBWgFjAVQBPAFgAUgB",
          "dtype": "i2"
         },
         "y0": " ",
         "yaxis": "y"
        },
        {
         "alignmentgroup": "True",
         "hovertemplate": "Vehicle Class=%{x}<br>CO2 Emissions(g/km)=%{y}<extra></extra>",
         "legendgroup": "PICKUP TRUCK - STANDARD",
         "marker": {
          "color": "#EF553B"
         },
         "name": "PICKUP TRUCK - STANDARD",
         "notched": false,
         "offsetgroup": "PICKUP TRUCK - STANDARD",
         "orientation": "v",
         "showlegend": true,
         "type": "box",
         "x": [
          "PICKUP TRUCK - STANDARD",
          "PICKUP TRUCK - STANDARD",
          "PICKUP TRUCK - STANDARD",
          "PICKUP TRUCK - STANDARD",
          "PICKUP TRUCK - STANDARD",
          "PICKUP TRUCK - STANDARD",
          "PICKUP TRUCK - STANDARD",
          "PICKUP TRUCK - STANDARD",
          "PICKUP TRUCK - STANDARD",
          "PICKUP TRUCK - STANDARD",
          "PICKUP TRUCK - STANDARD",
          "PICKUP TRUCK - STANDARD",
          "PICKUP TRUCK - STANDARD",
          "PICKUP TRUCK - STANDARD",
          "PICKUP TRUCK - STANDARD",
          "PICKUP TRUCK - STANDARD",
          "PICKUP TRUCK - STANDARD",
          "PICKUP TRUCK - STANDARD",
          "PICKUP TRUCK - STANDARD",
          "PICKUP TRUCK - STANDARD",
          "PICKUP TRUCK - STANDARD",
          "PICKUP TRUCK - STANDARD",
          "PICKUP TRUCK - STANDARD",
          "PICKUP TRUCK - STANDARD",
          "PICKUP TRUCK - STANDARD",
          "PICKUP TRUCK - STANDARD",
          "PICKUP TRUCK - STANDARD",
          "PICKUP TRUCK - STANDARD",
          "PICKUP TRUCK - STANDARD",
          "PICKUP TRUCK - STANDARD",
          "PICKUP TRUCK - STANDARD",
          "PICKUP TRUCK - STANDARD",
          "PICKUP TRUCK - STANDARD",
          "PICKUP TRUCK - STANDARD",
          "PICKUP TRUCK - STANDARD",
          "PICKUP TRUCK - STANDARD",
          "PICKUP TRUCK - STANDARD",
          "PICKUP TRUCK - STANDARD",
          "PICKUP TRUCK - STANDARD",
          "PICKUP TRUCK - STANDARD",
          "PICKUP TRUCK - STANDARD",
          "PICKUP TRUCK - STANDARD",
          "PICKUP TRUCK - STANDARD",
          "PICKUP TRUCK - STANDARD",
          "PICKUP TRUCK - STANDARD",
          "PICKUP TRUCK - STANDARD",
          "PICKUP TRUCK - STANDARD",
          "PICKUP TRUCK - STANDARD",
          "PICKUP TRUCK - STANDARD",
          "PICKUP TRUCK - STANDARD",
          "PICKUP TRUCK - STANDARD",
          "PICKUP TRUCK - STANDARD",
          "PICKUP TRUCK - STANDARD",
          "PICKUP TRUCK - STANDARD",
          "PICKUP TRUCK - STANDARD",
          "PICKUP TRUCK - STANDARD",
          "PICKUP TRUCK - STANDARD",
          "PICKUP TRUCK - STANDARD",
          "PICKUP TRUCK - STANDARD",
          "PICKUP TRUCK - STANDARD",
          "PICKUP TRUCK - STANDARD",
          "PICKUP TRUCK - STANDARD",
          "PICKUP TRUCK - STANDARD",
          "PICKUP TRUCK - STANDARD",
          "PICKUP TRUCK - STANDARD",
          "PICKUP TRUCK - STANDARD",
          "PICKUP TRUCK - STANDARD",
          "PICKUP TRUCK - STANDARD",
          "PICKUP TRUCK - STANDARD",
          "PICKUP TRUCK - STANDARD",
          "PICKUP TRUCK - STANDARD",
          "PICKUP TRUCK - STANDARD",
          "PICKUP TRUCK - STANDARD",
          "PICKUP TRUCK - STANDARD",
          "PICKUP TRUCK - STANDARD",
          "PICKUP TRUCK - STANDARD",
          "PICKUP TRUCK - STANDARD",
          "PICKUP TRUCK - STANDARD",
          "PICKUP TRUCK - STANDARD",
          "PICKUP TRUCK - STANDARD",
          "PICKUP TRUCK - STANDARD",
          "PICKUP TRUCK - STANDARD",
          "PICKUP TRUCK - STANDARD",
          "PICKUP TRUCK - STANDARD",
          "PICKUP TRUCK - STANDARD",
          "PICKUP TRUCK - STANDARD",
          "PICKUP TRUCK - STANDARD",
          "PICKUP TRUCK - STANDARD",
          "PICKUP TRUCK - STANDARD",
          "PICKUP TRUCK - STANDARD",
          "PICKUP TRUCK - STANDARD",
          "PICKUP TRUCK - STANDARD",
          "PICKUP TRUCK - STANDARD",
          "PICKUP TRUCK - STANDARD",
          "PICKUP TRUCK - STANDARD",
          "PICKUP TRUCK - STANDARD",
          "PICKUP TRUCK - STANDARD",
          "PICKUP TRUCK - STANDARD",
          "PICKUP TRUCK - STANDARD",
          "PICKUP TRUCK - STANDARD",
          "PICKUP TRUCK - STANDARD",
          "PICKUP TRUCK - STANDARD",
          "PICKUP TRUCK - STANDARD",
          "PICKUP TRUCK - STANDARD",
          "PICKUP TRUCK - STANDARD",
          "PICKUP TRUCK - STANDARD",
          "PICKUP TRUCK - STANDARD",
          "PICKUP TRUCK - STANDARD",
          "PICKUP TRUCK - STANDARD",
          "PICKUP TRUCK - STANDARD",
          "PICKUP TRUCK - STANDARD",
          "PICKUP TRUCK - STANDARD",
          "PICKUP TRUCK - STANDARD",
          "PICKUP TRUCK - STANDARD",
          "PICKUP TRUCK - STANDARD",
          "PICKUP TRUCK - STANDARD",
          "PICKUP TRUCK - STANDARD",
          "PICKUP TRUCK - STANDARD",
          "PICKUP TRUCK - STANDARD",
          "PICKUP TRUCK - STANDARD",
          "PICKUP TRUCK - STANDARD",
          "PICKUP TRUCK - STANDARD",
          "PICKUP TRUCK - STANDARD",
          "PICKUP TRUCK - STANDARD",
          "PICKUP TRUCK - STANDARD",
          "PICKUP TRUCK - STANDARD",
          "PICKUP TRUCK - STANDARD",
          "PICKUP TRUCK - STANDARD",
          "PICKUP TRUCK - STANDARD",
          "PICKUP TRUCK - STANDARD",
          "PICKUP TRUCK - STANDARD",
          "PICKUP TRUCK - STANDARD",
          "PICKUP TRUCK - STANDARD",
          "PICKUP TRUCK - STANDARD",
          "PICKUP TRUCK - STANDARD",
          "PICKUP TRUCK - STANDARD",
          "PICKUP TRUCK - STANDARD",
          "PICKUP TRUCK - STANDARD",
          "PICKUP TRUCK - STANDARD",
          "PICKUP TRUCK - STANDARD",
          "PICKUP TRUCK - STANDARD",
          "PICKUP TRUCK - STANDARD",
          "PICKUP TRUCK - STANDARD",
          "PICKUP TRUCK - STANDARD",
          "PICKUP TRUCK - STANDARD",
          "PICKUP TRUCK - STANDARD",
          "PICKUP TRUCK - STANDARD",
          "PICKUP TRUCK - STANDARD",
          "PICKUP TRUCK - STANDARD",
          "PICKUP TRUCK - STANDARD",
          "PICKUP TRUCK - STANDARD",
          "PICKUP TRUCK - STANDARD",
          "PICKUP TRUCK - STANDARD",
          "PICKUP TRUCK - STANDARD",
          "PICKUP TRUCK - STANDARD",
          "PICKUP TRUCK - STANDARD",
          "PICKUP TRUCK - STANDARD",
          "PICKUP TRUCK - STANDARD",
          "PICKUP TRUCK - STANDARD",
          "PICKUP TRUCK - STANDARD",
          "PICKUP TRUCK - STANDARD",
          "PICKUP TRUCK - STANDARD",
          "PICKUP TRUCK - STANDARD",
          "PICKUP TRUCK - STANDARD",
          "PICKUP TRUCK - STANDARD",
          "PICKUP TRUCK - STANDARD",
          "PICKUP TRUCK - STANDARD",
          "PICKUP TRUCK - STANDARD",
          "PICKUP TRUCK - STANDARD",
          "PICKUP TRUCK - STANDARD",
          "PICKUP TRUCK - STANDARD",
          "PICKUP TRUCK - STANDARD",
          "PICKUP TRUCK - STANDARD",
          "PICKUP TRUCK - STANDARD",
          "PICKUP TRUCK - STANDARD",
          "PICKUP TRUCK - STANDARD",
          "PICKUP TRUCK - STANDARD",
          "PICKUP TRUCK - STANDARD",
          "PICKUP TRUCK - STANDARD",
          "PICKUP TRUCK - STANDARD",
          "PICKUP TRUCK - STANDARD",
          "PICKUP TRUCK - STANDARD",
          "PICKUP TRUCK - STANDARD",
          "PICKUP TRUCK - STANDARD",
          "PICKUP TRUCK - STANDARD",
          "PICKUP TRUCK - STANDARD",
          "PICKUP TRUCK - STANDARD",
          "PICKUP TRUCK - STANDARD",
          "PICKUP TRUCK - STANDARD",
          "PICKUP TRUCK - STANDARD",
          "PICKUP TRUCK - STANDARD",
          "PICKUP TRUCK - STANDARD",
          "PICKUP TRUCK - STANDARD",
          "PICKUP TRUCK - STANDARD",
          "PICKUP TRUCK - STANDARD",
          "PICKUP TRUCK - STANDARD",
          "PICKUP TRUCK - STANDARD",
          "PICKUP TRUCK - STANDARD",
          "PICKUP TRUCK - STANDARD",
          "PICKUP TRUCK - STANDARD",
          "PICKUP TRUCK - STANDARD",
          "PICKUP TRUCK - STANDARD",
          "PICKUP TRUCK - STANDARD",
          "PICKUP TRUCK - STANDARD",
          "PICKUP TRUCK - STANDARD",
          "PICKUP TRUCK - STANDARD",
          "PICKUP TRUCK - STANDARD",
          "PICKUP TRUCK - STANDARD",
          "PICKUP TRUCK - STANDARD",
          "PICKUP TRUCK - STANDARD",
          "PICKUP TRUCK - STANDARD",
          "PICKUP TRUCK - STANDARD",
          "PICKUP TRUCK - STANDARD",
          "PICKUP TRUCK - STANDARD",
          "PICKUP TRUCK - STANDARD",
          "PICKUP TRUCK - STANDARD",
          "PICKUP TRUCK - STANDARD",
          "PICKUP TRUCK - STANDARD",
          "PICKUP TRUCK - STANDARD",
          "PICKUP TRUCK - STANDARD",
          "PICKUP TRUCK - STANDARD",
          "PICKUP TRUCK - STANDARD",
          "PICKUP TRUCK - STANDARD",
          "PICKUP TRUCK - STANDARD",
          "PICKUP TRUCK - STANDARD",
          "PICKUP TRUCK - STANDARD",
          "PICKUP TRUCK - STANDARD",
          "PICKUP TRUCK - STANDARD",
          "PICKUP TRUCK - STANDARD",
          "PICKUP TRUCK - STANDARD",
          "PICKUP TRUCK - STANDARD",
          "PICKUP TRUCK - STANDARD",
          "PICKUP TRUCK - STANDARD",
          "PICKUP TRUCK - STANDARD",
          "PICKUP TRUCK - STANDARD",
          "PICKUP TRUCK - STANDARD",
          "PICKUP TRUCK - STANDARD",
          "PICKUP TRUCK - STANDARD",
          "PICKUP TRUCK - STANDARD",
          "PICKUP TRUCK - STANDARD",
          "PICKUP TRUCK - STANDARD",
          "PICKUP TRUCK - STANDARD",
          "PICKUP TRUCK - STANDARD",
          "PICKUP TRUCK - STANDARD",
          "PICKUP TRUCK - STANDARD",
          "PICKUP TRUCK - STANDARD",
          "PICKUP TRUCK - STANDARD",
          "PICKUP TRUCK - STANDARD",
          "PICKUP TRUCK - STANDARD",
          "PICKUP TRUCK - STANDARD",
          "PICKUP TRUCK - STANDARD",
          "PICKUP TRUCK - STANDARD",
          "PICKUP TRUCK - STANDARD",
          "PICKUP TRUCK - STANDARD",
          "PICKUP TRUCK - STANDARD",
          "PICKUP TRUCK - STANDARD",
          "PICKUP TRUCK - STANDARD",
          "PICKUP TRUCK - STANDARD",
          "PICKUP TRUCK - STANDARD",
          "PICKUP TRUCK - STANDARD",
          "PICKUP TRUCK - STANDARD",
          "PICKUP TRUCK - STANDARD",
          "PICKUP TRUCK - STANDARD",
          "PICKUP TRUCK - STANDARD",
          "PICKUP TRUCK - STANDARD",
          "PICKUP TRUCK - STANDARD",
          "PICKUP TRUCK - STANDARD",
          "PICKUP TRUCK - STANDARD",
          "PICKUP TRUCK - STANDARD",
          "PICKUP TRUCK - STANDARD",
          "PICKUP TRUCK - STANDARD",
          "PICKUP TRUCK - STANDARD",
          "PICKUP TRUCK - STANDARD",
          "PICKUP TRUCK - STANDARD",
          "PICKUP TRUCK - STANDARD",
          "PICKUP TRUCK - STANDARD",
          "PICKUP TRUCK - STANDARD",
          "PICKUP TRUCK - STANDARD",
          "PICKUP TRUCK - STANDARD",
          "PICKUP TRUCK - STANDARD",
          "PICKUP TRUCK - STANDARD",
          "PICKUP TRUCK - STANDARD",
          "PICKUP TRUCK - STANDARD",
          "PICKUP TRUCK - STANDARD",
          "PICKUP TRUCK - STANDARD",
          "PICKUP TRUCK - STANDARD",
          "PICKUP TRUCK - STANDARD",
          "PICKUP TRUCK - STANDARD",
          "PICKUP TRUCK - STANDARD",
          "PICKUP TRUCK - STANDARD",
          "PICKUP TRUCK - STANDARD",
          "PICKUP TRUCK - STANDARD",
          "PICKUP TRUCK - STANDARD",
          "PICKUP TRUCK - STANDARD",
          "PICKUP TRUCK - STANDARD",
          "PICKUP TRUCK - STANDARD",
          "PICKUP TRUCK - STANDARD",
          "PICKUP TRUCK - STANDARD",
          "PICKUP TRUCK - STANDARD",
          "PICKUP TRUCK - STANDARD",
          "PICKUP TRUCK - STANDARD",
          "PICKUP TRUCK - STANDARD",
          "PICKUP TRUCK - STANDARD",
          "PICKUP TRUCK - STANDARD",
          "PICKUP TRUCK - STANDARD",
          "PICKUP TRUCK - STANDARD",
          "PICKUP TRUCK - STANDARD",
          "PICKUP TRUCK - STANDARD",
          "PICKUP TRUCK - STANDARD",
          "PICKUP TRUCK - STANDARD",
          "PICKUP TRUCK - STANDARD",
          "PICKUP TRUCK - STANDARD",
          "PICKUP TRUCK - STANDARD",
          "PICKUP TRUCK - STANDARD",
          "PICKUP TRUCK - STANDARD",
          "PICKUP TRUCK - STANDARD",
          "PICKUP TRUCK - STANDARD",
          "PICKUP TRUCK - STANDARD",
          "PICKUP TRUCK - STANDARD",
          "PICKUP TRUCK - STANDARD",
          "PICKUP TRUCK - STANDARD",
          "PICKUP TRUCK - STANDARD",
          "PICKUP TRUCK - STANDARD",
          "PICKUP TRUCK - STANDARD",
          "PICKUP TRUCK - STANDARD",
          "PICKUP TRUCK - STANDARD",
          "PICKUP TRUCK - STANDARD",
          "PICKUP TRUCK - STANDARD",
          "PICKUP TRUCK - STANDARD",
          "PICKUP TRUCK - STANDARD",
          "PICKUP TRUCK - STANDARD",
          "PICKUP TRUCK - STANDARD",
          "PICKUP TRUCK - STANDARD",
          "PICKUP TRUCK - STANDARD",
          "PICKUP TRUCK - STANDARD",
          "PICKUP TRUCK - STANDARD",
          "PICKUP TRUCK - STANDARD",
          "PICKUP TRUCK - STANDARD",
          "PICKUP TRUCK - STANDARD",
          "PICKUP TRUCK - STANDARD",
          "PICKUP TRUCK - STANDARD",
          "PICKUP TRUCK - STANDARD",
          "PICKUP TRUCK - STANDARD",
          "PICKUP TRUCK - STANDARD",
          "PICKUP TRUCK - STANDARD",
          "PICKUP TRUCK - STANDARD",
          "PICKUP TRUCK - STANDARD",
          "PICKUP TRUCK - STANDARD",
          "PICKUP TRUCK - STANDARD",
          "PICKUP TRUCK - STANDARD",
          "PICKUP TRUCK - STANDARD",
          "PICKUP TRUCK - STANDARD",
          "PICKUP TRUCK - STANDARD",
          "PICKUP TRUCK - STANDARD",
          "PICKUP TRUCK - STANDARD",
          "PICKUP TRUCK - STANDARD",
          "PICKUP TRUCK - STANDARD",
          "PICKUP TRUCK - STANDARD",
          "PICKUP TRUCK - STANDARD",
          "PICKUP TRUCK - STANDARD",
          "PICKUP TRUCK - STANDARD",
          "PICKUP TRUCK - STANDARD",
          "PICKUP TRUCK - STANDARD",
          "PICKUP TRUCK - STANDARD",
          "PICKUP TRUCK - STANDARD",
          "PICKUP TRUCK - STANDARD",
          "PICKUP TRUCK - STANDARD",
          "PICKUP TRUCK - STANDARD",
          "PICKUP TRUCK - STANDARD",
          "PICKUP TRUCK - STANDARD",
          "PICKUP TRUCK - STANDARD",
          "PICKUP TRUCK - STANDARD",
          "PICKUP TRUCK - STANDARD",
          "PICKUP TRUCK - STANDARD",
          "PICKUP TRUCK - STANDARD",
          "PICKUP TRUCK - STANDARD",
          "PICKUP TRUCK - STANDARD",
          "PICKUP TRUCK - STANDARD",
          "PICKUP TRUCK - STANDARD",
          "PICKUP TRUCK - STANDARD",
          "PICKUP TRUCK - STANDARD",
          "PICKUP TRUCK - STANDARD",
          "PICKUP TRUCK - STANDARD",
          "PICKUP TRUCK - STANDARD",
          "PICKUP TRUCK - STANDARD",
          "PICKUP TRUCK - STANDARD",
          "PICKUP TRUCK - STANDARD",
          "PICKUP TRUCK - STANDARD",
          "PICKUP TRUCK - STANDARD",
          "PICKUP TRUCK - STANDARD",
          "PICKUP TRUCK - STANDARD",
          "PICKUP TRUCK - STANDARD",
          "PICKUP TRUCK - STANDARD",
          "PICKUP TRUCK - STANDARD",
          "PICKUP TRUCK - STANDARD",
          "PICKUP TRUCK - STANDARD",
          "PICKUP TRUCK - STANDARD",
          "PICKUP TRUCK - STANDARD",
          "PICKUP TRUCK - STANDARD",
          "PICKUP TRUCK - STANDARD",
          "PICKUP TRUCK - STANDARD",
          "PICKUP TRUCK - STANDARD",
          "PICKUP TRUCK - STANDARD",
          "PICKUP TRUCK - STANDARD",
          "PICKUP TRUCK - STANDARD",
          "PICKUP TRUCK - STANDARD",
          "PICKUP TRUCK - STANDARD",
          "PICKUP TRUCK - STANDARD",
          "PICKUP TRUCK - STANDARD",
          "PICKUP TRUCK - STANDARD",
          "PICKUP TRUCK - STANDARD",
          "PICKUP TRUCK - STANDARD",
          "PICKUP TRUCK - STANDARD",
          "PICKUP TRUCK - STANDARD",
          "PICKUP TRUCK - STANDARD",
          "PICKUP TRUCK - STANDARD",
          "PICKUP TRUCK - STANDARD",
          "PICKUP TRUCK - STANDARD",
          "PICKUP TRUCK - STANDARD",
          "PICKUP TRUCK - STANDARD",
          "PICKUP TRUCK - STANDARD",
          "PICKUP TRUCK - STANDARD",
          "PICKUP TRUCK - STANDARD",
          "PICKUP TRUCK - STANDARD",
          "PICKUP TRUCK - STANDARD",
          "PICKUP TRUCK - STANDARD",
          "PICKUP TRUCK - STANDARD",
          "PICKUP TRUCK - STANDARD",
          "PICKUP TRUCK - STANDARD",
          "PICKUP TRUCK - STANDARD",
          "PICKUP TRUCK - STANDARD",
          "PICKUP TRUCK - STANDARD",
          "PICKUP TRUCK - STANDARD",
          "PICKUP TRUCK - STANDARD",
          "PICKUP TRUCK - STANDARD",
          "PICKUP TRUCK - STANDARD",
          "PICKUP TRUCK - STANDARD",
          "PICKUP TRUCK - STANDARD",
          "PICKUP TRUCK - STANDARD",
          "PICKUP TRUCK - STANDARD",
          "PICKUP TRUCK - STANDARD",
          "PICKUP TRUCK - STANDARD",
          "PICKUP TRUCK - STANDARD",
          "PICKUP TRUCK - STANDARD",
          "PICKUP TRUCK - STANDARD",
          "PICKUP TRUCK - STANDARD",
          "PICKUP TRUCK - STANDARD",
          "PICKUP TRUCK - STANDARD",
          "PICKUP TRUCK - STANDARD",
          "PICKUP TRUCK - STANDARD",
          "PICKUP TRUCK - STANDARD",
          "PICKUP TRUCK - STANDARD",
          "PICKUP TRUCK - STANDARD",
          "PICKUP TRUCK - STANDARD",
          "PICKUP TRUCK - STANDARD",
          "PICKUP TRUCK - STANDARD",
          "PICKUP TRUCK - STANDARD",
          "PICKUP TRUCK - STANDARD",
          "PICKUP TRUCK - STANDARD",
          "PICKUP TRUCK - STANDARD",
          "PICKUP TRUCK - STANDARD",
          "PICKUP TRUCK - STANDARD",
          "PICKUP TRUCK - STANDARD",
          "PICKUP TRUCK - STANDARD",
          "PICKUP TRUCK - STANDARD",
          "PICKUP TRUCK - STANDARD",
          "PICKUP TRUCK - STANDARD",
          "PICKUP TRUCK - STANDARD",
          "PICKUP TRUCK - STANDARD",
          "PICKUP TRUCK - STANDARD",
          "PICKUP TRUCK - STANDARD",
          "PICKUP TRUCK - STANDARD",
          "PICKUP TRUCK - STANDARD",
          "PICKUP TRUCK - STANDARD",
          "PICKUP TRUCK - STANDARD",
          "PICKUP TRUCK - STANDARD",
          "PICKUP TRUCK - STANDARD",
          "PICKUP TRUCK - STANDARD",
          "PICKUP TRUCK - STANDARD",
          "PICKUP TRUCK - STANDARD",
          "PICKUP TRUCK - STANDARD",
          "PICKUP TRUCK - STANDARD",
          "PICKUP TRUCK - STANDARD",
          "PICKUP TRUCK - STANDARD",
          "PICKUP TRUCK - STANDARD",
          "PICKUP TRUCK - STANDARD",
          "PICKUP TRUCK - STANDARD",
          "PICKUP TRUCK - STANDARD",
          "PICKUP TRUCK - STANDARD",
          "PICKUP TRUCK - STANDARD",
          "PICKUP TRUCK - STANDARD",
          "PICKUP TRUCK - STANDARD",
          "PICKUP TRUCK - STANDARD",
          "PICKUP TRUCK - STANDARD",
          "PICKUP TRUCK - STANDARD",
          "PICKUP TRUCK - STANDARD",
          "PICKUP TRUCK - STANDARD",
          "PICKUP TRUCK - STANDARD",
          "PICKUP TRUCK - STANDARD",
          "PICKUP TRUCK - STANDARD",
          "PICKUP TRUCK - STANDARD",
          "PICKUP TRUCK - STANDARD",
          "PICKUP TRUCK - STANDARD",
          "PICKUP TRUCK - STANDARD",
          "PICKUP TRUCK - STANDARD",
          "PICKUP TRUCK - STANDARD",
          "PICKUP TRUCK - STANDARD",
          "PICKUP TRUCK - STANDARD",
          "PICKUP TRUCK - STANDARD",
          "PICKUP TRUCK - STANDARD",
          "PICKUP TRUCK - STANDARD",
          "PICKUP TRUCK - STANDARD",
          "PICKUP TRUCK - STANDARD",
          "PICKUP TRUCK - STANDARD",
          "PICKUP TRUCK - STANDARD",
          "PICKUP TRUCK - STANDARD",
          "PICKUP TRUCK - STANDARD",
          "PICKUP TRUCK - STANDARD",
          "PICKUP TRUCK - STANDARD",
          "PICKUP TRUCK - STANDARD",
          "PICKUP TRUCK - STANDARD",
          "PICKUP TRUCK - STANDARD",
          "PICKUP TRUCK - STANDARD",
          "PICKUP TRUCK - STANDARD",
          "PICKUP TRUCK - STANDARD",
          "PICKUP TRUCK - STANDARD",
          "PICKUP TRUCK - STANDARD",
          "PICKUP TRUCK - STANDARD",
          "PICKUP TRUCK - STANDARD",
          "PICKUP TRUCK - STANDARD",
          "PICKUP TRUCK - STANDARD",
          "PICKUP TRUCK - STANDARD",
          "PICKUP TRUCK - STANDARD",
          "PICKUP TRUCK - STANDARD",
          "PICKUP TRUCK - STANDARD",
          "PICKUP TRUCK - STANDARD",
          "PICKUP TRUCK - STANDARD",
          "PICKUP TRUCK - STANDARD"
         ],
         "x0": " ",
         "xaxis": "x",
         "y": {
          "bdata": "DwENASQBDgFEASIBHQErARUBSQEkASYBbgE9ATQBkgEbAQgBGwEIAVABOwFQATsBNAEgATQBIAFXAUABVAE+AZ4BDwENASQBDgFEASIBHQErARUBSQE0AWcBjgFUATkBYgFEAR4BIgEdARMBEgENAQQBNgFJAWQBWwF1ARIBEgEkARMBQgEgASABKwEYAUcB+AAUAQgB+wAyAR4BFAEgAR0BDQFAASsBEgESASQBEwFCASABIAErARgBRwFyAYwBEgESAQ0BBAFUATkBEQEJASIBIgEdAWIBRAEeAUkBXgFbAX4BKgFIARgBHAEqAR4BMwFMASgBLQEyAScBMAEAARYBBwEvARABBQE1ASQBVQElARMBLwEgAUQBJAEWAUQBMgFbATYBKgFHARgBHAEqAR4BMwFMASgBLQEyAScBMAEXARcBCAFcAT8BEAEIASYBKAFqAUoBGwFPAWgBXwF8ASkBNQFEARcBHAEqARwBMwFHAUoBJgEmATMBOwEvAQABBwEQAQgBEgEiARABAgE2ASMBVAEjARQBJQEgARwBIAEqASUBGQFDATEBSgEyAVsBRgFTASkBNQFDARcBHAEqARwBMwFHAUoBJgEmATMBPQEvAQgBOAE7AU0BGAEbAVoBPwEWASYBLAFpAUgBIQFOAWYBXQF6ARYBHAEqASoBGwEzAUQBFgEmASgBMwEzATUBRAFLATAB+QD9AAIBAAEEAQMBAQH4AAcBBwH4ABoBIAElASQBHgEgATQBMwEgAUQBQwEgAQkBFQEQASABIAEKARUBEQEHASMBIwEGAScBKQExATABNwEsAUQBRAEsAU4BUwFFAVMBFgEcASoBKgEbATMBQwEWASYBKAEzATMBNQFEAUsBMAEIATgBOwFLARgBGwFaAT8BFgEmASwBfgFIASEBcwFiAX8BBQE8AUYBSQEyASIBEwFJAVsBSQFTAUIBXgEyAUABQQE9AUUB+QAEAQQBAAEEAQAB9wAHAfcAGQEjASoBHwEiATQBIgFGASMBDAEVARUBHwEfAQoBEQEHASMBBwEnAS8BNAEoATgBLAFGASwBWwFDAVABAAEFAT0BRgFJATIBJgEVAUkBSgFTAUMBPAFAAUYBTAE9AUUBBwE4ATsBSwH9APYAQAEiAQQBRQEuARYBGAEbAVoBPwEhASYBLAF+AUgBcwFiAX4BBgETAe4APgFGAVMBRgEeARMBGAH8AEsBXQFLAV4BVgFiAS8BKAEzAUEBZQFMAfkACAEIAf4A9QAqASkBJQExASYBPwEsARUBIgEOARIBCQEwASgBPQEoAVABAAEGARMB9QA+AUYBUwFGASABEwEYAQkBCQFLAUsBWAFFAWIBMAE6ASoBMwFGAUwBDQEiASgBEQEfATkBOQHzAP0A9QBAASIBBAEEAUUBKwEYAT8BJgFKAXMBfQE=",
          "dtype": "i2"
         },
         "y0": " ",
         "yaxis": "y"
        },
        {
         "alignmentgroup": "True",
         "hovertemplate": "Vehicle Class=%{x}<br>CO2 Emissions(g/km)=%{y}<extra></extra>",
         "legendgroup": "MINIVAN",
         "marker": {
          "color": "#00cc96"
         },
         "name": "MINIVAN",
         "notched": false,
         "offsetgroup": "MINIVAN",
         "orientation": "v",
         "showlegend": true,
         "type": "box",
         "x": [
          "MINIVAN",
          "MINIVAN",
          "MINIVAN",
          "MINIVAN",
          "MINIVAN",
          "MINIVAN",
          "MINIVAN",
          "MINIVAN",
          "MINIVAN",
          "MINIVAN",
          "MINIVAN",
          "MINIVAN",
          "MINIVAN",
          "MINIVAN",
          "MINIVAN",
          "MINIVAN",
          "MINIVAN",
          "MINIVAN",
          "MINIVAN",
          "MINIVAN",
          "MINIVAN",
          "MINIVAN",
          "MINIVAN",
          "MINIVAN",
          "MINIVAN",
          "MINIVAN",
          "MINIVAN",
          "MINIVAN",
          "MINIVAN",
          "MINIVAN",
          "MINIVAN",
          "MINIVAN",
          "MINIVAN",
          "MINIVAN",
          "MINIVAN",
          "MINIVAN",
          "MINIVAN",
          "MINIVAN",
          "MINIVAN",
          "MINIVAN",
          "MINIVAN",
          "MINIVAN",
          "MINIVAN",
          "MINIVAN",
          "MINIVAN",
          "MINIVAN",
          "MINIVAN",
          "MINIVAN",
          "MINIVAN",
          "MINIVAN",
          "MINIVAN",
          "MINIVAN",
          "MINIVAN",
          "MINIVAN",
          "MINIVAN",
          "MINIVAN",
          "MINIVAN",
          "MINIVAN",
          "MINIVAN",
          "MINIVAN",
          "MINIVAN",
          "MINIVAN",
          "MINIVAN",
          "MINIVAN",
          "MINIVAN",
          "MINIVAN",
          "MINIVAN",
          "MINIVAN",
          "MINIVAN",
          "MINIVAN",
          "MINIVAN",
          "MINIVAN",
          "MINIVAN",
          "MINIVAN",
          "MINIVAN",
          "MINIVAN",
          "MINIVAN",
          "MINIVAN",
          "MINIVAN",
          "MINIVAN"
         ],
         "x0": " ",
         "xaxis": "x",
         "y": {
          "bdata": "FAENAQ8BCAH0ABQB3wDhAP8ABgH+AAQBHQEWARQBDQEPAQYB9AALAQYBIAHdAOEA8gAGAf4ABgEgARoBFwEUAQ0B+gATAQ0BKAHiAOUACwEiAQEB+QAUARIB+wATAQ0BKAHiAOYA/wASAQMB+QAUARIB/AD3ABMBDQEoAQABEgEDAfkAFAESAfwA9wAQAf4AEgH5APkAFAH4AA8BAwESAQ==",
          "dtype": "i2"
         },
         "y0": " ",
         "yaxis": "y"
        },
        {
         "alignmentgroup": "True",
         "hovertemplate": "Vehicle Class=%{x}<br>CO2 Emissions(g/km)=%{y}<extra></extra>",
         "legendgroup": "SPECIAL PURPOSE VEHICLE",
         "marker": {
          "color": "#ab63fa"
         },
         "name": "SPECIAL PURPOSE VEHICLE",
         "notched": false,
         "offsetgroup": "SPECIAL PURPOSE VEHICLE",
         "orientation": "v",
         "showlegend": true,
         "type": "box",
         "x": [
          "SPECIAL PURPOSE VEHICLE",
          "SPECIAL PURPOSE VEHICLE",
          "SPECIAL PURPOSE VEHICLE",
          "SPECIAL PURPOSE VEHICLE",
          "SPECIAL PURPOSE VEHICLE",
          "SPECIAL PURPOSE VEHICLE",
          "SPECIAL PURPOSE VEHICLE",
          "SPECIAL PURPOSE VEHICLE",
          "SPECIAL PURPOSE VEHICLE",
          "SPECIAL PURPOSE VEHICLE",
          "SPECIAL PURPOSE VEHICLE",
          "SPECIAL PURPOSE VEHICLE",
          "SPECIAL PURPOSE VEHICLE",
          "SPECIAL PURPOSE VEHICLE",
          "SPECIAL PURPOSE VEHICLE",
          "SPECIAL PURPOSE VEHICLE",
          "SPECIAL PURPOSE VEHICLE",
          "SPECIAL PURPOSE VEHICLE",
          "SPECIAL PURPOSE VEHICLE",
          "SPECIAL PURPOSE VEHICLE",
          "SPECIAL PURPOSE VEHICLE",
          "SPECIAL PURPOSE VEHICLE",
          "SPECIAL PURPOSE VEHICLE",
          "SPECIAL PURPOSE VEHICLE",
          "SPECIAL PURPOSE VEHICLE",
          "SPECIAL PURPOSE VEHICLE",
          "SPECIAL PURPOSE VEHICLE",
          "SPECIAL PURPOSE VEHICLE",
          "SPECIAL PURPOSE VEHICLE",
          "SPECIAL PURPOSE VEHICLE",
          "SPECIAL PURPOSE VEHICLE",
          "SPECIAL PURPOSE VEHICLE",
          "SPECIAL PURPOSE VEHICLE",
          "SPECIAL PURPOSE VEHICLE",
          "SPECIAL PURPOSE VEHICLE",
          "SPECIAL PURPOSE VEHICLE",
          "SPECIAL PURPOSE VEHICLE",
          "SPECIAL PURPOSE VEHICLE",
          "SPECIAL PURPOSE VEHICLE",
          "SPECIAL PURPOSE VEHICLE",
          "SPECIAL PURPOSE VEHICLE",
          "SPECIAL PURPOSE VEHICLE",
          "SPECIAL PURPOSE VEHICLE",
          "SPECIAL PURPOSE VEHICLE",
          "SPECIAL PURPOSE VEHICLE",
          "SPECIAL PURPOSE VEHICLE",
          "SPECIAL PURPOSE VEHICLE",
          "SPECIAL PURPOSE VEHICLE",
          "SPECIAL PURPOSE VEHICLE",
          "SPECIAL PURPOSE VEHICLE",
          "SPECIAL PURPOSE VEHICLE",
          "SPECIAL PURPOSE VEHICLE",
          "SPECIAL PURPOSE VEHICLE",
          "SPECIAL PURPOSE VEHICLE",
          "SPECIAL PURPOSE VEHICLE",
          "SPECIAL PURPOSE VEHICLE",
          "SPECIAL PURPOSE VEHICLE",
          "SPECIAL PURPOSE VEHICLE",
          "SPECIAL PURPOSE VEHICLE",
          "SPECIAL PURPOSE VEHICLE",
          "SPECIAL PURPOSE VEHICLE",
          "SPECIAL PURPOSE VEHICLE",
          "SPECIAL PURPOSE VEHICLE",
          "SPECIAL PURPOSE VEHICLE",
          "SPECIAL PURPOSE VEHICLE",
          "SPECIAL PURPOSE VEHICLE",
          "SPECIAL PURPOSE VEHICLE",
          "SPECIAL PURPOSE VEHICLE",
          "SPECIAL PURPOSE VEHICLE",
          "SPECIAL PURPOSE VEHICLE",
          "SPECIAL PURPOSE VEHICLE",
          "SPECIAL PURPOSE VEHICLE",
          "SPECIAL PURPOSE VEHICLE",
          "SPECIAL PURPOSE VEHICLE",
          "SPECIAL PURPOSE VEHICLE",
          "SPECIAL PURPOSE VEHICLE",
          "SPECIAL PURPOSE VEHICLE"
         ],
         "x0": " ",
         "xaxis": "x",
         "y": {
          "bdata": "2gDkAOgA7wDrABkB1gDYANgA5ADrAO8A6AAZAdgA4QDcAN8A8wDzAOkA/AD8APAA/AD8APAADAEqAekA+ADcAOcA3AD0AOoA/QDyACoB8AD4ANwA6ADaAPQA6gD7APEAKgH7AAwB2gDoANsA2wDRAPcA1gDWANAA+wApAfsA+AAMAdoA6ADbANEA2wD3ANYA1gDQAPsA2gDoAA==",
          "dtype": "i2"
         },
         "y0": " ",
         "yaxis": "y"
        },
        {
         "alignmentgroup": "True",
         "hovertemplate": "Vehicle Class=%{x}<br>CO2 Emissions(g/km)=%{y}<extra></extra>",
         "legendgroup": "STATION WAGON - MID-SIZE",
         "marker": {
          "color": "#FFA15A"
         },
         "name": "STATION WAGON - MID-SIZE",
         "notched": false,
         "offsetgroup": "STATION WAGON - MID-SIZE",
         "orientation": "v",
         "showlegend": true,
         "type": "box",
         "x": [
          "STATION WAGON - MID-SIZE",
          "STATION WAGON - MID-SIZE",
          "STATION WAGON - MID-SIZE",
          "STATION WAGON - MID-SIZE",
          "STATION WAGON - MID-SIZE",
          "STATION WAGON - MID-SIZE",
          "STATION WAGON - MID-SIZE",
          "STATION WAGON - MID-SIZE",
          "STATION WAGON - MID-SIZE",
          "STATION WAGON - MID-SIZE",
          "STATION WAGON - MID-SIZE",
          "STATION WAGON - MID-SIZE",
          "STATION WAGON - MID-SIZE",
          "STATION WAGON - MID-SIZE",
          "STATION WAGON - MID-SIZE",
          "STATION WAGON - MID-SIZE",
          "STATION WAGON - MID-SIZE",
          "STATION WAGON - MID-SIZE",
          "STATION WAGON - MID-SIZE",
          "STATION WAGON - MID-SIZE",
          "STATION WAGON - MID-SIZE",
          "STATION WAGON - MID-SIZE",
          "STATION WAGON - MID-SIZE",
          "STATION WAGON - MID-SIZE",
          "STATION WAGON - MID-SIZE",
          "STATION WAGON - MID-SIZE",
          "STATION WAGON - MID-SIZE",
          "STATION WAGON - MID-SIZE",
          "STATION WAGON - MID-SIZE",
          "STATION WAGON - MID-SIZE",
          "STATION WAGON - MID-SIZE",
          "STATION WAGON - MID-SIZE",
          "STATION WAGON - MID-SIZE",
          "STATION WAGON - MID-SIZE",
          "STATION WAGON - MID-SIZE",
          "STATION WAGON - MID-SIZE",
          "STATION WAGON - MID-SIZE",
          "STATION WAGON - MID-SIZE",
          "STATION WAGON - MID-SIZE",
          "STATION WAGON - MID-SIZE",
          "STATION WAGON - MID-SIZE",
          "STATION WAGON - MID-SIZE",
          "STATION WAGON - MID-SIZE",
          "STATION WAGON - MID-SIZE",
          "STATION WAGON - MID-SIZE",
          "STATION WAGON - MID-SIZE",
          "STATION WAGON - MID-SIZE",
          "STATION WAGON - MID-SIZE",
          "STATION WAGON - MID-SIZE",
          "STATION WAGON - MID-SIZE",
          "STATION WAGON - MID-SIZE",
          "STATION WAGON - MID-SIZE",
          "STATION WAGON - MID-SIZE"
         ],
         "x0": " ",
         "xaxis": "x",
         "y": {
          "bdata": "1ADWAPIANgE2AX4A1gDWAPgAMgHYAOEA5ACBANYA3AA2Af0A5gDoAIMA0gADAeYA6ACHAMwA2wDdADgB4QDeAAUB5gDoAIcA2ADWAOAA7wArAeEA/gDwAPIAfgHbAOkAKwHwAPIAggGCAQ==",
          "dtype": "i2"
         },
         "y0": " ",
         "yaxis": "y"
        },
        {
         "alignmentgroup": "True",
         "hovertemplate": "Vehicle Class=%{x}<br>CO2 Emissions(g/km)=%{y}<extra></extra>",
         "legendgroup": "PICKUP TRUCK - SMALL",
         "marker": {
          "color": "#19d3f3"
         },
         "name": "PICKUP TRUCK - SMALL",
         "notched": false,
         "offsetgroup": "PICKUP TRUCK - SMALL",
         "orientation": "v",
         "showlegend": true,
         "type": "box",
         "x": [
          "PICKUP TRUCK - SMALL",
          "PICKUP TRUCK - SMALL",
          "PICKUP TRUCK - SMALL",
          "PICKUP TRUCK - SMALL",
          "PICKUP TRUCK - SMALL",
          "PICKUP TRUCK - SMALL",
          "PICKUP TRUCK - SMALL",
          "PICKUP TRUCK - SMALL",
          "PICKUP TRUCK - SMALL",
          "PICKUP TRUCK - SMALL",
          "PICKUP TRUCK - SMALL",
          "PICKUP TRUCK - SMALL",
          "PICKUP TRUCK - SMALL",
          "PICKUP TRUCK - SMALL",
          "PICKUP TRUCK - SMALL",
          "PICKUP TRUCK - SMALL",
          "PICKUP TRUCK - SMALL",
          "PICKUP TRUCK - SMALL",
          "PICKUP TRUCK - SMALL",
          "PICKUP TRUCK - SMALL",
          "PICKUP TRUCK - SMALL",
          "PICKUP TRUCK - SMALL",
          "PICKUP TRUCK - SMALL",
          "PICKUP TRUCK - SMALL",
          "PICKUP TRUCK - SMALL",
          "PICKUP TRUCK - SMALL",
          "PICKUP TRUCK - SMALL",
          "PICKUP TRUCK - SMALL",
          "PICKUP TRUCK - SMALL",
          "PICKUP TRUCK - SMALL",
          "PICKUP TRUCK - SMALL",
          "PICKUP TRUCK - SMALL",
          "PICKUP TRUCK - SMALL",
          "PICKUP TRUCK - SMALL",
          "PICKUP TRUCK - SMALL",
          "PICKUP TRUCK - SMALL",
          "PICKUP TRUCK - SMALL",
          "PICKUP TRUCK - SMALL",
          "PICKUP TRUCK - SMALL",
          "PICKUP TRUCK - SMALL",
          "PICKUP TRUCK - SMALL",
          "PICKUP TRUCK - SMALL",
          "PICKUP TRUCK - SMALL",
          "PICKUP TRUCK - SMALL",
          "PICKUP TRUCK - SMALL",
          "PICKUP TRUCK - SMALL",
          "PICKUP TRUCK - SMALL",
          "PICKUP TRUCK - SMALL",
          "PICKUP TRUCK - SMALL",
          "PICKUP TRUCK - SMALL",
          "PICKUP TRUCK - SMALL",
          "PICKUP TRUCK - SMALL",
          "PICKUP TRUCK - SMALL",
          "PICKUP TRUCK - SMALL",
          "PICKUP TRUCK - SMALL",
          "PICKUP TRUCK - SMALL",
          "PICKUP TRUCK - SMALL",
          "PICKUP TRUCK - SMALL",
          "PICKUP TRUCK - SMALL",
          "PICKUP TRUCK - SMALL",
          "PICKUP TRUCK - SMALL",
          "PICKUP TRUCK - SMALL",
          "PICKUP TRUCK - SMALL",
          "PICKUP TRUCK - SMALL",
          "PICKUP TRUCK - SMALL",
          "PICKUP TRUCK - SMALL",
          "PICKUP TRUCK - SMALL",
          "PICKUP TRUCK - SMALL",
          "PICKUP TRUCK - SMALL",
          "PICKUP TRUCK - SMALL",
          "PICKUP TRUCK - SMALL",
          "PICKUP TRUCK - SMALL",
          "PICKUP TRUCK - SMALL",
          "PICKUP TRUCK - SMALL",
          "PICKUP TRUCK - SMALL",
          "PICKUP TRUCK - SMALL",
          "PICKUP TRUCK - SMALL",
          "PICKUP TRUCK - SMALL",
          "PICKUP TRUCK - SMALL",
          "PICKUP TRUCK - SMALL",
          "PICKUP TRUCK - SMALL",
          "PICKUP TRUCK - SMALL",
          "PICKUP TRUCK - SMALL",
          "PICKUP TRUCK - SMALL",
          "PICKUP TRUCK - SMALL",
          "PICKUP TRUCK - SMALL",
          "PICKUP TRUCK - SMALL",
          "PICKUP TRUCK - SMALL",
          "PICKUP TRUCK - SMALL",
          "PICKUP TRUCK - SMALL",
          "PICKUP TRUCK - SMALL",
          "PICKUP TRUCK - SMALL",
          "PICKUP TRUCK - SMALL",
          "PICKUP TRUCK - SMALL",
          "PICKUP TRUCK - SMALL",
          "PICKUP TRUCK - SMALL",
          "PICKUP TRUCK - SMALL",
          "PICKUP TRUCK - SMALL",
          "PICKUP TRUCK - SMALL",
          "PICKUP TRUCK - SMALL",
          "PICKUP TRUCK - SMALL",
          "PICKUP TRUCK - SMALL",
          "PICKUP TRUCK - SMALL",
          "PICKUP TRUCK - SMALL",
          "PICKUP TRUCK - SMALL",
          "PICKUP TRUCK - SMALL",
          "PICKUP TRUCK - SMALL",
          "PICKUP TRUCK - SMALL",
          "PICKUP TRUCK - SMALL",
          "PICKUP TRUCK - SMALL",
          "PICKUP TRUCK - SMALL",
          "PICKUP TRUCK - SMALL",
          "PICKUP TRUCK - SMALL",
          "PICKUP TRUCK - SMALL",
          "PICKUP TRUCK - SMALL",
          "PICKUP TRUCK - SMALL",
          "PICKUP TRUCK - SMALL",
          "PICKUP TRUCK - SMALL",
          "PICKUP TRUCK - SMALL",
          "PICKUP TRUCK - SMALL",
          "PICKUP TRUCK - SMALL",
          "PICKUP TRUCK - SMALL",
          "PICKUP TRUCK - SMALL",
          "PICKUP TRUCK - SMALL",
          "PICKUP TRUCK - SMALL",
          "PICKUP TRUCK - SMALL",
          "PICKUP TRUCK - SMALL",
          "PICKUP TRUCK - SMALL",
          "PICKUP TRUCK - SMALL",
          "PICKUP TRUCK - SMALL",
          "PICKUP TRUCK - SMALL",
          "PICKUP TRUCK - SMALL",
          "PICKUP TRUCK - SMALL",
          "PICKUP TRUCK - SMALL",
          "PICKUP TRUCK - SMALL",
          "PICKUP TRUCK - SMALL",
          "PICKUP TRUCK - SMALL",
          "PICKUP TRUCK - SMALL",
          "PICKUP TRUCK - SMALL",
          "PICKUP TRUCK - SMALL",
          "PICKUP TRUCK - SMALL",
          "PICKUP TRUCK - SMALL",
          "PICKUP TRUCK - SMALL",
          "PICKUP TRUCK - SMALL",
          "PICKUP TRUCK - SMALL",
          "PICKUP TRUCK - SMALL",
          "PICKUP TRUCK - SMALL",
          "PICKUP TRUCK - SMALL",
          "PICKUP TRUCK - SMALL",
          "PICKUP TRUCK - SMALL",
          "PICKUP TRUCK - SMALL",
          "PICKUP TRUCK - SMALL",
          "PICKUP TRUCK - SMALL",
          "PICKUP TRUCK - SMALL",
          "PICKUP TRUCK - SMALL",
          "PICKUP TRUCK - SMALL",
          "PICKUP TRUCK - SMALL",
          "PICKUP TRUCK - SMALL",
          "PICKUP TRUCK - SMALL"
         ],
         "x0": " ",
         "xaxis": "x",
         "y": {
          "bdata": "GwEEASQBOwEtAfsA6wAtARIBDwEyAUIB8gD4AAQBBAEPAfIA+AAEAQQBDwEbAQQBJAE7ATIBAgHyAC0BGwEbATQBQgH3AP0A/AAJAQkBFQEXAfcA/QD8AAkBCQEVARcBHQEKASwBQgE5AQUBCwESARcBGAEkASwB/AD+AP8AEgEHARgBHgE7AUsB/AD+AP8AEgEHARgBHgEeAQwBMAFGAT0BBwEMARIBFwEbAS0BLAH9APsAAQESAQoBFwEgATsBSwH9APsAAQESAQoBFwEgASIBDAEsAUYBPQEHAQwBEgEbASsBLAH9APsADgESAQsBGwEeAUYBSwH9APsADgESAQsBGwEeASIBKwFGAT0BBwESARYBKwEsAfwADgERAQkBHAEeAUYBSwH8AA4BEQEJARwBHgEHARIBFgErASwB",
          "dtype": "i2"
         },
         "y0": " ",
         "yaxis": "y"
        }
       ],
       "layout": {
        "boxmode": "overlay",
        "height": 500,
        "legend": {
         "title": {
          "text": "Vehicle Class"
         },
         "tracegroupgap": 0
        },
        "shapes": [
         {
          "line": {
           "color": "red",
           "dash": "dash"
          },
          "type": "line",
          "x0": 0,
          "x1": 1,
          "xref": "x domain",
          "y0": 200,
          "y1": 200,
          "yref": "y"
         }
        ],
        "showlegend": false,
        "template": {
         "data": {
          "bar": [
           {
            "error_x": {
             "color": "#2a3f5f"
            },
            "error_y": {
             "color": "#2a3f5f"
            },
            "marker": {
             "line": {
              "color": "#E5ECF6",
              "width": 0.5
             },
             "pattern": {
              "fillmode": "overlay",
              "size": 10,
              "solidity": 0.2
             }
            },
            "type": "bar"
           }
          ],
          "barpolar": [
           {
            "marker": {
             "line": {
              "color": "#E5ECF6",
              "width": 0.5
             },
             "pattern": {
              "fillmode": "overlay",
              "size": 10,
              "solidity": 0.2
             }
            },
            "type": "barpolar"
           }
          ],
          "carpet": [
           {
            "aaxis": {
             "endlinecolor": "#2a3f5f",
             "gridcolor": "white",
             "linecolor": "white",
             "minorgridcolor": "white",
             "startlinecolor": "#2a3f5f"
            },
            "baxis": {
             "endlinecolor": "#2a3f5f",
             "gridcolor": "white",
             "linecolor": "white",
             "minorgridcolor": "white",
             "startlinecolor": "#2a3f5f"
            },
            "type": "carpet"
           }
          ],
          "choropleth": [
           {
            "colorbar": {
             "outlinewidth": 0,
             "ticks": ""
            },
            "type": "choropleth"
           }
          ],
          "contour": [
           {
            "colorbar": {
             "outlinewidth": 0,
             "ticks": ""
            },
            "colorscale": [
             [
              0,
              "#0d0887"
             ],
             [
              0.1111111111111111,
              "#46039f"
             ],
             [
              0.2222222222222222,
              "#7201a8"
             ],
             [
              0.3333333333333333,
              "#9c179e"
             ],
             [
              0.4444444444444444,
              "#bd3786"
             ],
             [
              0.5555555555555556,
              "#d8576b"
             ],
             [
              0.6666666666666666,
              "#ed7953"
             ],
             [
              0.7777777777777778,
              "#fb9f3a"
             ],
             [
              0.8888888888888888,
              "#fdca26"
             ],
             [
              1,
              "#f0f921"
             ]
            ],
            "type": "contour"
           }
          ],
          "contourcarpet": [
           {
            "colorbar": {
             "outlinewidth": 0,
             "ticks": ""
            },
            "type": "contourcarpet"
           }
          ],
          "heatmap": [
           {
            "colorbar": {
             "outlinewidth": 0,
             "ticks": ""
            },
            "colorscale": [
             [
              0,
              "#0d0887"
             ],
             [
              0.1111111111111111,
              "#46039f"
             ],
             [
              0.2222222222222222,
              "#7201a8"
             ],
             [
              0.3333333333333333,
              "#9c179e"
             ],
             [
              0.4444444444444444,
              "#bd3786"
             ],
             [
              0.5555555555555556,
              "#d8576b"
             ],
             [
              0.6666666666666666,
              "#ed7953"
             ],
             [
              0.7777777777777778,
              "#fb9f3a"
             ],
             [
              0.8888888888888888,
              "#fdca26"
             ],
             [
              1,
              "#f0f921"
             ]
            ],
            "type": "heatmap"
           }
          ],
          "histogram": [
           {
            "marker": {
             "pattern": {
              "fillmode": "overlay",
              "size": 10,
              "solidity": 0.2
             }
            },
            "type": "histogram"
           }
          ],
          "histogram2d": [
           {
            "colorbar": {
             "outlinewidth": 0,
             "ticks": ""
            },
            "colorscale": [
             [
              0,
              "#0d0887"
             ],
             [
              0.1111111111111111,
              "#46039f"
             ],
             [
              0.2222222222222222,
              "#7201a8"
             ],
             [
              0.3333333333333333,
              "#9c179e"
             ],
             [
              0.4444444444444444,
              "#bd3786"
             ],
             [
              0.5555555555555556,
              "#d8576b"
             ],
             [
              0.6666666666666666,
              "#ed7953"
             ],
             [
              0.7777777777777778,
              "#fb9f3a"
             ],
             [
              0.8888888888888888,
              "#fdca26"
             ],
             [
              1,
              "#f0f921"
             ]
            ],
            "type": "histogram2d"
           }
          ],
          "histogram2dcontour": [
           {
            "colorbar": {
             "outlinewidth": 0,
             "ticks": ""
            },
            "colorscale": [
             [
              0,
              "#0d0887"
             ],
             [
              0.1111111111111111,
              "#46039f"
             ],
             [
              0.2222222222222222,
              "#7201a8"
             ],
             [
              0.3333333333333333,
              "#9c179e"
             ],
             [
              0.4444444444444444,
              "#bd3786"
             ],
             [
              0.5555555555555556,
              "#d8576b"
             ],
             [
              0.6666666666666666,
              "#ed7953"
             ],
             [
              0.7777777777777778,
              "#fb9f3a"
             ],
             [
              0.8888888888888888,
              "#fdca26"
             ],
             [
              1,
              "#f0f921"
             ]
            ],
            "type": "histogram2dcontour"
           }
          ],
          "mesh3d": [
           {
            "colorbar": {
             "outlinewidth": 0,
             "ticks": ""
            },
            "type": "mesh3d"
           }
          ],
          "parcoords": [
           {
            "line": {
             "colorbar": {
              "outlinewidth": 0,
              "ticks": ""
             }
            },
            "type": "parcoords"
           }
          ],
          "pie": [
           {
            "automargin": true,
            "type": "pie"
           }
          ],
          "scatter": [
           {
            "fillpattern": {
             "fillmode": "overlay",
             "size": 10,
             "solidity": 0.2
            },
            "type": "scatter"
           }
          ],
          "scatter3d": [
           {
            "line": {
             "colorbar": {
              "outlinewidth": 0,
              "ticks": ""
             }
            },
            "marker": {
             "colorbar": {
              "outlinewidth": 0,
              "ticks": ""
             }
            },
            "type": "scatter3d"
           }
          ],
          "scattercarpet": [
           {
            "marker": {
             "colorbar": {
              "outlinewidth": 0,
              "ticks": ""
             }
            },
            "type": "scattercarpet"
           }
          ],
          "scattergeo": [
           {
            "marker": {
             "colorbar": {
              "outlinewidth": 0,
              "ticks": ""
             }
            },
            "type": "scattergeo"
           }
          ],
          "scattergl": [
           {
            "marker": {
             "colorbar": {
              "outlinewidth": 0,
              "ticks": ""
             }
            },
            "type": "scattergl"
           }
          ],
          "scattermap": [
           {
            "marker": {
             "colorbar": {
              "outlinewidth": 0,
              "ticks": ""
             }
            },
            "type": "scattermap"
           }
          ],
          "scattermapbox": [
           {
            "marker": {
             "colorbar": {
              "outlinewidth": 0,
              "ticks": ""
             }
            },
            "type": "scattermapbox"
           }
          ],
          "scatterpolar": [
           {
            "marker": {
             "colorbar": {
              "outlinewidth": 0,
              "ticks": ""
             }
            },
            "type": "scatterpolar"
           }
          ],
          "scatterpolargl": [
           {
            "marker": {
             "colorbar": {
              "outlinewidth": 0,
              "ticks": ""
             }
            },
            "type": "scatterpolargl"
           }
          ],
          "scatterternary": [
           {
            "marker": {
             "colorbar": {
              "outlinewidth": 0,
              "ticks": ""
             }
            },
            "type": "scatterternary"
           }
          ],
          "surface": [
           {
            "colorbar": {
             "outlinewidth": 0,
             "ticks": ""
            },
            "colorscale": [
             [
              0,
              "#0d0887"
             ],
             [
              0.1111111111111111,
              "#46039f"
             ],
             [
              0.2222222222222222,
              "#7201a8"
             ],
             [
              0.3333333333333333,
              "#9c179e"
             ],
             [
              0.4444444444444444,
              "#bd3786"
             ],
             [
              0.5555555555555556,
              "#d8576b"
             ],
             [
              0.6666666666666666,
              "#ed7953"
             ],
             [
              0.7777777777777778,
              "#fb9f3a"
             ],
             [
              0.8888888888888888,
              "#fdca26"
             ],
             [
              1,
              "#f0f921"
             ]
            ],
            "type": "surface"
           }
          ],
          "table": [
           {
            "cells": {
             "fill": {
              "color": "#EBF0F8"
             },
             "line": {
              "color": "white"
             }
            },
            "header": {
             "fill": {
              "color": "#C8D4E3"
             },
             "line": {
              "color": "white"
             }
            },
            "type": "table"
           }
          ]
         },
         "layout": {
          "annotationdefaults": {
           "arrowcolor": "#2a3f5f",
           "arrowhead": 0,
           "arrowwidth": 1
          },
          "autotypenumbers": "strict",
          "coloraxis": {
           "colorbar": {
            "outlinewidth": 0,
            "ticks": ""
           }
          },
          "colorscale": {
           "diverging": [
            [
             0,
             "#8e0152"
            ],
            [
             0.1,
             "#c51b7d"
            ],
            [
             0.2,
             "#de77ae"
            ],
            [
             0.3,
             "#f1b6da"
            ],
            [
             0.4,
             "#fde0ef"
            ],
            [
             0.5,
             "#f7f7f7"
            ],
            [
             0.6,
             "#e6f5d0"
            ],
            [
             0.7,
             "#b8e186"
            ],
            [
             0.8,
             "#7fbc41"
            ],
            [
             0.9,
             "#4d9221"
            ],
            [
             1,
             "#276419"
            ]
           ],
           "sequential": [
            [
             0,
             "#0d0887"
            ],
            [
             0.1111111111111111,
             "#46039f"
            ],
            [
             0.2222222222222222,
             "#7201a8"
            ],
            [
             0.3333333333333333,
             "#9c179e"
            ],
            [
             0.4444444444444444,
             "#bd3786"
            ],
            [
             0.5555555555555556,
             "#d8576b"
            ],
            [
             0.6666666666666666,
             "#ed7953"
            ],
            [
             0.7777777777777778,
             "#fb9f3a"
            ],
            [
             0.8888888888888888,
             "#fdca26"
            ],
            [
             1,
             "#f0f921"
            ]
           ],
           "sequentialminus": [
            [
             0,
             "#0d0887"
            ],
            [
             0.1111111111111111,
             "#46039f"
            ],
            [
             0.2222222222222222,
             "#7201a8"
            ],
            [
             0.3333333333333333,
             "#9c179e"
            ],
            [
             0.4444444444444444,
             "#bd3786"
            ],
            [
             0.5555555555555556,
             "#d8576b"
            ],
            [
             0.6666666666666666,
             "#ed7953"
            ],
            [
             0.7777777777777778,
             "#fb9f3a"
            ],
            [
             0.8888888888888888,
             "#fdca26"
            ],
            [
             1,
             "#f0f921"
            ]
           ]
          },
          "colorway": [
           "#636efa",
           "#EF553B",
           "#00cc96",
           "#ab63fa",
           "#FFA15A",
           "#19d3f3",
           "#FF6692",
           "#B6E880",
           "#FF97FF",
           "#FECB52"
          ],
          "font": {
           "color": "#2a3f5f"
          },
          "geo": {
           "bgcolor": "white",
           "lakecolor": "white",
           "landcolor": "#E5ECF6",
           "showlakes": true,
           "showland": true,
           "subunitcolor": "white"
          },
          "hoverlabel": {
           "align": "left"
          },
          "hovermode": "closest",
          "mapbox": {
           "style": "light"
          },
          "paper_bgcolor": "white",
          "plot_bgcolor": "#E5ECF6",
          "polar": {
           "angularaxis": {
            "gridcolor": "white",
            "linecolor": "white",
            "ticks": ""
           },
           "bgcolor": "#E5ECF6",
           "radialaxis": {
            "gridcolor": "white",
            "linecolor": "white",
            "ticks": ""
           }
          },
          "scene": {
           "xaxis": {
            "backgroundcolor": "#E5ECF6",
            "gridcolor": "white",
            "gridwidth": 2,
            "linecolor": "white",
            "showbackground": true,
            "ticks": "",
            "zerolinecolor": "white"
           },
           "yaxis": {
            "backgroundcolor": "#E5ECF6",
            "gridcolor": "white",
            "gridwidth": 2,
            "linecolor": "white",
            "showbackground": true,
            "ticks": "",
            "zerolinecolor": "white"
           },
           "zaxis": {
            "backgroundcolor": "#E5ECF6",
            "gridcolor": "white",
            "gridwidth": 2,
            "linecolor": "white",
            "showbackground": true,
            "ticks": "",
            "zerolinecolor": "white"
           }
          },
          "shapedefaults": {
           "line": {
            "color": "#2a3f5f"
           }
          },
          "ternary": {
           "aaxis": {
            "gridcolor": "white",
            "linecolor": "white",
            "ticks": ""
           },
           "baxis": {
            "gridcolor": "white",
            "linecolor": "white",
            "ticks": ""
           },
           "bgcolor": "#E5ECF6",
           "caxis": {
            "gridcolor": "white",
            "linecolor": "white",
            "ticks": ""
           }
          },
          "title": {
           "x": 0.05
          },
          "xaxis": {
           "automargin": true,
           "gridcolor": "white",
           "linecolor": "white",
           "ticks": "",
           "title": {
            "standoff": 15
           },
           "zerolinecolor": "white",
           "zerolinewidth": 2
          },
          "yaxis": {
           "automargin": true,
           "gridcolor": "white",
           "linecolor": "white",
           "ticks": "",
           "title": {
            "standoff": 15
           },
           "zerolinecolor": "white",
           "zerolinewidth": 2
          }
         }
        },
        "title": {
         "text": "📊 차량 클래스별 CO2 배출량 분포"
        },
        "width": 900,
        "xaxis": {
         "anchor": "y",
         "categoryarray": [
          "COMPACT",
          "SUV - SMALL",
          "MID-SIZE",
          "TWO-SEATER",
          "MINICOMPACT",
          "SUBCOMPACT",
          "FULL-SIZE",
          "STATION WAGON - SMALL",
          "SUV - STANDARD",
          "VAN - CARGO",
          "VAN - PASSENGER",
          "PICKUP TRUCK - STANDARD",
          "MINIVAN",
          "SPECIAL PURPOSE VEHICLE",
          "STATION WAGON - MID-SIZE",
          "PICKUP TRUCK - SMALL"
         ],
         "categoryorder": "array",
         "domain": [
          0,
          1
         ],
         "tickangle": 45,
         "title": {
          "text": "Vehicle Class"
         }
        },
        "yaxis": {
         "anchor": "x",
         "domain": [
          0,
          1
         ],
         "title": {
          "text": "CO2 Emissions(g/km)"
         }
        }
       }
      }
     },
     "metadata": {},
     "output_type": "display_data"
    }
   ],
   "source": [
    "# 박스플롯\n",
    "fig3 = px.box(\n",
    "    co2_data,\n",
    "    x='Vehicle Class',\n",
    "    y='CO2 Emissions(g/km)',\n",
    "    title='📊 차량 클래스별 CO2 배출량 분포',\n",
    "    color='Vehicle Class'\n",
    ")\n",
    "\n",
    "fig3.add_hline(y=200, line_dash=\"dash\", line_color=\"red\")\n",
    "fig3.update_xaxes(tickangle=45)\n",
    "fig3.update_layout(showlegend=False, width=900, height=500)\n",
    "fig3.show()"
   ]
  },
  {
   "cell_type": "markdown",
   "metadata": {},
   "source": [
    "## 🌈 시각화 4: 연비 vs CO2 상관관계"
   ]
  },
  {
   "cell_type": "code",
   "execution_count": 6,
   "metadata": {},
   "outputs": [
    {
     "name": "stdout",
     "output_type": "stream",
     "text": [
      "📈 연비와 CO2 상관계수: -0.907\n"
     ]
    },
    {
     "data": {
      "application/vnd.plotly.v1+json": {
       "config": {
        "plotlyServerURL": "https://plot.ly"
       },
       "data": [
        {
         "hovertemplate": "Vehicle Class=COMPACT<br>Fuel Consumption Comb (mpg)=%{x}<br>CO2 Emissions(g/km)=%{y}<extra></extra>",
         "legendgroup": "COMPACT",
         "marker": {
          "color": "#636efa",
          "opacity": 0.6,
          "symbol": "circle"
         },
         "mode": "markers",
         "name": "COMPACT",
         "showlegend": true,
         "type": "scattergl",
         "x": {
          "bdata": "IR0wHx0bIBweGRciICAqIiAfHRwdGyIgHx0cHRscFxYiExQTFB0dHh0cHxocGRkYGxYWERMjJiIkIiMcGhsUIyAlGyQbIxsnHCgnJSUlJSMgISYiHh0iISUlJTIdGxsaJSYpKCYnKB4bFBsbExUVJB8ZFhYgJCAkHyEfIR8hHyEiIh4XFxgvLCslEREfHyQhGRc8JyghIB8eHR0mJR0dFyIiHh8mJx8fNB0cGSIeLiIfHSAdHxsbGhgWEiIfICoiHx8dHRwbIh8gHx8fHR0dHBscGxcWIBYXGBcYExUTFR0dHh0bHhocGhkZFhYbEhETIyYiIyIjKCAlGyQbIxooJyUeNiUlJSMgISYiHh0hICUlJTIdGxsaKSgmJyMfHR8bFxYXFRMgJiAmHyAfIB8gHyAiIh4XFxgwLCQlKiUQEB8fJSIZHRc7JyghIB8fKSkeHRgjIysrISIkIyAiKysgIDUaIhwgGSMiHSAdHxsbGhgWEiIfICogHh0eGyIfIB8gIB0bHBscHBcXFxcYFxgTFRMVHR0dHxsfHR4bFxceHRsZGBcqKCkjJiIjIiMjJyolGyQbIxoqKSUlJSYkIyIlIh4dISAlJSUyFx8ZGxklIykoJicjGBgfFhYTHxsjIRgaGBcfIR8hHyEfISQiIB8fMC0kJRAQHx8lIhkcFzwsKicoIiIgHiMjISIeHicnIyMhIDUbIhwiHB4dGRkiIh0lICEbGxYSIiEgKB8dGx0bHx8dGx0bHRsYFxcXGBcYExQTFB0eHB8cHhsYFignJywtJyYmJCYiIiImKCQbIxoiGSoqKCYkJCUjIiIhIR4pHCEfISAkJDIXHxoaJSImJiYkJSIYGB4WFBYUEh8jGBgYJCEgHh8vKywrJCQREREZHBc3KyomJyEiIRgiIyEhHh4mJyIgICIeIh4eGx4iICAdGyUgIBwbHRERKCAkGx4bICAkGx4bHhsXFxgYGBgTFB8bHB4bGBYoJicrLSQmIiMmKCUhIioqKCYmJichIR4pIRwmJhcfGholIyImJiYkJSIbGBgfGB8iIBkvKywrIyQRGRwXFiI3KyomJyIjISIhIR4dHR4bHiEgIB0bJCAdIiAgHhodGh0bGBgWGBYYFhMnJywaGxgnKCYjJicnIiIeJCIpIRwmJhceGhoyLyUjIyUlJSQiGhkZGhkVFRgTHh0uKywrIyQRGRwWIiomNysqJiciIyYmISAfHSgoIiEiHiEgHRsgGxcSIiAeHh0cGhwcFxcYGBcgHR8cHBwaHBgnKCYjJCooJCIiHiEeKygXHhoaLyUjIyUlJSQiGhkZGhgeHS4rKiURGRwWIignKCooJiomPzcrKSYlICAoKCIhIB4=",
          "dtype": "i1"
         },
         "xaxis": "x",
         "y": {
          "bdata": "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",
          "dtype": "i2"
         },
         "yaxis": "y"
        },
        {
         "hovertemplate": "Vehicle Class=SUV - SMALL<br>Fuel Consumption Comb (mpg)=%{x}<br>CO2 Emissions(g/km)=%{y}<extra></extra>",
         "legendgroup": "SUV - SMALL",
         "marker": {
          "color": "#EF553B",
          "opacity": 0.6,
          "symbol": "circle"
         },
         "mode": "markers",
         "name": "SUV - SMALL",
         "showlegend": true,
         "type": "scattergl",
         "x": {
          "bdata": "GRsbGR8fFh8ZHBohHx8YERwWERscIiMfGRcYER0aGRcfHR4eHB8YERwWERofHhkYGRgbGRkeHBwbGxsaFhMeGxwaHBoaGB0dHx0eHB4ZHR0fHR4cHhkWFhUVGxkaGBwZGRoYHR0YGSIXIiMhISAXFiEZIR8cICAfGBsaIiEUFR4hHR8dGBYhHyUWFBsZIB4eHBocGRoYGhkYGRgZGRsbGR8gFx8ZJB0aHBohHx8fFRccHBQWIiMgGRcRFx0dGRsYGB8dHh4cHx8VFxwWJCIZGBkZGxkZFx4cHBsbHBoWHh4WHRwcFRwcGhoaHR8cHhwdGR0fHB4cHRkgHhcgHRYWFRUbGRoYHBkZGhgdHR0dJhgZIhoZFyIjISEfFxYgIRkhHxwiICAdGxoaIiEUFBcXHiAdIh0bIx8mGhkgHiAdGxobGRsZGiAbGSAZHhgZIBgZGhobGR8gFx8kHRoZHBohHyQiGx8XHxUcFhwUIiMgGRcRFyIeHR0dGRsYGCAdHh4cHxcfFRwWJCElJSIjIxoZGhkZGxkZFx8fHBsaFh4eFh0cHBUcHBoaGhwfHB4bHRkcHxweGx0ZIB4XIB0WFhUVGx0aGxgcGRkaGx0dHSYaGhkXFyIjIyEfHiAiHxsgHh0bGhoiIRcXHiAdIh0bIx8mGR8eJyAeGxobGRoZGx8aHRsYHxoaGh8aGxkXHyMcGRkbIiQgIhsdGxkeHhUXHBwUFiIiIBkXERciHh0dHRkbGBcfHh0VHRweHhUXHBYkIxoZGhkZHBkaFx4fHBsaFhgdHBwbHBkaGBweHB4bGR0eHx4eHB4cHhsZHSAeFyAdFhYVFR0aGxcZHhkbGh0bHR0mGhoaGRcXISEfHRscEx8YHCIfGyAeHxwaGiIhGxcXFyIfHiIdIh0bGx8fHh0nGhkfHBsaGh8aHRcdGR4eHhsbGSIkICIbHBsZIiYgJh0iIiAZFxEXIh4dIh4dHRkbGBcfHRUdGyEmHyYcJCMZGiQhIRkZFxwaGR8eHBojHRgdFRwcHBQbHBkaGB4fHh4cGBgbGBcgHh4XIB0WFhUVHRobFxkfGRsbHR0hGB0dJhoZGhoZFxcgICEeHx0bGBgfHBwgHh8bIB4fHhwaGiIgGxcXFxcjHh4iHSEbGx8eHSccFx0cHRwaGh8dGx4dFxsdGR4eHRsdGyAiHyAaHCAdGxkdGxkiJiEmHSIiHxkXERcfIh4dHBofHRYdHCEmHyYcJCMZGhkaJCEhHRkcGRgWHxwcHxodIx0YHx4cHR0bHBkbGB4fHh4gHh8dHRwYGBsYFx0cGR8ZGxsdHSEbGB0dJhoZGhoZGhogICEeHx0iHRsZGRUVHxwcHh8bIB8eHBoaIiAZGCMeIiEbGyQiLxseHR8cGxoaHx0bHh0XGx0YHyAfHxMTHB8TExwgHyIhGhwgHR0cGBgdHBwZIiAdIh8ZHyIfHRwcGiQiHzEwIR8cJSMZGRokISEdGhwfHBwdGh0cHR0YFh8eHB0dGxwZGxgeHx4eIB4fHR0bGBoYGRoeGBgXHBkfGhwZGRkbGxwbGBgVHR0mGhkdHRoaIyIhICEgIR4fHRsVFR4fGyAfHhwaGiIgGRgkHiIfIhsbJCIhLxgeHB8eHRs=",
          "dtype": "i1"
         },
         "xaxis": "x",
         "y": {
          "bdata": "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",
          "dtype": "i2"
         },
         "yaxis": "y"
        },
        {
         "hovertemplate": "Vehicle Class=MID-SIZE<br>Fuel Consumption Comb (mpg)=%{x}<br>CO2 Emissions(g/km)=%{y}<extra></extra>",
         "legendgroup": "MID-SIZE",
         "marker": {
          "color": "#00cc96",
          "opacity": 0.6,
          "symbol": "circle"
         },
         "mode": "markers",
         "name": "MID-SIZE",
         "showlegend": true,
         "type": "scattergl",
         "x": {
          "bdata": "HBwZGBwaIxkjGRkiFxcXFhEPIB8kHBceExQZEhkRIh0dGiIZGRwaGhkWERMREyQkICIoJSgdIyMmIiQiIx0cGxQdHBsUGRYWFBQjISAhFx8gJychIx8gIx4zJCMgHx0aOyEhLi0cGhoXGBYlGxcVEBUiIyIiHSAuLC8dGxolFxYWGR8ZLRYWKCclJyclIycnHBwgGBYWJR4aKCQSIR0YHSIdMi8lJygmKik7ISEdHRopHBkcJRsaIxojGxoiFRgYGBQRECAfJBsXHhMVGRIYEiIdHRoiHRobGhYkJCAjKCUoHSMjJiIjIiMhIRkcHBUaGhQbFhQXFhQWExMjIRkhIB8gJyciIyAgHjMkIyAfHho4JiUiISIiISEtLRsaGhcYFiYbGBUQFSUkIiEdIC0sMB0bGiYXFhYZIBkxFhYoKCUnIyUjJyYcGxkVGhclHyckEiQeHB0iHjIwJSgnJiopPCIiKSobIhkcJR8dJB0kGxoiFRkZFhQRECAkHBceExUZEiIYEh0dIhoeHR0bFxQkJCAjJSgYFiUfITchGRwVGhQbFhQXFhQWExMjISAhGR8gJycaHyIjICAeMyAeGiUeIyopJiYlIiEhITIxHxsdGxkbGhgWJhslJCIhLSwwHR8dHBoaJRcWFhkgGh4YMRcXFigoJScjJScjFSMgJhwbGRoXIiIhHyYfJR4nJColEiYlJB4cHSIeMjAlJygmKik/IyMbIiMgHxgeHBwbGhYZGRUUEhAPHx0eHB0aHhwdGxYUJB83IRgcFBoUGxYUFxYaFBYTExoeIB0dHBkyIh8dGiQeOCsoJiYjICAvMh0aGhgWJCkbJyIiMjAdGiYWFh0ZHBgwFxcWJiUkJCIjJCIiHhsaGCIiHx8iIh8fIB4fHR8dHx0mHyQdIiInIyAgKCUSJiAiHhsdIR0wLyYmJiknJiQ/IBsgHiIgHxggHxwcFR0WFhUTERAgHBcdIxweHB0bFhQnJiYrKiQfNxsWFBcWGhoTFBYTExMaHiAdHhwYMh8rKCYmIx4mIzIyHRoZGBYpIBsoIiIyGTAdGiYcGiIfGxgwFxcWJiUkJCIjIBkVIh8dGxoZHx8fHR8dHx0eHSUkHycdJyMiIiAgKCURJiAiGx0pJyYfHzo3JiYlKScmJD8jGyAeIiAfGCAdHRkdDiAdFBQZHSIcHx0aHhsdGRYUJyYrJh83GxYUFxYaExMTIDIfKCgjJjo6Ix4mIzIyHRoZGBYpIBspJTIdGDUfHhoZHycbGDAXFhYlJCMjICMgHRUdGxoZHx8fHR8dHx0eHSYjJiQjJx0nJCIiICAoJREmICIbHikmJh8fOjcmJSUpQDwjHx4iIB8YICAdGx0bGhoSIB4UFBgUFBcfHRofGh4ZGRgmHxsXFhYUGhYUExMSEyAyHygoJiMkOiMfKiQmJBoZIB8bJCglMhg1Hx4aGR8nGzIXFxYlJCMjICMgHRUaGSEhIB8fHyQjJx0oJyMRJh8eKSYlHx8eIiI6Nz88IB0=",
          "dtype": "i1"
         },
         "xaxis": "x",
         "y": {
          "bdata": "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",
          "dtype": "i2"
         },
         "yaxis": "y"
        },
        {
         "hovertemplate": "Vehicle Class=TWO-SEATER<br>Fuel Consumption Comb (mpg)=%{x}<br>CO2 Emissions(g/km)=%{y}<extra></extra>",
         "legendgroup": "TWO-SEATER",
         "marker": {
          "color": "#ab63fa",
          "opacity": 0.6,
          "symbol": "circle"
         },
         "mode": "markers",
         "name": "TWO-SEATER",
         "showlegend": true,
         "type": "scattergl",
         "x": {
          "bdata": "IhMSExITEBMQExATEB8bHyAXGhcYGS0pGxsWDxIQHB0dGBYUIB8dGhESEiUnJCQiIyIjIiMiIxoZGRgUHx0dGx8dHRssLBERIhMSExIRExIUERMRFBETER8cFB8fFxoXGBkUFRItKRsbGxsWFhAOEw8cHR0YFxQfHx0bEhIlJyUmIyMjIyMjIyMZGRkYFB8dHhodGx8dHhodGysrIhMSExITEhEfHx8XFxgZFBUSKicbFhsWFhUVGhYZGhYZEA8UEyQkFhcUGxchHRkZGRgUFB8dHhodGxgfHRgeGh0bKSkaIiIRDxQUHxcYFBURIyQQGxYbFhUVGhYZGhYZEA4PDhQTIyMWFhcTHBwYIRkZGRgeHR0aHh0dGioaIiIWExMfDRYYFBUjJBEfGxYaFhkfGxYaFhkVFQ8ODw4UExMTIyMWFhQUFBYXExwcGCEZGRkYFBMeHRsaHRoeHRsaHRoaIiIZHw0WFxQVEhIjJBEfGxYaFhkfGxYaFhkVFQ0NEhISEhISJCMVFRQWHBsYIBkZGRgVFBMUFBMeHRsaHRoeHRsaHRoiGRQTEx8hHg0XIyQRHxsaGRYWHxsaGRYWDQ0SEhISJCMUGCAZGRkYIA==",
          "dtype": "i1"
         },
         "xaxis": "x",
         "y": {
          "bdata": "wQBSAWIBUgFiAVABlwFbAZkBUAGXAVsBmQHRAO0A0QDIABYB/QAWARQBAgGRAJ8A7QD0ACYBpQFpAZAB6wDdAOQADQEkAUcBzQDPAOEA9gB8AWkBaQGvAKgAswCzAL8AuAC/ALgAvwC4AL8AuAD9AAgBBgENAUIB1ADkAOEA7wDUAOQA4QDvAJMAkwCFAYUBwQBSAWQBUgFkAXsBUgFkAUcBfgFbAXkBRwF+AVsBeQHUAOsARwHRAM8AFgH9ABYBDQECAUkBNAFrAZEAnwDtAO0A9AD0ACYBJgGcAcUBTgGnAegA3QDkABIBHQFHAc8AzwDhAPQAZwFnAa8AqACxAKwAugC6ALoAugC6ALoAugC6AP8ACAEIAQ8BQgHUAOQA2gD2AOEA7wDUAOQA2gD2AOEA7wCWAJYAxQBXAWoBVwFqAVcBagGGAdEA1ADTABoBGgETAQcBTwE5AWwBnQCpAPYAKAH2ACgBLgE3ATcB/gAuAQgB/gAuAQgBpAHEAUsBVAG3ALcALwEqAU8B/AAhAccA5QAEAQ0BDgEWAUkBTgHZAOgA3gD6AOYA9QAQAdkA6AAVAd4A+gDmAPUAnQCdAAUBxQDFAIQBwgFKAUoB0QAiARYBUAE4AYMBuwC5AJYB8gAoAfIAKAE3ATcB/QAuAQkB/QAuAQkBrAHNAbYBzQFLAVQBuwC+AC8BLwEqAVQB6gDtABMByAAFAQ0BDgEWAdsA5QDmAPkA2wDlAOYA+QCYAAUBxQDFADABUgFSAdEACgIpARYBUAE4AbsAuQCTAdcA8gAoAf0ALgEJAdcA8gAoAf0ALgEJATcBNwHGAdABxgHQAVABXQFRAV4BvAC9AC4BMAFCAUIBRAEuASMBUwHsAO4AEwHKAAUBDQEOARYBRAFgAdsA5QD5AAEB5gD5ANsA5QD5AAEB5gD5AAUBxQDFAAgB1QAKAisBHgFLAT4BfQFwAbsAuQCSAdcA8gAoAf0ALgEJAdcA8gAoAf0ALgEJATcBNwHnAe0BbgFyAW4BcgFyAXIBugC9ADsBOwFHAS8B7gDxAA4BzQAFAQ4BDwEXATsBRAFgAU8BTgFeAdsA5QD5AAEB5wD5ANsA5QD5AAEB5wD5AMUADgFNAVsBWwHVAMgA2AAKAiIBuwC5AIkB1wDyAP0ACQErASsB1wDyAP0ACQErASsB5QHtAXIBcgFyAXIBugC9AEcBDgHNAAUBDgEPARcB0AA=",
          "dtype": "i2"
         },
         "yaxis": "y"
        },
        {
         "hovertemplate": "Vehicle Class=MINICOMPACT<br>Fuel Consumption Comb (mpg)=%{x}<br>CO2 Emissions(g/km)=%{y}<extra></extra>",
         "legendgroup": "MINICOMPACT",
         "marker": {
          "color": "#FFA15A",
          "opacity": 0.6,
          "symbol": "circle"
         },
         "mode": "markers",
         "name": "MINICOMPACT",
         "showlegend": true,
         "type": "scattergl",
         "x": {
          "bdata": "EhIkJCQnJCQqJBYWFRUVFSQkIiMiIxwaGxobGhoaGhkcGhsaGhoYGBgYIh4uIR0SEyQnJCohJCEkISQVFRUVJSYjIyMjHBscGhwaGxoZGRkYGhoaGRoZGRgbGhsaGhkZGRgYGBgiHSwiHRITJCckKiEkISQhJCUnISAcGxwaGhkZGBsaGxocGhsaGRkZGBoaGhkaGRkZGBgYGCIdIh0VEyMnIyggJCAkJCYiICIeHhwdGx0bHRsdGx0bHRsdGx0bHBsZGRkZIR0gHRkVEyAkICQkJiIfIB4eHB0bGxkbGh0bHRsdGx0bGxoaGR0bHRsdGxoZHBsZGRkZFyEdHCAdGRUUEyAkHyIgJCYiHyIeHhwdGxsZGhodGx0bGxcdGx0bGxoaGR0bHRsdGxoZHBsZGRkZFiEdIB0ZFRQmIyIZGBgYIR0cIB0=",
          "dtype": "i1"
         },
         "xaxis": "x",
         "y": {
          "bdata": "ZwFnAbMAswC2AKYAswC2AJwAswAtASIBOwE2ATsBNgGzALMAvwC4AL8AuADoAPYA7QD2APIA/QD4AP0A/QACAegA9gD0APgA9gD7ABIBEgESARIBwQDaAI8AxADdAGcBVAG2AKYAtgCcAMYAswDGALMAxgCzADkBNAE5ATQBsQCsALoAugC6ALoA6AD0AOgA9gDrAPYA8gD7AP8ABAEGAQsB9gD9AP0AAgH9AAIB/wALAfIA9gD0APsA+AD/AAIBBgESARIBEgESAcEA3QCTAMEA3QBtAVoBtwCoALcAoADIALcAyAC3AMgAtwC1AKoAxgDLAO4A+QDsAPsAAwEGAQQBEAH1APwA+gD/APAA+wD2AAEBBAEJAQwBEAH7AAIBAQEGAf0ABQEEAQsBFgEWARYBFgHFAOAAxQDgAEIBWQG6AKsAugCjAMoAugDKALoAuACvAMQA0gDEANwA3QDtAOMA8QDiAPIA5ADzAOEA8gDmAPYA6ADzAOcA9gDkAPYA6QD2AAoBCwEKAQsByADkAMwA6AAPAUIBWgHKALYAygC2ALgArgDDANIAywDcAN0A7QDjAPEA8wAEAfkAAgHiAPIA5ADzAOEA8gDmAPYA+AABAfoABAHoAPMA5wD2AOQA9gD7AAoB6QD2AAoBCwEKAQsBHQHIAOUA7wDMAOgADwE4AUQBWgHLALoA2QDBAMwAuACvAMUA0gDFANwA3QDtAOMA8QDzAAQB+QACAeIA8gDkAPMA+AAeAeEA8gDmAPYA+AABAfoABAHoAPMA5wD2AOQA9gD7AAoB6QD2AAoBCwEKAQsBKQHIAOcAzADoAA8BOAFEAa4AvwDCAA8BEAEVARUByADnAO8AzADoAA==",
          "dtype": "i2"
         },
         "yaxis": "y"
        },
        {
         "hovertemplate": "Vehicle Class=SUBCOMPACT<br>Fuel Consumption Comb (mpg)=%{x}<br>CO2 Emissions(g/km)=%{y}<extra></extra>",
         "legendgroup": "SUBCOMPACT",
         "marker": {
          "color": "#19d3f3",
          "opacity": 0.6,
          "symbol": "circle"
         },
         "mode": "markers",
         "name": "SUBCOMPACT",
         "showlegend": true,
         "type": "scattergl",
         "x": {
          "bdata": "EhwcHhUVGRcYHxsVEhQRERYTFCkpJSUrKBwbGRYVGxkYFxkYHRsWExIeGxsSGxscGBkkJCIjIiMWIyQgHh4cHRQgKyEgHR8dFhYfGhgZHxwUEiAiHx8gIB0dGxsWHBocGxwXGBMVKColJSsmIx4fGhkXFx0WFxcaGBkYFx0bGxoWExMeGxsSIyAcHBgZJigmJyIhIiEiHxYgHh8eFCAhIB0fHR8aGBkfHhQSIh8gICAeHRwcFxsZHRsdGxwcFxgTFSopJSUrHh8aGRcWHBYUFxcfGRsZFhMTHBwYGSUnJSciICIgIR8WIhQjIB4dHx0dGhgZHx4UEiAiHh8fHxwbFxsZHRsdGh0dFxgTFB4cGxgYFxITKCclJCodHB0dGRkWFhQcHBUUExwaGhoaFhMTFxcXFx4eHBwYGSQmJCYiICIgIiAWIRQjIB4gICAbGR0dHB8bHiIeICEfHBsXFxsZHhoeGh0dFhgTFBMUHhwbGBgXEhMoKCUkIh4cHhsXFhwbFhMcGhoXIxkZFhMTGhsXFxcXFh0eGhsYJCYkJiIfIh8iHxYiIxQjHR4gIBsZHh0dHxseICEfHBYYHRodGh0aHR0dFhgWGBgZHhwbGBgWExMoJyUkIh4bHRsXFRUbGxYTHBoaFiMZGRYTIiEZGRgYGhsWFB0eGBoYJCYkJiIfIh8iHxYiIyQeHiAgGx4bGh8bHhcSIB4hHh8aFxgdGhwdHRoaHBwWFhgYFBQUFBcYHhwbGBcWExMoJx4bHRsXFRUbGxsaFhMRGhoWIxkZFxkZGBgaGxYdHhgaJiYkJCMW",
          "dtype": "i1"
         },
         "xaxis": "x",
         "y": {
          "bdata": "ZwHmAOYA1gAyATQBBgEdAQsB0QDtADoBZAFMAXwBfAEkAVIBPQGfAJ8ArwCvAJgAoQDrAPQACAEkATAB9AAJAQ0BGwH/AAsB3wD0ACIBWwFgAdgA9ADyAGAB7wDvAOsADQEGAbMAswC/ALgAvwC4ACkBuAC2AMgA1gDYAOgA3QBHAcgAsQDGAM0A3QDRAOEAJgEpAc8A/QANAQYB0QDrAFEBcAHNAMEAzwDRAMgAzQDdAOQA7QDtACYB6wD4AOsA7wDmABYBDwFSATsBoQCcAK8ArwCYAKoAuADYANQA9gACAR0BIAHkACsBGwEdAfYACwEIAQ0BGwHdAPQA9AD9ACIBWwFeAdgA9ADyAGIBugDKAOYA6wANAQYBrACjAKwApgC9AMYAvQDGAMEA1AAiAcgA2ADUANsATAHMAMkA0ADgANYA5gDTAAEBEQEKAdEA3gBRAXcBxQDTAM8A0QDTAN0A6ADuAO4AGwH0AAQB6AD1AOgA9gDuAO4AGgEWAVgBQQGdAKIAtACzAJkA2wDZAP0ACAEkASoB6gAwAU4BHAEbAdYAAgH2AAIBIQFlAWgB7wDpABMBDAG1AKwAtQCqAMEAywDBAMsAxwDWACYBxABLAbwAzQDfAOIA0gDnAOgAAwERAQoB0QDeAFEBdwHPAMUA2wDVANIA0wDuAPkAJAH1AAsB4ADyAOAA+gDkAOQAGwERAVcBRAHeAOwA+QASAREBHAFvAV0BpwCoALIAtgCeAOIA7wDmAOYAAwEPAS8BMwFEAe8A7QA1AUQBVQHpAP0AAwECAQIBIQFjAWYBIwEdASMBHQHeANoA6QDvABMBDAG4AK8AuACvAMQA0gDEANIAxADSACwBxwBMAbwAzQDfAMsAzADLAPgABAHfAOgA7wDRAPUA3gDFANsA0ADKANYA6wD4ACQBHgH1AAsB3gD/AN4A+QDjAOMAKwEYAVgBRAFYAUQB3ADrAPYAEgERARwBaQFcAacApgCzALYAwADbAOwA3gDwACMBLAHuAPAAMQFVAekA+wADAR4BuwAGAQYBIQFjAWYBAAH1ACMBHQEjAR0BMgHgANoA+wD4ABQBuACvALgArgDFANIAxQDSAMUA0gAsAb8AvQBMAbwA4QDdAMwAzAD3AAYB3gDmAOoA1QDxANwAzwDKANUA6wAmAREB4wAAAeMAAAHjAAAB5QDlAOUAKwEYASsBGAEOAQ0B3ADrAPYAFQEXASkBYwFdAacAqgCyALgAxADdAPIA4wD0ACEBNwE3AfMA8QAuAVUB6QD7AAMBJgG9AAYBBgEhAWIBwwDHAAcB/wAaARUB9QDtADIBUQHnAN0ADwEBARMBuACvALgArwDFANIAxQDSAMUA0gAnAb8AvQC2AOAA4ADNAM4A8wDeAPUA/ADVAPEA3AAjAXUBzADbAMgA2wDVAPkAIgERAecA/wDpAOcA5wD/AP8A6QDpACsBKwEYARgBQgFCAUIBQgEiAREB2wDrAPcAGAEaASgBYwFdAacAqgDdAPIA4gD0ACEBOAE/AfIA9ADwAPwALwFWAYgB+wADASYBvQAGAQYBHQEHAf8AGgEVAfUA7QAyAecA3QAPAQEBrgCuALgAuAC+ACwB",
          "dtype": "i2"
         },
         "yaxis": "y"
        },
        {
         "hovertemplate": "Vehicle Class=FULL-SIZE<br>Fuel Consumption Comb (mpg)=%{x}<br>CO2 Emissions(g/km)=%{y}<extra></extra>",
         "legendgroup": "FULL-SIZE",
         "marker": {
          "color": "#FF6692",
          "opacity": 0.6,
          "symbol": "circle"
         },
         "mode": "markers",
         "name": "FULL-SIZE",
         "showlegend": true,
         "type": "scattergl",
         "x": {
          "bdata": "GRcSIh8cGhYaFhYSHxYWGRgWHRsUIBsWGhUaExsUFBkbFhoVGhMZEhwUFC8fGBsUGRIVGR0hFxUQFxUQFRUaHR0iIRgZExYXGBUaGRkZFhkWFhISEREbGhMiHxwaFiAbFhYSHhYWGRgWHxsTGxsUFxoaExkZEhsbFBYXGhoTFRYTLx8YGxMZEhUXFB8iIhcVEBcVEBUVGh0dISIZFRgZExYXExUSGhkZGRYZFhYWFhISEBAaEyAcGRcXFx4ZGhkYFh8bExsbFBcaGhMZGxkSGxQWFxYaGhMVFhMvHBkTFxcRFRcUHyMhGBgVFRodHSEiGBUmHiMXFxQWFhUSEhcTGhYZGRkZFhYWFhISEBAaHxwcGBcXEx4ZGhkYFh4bExsXGhoTGBsWFxYaGhMVFhMwHBkTFxcRFxQYFiknJycnQEUfIiAYGBUVHCAiIBgVIiMeGBcXFBYWFRMTGBMRERERGxcXIBwbFxcTHx0aHhkZGRgWHhoTGxsUFxoaExgYEhsbFBYXFhoaExUWEzAZExcXERgYFRgWJyUkHzcpJycnJx0iHSIgQkUfIRgYFRwgIiAYFR4iIxgXFxUWFhgTExkdHBwbHBwaGRkYERERERogGxkYGBMZGRQaGBYdGhMbGxQXGhoTGBgSGxsUFhcWGhoTFRMZExcXEhgYFRgWJyUkHzgpJycnJx0hHyIgQkUfIiMYGBUcHSIYFxcWFhUYExcTGRoaGhoZGRgWFRkZGBEREREbGRUTFxcXExoUGhMbFxoYGxcWGhYSGBgVGBYnJSQfOCknJicdIR8iIENFJSU4IygiGBcXFxYVGBMXExkaGhoaGRkYFhUZGRgRERERICQc",
          "dtype": "i1"
         },
         "xaxis": "x",
         "y": {
          "bdata": "AgEgAWsB4ADRAOgA9gAkAfYAJAEkAWQB1AAkASQBBgEPASIB3QD0AOUAyADtACYB+wA0AfsA7QDtAN4APQECAe0AJgH7ADQB+wDtAAIB+wDrAN4APQGKANEADwHtAOUAAgH7ADAB/wDdAMQAHQEyARgBHQEyARgBMgEyAfsA3wDhAMEAxAAPAQQBTgEtARYBFAEwAfsA/wAEAQgBJAEEASYBKQFwAXABiQGJAfIAAgFYAeAA0QDmAP0AJgHuAO0AJgEmAWQB1gAmASYBBAELASIB1AD0AOgA7QDtAN4AGwH7APsA7QAIAQgB/gDtAO0A3gApARsB+wD7AO0ANAEpAVIBigDRABIB7wDrAAQBAAEyARYBRwHRAMEAwQAdATIBGAEgATIBGAEyATIB9gDfAOEAxADBAAQBMgESAQIBTgErASABVwEwAWUB+wD/AAYBCAEkAQYBJgEpASYBKQFyAXIBjAGMAf8AWAHRAO4ABwEbARsBGwHeAAcBAQEHAREBLgHXAPgA7wDwAPAA5QAhAQEBAQHzAA8B8AAPAQgB8ADlAC4BIQEuAQEBAQHzADkBLgFTAYwA7QAEAfgAJQEjAQ8BOAEdAUwB1gC/AMwAEwEXATkBOQH7AOQA4wDHAMUAFgE+Aa8A3gDBACUBHwFCASwBLgE5AWkBZwEfAVQB/wAqAQsBBgELAQ8BLAEvASwBLwF1AXUBkwGUAf8A1QDuAO4AEQEkASQBYwHfAAcBAwEEARABKwHgAPkA8ADyACEBAgECAfgADwHyAC4BIQEuAQIBAgH4ADgBLgFTAYoA7gAEAfkAJQEjAQ8BHgFMARcBMgGiAKoAqgCnAKcAZwBgANgAwgDPABQBGAE5ATkB7QDPAMUAzAAXAT0BxgC+AOAAGQEgAR8BQQEsAS0BOQFdAWcBGAFeAYYBhgGQAZAB9wAiASIB0ADrAPEAJAEbAWMB2QDjAPoA4AAHAQUBBAEQAS4B4AD+APUA8gDyAOoAIQECAQIB+AAPAQ8BDAHyAPIA6gAuASEBLgECAQIB+AA4AS4BUwGKAAQB+QAmASMBDwEaARQBOAEXATIBqACxALkA1gB2AKIAqgCnAKoApwDgAMIA4gDGAM0AZgBgANQAygAUARgBOQHtAM8AxQDMABcBPQHgAMYAvgAYASIBHwFBASwBLQETAWQBYwEJAeUA6wDrAPIA6wDrAPkABQEFARcBjQGNAYMBgwH8AM8A8QANARoBGgFjAQsBBQFEAQMBEAEuAeEA/gD1APIA8gDqACEBAgECAfgADwEPAQwB8gDyAOoALgEhATABAgECAfgAOAFTAQ4B/gAmASMBCwEaARQBOAEXATIBqACxALkA1gB1AKIAqgCnAKoApwDgAM0A2gDIAM8AaABgANQAxgC+ABQBGAE5Ae4A5gDHABkBIQEfASsBLQFBARMBZAEeAWMBCQH6AP0A/QD6AAUBBQERAScBOQEFAQUBFwGNAY0BfgF+AfQACwE0AVMBIgEiASIBYgEDAUQB/wD2APIAIQECAQ8B8gAhATEBAgExAXABGgEUATgBGAE3AaoAsQC5ANYAdQCiAKcArACnAN8AzQDaAMcAzwBjAGAAtQC2AHUAvgCpAMcAGQEhAR8BHgEtAUEBEwFkAR4BYwEJAfoA/QD9APoABQEFAREBJwE5AQUBBQEXAZABkAF+AX4BzQC5AOoA",
          "dtype": "i2"
         },
         "yaxis": "y"
        },
        {
         "hovertemplate": "Vehicle Class=STATION WAGON - SMALL<br>Fuel Consumption Comb (mpg)=%{x}<br>CO2 Emissions(g/km)=%{y}<extra></extra>",
         "legendgroup": "STATION WAGON - SMALL",
         "marker": {
          "color": "#B6E880",
          "opacity": 0.6,
          "symbol": "circle"
         },
         "mode": "markers",
         "name": "STATION WAGON - SMALL",
         "showlegend": true,
         "type": "scattergl",
         "x": {
          "bdata": "GyofGhkZGRETICImJRggHx8gIyEhIyEgHR0kIRkXISIeHiYnHCofHiAiLConGCAfHyAjICEhJCUiIiAdHSUiIiIqKhoiHBkdKiAjJiIjIiMeICIsKicYIB8gICIgJCQiIiAlIiIiGyIcHRkZHigfJCYiIh4rKCYlJSIiIhg7PDQgICAhIiAjIyIiICMfIiYfHiIiHiIeHhseHiggJCYiIx4rKCYlJSIiIjs8NCEgIB8fIx8iJh8eHSEiHR4dHhseHiAeKygmJCIhOzw0ISIgIiEaIh8eHx8jHyIlHx4dJSYdHiIeHiAeKygmJCIhOzw0JCAaHiIfIiUfIB4e",
          "dtype": "i1"
         },
         "xaxis": "x",
         "y": {
          "bdata": "8gC1ANEA/QAEAf8ABgF+AVQByADBAKwAsQAPAc0AzwDRAMoAuADGAMYAugDGAMgA5ADkALMAxAACASABxAC9ANoA2ADGAMQA5AC1ANEA2ADIAL8AkwCcAKgAEgHNAM8AzwDKALgAzQDGAMYAtgCxAL0AvwDKAOEA4QCvAMEAwQC9ALQAswD9AMEA6AACAegAtwDRALwArwDDALsAwwC9ANoAywDCAJYAngCrABcBzgDQANAA0AC/AMsAugC3AMIAwgDQALEAxQDBAMAA7wDBAOkA5wADAQMB2QC9ANUAuACuAMUAwgDdAJoApACuALQAtADDAMIAwgAYAXIAbgCBAM0A0ADOAMcAwgDNAL0AvADHAMUA0QC/ANgAxQCwANMA3ADAAMIA3ADGANsA3QDxANwA2QC4ANAAuACuAMEAvgDdAJcApgCuALQAtADDAMIAwgByAG4AgQDHAM0AzgDXANYAvwDYAMQAsADTANwA4QDHAMAA4ADaAOIA3QDxANwA3QDPAN0AlwCmAK4AtQDBAMcAcgBuAIEAxwDGAM4AwADJAP8AxADXAN0A1wDWALwA2QDGALEA0wDcAOEAsgCsAOAA2gDFANsA2gDOAN0AlwCmAK4AtQDBAMgAcgBuAIEAvADOAP8A3QDAANkAxgCyANMA0ADbANwA",
          "dtype": "i2"
         },
         "yaxis": "y"
        },
        {
         "hovertemplate": "Vehicle Class=SUV - STANDARD<br>Fuel Consumption Comb (mpg)=%{x}<br>CO2 Emissions(g/km)=%{y}<extra></extra>",
         "legendgroup": "SUV - STANDARD",
         "marker": {
          "color": "#FF97FF",
          "opacity": 0.6,
          "symbol": "circle"
         },
         "mode": "markers",
         "name": "SUV - STANDARD",
         "showlegend": true,
         "type": "scattergl",
         "x": {
          "bdata": "FRoZFBIYFBcWEw4RDRcWFA8UDxQPFA8XFhQXEhINHBYYEhcRGRcWFxYUDxQPEw4RDRQPFA8hExMdFxISExITDRcXEBMTDhcXEBITDRQRFhINEBAYExISFxIbFBIRIBcVHBQVGhQTFhYZIiIRFhwWFRoTIBkUExkUFxYUFBMUFxYWEBUPFhAWEBcWFxITFBQbGBIWFxEYFxYXFhYQFhAUFBYQFQ8TFCATHRcSExIUFxMNEw0XEw4UERYUFBAPGBQSERsYFBIRIBwXFBYWGCEiERccEyAZFBMZFBUVFBcWFhYQFRUPFhYQFRUQFRUZFBQUGhgSGRYWEBYWFRUVFhYQFRQVEBYWEBUUFQ8gExkUHRIUFx4TExceExQSIxUUFA8NERITEBgUEh8eGBgUGB0WFxQUFhYYISIRFx0cHBsaGRITHhkVExkVFRUUFhYRFRUPFhYRFRUQFRUZFBQUGhgSGRYWEBYWFRwZGxgWFhEVFRAUFhYRFRUPFB8TGRQSExIkFRQTExMPDhgYEhMREBgVFhMSGRcYFhQUFRUbGxsiERccHBsaGRIeGRUTGRUTGRgUFhYQFRUPFhYQFRUQFBsaGBkUEhcVGhcRGRYWEBYWFRwZGxgWFhAVFRAUFhYQFRUPExMcGRQSEBMSJBUVFBMQDhcXEhMSEBcVFhMSGRYXGBQUFRUbGxsiER0bGhkXFRsVGBYTGhYZGBQVFRAUFA8TFRUQFRUPFBkYGRQSFxYZFRYQFhYVHBkbGBUVEBUVDxQVFRAUFA8TExkUHBIQERUbFx0WEhcdFhMSJCMVFRUUEhIRFxYSExIRFxUTEhkYFBsVFRsbGyIRFxwaFhYVEBsWFhsWGhUVGRgUFRUQFBQPExUVEBQUDxQZGBkUEhcWGxgdHRwaHBkVFRAUFA8UFRUQFBQPExsZEhkUEBIRFRsaHRYWExIZHRYUExEkIxgVFRUSEhEREhkYFBsUFCoqER0a",
          "dtype": "i1"
         },
         "xaxis": "x",
         "y": {
          "bdata": "MAEiAf8AQAFyARIBRAEbASIBUgFCAXkBYgEbASYBPQEmAT0BJgE9ASYBPQEmARsBIgFLARYB+gBwAVoB6wArARIB/gAgAQsBCAEWASYBGwEpAT0BJgE9ASYBUgFCAXkBYgE9ASYBPQEmAcQAWQFUAQsBFgH6AGsBTgFiAVsBVgEdAR0BFgFZAVIBSwEbARsBFQFiAVsBVgFAAXwBJgFwAVoBowGXAUQBXgFnAWsBFgEAARYBRwFkAXwBygAiATkBFQFSATYB+wBGAWYBKQEpAQgBvwC9AIABKAEVASYBMgEiAVAB6wD/AD0BUAH/AD0BGwEiAUIBPQFOAUkBGwEmASQBEwEyATIBJAETASsBGgEbASIBFgH6AFIBRwFLAe8AEgECASsBIAEOAQsBFgEmARsBIgEkARMBKwEaAUIBPQEkARMBMgEyAU4BSQHIAFIBCwEWAfoAUgFrAUkBGwFbAVYBWwFWAR0BUgFLAUABfgEmAUcBSwGjAaoBRAFCAWcBdwEWARQBRwFnAX4BygAVAR4BRwEmASYBCwHEAMEAfgEkARUBVwHpAA0BQgFXAQ0BQgE7AUMBRQEfASwBMAEwASABOAE4AT0BMAEwASABNgE2ASwBOwFDAQkBSQFOAVIB/QAYAQgBCQExAScBGgEqAS8BQgE7AUMBMAEwASABNgFDATYBLAEwATABIAE4AU4BOAE9AcwAYgEJAUkBCwFyAVABIwH+AGQBZAEjAf4AWAFCAXMBugBCAU4BUwGhAdwBcQFuAWsBkQFCASoBbQH2AP0AGgEZAU8BFQEOASwBHgFOAVABKgEqARABxgDDAH4BJAEOAegA7wD3AP0ABAFyAVUB+QAOAUABVQEOAUABOwFCAUsBMQExARwBOAE4AT0BMQExARwBNgE2ASsBOwFCAQkBSAFNAVEB/gAZAQgBCgExASgBHAEqAS8BQQHvAAkB8wAPATEBMQEcATYBNgErAUoBMQExARwBOAE4AT0BTQHWAGMBCQFIAXABVQF0AbkAQQFNAVMBVAFaAZ0B0wEZARkBawFrAXEBkQEUAT4BMgFbAWoBDAEZARkBKAFOAU4BNgE2AfsA9wDyAMEAfAEfAegA7wD5AAIBBAFyAfYADgE9AVUBDgE9AVUBBwEVAUkBMQExAR0BOQE4AUEBMQExAR0BNgE2ASsBRQH2AAIBFAEJAUsBawEjATcB/gAbAQ0BCwExASsBIAEqAS8BQgHvAAwB8wATATEBMQEdATYBNgErAUUBMQExAR0BOQE4AUEBVAFiAQwBCQFLAXABnQFVAXMBuQBCATYBVAFaAaMB2QEaAR0BbAFlAW8BmgEaAT0BMQFaAWoBDAEoARkBGQFOAU4BNAE0AfsA9wDyAMEAgAHjAPAAAgEEASYBOwH1ADoBEAEmAVUB/gAmAQcBFgFIAToBOgEqAVABUAE9AVQBOgE6ASoBQQFBATEBRQEFARUBCQFLAWsBJQEzAQsBNwErASABKgEvAUIB7QAMAfgAEwE6AToBKgFBAUEBMQFFAToBOgEqAVABUAE9AVQBYgEJAUsBDAFwAZ0BgAE3ARcBIwEAATEBbQEjAQABJgFVAXMBuQC+AEIBOgFEAUoBaAFoAYwBJAEpAXIBZQFyAXoBGgE4AWMBbAEJARMBSQH0ADQBNAH6APgA8gDBAIABHgHpAPoAKAEoATsBkQH1AC4BLgH1AC4B/gA+AT4BBwEVAU0BOgE6ASoBUQFRAT8BVwE6AToBKgFFAUUBMQFHAQUBFAEJAUsBawEmATQB8QAWAeEA4QDuAAEB6AANAToBOgEqAUUBRQExAUcBOgE6ASoBUQFRAT8BVwH6AAkBaAEJAUsBnQFwAYABNwEXAQIBAAExATEBYgFtAQgBAAEmAVABUQGLAbkAvgAYATsBRAFEAWgBaAGMAXoBagENARYBSQH0AEEBQQGeAJwAgQHoAPgA",
          "dtype": "i2"
         },
         "yaxis": "y"
        },
        {
         "hovertemplate": "Vehicle Class=VAN - CARGO<br>Fuel Consumption Comb (mpg)=%{x}<br>CO2 Emissions(g/km)=%{y}<extra></extra>",
         "legendgroup": "VAN - CARGO",
         "marker": {
          "color": "#FECB52",
          "opacity": 0.6,
          "symbol": "circle"
         },
         "mode": "markers",
         "name": "VAN - CARGO",
         "showlegend": true,
         "type": "scattergl",
         "x": {
          "bdata": "ExIOEQ0RDREMEQ0QDRMSDhENEQ0RDA==",
          "dtype": "i1"
         },
         "xaxis": "x",
         "y": {
          "bdata": "WwFuAU4BfAFYAXwBWAF8AWoBdQFeAYwBaAFbAW4BTgF8AVgBfAFYAXwBagE=",
          "dtype": "i2"
         },
         "yaxis": "y"
        },
        {
         "hovertemplate": "Vehicle Class=VAN - PASSENGER<br>Fuel Consumption Comb (mpg)=%{x}<br>CO2 Emissions(g/km)=%{y}<extra></extra>",
         "legendgroup": "VAN - PASSENGER",
         "marker": {
          "color": "#636efa",
          "opacity": 0.6,
          "symbol": "circle"
         },
         "mode": "markers",
         "name": "VAN - PASSENGER",
         "showlegend": true,
         "type": "scattergl",
         "x": {
          "bdata": "EQ0RDBAPCxAPCxEMDQ8MEQ0RDBAPCxAPCxAPDwsQDw8LExMOEA8PCxAPDwsPDhMTDQ8ODw8TEw4PDxMTExMTDxMO",
          "dtype": "i1"
         },
         "xaxis": "x",
         "y": {
          "bdata": "fAFYAXwBagGeAbABmwGjAbMBnQGCAXAB6AGlAX4BfAFYAXwBagGeAbABmwGjAbMBnQGeAbABsAGeAaABtQG1AaIBUgFUATsBngGwAbABngGgAbUBtQGiAbkB0QFWAWQBWQG5AdEBtgG9AVgBYgFXAbYBvQFZAWIBWgFjAVQBPAFgAUgB",
          "dtype": "i2"
         },
         "yaxis": "y"
        },
        {
         "hovertemplate": "Vehicle Class=PICKUP TRUCK - STANDARD<br>Fuel Consumption Comb (mpg)=%{x}<br>CO2 Emissions(g/km)=%{y}<extra></extra>",
         "legendgroup": "PICKUP TRUCK - STANDARD",
         "marker": {
          "color": "#EF553B",
          "opacity": 0.6,
          "symbol": "circle"
         },
         "mode": "markers",
         "name": "PICKUP TRUCK - STANDARD",
         "showlegend": true,
         "type": "scattergl",
         "x": {
          "bdata": "GBEWERQWEBYQFBYWEhQVEBcRFxETDhMOFRAVEBMOEw4QGBEWERQWEBYQFBUSEBMVEhQbFhAcGBEZFRQSExEYERYQFBcQFhAUGhgZEhUQGBcXERQPGBEWEBQXEBYQFBIQGBgRGRMVHB0WFhASFBsUExMRFhQYERYQFhQWEBYQFhoYGRYYEhUQExAYFhcUFxEUDxMPFhQYERYQFhQWEBYQFhgRGRMVHB0WEBIUGxQSExEWFhQYERYRFhQUFxAWEBYaGRgZGBcYEhUQExAYFxcXFxYXERQPFA8TDhMWFhQYERYRFhQUFxAWEBYZFRUUGBETFRsWEBIUGhQSExEYERYWERYUGBcQFhYPFBQWGxoaHh0aGhMZGRMYFxcXFxAWFhAUFBAZGBgaGh0YGBIXFxIWFhYWFRAUFBAUEw4TGBEWFhEWFBgXEBYWDxQUFhkVFRQYERMVGxYQERQaEhMRGRUUFA8XGBQTFBQPExYVFRUUGxkZHh0aExkTGBcWFxAWEBQQGRgYGhodGBIXEhcWFhYVEBQQEw4UGhkVFBQPFxgUFBQPFRUUFBUUGRUVFBobFRcZFBYbGBETFRoWEBEUEhMRGRggFRQUDhcYGB4UExQTDhMWFhYVExQbHR0aExYWEBYQFRAYGhwYEhYWFRAUGhkYHxUUFA4XGBgdHRQUEw4TFhUWFhQUGRcWGBcVFR8aGxUXHRkUFhgVFhQSEQ==",
          "dtype": "i1"
         },
         "xaxis": "x",
         "y": {
          "bdata": "DwENASQBDgFEASIBHQErARUBSQEkASYBbgE9ATQBkgEbAQgBGwEIAVABOwFQATsBNAEgATQBIAFXAUABVAE+AZ4BDwENASQBDgFEASIBHQErARUBSQE0AWcBjgFUATkBYgFEAR4BIgEdARMBEgENAQQBNgFJAWQBWwF1ARIBEgEkARMBQgEgASABKwEYAUcB+AAUAQgB+wAyAR4BFAEgAR0BDQFAASsBEgESASQBEwFCASABIAErARgBRwFyAYwBEgESAQ0BBAFUATkBEQEJASIBIgEdAWIBRAEeAUkBXgFbAX4BKgFIARgBHAEqAR4BMwFMASgBLQEyAScBMAEAARYBBwEvARABBQE1ASQBVQElARMBLwEgAUQBJAEWAUQBMgFbATYBKgFHARgBHAEqAR4BMwFMASgBLQEyAScBMAEXARcBCAFcAT8BEAEIASYBKAFqAUoBGwFPAWgBXwF8ASkBNQFEARcBHAEqARwBMwFHAUoBJgEmATMBOwEvAQABBwEQAQgBEgEiARABAgE2ASMBVAEjARQBJQEgARwBIAEqASUBGQFDATEBSgEyAVsBRgFTASkBNQFDARcBHAEqARwBMwFHAUoBJgEmATMBPQEvAQgBOAE7AU0BGAEbAVoBPwEWASYBLAFpAUgBIQFOAWYBXQF6ARYBHAEqASoBGwEzAUQBFgEmASgBMwEzATUBRAFLATAB+QD9AAIBAAEEAQMBAQH4AAcBBwH4ABoBIAElASQBHgEgATQBMwEgAUQBQwEgAQkBFQEQASABIAEKARUBEQEHASMBIwEGAScBKQExATABNwEsAUQBRAEsAU4BUwFFAVMBFgEcASoBKgEbATMBQwEWASYBKAEzATMBNQFEAUsBMAEIATgBOwFLARgBGwFaAT8BFgEmASwBfgFIASEBcwFiAX8BBQE8AUYBSQEyASIBEwFJAVsBSQFTAUIBXgEyAUABQQE9AUUB+QAEAQQBAAEEAQAB9wAHAfcAGQEjASoBHwEiATQBIgFGASMBDAEVARUBHwEfAQoBEQEHASMBBwEnAS8BNAEoATgBLAFGASwBWwFDAVABAAEFAT0BRgFJATIBJgEVAUkBSgFTAUMBPAFAAUYBTAE9AUUBBwE4ATsBSwH9APYAQAEiAQQBRQEuARYBGAEbAVoBPwEhASYBLAF+AUgBcwFiAX4BBgETAe4APgFGAVMBRgEeARMBGAH8AEsBXQFLAV4BVgFiAS8BKAEzAUEBZQFMAfkACAEIAf4A9QAqASkBJQExASYBPwEsARUBIgEOARIBCQEwASgBPQEoAVABAAEGARMB9QA+AUYBUwFGASABEwEYAQkBCQFLAUsBWAFFAWIBMAE6ASoBMwFGAUwBDQEiASgBEQEfATkBOQHzAP0A9QBAASIBBAEEAUUBKwEYAT8BJgFKAXMBfQE=",
          "dtype": "i2"
         },
         "yaxis": "y"
        },
        {
         "hovertemplate": "Vehicle Class=MINIVAN<br>Fuel Consumption Comb (mpg)=%{x}<br>CO2 Emissions(g/km)=%{y}<extra></extra>",
         "legendgroup": "MINIVAN",
         "marker": {
          "color": "#00cc96",
          "opacity": 0.6,
          "symbol": "circle"
         },
         "mode": "markers",
         "name": "MINIVAN",
         "showlegend": true,
         "type": "scattergl",
         "x": {
          "bdata": "GBEYERsYHR0ZGRIZFxcYERgRGxgZFx0dGxkSGRcYERgRGxgZFx0dGRcaGxgRGhgZFx0dGhgaGxgRGhsYGRcaGBobGBEaGxkaGBsbGBsZGhg=",
          "dtype": "i1"
         },
         "xaxis": "x",
         "y": {
          "bdata": "FAENAQ8BCAH0ABQB3wDhAP8ABgH+AAQBHQEWARQBDQEPAQYB9AALAQYBIAHdAOEA8gAGAf4ABgEgARoBFwEUAQ0B+gATAQ0BKAHiAOUACwEiAQEB+QAUARIB+wATAQ0BKAHiAOYA/wASAQMB+QAUARIB/AD3ABMBDQEoAQABEgEDAfkAFAESAfwA9wAQAf4AEgH5APkAFAH4AA8BAwESAQ==",
          "dtype": "i2"
         },
         "yaxis": "y"
        },
        {
         "hovertemplate": "Vehicle Class=SPECIAL PURPOSE VEHICLE<br>Fuel Consumption Comb (mpg)=%{x}<br>CO2 Emissions(g/km)=%{y}<extra></extra>",
         "legendgroup": "SPECIAL PURPOSE VEHICLE",
         "marker": {
          "color": "#ab63fa",
          "opacity": 0.6,
          "symbol": "circle"
         },
         "mode": "markers",
         "name": "SPECIAL PURPOSE VEHICLE",
         "showlegend": true,
         "type": "scattergl",
         "x": {
          "bdata": "Hh0cGxwXHh4eHRwbHBceHR4eGxsUGhoTGhoTGRYcGh4dHhsUGhMWHBseHR4bFBoTFhoZHh0eHhYbHx8XGhYaGxkeHR4WHhsfHxcaHh0=",
          "dtype": "i1"
         },
         "xaxis": "x",
         "y": {
          "bdata": "2gDkAOgA7wDrABkB1gDYANgA5ADrAO8A6AAZAdgA4QDcAN8A8wDzAOkA/AD8APAA/AD8APAADAEqAekA+ADcAOcA3AD0AOoA/QDyACoB8AD4ANwA6ADaAPQA6gD7APEAKgH7AAwB2gDoANsA2wDRAPcA1gDWANAA+wApAfsA+AAMAdoA6ADbANEA2wD3ANYA1gDQAPsA2gDoAA==",
          "dtype": "i2"
         },
         "yaxis": "y"
        },
        {
         "hovertemplate": "Vehicle Class=STATION WAGON - MID-SIZE<br>Fuel Consumption Comb (mpg)=%{x}<br>CO2 Emissions(g/km)=%{y}<extra></extra>",
         "legendgroup": "STATION WAGON - MID-SIZE",
         "marker": {
          "color": "#FFA15A",
          "opacity": 0.6,
          "symbol": "circle"
         },
         "mode": "markers",
         "name": "STATION WAGON - MID-SIZE",
         "showlegend": true,
         "type": "scattergl",
         "x": {
          "bdata": "Hx4bFRUzHh4aFR4dHTIfHhUaHR0yIBodHTEgHh4VHR4ZHR0xHh8dHBYdGhwbER4cFhwbERE=",
          "dtype": "i1"
         },
         "xaxis": "x",
         "y": {
          "bdata": "1ADWAPIANgE2AX4A1gDWAPgAMgHYAOEA5ACBANYA3AA2Af0A5gDoAIMA0gADAeYA6ACHAMwA2wDdADgB4QDeAAUB5gDoAIcA2ADWAOAA7wArAeEA/gDwAPIAfgHbAOkAKwHwAPIAggGCAQ==",
          "dtype": "i2"
         },
         "yaxis": "y"
        },
        {
         "hovertemplate": "Vehicle Class=PICKUP TRUCK - SMALL<br>Fuel Consumption Comb (mpg)=%{x}<br>CO2 Emissions(g/km)=%{y}<extra></extra>",
         "legendgroup": "PICKUP TRUCK - SMALL",
         "marker": {
          "color": "#19d3f3",
          "opacity": 0.6,
          "symbol": "circle"
         },
         "mode": "markers",
         "name": "PICKUP TRUCK - SMALL",
         "showlegend": true,
         "type": "scattergl",
         "x": {
          "bdata": "FxkWFRYaHBYYGBUUGxoZGRgbGhkZGBcZFhUVGRsWFxcVFBsaHhkZGxgbGh4ZGRsYFxkWFRUZGRgYGBcWGhoeGBkbFxgUGhoeGBkbFxcZFhQVGRkYGBgWFhoaHRgZGxcYFBoaHRgZGxcXGRYUFRkZGBcWFhoaHBgZGxcXFBoaHBgZGxcXFhQVGRgYFhYaHBgZGxcXFBocGBkbFxkYGBYW",
          "dtype": "i1"
         },
         "xaxis": "x",
         "y": {
          "bdata": "GwEEASQBOwEtAfsA6wAtARIBDwEyAUIB8gD4AAQBBAEPAfIA+AAEAQQBDwEbAQQBJAE7ATIBAgHyAC0BGwEbATQBQgH3AP0A/AAJAQkBFQEXAfcA/QD8AAkBCQEVARcBHQEKASwBQgE5AQUBCwESARcBGAEkASwB/AD+AP8AEgEHARgBHgE7AUsB/AD+AP8AEgEHARgBHgEeAQwBMAFGAT0BBwEMARIBFwEbAS0BLAH9APsAAQESAQoBFwEgATsBSwH9APsAAQESAQoBFwEgASIBDAEsAUYBPQEHAQwBEgEbASsBLAH9APsADgESAQsBGwEeAUYBSwH9APsADgESAQsBGwEeASIBKwFGAT0BBwESARYBKwEsAfwADgERAQkBHAEeAUYBSwH8AA4BEQEJARwBHgEHARIBFgErASwB",
          "dtype": "i2"
         },
         "yaxis": "y"
        }
       ],
       "layout": {
        "height": 500,
        "legend": {
         "title": {
          "text": "Vehicle Class"
         },
         "tracegroupgap": 0
        },
        "template": {
         "data": {
          "bar": [
           {
            "error_x": {
             "color": "#2a3f5f"
            },
            "error_y": {
             "color": "#2a3f5f"
            },
            "marker": {
             "line": {
              "color": "#E5ECF6",
              "width": 0.5
             },
             "pattern": {
              "fillmode": "overlay",
              "size": 10,
              "solidity": 0.2
             }
            },
            "type": "bar"
           }
          ],
          "barpolar": [
           {
            "marker": {
             "line": {
              "color": "#E5ECF6",
              "width": 0.5
             },
             "pattern": {
              "fillmode": "overlay",
              "size": 10,
              "solidity": 0.2
             }
            },
            "type": "barpolar"
           }
          ],
          "carpet": [
           {
            "aaxis": {
             "endlinecolor": "#2a3f5f",
             "gridcolor": "white",
             "linecolor": "white",
             "minorgridcolor": "white",
             "startlinecolor": "#2a3f5f"
            },
            "baxis": {
             "endlinecolor": "#2a3f5f",
             "gridcolor": "white",
             "linecolor": "white",
             "minorgridcolor": "white",
             "startlinecolor": "#2a3f5f"
            },
            "type": "carpet"
           }
          ],
          "choropleth": [
           {
            "colorbar": {
             "outlinewidth": 0,
             "ticks": ""
            },
            "type": "choropleth"
           }
          ],
          "contour": [
           {
            "colorbar": {
             "outlinewidth": 0,
             "ticks": ""
            },
            "colorscale": [
             [
              0,
              "#0d0887"
             ],
             [
              0.1111111111111111,
              "#46039f"
             ],
             [
              0.2222222222222222,
              "#7201a8"
             ],
             [
              0.3333333333333333,
              "#9c179e"
             ],
             [
              0.4444444444444444,
              "#bd3786"
             ],
             [
              0.5555555555555556,
              "#d8576b"
             ],
             [
              0.6666666666666666,
              "#ed7953"
             ],
             [
              0.7777777777777778,
              "#fb9f3a"
             ],
             [
              0.8888888888888888,
              "#fdca26"
             ],
             [
              1,
              "#f0f921"
             ]
            ],
            "type": "contour"
           }
          ],
          "contourcarpet": [
           {
            "colorbar": {
             "outlinewidth": 0,
             "ticks": ""
            },
            "type": "contourcarpet"
           }
          ],
          "heatmap": [
           {
            "colorbar": {
             "outlinewidth": 0,
             "ticks": ""
            },
            "colorscale": [
             [
              0,
              "#0d0887"
             ],
             [
              0.1111111111111111,
              "#46039f"
             ],
             [
              0.2222222222222222,
              "#7201a8"
             ],
             [
              0.3333333333333333,
              "#9c179e"
             ],
             [
              0.4444444444444444,
              "#bd3786"
             ],
             [
              0.5555555555555556,
              "#d8576b"
             ],
             [
              0.6666666666666666,
              "#ed7953"
             ],
             [
              0.7777777777777778,
              "#fb9f3a"
             ],
             [
              0.8888888888888888,
              "#fdca26"
             ],
             [
              1,
              "#f0f921"
             ]
            ],
            "type": "heatmap"
           }
          ],
          "histogram": [
           {
            "marker": {
             "pattern": {
              "fillmode": "overlay",
              "size": 10,
              "solidity": 0.2
             }
            },
            "type": "histogram"
           }
          ],
          "histogram2d": [
           {
            "colorbar": {
             "outlinewidth": 0,
             "ticks": ""
            },
            "colorscale": [
             [
              0,
              "#0d0887"
             ],
             [
              0.1111111111111111,
              "#46039f"
             ],
             [
              0.2222222222222222,
              "#7201a8"
             ],
             [
              0.3333333333333333,
              "#9c179e"
             ],
             [
              0.4444444444444444,
              "#bd3786"
             ],
             [
              0.5555555555555556,
              "#d8576b"
             ],
             [
              0.6666666666666666,
              "#ed7953"
             ],
             [
              0.7777777777777778,
              "#fb9f3a"
             ],
             [
              0.8888888888888888,
              "#fdca26"
             ],
             [
              1,
              "#f0f921"
             ]
            ],
            "type": "histogram2d"
           }
          ],
          "histogram2dcontour": [
           {
            "colorbar": {
             "outlinewidth": 0,
             "ticks": ""
            },
            "colorscale": [
             [
              0,
              "#0d0887"
             ],
             [
              0.1111111111111111,
              "#46039f"
             ],
             [
              0.2222222222222222,
              "#7201a8"
             ],
             [
              0.3333333333333333,
              "#9c179e"
             ],
             [
              0.4444444444444444,
              "#bd3786"
             ],
             [
              0.5555555555555556,
              "#d8576b"
             ],
             [
              0.6666666666666666,
              "#ed7953"
             ],
             [
              0.7777777777777778,
              "#fb9f3a"
             ],
             [
              0.8888888888888888,
              "#fdca26"
             ],
             [
              1,
              "#f0f921"
             ]
            ],
            "type": "histogram2dcontour"
           }
          ],
          "mesh3d": [
           {
            "colorbar": {
             "outlinewidth": 0,
             "ticks": ""
            },
            "type": "mesh3d"
           }
          ],
          "parcoords": [
           {
            "line": {
             "colorbar": {
              "outlinewidth": 0,
              "ticks": ""
             }
            },
            "type": "parcoords"
           }
          ],
          "pie": [
           {
            "automargin": true,
            "type": "pie"
           }
          ],
          "scatter": [
           {
            "fillpattern": {
             "fillmode": "overlay",
             "size": 10,
             "solidity": 0.2
            },
            "type": "scatter"
           }
          ],
          "scatter3d": [
           {
            "line": {
             "colorbar": {
              "outlinewidth": 0,
              "ticks": ""
             }
            },
            "marker": {
             "colorbar": {
              "outlinewidth": 0,
              "ticks": ""
             }
            },
            "type": "scatter3d"
           }
          ],
          "scattercarpet": [
           {
            "marker": {
             "colorbar": {
              "outlinewidth": 0,
              "ticks": ""
             }
            },
            "type": "scattercarpet"
           }
          ],
          "scattergeo": [
           {
            "marker": {
             "colorbar": {
              "outlinewidth": 0,
              "ticks": ""
             }
            },
            "type": "scattergeo"
           }
          ],
          "scattergl": [
           {
            "marker": {
             "colorbar": {
              "outlinewidth": 0,
              "ticks": ""
             }
            },
            "type": "scattergl"
           }
          ],
          "scattermap": [
           {
            "marker": {
             "colorbar": {
              "outlinewidth": 0,
              "ticks": ""
             }
            },
            "type": "scattermap"
           }
          ],
          "scattermapbox": [
           {
            "marker": {
             "colorbar": {
              "outlinewidth": 0,
              "ticks": ""
             }
            },
            "type": "scattermapbox"
           }
          ],
          "scatterpolar": [
           {
            "marker": {
             "colorbar": {
              "outlinewidth": 0,
              "ticks": ""
             }
            },
            "type": "scatterpolar"
           }
          ],
          "scatterpolargl": [
           {
            "marker": {
             "colorbar": {
              "outlinewidth": 0,
              "ticks": ""
             }
            },
            "type": "scatterpolargl"
           }
          ],
          "scatterternary": [
           {
            "marker": {
             "colorbar": {
              "outlinewidth": 0,
              "ticks": ""
             }
            },
            "type": "scatterternary"
           }
          ],
          "surface": [
           {
            "colorbar": {
             "outlinewidth": 0,
             "ticks": ""
            },
            "colorscale": [
             [
              0,
              "#0d0887"
             ],
             [
              0.1111111111111111,
              "#46039f"
             ],
             [
              0.2222222222222222,
              "#7201a8"
             ],
             [
              0.3333333333333333,
              "#9c179e"
             ],
             [
              0.4444444444444444,
              "#bd3786"
             ],
             [
              0.5555555555555556,
              "#d8576b"
             ],
             [
              0.6666666666666666,
              "#ed7953"
             ],
             [
              0.7777777777777778,
              "#fb9f3a"
             ],
             [
              0.8888888888888888,
              "#fdca26"
             ],
             [
              1,
              "#f0f921"
             ]
            ],
            "type": "surface"
           }
          ],
          "table": [
           {
            "cells": {
             "fill": {
              "color": "#EBF0F8"
             },
             "line": {
              "color": "white"
             }
            },
            "header": {
             "fill": {
              "color": "#C8D4E3"
             },
             "line": {
              "color": "white"
             }
            },
            "type": "table"
           }
          ]
         },
         "layout": {
          "annotationdefaults": {
           "arrowcolor": "#2a3f5f",
           "arrowhead": 0,
           "arrowwidth": 1
          },
          "autotypenumbers": "strict",
          "coloraxis": {
           "colorbar": {
            "outlinewidth": 0,
            "ticks": ""
           }
          },
          "colorscale": {
           "diverging": [
            [
             0,
             "#8e0152"
            ],
            [
             0.1,
             "#c51b7d"
            ],
            [
             0.2,
             "#de77ae"
            ],
            [
             0.3,
             "#f1b6da"
            ],
            [
             0.4,
             "#fde0ef"
            ],
            [
             0.5,
             "#f7f7f7"
            ],
            [
             0.6,
             "#e6f5d0"
            ],
            [
             0.7,
             "#b8e186"
            ],
            [
             0.8,
             "#7fbc41"
            ],
            [
             0.9,
             "#4d9221"
            ],
            [
             1,
             "#276419"
            ]
           ],
           "sequential": [
            [
             0,
             "#0d0887"
            ],
            [
             0.1111111111111111,
             "#46039f"
            ],
            [
             0.2222222222222222,
             "#7201a8"
            ],
            [
             0.3333333333333333,
             "#9c179e"
            ],
            [
             0.4444444444444444,
             "#bd3786"
            ],
            [
             0.5555555555555556,
             "#d8576b"
            ],
            [
             0.6666666666666666,
             "#ed7953"
            ],
            [
             0.7777777777777778,
             "#fb9f3a"
            ],
            [
             0.8888888888888888,
             "#fdca26"
            ],
            [
             1,
             "#f0f921"
            ]
           ],
           "sequentialminus": [
            [
             0,
             "#0d0887"
            ],
            [
             0.1111111111111111,
             "#46039f"
            ],
            [
             0.2222222222222222,
             "#7201a8"
            ],
            [
             0.3333333333333333,
             "#9c179e"
            ],
            [
             0.4444444444444444,
             "#bd3786"
            ],
            [
             0.5555555555555556,
             "#d8576b"
            ],
            [
             0.6666666666666666,
             "#ed7953"
            ],
            [
             0.7777777777777778,
             "#fb9f3a"
            ],
            [
             0.8888888888888888,
             "#fdca26"
            ],
            [
             1,
             "#f0f921"
            ]
           ]
          },
          "colorway": [
           "#636efa",
           "#EF553B",
           "#00cc96",
           "#ab63fa",
           "#FFA15A",
           "#19d3f3",
           "#FF6692",
           "#B6E880",
           "#FF97FF",
           "#FECB52"
          ],
          "font": {
           "color": "#2a3f5f"
          },
          "geo": {
           "bgcolor": "white",
           "lakecolor": "white",
           "landcolor": "#E5ECF6",
           "showlakes": true,
           "showland": true,
           "subunitcolor": "white"
          },
          "hoverlabel": {
           "align": "left"
          },
          "hovermode": "closest",
          "mapbox": {
           "style": "light"
          },
          "paper_bgcolor": "white",
          "plot_bgcolor": "#E5ECF6",
          "polar": {
           "angularaxis": {
            "gridcolor": "white",
            "linecolor": "white",
            "ticks": ""
           },
           "bgcolor": "#E5ECF6",
           "radialaxis": {
            "gridcolor": "white",
            "linecolor": "white",
            "ticks": ""
           }
          },
          "scene": {
           "xaxis": {
            "backgroundcolor": "#E5ECF6",
            "gridcolor": "white",
            "gridwidth": 2,
            "linecolor": "white",
            "showbackground": true,
            "ticks": "",
            "zerolinecolor": "white"
           },
           "yaxis": {
            "backgroundcolor": "#E5ECF6",
            "gridcolor": "white",
            "gridwidth": 2,
            "linecolor": "white",
            "showbackground": true,
            "ticks": "",
            "zerolinecolor": "white"
           },
           "zaxis": {
            "backgroundcolor": "#E5ECF6",
            "gridcolor": "white",
            "gridwidth": 2,
            "linecolor": "white",
            "showbackground": true,
            "ticks": "",
            "zerolinecolor": "white"
           }
          },
          "shapedefaults": {
           "line": {
            "color": "#2a3f5f"
           }
          },
          "ternary": {
           "aaxis": {
            "gridcolor": "white",
            "linecolor": "white",
            "ticks": ""
           },
           "baxis": {
            "gridcolor": "white",
            "linecolor": "white",
            "ticks": ""
           },
           "bgcolor": "#E5ECF6",
           "caxis": {
            "gridcolor": "white",
            "linecolor": "white",
            "ticks": ""
           }
          },
          "title": {
           "x": 0.05
          },
          "xaxis": {
           "automargin": true,
           "gridcolor": "white",
           "linecolor": "white",
           "ticks": "",
           "title": {
            "standoff": 15
           },
           "zerolinecolor": "white",
           "zerolinewidth": 2
          },
          "yaxis": {
           "automargin": true,
           "gridcolor": "white",
           "linecolor": "white",
           "ticks": "",
           "title": {
            "standoff": 15
           },
           "zerolinecolor": "white",
           "zerolinewidth": 2
          }
         }
        },
        "title": {
         "text": "⛽ 연비 vs CO2 배출량 (상관계수: -0.907)"
        },
        "width": 800,
        "xaxis": {
         "anchor": "y",
         "domain": [
          0,
          1
         ],
         "title": {
          "text": "Fuel Consumption Comb (mpg)"
         }
        },
        "yaxis": {
         "anchor": "x",
         "domain": [
          0,
          1
         ],
         "title": {
          "text": "CO2 Emissions(g/km)"
         }
        }
       }
      }
     },
     "metadata": {},
     "output_type": "display_data"
    }
   ],
   "source": [
    "# 상관계수 계산\n",
    "correlation = co2_data['Fuel Consumption Comb (mpg)'].corr(\n",
    "    co2_data['CO2 Emissions(g/km)']\n",
    ")\n",
    "\n",
    "print(f\"📈 연비와 CO2 상관계수: {correlation:.3f}\")\n",
    "\n",
    "# 산점도\n",
    "fig4 = px.scatter(\n",
    "    co2_data,\n",
    "    x='Fuel Consumption Comb (mpg)',\n",
    "    y='CO2 Emissions(g/km)',\n",
    "    color='Vehicle Class',\n",
    "    title=f'⛽ 연비 vs CO2 배출량 (상관계수: {correlation:.3f})',\n",
    "    opacity=0.6\n",
    ")\n",
    "\n",
    "fig4.update_layout(width=800, height=500)\n",
    "fig4.show()"
   ]
  },
  {
   "cell_type": "markdown",
   "metadata": {},
   "source": [
    "## 🌿 시각화 5: 친환경 차량 분석"
   ]
  },
  {
   "cell_type": "code",
   "execution_count": 7,
   "metadata": {},
   "outputs": [
    {
     "name": "stdout",
     "output_type": "stream",
     "text": [
      "🌱 친환경 차량 수: 1493대 (20.2%)\n",
      "🔋 하이브리드 차량 수: 135대\n"
     ]
    },
    {
     "data": {
      "application/vnd.plotly.v1+json": {
       "config": {
        "plotlyServerURL": "https://plot.ly"
       },
       "data": [
        {
         "hovertemplate": "Type=%{x}<br>Avg_CO2=%{marker.color}<extra></extra>",
         "legendgroup": "",
         "marker": {
          "color": {
           "bdata": "61x5QLLOY0Chwty6molvQA==",
           "dtype": "f8"
          },
          "coloraxis": "coloraxis",
          "pattern": {
           "shape": ""
          }
         },
         "name": "",
         "orientation": "v",
         "showlegend": false,
         "text": {
          "bdata": "61x5QLLOY0Chwty6molvQA==",
          "dtype": "f8"
         },
         "textposition": "outside",
         "texttemplate": "%{text:.1f}g/km",
         "type": "bar",
         "x": [
          "Hybrid",
          "Conventional"
         ],
         "xaxis": "x",
         "y": {
          "bdata": "61x5QLLOY0Chwty6molvQA==",
          "dtype": "f8"
         },
         "yaxis": "y"
        }
       ],
       "layout": {
        "barmode": "relative",
        "coloraxis": {
         "colorbar": {
          "title": {
           "text": "Avg_CO2"
          }
         },
         "colorscale": [
          [
           0,
           "rgb(0,104,55)"
          ],
          [
           0.1,
           "rgb(26,152,80)"
          ],
          [
           0.2,
           "rgb(102,189,99)"
          ],
          [
           0.3,
           "rgb(166,217,106)"
          ],
          [
           0.4,
           "rgb(217,239,139)"
          ],
          [
           0.5,
           "rgb(255,255,191)"
          ],
          [
           0.6,
           "rgb(254,224,139)"
          ],
          [
           0.7,
           "rgb(253,174,97)"
          ],
          [
           0.8,
           "rgb(244,109,67)"
          ],
          [
           0.9,
           "rgb(215,48,39)"
          ],
          [
           1,
           "rgb(165,0,38)"
          ]
         ]
        },
        "height": 400,
        "legend": {
         "tracegroupgap": 0
        },
        "template": {
         "data": {
          "bar": [
           {
            "error_x": {
             "color": "#2a3f5f"
            },
            "error_y": {
             "color": "#2a3f5f"
            },
            "marker": {
             "line": {
              "color": "#E5ECF6",
              "width": 0.5
             },
             "pattern": {
              "fillmode": "overlay",
              "size": 10,
              "solidity": 0.2
             }
            },
            "type": "bar"
           }
          ],
          "barpolar": [
           {
            "marker": {
             "line": {
              "color": "#E5ECF6",
              "width": 0.5
             },
             "pattern": {
              "fillmode": "overlay",
              "size": 10,
              "solidity": 0.2
             }
            },
            "type": "barpolar"
           }
          ],
          "carpet": [
           {
            "aaxis": {
             "endlinecolor": "#2a3f5f",
             "gridcolor": "white",
             "linecolor": "white",
             "minorgridcolor": "white",
             "startlinecolor": "#2a3f5f"
            },
            "baxis": {
             "endlinecolor": "#2a3f5f",
             "gridcolor": "white",
             "linecolor": "white",
             "minorgridcolor": "white",
             "startlinecolor": "#2a3f5f"
            },
            "type": "carpet"
           }
          ],
          "choropleth": [
           {
            "colorbar": {
             "outlinewidth": 0,
             "ticks": ""
            },
            "type": "choropleth"
           }
          ],
          "contour": [
           {
            "colorbar": {
             "outlinewidth": 0,
             "ticks": ""
            },
            "colorscale": [
             [
              0,
              "#0d0887"
             ],
             [
              0.1111111111111111,
              "#46039f"
             ],
             [
              0.2222222222222222,
              "#7201a8"
             ],
             [
              0.3333333333333333,
              "#9c179e"
             ],
             [
              0.4444444444444444,
              "#bd3786"
             ],
             [
              0.5555555555555556,
              "#d8576b"
             ],
             [
              0.6666666666666666,
              "#ed7953"
             ],
             [
              0.7777777777777778,
              "#fb9f3a"
             ],
             [
              0.8888888888888888,
              "#fdca26"
             ],
             [
              1,
              "#f0f921"
             ]
            ],
            "type": "contour"
           }
          ],
          "contourcarpet": [
           {
            "colorbar": {
             "outlinewidth": 0,
             "ticks": ""
            },
            "type": "contourcarpet"
           }
          ],
          "heatmap": [
           {
            "colorbar": {
             "outlinewidth": 0,
             "ticks": ""
            },
            "colorscale": [
             [
              0,
              "#0d0887"
             ],
             [
              0.1111111111111111,
              "#46039f"
             ],
             [
              0.2222222222222222,
              "#7201a8"
             ],
             [
              0.3333333333333333,
              "#9c179e"
             ],
             [
              0.4444444444444444,
              "#bd3786"
             ],
             [
              0.5555555555555556,
              "#d8576b"
             ],
             [
              0.6666666666666666,
              "#ed7953"
             ],
             [
              0.7777777777777778,
              "#fb9f3a"
             ],
             [
              0.8888888888888888,
              "#fdca26"
             ],
             [
              1,
              "#f0f921"
             ]
            ],
            "type": "heatmap"
           }
          ],
          "histogram": [
           {
            "marker": {
             "pattern": {
              "fillmode": "overlay",
              "size": 10,
              "solidity": 0.2
             }
            },
            "type": "histogram"
           }
          ],
          "histogram2d": [
           {
            "colorbar": {
             "outlinewidth": 0,
             "ticks": ""
            },
            "colorscale": [
             [
              0,
              "#0d0887"
             ],
             [
              0.1111111111111111,
              "#46039f"
             ],
             [
              0.2222222222222222,
              "#7201a8"
             ],
             [
              0.3333333333333333,
              "#9c179e"
             ],
             [
              0.4444444444444444,
              "#bd3786"
             ],
             [
              0.5555555555555556,
              "#d8576b"
             ],
             [
              0.6666666666666666,
              "#ed7953"
             ],
             [
              0.7777777777777778,
              "#fb9f3a"
             ],
             [
              0.8888888888888888,
              "#fdca26"
             ],
             [
              1,
              "#f0f921"
             ]
            ],
            "type": "histogram2d"
           }
          ],
          "histogram2dcontour": [
           {
            "colorbar": {
             "outlinewidth": 0,
             "ticks": ""
            },
            "colorscale": [
             [
              0,
              "#0d0887"
             ],
             [
              0.1111111111111111,
              "#46039f"
             ],
             [
              0.2222222222222222,
              "#7201a8"
             ],
             [
              0.3333333333333333,
              "#9c179e"
             ],
             [
              0.4444444444444444,
              "#bd3786"
             ],
             [
              0.5555555555555556,
              "#d8576b"
             ],
             [
              0.6666666666666666,
              "#ed7953"
             ],
             [
              0.7777777777777778,
              "#fb9f3a"
             ],
             [
              0.8888888888888888,
              "#fdca26"
             ],
             [
              1,
              "#f0f921"
             ]
            ],
            "type": "histogram2dcontour"
           }
          ],
          "mesh3d": [
           {
            "colorbar": {
             "outlinewidth": 0,
             "ticks": ""
            },
            "type": "mesh3d"
           }
          ],
          "parcoords": [
           {
            "line": {
             "colorbar": {
              "outlinewidth": 0,
              "ticks": ""
             }
            },
            "type": "parcoords"
           }
          ],
          "pie": [
           {
            "automargin": true,
            "type": "pie"
           }
          ],
          "scatter": [
           {
            "fillpattern": {
             "fillmode": "overlay",
             "size": 10,
             "solidity": 0.2
            },
            "type": "scatter"
           }
          ],
          "scatter3d": [
           {
            "line": {
             "colorbar": {
              "outlinewidth": 0,
              "ticks": ""
             }
            },
            "marker": {
             "colorbar": {
              "outlinewidth": 0,
              "ticks": ""
             }
            },
            "type": "scatter3d"
           }
          ],
          "scattercarpet": [
           {
            "marker": {
             "colorbar": {
              "outlinewidth": 0,
              "ticks": ""
             }
            },
            "type": "scattercarpet"
           }
          ],
          "scattergeo": [
           {
            "marker": {
             "colorbar": {
              "outlinewidth": 0,
              "ticks": ""
             }
            },
            "type": "scattergeo"
           }
          ],
          "scattergl": [
           {
            "marker": {
             "colorbar": {
              "outlinewidth": 0,
              "ticks": ""
             }
            },
            "type": "scattergl"
           }
          ],
          "scattermap": [
           {
            "marker": {
             "colorbar": {
              "outlinewidth": 0,
              "ticks": ""
             }
            },
            "type": "scattermap"
           }
          ],
          "scattermapbox": [
           {
            "marker": {
             "colorbar": {
              "outlinewidth": 0,
              "ticks": ""
             }
            },
            "type": "scattermapbox"
           }
          ],
          "scatterpolar": [
           {
            "marker": {
             "colorbar": {
              "outlinewidth": 0,
              "ticks": ""
             }
            },
            "type": "scatterpolar"
           }
          ],
          "scatterpolargl": [
           {
            "marker": {
             "colorbar": {
              "outlinewidth": 0,
              "ticks": ""
             }
            },
            "type": "scatterpolargl"
           }
          ],
          "scatterternary": [
           {
            "marker": {
             "colorbar": {
              "outlinewidth": 0,
              "ticks": ""
             }
            },
            "type": "scatterternary"
           }
          ],
          "surface": [
           {
            "colorbar": {
             "outlinewidth": 0,
             "ticks": ""
            },
            "colorscale": [
             [
              0,
              "#0d0887"
             ],
             [
              0.1111111111111111,
              "#46039f"
             ],
             [
              0.2222222222222222,
              "#7201a8"
             ],
             [
              0.3333333333333333,
              "#9c179e"
             ],
             [
              0.4444444444444444,
              "#bd3786"
             ],
             [
              0.5555555555555556,
              "#d8576b"
             ],
             [
              0.6666666666666666,
              "#ed7953"
             ],
             [
              0.7777777777777778,
              "#fb9f3a"
             ],
             [
              0.8888888888888888,
              "#fdca26"
             ],
             [
              1,
              "#f0f921"
             ]
            ],
            "type": "surface"
           }
          ],
          "table": [
           {
            "cells": {
             "fill": {
              "color": "#EBF0F8"
             },
             "line": {
              "color": "white"
             }
            },
            "header": {
             "fill": {
              "color": "#C8D4E3"
             },
             "line": {
              "color": "white"
             }
            },
            "type": "table"
           }
          ]
         },
         "layout": {
          "annotationdefaults": {
           "arrowcolor": "#2a3f5f",
           "arrowhead": 0,
           "arrowwidth": 1
          },
          "autotypenumbers": "strict",
          "coloraxis": {
           "colorbar": {
            "outlinewidth": 0,
            "ticks": ""
           }
          },
          "colorscale": {
           "diverging": [
            [
             0,
             "#8e0152"
            ],
            [
             0.1,
             "#c51b7d"
            ],
            [
             0.2,
             "#de77ae"
            ],
            [
             0.3,
             "#f1b6da"
            ],
            [
             0.4,
             "#fde0ef"
            ],
            [
             0.5,
             "#f7f7f7"
            ],
            [
             0.6,
             "#e6f5d0"
            ],
            [
             0.7,
             "#b8e186"
            ],
            [
             0.8,
             "#7fbc41"
            ],
            [
             0.9,
             "#4d9221"
            ],
            [
             1,
             "#276419"
            ]
           ],
           "sequential": [
            [
             0,
             "#0d0887"
            ],
            [
             0.1111111111111111,
             "#46039f"
            ],
            [
             0.2222222222222222,
             "#7201a8"
            ],
            [
             0.3333333333333333,
             "#9c179e"
            ],
            [
             0.4444444444444444,
             "#bd3786"
            ],
            [
             0.5555555555555556,
             "#d8576b"
            ],
            [
             0.6666666666666666,
             "#ed7953"
            ],
            [
             0.7777777777777778,
             "#fb9f3a"
            ],
            [
             0.8888888888888888,
             "#fdca26"
            ],
            [
             1,
             "#f0f921"
            ]
           ],
           "sequentialminus": [
            [
             0,
             "#0d0887"
            ],
            [
             0.1111111111111111,
             "#46039f"
            ],
            [
             0.2222222222222222,
             "#7201a8"
            ],
            [
             0.3333333333333333,
             "#9c179e"
            ],
            [
             0.4444444444444444,
             "#bd3786"
            ],
            [
             0.5555555555555556,
             "#d8576b"
            ],
            [
             0.6666666666666666,
             "#ed7953"
            ],
            [
             0.7777777777777778,
             "#fb9f3a"
            ],
            [
             0.8888888888888888,
             "#fdca26"
            ],
            [
             1,
             "#f0f921"
            ]
           ]
          },
          "colorway": [
           "#636efa",
           "#EF553B",
           "#00cc96",
           "#ab63fa",
           "#FFA15A",
           "#19d3f3",
           "#FF6692",
           "#B6E880",
           "#FF97FF",
           "#FECB52"
          ],
          "font": {
           "color": "#2a3f5f"
          },
          "geo": {
           "bgcolor": "white",
           "lakecolor": "white",
           "landcolor": "#E5ECF6",
           "showlakes": true,
           "showland": true,
           "subunitcolor": "white"
          },
          "hoverlabel": {
           "align": "left"
          },
          "hovermode": "closest",
          "mapbox": {
           "style": "light"
          },
          "paper_bgcolor": "white",
          "plot_bgcolor": "#E5ECF6",
          "polar": {
           "angularaxis": {
            "gridcolor": "white",
            "linecolor": "white",
            "ticks": ""
           },
           "bgcolor": "#E5ECF6",
           "radialaxis": {
            "gridcolor": "white",
            "linecolor": "white",
            "ticks": ""
           }
          },
          "scene": {
           "xaxis": {
            "backgroundcolor": "#E5ECF6",
            "gridcolor": "white",
            "gridwidth": 2,
            "linecolor": "white",
            "showbackground": true,
            "ticks": "",
            "zerolinecolor": "white"
           },
           "yaxis": {
            "backgroundcolor": "#E5ECF6",
            "gridcolor": "white",
            "gridwidth": 2,
            "linecolor": "white",
            "showbackground": true,
            "ticks": "",
            "zerolinecolor": "white"
           },
           "zaxis": {
            "backgroundcolor": "#E5ECF6",
            "gridcolor": "white",
            "gridwidth": 2,
            "linecolor": "white",
            "showbackground": true,
            "ticks": "",
            "zerolinecolor": "white"
           }
          },
          "shapedefaults": {
           "line": {
            "color": "#2a3f5f"
           }
          },
          "ternary": {
           "aaxis": {
            "gridcolor": "white",
            "linecolor": "white",
            "ticks": ""
           },
           "baxis": {
            "gridcolor": "white",
            "linecolor": "white",
            "ticks": ""
           },
           "bgcolor": "#E5ECF6",
           "caxis": {
            "gridcolor": "white",
            "linecolor": "white",
            "ticks": ""
           }
          },
          "title": {
           "x": 0.05
          },
          "xaxis": {
           "automargin": true,
           "gridcolor": "white",
           "linecolor": "white",
           "ticks": "",
           "title": {
            "standoff": 15
           },
           "zerolinecolor": "white",
           "zerolinewidth": 2
          },
          "yaxis": {
           "automargin": true,
           "gridcolor": "white",
           "linecolor": "white",
           "ticks": "",
           "title": {
            "standoff": 15
           },
           "zerolinecolor": "white",
           "zerolinewidth": 2
          }
         }
        },
        "title": {
         "text": "🔋 하이브리드 vs 일반 차량 CO2 비교"
        },
        "width": 600,
        "xaxis": {
         "anchor": "y",
         "domain": [
          0,
          1
         ],
         "title": {
          "text": "Type"
         }
        },
        "yaxis": {
         "anchor": "x",
         "domain": [
          0,
          1
         ],
         "title": {
          "text": "Avg_CO2"
         }
        }
       }
      }
     },
     "metadata": {},
     "output_type": "display_data"
    },
    {
     "name": "stdout",
     "output_type": "stream",
     "text": [
      "💚 하이브리드 효과: 93.8 g/km 절약\n"
     ]
    }
   ],
   "source": [
    "# 하이브리드 차량 식별\n",
    "co2_data['Is_Hybrid'] = co2_data['Model'].str.contains('HYBRID', case=False, na=False)\n",
    "\n",
    "# 친환경 차량 (CO2 < 200g/km)\n",
    "eco_friendly = co2_data[co2_data['CO2 Emissions(g/km)'] < 200]\n",
    "\n",
    "print(f\"🌱 친환경 차량 수: {len(eco_friendly)}대 ({len(eco_friendly)/len(co2_data)*100:.1f}%)\")\n",
    "print(f\"🔋 하이브리드 차량 수: {co2_data['Is_Hybrid'].sum()}대\")\n",
    "\n",
    "# 하이브리드 vs 일반 차량 비교\n",
    "hybrid_avg = co2_data[co2_data['Is_Hybrid']]['CO2 Emissions(g/km)'].mean()\n",
    "conventional_avg = co2_data[~co2_data['Is_Hybrid']]['CO2 Emissions(g/km)'].mean()\n",
    "\n",
    "comparison_data = pd.DataFrame({\n",
    "    'Type': ['Hybrid', 'Conventional'],\n",
    "    'Avg_CO2': [hybrid_avg, conventional_avg]\n",
    "})\n",
    "\n",
    "fig5 = px.bar(\n",
    "    comparison_data,\n",
    "    x='Type',\n",
    "    y='Avg_CO2',\n",
    "    title='🔋 하이브리드 vs 일반 차량 CO2 비교',\n",
    "    color='Avg_CO2',\n",
    "    color_continuous_scale='RdYlGn_r',\n",
    "    text='Avg_CO2'\n",
    ")\n",
    "\n",
    "fig5.update_traces(texttemplate='%{text:.1f}g/km', textposition='outside')\n",
    "fig5.update_layout(width=600, height=400)\n",
    "fig5.show()\n",
    "\n",
    "print(f\"💚 하이브리드 효과: {conventional_avg - hybrid_avg:.1f} g/km 절약\")"
   ]
  },
  {
   "cell_type": "markdown",
   "metadata": {},
   "source": [
    "## 🏆 친환경 차량 추천 TOP 10"
   ]
  },
  {
   "cell_type": "code",
   "execution_count": 8,
   "metadata": {},
   "outputs": [
    {
     "name": "stdout",
     "output_type": "stream",
     "text": [
      "\n",
      "🌟 친환경 차량 추천 TOP 10:\n",
      "================================================================================\n",
      "🚗 HYUNDAI IONIQ BLUE - 96g/km - 69mpg\n",
      "🚗 HYUNDAI IONIQ BLUE - 96g/km - 69mpg\n",
      "🚗 HYUNDAI IONIQ Blue - 96g/km - 69mpg\n",
      "🚗 HYUNDAI IONIQ Blue - 96g/km - 69mpg\n",
      "🚗 HYUNDAI IONIQ - 99g/km - 67mpg\n",
      "🚗 HYUNDAI IONIQ - 102g/km - 66mpg\n",
      "🚗 HYUNDAI IONIQ - 103g/km - 64mpg\n",
      "🚗 TOYOTA PRIUS - 104g/km - 63mpg\n",
      "🚗 HYUNDAI IONIQ - 104g/km - 66mpg\n",
      "🚗 TOYOTA PRIUS - 105g/km - 63mpg\n"
     ]
    },
    {
     "data": {
      "application/vnd.microsoft.datawrangler.viewer.v0+json": {
       "columns": [
        {
         "name": "index",
         "rawType": "int64",
         "type": "integer"
        },
        {
         "name": "Make",
         "rawType": "object",
         "type": "string"
        },
        {
         "name": "Model",
         "rawType": "object",
         "type": "string"
        },
        {
         "name": "Vehicle Class",
         "rawType": "object",
         "type": "string"
        },
        {
         "name": "Engine Size(L)",
         "rawType": "float64",
         "type": "float"
        },
        {
         "name": "CO2 Emissions(g/km)",
         "rawType": "int64",
         "type": "integer"
        },
        {
         "name": "Fuel Consumption Comb (mpg)",
         "rawType": "int64",
         "type": "integer"
        },
        {
         "name": "Is_Hybrid",
         "rawType": "bool",
         "type": "boolean"
        }
       ],
       "ref": "605c55f6-0607-4d7f-b548-1a72eb3b21a3",
       "rows": [
        [
         "3824",
         "HYUNDAI",
         "IONIQ BLUE",
         "FULL-SIZE",
         "1.6",
         "96",
         "69",
         "False"
        ],
        [
         "4900",
         "HYUNDAI",
         "IONIQ BLUE",
         "FULL-SIZE",
         "1.6",
         "96",
         "69",
         "False"
        ],
        [
         "5931",
         "HYUNDAI",
         "IONIQ Blue",
         "FULL-SIZE",
         "1.6",
         "96",
         "69",
         "False"
        ],
        [
         "6950",
         "HYUNDAI",
         "IONIQ Blue",
         "FULL-SIZE",
         "1.6",
         "96",
         "69",
         "False"
        ],
        [
         "6949",
         "HYUNDAI",
         "IONIQ",
         "FULL-SIZE",
         "1.6",
         "99",
         "67",
         "False"
        ],
        [
         "4899",
         "HYUNDAI",
         "IONIQ",
         "FULL-SIZE",
         "1.6",
         "102",
         "66",
         "False"
        ],
        [
         "3823",
         "HYUNDAI",
         "IONIQ",
         "FULL-SIZE",
         "1.6",
         "103",
         "64",
         "False"
        ],
        [
         "3229",
         "TOYOTA",
         "PRIUS",
         "MID-SIZE",
         "1.8",
         "104",
         "63",
         "False"
        ],
        [
         "5930",
         "HYUNDAI",
         "IONIQ",
         "FULL-SIZE",
         "1.6",
         "104",
         "66",
         "False"
        ],
        [
         "4297",
         "TOYOTA",
         "PRIUS",
         "MID-SIZE",
         "1.8",
         "105",
         "63",
         "False"
        ]
       ],
       "shape": {
        "columns": 7,
        "rows": 10
       }
      },
      "text/html": [
       "<div>\n",
       "<style scoped>\n",
       "    .dataframe tbody tr th:only-of-type {\n",
       "        vertical-align: middle;\n",
       "    }\n",
       "\n",
       "    .dataframe tbody tr th {\n",
       "        vertical-align: top;\n",
       "    }\n",
       "\n",
       "    .dataframe thead th {\n",
       "        text-align: right;\n",
       "    }\n",
       "</style>\n",
       "<table border=\"1\" class=\"dataframe\">\n",
       "  <thead>\n",
       "    <tr style=\"text-align: right;\">\n",
       "      <th></th>\n",
       "      <th>Make</th>\n",
       "      <th>Model</th>\n",
       "      <th>Vehicle Class</th>\n",
       "      <th>Engine Size(L)</th>\n",
       "      <th>CO2 Emissions(g/km)</th>\n",
       "      <th>Fuel Consumption Comb (mpg)</th>\n",
       "      <th>Is_Hybrid</th>\n",
       "    </tr>\n",
       "  </thead>\n",
       "  <tbody>\n",
       "    <tr>\n",
       "      <th>3824</th>\n",
       "      <td>HYUNDAI</td>\n",
       "      <td>IONIQ BLUE</td>\n",
       "      <td>FULL-SIZE</td>\n",
       "      <td>1.6</td>\n",
       "      <td>96</td>\n",
       "      <td>69</td>\n",
       "      <td>False</td>\n",
       "    </tr>\n",
       "    <tr>\n",
       "      <th>4900</th>\n",
       "      <td>HYUNDAI</td>\n",
       "      <td>IONIQ BLUE</td>\n",
       "      <td>FULL-SIZE</td>\n",
       "      <td>1.6</td>\n",
       "      <td>96</td>\n",
       "      <td>69</td>\n",
       "      <td>False</td>\n",
       "    </tr>\n",
       "    <tr>\n",
       "      <th>5931</th>\n",
       "      <td>HYUNDAI</td>\n",
       "      <td>IONIQ Blue</td>\n",
       "      <td>FULL-SIZE</td>\n",
       "      <td>1.6</td>\n",
       "      <td>96</td>\n",
       "      <td>69</td>\n",
       "      <td>False</td>\n",
       "    </tr>\n",
       "    <tr>\n",
       "      <th>6950</th>\n",
       "      <td>HYUNDAI</td>\n",
       "      <td>IONIQ Blue</td>\n",
       "      <td>FULL-SIZE</td>\n",
       "      <td>1.6</td>\n",
       "      <td>96</td>\n",
       "      <td>69</td>\n",
       "      <td>False</td>\n",
       "    </tr>\n",
       "    <tr>\n",
       "      <th>6949</th>\n",
       "      <td>HYUNDAI</td>\n",
       "      <td>IONIQ</td>\n",
       "      <td>FULL-SIZE</td>\n",
       "      <td>1.6</td>\n",
       "      <td>99</td>\n",
       "      <td>67</td>\n",
       "      <td>False</td>\n",
       "    </tr>\n",
       "    <tr>\n",
       "      <th>4899</th>\n",
       "      <td>HYUNDAI</td>\n",
       "      <td>IONIQ</td>\n",
       "      <td>FULL-SIZE</td>\n",
       "      <td>1.6</td>\n",
       "      <td>102</td>\n",
       "      <td>66</td>\n",
       "      <td>False</td>\n",
       "    </tr>\n",
       "    <tr>\n",
       "      <th>3823</th>\n",
       "      <td>HYUNDAI</td>\n",
       "      <td>IONIQ</td>\n",
       "      <td>FULL-SIZE</td>\n",
       "      <td>1.6</td>\n",
       "      <td>103</td>\n",
       "      <td>64</td>\n",
       "      <td>False</td>\n",
       "    </tr>\n",
       "    <tr>\n",
       "      <th>3229</th>\n",
       "      <td>TOYOTA</td>\n",
       "      <td>PRIUS</td>\n",
       "      <td>MID-SIZE</td>\n",
       "      <td>1.8</td>\n",
       "      <td>104</td>\n",
       "      <td>63</td>\n",
       "      <td>False</td>\n",
       "    </tr>\n",
       "    <tr>\n",
       "      <th>5930</th>\n",
       "      <td>HYUNDAI</td>\n",
       "      <td>IONIQ</td>\n",
       "      <td>FULL-SIZE</td>\n",
       "      <td>1.6</td>\n",
       "      <td>104</td>\n",
       "      <td>66</td>\n",
       "      <td>False</td>\n",
       "    </tr>\n",
       "    <tr>\n",
       "      <th>4297</th>\n",
       "      <td>TOYOTA</td>\n",
       "      <td>PRIUS</td>\n",
       "      <td>MID-SIZE</td>\n",
       "      <td>1.8</td>\n",
       "      <td>105</td>\n",
       "      <td>63</td>\n",
       "      <td>False</td>\n",
       "    </tr>\n",
       "  </tbody>\n",
       "</table>\n",
       "</div>"
      ],
      "text/plain": [
       "         Make       Model Vehicle Class  Engine Size(L)  CO2 Emissions(g/km)  \\\n",
       "3824  HYUNDAI  IONIQ BLUE     FULL-SIZE             1.6                   96   \n",
       "4900  HYUNDAI  IONIQ BLUE     FULL-SIZE             1.6                   96   \n",
       "5931  HYUNDAI  IONIQ Blue     FULL-SIZE             1.6                   96   \n",
       "6950  HYUNDAI  IONIQ Blue     FULL-SIZE             1.6                   96   \n",
       "6949  HYUNDAI       IONIQ     FULL-SIZE             1.6                   99   \n",
       "4899  HYUNDAI       IONIQ     FULL-SIZE             1.6                  102   \n",
       "3823  HYUNDAI       IONIQ     FULL-SIZE             1.6                  103   \n",
       "3229   TOYOTA       PRIUS      MID-SIZE             1.8                  104   \n",
       "5930  HYUNDAI       IONIQ     FULL-SIZE             1.6                  104   \n",
       "4297   TOYOTA       PRIUS      MID-SIZE             1.8                  105   \n",
       "\n",
       "      Fuel Consumption Comb (mpg)  Is_Hybrid  \n",
       "3824                           69      False  \n",
       "4900                           69      False  \n",
       "5931                           69      False  \n",
       "6950                           69      False  \n",
       "6949                           67      False  \n",
       "4899                           66      False  \n",
       "3823                           64      False  \n",
       "3229                           63      False  \n",
       "5930                           66      False  \n",
       "4297                           63      False  "
      ]
     },
     "execution_count": 8,
     "metadata": {},
     "output_type": "execute_result"
    }
   ],
   "source": [
    "# 친환경 차량 TOP 10\n",
    "top_eco = eco_friendly.nsmallest(10, 'CO2 Emissions(g/km)')[\n",
    "    ['Make', 'Model', 'Vehicle Class', 'Engine Size(L)', \n",
    "     'CO2 Emissions(g/km)', 'Fuel Consumption Comb (mpg)', 'Is_Hybrid']\n",
    "].round(1)\n",
    "\n",
    "print(\"\\n🌟 친환경 차량 추천 TOP 10:\")\n",
    "print(\"=\" * 80)\n",
    "for i, row in top_eco.iterrows():\n",
    "    hybrid_mark = \"🔋\" if row['Is_Hybrid'] else \"🚗\"\n",
    "    print(f\"{hybrid_mark} {row['Make']} {row['Model']} - {row['CO2 Emissions(g/km)']}g/km - {row['Fuel Consumption Comb (mpg)']}mpg\")\n",
    "\n",
    "top_eco"
   ]
  },
  {
   "cell_type": "markdown",
   "metadata": {},
   "source": [
    "## 📈 결론 및 인사이트"
   ]
  },
  {
   "cell_type": "code",
   "execution_count": 9,
   "metadata": {},
   "outputs": [
    {
     "name": "stdout",
     "output_type": "stream",
     "text": [
      "\n",
      "✨ 🌱 주요 인사이트 🌱 ✨\n",
      "========================================\n",
      "🏆 가장 친환경 제조사: SMART\n",
      "🌍 전체 평균 CO2: 250.6 g/km\n",
      "♻️ 친환경 차량 비율: 20.2%\n",
      "🔋 하이브리드 평균: 158.5 g/km\n",
      "🚗 일반차량 평균: 252.3 g/km\n",
      "💚 하이브리드 개선효과: 37.2%\n",
      "\n",
      "🎯 환경 보호 권장사항:\n",
      "• 하이브리드 차량 우선 선택\n",
      "• 2.0L 이하 소형 엔진 고려\n",
      "• 연비 30mpg 이상 차량 추천\n",
      "• CO2 200g/km 이하 목표\n"
     ]
    }
   ],
   "source": [
    "print(\"\\n✨ 🌱 주요 인사이트 🌱 ✨\")\n",
    "print(\"=\" * 40)\n",
    "print(f\"🏆 가장 친환경 제조사: {top_15.index[0]}\")\n",
    "print(f\"🌍 전체 평균 CO2: {co2_data['CO2 Emissions(g/km)'].mean():.1f} g/km\")\n",
    "print(f\"♻️ 친환경 차량 비율: {len(eco_friendly)/len(co2_data)*100:.1f}%\")\n",
    "print(f\"🔋 하이브리드 평균: {hybrid_avg:.1f} g/km\")\n",
    "print(f\"🚗 일반차량 평균: {conventional_avg:.1f} g/km\")\n",
    "print(f\"💚 하이브리드 개선효과: {(conventional_avg-hybrid_avg)/conventional_avg*100:.1f}%\")\n",
    "\n",
    "print(\"\\n🎯 환경 보호 권장사항:\")\n",
    "print(\"• 하이브리드 차량 우선 선택\")\n",
    "print(\"• 2.0L 이하 소형 엔진 고려\")\n",
    "print(\"• 연비 30mpg 이상 차량 추천\")\n",
    "print(\"• CO2 200g/km 이하 목표\")"
   ]
  }
 ],
 "metadata": {
  "kernelspec": {
   "display_name": "streamlit_env",
   "language": "python",
   "name": "python3"
  },
  "language_info": {
   "codemirror_mode": {
    "name": "ipython",
    "version": 3
   },
   "file_extension": ".py",
   "mimetype": "text/x-python",
   "name": "python",
   "nbconvert_exporter": "python",
   "pygments_lexer": "ipython3",
   "version": "3.12.1"
  }
 },
 "nbformat": 4,
 "nbformat_minor": 4
}
