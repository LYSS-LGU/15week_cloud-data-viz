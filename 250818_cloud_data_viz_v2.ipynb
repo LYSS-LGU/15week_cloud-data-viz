{
 "cells": [
  {
   "cell_type": "markdown",
   "metadata": {},
   "source": [
    "# 클라우드 기반 데이터 시각화 종합 실습\n",
    "\n",
    "## 실습 내용\n",
    "- Seaborn을 활용한 통계적 시각화\n",
    "- Plotly Dash를 활용한 인터랙티브 대시보드\n",
    "- Folium을 활용한 지도 시각화"
   ]
  },
  {
   "cell_type": "markdown",
   "metadata": {},
   "source": [
    "## 1. 필요한 라이브러리 임포트"
   ]
  },
  {
   "cell_type": "code",
   "execution_count": null,
   "metadata": {},
   "outputs": [],
   "source": [
    "# 데이터 처리 라이브러리\n",
    "import pandas as pd\n",
    "import numpy as np\n",
    "\n",
    "# 시각화 라이브러리\n",
    "import seaborn as sns\n",
    "import matplotlib.pyplot as plt\n",
    "import plotly.express as px\n",
    "import plotly.graph_objects as go\n",
    "from plotly.subplots import make_subplots\n",
    "\n",
    "# 지도 시각화\n",
    "import folium\n",
    "from folium import plugins\n",
    "\n",
    "# 웹 요청\n",
    "import requests\n",
    "from pandas import json_normalize\n",
    "\n",
    "# 경고 메시지 무시\n",
    "import warnings\n",
    "warnings.filterwarnings('ignore')\n",
    "\n",
    "# 시각화 스타일 설정\n",
    "plt.style.use('seaborn-v0_8-darkgrid')\n",
    "sns.set_palette('husl')"
   ]
  },
  {
   "cell_type": "markdown",
   "metadata": {},
   "source": [
    "## 2. Seaborn을 활용한 통계적 시각화"
   ]
  },
  {
   "cell_type": "markdown",
   "metadata": {},
   "source": [
    "### 2.1 데이터 로드 및 탐색"
   ]
  },
  {
   "cell_type": "code",
   "execution_count": null,
   "metadata": {},
   "outputs": [],
   "source": [
    "# Seaborn 내장 데이터셋 확인\n",
    "print(\"사용 가능한 Seaborn 데이터셋:\")\n",
    "print(sns.get_dataset_names()[:10])  # 처음 10개만 표시"
   ]
  },
  {
   "cell_type": "code",
   "execution_count": null,
   "metadata": {},
   "outputs": [],
   "source": [
    "# Tips 데이터셋 로드\n",
    "tips_df = sns.load_dataset('tips')\n",
    "print(\"Tips 데이터셋 정보:\")\n",
    "print(tips_df.info())\n",
    "print(\"\\n첫 5개 행:\")\n",
    "tips_df.head()"
   ]
  },
  {
   "cell_type": "markdown",
   "metadata": {},
   "source": [
    "### 2.2 산점도 (Scatter Plot)"
   ]
  },
  {
   "cell_type": "code",
   "execution_count": null,
   "metadata": {},
   "outputs": [],
   "source": [
    "# 총 금액과 팁의 관계 시각화\n",
    "fig, axes = plt.subplots(1, 2, figsize=(14, 5))\n",
    "\n",
    "# 기본 산점도\n",
    "sns.scatterplot(data=tips_df, x='total_bill', y='tip', ax=axes[0])\n",
    "axes[0].set_title('총 금액 vs 팁', fontsize=14)\n",
    "\n",
    "# 카테고리별 산점도\n",
    "sns.scatterplot(data=tips_df, x='total_bill', y='tip', \n",
    "                hue='sex', size='size', style='time', ax=axes[1])\n",
    "axes[1].set_title('카테고리별 총 금액 vs 팁', fontsize=14)\n",
    "\n",
    "plt.tight_layout()\n",
    "plt.show()"
   ]
  },
  {
   "cell_type": "markdown",
   "metadata": {},
   "source": [
    "### 2.3 회귀 플롯 (Regression Plot)"
   ]
  },
  {
   "cell_type": "code",
   "execution_count": null,
   "metadata": {},
   "outputs": [],
   "source": [
    "# 회귀선과 신뢰구간 시각화\n",
    "fig, axes = plt.subplots(1, 2, figsize=(14, 5))\n",
    "\n",
    "# 전체 데이터 회귀선\n",
    "sns.regplot(data=tips_df, x='total_bill', y='tip', ax=axes[0])\n",
    "axes[0].set_title('회귀선과 95% 신뢰구간', fontsize=14)\n",
    "\n",
    "# 흡연 여부별 회귀선 비교\n",
    "for smoker in ['Yes', 'No']:\n",
    "    subset = tips_df[tips_df['smoker'] == smoker]\n",
    "    sns.regplot(data=subset, x='total_bill', y='tip', \n",
    "                label=f'Smoker: {smoker}', ax=axes[1])\n",
    "axes[1].set_title('흡연 여부별 회귀선 비교', fontsize=14)\n",
    "axes[1].legend()\n",
    "\n",
    "plt.tight_layout()\n",
    "plt.show()"
   ]
  },
  {
   "cell_type": "markdown",
   "metadata": {},
   "source": [
    "### 2.4 박스플롯과 바이올린플롯"
   ]
  },
  {
   "cell_type": "code",
   "execution_count": null,
   "metadata": {},
   "outputs": [],
   "source": [
    "# 요일별 팁 분포 비교\n",
    "fig, axes = plt.subplots(2, 2, figsize=(14, 10))\n",
    "\n",
    "# 박스플롯\n",
    "weekday_order = ['Thur', 'Fri', 'Sat', 'Sun']\n",
    "sns.boxplot(data=tips_df, x='day', y='tip', order=weekday_order, ax=axes[0, 0])\n",
    "axes[0, 0].set_title('요일별 팁 분포 (박스플롯)', fontsize=14)\n",
    "\n",
    "# 바이올린플롯\n",
    "sns.violinplot(data=tips_df, x='day', y='tip', order=weekday_order, ax=axes[0, 1])\n",
    "axes[0, 1].set_title('요일별 팁 분포 (바이올린플롯)', fontsize=14)\n",
    "\n",
    "# 박스플롯 + 스트립플롯\n",
    "sns.boxplot(data=tips_df, x='day', y='tip', order=weekday_order, ax=axes[1, 0])\n",
    "sns.stripplot(data=tips_df, x='day', y='tip', order=weekday_order, \n",
    "              color='black', alpha=0.3, ax=axes[1, 0])\n",
    "axes[1, 0].set_title('박스플롯 + 실제 데이터 포인트', fontsize=14)\n",
    "\n",
    "# 시간대별 요일별 팁 분포\n",
    "sns.boxplot(data=tips_df, x='day', y='tip', hue='time', \n",
    "            order=weekday_order, ax=axes[1, 1])\n",
    "axes[1, 1].set_title('시간대별 요일별 팁 분포', fontsize=14)\n",
    "\n",
    "plt.tight_layout()\n",
    "plt.show()"
   ]
  },
  {
   "cell_type": "markdown",
   "metadata": {},
   "source": [
    "### 2.5 히트맵 (Heatmap)"
   ]
  },
  {
   "cell_type": "code",
   "execution_count": null,
   "metadata": {},
   "outputs": [],
   "source": [
    "# 피벗 테이블 생성 및 히트맵 시각화\n",
    "fig, axes = plt.subplots(1, 2, figsize=(14, 5))\n",
    "\n",
    "# 요일과 파티 크기별 평균 팁\n",
    "pivot_tips = tips_df.pivot_table(values='tip', index='day', columns='size', aggfunc='mean')\n",
    "pivot_tips = pivot_tips.fillna(0)\n",
    "pivot_tips = pivot_tips.reindex(weekday_order)\n",
    "\n",
    "sns.heatmap(pivot_tips, annot=True, fmt='.2f', cmap='YlOrRd', ax=axes[0])\n",
    "axes[0].set_title('요일과 파티 크기별 평균 팁', fontsize=14)\n",
    "\n",
    "# 상관관계 행렬\n",
    "corr_matrix = tips_df[['total_bill', 'tip', 'size']].corr()\n",
    "sns.heatmap(corr_matrix, annot=True, fmt='.3f', cmap='coolwarm', \n",
    "            center=0, vmin=-1, vmax=1, ax=axes[1])\n",
    "axes[1].set_title('변수 간 상관관계', fontsize=14)\n",
    "\n",
    "plt.tight_layout()\n",
    "plt.show()"
   ]
  },
  {
   "cell_type": "markdown",
   "metadata": {},
   "source": [
    "### 2.6 FacetGrid를 활용한 다중 플롯"
   ]
  },
  {
   "cell_type": "code",
   "execution_count": null,
   "metadata": {},
   "outputs": [],
   "source": [
    "# FacetGrid로 다차원 데이터 시각화\n",
    "g = sns.FacetGrid(tips_df, col='time', row='smoker', \n",
    "                  hue='sex', height=4, aspect=1.2)\n",
    "g.map(sns.scatterplot, 'total_bill', 'tip', alpha=0.7)\n",
    "g.add_legend()\n",
    "g.fig.suptitle('시간대와 흡연 여부별 총 금액 vs 팁', fontsize=16, y=1.02)\n",
    "plt.show()"
   ]
  },
  {
   "cell_type": "markdown",
   "metadata": {},
   "source": [
    "## 3. Plotly를 활용한 인터랙티브 시각화"
   ]
  },
  {
   "cell_type": "markdown",
   "metadata": {},
   "source": [
    "### 3.1 인터랙티브 산점도"
   ]
  },
  {
   "cell_type": "code",
   "execution_count": null,
   "metadata": {},
   "outputs": [],
   "source": [
    "# Plotly Express를 활용한 인터랙티브 산점도\n",
    "fig = px.scatter(tips_df, x='total_bill', y='tip',\n",
    "                 color='smoker', size='size', \n",
    "                 hover_data=['day', 'time', 'sex'],\n",
    "                 title='인터랙티브 팁 데이터 분석',\n",
    "                 labels={'total_bill': '총 금액', 'tip': '팁'},\n",
    "                 template='plotly_white')\n",
    "\n",
    "fig.update_layout(width=800, height=500)\n",
    "fig.show()"
   ]
  },
  {
   "cell_type": "markdown",
   "metadata": {},
   "source": [
    "### 3.2 3D 산점도"
   ]
  },
  {
   "cell_type": "code",
   "execution_count": null,
   "metadata": {},
   "outputs": [],
   "source": [
    "# 3D 산점도로 다차원 관계 시각화\n",
    "fig = px.scatter_3d(tips_df, x='total_bill', y='tip', z='size',\n",
    "                    color='time', symbol='smoker',\n",
    "                    title='3D 팁 데이터 분석',\n",
    "                    labels={'total_bill': '총 금액', 'tip': '팁', 'size': '파티 크기'})\n",
    "\n",
    "fig.update_layout(width=800, height=600)\n",
    "fig.show()"
   ]
  },
  {
   "cell_type": "markdown",
   "metadata": {},
   "source": [
    "### 3.3 애니메이션 차트"
   ]
  },
  {
   "cell_type": "code",
   "execution_count": null,
   "metadata": {},
   "outputs": [],
   "source": [
    "# 요일별 애니메이션 산점도\n",
    "# 데이터 준비: 요일 순서 정의\n",
    "tips_df['day_cat'] = pd.Categorical(tips_df['day'], \n",
    "                                     categories=['Thur', 'Fri', 'Sat', 'Sun'], \n",
    "                                     ordered=True)\n",
    "tips_sorted = tips_df.sort_values('day_cat')\n",
    "\n",
    "fig = px.scatter(tips_sorted, x='total_bill', y='tip',\n",
    "                 animation_frame='day', animation_group='day',\n",
    "                 color='time', size='size',\n",
    "                 hover_name='day', hover_data=['sex', 'smoker'],\n",
    "                 title='요일별 팁 패턴 애니메이션',\n",
    "                 range_x=[0, 60], range_y=[0, 12])\n",
    "\n",
    "fig.update_layout(width=800, height=500)\n",
    "fig.show()"
   ]
  },
  {
   "cell_type": "markdown",
   "metadata": {},
   "source": [
    "### 3.4 Dash 대시보드 예제 코드"
   ]
  },
  {
   "cell_type": "code",
   "execution_count": null,
   "metadata": {},
   "outputs": [],
   "source": [
    "# Dash 대시보드 예제 코드 (별도 파일로 실행 필요)\n",
    "dash_code = '''\n",
    "# dash_app.py\n",
    "from dash import Dash, dcc, html, Input, Output, callback\n",
    "import plotly.express as px\n",
    "import pandas as pd\n",
    "\n",
    "# Dash 앱 초기화\n",
    "app = Dash(__name__)\n",
    "\n",
    "# 데이터 로드\n",
    "df = px.data.tips()\n",
    "\n",
    "# 레이아웃 정의\n",
    "app.layout = html.Div([\n",
    "    html.H1('팁 데이터 인터랙티브 대시보드', \n",
    "            style={'text-align': 'center', 'margin-bottom': '30px'}),\n",
    "    \n",
    "    html.Div([\n",
    "        html.Div([\n",
    "            html.Label('요일 선택:'),\n",
    "            dcc.Dropdown(\n",
    "                id='day-dropdown',\n",
    "                options=[{'label': 'All', 'value': 'All'}] + \n",
    "                        [{'label': day, 'value': day} for day in df['day'].unique()],\n",
    "                value='All',\n",
    "                style={'width': '200px'}\n",
    "            )\n",
    "        ], style={'width': '48%', 'display': 'inline-block'}),\n",
    "        \n",
    "        html.Div([\n",
    "            html.Label('시간대 선택:'),\n",
    "            dcc.RadioItems(\n",
    "                id='time-radio',\n",
    "                options=[{'label': 'All', 'value': 'All'}] + \n",
    "                        [{'label': time, 'value': time} for time in df['time'].unique()],\n",
    "                value='All',\n",
    "                inline=True\n",
    "            )\n",
    "        ], style={'width': '48%', 'float': 'right', 'display': 'inline-block'})\n",
    "    ], style={'margin-bottom': '30px'}),\n",
    "    \n",
    "    html.Div([\n",
    "        dcc.Graph(id='scatter-plot', style={'width': '49%', 'display': 'inline-block'}),\n",
    "        dcc.Graph(id='box-plot', style={'width': '49%', 'float': 'right', 'display': 'inline-block'})\n",
    "    ]),\n",
    "    \n",
    "    html.Div([\n",
    "        dcc.Graph(id='histogram', style={'width': '100%'})\n",
    "    ])\n",
    "])\n",
    "\n",
    "# 콜백 함수 정의\n",
    "@callback(\n",
    "    [Output('scatter-plot', 'figure'),\n",
    "     Output('box-plot', 'figure'),\n",
    "     Output('histogram', 'figure')],\n",
    "    [Input('day-dropdown', 'value'),\n",
    "     Input('time-radio', 'value')]\n",
    ")\n",
    "def update_graphs(selected_day, selected_time):\n",
    "    # 데이터 필터링\n",
    "    filtered_df = df.copy()\n",
    "    if selected_day != 'All':\n",
    "        filtered_df = filtered_df[filtered_df['day'] == selected_day]\n",
    "    if selected_time != 'All':\n",
    "        filtered_df = filtered_df[filtered_df['time'] == selected_time]\n",
    "    \n",
    "    # 산점도\n",
    "    scatter_fig = px.scatter(filtered_df, x='total_bill', y='tip',\n",
    "                            color='smoker', size='size',\n",
    "                            title='총 금액 vs 팁',\n",
    "                            template='plotly_white')\n",
    "    \n",
    "    # 박스플롯\n",
    "    box_fig = px.box(filtered_df, x='day', y='tip',\n",
    "                     color='time',\n",
    "                     title='요일별 팁 분포',\n",
    "                     template='plotly_white')\n",
    "    \n",
    "    # 히스토그램\n",
    "    hist_fig = px.histogram(filtered_df, x='tip',\n",
    "                            color='time',\n",
    "                            title='팁 금액 분포',\n",
    "                            nbins=20,\n",
    "                            template='plotly_white')\n",
    "    \n",
    "    return scatter_fig, box_fig, hist_fig\n",
    "\n",
    "if __name__ == '__main__':\n",
    "    app.run_server(debug=True)\n",
    "'''\n",
    "\n",
    "print(\"Dash 대시보드 예제 코드:\")\n",
    "print(\"=\"*50)\n",
    "print(dash_code)\n",
    "print(\"=\"*50)\n",
    "print(\"\\n위 코드를 'dash_app.py' 파일로 저장 후 실행:\")\n",
    "print(\"python dash_app.py\")"
   ]
  },
  {
   "cell_type": "markdown",
   "metadata": {},
   "source": [
    "## 4. Folium을 활용한 지도 시각화"
   ]
  },
  {
   "cell_type": "markdown",
   "metadata": {},
   "source": [
    "### 4.1 기본 지도 생성"
   ]
  },
  {
   "cell_type": "code",
   "execution_count": null,
   "metadata": {},
   "outputs": [],
   "source": [
    "# 서울 시청 좌표로 기본 지도 생성\n",
    "seoul_loc = [37.5662952, 126.9779451]\n",
    "\n",
    "# 기본 지도 생성\n",
    "base_map = folium.Map(\n",
    "    location=seoul_loc,\n",
    "    zoom_start=12,\n",
    "    tiles='OpenStreetMap'\n",
    ")\n",
    "\n",
    "# 마커 추가\n",
    "folium.Marker(\n",
    "    location=seoul_loc,\n",
    "    popup='서울시청',\n",
    "    tooltip='클릭하여 정보 보기',\n",
    "    icon=folium.Icon(color='red', icon='info-sign')\n",
    ").add_to(base_map)\n",
    "\n",
    "# 원형 마커 추가\n",
    "folium.CircleMarker(\n",
    "    location=[37.5665, 126.9780],\n",
    "    radius=50,\n",
    "    popup='서울광장',\n",
    "    color='blue',\n",
    "    fill=True,\n",
    "    fillColor='lightblue'\n",
    ").add_to(base_map)\n",
    "\n",
    "base_map"
   ]
  },
  {
   "cell_type": "markdown",
   "metadata": {},
   "source": [
    "### 4.2 스타벅스 매장 위치 시각화"
   ]
  },
  {
   "cell_type": "code",
   "execution_count": null,
   "metadata": {},
   "outputs": [],
   "source": [
    "# 스타벅스 매장 데이터 수집 함수\n",
    "def get_starbucks_data():\n",
    "    \"\"\"스타벅스 매장 데이터 수집\"\"\"\n",
    "    url = 'https://www.starbucks.co.kr/store/getStore.do?r=8K3XF06R9Q'\n",
    "    \n",
    "    payload = {\n",
    "        'ins_lat': 37.563398,\n",
    "        'ins_lng': 126.9863309,\n",
    "        'p_sido_cd': '01',\n",
    "        'p_gugun_cd': '',\n",
    "        'in_biz_cd': '',\n",
    "        'iend': 100,  # 100개 매장만 가져오기\n",
    "        'set_date': ''\n",
    "    }\n",
    "    \n",
    "    try:\n",
    "        response = requests.post(url, data=payload)\n",
    "        starbucks_data = response.json()\n",
    "        \n",
    "        # 데이터프레임으로 변환\n",
    "        df = json_normalize(starbucks_data, 'list')\n",
    "        \n",
    "        # 필요한 컬럼만 선택\n",
    "        columns = ['s_name', 'doro_address', 'lat', 'lot']\n",
    "        df_filtered = df[columns].copy()\n",
    "        \n",
    "        # 데이터 타입 변환\n",
    "        df_filtered['lat'] = pd.to_numeric(df_filtered['lat'], errors='coerce')\n",
    "        df_filtered['lot'] = pd.to_numeric(df_filtered['lot'], errors='coerce')\n",
    "        \n",
    "        return df_filtered.dropna()\n",
    "    except Exception as e:\n",
    "        print(f\"데이터 수집 오류: {e}\")\n",
    "        # 샘플 데이터 반환\n",
    "        return pd.DataFrame({\n",
    "            's_name': ['역삼점', '강남역점', '신논현점'],\n",
    "            'doro_address': ['서울특별시 강남구 역삼동', '서울특별시 강남구 강남대로', '서울특별시 강남구 논현동'],\n",
    "            'lat': [37.501087, 37.497942, 37.509892],\n",
    "            'lot': [127.043069, 127.027617, 127.031306]\n",
    "        })\n",
    "\n",
    "# 데이터 수집\n",
    "starbucks_df = get_starbucks_data()\n",
    "print(f\"수집된 매장 수: {len(starbucks_df)}\")\n",
    "starbucks_df.head()"
   ]
  },
  {
   "cell_type": "code",
   "execution_count": null,
   "metadata": {},
   "outputs": [],
   "source": [
    "# 스타벅스 매장 지도 시각화\n",
    "starbucks_map = folium.Map(\n",
    "    location=[37.5665, 126.9780],\n",
    "    zoom_start=11,\n",
    "    tiles='CartoDB positron'\n",
    ")\n",
    "\n",
    "# 매장별 마커 추가\n",
    "for idx, row in starbucks_df.iterrows():\n",
    "    folium.Marker(\n",
    "        location=[row['lat'], row['lot']],\n",
    "        popup=folium.Popup(f\"<b>{row['s_name']}</b><br>{row['doro_address']}\", max_width=200),\n",
    "        tooltip=row['s_name'],\n",
    "        icon=folium.Icon(color='green', icon='coffee', prefix='fa')\n",
    "    ).add_to(starbucks_map)\n",
    "\n",
    "# 매장 클러스터 추가\n",
    "from folium.plugins import MarkerCluster\n",
    "\n",
    "marker_cluster = MarkerCluster().add_to(starbucks_map)\n",
    "\n",
    "for idx, row in starbucks_df.iterrows():\n",
    "    folium.Marker(\n",
    "        location=[row['lat'], row['lot']],\n",
    "        popup=row['s_name']\n",
    "    ).add_to(marker_cluster)\n",
    "\n",
    "starbucks_map"
   ]
  },
  {
   "cell_type": "markdown",
   "metadata": {},
   "source": [
    "### 4.3 히트맵 시각화"
   ]
  },
  {
   "cell_type": "code",
   "execution_count": null,
   "metadata": {},
   "outputs": [],
   "source": [
    "# 히트맵을 위한 데이터 준비\n",
    "from folium.plugins import HeatMap\n",
    "\n",
    "# 히트맵 지도 생성\n",
    "heat_map = folium.Map(\n",
    "    location=[37.5665, 126.9780],\n",
    "    zoom_start=11,\n",
    "    tiles='CartoDB dark_matter'\n",
    ")\n",
    "\n",
    "# 히트맵 데이터 준비 (위도, 경도, 가중치)\n",
    "heat_data = [[row['lat'], row['lot'], 1] for idx, row in starbucks_df.iterrows()]\n",
    "\n",
    "# 히트맵 추가\n",
    "HeatMap(heat_data, radius=15).add_to(heat_map)\n",
    "\n",
    "# 타이틀 추가\n",
    "title_html = '''\n",
    "             <h3 align=\"center\" style=\"font-size:20px\"><b>서울 스타벅스 매장 밀집도</b></h3>\n",
    "             '''\n",
    "heat_map.get_root().html.add_child(folium.Element(title_html))\n",
    "\n",
    "heat_map"
   ]
  },
  {
   "cell_type": "markdown",
   "metadata": {},
   "source": [
    "### 4.4 다양한 지도 스타일"
   ]
  },
  {
   "cell_type": "code",
   "execution_count": null,
   "metadata": {},
   "outputs": [],
   "source": [
    "# 다양한 타일 스타일 비교\n",
    "tiles_list = ['OpenStreetMap', 'CartoDB positron', 'CartoDB dark_matter', 'Stamen Terrain']\n",
    "\n",
    "# 2x2 그리드로 지도 생성\n",
    "from IPython.display import HTML\n",
    "\n",
    "html_maps = []\n",
    "for tile in tiles_list:\n",
    "    m = folium.Map(location=[37.5665, 126.9780], zoom_start=10, tiles=tile, width='50%', height='300px')\n",
    "    folium.Marker(location=[37.5665, 126.9780], popup=f'{tile} Style').add_to(m)\n",
    "    html_maps.append(m._repr_html_())\n",
    "\n",
    "# HTML로 결합하여 표시\n",
    "combined_html = f'''\n",
    "<div style=\"display: grid; grid-template-columns: 1fr 1fr; gap: 10px;\">\n",
    "    <div>{html_maps[0]}</div>\n",
    "    <div>{html_maps[1]}</div>\n",
    "    <div>{html_maps[2]}</div>\n",
    "    <div>{html_maps[3]}</div>\n",
    "</div>\n",
    "'''\n",
    "\n",
    "HTML(combined_html)"
   ]
  },
  {
   "cell_type": "markdown",
   "metadata": {},
   "source": [
    "## 5. 종합 실습: 대화형 대시보드 구성"
   ]
  },
  {
   "cell_type": "code",
   "execution_count": null,
   "metadata": {},
   "outputs": [],
   "source": [
    "# Plotly Subplots를 활용한 대시보드\n",
    "from plotly.subplots import make_subplots\n",
    "import plotly.graph_objects as go\n",
    "\n",
    "# 서브플롯 생성\n",
    "fig = make_subplots(\n",
    "    rows=2, cols=2,\n",
    "    subplot_titles=('산점도', '박스플롯', '히스토그램', '파이차트'),\n",
    "    specs=[[{'type': 'scatter'}, {'type': 'box'}],\n",
    "           [{'type': 'histogram'}, {'type': 'pie'}]]\n",
    ")\n",
    "\n",
    "# 1. 산점도\n",
    "fig.add_trace(\n",
    "    go.Scatter(x=tips_df['total_bill'], y=tips_df['tip'],\n",
    "               mode='markers',\n",
    "               marker=dict(color=tips_df['size'], colorscale='Viridis', showscale=True),\n",
    "               text=tips_df['day'],\n",
    "               name='Tips'),\n",
    "    row=1, col=1\n",
    ")\n",
    "\n",
    "# 2. 박스플롯\n",
    "for day in tips_df['day'].unique():\n",
    "    day_data = tips_df[tips_df['day'] == day]['tip']\n",
    "    fig.add_trace(\n",
    "        go.Box(y=day_data, name=day),\n",
    "        row=1, col=2\n",
    "    )\n",
    "\n",
    "# 3. 히스토그램\n",
    "fig.add_trace(\n",
    "    go.Histogram(x=tips_df['tip'], nbinsx=20, name='Tip Distribution'),\n",
    "    row=2, col=1\n",
    ")\n",
    "\n",
    "# 4. 파이차트\n",
    "day_counts = tips_df['day'].value_counts()\n",
    "fig.add_trace(\n",
    "    go.Pie(labels=day_counts.index, values=day_counts.values),\n",
    "    row=2, col=2\n",
    ")\n",
    "\n",
    "# 레이아웃 업데이트\n",
    "fig.update_layout(\n",
    "    title_text=\"팁 데이터 종합 대시보드\",\n",
    "    showlegend=False,\n",
    "    height=700,\n",
    "    template='plotly_white'\n",
    ")\n",
    "\n",
    "# 축 레이블 추가\n",
    "fig.update_xaxes(title_text=\"총 금액\", row=1, col=1)\n",
    "fig.update_yaxes(title_text=\"팁\", row=1, col=1)\n",
    "fig.update_yaxes(title_text=\"팁 금액\", row=1, col=2)\n",
    "fig.update_xaxes(title_text=\"팁 금액\", row=2, col=1)\n",
    "fig.update_yaxes(title_text=\"빈도\", row=2, col=1)\n",
    "\n",
    "fig.show()"
   ]
  },
  {
   "cell_type": "markdown",
   "metadata": {},
   "source": [
    "## 6. 실습 요약 및 정리"
   ]
  },
  {
   "cell_type": "markdown",
   "metadata": {},
   "source": [
    "### 학습한 내용 정리\n",
    "\n",
    "#### 1. **Seaborn**\n",
    "- 통계적 데이터 시각화에 특화\n",
    "- 다양한 플롯 유형: 산점도, 회귀플롯, 박스플롯, 바이올린플롯, 히트맵\n",
    "- FacetGrid를 통한 다차원 데이터 시각화\n",
    "- Pandas 데이터프레임과의 뛰어난 통합성\n",
    "\n",
    "#### 2. **Plotly**\n",
    "- 인터랙티브 시각화 구현\n",
    "- 3D 시각화 및 애니메이션 지원\n",
    "- Dash를 통한 웹 대시보드 구축\n",
    "- 다양한 차트 유형과 커스터마이징 옵션\n",
    "\n",
    "#### 3. **Folium**\n",
    "- 지도 기반 데이터 시각화\n",
    "- 마커, 팝업, 툴팁 추가\n",
    "- 히트맵과 클러스터링\n",
    "- 다양한 지도 타일 스타일\n",
    "\n",
    "### 실무 활용 팁\n",
    "\n",
    "1. **데이터 탐색 단계**: Seaborn으로 빠른 시각화와 통계 분석\n",
    "2. **프레젠테이션**: Plotly로 인터랙티브 차트 생성\n",
    "3. **웹 배포**: Dash나 Streamlit으로 대시보드 구축\n",
    "4. **지리 데이터**: Folium으로 위치 기반 분석\n",
    "\n",
    "### 다음 단계\n",
    "\n",
    "- Streamlit을 활용한 웹 앱 배포\n",
    "- 실제 데이터셋을 활용한 프로젝트\n",
    "- 머신러닝 결과 시각화\n",
    "- 실시간 데이터 모니터링 대시보드 구축"
   ]
  }
 ],
 "metadata": {
  "kernelspec": {
   "display_name": "Python 3",
   "language": "python",
   "name": "python3"
  },
  "language_info": {
   "codemirror_mode": {
    "name": "ipython",
    "version": 3
   },
   "file_extension": ".py",
   "mimetype": "text/x-python",
   "name": "python",
   "nbconvert_exporter": "python",
   "pygments_lexer": "ipython3",
   "version": "3.9.0"
  }
 },
 "nbformat": 4,
 "nbformat_minor": 4
}
